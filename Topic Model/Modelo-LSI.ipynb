{
 "cells": [
  {
   "cell_type": "code",
   "execution_count": 4,
   "id": "aging-class",
   "metadata": {},
   "outputs": [
    {
     "name": "stdout",
     "output_type": "stream",
     "text": [
      "Creation of the directory ../Experimentos Modelos/LSI/exp-70521/ failed\n"
     ]
    }
   ],
   "source": [
    "from pycaret.nlp import *\n",
    "import cargar_corpus\n",
    "import pickle\n",
    "\n",
    "\n",
    "session_id = 70521\n",
    "random_state = session_id\n",
    "\n",
    "import os\n",
    "# define the name of the directory to be created\n",
    "path = \"../Experimentos Modelos/LSI/\" + \"exp-\" + str(session_id) +\"/\"\n",
    "\n",
    "try:\n",
    "    os.mkdir(path)\n",
    "except OSError:\n",
    "    print (\"Creation of the directory %s failed\" % path)\n",
    "else:\n",
    "    print (\"Successfully created the directory %s \" % path)\n",
    "    \n",
    "\n",
    "#ruta_dataset = \"../Dataset/PDF\"\n",
    "#ruta_dataset = \"F:/Memoria/Dataset/PDF\"\n",
    "ruta_modelo = path + \"LSI-Model\"\n",
    "\n",
    "#dataframe = cargar_corpus.getDataframe_pdf(ruta_dataset)\n",
    "#data = dataframe\n",
    "#sample = int(dataframe.shape[0]*.8)\n",
    "#data = dataframe.sample(sample, random_state=random_state).reset_index(drop=True)\n",
    "#data_unseen = dataframe.drop(data.index).reset_index(drop=True)\n",
    "\n",
    "\n",
    "#Cargar DF de pdf's\n",
    "\n",
    "path_exp = \"../Modelo Final/dataset/\"\n",
    "data_train_dir = path_exp + \"data_train.df\"\n",
    "data_test_dir = path_exp + \"data_test.df\"\n",
    "\n",
    "data = pickle.load(open(data_train_dir, 'rb'))\n",
    "data_unseen = pickle.load(open(data_test_dir, 'rb'))"
   ]
  },
  {
   "cell_type": "code",
   "execution_count": 2,
   "id": "frank-portugal",
   "metadata": {},
   "outputs": [],
   "source": [
    "custom_stopwords = ['use', 'fig', 'figure' , 'value', 'www', 'org', 'also', 'model', 'ch', 'er_al', 'research', 'researchgate_net', 'year', \n",
    "                    'upwelle','however', 'ca','slr','area','sir','reference','page','may','table','show','study',\n",
    "                    'therefore','thus','may','term','low','sample','result','test','author','prepare','report','que','set',\n",
    "                    'column','moreover','find','read','total','author_funder_granted_biorxiv','holder_preprint_peer_reviewe',\n",
    "                    'licence_display_preprint_perpetuity','rights_reserved_reuse_allowe','biorxiv_preprint_first_poste',\n",
    "                    'content_courtesy_springer_nature','terms_apply_rights_reserve','university_chicago_press','conditions_http_journal',\n",
    "                    'content_downloaded_march_subject','reviews_aquaculture_author','reviews_aquaculture_published_john','publication',\n",
    "                    'time','funder_granted_biorxiv_license','display_preprint_perpetuity_right','authors_publication_working_relate',\n",
    "                    'reserved_reuse_allowed_without',\n",
    "                    'user_requested_enhancement_downloaded','view_project_content_followe','upload','international_license_permit',\n",
    "                    'sharing_adaptation_distribution_reproduction','claims_published_maps_institutional',\n",
    "                    'creative_commons_license','intended_permitted_statutory_regulation','exceeds_permitted_need','open_acces_article_license',\n",
    "                    'creative_commons_attribution','international_license_permit','copyright_holder_view','preprints_preprints_peer_reviewe',\n",
    "                    'preprint','posted_june_doi','university_concepcion_publications_citation','deem',\n",
    "                    'publications_citations_publications_citation','authors_working_related_projects','synthesis','introduction','owe',\n",
    "                    'scientific','average','september_user_requeste','source','type','old','field','single','day',\n",
    "                    'https_researchgate_net','victor_roberto_parra_sanchez','university_concepcion','universidad','related_project',\n",
    "                    'view_project','january_user_requested','profile','student', 'manuel', 'professor_department','dynamic', 'calculation',\n",
    "                    'general', 'context', 'valid', 'experimental','eq','email','citations_reads_authors_include',         \n",
    "                    \n",
    "                    \n",
    "                    'article', 'technology', 'citations_reads_authors_include', 'university_concepcion_publications_citation', \n",
    "                    'katia_saez_university_concepcion','katia_saez_university_publication',\n",
    "                    'authors_working_related_project', 'view_project_content_following', 'puerto', 'file', 'registered_office_mortimer_house',\n",
    "                    'wt', 'environmental', 'detail', 'include', 'instruction', 'authors_subscription', 'information', 'doi_citations_read',\n",
    "                    'authors_include',\n",
    "                    'faculty', 'department','whatsoever_howsoever_cause', 'arising_directly_indirectly','access', 'found_http_tandfonline',\n",
    "                    'com', 'condition','received_august_accepte','concepcion','box', 'plot',\n",
    "                    \n",
    "                    'able', 'others','above-mentioned otherwise','accordingly', 'overall','across', 'rather','along', 'remarkably','already',\n",
    "                    'significantly', 'alternatively simply','always sometimes','among specifically','and','or', 'straight', 'forward','anything',\n",
    "                    'substantially', 'anywhere', 'thereafter','better', 'therebetween','disclosure', 'therefor','due','therefrom', 'easily', 'therein', 'easy',\n",
    "                    'thereinto+','eg', 'thereon', 'either', 'therethrough','university','whatsoever','distribution_form_anyone',\n",
    "                    'expressly_forbidden','follow', 'additionally', 'analysis','distribution',\n",
    "                    'elsewhere', 'therewith','enough','together','especially', 'toward',  'essentially', 'towards','et al','typical', 'etc', 'typically',\n",
    "                    'eventually', 'upon', 'excellent', 'via', 'finally', 'vice versa',\n",
    "                    'furthermore', 'whatever','good', 'whereas','hence', 'whereat','he','she', 'wherever','him','her', 'whether','his','her',\n",
    "                    'whose','ie', 'within', 'ii', 'without', 'iii', 'yet', 'instead', 'later', 'like', 'little', 'many', 'may', 'meanwhile',\n",
    "                    'might','moreover','much','must','never','often','line','phase','cycle',\n",
    "                    \n",
    "                    'increase', 'effect', 'induce', 'activity', 'estimate', 'high', 'unit', 'download', 'material', 'follow', 'example', 'level', \n",
    "                    'variable', 'see', 'present', 'citation', 'distribution', 'equation', 'document', 'paper', 'citation_recomendation', 'pag',\n",
    "                    'stre', 'non', 'enchufetv', 'solution', 'problem', 'method', 'function', 'case', 'consider', 'order', 'give', 'obtain', 'theorem',\n",
    "                    'define','process','system', 'section', 'numerical', 'first', 'second', 'error', 'base', 'element',\n",
    "                    'item', 'measurement','could', 'need', 'datum', 'image', 'let', 'assume', 'proof', 'denote', 'constant', 'unknown',\n",
    "\n",
    "                    'review', 'publish', 'copyright', 'abstract', 'factor', \n",
    "\n",
    "                    \n",
    "                    \n",
    "]"
   ]
  },
  {
   "cell_type": "code",
   "execution_count": 3,
   "id": "focal-assistant",
   "metadata": {},
   "outputs": [
    {
     "data": {
      "text/html": [
       "<style  type=\"text/css\" >\n",
       "</style><table id=\"T_68b05_\" ><thead>    <tr>        <th class=\"col_heading level0 col0\" >Description</th>        <th class=\"col_heading level0 col1\" >Value</th>    </tr></thead><tbody>\n",
       "                <tr>\n",
       "                                <td id=\"T_68b05_row0_col0\" class=\"data row0 col0\" >session_id</td>\n",
       "                        <td id=\"T_68b05_row0_col1\" class=\"data row0 col1\" >70521</td>\n",
       "            </tr>\n",
       "            <tr>\n",
       "                                <td id=\"T_68b05_row1_col0\" class=\"data row1 col0\" >Documents</td>\n",
       "                        <td id=\"T_68b05_row1_col1\" class=\"data row1 col1\" >969</td>\n",
       "            </tr>\n",
       "            <tr>\n",
       "                                <td id=\"T_68b05_row2_col0\" class=\"data row2 col0\" >Vocab Size</td>\n",
       "                        <td id=\"T_68b05_row2_col1\" class=\"data row2 col1\" >78899</td>\n",
       "            </tr>\n",
       "            <tr>\n",
       "                                <td id=\"T_68b05_row3_col0\" class=\"data row3 col0\" >Custom Stopwords</td>\n",
       "                        <td id=\"T_68b05_row3_col1\" class=\"data row3 col1\" >True</td>\n",
       "            </tr>\n",
       "    </tbody></table>"
      ],
      "text/plain": [
       "<pandas.io.formats.style.Styler at 0x15f67c3a908>"
      ]
     },
     "metadata": {},
     "output_type": "display_data"
    },
    {
     "data": {
      "application/vnd.jupyter.widget-view+json": {
       "model_id": "",
       "version_major": 2,
       "version_minor": 0
      },
      "text/plain": [
       "IntProgress(value=0, description='Processing: ', max=24)"
      ]
     },
     "metadata": {},
     "output_type": "display_data"
    },
    {
     "data": {
      "application/vnd.jupyter.widget-view+json": {
       "model_id": "11b33fe184784df091bb5cdff1475707",
       "version_major": 2,
       "version_minor": 0
      },
      "text/plain": [
       "Output()"
      ]
     },
     "metadata": {},
     "output_type": "display_data"
    },
    {
     "data": {
      "text/html": [
       "        <script type=\"text/javascript\">\n",
       "        window.PlotlyConfig = {MathJaxConfig: 'local'};\n",
       "        if (window.MathJax) {MathJax.Hub.Config({SVG: {font: \"STIX-Web\"}});}\n",
       "        if (typeof require !== 'undefined') {\n",
       "        require.undef(\"plotly\");\n",
       "        requirejs.config({\n",
       "            paths: {\n",
       "                'plotly': ['https://cdn.plot.ly/plotly-latest.min']\n",
       "            }\n",
       "        });\n",
       "        require(['plotly'], function(Plotly) {\n",
       "            window._Plotly = Plotly;\n",
       "        });\n",
       "        }\n",
       "        </script>\n",
       "        "
      ]
     },
     "metadata": {},
     "output_type": "display_data"
    },
    {
     "data": {
      "application/vnd.plotly.v1+json": {
       "config": {
        "plotlyServerURL": "https://plot.ly"
       },
       "data": [
        {
         "hovertemplate": "Metric=Coherence<br># Topics=%{x}<br>Score=%{y}<extra></extra>",
         "legendgroup": "Coherence",
         "line": {
          "color": "#636efa",
          "dash": "solid",
          "shape": "linear"
         },
         "mode": "lines",
         "name": "Coherence",
         "orientation": "v",
         "showlegend": true,
         "type": "scatter",
         "x": [
          2,
          4,
          6,
          8,
          10,
          12,
          14,
          16,
          18,
          20,
          22,
          24,
          26,
          28
         ],
         "xaxis": "x",
         "y": [
          0.5100827920988025,
          0.5496949671992829,
          0.4886453937368729,
          0.4610638594688914,
          0.45620205350439236,
          0.43719555899656687,
          0.4365082134806841,
          0.4284919073048913,
          0.4021433189980029,
          0.3996707506190441,
          0.36807779866506096,
          0.37017778732729595,
          0.37828458244163066,
          0.3396818362501334
         ],
         "yaxis": "y"
        }
       ],
       "layout": {
        "legend": {
         "title": {
          "text": "Metric"
         },
         "tracegroupgap": 0
        },
        "plot_bgcolor": "rgb(245,245,245)",
        "template": {
         "data": {
          "bar": [
           {
            "error_x": {
             "color": "#2a3f5f"
            },
            "error_y": {
             "color": "#2a3f5f"
            },
            "marker": {
             "line": {
              "color": "#E5ECF6",
              "width": 0.5
             }
            },
            "type": "bar"
           }
          ],
          "barpolar": [
           {
            "marker": {
             "line": {
              "color": "#E5ECF6",
              "width": 0.5
             }
            },
            "type": "barpolar"
           }
          ],
          "carpet": [
           {
            "aaxis": {
             "endlinecolor": "#2a3f5f",
             "gridcolor": "white",
             "linecolor": "white",
             "minorgridcolor": "white",
             "startlinecolor": "#2a3f5f"
            },
            "baxis": {
             "endlinecolor": "#2a3f5f",
             "gridcolor": "white",
             "linecolor": "white",
             "minorgridcolor": "white",
             "startlinecolor": "#2a3f5f"
            },
            "type": "carpet"
           }
          ],
          "choropleth": [
           {
            "colorbar": {
             "outlinewidth": 0,
             "ticks": ""
            },
            "type": "choropleth"
           }
          ],
          "contour": [
           {
            "colorbar": {
             "outlinewidth": 0,
             "ticks": ""
            },
            "colorscale": [
             [
              0,
              "#0d0887"
             ],
             [
              0.1111111111111111,
              "#46039f"
             ],
             [
              0.2222222222222222,
              "#7201a8"
             ],
             [
              0.3333333333333333,
              "#9c179e"
             ],
             [
              0.4444444444444444,
              "#bd3786"
             ],
             [
              0.5555555555555556,
              "#d8576b"
             ],
             [
              0.6666666666666666,
              "#ed7953"
             ],
             [
              0.7777777777777778,
              "#fb9f3a"
             ],
             [
              0.8888888888888888,
              "#fdca26"
             ],
             [
              1,
              "#f0f921"
             ]
            ],
            "type": "contour"
           }
          ],
          "contourcarpet": [
           {
            "colorbar": {
             "outlinewidth": 0,
             "ticks": ""
            },
            "type": "contourcarpet"
           }
          ],
          "heatmap": [
           {
            "colorbar": {
             "outlinewidth": 0,
             "ticks": ""
            },
            "colorscale": [
             [
              0,
              "#0d0887"
             ],
             [
              0.1111111111111111,
              "#46039f"
             ],
             [
              0.2222222222222222,
              "#7201a8"
             ],
             [
              0.3333333333333333,
              "#9c179e"
             ],
             [
              0.4444444444444444,
              "#bd3786"
             ],
             [
              0.5555555555555556,
              "#d8576b"
             ],
             [
              0.6666666666666666,
              "#ed7953"
             ],
             [
              0.7777777777777778,
              "#fb9f3a"
             ],
             [
              0.8888888888888888,
              "#fdca26"
             ],
             [
              1,
              "#f0f921"
             ]
            ],
            "type": "heatmap"
           }
          ],
          "heatmapgl": [
           {
            "colorbar": {
             "outlinewidth": 0,
             "ticks": ""
            },
            "colorscale": [
             [
              0,
              "#0d0887"
             ],
             [
              0.1111111111111111,
              "#46039f"
             ],
             [
              0.2222222222222222,
              "#7201a8"
             ],
             [
              0.3333333333333333,
              "#9c179e"
             ],
             [
              0.4444444444444444,
              "#bd3786"
             ],
             [
              0.5555555555555556,
              "#d8576b"
             ],
             [
              0.6666666666666666,
              "#ed7953"
             ],
             [
              0.7777777777777778,
              "#fb9f3a"
             ],
             [
              0.8888888888888888,
              "#fdca26"
             ],
             [
              1,
              "#f0f921"
             ]
            ],
            "type": "heatmapgl"
           }
          ],
          "histogram": [
           {
            "marker": {
             "colorbar": {
              "outlinewidth": 0,
              "ticks": ""
             }
            },
            "type": "histogram"
           }
          ],
          "histogram2d": [
           {
            "colorbar": {
             "outlinewidth": 0,
             "ticks": ""
            },
            "colorscale": [
             [
              0,
              "#0d0887"
             ],
             [
              0.1111111111111111,
              "#46039f"
             ],
             [
              0.2222222222222222,
              "#7201a8"
             ],
             [
              0.3333333333333333,
              "#9c179e"
             ],
             [
              0.4444444444444444,
              "#bd3786"
             ],
             [
              0.5555555555555556,
              "#d8576b"
             ],
             [
              0.6666666666666666,
              "#ed7953"
             ],
             [
              0.7777777777777778,
              "#fb9f3a"
             ],
             [
              0.8888888888888888,
              "#fdca26"
             ],
             [
              1,
              "#f0f921"
             ]
            ],
            "type": "histogram2d"
           }
          ],
          "histogram2dcontour": [
           {
            "colorbar": {
             "outlinewidth": 0,
             "ticks": ""
            },
            "colorscale": [
             [
              0,
              "#0d0887"
             ],
             [
              0.1111111111111111,
              "#46039f"
             ],
             [
              0.2222222222222222,
              "#7201a8"
             ],
             [
              0.3333333333333333,
              "#9c179e"
             ],
             [
              0.4444444444444444,
              "#bd3786"
             ],
             [
              0.5555555555555556,
              "#d8576b"
             ],
             [
              0.6666666666666666,
              "#ed7953"
             ],
             [
              0.7777777777777778,
              "#fb9f3a"
             ],
             [
              0.8888888888888888,
              "#fdca26"
             ],
             [
              1,
              "#f0f921"
             ]
            ],
            "type": "histogram2dcontour"
           }
          ],
          "mesh3d": [
           {
            "colorbar": {
             "outlinewidth": 0,
             "ticks": ""
            },
            "type": "mesh3d"
           }
          ],
          "parcoords": [
           {
            "line": {
             "colorbar": {
              "outlinewidth": 0,
              "ticks": ""
             }
            },
            "type": "parcoords"
           }
          ],
          "pie": [
           {
            "automargin": true,
            "type": "pie"
           }
          ],
          "scatter": [
           {
            "marker": {
             "colorbar": {
              "outlinewidth": 0,
              "ticks": ""
             }
            },
            "type": "scatter"
           }
          ],
          "scatter3d": [
           {
            "line": {
             "colorbar": {
              "outlinewidth": 0,
              "ticks": ""
             }
            },
            "marker": {
             "colorbar": {
              "outlinewidth": 0,
              "ticks": ""
             }
            },
            "type": "scatter3d"
           }
          ],
          "scattercarpet": [
           {
            "marker": {
             "colorbar": {
              "outlinewidth": 0,
              "ticks": ""
             }
            },
            "type": "scattercarpet"
           }
          ],
          "scattergeo": [
           {
            "marker": {
             "colorbar": {
              "outlinewidth": 0,
              "ticks": ""
             }
            },
            "type": "scattergeo"
           }
          ],
          "scattergl": [
           {
            "marker": {
             "colorbar": {
              "outlinewidth": 0,
              "ticks": ""
             }
            },
            "type": "scattergl"
           }
          ],
          "scattermapbox": [
           {
            "marker": {
             "colorbar": {
              "outlinewidth": 0,
              "ticks": ""
             }
            },
            "type": "scattermapbox"
           }
          ],
          "scatterpolar": [
           {
            "marker": {
             "colorbar": {
              "outlinewidth": 0,
              "ticks": ""
             }
            },
            "type": "scatterpolar"
           }
          ],
          "scatterpolargl": [
           {
            "marker": {
             "colorbar": {
              "outlinewidth": 0,
              "ticks": ""
             }
            },
            "type": "scatterpolargl"
           }
          ],
          "scatterternary": [
           {
            "marker": {
             "colorbar": {
              "outlinewidth": 0,
              "ticks": ""
             }
            },
            "type": "scatterternary"
           }
          ],
          "surface": [
           {
            "colorbar": {
             "outlinewidth": 0,
             "ticks": ""
            },
            "colorscale": [
             [
              0,
              "#0d0887"
             ],
             [
              0.1111111111111111,
              "#46039f"
             ],
             [
              0.2222222222222222,
              "#7201a8"
             ],
             [
              0.3333333333333333,
              "#9c179e"
             ],
             [
              0.4444444444444444,
              "#bd3786"
             ],
             [
              0.5555555555555556,
              "#d8576b"
             ],
             [
              0.6666666666666666,
              "#ed7953"
             ],
             [
              0.7777777777777778,
              "#fb9f3a"
             ],
             [
              0.8888888888888888,
              "#fdca26"
             ],
             [
              1,
              "#f0f921"
             ]
            ],
            "type": "surface"
           }
          ],
          "table": [
           {
            "cells": {
             "fill": {
              "color": "#EBF0F8"
             },
             "line": {
              "color": "white"
             }
            },
            "header": {
             "fill": {
              "color": "#C8D4E3"
             },
             "line": {
              "color": "white"
             }
            },
            "type": "table"
           }
          ]
         },
         "layout": {
          "annotationdefaults": {
           "arrowcolor": "#2a3f5f",
           "arrowhead": 0,
           "arrowwidth": 1
          },
          "autotypenumbers": "strict",
          "coloraxis": {
           "colorbar": {
            "outlinewidth": 0,
            "ticks": ""
           }
          },
          "colorscale": {
           "diverging": [
            [
             0,
             "#8e0152"
            ],
            [
             0.1,
             "#c51b7d"
            ],
            [
             0.2,
             "#de77ae"
            ],
            [
             0.3,
             "#f1b6da"
            ],
            [
             0.4,
             "#fde0ef"
            ],
            [
             0.5,
             "#f7f7f7"
            ],
            [
             0.6,
             "#e6f5d0"
            ],
            [
             0.7,
             "#b8e186"
            ],
            [
             0.8,
             "#7fbc41"
            ],
            [
             0.9,
             "#4d9221"
            ],
            [
             1,
             "#276419"
            ]
           ],
           "sequential": [
            [
             0,
             "#0d0887"
            ],
            [
             0.1111111111111111,
             "#46039f"
            ],
            [
             0.2222222222222222,
             "#7201a8"
            ],
            [
             0.3333333333333333,
             "#9c179e"
            ],
            [
             0.4444444444444444,
             "#bd3786"
            ],
            [
             0.5555555555555556,
             "#d8576b"
            ],
            [
             0.6666666666666666,
             "#ed7953"
            ],
            [
             0.7777777777777778,
             "#fb9f3a"
            ],
            [
             0.8888888888888888,
             "#fdca26"
            ],
            [
             1,
             "#f0f921"
            ]
           ],
           "sequentialminus": [
            [
             0,
             "#0d0887"
            ],
            [
             0.1111111111111111,
             "#46039f"
            ],
            [
             0.2222222222222222,
             "#7201a8"
            ],
            [
             0.3333333333333333,
             "#9c179e"
            ],
            [
             0.4444444444444444,
             "#bd3786"
            ],
            [
             0.5555555555555556,
             "#d8576b"
            ],
            [
             0.6666666666666666,
             "#ed7953"
            ],
            [
             0.7777777777777778,
             "#fb9f3a"
            ],
            [
             0.8888888888888888,
             "#fdca26"
            ],
            [
             1,
             "#f0f921"
            ]
           ]
          },
          "colorway": [
           "#636efa",
           "#EF553B",
           "#00cc96",
           "#ab63fa",
           "#FFA15A",
           "#19d3f3",
           "#FF6692",
           "#B6E880",
           "#FF97FF",
           "#FECB52"
          ],
          "font": {
           "color": "#2a3f5f"
          },
          "geo": {
           "bgcolor": "white",
           "lakecolor": "white",
           "landcolor": "#E5ECF6",
           "showlakes": true,
           "showland": true,
           "subunitcolor": "white"
          },
          "hoverlabel": {
           "align": "left"
          },
          "hovermode": "closest",
          "mapbox": {
           "style": "light"
          },
          "paper_bgcolor": "white",
          "plot_bgcolor": "#E5ECF6",
          "polar": {
           "angularaxis": {
            "gridcolor": "white",
            "linecolor": "white",
            "ticks": ""
           },
           "bgcolor": "#E5ECF6",
           "radialaxis": {
            "gridcolor": "white",
            "linecolor": "white",
            "ticks": ""
           }
          },
          "scene": {
           "xaxis": {
            "backgroundcolor": "#E5ECF6",
            "gridcolor": "white",
            "gridwidth": 2,
            "linecolor": "white",
            "showbackground": true,
            "ticks": "",
            "zerolinecolor": "white"
           },
           "yaxis": {
            "backgroundcolor": "#E5ECF6",
            "gridcolor": "white",
            "gridwidth": 2,
            "linecolor": "white",
            "showbackground": true,
            "ticks": "",
            "zerolinecolor": "white"
           },
           "zaxis": {
            "backgroundcolor": "#E5ECF6",
            "gridcolor": "white",
            "gridwidth": 2,
            "linecolor": "white",
            "showbackground": true,
            "ticks": "",
            "zerolinecolor": "white"
           }
          },
          "shapedefaults": {
           "line": {
            "color": "#2a3f5f"
           }
          },
          "ternary": {
           "aaxis": {
            "gridcolor": "white",
            "linecolor": "white",
            "ticks": ""
           },
           "baxis": {
            "gridcolor": "white",
            "linecolor": "white",
            "ticks": ""
           },
           "bgcolor": "#E5ECF6",
           "caxis": {
            "gridcolor": "white",
            "linecolor": "white",
            "ticks": ""
           }
          },
          "title": {
           "x": 0.05
          },
          "xaxis": {
           "automargin": true,
           "gridcolor": "white",
           "linecolor": "white",
           "ticks": "",
           "title": {
            "standoff": 15
           },
           "zerolinecolor": "white",
           "zerolinewidth": 2
          },
          "yaxis": {
           "automargin": true,
           "gridcolor": "white",
           "linecolor": "white",
           "ticks": "",
           "title": {
            "standoff": 15
           },
           "zerolinecolor": "white",
           "zerolinewidth": 2
          }
         }
        },
        "title": {
         "text": "Coherence Value and # of Topics"
        },
        "xaxis": {
         "anchor": "y",
         "domain": [
          0,
          1
         ],
         "title": {
          "text": "# Topics"
         }
        },
        "yaxis": {
         "anchor": "x",
         "domain": [
          0,
          1
         ],
         "title": {
          "text": "Score"
         }
        }
       }
      },
      "text/html": [
       "<div>                            <div id=\"9db70013-b6d0-4ab6-ad0e-480f1e37dcca\" class=\"plotly-graph-div\" style=\"height:525px; width:100%;\"></div>            <script type=\"text/javascript\">                require([\"plotly\"], function(Plotly) {                    window.PLOTLYENV=window.PLOTLYENV || {};                                    if (document.getElementById(\"9db70013-b6d0-4ab6-ad0e-480f1e37dcca\")) {                    Plotly.newPlot(                        \"9db70013-b6d0-4ab6-ad0e-480f1e37dcca\",                        [{\"hovertemplate\": \"Metric=Coherence<br># Topics=%{x}<br>Score=%{y}<extra></extra>\", \"legendgroup\": \"Coherence\", \"line\": {\"color\": \"#636efa\", \"dash\": \"solid\", \"shape\": \"linear\"}, \"mode\": \"lines\", \"name\": \"Coherence\", \"orientation\": \"v\", \"showlegend\": true, \"type\": \"scatter\", \"x\": [2, 4, 6, 8, 10, 12, 14, 16, 18, 20, 22, 24, 26, 28], \"xaxis\": \"x\", \"y\": [0.5100827920988025, 0.5496949671992829, 0.4886453937368729, 0.4610638594688914, 0.45620205350439236, 0.43719555899656687, 0.4365082134806841, 0.4284919073048913, 0.4021433189980029, 0.3996707506190441, 0.36807779866506096, 0.37017778732729595, 0.37828458244163066, 0.3396818362501334], \"yaxis\": \"y\"}],                        {\"legend\": {\"title\": {\"text\": \"Metric\"}, \"tracegroupgap\": 0}, \"plot_bgcolor\": \"rgb(245,245,245)\", \"template\": {\"data\": {\"bar\": [{\"error_x\": {\"color\": \"#2a3f5f\"}, \"error_y\": {\"color\": \"#2a3f5f\"}, \"marker\": {\"line\": {\"color\": \"#E5ECF6\", \"width\": 0.5}}, \"type\": \"bar\"}], \"barpolar\": [{\"marker\": {\"line\": {\"color\": \"#E5ECF6\", \"width\": 0.5}}, \"type\": \"barpolar\"}], \"carpet\": [{\"aaxis\": {\"endlinecolor\": \"#2a3f5f\", \"gridcolor\": \"white\", \"linecolor\": \"white\", \"minorgridcolor\": \"white\", \"startlinecolor\": \"#2a3f5f\"}, \"baxis\": {\"endlinecolor\": \"#2a3f5f\", \"gridcolor\": \"white\", \"linecolor\": \"white\", \"minorgridcolor\": \"white\", \"startlinecolor\": \"#2a3f5f\"}, \"type\": \"carpet\"}], \"choropleth\": [{\"colorbar\": {\"outlinewidth\": 0, \"ticks\": \"\"}, \"type\": \"choropleth\"}], \"contour\": [{\"colorbar\": {\"outlinewidth\": 0, \"ticks\": \"\"}, \"colorscale\": [[0.0, \"#0d0887\"], [0.1111111111111111, \"#46039f\"], [0.2222222222222222, \"#7201a8\"], [0.3333333333333333, \"#9c179e\"], [0.4444444444444444, \"#bd3786\"], [0.5555555555555556, \"#d8576b\"], [0.6666666666666666, \"#ed7953\"], [0.7777777777777778, \"#fb9f3a\"], [0.8888888888888888, \"#fdca26\"], [1.0, \"#f0f921\"]], \"type\": \"contour\"}], \"contourcarpet\": [{\"colorbar\": {\"outlinewidth\": 0, \"ticks\": \"\"}, \"type\": \"contourcarpet\"}], \"heatmap\": [{\"colorbar\": {\"outlinewidth\": 0, \"ticks\": \"\"}, \"colorscale\": [[0.0, \"#0d0887\"], [0.1111111111111111, \"#46039f\"], [0.2222222222222222, \"#7201a8\"], [0.3333333333333333, \"#9c179e\"], [0.4444444444444444, \"#bd3786\"], [0.5555555555555556, \"#d8576b\"], [0.6666666666666666, \"#ed7953\"], [0.7777777777777778, \"#fb9f3a\"], [0.8888888888888888, \"#fdca26\"], [1.0, \"#f0f921\"]], \"type\": \"heatmap\"}], \"heatmapgl\": [{\"colorbar\": {\"outlinewidth\": 0, \"ticks\": \"\"}, \"colorscale\": [[0.0, \"#0d0887\"], [0.1111111111111111, \"#46039f\"], [0.2222222222222222, \"#7201a8\"], [0.3333333333333333, \"#9c179e\"], [0.4444444444444444, \"#bd3786\"], [0.5555555555555556, \"#d8576b\"], [0.6666666666666666, \"#ed7953\"], [0.7777777777777778, \"#fb9f3a\"], [0.8888888888888888, \"#fdca26\"], [1.0, \"#f0f921\"]], \"type\": \"heatmapgl\"}], \"histogram\": [{\"marker\": {\"colorbar\": {\"outlinewidth\": 0, \"ticks\": \"\"}}, \"type\": \"histogram\"}], \"histogram2d\": [{\"colorbar\": {\"outlinewidth\": 0, \"ticks\": \"\"}, \"colorscale\": [[0.0, \"#0d0887\"], [0.1111111111111111, \"#46039f\"], [0.2222222222222222, \"#7201a8\"], [0.3333333333333333, \"#9c179e\"], [0.4444444444444444, \"#bd3786\"], [0.5555555555555556, \"#d8576b\"], [0.6666666666666666, \"#ed7953\"], [0.7777777777777778, \"#fb9f3a\"], [0.8888888888888888, \"#fdca26\"], [1.0, \"#f0f921\"]], \"type\": \"histogram2d\"}], \"histogram2dcontour\": [{\"colorbar\": {\"outlinewidth\": 0, \"ticks\": \"\"}, \"colorscale\": [[0.0, \"#0d0887\"], [0.1111111111111111, \"#46039f\"], [0.2222222222222222, \"#7201a8\"], [0.3333333333333333, \"#9c179e\"], [0.4444444444444444, \"#bd3786\"], [0.5555555555555556, \"#d8576b\"], [0.6666666666666666, \"#ed7953\"], [0.7777777777777778, \"#fb9f3a\"], [0.8888888888888888, \"#fdca26\"], [1.0, \"#f0f921\"]], \"type\": \"histogram2dcontour\"}], \"mesh3d\": [{\"colorbar\": {\"outlinewidth\": 0, \"ticks\": \"\"}, \"type\": \"mesh3d\"}], \"parcoords\": [{\"line\": {\"colorbar\": {\"outlinewidth\": 0, \"ticks\": \"\"}}, \"type\": \"parcoords\"}], \"pie\": [{\"automargin\": true, \"type\": \"pie\"}], \"scatter\": [{\"marker\": {\"colorbar\": {\"outlinewidth\": 0, \"ticks\": \"\"}}, \"type\": \"scatter\"}], \"scatter3d\": [{\"line\": {\"colorbar\": {\"outlinewidth\": 0, \"ticks\": \"\"}}, \"marker\": {\"colorbar\": {\"outlinewidth\": 0, \"ticks\": \"\"}}, \"type\": \"scatter3d\"}], \"scattercarpet\": [{\"marker\": {\"colorbar\": {\"outlinewidth\": 0, \"ticks\": \"\"}}, \"type\": \"scattercarpet\"}], \"scattergeo\": [{\"marker\": {\"colorbar\": {\"outlinewidth\": 0, \"ticks\": \"\"}}, \"type\": \"scattergeo\"}], \"scattergl\": [{\"marker\": {\"colorbar\": {\"outlinewidth\": 0, \"ticks\": \"\"}}, \"type\": \"scattergl\"}], \"scattermapbox\": [{\"marker\": {\"colorbar\": {\"outlinewidth\": 0, \"ticks\": \"\"}}, \"type\": \"scattermapbox\"}], \"scatterpolar\": [{\"marker\": {\"colorbar\": {\"outlinewidth\": 0, \"ticks\": \"\"}}, \"type\": \"scatterpolar\"}], \"scatterpolargl\": [{\"marker\": {\"colorbar\": {\"outlinewidth\": 0, \"ticks\": \"\"}}, \"type\": \"scatterpolargl\"}], \"scatterternary\": [{\"marker\": {\"colorbar\": {\"outlinewidth\": 0, \"ticks\": \"\"}}, \"type\": \"scatterternary\"}], \"surface\": [{\"colorbar\": {\"outlinewidth\": 0, \"ticks\": \"\"}, \"colorscale\": [[0.0, \"#0d0887\"], [0.1111111111111111, \"#46039f\"], [0.2222222222222222, \"#7201a8\"], [0.3333333333333333, \"#9c179e\"], [0.4444444444444444, \"#bd3786\"], [0.5555555555555556, \"#d8576b\"], [0.6666666666666666, \"#ed7953\"], [0.7777777777777778, \"#fb9f3a\"], [0.8888888888888888, \"#fdca26\"], [1.0, \"#f0f921\"]], \"type\": \"surface\"}], \"table\": [{\"cells\": {\"fill\": {\"color\": \"#EBF0F8\"}, \"line\": {\"color\": \"white\"}}, \"header\": {\"fill\": {\"color\": \"#C8D4E3\"}, \"line\": {\"color\": \"white\"}}, \"type\": \"table\"}]}, \"layout\": {\"annotationdefaults\": {\"arrowcolor\": \"#2a3f5f\", \"arrowhead\": 0, \"arrowwidth\": 1}, \"autotypenumbers\": \"strict\", \"coloraxis\": {\"colorbar\": {\"outlinewidth\": 0, \"ticks\": \"\"}}, \"colorscale\": {\"diverging\": [[0, \"#8e0152\"], [0.1, \"#c51b7d\"], [0.2, \"#de77ae\"], [0.3, \"#f1b6da\"], [0.4, \"#fde0ef\"], [0.5, \"#f7f7f7\"], [0.6, \"#e6f5d0\"], [0.7, \"#b8e186\"], [0.8, \"#7fbc41\"], [0.9, \"#4d9221\"], [1, \"#276419\"]], \"sequential\": [[0.0, \"#0d0887\"], [0.1111111111111111, \"#46039f\"], [0.2222222222222222, \"#7201a8\"], [0.3333333333333333, \"#9c179e\"], [0.4444444444444444, \"#bd3786\"], [0.5555555555555556, \"#d8576b\"], [0.6666666666666666, \"#ed7953\"], [0.7777777777777778, \"#fb9f3a\"], [0.8888888888888888, \"#fdca26\"], [1.0, \"#f0f921\"]], \"sequentialminus\": [[0.0, \"#0d0887\"], [0.1111111111111111, \"#46039f\"], [0.2222222222222222, \"#7201a8\"], [0.3333333333333333, \"#9c179e\"], [0.4444444444444444, \"#bd3786\"], [0.5555555555555556, \"#d8576b\"], [0.6666666666666666, \"#ed7953\"], [0.7777777777777778, \"#fb9f3a\"], [0.8888888888888888, \"#fdca26\"], [1.0, \"#f0f921\"]]}, \"colorway\": [\"#636efa\", \"#EF553B\", \"#00cc96\", \"#ab63fa\", \"#FFA15A\", \"#19d3f3\", \"#FF6692\", \"#B6E880\", \"#FF97FF\", \"#FECB52\"], \"font\": {\"color\": \"#2a3f5f\"}, \"geo\": {\"bgcolor\": \"white\", \"lakecolor\": \"white\", \"landcolor\": \"#E5ECF6\", \"showlakes\": true, \"showland\": true, \"subunitcolor\": \"white\"}, \"hoverlabel\": {\"align\": \"left\"}, \"hovermode\": \"closest\", \"mapbox\": {\"style\": \"light\"}, \"paper_bgcolor\": \"white\", \"plot_bgcolor\": \"#E5ECF6\", \"polar\": {\"angularaxis\": {\"gridcolor\": \"white\", \"linecolor\": \"white\", \"ticks\": \"\"}, \"bgcolor\": \"#E5ECF6\", \"radialaxis\": {\"gridcolor\": \"white\", \"linecolor\": \"white\", \"ticks\": \"\"}}, \"scene\": {\"xaxis\": {\"backgroundcolor\": \"#E5ECF6\", \"gridcolor\": \"white\", \"gridwidth\": 2, \"linecolor\": \"white\", \"showbackground\": true, \"ticks\": \"\", \"zerolinecolor\": \"white\"}, \"yaxis\": {\"backgroundcolor\": \"#E5ECF6\", \"gridcolor\": \"white\", \"gridwidth\": 2, \"linecolor\": \"white\", \"showbackground\": true, \"ticks\": \"\", \"zerolinecolor\": \"white\"}, \"zaxis\": {\"backgroundcolor\": \"#E5ECF6\", \"gridcolor\": \"white\", \"gridwidth\": 2, \"linecolor\": \"white\", \"showbackground\": true, \"ticks\": \"\", \"zerolinecolor\": \"white\"}}, \"shapedefaults\": {\"line\": {\"color\": \"#2a3f5f\"}}, \"ternary\": {\"aaxis\": {\"gridcolor\": \"white\", \"linecolor\": \"white\", \"ticks\": \"\"}, \"baxis\": {\"gridcolor\": \"white\", \"linecolor\": \"white\", \"ticks\": \"\"}, \"bgcolor\": \"#E5ECF6\", \"caxis\": {\"gridcolor\": \"white\", \"linecolor\": \"white\", \"ticks\": \"\"}}, \"title\": {\"x\": 0.05}, \"xaxis\": {\"automargin\": true, \"gridcolor\": \"white\", \"linecolor\": \"white\", \"ticks\": \"\", \"title\": {\"standoff\": 15}, \"zerolinecolor\": \"white\", \"zerolinewidth\": 2}, \"yaxis\": {\"automargin\": true, \"gridcolor\": \"white\", \"linecolor\": \"white\", \"ticks\": \"\", \"title\": {\"standoff\": 15}, \"zerolinecolor\": \"white\", \"zerolinewidth\": 2}}}, \"title\": {\"text\": \"Coherence Value and # of Topics\"}, \"xaxis\": {\"anchor\": \"y\", \"domain\": [0.0, 1.0], \"title\": {\"text\": \"# Topics\"}}, \"yaxis\": {\"anchor\": \"x\", \"domain\": [0.0, 1.0], \"title\": {\"text\": \"Score\"}}},                        {\"responsive\": true}                    ).then(function(){\n",
       "                            \n",
       "var gd = document.getElementById('9db70013-b6d0-4ab6-ad0e-480f1e37dcca');\n",
       "var x = new MutationObserver(function (mutations, observer) {{\n",
       "        var display = window.getComputedStyle(gd).display;\n",
       "        if (!display || display === 'none') {{\n",
       "            console.log([gd, 'removed!']);\n",
       "            Plotly.purge(gd);\n",
       "            observer.disconnect();\n",
       "        }}\n",
       "}});\n",
       "\n",
       "// Listen for the removal of the full notebook cells\n",
       "var notebookContainer = gd.closest('#notebook-container');\n",
       "if (notebookContainer) {{\n",
       "    x.observe(notebookContainer, {childList: true});\n",
       "}}\n",
       "\n",
       "// Listen for the clearing of the current output cell\n",
       "var outputEl = gd.closest('.output');\n",
       "if (outputEl) {{\n",
       "    x.observe(outputEl, {childList: true});\n",
       "}}\n",
       "\n",
       "                        })                };                });            </script>        </div>"
      ]
     },
     "metadata": {},
     "output_type": "display_data"
    },
    {
     "name": "stdout",
     "output_type": "stream",
     "text": [
      "Best Model: Latent Semantic Indexing | # Topics: 4 | Coherence: 0.5497\n"
     ]
    },
    {
     "ename": "NameError",
     "evalue": "name 'ruta_modelo' is not defined",
     "output_type": "error",
     "traceback": [
      "\u001b[1;31m---------------------------------------------------------------------------\u001b[0m",
      "\u001b[1;31mNameError\u001b[0m                                 Traceback (most recent call last)",
      "\u001b[1;32m<ipython-input-3-a85beea2a2d2>\u001b[0m in \u001b[0;36m<module>\u001b[1;34m\u001b[0m\n\u001b[0;32m      4\u001b[0m \u001b[0mlsi\u001b[0m \u001b[1;33m=\u001b[0m \u001b[0mtune_model\u001b[0m\u001b[1;33m(\u001b[0m\u001b[0mmodel\u001b[0m \u001b[1;33m=\u001b[0m \u001b[1;34m'lsi'\u001b[0m\u001b[1;33m,\u001b[0m \u001b[0mcustom_grid\u001b[0m \u001b[1;33m=\u001b[0m \u001b[0mcustom_grid\u001b[0m \u001b[1;33m,\u001b[0m\u001b[0mmulti_core\u001b[0m \u001b[1;33m=\u001b[0m \u001b[1;32mTrue\u001b[0m\u001b[1;33m)\u001b[0m\u001b[1;33m\u001b[0m\u001b[1;33m\u001b[0m\u001b[0m\n\u001b[0;32m      5\u001b[0m \u001b[1;33m\u001b[0m\u001b[0m\n\u001b[1;32m----> 6\u001b[1;33m \u001b[0msave_model\u001b[0m\u001b[1;33m(\u001b[0m\u001b[0mlsi\u001b[0m\u001b[1;33m,\u001b[0m \u001b[0mruta_modelo\u001b[0m\u001b[1;33m)\u001b[0m\u001b[1;33m\u001b[0m\u001b[1;33m\u001b[0m\u001b[0m\n\u001b[0m",
      "\u001b[1;31mNameError\u001b[0m: name 'ruta_modelo' is not defined"
     ]
    }
   ],
   "source": [
    "lsi_exp = setup(data = data, target = 'text', session_id = session_id, custom_stopwords = custom_stopwords)\n",
    "custom_grid = [2,4,6,8,10,12,14,16,18,20,22,24,26,28]\n",
    "\n",
    "lsi = tune_model(model = 'lsi', custom_grid = custom_grid ,multi_core = True)\n",
    "\n",
    "save_model(lsi, ruta_modelo)"
   ]
  },
  {
   "cell_type": "code",
   "execution_count": 5,
   "id": "renewable-education",
   "metadata": {},
   "outputs": [
    {
     "name": "stdout",
     "output_type": "stream",
     "text": [
      "Model Succesfully Saved\n"
     ]
    },
    {
     "data": {
      "text/plain": [
       "(<gensim.models.lsimodel.LsiModel at 0x15f6857ec48>,\n",
       " '../Experimentos Modelos/LSI/exp-70521/LSI-Model.pkl')"
      ]
     },
     "execution_count": 5,
     "metadata": {},
     "output_type": "execute_result"
    }
   ],
   "source": [
    "save_model(lsi, ruta_modelo)"
   ]
  },
  {
   "cell_type": "code",
   "execution_count": 6,
   "id": "informal-template",
   "metadata": {},
   "outputs": [
    {
     "data": {
      "application/vnd.jupyter.widget-view+json": {
       "model_id": "ae761bb73c434d18aafd310085da989e",
       "version_major": 2,
       "version_minor": 0
      },
      "text/plain": [
       "interactive(children=(ToggleButtons(description='Plot Type:', icons=('',), options=(('Frequency Plot', 'freque…"
      ]
     },
     "metadata": {},
     "output_type": "display_data"
    }
   ],
   "source": [
    "evaluate_model(lsi)"
   ]
  },
  {
   "cell_type": "code",
   "execution_count": 7,
   "id": "latin-container",
   "metadata": {},
   "outputs": [],
   "source": [
    "train_data_ = get_config('data_') #pandas.DataFrame containing text after all processing\n",
    "train_tokenized_words = get_config('text') #Tokenized words as a list with length = # documents\n",
    "train_corpus = get_config('corpus') #List containing tuples of id to word mapping\n",
    "train_id2word = get_config('id2word')\n",
    "\n",
    "train_data_dir = path + \"train_data_.sav\"\n",
    "train_tokenized_words_dir = path + \"train_tokenized_words.sav\"\n",
    "train_corpus_dir = path + \"train_corpus.sav\"\n",
    "train_id2word_dir = path + \"train_id2word.sav\"\n",
    "\n",
    "pickle.dump(train_data_, open(train_data_dir, 'wb'))\n",
    "pickle.dump(train_tokenized_words, open(train_tokenized_words_dir, 'wb'))\n",
    "pickle.dump(train_corpus, open(train_corpus_dir, 'wb'))\n",
    "pickle.dump(train_id2word, open(train_id2word_dir, 'wb'))\n",
    "\n",
    "\n",
    "num_topics = len(lsi.get_topics())\n",
    "num_words = 25\n",
    "\n",
    "topics = lsi.show_topics(formatted=True, num_topics=num_topics, num_words=num_words)\n",
    "\n",
    "import pandas as pd\n",
    "\n",
    "topics_train = [lsi[train_corpus[i]] for i in range(len(train_data_))]\n",
    "\n",
    "def topics_document_to_dataframe(topics_document, num_topics):\n",
    "    res = pd.DataFrame(columns=range(num_topics))\n",
    "    for topic_weight in topics_document:\n",
    "        res.loc[0, topic_weight[0]] = topic_weight[1]\n",
    "    return res\n",
    "\n",
    "document_topic_matrix = \\\n",
    "pd.concat([topics_document_to_dataframe(topics_document, num_topics=num_topics) for topics_document in topics_train]) \\\n",
    "  .reset_index(drop=True).fillna(0)\n",
    "\n",
    "document_topic_matrix_dir = path + \"document_topic_matrix.sav\"\n",
    "pickle.dump(document_topic_matrix, open(document_topic_matrix_dir, 'wb'))\n",
    "\n",
    "\n",
    "topic_word_matrix = pd.DataFrame(lsi.get_topics(), columns=lsi.id2word.values(), index=[i for i in range(num_topics)])\n",
    "topic_word_matrix_dir = path + \"topic_word_matrix.sav\"\n",
    "pickle.dump(topic_word_matrix, open(topic_word_matrix_dir, 'wb'))\n",
    "\n",
    "\n",
    "lsi_train_results = assign_model(lsi)\n",
    "lsi_train_results = lsi_train_results.drop(columns=['text'])\n",
    "lsi_train_results_dir = path + \"lsi_train_results.df\"\n",
    "pickle.dump(lsi_train_results, open(lsi_train_results_dir, 'wb'))"
   ]
  },
  {
   "cell_type": "code",
   "execution_count": 8,
   "id": "viral-ambassador",
   "metadata": {},
   "outputs": [
    {
     "data": {
      "text/html": [
       "        <script type=\"text/javascript\">\n",
       "        window.PlotlyConfig = {MathJaxConfig: 'local'};\n",
       "        if (window.MathJax) {MathJax.Hub.Config({SVG: {font: \"STIX-Web\"}});}\n",
       "        if (typeof require !== 'undefined') {\n",
       "        require.undef(\"plotly\");\n",
       "        requirejs.config({\n",
       "            paths: {\n",
       "                'plotly': ['https://cdn.plot.ly/plotly-latest.min']\n",
       "            }\n",
       "        });\n",
       "        require(['plotly'], function(Plotly) {\n",
       "            window._Plotly = Plotly;\n",
       "        });\n",
       "        }\n",
       "        </script>\n",
       "        "
      ]
     },
     "metadata": {},
     "output_type": "display_data"
    },
    {
     "data": {
      "application/vnd.plotly.v1+json": {
       "config": {
        "plotlyServerURL": "https://plot.ly"
       },
       "data": [
        {
         "alignmentgroup": "True",
         "customdata": [
          [
           "forest, region, specie, user, different, development, tree, provide, restoration, regional"
          ],
          [
           "region, forest, regional, development, higher_education_institution, specie, restoration, tree, programme, national"
          ]
         ],
         "hovertemplate": "Topic=%{x}<br>Documents=%{y}<br>Keyword=%{customdata[0]}<extra></extra>",
         "legendgroup": "",
         "marker": {
          "color": "#636efa"
         },
         "name": "",
         "offsetgroup": "",
         "orientation": "v",
         "showlegend": false,
         "textposition": "auto",
         "type": "bar",
         "x": [
          "Topic 0",
          "Topic 2"
         ],
         "xaxis": "x",
         "y": [
          968,
          1
         ],
         "yaxis": "y"
        }
       ],
       "layout": {
        "barmode": "relative",
        "legend": {
         "tracegroupgap": 0
        },
        "template": {
         "data": {
          "bar": [
           {
            "error_x": {
             "color": "#2a3f5f"
            },
            "error_y": {
             "color": "#2a3f5f"
            },
            "marker": {
             "line": {
              "color": "#E5ECF6",
              "width": 0.5
             }
            },
            "type": "bar"
           }
          ],
          "barpolar": [
           {
            "marker": {
             "line": {
              "color": "#E5ECF6",
              "width": 0.5
             }
            },
            "type": "barpolar"
           }
          ],
          "carpet": [
           {
            "aaxis": {
             "endlinecolor": "#2a3f5f",
             "gridcolor": "white",
             "linecolor": "white",
             "minorgridcolor": "white",
             "startlinecolor": "#2a3f5f"
            },
            "baxis": {
             "endlinecolor": "#2a3f5f",
             "gridcolor": "white",
             "linecolor": "white",
             "minorgridcolor": "white",
             "startlinecolor": "#2a3f5f"
            },
            "type": "carpet"
           }
          ],
          "choropleth": [
           {
            "colorbar": {
             "outlinewidth": 0,
             "ticks": ""
            },
            "type": "choropleth"
           }
          ],
          "contour": [
           {
            "colorbar": {
             "outlinewidth": 0,
             "ticks": ""
            },
            "colorscale": [
             [
              0,
              "#0d0887"
             ],
             [
              0.1111111111111111,
              "#46039f"
             ],
             [
              0.2222222222222222,
              "#7201a8"
             ],
             [
              0.3333333333333333,
              "#9c179e"
             ],
             [
              0.4444444444444444,
              "#bd3786"
             ],
             [
              0.5555555555555556,
              "#d8576b"
             ],
             [
              0.6666666666666666,
              "#ed7953"
             ],
             [
              0.7777777777777778,
              "#fb9f3a"
             ],
             [
              0.8888888888888888,
              "#fdca26"
             ],
             [
              1,
              "#f0f921"
             ]
            ],
            "type": "contour"
           }
          ],
          "contourcarpet": [
           {
            "colorbar": {
             "outlinewidth": 0,
             "ticks": ""
            },
            "type": "contourcarpet"
           }
          ],
          "heatmap": [
           {
            "colorbar": {
             "outlinewidth": 0,
             "ticks": ""
            },
            "colorscale": [
             [
              0,
              "#0d0887"
             ],
             [
              0.1111111111111111,
              "#46039f"
             ],
             [
              0.2222222222222222,
              "#7201a8"
             ],
             [
              0.3333333333333333,
              "#9c179e"
             ],
             [
              0.4444444444444444,
              "#bd3786"
             ],
             [
              0.5555555555555556,
              "#d8576b"
             ],
             [
              0.6666666666666666,
              "#ed7953"
             ],
             [
              0.7777777777777778,
              "#fb9f3a"
             ],
             [
              0.8888888888888888,
              "#fdca26"
             ],
             [
              1,
              "#f0f921"
             ]
            ],
            "type": "heatmap"
           }
          ],
          "heatmapgl": [
           {
            "colorbar": {
             "outlinewidth": 0,
             "ticks": ""
            },
            "colorscale": [
             [
              0,
              "#0d0887"
             ],
             [
              0.1111111111111111,
              "#46039f"
             ],
             [
              0.2222222222222222,
              "#7201a8"
             ],
             [
              0.3333333333333333,
              "#9c179e"
             ],
             [
              0.4444444444444444,
              "#bd3786"
             ],
             [
              0.5555555555555556,
              "#d8576b"
             ],
             [
              0.6666666666666666,
              "#ed7953"
             ],
             [
              0.7777777777777778,
              "#fb9f3a"
             ],
             [
              0.8888888888888888,
              "#fdca26"
             ],
             [
              1,
              "#f0f921"
             ]
            ],
            "type": "heatmapgl"
           }
          ],
          "histogram": [
           {
            "marker": {
             "colorbar": {
              "outlinewidth": 0,
              "ticks": ""
             }
            },
            "type": "histogram"
           }
          ],
          "histogram2d": [
           {
            "colorbar": {
             "outlinewidth": 0,
             "ticks": ""
            },
            "colorscale": [
             [
              0,
              "#0d0887"
             ],
             [
              0.1111111111111111,
              "#46039f"
             ],
             [
              0.2222222222222222,
              "#7201a8"
             ],
             [
              0.3333333333333333,
              "#9c179e"
             ],
             [
              0.4444444444444444,
              "#bd3786"
             ],
             [
              0.5555555555555556,
              "#d8576b"
             ],
             [
              0.6666666666666666,
              "#ed7953"
             ],
             [
              0.7777777777777778,
              "#fb9f3a"
             ],
             [
              0.8888888888888888,
              "#fdca26"
             ],
             [
              1,
              "#f0f921"
             ]
            ],
            "type": "histogram2d"
           }
          ],
          "histogram2dcontour": [
           {
            "colorbar": {
             "outlinewidth": 0,
             "ticks": ""
            },
            "colorscale": [
             [
              0,
              "#0d0887"
             ],
             [
              0.1111111111111111,
              "#46039f"
             ],
             [
              0.2222222222222222,
              "#7201a8"
             ],
             [
              0.3333333333333333,
              "#9c179e"
             ],
             [
              0.4444444444444444,
              "#bd3786"
             ],
             [
              0.5555555555555556,
              "#d8576b"
             ],
             [
              0.6666666666666666,
              "#ed7953"
             ],
             [
              0.7777777777777778,
              "#fb9f3a"
             ],
             [
              0.8888888888888888,
              "#fdca26"
             ],
             [
              1,
              "#f0f921"
             ]
            ],
            "type": "histogram2dcontour"
           }
          ],
          "mesh3d": [
           {
            "colorbar": {
             "outlinewidth": 0,
             "ticks": ""
            },
            "type": "mesh3d"
           }
          ],
          "parcoords": [
           {
            "line": {
             "colorbar": {
              "outlinewidth": 0,
              "ticks": ""
             }
            },
            "type": "parcoords"
           }
          ],
          "pie": [
           {
            "automargin": true,
            "type": "pie"
           }
          ],
          "scatter": [
           {
            "marker": {
             "colorbar": {
              "outlinewidth": 0,
              "ticks": ""
             }
            },
            "type": "scatter"
           }
          ],
          "scatter3d": [
           {
            "line": {
             "colorbar": {
              "outlinewidth": 0,
              "ticks": ""
             }
            },
            "marker": {
             "colorbar": {
              "outlinewidth": 0,
              "ticks": ""
             }
            },
            "type": "scatter3d"
           }
          ],
          "scattercarpet": [
           {
            "marker": {
             "colorbar": {
              "outlinewidth": 0,
              "ticks": ""
             }
            },
            "type": "scattercarpet"
           }
          ],
          "scattergeo": [
           {
            "marker": {
             "colorbar": {
              "outlinewidth": 0,
              "ticks": ""
             }
            },
            "type": "scattergeo"
           }
          ],
          "scattergl": [
           {
            "marker": {
             "colorbar": {
              "outlinewidth": 0,
              "ticks": ""
             }
            },
            "type": "scattergl"
           }
          ],
          "scattermapbox": [
           {
            "marker": {
             "colorbar": {
              "outlinewidth": 0,
              "ticks": ""
             }
            },
            "type": "scattermapbox"
           }
          ],
          "scatterpolar": [
           {
            "marker": {
             "colorbar": {
              "outlinewidth": 0,
              "ticks": ""
             }
            },
            "type": "scatterpolar"
           }
          ],
          "scatterpolargl": [
           {
            "marker": {
             "colorbar": {
              "outlinewidth": 0,
              "ticks": ""
             }
            },
            "type": "scatterpolargl"
           }
          ],
          "scatterternary": [
           {
            "marker": {
             "colorbar": {
              "outlinewidth": 0,
              "ticks": ""
             }
            },
            "type": "scatterternary"
           }
          ],
          "surface": [
           {
            "colorbar": {
             "outlinewidth": 0,
             "ticks": ""
            },
            "colorscale": [
             [
              0,
              "#0d0887"
             ],
             [
              0.1111111111111111,
              "#46039f"
             ],
             [
              0.2222222222222222,
              "#7201a8"
             ],
             [
              0.3333333333333333,
              "#9c179e"
             ],
             [
              0.4444444444444444,
              "#bd3786"
             ],
             [
              0.5555555555555556,
              "#d8576b"
             ],
             [
              0.6666666666666666,
              "#ed7953"
             ],
             [
              0.7777777777777778,
              "#fb9f3a"
             ],
             [
              0.8888888888888888,
              "#fdca26"
             ],
             [
              1,
              "#f0f921"
             ]
            ],
            "type": "surface"
           }
          ],
          "table": [
           {
            "cells": {
             "fill": {
              "color": "#EBF0F8"
             },
             "line": {
              "color": "white"
             }
            },
            "header": {
             "fill": {
              "color": "#C8D4E3"
             },
             "line": {
              "color": "white"
             }
            },
            "type": "table"
           }
          ]
         },
         "layout": {
          "annotationdefaults": {
           "arrowcolor": "#2a3f5f",
           "arrowhead": 0,
           "arrowwidth": 1
          },
          "autotypenumbers": "strict",
          "coloraxis": {
           "colorbar": {
            "outlinewidth": 0,
            "ticks": ""
           }
          },
          "colorscale": {
           "diverging": [
            [
             0,
             "#8e0152"
            ],
            [
             0.1,
             "#c51b7d"
            ],
            [
             0.2,
             "#de77ae"
            ],
            [
             0.3,
             "#f1b6da"
            ],
            [
             0.4,
             "#fde0ef"
            ],
            [
             0.5,
             "#f7f7f7"
            ],
            [
             0.6,
             "#e6f5d0"
            ],
            [
             0.7,
             "#b8e186"
            ],
            [
             0.8,
             "#7fbc41"
            ],
            [
             0.9,
             "#4d9221"
            ],
            [
             1,
             "#276419"
            ]
           ],
           "sequential": [
            [
             0,
             "#0d0887"
            ],
            [
             0.1111111111111111,
             "#46039f"
            ],
            [
             0.2222222222222222,
             "#7201a8"
            ],
            [
             0.3333333333333333,
             "#9c179e"
            ],
            [
             0.4444444444444444,
             "#bd3786"
            ],
            [
             0.5555555555555556,
             "#d8576b"
            ],
            [
             0.6666666666666666,
             "#ed7953"
            ],
            [
             0.7777777777777778,
             "#fb9f3a"
            ],
            [
             0.8888888888888888,
             "#fdca26"
            ],
            [
             1,
             "#f0f921"
            ]
           ],
           "sequentialminus": [
            [
             0,
             "#0d0887"
            ],
            [
             0.1111111111111111,
             "#46039f"
            ],
            [
             0.2222222222222222,
             "#7201a8"
            ],
            [
             0.3333333333333333,
             "#9c179e"
            ],
            [
             0.4444444444444444,
             "#bd3786"
            ],
            [
             0.5555555555555556,
             "#d8576b"
            ],
            [
             0.6666666666666666,
             "#ed7953"
            ],
            [
             0.7777777777777778,
             "#fb9f3a"
            ],
            [
             0.8888888888888888,
             "#fdca26"
            ],
            [
             1,
             "#f0f921"
            ]
           ]
          },
          "colorway": [
           "#636efa",
           "#EF553B",
           "#00cc96",
           "#ab63fa",
           "#FFA15A",
           "#19d3f3",
           "#FF6692",
           "#B6E880",
           "#FF97FF",
           "#FECB52"
          ],
          "font": {
           "color": "#2a3f5f"
          },
          "geo": {
           "bgcolor": "white",
           "lakecolor": "white",
           "landcolor": "#E5ECF6",
           "showlakes": true,
           "showland": true,
           "subunitcolor": "white"
          },
          "hoverlabel": {
           "align": "left"
          },
          "hovermode": "closest",
          "mapbox": {
           "style": "light"
          },
          "paper_bgcolor": "white",
          "plot_bgcolor": "#E5ECF6",
          "polar": {
           "angularaxis": {
            "gridcolor": "white",
            "linecolor": "white",
            "ticks": ""
           },
           "bgcolor": "#E5ECF6",
           "radialaxis": {
            "gridcolor": "white",
            "linecolor": "white",
            "ticks": ""
           }
          },
          "scene": {
           "xaxis": {
            "backgroundcolor": "#E5ECF6",
            "gridcolor": "white",
            "gridwidth": 2,
            "linecolor": "white",
            "showbackground": true,
            "ticks": "",
            "zerolinecolor": "white"
           },
           "yaxis": {
            "backgroundcolor": "#E5ECF6",
            "gridcolor": "white",
            "gridwidth": 2,
            "linecolor": "white",
            "showbackground": true,
            "ticks": "",
            "zerolinecolor": "white"
           },
           "zaxis": {
            "backgroundcolor": "#E5ECF6",
            "gridcolor": "white",
            "gridwidth": 2,
            "linecolor": "white",
            "showbackground": true,
            "ticks": "",
            "zerolinecolor": "white"
           }
          },
          "shapedefaults": {
           "line": {
            "color": "#2a3f5f"
           }
          },
          "ternary": {
           "aaxis": {
            "gridcolor": "white",
            "linecolor": "white",
            "ticks": ""
           },
           "baxis": {
            "gridcolor": "white",
            "linecolor": "white",
            "ticks": ""
           },
           "bgcolor": "#E5ECF6",
           "caxis": {
            "gridcolor": "white",
            "linecolor": "white",
            "ticks": ""
           }
          },
          "title": {
           "x": 0.05
          },
          "xaxis": {
           "automargin": true,
           "gridcolor": "white",
           "linecolor": "white",
           "ticks": "",
           "title": {
            "standoff": 15
           },
           "zerolinecolor": "white",
           "zerolinewidth": 2
          },
          "yaxis": {
           "automargin": true,
           "gridcolor": "white",
           "linecolor": "white",
           "ticks": "",
           "title": {
            "standoff": 15
           },
           "zerolinecolor": "white",
           "zerolinewidth": 2
          }
         }
        },
        "title": {
         "text": "Document Distribution by Topics"
        },
        "xaxis": {
         "anchor": "y",
         "domain": [
          0,
          1
         ],
         "title": {
          "text": "Topic"
         }
        },
        "yaxis": {
         "anchor": "x",
         "domain": [
          0,
          1
         ],
         "title": {
          "text": "Documents"
         }
        }
       }
      },
      "text/html": [
       "<div>                            <div id=\"b99cc930-0a65-4034-9873-98e9b3ccdc86\" class=\"plotly-graph-div\" style=\"height:525px; width:100%;\"></div>            <script type=\"text/javascript\">                require([\"plotly\"], function(Plotly) {                    window.PLOTLYENV=window.PLOTLYENV || {};                                    if (document.getElementById(\"b99cc930-0a65-4034-9873-98e9b3ccdc86\")) {                    Plotly.newPlot(                        \"b99cc930-0a65-4034-9873-98e9b3ccdc86\",                        [{\"alignmentgroup\": \"True\", \"customdata\": [[\"forest, region, specie, user, different, development, tree, provide, restoration, regional\"], [\"region, forest, regional, development, higher_education_institution, specie, restoration, tree, programme, national\"]], \"hovertemplate\": \"Topic=%{x}<br>Documents=%{y}<br>Keyword=%{customdata[0]}<extra></extra>\", \"legendgroup\": \"\", \"marker\": {\"color\": \"#636efa\"}, \"name\": \"\", \"offsetgroup\": \"\", \"orientation\": \"v\", \"showlegend\": false, \"textposition\": \"auto\", \"type\": \"bar\", \"x\": [\"Topic 0\", \"Topic 2\"], \"xaxis\": \"x\", \"y\": [968, 1], \"yaxis\": \"y\"}],                        {\"barmode\": \"relative\", \"legend\": {\"tracegroupgap\": 0}, \"template\": {\"data\": {\"bar\": [{\"error_x\": {\"color\": \"#2a3f5f\"}, \"error_y\": {\"color\": \"#2a3f5f\"}, \"marker\": {\"line\": {\"color\": \"#E5ECF6\", \"width\": 0.5}}, \"type\": \"bar\"}], \"barpolar\": [{\"marker\": {\"line\": {\"color\": \"#E5ECF6\", \"width\": 0.5}}, \"type\": \"barpolar\"}], \"carpet\": [{\"aaxis\": {\"endlinecolor\": \"#2a3f5f\", \"gridcolor\": \"white\", \"linecolor\": \"white\", \"minorgridcolor\": \"white\", \"startlinecolor\": \"#2a3f5f\"}, \"baxis\": {\"endlinecolor\": \"#2a3f5f\", \"gridcolor\": \"white\", \"linecolor\": \"white\", \"minorgridcolor\": \"white\", \"startlinecolor\": \"#2a3f5f\"}, \"type\": \"carpet\"}], \"choropleth\": [{\"colorbar\": {\"outlinewidth\": 0, \"ticks\": \"\"}, \"type\": \"choropleth\"}], \"contour\": [{\"colorbar\": {\"outlinewidth\": 0, \"ticks\": \"\"}, \"colorscale\": [[0.0, \"#0d0887\"], [0.1111111111111111, \"#46039f\"], [0.2222222222222222, \"#7201a8\"], [0.3333333333333333, \"#9c179e\"], [0.4444444444444444, \"#bd3786\"], [0.5555555555555556, \"#d8576b\"], [0.6666666666666666, \"#ed7953\"], [0.7777777777777778, \"#fb9f3a\"], [0.8888888888888888, \"#fdca26\"], [1.0, \"#f0f921\"]], \"type\": \"contour\"}], \"contourcarpet\": [{\"colorbar\": {\"outlinewidth\": 0, \"ticks\": \"\"}, \"type\": \"contourcarpet\"}], \"heatmap\": [{\"colorbar\": {\"outlinewidth\": 0, \"ticks\": \"\"}, \"colorscale\": [[0.0, \"#0d0887\"], [0.1111111111111111, \"#46039f\"], [0.2222222222222222, \"#7201a8\"], [0.3333333333333333, \"#9c179e\"], [0.4444444444444444, \"#bd3786\"], [0.5555555555555556, \"#d8576b\"], [0.6666666666666666, \"#ed7953\"], [0.7777777777777778, \"#fb9f3a\"], [0.8888888888888888, \"#fdca26\"], [1.0, \"#f0f921\"]], \"type\": \"heatmap\"}], \"heatmapgl\": [{\"colorbar\": {\"outlinewidth\": 0, \"ticks\": \"\"}, \"colorscale\": [[0.0, \"#0d0887\"], [0.1111111111111111, \"#46039f\"], [0.2222222222222222, \"#7201a8\"], [0.3333333333333333, \"#9c179e\"], [0.4444444444444444, \"#bd3786\"], [0.5555555555555556, \"#d8576b\"], [0.6666666666666666, \"#ed7953\"], [0.7777777777777778, \"#fb9f3a\"], [0.8888888888888888, \"#fdca26\"], [1.0, \"#f0f921\"]], \"type\": \"heatmapgl\"}], \"histogram\": [{\"marker\": {\"colorbar\": {\"outlinewidth\": 0, \"ticks\": \"\"}}, \"type\": \"histogram\"}], \"histogram2d\": [{\"colorbar\": {\"outlinewidth\": 0, \"ticks\": \"\"}, \"colorscale\": [[0.0, \"#0d0887\"], [0.1111111111111111, \"#46039f\"], [0.2222222222222222, \"#7201a8\"], [0.3333333333333333, \"#9c179e\"], [0.4444444444444444, \"#bd3786\"], [0.5555555555555556, \"#d8576b\"], [0.6666666666666666, \"#ed7953\"], [0.7777777777777778, \"#fb9f3a\"], [0.8888888888888888, \"#fdca26\"], [1.0, \"#f0f921\"]], \"type\": \"histogram2d\"}], \"histogram2dcontour\": [{\"colorbar\": {\"outlinewidth\": 0, \"ticks\": \"\"}, \"colorscale\": [[0.0, \"#0d0887\"], [0.1111111111111111, \"#46039f\"], [0.2222222222222222, \"#7201a8\"], [0.3333333333333333, \"#9c179e\"], [0.4444444444444444, \"#bd3786\"], [0.5555555555555556, \"#d8576b\"], [0.6666666666666666, \"#ed7953\"], [0.7777777777777778, \"#fb9f3a\"], [0.8888888888888888, \"#fdca26\"], [1.0, \"#f0f921\"]], \"type\": \"histogram2dcontour\"}], \"mesh3d\": [{\"colorbar\": {\"outlinewidth\": 0, \"ticks\": \"\"}, \"type\": \"mesh3d\"}], \"parcoords\": [{\"line\": {\"colorbar\": {\"outlinewidth\": 0, \"ticks\": \"\"}}, \"type\": \"parcoords\"}], \"pie\": [{\"automargin\": true, \"type\": \"pie\"}], \"scatter\": [{\"marker\": {\"colorbar\": {\"outlinewidth\": 0, \"ticks\": \"\"}}, \"type\": \"scatter\"}], \"scatter3d\": [{\"line\": {\"colorbar\": {\"outlinewidth\": 0, \"ticks\": \"\"}}, \"marker\": {\"colorbar\": {\"outlinewidth\": 0, \"ticks\": \"\"}}, \"type\": \"scatter3d\"}], \"scattercarpet\": [{\"marker\": {\"colorbar\": {\"outlinewidth\": 0, \"ticks\": \"\"}}, \"type\": \"scattercarpet\"}], \"scattergeo\": [{\"marker\": {\"colorbar\": {\"outlinewidth\": 0, \"ticks\": \"\"}}, \"type\": \"scattergeo\"}], \"scattergl\": [{\"marker\": {\"colorbar\": {\"outlinewidth\": 0, \"ticks\": \"\"}}, \"type\": \"scattergl\"}], \"scattermapbox\": [{\"marker\": {\"colorbar\": {\"outlinewidth\": 0, \"ticks\": \"\"}}, \"type\": \"scattermapbox\"}], \"scatterpolar\": [{\"marker\": {\"colorbar\": {\"outlinewidth\": 0, \"ticks\": \"\"}}, \"type\": \"scatterpolar\"}], \"scatterpolargl\": [{\"marker\": {\"colorbar\": {\"outlinewidth\": 0, \"ticks\": \"\"}}, \"type\": \"scatterpolargl\"}], \"scatterternary\": [{\"marker\": {\"colorbar\": {\"outlinewidth\": 0, \"ticks\": \"\"}}, \"type\": \"scatterternary\"}], \"surface\": [{\"colorbar\": {\"outlinewidth\": 0, \"ticks\": \"\"}, \"colorscale\": [[0.0, \"#0d0887\"], [0.1111111111111111, \"#46039f\"], [0.2222222222222222, \"#7201a8\"], [0.3333333333333333, \"#9c179e\"], [0.4444444444444444, \"#bd3786\"], [0.5555555555555556, \"#d8576b\"], [0.6666666666666666, \"#ed7953\"], [0.7777777777777778, \"#fb9f3a\"], [0.8888888888888888, \"#fdca26\"], [1.0, \"#f0f921\"]], \"type\": \"surface\"}], \"table\": [{\"cells\": {\"fill\": {\"color\": \"#EBF0F8\"}, \"line\": {\"color\": \"white\"}}, \"header\": {\"fill\": {\"color\": \"#C8D4E3\"}, \"line\": {\"color\": \"white\"}}, \"type\": \"table\"}]}, \"layout\": {\"annotationdefaults\": {\"arrowcolor\": \"#2a3f5f\", \"arrowhead\": 0, \"arrowwidth\": 1}, \"autotypenumbers\": \"strict\", \"coloraxis\": {\"colorbar\": {\"outlinewidth\": 0, \"ticks\": \"\"}}, \"colorscale\": {\"diverging\": [[0, \"#8e0152\"], [0.1, \"#c51b7d\"], [0.2, \"#de77ae\"], [0.3, \"#f1b6da\"], [0.4, \"#fde0ef\"], [0.5, \"#f7f7f7\"], [0.6, \"#e6f5d0\"], [0.7, \"#b8e186\"], [0.8, \"#7fbc41\"], [0.9, \"#4d9221\"], [1, \"#276419\"]], \"sequential\": [[0.0, \"#0d0887\"], [0.1111111111111111, \"#46039f\"], [0.2222222222222222, \"#7201a8\"], [0.3333333333333333, \"#9c179e\"], [0.4444444444444444, \"#bd3786\"], [0.5555555555555556, \"#d8576b\"], [0.6666666666666666, \"#ed7953\"], [0.7777777777777778, \"#fb9f3a\"], [0.8888888888888888, \"#fdca26\"], [1.0, \"#f0f921\"]], \"sequentialminus\": [[0.0, \"#0d0887\"], [0.1111111111111111, \"#46039f\"], [0.2222222222222222, \"#7201a8\"], [0.3333333333333333, \"#9c179e\"], [0.4444444444444444, \"#bd3786\"], [0.5555555555555556, \"#d8576b\"], [0.6666666666666666, \"#ed7953\"], [0.7777777777777778, \"#fb9f3a\"], [0.8888888888888888, \"#fdca26\"], [1.0, \"#f0f921\"]]}, \"colorway\": [\"#636efa\", \"#EF553B\", \"#00cc96\", \"#ab63fa\", \"#FFA15A\", \"#19d3f3\", \"#FF6692\", \"#B6E880\", \"#FF97FF\", \"#FECB52\"], \"font\": {\"color\": \"#2a3f5f\"}, \"geo\": {\"bgcolor\": \"white\", \"lakecolor\": \"white\", \"landcolor\": \"#E5ECF6\", \"showlakes\": true, \"showland\": true, \"subunitcolor\": \"white\"}, \"hoverlabel\": {\"align\": \"left\"}, \"hovermode\": \"closest\", \"mapbox\": {\"style\": \"light\"}, \"paper_bgcolor\": \"white\", \"plot_bgcolor\": \"#E5ECF6\", \"polar\": {\"angularaxis\": {\"gridcolor\": \"white\", \"linecolor\": \"white\", \"ticks\": \"\"}, \"bgcolor\": \"#E5ECF6\", \"radialaxis\": {\"gridcolor\": \"white\", \"linecolor\": \"white\", \"ticks\": \"\"}}, \"scene\": {\"xaxis\": {\"backgroundcolor\": \"#E5ECF6\", \"gridcolor\": \"white\", \"gridwidth\": 2, \"linecolor\": \"white\", \"showbackground\": true, \"ticks\": \"\", \"zerolinecolor\": \"white\"}, \"yaxis\": {\"backgroundcolor\": \"#E5ECF6\", \"gridcolor\": \"white\", \"gridwidth\": 2, \"linecolor\": \"white\", \"showbackground\": true, \"ticks\": \"\", \"zerolinecolor\": \"white\"}, \"zaxis\": {\"backgroundcolor\": \"#E5ECF6\", \"gridcolor\": \"white\", \"gridwidth\": 2, \"linecolor\": \"white\", \"showbackground\": true, \"ticks\": \"\", \"zerolinecolor\": \"white\"}}, \"shapedefaults\": {\"line\": {\"color\": \"#2a3f5f\"}}, \"ternary\": {\"aaxis\": {\"gridcolor\": \"white\", \"linecolor\": \"white\", \"ticks\": \"\"}, \"baxis\": {\"gridcolor\": \"white\", \"linecolor\": \"white\", \"ticks\": \"\"}, \"bgcolor\": \"#E5ECF6\", \"caxis\": {\"gridcolor\": \"white\", \"linecolor\": \"white\", \"ticks\": \"\"}}, \"title\": {\"x\": 0.05}, \"xaxis\": {\"automargin\": true, \"gridcolor\": \"white\", \"linecolor\": \"white\", \"ticks\": \"\", \"title\": {\"standoff\": 15}, \"zerolinecolor\": \"white\", \"zerolinewidth\": 2}, \"yaxis\": {\"automargin\": true, \"gridcolor\": \"white\", \"linecolor\": \"white\", \"ticks\": \"\", \"title\": {\"standoff\": 15}, \"zerolinecolor\": \"white\", \"zerolinewidth\": 2}}}, \"title\": {\"text\": \"Document Distribution by Topics\"}, \"xaxis\": {\"anchor\": \"y\", \"domain\": [0.0, 1.0], \"title\": {\"text\": \"Topic\"}}, \"yaxis\": {\"anchor\": \"x\", \"domain\": [0.0, 1.0], \"title\": {\"text\": \"Documents\"}}},                        {\"responsive\": true}                    ).then(function(){\n",
       "                            \n",
       "var gd = document.getElementById('b99cc930-0a65-4034-9873-98e9b3ccdc86');\n",
       "var x = new MutationObserver(function (mutations, observer) {{\n",
       "        var display = window.getComputedStyle(gd).display;\n",
       "        if (!display || display === 'none') {{\n",
       "            console.log([gd, 'removed!']);\n",
       "            Plotly.purge(gd);\n",
       "            observer.disconnect();\n",
       "        }}\n",
       "}});\n",
       "\n",
       "// Listen for the removal of the full notebook cells\n",
       "var notebookContainer = gd.closest('#notebook-container');\n",
       "if (notebookContainer) {{\n",
       "    x.observe(notebookContainer, {childList: true});\n",
       "}}\n",
       "\n",
       "// Listen for the clearing of the current output cell\n",
       "var outputEl = gd.closest('.output');\n",
       "if (outputEl) {{\n",
       "    x.observe(outputEl, {childList: true});\n",
       "}}\n",
       "\n",
       "                        })                };                });            </script>        </div>"
      ]
     },
     "metadata": {},
     "output_type": "display_data"
    }
   ],
   "source": [
    "plot_model(lsi, plot = 'topic_distribution')\n",
    "#plot_model(lsi, plot = 'wordcloud', topic_num = topic_num)\n",
    "#plot_model(lsi, plot = 'frequency', topic_num = topic_num)\n",
    "#plot_model(lsi, plot = 'distribution', topic_num = topic_num)\n",
    "#plot_model(lsi, plot = 'sentiment', topic_num = topic_num)\n",
    "#plot_model(lsi, plot = 'pos', topic_num = topic_num)\n",
    "#plot_model(lsi, plot = 'bigram', topic_num = topic_num)\n",
    "#plot_model(lsi, plot = 'trigram', topic_num = topic_num)"
   ]
  },
  {
   "cell_type": "code",
   "execution_count": 9,
   "id": "bulgarian-shepherd",
   "metadata": {},
   "outputs": [
    {
     "data": {
      "text/html": [
       "        <script type=\"text/javascript\">\n",
       "        window.PlotlyConfig = {MathJaxConfig: 'local'};\n",
       "        if (window.MathJax) {MathJax.Hub.Config({SVG: {font: \"STIX-Web\"}});}\n",
       "        if (typeof require !== 'undefined') {\n",
       "        require.undef(\"plotly\");\n",
       "        requirejs.config({\n",
       "            paths: {\n",
       "                'plotly': ['https://cdn.plot.ly/plotly-latest.min']\n",
       "            }\n",
       "        });\n",
       "        require(['plotly'], function(Plotly) {\n",
       "            window._Plotly = Plotly;\n",
       "        });\n",
       "        }\n",
       "        </script>\n",
       "        "
      ]
     },
     "metadata": {},
     "output_type": "display_data"
    },
    {
     "data": {
      "application/vnd.plotly.v1+json": {
       "config": {
        "plotlyServerURL": "https://plot.ly"
       },
       "data": [
        {
         "hovertemplate": "Dominant_Topic=Topic 0<br>0=%{x}<br>1=%{y}<br>2=%{z}<extra></extra>",
         "legendgroup": "Topic 0",
         "marker": {
          "color": "#636efa",
          "opacity": 0.7,
          "symbol": "circle"
         },
         "mode": "markers",
         "name": "Topic 0",
         "scene": "scene",
         "showlegend": true,
         "type": "scatter3d",
         "x": [
          2.7103590965270996,
          -5.403897285461426,
          10.805550575256348,
          5.279214382171631,
          -7.450691223144531,
          0.13765046000480652,
          -0.2417391836643219,
          0.8643108606338501,
          2.5433220863342285,
          11.336807250976562,
          -1.197210431098938,
          4.307133197784424,
          6.622324466705322,
          -1.1122077703475952,
          5.24953031539917,
          0.2465551197528839,
          -2.2172458171844482,
          -5.014298439025879,
          -2.9224836826324463,
          7.857642650604248,
          5.487796783447266,
          1.0716031789779663,
          0.9097315073013306,
          -2.98934006690979,
          -6.072464466094971,
          -4.090591907501221,
          -6.177879333496094,
          -7.235803127288818,
          0.8261362910270691,
          1.5076050758361816,
          -7.1596455574035645,
          0.6818273067474365,
          -6.432836055755615,
          -7.773682594299316,
          -0.9635646343231201,
          -2.479090452194214,
          10.14887809753418,
          -8.026073455810547,
          -0.3073244094848633,
          6.059000015258789,
          -1.6017916202545166,
          -0.7481306791305542,
          1.1986621618270874,
          4.037897109985352,
          3.5287961959838867,
          -0.5062732100486755,
          -2.4004056453704834,
          3.9966959953308105,
          1.6740442514419556,
          -1.7988662719726562,
          0.8001868724822998,
          -1.8665361404418945,
          -0.8939015865325928,
          -7.865497589111328,
          -0.8102282881736755,
          5.721669673919678,
          -1.5852305889129639,
          0.9563544392585754,
          1.499643087387085,
          0.4653860628604889,
          5.027644634246826,
          -1.1972967386245728,
          1.1862341165542603,
          3.48406720161438,
          1.0212467908859253,
          2.822986125946045,
          -0.10320045053958893,
          5.147231578826904,
          -6.212698459625244,
          3.632573127746582,
          -5.841568470001221,
          -0.353418231010437,
          0.40319177508354187,
          1.3934918642044067,
          -4.402714729309082,
          -1.7429614067077637,
          8.22989559173584,
          0.8196965456008911,
          1.486648440361023,
          1.1635806560516357,
          5.485429286956787,
          0.6529839634895325,
          2.8335494995117188,
          -6.565141677856445,
          -0.38317662477493286,
          -0.6396114826202393,
          -1.1180522441864014,
          -0.7044363617897034,
          8.930570602416992,
          -8.043418884277344,
          0.4672444760799408,
          -4.277485370635986,
          -4.309708118438721,
          -5.270444393157959,
          -4.2120680809021,
          -2.6265056133270264,
          -4.041848182678223,
          1.6400790214538574,
          3.1824073791503906,
          -0.6687942147254944,
          5.695812225341797,
          2.217529535293579,
          -1.3283240795135498,
          1.6050604581832886,
          -0.731561541557312,
          -4.0869059562683105,
          -1.693360686302185,
          -0.9574708342552185,
          4.118246078491211,
          4.099077224731445,
          -7.365292549133301,
          -8.170552253723145,
          5.937403202056885,
          1.6780626773834229,
          -7.765897274017334,
          -2.870816469192505,
          -0.7247424125671387,
          -1.5049607753753662,
          0.03931787237524986,
          2.356292247772217,
          2.215331792831421,
          -4.694716930389404,
          2.358304977416992,
          1.3840680122375488,
          -1.3135292530059814,
          -0.9222873449325562,
          -4.0683112144470215,
          -0.5766194462776184,
          1.4364928007125854,
          1.4741466045379639,
          0.10298145562410355,
          -5.30149507522583,
          -2.0071959495544434,
          -4.806440353393555,
          -7.538379669189453,
          1.886587142944336,
          -5.360670566558838,
          4.635441303253174,
          0.1287681758403778,
          1.3744227886199951,
          -8.059636116027832,
          6.955687046051025,
          -1.4156794548034668,
          0.8231315612792969,
          -6.278787136077881,
          0.9085103869438171,
          0.7531396746635437,
          -4.707420349121094,
          5.351171493530273,
          5.404397487640381,
          2.209331750869751,
          -7.202698707580566,
          5.381647109985352,
          1.7395446300506592,
          1.4329782724380493,
          3.368901252746582,
          8.6733980178833,
          -1.2168852090835571,
          -0.89397132396698,
          3.3937950134277344,
          -2.963839530944824,
          5.714468955993652,
          -1.8066539764404297,
          -5.535942077636719,
          6.566736698150635,
          0.3524879813194275,
          -7.4862380027771,
          2.2351081371307373,
          5.8180952072143555,
          -7.824963569641113,
          -8.146284103393555,
          -0.7336798906326294,
          -6.847226619720459,
          0.3521575331687927,
          -8.201665878295898,
          1.0376085042953491,
          2.2142956256866455,
          -8.065253257751465,
          11.067643165588379,
          -3.7691164016723633,
          -6.616240978240967,
          -6.872704029083252,
          -0.46872082352638245,
          2.112072229385376,
          -1.3823355436325073,
          -5.983853340148926,
          0.20971107482910156,
          2.65291428565979,
          3.4914093017578125,
          6.569586753845215,
          1.547955870628357,
          -1.5698184967041016,
          -6.508704662322998,
          0.0947377011179924,
          -0.6095786094665527,
          2.134941339492798,
          -1.1448910236358643,
          0.5857849717140198,
          0.46373406052589417,
          -0.6356515288352966,
          0.889977753162384,
          3.0464415550231934,
          1.9069668054580688,
          3.2187585830688477,
          -7.293457984924316,
          -7.2663187980651855,
          -0.4844529628753662,
          -0.43104907870292664,
          1.4812816381454468,
          0.9573286175727844,
          7.165587425231934,
          6.173271179199219,
          1.7392427921295166,
          -1.2754912376403809,
          -0.8825307488441467,
          -0.8430972695350647,
          -0.3473340570926666,
          -1.0322458744049072,
          1.1680452823638916,
          4.544196128845215,
          -2.290818214416504,
          1.3391693830490112,
          -6.033719539642334,
          10.494769096374512,
          6.162661075592041,
          5.567907810211182,
          -2.247748374938965,
          9.768559455871582,
          -4.268221378326416,
          5.853527069091797,
          2.0548465251922607,
          -4.181883811950684,
          -0.23838254809379578,
          0.32603245973587036,
          -6.718088150024414,
          -7.220115661621094,
          -4.061569690704346,
          -4.039252281188965,
          0.8955041170120239,
          4.317139148712158,
          0.2709423303604126,
          -4.55882453918457,
          -3.1784965991973877,
          0.149658203125,
          7.11681604385376,
          -8.621750831604004,
          -0.9690940976142883,
          1.3140075206756592,
          0.8963840007781982,
          -3.5912203788757324,
          -6.983241081237793,
          -2.054802417755127,
          4.343124866485596,
          2.59272837638855,
          -0.6195554137229919,
          -0.5073602199554443,
          -3.061399221420288,
          11.14861011505127,
          1.5764713287353516,
          -5.403912544250488,
          1.3730571269989014,
          0.27445822954177856,
          10.187889099121094,
          -0.3882811367511749,
          -4.763373374938965,
          -1.13621985912323,
          -3.8244690895080566,
          0.776018500328064,
          0.1422433704137802,
          7.32332706451416,
          -1.5759334564208984,
          -2.757389545440674,
          10.996517181396484,
          1.7419676780700684,
          -3.8519463539123535,
          -0.46765679121017456,
          -0.804248034954071,
          0.8048675656318665,
          -4.941335201263428,
          -1.883558750152588,
          1.3221631050109863,
          5.582640647888184,
          -0.3733539581298828,
          10.636865615844727,
          1.5232946872711182,
          0.1539926528930664,
          2.7240169048309326,
          4.271945953369141,
          10.576891899108887,
          2.222689390182495,
          2.9035894870758057,
          4.949193000793457,
          3.9853999614715576,
          -0.9080657958984375,
          1.535341739654541,
          3.821319580078125,
          -3.4997472763061523,
          1.132979393005371,
          -6.801189422607422,
          2.56550931930542,
          0.1305902898311615,
          9.739012718200684,
          3.06429386138916,
          -1.5551143884658813,
          -0.49418139457702637,
          -4.175074100494385,
          0.3268980085849762,
          3.5648858547210693,
          1.9248452186584473,
          4.367071628570557,
          2.519015073776245,
          1.3706063032150269,
          1.6095161437988281,
          0.8115271329879761,
          7.7851057052612305,
          -0.1346905529499054,
          9.585441589355469,
          -0.01946249231696129,
          0.7233667373657227,
          -3.133452892303467,
          -1.3869062662124634,
          1.7105411291122437,
          1.4548333883285522,
          -0.49564099311828613,
          -1.9965226650238037,
          1.373221755027771,
          -3.9560024738311768,
          1.331145167350769,
          6.385858535766602,
          1.8775826692581177,
          8.102934837341309,
          0.33123475313186646,
          4.759779453277588,
          1.4380531311035156,
          2.3637516498565674,
          0.3050721287727356,
          9.137874603271484,
          3.4516937732696533,
          1.603874921798706,
          -4.32933235168457,
          -6.094569206237793,
          -4.5514607429504395,
          0.37610504031181335,
          5.182267189025879,
          5.925137519836426,
          2.6512136459350586,
          10.507346153259277,
          0.34464871883392334,
          5.565035343170166,
          2.7851076126098633,
          -4.603529930114746,
          0.8150769472122192,
          7.035399913787842,
          7.458796501159668,
          -6.396872520446777,
          1.2335835695266724,
          10.777610778808594,
          5.147211074829102,
          5.976933002471924,
          -0.9207088351249695,
          1.6155641078948975,
          10.690075874328613,
          -2.8510284423828125,
          -2.3618571758270264,
          -3.7869319915771484,
          -7.601256370544434,
          10.528300285339355,
          1.1048686504364014,
          -7.756278991699219,
          -0.15184256434440613,
          -0.8614067435264587,
          3.761768341064453,
          1.0840407609939575,
          -3.793084144592285,
          3.844489097595215,
          -2.265091896057129,
          4.538734436035156,
          3.9444987773895264,
          -2.999469041824341,
          -3.898888111114502,
          0.7631492018699646,
          9.301992416381836,
          0.8851191997528076,
          -2.8474841117858887,
          4.338706970214844,
          -0.23729223012924194,
          2.3236031532287598,
          -0.6967580318450928,
          2.2642788887023926,
          0.28727614879608154,
          2.708115577697754,
          1.1841105222702026,
          -5.4560723304748535,
          -3.1930952072143555,
          10.49418830871582,
          0.9577085971832275,
          4.481543064117432,
          7.649293899536133,
          4.7274580001831055,
          -1.1515765190124512,
          2.6591203212738037,
          0.9886406064033508,
          0.849929928779602,
          5.767769813537598,
          -0.6316312551498413,
          1.8241983652114868,
          -0.439033567905426,
          -7.4773149490356445,
          7.915660858154297,
          -0.9494686126708984,
          -0.17785850167274475,
          -0.917353630065918,
          -0.720146656036377,
          2.419654607772827,
          -6.558498859405518,
          4.5835065841674805,
          2.183722496032715,
          -7.767764568328857,
          2.9703848361968994,
          -0.12379621714353561,
          0.999573826789856,
          6.984285831451416,
          0.621363639831543,
          0.8300405144691467,
          1.2387199401855469,
          -4.117709636688232,
          6.822934627532959,
          -8.822053909301758,
          -6.0887932777404785,
          2.5638928413391113,
          -4.6848673820495605,
          -3.5845510959625244,
          7.496179580688477,
          0.09767559170722961,
          6.811554908752441,
          -0.5535795092582703,
          -7.295066833496094,
          4.35688591003418,
          -1.4040448665618896,
          -5.1754679679870605,
          6.74082612991333,
          -4.681461334228516,
          5.486602783203125,
          3.640155792236328,
          -2.179682493209839,
          0.5139405131340027,
          0.20465654134750366,
          2.875481367111206,
          -3.9429616928100586,
          -1.5757805109024048,
          0.6325337886810303,
          0.23971597850322723,
          -5.28236722946167,
          3.484678268432617,
          -4.457815170288086,
          0.9493311047554016,
          -8.158953666687012,
          -4.454185485839844,
          -3.5683391094207764,
          2.04732608795166,
          -8.965764999389648,
          0.12670019268989563,
          -0.5420698523521423,
          3.643502712249756,
          -0.9468631148338318,
          0.09242359548807144,
          -5.945599555969238,
          -1.2675718069076538,
          1.6156246662139893,
          -4.868150234222412,
          -0.21977028250694275,
          -4.89107608795166,
          9.337590217590332,
          -0.7557700872421265,
          5.953373432159424,
          -4.27824592590332,
          -2.8940391540527344,
          0.601211667060852,
          1.695732831954956,
          -8.144837379455566,
          -0.3419785797595978,
          5.226803302764893,
          3.210899591445923,
          -7.691622734069824,
          2.6376326084136963,
          3.013514757156372,
          9.135845184326172,
          5.7960028648376465,
          -1.5450525283813477,
          0.7462691068649292,
          -0.7968951463699341,
          -5.206399440765381,
          1.548280954360962,
          -3.007354497909546,
          -2.8881518840789795,
          -1.6191158294677734,
          0.6081465482711792,
          -3.7664833068847656,
          7.728372097015381,
          -8.330748558044434,
          -3.4074792861938477,
          0.8348681926727295,
          -2.751370429992676,
          4.818879127502441,
          5.919070720672607,
          4.109007835388184,
          10.69504451751709,
          -3.364426612854004,
          10.106670379638672,
          -0.6622318029403687,
          3.321253776550293,
          -2.2192087173461914,
          -6.615274429321289,
          -5.527596473693848,
          4.69813871383667,
          -1.0018424987792969,
          -4.330009460449219,
          -1.1910957098007202,
          -3.075741767883301,
          -4.315579414367676,
          1.6954354047775269,
          3.531867504119873,
          -3.7011330127716064,
          -7.061107635498047,
          -0.8896209001541138,
          -2.9527671337127686,
          0.6675122380256653,
          1.396834373474121,
          -4.267589092254639,
          -7.774672031402588,
          -0.696759045124054,
          1.6923059225082397,
          5.4041829109191895,
          -2.2187955379486084,
          2.4464588165283203,
          1.8145049810409546,
          -1.4552059173583984,
          -2.8136982917785645,
          -7.41348123550415,
          -2.7687201499938965,
          2.4290339946746826,
          -0.8383828401565552,
          -1.0013036727905273,
          -1.3231914043426514,
          -5.9857964515686035,
          -0.9510676860809326,
          -0.14683878421783447,
          6.096692085266113,
          1.0277438163757324,
          -6.785452842712402,
          -5.293574333190918,
          -3.795733690261841,
          -4.913418769836426,
          0.8215965032577515,
          5.485428810119629,
          0.40870216488838196,
          1.0603212118148804,
          -5.592782497406006,
          -2.1093499660491943,
          -4.937270164489746,
          10.4663667678833,
          -8.01987361907959,
          0.9756836891174316,
          0.4853530526161194,
          -0.3369986116886139,
          0.43375810980796814,
          1.703108787536621,
          0.25514474511146545,
          7.508817672729492,
          1.6915123462677002,
          -2.5657477378845215,
          5.104676723480225,
          -7.283812522888184,
          -2.0628926753997803,
          -3.1290647983551025,
          5.335567951202393,
          1.4600671529769897,
          6.534632682800293,
          -4.347523212432861,
          -4.353412628173828,
          -6.546454429626465,
          1.1888574361801147,
          1.5733782052993774,
          0.6473739147186279,
          -0.7011199593544006,
          -7.8368754386901855,
          2.5158159732818604,
          4.395969390869141,
          -2.6912593841552734,
          1.0617733001708984,
          9.888894081115723,
          -7.699419021606445,
          -5.88248348236084,
          1.3412572145462036,
          7.246899127960205,
          11.108030319213867,
          1.4996694326400757,
          0.11660082638263702,
          -4.5654520988464355,
          -4.029494285583496,
          1.5104659795761108,
          -0.0574047714471817,
          -0.6024767160415649,
          2.24800705909729,
          -4.715174198150635,
          -7.24170446395874,
          -5.673882961273193,
          -5.506112575531006,
          -0.9647829532623291,
          1.0241161584854126,
          1.546586036682129,
          -0.028454532846808434,
          -7.7711052894592285,
          0.0408240370452404,
          -4.118187427520752,
          -2.753631353378296,
          -0.6168752908706665,
          -0.5146366953849792,
          10.293106079101562,
          11.142179489135742,
          0.09320729225873947,
          -0.27546775341033936,
          0.9435330629348755,
          -7.328472137451172,
          0.4680171012878418,
          -2.201261281967163,
          0.9853496551513672,
          6.317263126373291,
          -1.4964910745620728,
          -1.144468903541565,
          9.680862426757812,
          3.605600357055664,
          -5.942122459411621,
          -6.138868808746338,
          1.8136472702026367,
          4.274374485015869,
          1.5717936754226685,
          -5.790834426879883,
          0.5812300443649292,
          2.038414478302002,
          -6.682406425476074,
          -0.2921660840511322,
          -3.0534298419952393,
          -0.7143154740333557,
          -7.124492645263672,
          -4.081122875213623,
          -0.8559911847114563,
          -6.1591339111328125,
          -6.251308441162109,
          1.4078397750854492,
          0.10129263252019882,
          2.441237449645996,
          -4.291415691375732,
          0.3267723321914673,
          -5.547336578369141,
          -2.6325478553771973,
          4.091824054718018,
          -2.9154183864593506,
          2.1852850914001465,
          4.926347732543945,
          2.8472650051116943,
          0.5787002444267273,
          -6.764230728149414,
          0.37225523591041565,
          2.394709825515747,
          4.679301738739014,
          5.495172023773193,
          -3.8760826587677,
          1.6070833206176758,
          -0.5447906851768494,
          -7.038215637207031,
          1.9133976697921753,
          -4.390575885772705,
          -3.5338335037231445,
          -7.845915794372559,
          1.0044783353805542,
          5.558508396148682,
          0.2778526544570923,
          -2.5137104988098145,
          -4.894639492034912,
          -2.545518636703491,
          -3.4187824726104736,
          5.630349159240723,
          -2.6767940521240234,
          -0.2670353949069977,
          -1.1886017322540283,
          -0.5949787497520447,
          -3.098766803741455,
          4.53855562210083,
          6.085916519165039,
          -3.4555892944335938,
          1.3156925439834595,
          3.597829818725586,
          0.030156796798110008,
          0.2729940712451935,
          -3.419734477996826,
          7.137664318084717,
          5.091858863830566,
          -0.703628659248352,
          -4.346229553222656,
          -7.6332292556762695,
          1.726550817489624,
          -3.172125816345215,
          8.840143203735352,
          1.6260523796081543,
          0.7107200026512146,
          -1.1212515830993652,
          0.9480618238449097,
          -1.2614737749099731,
          2.9651598930358887,
          0.6636235117912292,
          -5.321488380432129,
          0.34414979815483093,
          3.140646457672119,
          2.808528423309326,
          1.4299495220184326,
          2.0525808334350586,
          -5.660046100616455,
          -4.298054218292236,
          -3.0479700565338135,
          -6.504043102264404,
          5.460226058959961,
          -1.6574413776397705,
          0.48676666617393494,
          -4.249538898468018,
          0.2091675102710724,
          -0.7271627187728882,
          1.150399923324585,
          0.24609699845314026,
          -5.463127613067627,
          2.183773994445801,
          1.1913312673568726,
          0.5275362730026245,
          5.1701979637146,
          0.1938953846693039,
          1.6574883460998535,
          -5.057552814483643,
          -0.7841768264770508,
          -2.8770699501037598,
          7.7983598709106445,
          -7.269487380981445,
          5.746683597564697,
          1.9454514980316162,
          8.824348449707031,
          -6.30400276184082,
          -0.42674654722213745,
          -3.0605974197387695,
          -2.821624755859375,
          10.568218231201172,
          -0.8350445032119751,
          0.29177603125572205,
          -4.828954696655273,
          -4.958981037139893,
          1.0815749168395996,
          -7.085305213928223,
          0.24515977501869202,
          -1.584875464439392,
          2.4660019874572754,
          0.06477108597755432,
          -5.310109615325928,
          0.37896403670310974,
          -4.188342094421387,
          -4.182079792022705,
          1.589088797569275,
          -5.732015132904053,
          -0.3147001564502716,
          -5.547199726104736,
          -0.6891455054283142,
          0.533207356929779,
          8.921947479248047,
          3.235020399093628,
          -7.821844100952148,
          5.3929853439331055,
          5.608435153961182,
          -1.5800955295562744,
          3.606163263320923,
          0.8365698456764221,
          1.3319917917251587,
          -0.9677302241325378,
          -5.373917579650879,
          5.337000370025635,
          0.4518930912017822,
          1.44692063331604,
          1.832745909690857,
          5.464442729949951,
          -3.9594290256500244,
          5.735583305358887,
          5.246866226196289,
          -7.4419403076171875,
          1.4659351110458374,
          -4.0803632736206055,
          0.7522289156913757,
          -5.852933883666992,
          -6.185269832611084,
          -0.2323245108127594,
          0.7745474576950073,
          1.5218621492385864,
          -1.1121716499328613,
          0.5542344450950623,
          -7.7493391036987305,
          2.158320426940918,
          0.3538220524787903,
          0.008247754536569118,
          1.522712230682373,
          -0.46293339133262634,
          0.019851258024573326,
          -0.038481928408145905,
          -5.175133228302002,
          4.89825963973999,
          -2.253838539123535,
          0.017587414011359215,
          -3.1229686737060547,
          2.584681510925293,
          1.5970962047576904,
          -0.6225759387016296,
          6.994668960571289,
          -0.03254486247897148,
          1.1615238189697266,
          0.9393457770347595,
          -5.762109279632568,
          -8.937439918518066,
          -0.07080306857824326,
          11.122313499450684,
          -1.7660634517669678,
          -2.8166682720184326,
          4.0479302406311035,
          2.9224905967712402,
          -1.7211834192276,
          7.252412796020508,
          0.2672503888607025,
          8.472373962402344,
          -3.53959584236145,
          1.5201762914657593,
          -0.49418139457702637,
          4.254593849182129,
          2.901763677597046,
          0.8990508913993835,
          -0.9853887557983398,
          0.6668755412101746,
          11.129212379455566,
          1.3750272989273071,
          -3.077545166015625,
          -7.837337970733643,
          -2.841801166534424,
          -5.024637699127197,
          -0.24264740943908691,
          5.814061641693115,
          -2.131013870239258,
          -6.89810037612915,
          -3.013812780380249,
          -1.0926365852355957,
          -1.1904828548431396,
          1.0471460819244385,
          -4.765214920043945,
          0.4285649061203003,
          0.8657231330871582,
          -3.4337384700775146,
          1.159075140953064,
          1.1550499200820923,
          -1.8885451555252075,
          -0.23482689261436462,
          -6.873276233673096,
          9.769054412841797,
          1.1926145553588867,
          2.224195718765259,
          -3.114368438720703,
          -4.509736061096191,
          -0.1546652466058731,
          -3.0275535583496094,
          -3.1116456985473633,
          -0.9816945791244507,
          -0.4845482110977173,
          -2.4300038814544678,
          1.1141196489334106,
          -3.5618128776550293,
          -6.557086944580078,
          -4.390649318695068,
          1.696221947669983,
          0.34213387966156006,
          -2.734706401824951,
          -5.38720178604126,
          10.959513664245605,
          10.401162147521973,
          -1.1122314929962158,
          -4.17430305480957,
          3.632307767868042,
          -4.604639530181885,
          7.301242828369141,
          -1.948137640953064,
          6.867450714111328,
          0.9872337579727173,
          9.80050277709961,
          5.866602420806885,
          2.1815764904022217,
          0.22897827625274658,
          -1.3982582092285156,
          3.6159236431121826,
          0.24035575985908508,
          -5.033121585845947,
          -7.8151092529296875,
          -1.5475342273712158,
          6.990060806274414,
          9.679244041442871,
          -0.15393893420696259,
          5.456185817718506,
          -4.450199604034424,
          -6.523462772369385,
          2.246943473815918,
          -3.0329673290252686,
          -1.925837516784668,
          3.3047168254852295,
          0.3606548607349396,
          -0.034808747470378876,
          -7.206757068634033,
          10.094923973083496,
          3.243718385696411,
          -4.468067169189453,
          8.228671073913574,
          -0.6108863353729248,
          -1.8079708814620972,
          -4.80587911605835,
          -0.7080710530281067,
          2.428525686264038,
          -1.3396269083023071,
          0.07363314181566238,
          -1.768342137336731,
          2.1839993000030518,
          -3.7922728061676025,
          5.793115615844727,
          -4.662231922149658,
          -2.6655125617980957,
          -4.289657115936279,
          -4.845531940460205,
          -3.723853826522827,
          3.8479573726654053,
          4.996039867401123,
          -7.312389373779297,
          -5.436252117156982,
          0.84134441614151,
          -0.7782261967658997,
          -3.3670923709869385,
          1.6206644773483276,
          1.126447319984436,
          3.421419858932495,
          -4.111515998840332,
          0.6699411273002625,
          7.756002902984619,
          -5.6107497215271,
          10.49934196472168,
          -6.473384380340576,
          -3.296147108078003,
          0.3617517650127411,
          9.343512535095215,
          -5.651113986968994,
          3.0319886207580566,
          -1.004990577697754,
          -4.801481246948242,
          -5.458937644958496,
          -4.475954055786133,
          -0.8567699193954468,
          10.744756698608398,
          3.2295758724212646,
          -3.992701768875122,
          -7.391201972961426,
          -0.7148429155349731,
          3.7185449600219727,
          -3.0050711631774902,
          4.62770414352417
         ],
         "y": [
          -2.5577621459960938,
          -9.477018356323242,
          14.048710823059082,
          3.7531423568725586,
          -5.052100658416748,
          -3.0153145790100098,
          -0.7527078986167908,
          -4.238613128662109,
          6.710459232330322,
          13.685739517211914,
          -5.679508209228516,
          4.48713493347168,
          11.178064346313477,
          -5.901475429534912,
          12.63325309753418,
          -5.849885940551758,
          0.9939948320388794,
          -9.05603313446045,
          -3.229564666748047,
          13.217464447021484,
          4.003171920776367,
          3.4755709171295166,
          -3.563098192214966,
          -8.394524574279785,
          -9.239089012145996,
          -6.651874542236328,
          -8.824399948120117,
          -7.03000020980835,
          0.36496853828430176,
          -0.4159034192562103,
          -7.997513771057129,
          -9.152276039123535,
          -8.685810089111328,
          -6.891363143920898,
          -1.5769586563110352,
          2.5891714096069336,
          12.330499649047852,
          -7.113458633422852,
          2.1067914962768555,
          10.492667198181152,
          -6.2519989013671875,
          3.5115602016448975,
          -0.5146104693412781,
          9.263051986694336,
          6.708540439605713,
          -0.2402942180633545,
          -0.20113633573055267,
          5.728261947631836,
          7.309550762176514,
          -4.065570831298828,
          2.717376708984375,
          -4.727690696716309,
          -0.7668884992599487,
          -5.819387912750244,
          3.3014028072357178,
          10.211438179016113,
          -9.473145484924316,
          5.674091339111328,
          -0.22984059154987335,
          5.051581859588623,
          9.7088623046875,
          3.5757367610931396,
          1.9639400243759155,
          5.4908366203308105,
          0.8106059432029724,
          -2.467146396636963,
          -1.3199950456619263,
          5.804196834564209,
          -3.5736887454986572,
          2.2093968391418457,
          -9.588438034057617,
          -2.5337295532226562,
          -0.9632493257522583,
          -2.868175745010376,
          0.9605945944786072,
          1.1145657300949097,
          12.54422378540039,
          -5.609470367431641,
          2.535073757171631,
          3.877634048461914,
          4.02406644821167,
          5.009533405303955,
          2.5051379203796387,
          -4.194695949554443,
          2.940552234649658,
          -4.108142852783203,
          -6.88025426864624,
          0.010206418111920357,
          14.489485740661621,
          -5.794336795806885,
          -2.495130777359009,
          -3.2703192234039307,
          -7.776424407958984,
          -3.5864624977111816,
          -8.260247230529785,
          -4.1917572021484375,
          -4.237867832183838,
          -0.1508747935295105,
          6.280666351318359,
          0.2749221622943878,
          10.37789535522461,
          4.5110087394714355,
          -2.362128257751465,
          -3.129284620285034,
          -0.8201632499694824,
          -5.912700653076172,
          -0.04810601472854614,
          -2.4380745887756348,
          7.285059452056885,
          9.559614181518555,
          -7.348637580871582,
          -8.91624927520752,
          10.501004219055176,
          3.220327138900757,
          -8.215598106384277,
          -6.655857086181641,
          3.7617368698120117,
          2.6122002601623535,
          -1.9059405326843262,
          7.046817302703857,
          -0.20382045209407806,
          -2.264763355255127,
          6.543339729309082,
          -3.7215771675109863,
          0.5160542726516724,
          -1.5084686279296875,
          -4.945540428161621,
          -8.88224983215332,
          -3.2759275436401367,
          -4.305383682250977,
          -4.373579025268555,
          -3.733042001724243,
          1.9674360752105713,
          -5.473701000213623,
          -8.827061653137207,
          -6.29391622543335,
          -4.10296106338501,
          9.51478099822998,
          0.14158394932746887,
          -0.002208104357123375,
          -7.1062469482421875,
          12.05517864227295,
          2.258206367492676,
          -8.29189395904541,
          -3.011626720428467,
          -1.7151663303375244,
          -7.781078815460205,
          -3.239858627319336,
          12.867572784423828,
          5.584666728973389,
          7.025739669799805,
          -5.669358253479004,
          2.9998700618743896,
          6.47031307220459,
          -3.0375914573669434,
          4.5380144119262695,
          12.15184211730957,
          -2.595733165740967,
          -2.0996038913726807,
          3.7913715839385986,
          -1.7988630533218384,
          10.205220222473145,
          1.6041247844696045,
          -3.941094398498535,
          7.501335144042969,
          5.4418625831604,
          -7.834870338439941,
          3.2705435752868652,
          5.895981311798096,
          -7.026574611663818,
          -9.11385726928711,
          -1.7491825819015503,
          -8.350180625915527,
          -6.998920440673828,
          -7.065897464752197,
          -7.867967128753662,
          3.9332902431488037,
          -8.502659797668457,
          14.475587844848633,
          -3.36615252494812,
          -7.730226993560791,
          -8.328251838684082,
          -3.7614121437072754,
          1.409446120262146,
          -6.121196746826172,
          -10.268023490905762,
          5.426825523376465,
          8.544276237487793,
          4.776843547821045,
          7.068268299102783,
          -3.3211312294006348,
          -8.142228126525879,
          -3.2348477840423584,
          -3.5627541542053223,
          -8.330829620361328,
          3.763361692428589,
          -0.7739743590354919,
          -1.592574954032898,
          -2.0528616905212402,
          -5.864854335784912,
          -5.699865341186523,
          6.174097061157227,
          4.483341693878174,
          7.477353096008301,
          -7.158000469207764,
          -8.501155853271484,
          -8.359609603881836,
          -8.89382553100586,
          -2.3499205112457275,
          -1.258884072303772,
          7.354543209075928,
          11.478586196899414,
          -1.252539873123169,
          -2.7771520614624023,
          -1.4835443496704102,
          0.9348679184913635,
          -3.638046979904175,
          -2.228677988052368,
          -1.7701884508132935,
          9.973183631896973,
          -8.012067794799805,
          -1.8855441808700562,
          -8.482250213623047,
          14.031211853027344,
          10.638969421386719,
          4.518498420715332,
          1.9408483505249023,
          12.667474746704102,
          0.8513432741165161,
          10.141916275024414,
          -5.746379375457764,
          -9.071782112121582,
          -8.246160507202148,
          -3.6249845027923584,
          -8.421006202697754,
          -5.10665225982666,
          -9.284096717834473,
          -1.7673547267913818,
          0.9018778800964355,
          6.960636615753174,
          5.582840442657471,
          -4.069388389587402,
          -7.5693864822387695,
          -1.5466028451919556,
          12.057085037231445,
          -6.221170902252197,
          -8.754390716552734,
          5.857796669006348,
          0.7554577589035034,
          -8.85886001586914,
          -8.550844192504883,
          -1.2433576583862305,
          8.27553653717041,
          8.93847370147705,
          -9.174973487854004,
          -4.0344929695129395,
          -8.183615684509277,
          14.705671310424805,
          -0.2579861283302307,
          -9.477029800415039,
          6.13450288772583,
          -6.5085978507995605,
          14.516843795776367,
          -2.841230869293213,
          -2.9854557514190674,
          -2.4422707557678223,
          1.4983196258544922,
          -6.629220485687256,
          0.28878360986709595,
          11.110864639282227,
          2.8677871227264404,
          -7.008120536804199,
          12.54847526550293,
          0.956946611404419,
          -7.3857502937316895,
          -0.7003301382064819,
          -8.809537887573242,
          -2.4391708374023438,
          -3.1305134296417236,
          -8.306502342224121,
          -2.332104206085205,
          10.161972999572754,
          4.583127498626709,
          12.394757270812988,
          -4.026429176330566,
          -2.5853958129882812,
          4.0777459144592285,
          7.22558069229126,
          12.885769844055176,
          7.13478422164917,
          5.45976448059082,
          5.5044941902160645,
          7.362654685974121,
          3.8178141117095947,
          -4.225283145904541,
          3.235036849975586,
          -8.267398834228516,
          -2.3841967582702637,
          -5.005752086639404,
          8.73745346069336,
          -4.534844398498535,
          12.515589714050293,
          2.080845594406128,
          -0.39124202728271484,
          5.664592266082764,
          -4.571155071258545,
          4.775721549987793,
          7.63189697265625,
          -5.034267902374268,
          5.9348320960998535,
          7.023311138153076,
          -1.8915526866912842,
          -2.143846273422241,
          -1.4606752395629883,
          11.775054931640625,
          0.608418881893158,
          14.561333656311035,
          -0.518750786781311,
          -3.138399600982666,
          -1.1263391971588135,
          -7.094766616821289,
          -0.36180561780929565,
          -3.349047899246216,
          1.8419830799102783,
          2.0340194702148438,
          -2.738227128982544,
          -7.742659568786621,
          -5.944637298583984,
          10.376482963562012,
          -4.89808464050293,
          12.213501930236816,
          4.742501735687256,
          4.488770961761475,
          3.1543335914611816,
          1.2858976125717163,
          1.8197505474090576,
          12.807326316833496,
          6.853617191314697,
          6.423947811126709,
          -6.936924457550049,
          -2.575958728790283,
          0.6960791349411011,
          -2.0743014812469482,
          10.29410171508789,
          5.1545729637146,
          8.103775024414062,
          13.96023178100586,
          -3.2096447944641113,
          10.059770584106445,
          -2.455803155899048,
          -3.8543686866760254,
          -7.927560329437256,
          11.765212059020996,
          8.499618530273438,
          -8.275969505310059,
          2.083592414855957,
          13.616172790527344,
          8.958455085754395,
          3.4657533168792725,
          -1.7466025352478027,
          3.2037525177001953,
          14.197914123535156,
          -5.878879070281982,
          1.9393651485443115,
          -9.247172355651855,
          -7.042805194854736,
          14.590057373046875,
          1.4425147771835327,
          -8.04415512084961,
          -5.742380142211914,
          3.8724043369293213,
          5.4470648765563965,
          -9.10548210144043,
          -9.056857109069824,
          3.068309783935547,
          1.7377482652664185,
          6.701986789703369,
          6.120769500732422,
          -0.3907943665981293,
          -5.988323211669922,
          0.18709087371826172,
          12.387492179870605,
          -5.55133056640625,
          -2.208292245864868,
          3.939093828201294,
          4.4849419593811035,
          1.8606016635894775,
          -6.4238481521606445,
          4.483848571777344,
          -3.5597164630889893,
          6.973064422607422,
          -1.9168415069580078,
          -9.734305381774902,
          -2.52944278717041,
          14.087740898132324,
          -0.7269997596740723,
          11.550206184387207,
          12.345335960388184,
          5.565561771392822,
          1.387842059135437,
          1.5966426134109497,
          -7.903538227081299,
          4.2192583084106445,
          11.685383796691895,
          -0.3346608281135559,
          1.308597207069397,
          4.338016510009766,
          -7.778907775878906,
          12.274775505065918,
          -5.592901229858398,
          3.395263195037842,
          2.128131866455078,
          3.4520821571350098,
          8.368216514587402,
          -7.756004333496094,
          9.64425277709961,
          4.22668981552124,
          -8.836553573608398,
          4.738606929779053,
          3.4692118167877197,
          5.841141223907471,
          11.637260437011719,
          -9.126355171203613,
          -3.355116367340088,
          1.144482135772705,
          -2.765354871749878,
          10.917779922485352,
          -6.05629301071167,
          -9.196100234985352,
          1.1085602045059204,
          -3.466900587081909,
          -2.0642476081848145,
          10.061576843261719,
          6.1224212646484375,
          10.490939140319824,
          -3.072340488433838,
          -8.040556907653809,
          4.657835006713867,
          -5.97528076171875,
          -4.019015312194824,
          11.323068618774414,
          -8.020513534545898,
          2.772944211959839,
          6.169079303741455,
          -2.187051296234131,
          2.1393818855285645,
          5.237037658691406,
          -0.8940695524215698,
          -4.204105854034424,
          -7.8986616134643555,
          5.083471775054932,
          5.289634704589844,
          -8.021177291870117,
          9.246942520141602,
          -2.2188384532928467,
          -7.709253311157227,
          -8.084613800048828,
          -5.146820545196533,
          -0.8054968118667603,
          -5.676872253417969,
          -5.811485290527344,
          0.9861647486686707,
          -2.5827226638793945,
          1.2465593814849854,
          -5.286907196044922,
          -4.164704322814941,
          -3.6193032264709473,
          -6.212678909301758,
          -4.116530895233154,
          -6.628119468688965,
          -2.344275712966919,
          -7.412400722503662,
          12.260224342346191,
          2.2174160480499268,
          10.456064224243164,
          2.2751352787017822,
          1.2391918897628784,
          -1.092942476272583,
          -0.21983954310417175,
          -6.6481428146362305,
          -2.4951517581939697,
          5.219492435455322,
          6.2422380447387695,
          -6.41575288772583,
          7.219830513000488,
          9.227011680603027,
          12.85556697845459,
          8.575393676757812,
          2.8015477657318115,
          -4.702264308929443,
          -1.4807827472686768,
          -3.423644542694092,
          -9.139330863952637,
          -1.0760053396224976,
          -0.9592079520225525,
          -1.9855456352233887,
          -1.7482495307922363,
          -5.708797931671143,
          14.154216766357422,
          -8.823044776916504,
          -2.813141345977783,
          5.355410575866699,
          2.17488169670105,
          9.697955131530762,
          10.613969802856445,
          6.673943996429443,
          13.384875297546387,
          3.344346523284912,
          11.819428443908691,
          -1.7929571866989136,
          6.398766994476318,
          -6.347183704376221,
          -4.973534107208252,
          -6.962216377258301,
          10.424274444580078,
          2.4926421642303467,
          1.3541102409362793,
          -5.774646759033203,
          1.929410457611084,
          -3.069685935974121,
          2.77754807472229,
          6.160426616668701,
          -3.0631296634674072,
          -5.267198085784912,
          3.8041279315948486,
          -8.851785659790039,
          6.458811283111572,
          7.83992338180542,
          0.7878243327140808,
          -7.238038063049316,
          -6.423771858215332,
          6.791018009185791,
          5.635519504547119,
          -0.6875726580619812,
          1.8987597227096558,
          6.016068935394287,
          2.0764057636260986,
          -0.10417047142982483,
          -6.478584289550781,
          -0.07746434211730957,
          6.328278064727783,
          4.808377742767334,
          -0.901695191860199,
          2.397312879562378,
          -10.369243621826172,
          -6.130198001861572,
          4.887563228607178,
          6.292139530181885,
          4.84190034866333,
          -5.076601028442383,
          -2.3915562629699707,
          -7.34224271774292,
          -2.3950624465942383,
          -5.479342460632324,
          4.024023532867432,
          6.483622074127197,
          -2.550157070159912,
          -2.6310572624206543,
          0.21897874772548676,
          -3.3086884021759033,
          13.43986701965332,
          -7.108020782470703,
          1.2284437417984009,
          -2.7915408611297607,
          2.485262393951416,
          6.64644718170166,
          -0.10708365589380264,
          -0.9676432609558105,
          9.988871574401855,
          4.674809455871582,
          0.4525608718395233,
          12.341374397277832,
          -9.296459197998047,
          -7.3848981857299805,
          -8.894668579101562,
          8.895702362060547,
          -4.533121585845947,
          13.131814002990723,
          -4.666072368621826,
          -7.115776062011719,
          -9.074213027954102,
          -3.9240429401397705,
          3.9601564407348633,
          -3.4144670963287354,
          -9.37437629699707,
          -6.930029392242432,
          1.954344391822815,
          8.220562934875488,
          -0.7413224577903748,
          -3.0256052017211914,
          12.901826858520508,
          -7.929564952850342,
          -7.941937446594238,
          0.7935320734977722,
          8.997182846069336,
          14.681367874145508,
          -2.329385757446289,
          -0.484129935503006,
          -3.4373233318328857,
          -6.387519359588623,
          -1.4126255512237549,
          -3.414813995361328,
          2.3051657676696777,
          2.6432688236236572,
          1.7313287258148193,
          -5.74412727355957,
          -2.068068265914917,
          -3.732123613357544,
          -8.474780082702637,
          -7.217144966125488,
          -9.22305965423584,
          4.1102423667907715,
          -6.99203634262085,
          4.764340400695801,
          2.334479331970215,
          0.14279228448867798,
          5.202956676483154,
          -8.878344535827637,
          13.994684219360352,
          14.69591236114502,
          -5.193723201751709,
          -3.1343724727630615,
          3.8500921726226807,
          -8.381636619567871,
          -3.381124496459961,
          0.19667133688926697,
          5.696514129638672,
          10.336408615112305,
          -3.546445369720459,
          -2.675391674041748,
          14.38895034790039,
          6.730292797088623,
          -3.2547967433929443,
          -3.8607497215270996,
          -0.4228389859199524,
          6.785953044891357,
          7.542261123657227,
          -2.6796789169311523,
          3.763570785522461,
          3.8289377689361572,
          -4.084043025970459,
          -1.6365832090377808,
          -3.0000977516174316,
          0.23787544667720795,
          -5.25615119934082,
          -7.983511447906494,
          1.2919977903366089,
          -9.881327629089355,
          -3.928668975830078,
          6.199717998504639,
          -1.6788533926010132,
          1.0241278409957886,
          -6.002292633056641,
          -0.3412303626537323,
          -3.54677677154541,
          -0.04731075465679169,
          1.9324966669082642,
          1.1457165479660034,
          4.235385417938232,
          9.98469352722168,
          1.1161401271820068,
          -5.381783962249756,
          -8.300627708435059,
          -4.488009929656982,
          3.377750873565674,
          9.534866333007812,
          5.672464847564697,
          -0.8579065203666687,
          -4.221436500549316,
          2.91117787361145,
          -5.043561935424805,
          6.795022964477539,
          -3.1891427040100098,
          -3.267937183380127,
          -7.256241798400879,
          3.98225998878479,
          3.604978561401367,
          -4.332854270935059,
          -6.5318284034729,
          -6.1254563331604,
          -0.5733296275138855,
          -3.4329941272735596,
          11.011295318603516,
          -6.0535888671875,
          1.8789691925048828,
          0.7697622179985046,
          -2.944101095199585,
          -5.721101760864258,
          1.6704487800598145,
          12.020977973937988,
          -7.049045562744141,
          -0.01544230617582798,
          5.873875617980957,
          -3.1071231365203857,
          -2.7352752685546875,
          -8.18759536743164,
          9.909996032714844,
          10.046831130981445,
          3.9439618587493896,
          2.663588047027588,
          -5.531279563903809,
          3.4051034450531006,
          -8.762990951538086,
          12.994905471801758,
          3.4622433185577393,
          4.163856506347656,
          -6.941668510437012,
          3.421149969100952,
          -0.7531458139419556,
          3.639455556869507,
          -4.666290283203125,
          -3.3339931964874268,
          6.41952657699585,
          5.913759231567383,
          2.353278398513794,
          3.2012476921081543,
          4.583662509918213,
          -2.793675422668457,
          -6.427146911621094,
          -8.79979419708252,
          -4.050095558166504,
          12.796144485473633,
          -3.871053457260132,
          3.363339424133301,
          -7.719898700714111,
          5.209151268005371,
          -0.9137519001960754,
          1.5037870407104492,
          -0.8291361331939697,
          -3.479370594024658,
          1.521356225013733,
          -2.610673189163208,
          4.17698860168457,
          9.013463973999023,
          -4.404537200927734,
          -3.8833887577056885,
          -2.917637825012207,
          -5.649689197540283,
          -8.449660301208496,
          11.816385269165039,
          -5.307667255401611,
          10.239523887634277,
          7.933438777923584,
          12.568552017211914,
          -7.307063102722168,
          -8.498455047607422,
          2.0679280757904053,
          1.8003240823745728,
          12.94335651397705,
          -9.391286849975586,
          -5.778781890869141,
          -6.122839450836182,
          -3.4510080814361572,
          -6.575038909912109,
          -4.766942501068115,
          0.418779194355011,
          -0.46308276057243347,
          6.803071975708008,
          -0.10457213968038559,
          -3.657017946243286,
          -2.8762118816375732,
          -9.313694953918457,
          -7.304784774780273,
          2.866651773452759,
          -3.248042583465576,
          -5.774421215057373,
          -3.7175345420837402,
          0.9343250393867493,
          -3.1883113384246826,
          12.729951858520508,
          6.302691459655762,
          -7.098361492156982,
          5.587259769439697,
          7.271989822387695,
          -3.518156051635742,
          6.300721168518066,
          -3.4467198848724365,
          6.215668201446533,
          -2.3067097663879395,
          -3.062666416168213,
          5.772449493408203,
          -3.050112009048462,
          -4.800700664520264,
          3.7069830894470215,
          13.02525806427002,
          -2.929185152053833,
          3.5703108310699463,
          10.006239891052246,
          -7.552162170410156,
          3.6785905361175537,
          -9.140979766845703,
          -3.8953168392181396,
          -10.299335479736328,
          -2.987239360809326,
          -1.2589572668075562,
          -4.412881851196289,
          -1.1461008787155151,
          -3.448885202407837,
          -5.461551189422607,
          -6.015455722808838,
          1.7727878093719482,
          -1.144015908241272,
          -6.407513618469238,
          1.899062156677246,
          -6.032013893127441,
          0.9018166661262512,
          1.2660248279571533,
          -3.308806896209717,
          12.168871879577637,
          2.9907660484313965,
          -7.865642070770264,
          -8.986682891845703,
          3.8974578380584717,
          -2.8306357860565186,
          1.9227060079574585,
          11.966414451599121,
          2.952465295791626,
          -3.086782693862915,
          4.064264297485352,
          -9.438980102539062,
          -5.832676410675049,
          3.536675453186035,
          14.709150314331055,
          1.7607555389404297,
          -2.330723285675049,
          2.1592516899108887,
          9.053990364074707,
          -6.478306293487549,
          10.873440742492676,
          -4.758918285369873,
          12.860956192016602,
          2.1844899654388428,
          -3.0370090007781982,
          5.664592742919922,
          9.290821075439453,
          7.960934162139893,
          -8.12249755859375,
          -2.075183153152466,
          -2.369845151901245,
          14.731779098510742,
          -0.3142692446708679,
          -8.190954208374023,
          -7.626794338226318,
          -0.06381290405988693,
          -4.484140872955322,
          1.0517313480377197,
          10.544893264770508,
          3.002697706222534,
          -9.039373397827148,
          -0.9879815578460693,
          -0.7832334041595459,
          0.6023115515708923,
          -8.308094024658203,
          -9.1461181640625,
          3.885662794113159,
          2.931520938873291,
          -1.6626439094543457,
          -4.580025672912598,
          -1.8304543495178223,
          -6.369311809539795,
          -1.7837740182876587,
          -8.327258110046387,
          12.934228897094727,
          0.9318205714225769,
          4.237618446350098,
          -5.182329177856445,
          2.4038479328155518,
          -5.77318811416626,
          2.090317487716675,
          -8.231888771057129,
          -1.811765193939209,
          -6.306232452392578,
          2.3752710819244385,
          3.9107868671417236,
          3.4591028690338135,
          -3.9644618034362793,
          -2.3827123641967773,
          4.694727897644043,
          -3.0114715099334717,
          -1.3735679388046265,
          -2.13753080368042,
          12.332257270812988,
          13.605803489685059,
          -8.247603416442871,
          -6.186179161071777,
          6.3044047355651855,
          -9.216525077819824,
          13.02606201171875,
          -2.0282773971557617,
          11.600425720214844,
          6.891360759735107,
          12.692176818847656,
          5.7952704429626465,
          -0.2885226905345917,
          0.6751306056976318,
          -2.123135805130005,
          6.2815632820129395,
          -3.347566843032837,
          -9.297056198120117,
          -5.290441036224365,
          -5.997337818145752,
          12.107894897460938,
          13.805534362792969,
          3.606320858001709,
          5.2438740730285645,
          -6.417727470397949,
          -2.128225088119507,
          3.700331449508667,
          -6.410084247589111,
          0.3723222613334656,
          6.38080358505249,
          5.114088535308838,
          -0.6235141158103943,
          -4.864566326141357,
          13.820845603942871,
          6.3215107917785645,
          -9.146868705749512,
          13.39736557006836,
          -4.830456733703613,
          -9.5999174118042,
          -6.3372955322265625,
          3.1636898517608643,
          7.930542945861816,
          -8.641929626464844,
          1.878412127494812,
          -6.1577863693237305,
          1.5340975522994995,
          1.672267198562622,
          5.159456253051758,
          -5.448819160461426,
          0.254608154296875,
          -2.834913730621338,
          -0.321318656206131,
          2.375513792037964,
          2.6658666133880615,
          11.015830993652344,
          -8.67644214630127,
          -3.377655267715454,
          -4.400871276855469,
          -8.779252052307129,
          -0.08728551864624023,
          0.6473666429519653,
          -8.274524688720703,
          6.581455707550049,
          -2.086242914199829,
          -5.423015117645264,
          11.729741096496582,
          -1.8468648195266724,
          13.91024398803711,
          -9.052746772766113,
          -3.3983569145202637,
          -4.689272880554199,
          13.121185302734375,
          -3.372676372528076,
          5.747766971588135,
          5.346515655517578,
          -8.974210739135742,
          -3.9741153717041016,
          -3.429594039916992,
          1.2958792448043823,
          14.40625,
          1.0332460403442383,
          -9.159786224365234,
          -5.248402118682861,
          2.4856295585632324,
          6.093350887298584,
          -8.419787406921387,
          7.390883445739746
         ],
         "z": [
          4.000431060791016,
          7.009280204772949,
          -11.998517036437988,
          -2.3288333415985107,
          5.8740620613098145,
          11.236315727233887,
          -3.221107244491577,
          13.45034408569336,
          -5.559431552886963,
          -10.838271141052246,
          7.684731960296631,
          -6.520864963531494,
          -8.094817161560059,
          5.758690357208252,
          -7.986756801605225,
          4.531341552734375,
          -2.3182456493377686,
          9.94778060913086,
          -0.8694674372673035,
          -9.516231536865234,
          -4.909789085388184,
          0.15119579434394836,
          -2.946906566619873,
          8.938628196716309,
          6.175626277923584,
          4.059328079223633,
          5.488465309143066,
          4.6963276863098145,
          7.603452205657959,
          7.794820785522461,
          9.996017456054688,
          6.748651027679443,
          2.0710196495056152,
          0.21598757803440094,
          2.175731897354126,
          -5.210260391235352,
          -8.044275283813477,
          -0.9033921957015991,
          1.0465586185455322,
          -8.540386199951172,
          7.714807510375977,
          -8.771466255187988,
          9.285978317260742,
          -8.366069793701172,
          -3.9712560176849365,
          -0.7869549989700317,
          1.2658189535140991,
          -4.282884120941162,
          -6.583375453948975,
          7.753786563873291,
          0.6293509602546692,
          -1.3233144283294678,
          -3.3952908515930176,
          6.183100700378418,
          -8.680986404418945,
          -9.2153959274292,
          11.99070930480957,
          -1.500516653060913,
          -4.307963848114014,
          -1.1166449785232544,
          -6.831757545471191,
          -4.464437007904053,
          4.1020379066467285,
          -3.6704230308532715,
          4.117554187774658,
          3.8047609329223633,
          4.293186664581299,
          -6.225638389587402,
          3.4812943935394287,
          -4.469086647033691,
          6.562211513519287,
          5.608819484710693,
          -5.9072771072387695,
          -2.1157233715057373,
          -2.5077250003814697,
          -0.9863216876983643,
          -10.353736877441406,
          8.50909423828125,
          3.59041166305542,
          3.0573503971099854,
          -4.819179058074951,
          -2.255195140838623,
          -4.927825927734375,
          3.2691285610198975,
          2.4010608196258545,
          11.231578826904297,
          11.28877067565918,
          -6.418300628662109,
          -10.318587303161621,
          6.047571182250977,
          10.466483116149902,
          3.0188543796539307,
          4.103100776672363,
          1.62928307056427,
          7.870007514953613,
          -1.4143249988555908,
          -2.8292016983032227,
          7.098854064941406,
          -0.09425351023674011,
          -6.7642717361450195,
          -10.14552116394043,
          0.5402317047119141,
          4.74755334854126,
          -2.008735179901123,
          2.582078218460083,
          4.605064392089844,
          -3.196779727935791,
          -5.284106254577637,
          0.7442009449005127,
          -7.703359127044678,
          6.714389801025391,
          1.206127405166626,
          -8.455915451049805,
          4.664529800415039,
          1.6072502136230469,
          3.1617565155029297,
          -8.677498817443848,
          -4.771249771118164,
          -3.067688465118408,
          -4.498159885406494,
          7.529275417327881,
          -1.0585325956344604,
          -6.199435710906982,
          3.2423272132873535,
          2.982184886932373,
          2.3221871852874756,
          4.125452995300293,
          7.536545276641846,
          2.80607271194458,
          9.257513999938965,
          12.710332870483398,
          -2.6544947624206543,
          -2.385979175567627,
          2.6758508682250977,
          2.496326446533203,
          3.8031256198883057,
          0.7462825775146484,
          -6.831722736358643,
          4.943086624145508,
          7.826164245605469,
          -1.0643894672393799,
          -9.383318901062012,
          -4.0837016105651855,
          4.337374687194824,
          1.2302559614181519,
          7.909188747406006,
          6.630449295043945,
          1.0270371437072754,
          -7.994029521942139,
          -9.196465492248535,
          -7.779306888580322,
          -0.7345758676528931,
          -3.3000528812408447,
          -7.252139091491699,
          13.147848129272461,
          -3.120573043823242,
          -10.87142276763916,
          5.211135387420654,
          -5.543132305145264,
          -2.647751569747925,
          3.1585562229156494,
          -11.325358390808105,
          -0.3413785398006439,
          -2.9758074283599854,
          -5.3043670654296875,
          -9.771538734436035,
          0.9861433506011963,
          -4.762876033782959,
          -6.646129131317139,
          2.8302011489868164,
          1.4250603914260864,
          5.154973983764648,
          7.778965950012207,
          8.180081367492676,
          -1.5785372257232666,
          5.6772074699401855,
          -0.22419477999210358,
          1.107574462890625,
          -12.166664123535156,
          -3.507568836212158,
          9.234119415283203,
          7.794803142547607,
          11.073686599731445,
          6.802124500274658,
          5.746750354766846,
          7.693990707397461,
          -2.6392555236816406,
          -7.8192057609558105,
          -5.990973949432373,
          -5.394631862640381,
          -1.9156389236450195,
          6.630854606628418,
          4.715697765350342,
          12.042500495910645,
          6.968268394470215,
          -4.625436782836914,
          -3.1813063621520996,
          -1.1716076135635376,
          -1.4530022144317627,
          9.072272300720215,
          4.570105075836182,
          0.11121943593025208,
          -0.21412867307662964,
          -4.975947380065918,
          4.556687355041504,
          4.631506443023682,
          10.458867073059082,
          7.421387672424316,
          12.420910835266113,
          7.888941287994385,
          -5.365592002868652,
          -9.752493858337402,
          7.576450824737549,
          5.958946704864502,
          0.2772917151451111,
          2.952667474746704,
          6.318220615386963,
          -2.0389230251312256,
          7.359296798706055,
          -7.453345775604248,
          9.750643730163574,
          10.920676231384277,
          9.995330810546875,
          -10.68668270111084,
          -11.087434768676758,
          -5.423803329467773,
          -1.3055201768875122,
          -9.236456871032715,
          -2.943488359451294,
          -7.004849433898926,
          0.2951090633869171,
          7.100174427032471,
          6.630075454711914,
          12.625158309936523,
          1.698227882385254,
          6.08390474319458,
          9.131637573242188,
          1.6640924215316772,
          -3.7375738620758057,
          -6.889839172363281,
          -3.9770641326904297,
          4.6361613273620605,
          4.102243900299072,
          4.324901103973389,
          -9.522880554199219,
          8.251895904541016,
          10.339797973632812,
          -8.842537879943848,
          -3.622925281524658,
          8.629284858703613,
          4.483223915100098,
          -2.1715900897979736,
          -6.126805305480957,
          -7.051164627075195,
          10.136019706726074,
          8.790048599243164,
          8.78028678894043,
          -12.407193183898926,
          -5.550517559051514,
          7.009264945983887,
          -7.10953950881958,
          8.082064628601074,
          -11.22971248626709,
          5.840170860290527,
          2.6277220249176025,
          -2.859769105911255,
          -4.45028018951416,
          4.3225555419921875,
          3.380404472351074,
          -9.419952392578125,
          -4.821224212646484,
          1.941933274269104,
          -8.627486228942871,
          -5.720885753631592,
          3.0612759590148926,
          2.8737826347351074,
          8.477059364318848,
          -4.38997745513916,
          -1.7580705881118774,
          11.409671783447266,
          12.181289672851562,
          -5.901324272155762,
          -8.934141159057617,
          -8.419597625732422,
          -1.533658742904663,
          -3.312154769897461,
          -4.467024803161621,
          1.601096272468567,
          -9.019716262817383,
          -4.6711859703063965,
          1.3278870582580566,
          -7.365197658538818,
          -4.151083469390869,
          -9.41167163848877,
          9.421367645263672,
          -2.175244092941284,
          8.58781623840332,
          7.9798994064331055,
          -2.5810959339141846,
          -8.220902442932129,
          5.636170864105225,
          -7.911300182342529,
          -4.542233467102051,
          1.8869352340698242,
          -2.847296953201294,
          -2.364276885986328,
          -4.638710021972656,
          -4.826412677764893,
          -0.7531254887580872,
          -7.228802680969238,
          -4.989312171936035,
          10.211319923400879,
          7.673111915588379,
          -5.745258331298828,
          -11.041433334350586,
          2.213714838027954,
          -11.067208290100098,
          -3.2355289459228516,
          12.541234970092773,
          -2.100663423538208,
          10.767522811889648,
          -5.239984035491943,
          3.0127875804901123,
          1.4770567417144775,
          -2.7293341159820557,
          12.795090675354004,
          4.959323883056641,
          4.423299789428711,
          -7.173216819763184,
          -0.8947128057479858,
          -10.472230911254883,
          -5.512399196624756,
          -3.715635299682617,
          3.6075923442840576,
          7.508312702178955,
          2.6614043712615967,
          -11.93674373626709,
          -6.5226616859436035,
          -6.438117504119873,
          4.998093128204346,
          -0.06049245595932007,
          -2.478363275527954,
          10.028260231018066,
          -8.383563041687012,
          -6.289706707000732,
          -7.667932987213135,
          -11.87303638458252,
          11.728840827941895,
          -8.43004322052002,
          4.001666069030762,
          1.7594490051269531,
          6.148414611816406,
          -8.924239158630371,
          -5.356489658355713,
          9.776552200317383,
          3.767496109008789,
          -10.8768310546875,
          -5.610145568847656,
          -4.610866069793701,
          -1.9179109334945679,
          1.6197059154510498,
          -11.77413272857666,
          1.8385851383209229,
          -2.438539505004883,
          11.656543731689453,
          6.2887749671936035,
          -11.910866737365723,
          2.587754964828491,
          1.5613352060317993,
          5.370816707611084,
          -4.25260066986084,
          -4.1424241065979,
          6.7424492835998535,
          11.499434471130371,
          -2.1711320877075195,
          -4.338947772979736,
          -7.980444431304932,
          -7.0266032218933105,
          1.112343430519104,
          3.5952157974243164,
          -3.8497087955474854,
          -9.622633934020996,
          8.43547534942627,
          4.217973709106445,
          -2.094316005706787,
          -2.207408905029297,
          -5.036853790283203,
          11.40639877319336,
          0.7540834546089172,
          12.553033828735352,
          -5.782904148101807,
          10.653875350952148,
          7.550611972808838,
          4.357749938964844,
          -11.305754661560059,
          7.65036678314209,
          -8.249483108520508,
          -9.824796676635742,
          -7.408792495727539,
          0.7115951776504517,
          -4.376280784606934,
          4.452507019042969,
          -2.163459300994873,
          -10.066605567932129,
          2.261920928955078,
          6.156650066375732,
          -8.933572769165039,
          0.7650931477546692,
          -9.646472930908203,
          8.068266868591309,
          -3.8994555473327637,
          -8.032857894897461,
          -1.3816665410995483,
          -6.766169548034668,
          9.289558410644531,
          -5.699616432189941,
          0.6204116940498352,
          1.7016061544418335,
          -4.679183483123779,
          -3.5524942874908447,
          -7.793385028839111,
          -8.172357559204102,
          6.868659496307373,
          13.020041465759277,
          3.112520456314087,
          -1.5456479787826538,
          -8.19321346282959,
          8.127410888671875,
          5.787419319152832,
          7.4645185470581055,
          4.982417106628418,
          3.1508724689483643,
          -6.282100200653076,
          -6.219135761260986,
          -6.943977355957031,
          8.841742515563965,
          10.201105117797852,
          -6.966549396514893,
          7.01222562789917,
          5.025953769683838,
          -8.412510871887207,
          4.340578556060791,
          -4.662942886352539,
          -6.890940189361572,
          4.498012542724609,
          -4.319991111755371,
          -9.563600540161133,
          6.889483451843262,
          -3.2752959728240967,
          10.769089698791504,
          -1.6188470125198364,
          -4.5951995849609375,
          5.384981155395508,
          -7.261448383331299,
          3.119091510772705,
          4.523107528686523,
          0.6022509336471558,
          4.299429416656494,
          -1.650097370147705,
          0.20625349879264832,
          7.718897342681885,
          0.8424191474914551,
          -1.9392608404159546,
          -3.176016330718994,
          6.323177337646484,
          12.561361312866211,
          2.9586567878723145,
          4.680422306060791,
          -1.76951265335083,
          1.9401577711105347,
          6.271520137786865,
          4.3952226638793945,
          -9.712193489074707,
          -2.4245824813842773,
          -8.022462844848633,
          -2.4124577045440674,
          -2.813699722290039,
          -2.600827693939209,
          8.9451904296875,
          8.502403259277344,
          9.100178718566895,
          -6.121494770050049,
          0.5439286828041077,
          -1.2579201459884644,
          -4.838521480560303,
          -7.3905930519104,
          -11.32702350616455,
          -5.097907066345215,
          -4.777124881744385,
          5.463358402252197,
          -0.21207308769226074,
          0.5130569338798523,
          6.805212497711182,
          1.623063325881958,
          -2.8165910243988037,
          5.479727268218994,
          -1.5940572023391724,
          3.548246145248413,
          -9.154497146606445,
          0.8211173415184021,
          -3.689072847366333,
          -0.9485296010971069,
          -3.1399481296539307,
          -6.064042568206787,
          -10.501626014709473,
          -5.318826198577881,
          -10.234671592712402,
          -3.05371356010437,
          -8.439056396484375,
          6.018089294433594,
          0.5308642387390137,
          6.257979393005371,
          3.31809663772583,
          4.302164554595947,
          -7.962235450744629,
          -2.912665367126465,
          -2.575011968612671,
          7.83563756942749,
          -5.1157402992248535,
          3.2380197048187256,
          2.339892625808716,
          2.1117944717407227,
          4.803050518035889,
          -2.3160839080810547,
          -9.324926376342773,
          7.8762383460998535,
          -5.414073467254639,
          -4.938998222351074,
          -2.313828468322754,
          -0.3481844961643219,
          11.406304359436035,
          -7.700475215911865,
          -9.21200180053711,
          -2.7222654819488525,
          -4.796479225158691,
          -8.83048152923584,
          -4.95413875579834,
          1.014344573020935,
          4.749570846557617,
          -3.758913040161133,
          -5.647526741027832,
          -1.343955397605896,
          -1.2177070379257202,
          -1.015475869178772,
          7.810862064361572,
          8.55676555633545,
          -9.38852596282959,
          -6.408921718597412,
          -3.8733668327331543,
          3.0925002098083496,
          0.11337105184793472,
          3.254634141921997,
          -0.8145310878753662,
          7.275688648223877,
          -4.819179534912109,
          -2.316418409347534,
          -2.0619592666625977,
          0.7051945328712463,
          0.2755078971385956,
          1.2640796899795532,
          -10.786142349243164,
          -0.8924083113670349,
          -4.474123001098633,
          -4.0322794914245605,
          -2.9918792247772217,
          -2.1475942134857178,
          7.568928241729736,
          6.451991081237793,
          -6.18264102935791,
          0.8876955509185791,
          0.7435122728347778,
          -8.337722778320312,
          3.348802089691162,
          9.727437973022461,
          8.362850189208984,
          -5.386414051055908,
          3.2663509845733643,
          -8.606903076171875,
          0.8597347736358643,
          2.6757028102874756,
          4.9924445152282715,
          13.574422836303711,
          -3.476903200149536,
          12.774198532104492,
          11.515959739685059,
          2.7018613815307617,
          -4.8619537353515625,
          -5.934659004211426,
          -3.0721595287323,
          12.841614723205566,
          -9.225603103637695,
          1.7539186477661133,
          4.920602321624756,
          7.554718494415283,
          -5.799358367919922,
          -12.451053619384766,
          12.369497299194336,
          5.971524715423584,
          1.5948762893676758,
          5.097342014312744,
          -6.224705696105957,
          12.08618450164795,
          0.173187255859375,
          2.4941904544830322,
          -3.546351909637451,
          -1.5725730657577515,
          0.755008339881897,
          -2.31544828414917,
          11.520256042480469,
          8.424551010131836,
          6.846848964691162,
          -1.0979968309402466,
          2.3097922801971436,
          -9.211174964904785,
          -2.5979971885681152,
          0.5038011074066162,
          -8.907082557678223,
          10.33017349243164,
          -11.575793266296387,
          -12.421566009521484,
          5.302996635437012,
          6.250925540924072,
          -4.395754337310791,
          1.8880891799926758,
          12.776741981506348,
          -2.7770073413848877,
          -7.433298110961914,
          -7.003838539123535,
          7.077281475067139,
          4.9530134201049805,
          -10.989514350891113,
          -5.253588676452637,
          4.051815032958984,
          -0.31356486678123474,
          -4.948912620544434,
          -5.725185871124268,
          -2.7184853553771973,
          -0.08673994243144989,
          -5.31517219543457,
          -4.544900894165039,
          -1.4531112909317017,
          -1.2662550210952759,
          -1.4899308681488037,
          -6.7063493728637695,
          -0.716112494468689,
          4.585747718811035,
          -7.398567199707031,
          6.789742469787598,
          -1.1988006830215454,
          -7.599781513214111,
          4.1012282371521,
          7.313673973083496,
          4.730343818664551,
          7.180665016174316,
          2.002699375152588,
          -0.8800374269485474,
          -2.960787057876587,
          -2.928821563720703,
          0.621077835559845,
          -8.482213020324707,
          -3.7562415599823,
          13.749146461486816,
          4.558601379394531,
          4.386789798736572,
          -4.950315952301025,
          -6.829624176025391,
          -5.865241527557373,
          -0.9530062079429626,
          9.322713851928711,
          -2.373272180557251,
          -0.8664871454238892,
          -4.047330379486084,
          5.039206027984619,
          5.095294952392578,
          -0.261851966381073,
          3.55220103263855,
          -4.388071060180664,
          12.901982307434082,
          5.764957427978516,
          1.5271754264831543,
          -2.7035815715789795,
          -1.6350282430648804,
          -9.14322280883789,
          1.972665786743164,
          2.015763998031616,
          2.2029433250427246,
          5.122696399688721,
          1.8511323928833008,
          -2.8184022903442383,
          -7.764862060546875,
          3.433929920196533,
          -3.9497504234313965,
          -4.163366794586182,
          9.89510440826416,
          9.958050727844238,
          8.427177429199219,
          -6.2598066329956055,
          -6.871716499328613,
          -8.768016815185547,
          -2.7173986434936523,
          6.184617042541504,
          2.8493049144744873,
          7.973216533660889,
          -10.660057067871094,
          -4.900472164154053,
          -1.3995161056518555,
          9.432554244995117,
          -3.683051347732544,
          2.482206106185913,
          -1.300636649131775,
          7.223349571228027,
          0.45273062586784363,
          -2.111827850341797,
          -8.769170761108398,
          -4.922269344329834,
          -4.448083400726318,
          -3.327263593673706,
          0.011308271437883377,
          3.9414446353912354,
          8.125510215759277,
          -1.1352790594100952,
          -8.020064353942871,
          7.68585729598999,
          -2.8333823680877686,
          3.7705886363983154,
          -4.203721046447754,
          2.417865753173828,
          2.0710341930389404,
          6.262167453765869,
          4.971438407897949,
          7.068039894104004,
          12.42491340637207,
          -5.159524917602539,
          -5.2291340827941895,
          6.514796257019043,
          -2.404038190841675,
          3.9851443767547607,
          6.400636672973633,
          7.269557476043701,
          -11.77678108215332,
          6.09945821762085,
          -11.291133880615234,
          -6.875396251678467,
          -10.918392181396484,
          1.3188248872756958,
          10.325510025024414,
          -4.996017932891846,
          -3.0545833110809326,
          -9.0934476852417,
          11.604360580444336,
          8.370450019836426,
          2.2353665828704834,
          3.979348659515381,
          4.875121593475342,
          -1.9651124477386475,
          -6.858908176422119,
          2.6140224933624268,
          -5.689384460449219,
          4.972326278686523,
          -2.230947256088257,
          -3.4823496341705322,
          8.931739807128906,
          2.9287538528442383,
          3.4093432426452637,
          -0.5088715553283691,
          4.682917594909668,
          -0.1275961846113205,
          -7.182895183563232,
          -3.503352165222168,
          -10.904394149780273,
          0.6172975897789001,
          0.5605660080909729,
          -9.151884078979492,
          -5.104241847991943,
          6.913898468017578,
          2.0003061294555664,
          -3.2005178928375244,
          -8.258859634399414,
          -5.3383469581604,
          -0.6345159411430359,
          -9.142434120178223,
          11.876564025878906,
          9.047648429870605,
          2.4938154220581055,
          -7.84967565536499,
          1.4073516130447388,
          -3.7465691566467285,
          -7.451830863952637,
          4.528538227081299,
          2.8430943489074707,
          11.2360200881958,
          -2.981267213821411,
          7.5252180099487305,
          4.210007190704346,
          6.395505905151367,
          13.518383026123047,
          9.709757804870605,
          5.284066200256348,
          13.768529891967773,
          5.531796455383301,
          6.765257835388184,
          5.987590789794922,
          13.82153606414795,
          4.228204727172852,
          6.044432640075684,
          1.2759263515472412,
          1.4469555616378784,
          3.113240957260132,
          -8.338836669921875,
          -5.865201473236084,
          10.786591529846191,
          9.127580642700195,
          -1.1313483715057373,
          2.8606343269348145,
          0.7278496623039246,
          -9.348342895507812,
          2.6563150882720947,
          -2.342899799346924,
          -1.8951560258865356,
          6.629884243011475,
          7.723876476287842,
          -4.745933532714844,
          -12.432426452636719,
          -1.2222623825073242,
          -2.246649742126465,
          -2.818608045578003,
          -7.3990254402160645,
          7.2878737449646,
          -7.414801120758057,
          7.3859148025512695,
          -9.594600677490234,
          -3.6438324451446533,
          2.997356414794922,
          -2.847296953201294,
          -6.491870403289795,
          -4.903168201446533,
          4.730935573577881,
          -3.0061774253845215,
          10.207358360290527,
          -12.424474716186523,
          7.145374298095703,
          6.247216701507568,
          1.3024028539657593,
          -0.4133518636226654,
          4.985174655914307,
          -7.394481658935547,
          -10.423418045043945,
          -5.248312950134277,
          4.067554950714111,
          -2.577049970626831,
          1.0060019493103027,
          -2.5572352409362793,
          5.818778991699219,
          10.159622192382812,
          -5.120797157287598,
          -4.641517639160156,
          1.742972493171692,
          3.624518394470215,
          -2.5989606380462646,
          6.376138210296631,
          8.300756454467773,
          7.79613733291626,
          -9.38465404510498,
          3.413665533065796,
          0.5705646276473999,
          1.9099488258361816,
          -3.5324976444244385,
          12.266953468322754,
          -4.6765265464782715,
          6.43102502822876,
          8.316377639770508,
          11.548872947692871,
          -2.341151237487793,
          3.5077123641967773,
          -2.889946222305298,
          -0.9437916874885559,
          3.125620126724243,
          -5.506809234619141,
          11.69047737121582,
          -3.8283004760742188,
          -0.40637966990470886,
          -8.338075637817383,
          -10.462700843811035,
          10.566776275634766,
          4.019558429718018,
          2.104278326034546,
          10.503000259399414,
          -8.880963325500488,
          4.277368068695068,
          -9.095159530639648,
          -2.686302423477173,
          -8.809938430786133,
          -6.337869167327881,
          7.323532581329346,
          -7.175513744354248,
          4.8661723136901855,
          2.1060783863067627,
          12.129021644592285,
          7.025966644287109,
          6.666426181793213,
          7.9299798011779785,
          -9.053125381469727,
          -10.994345664978027,
          -5.32381010055542,
          -6.334632873535156,
          4.314612865447998,
          0.7689170837402344,
          -4.0632829666137695,
          4.844429969787598,
          -3.0767600536346436,
          0.08576503396034241,
          -9.238483428955078,
          4.385083198547363,
          5.19189977645874,
          -11.836447715759277,
          0.045554522424936295,
          9.884791374206543,
          -9.69357967376709,
          5.420102119445801,
          12.095176696777344,
          2.05177903175354,
          -1.9156054258346558,
          -4.812942981719971,
          10.123767852783203,
          0.844261884689331,
          4.600103378295898,
          7.04292631149292,
          -3.6689109802246094,
          -6.686095714569092,
          1.5150201320648193,
          -2.2739923000335693,
          3.7351486682891846,
          -1.5335756540298462,
          -2.1203174591064453,
          -2.736151695251465,
          -8.5110445022583,
          2.5390841960906982,
          -0.4655657410621643,
          4.067022323608398,
          8.392507553100586,
          -0.6976855993270874,
          7.001473426818848,
          5.785029888153076,
          -0.48365530371665955,
          5.156141757965088,
          8.840875625610352,
          -11.450576782226562,
          -0.24756357073783875,
          -11.60755729675293,
          4.997824668884277,
          -1.2603285312652588,
          4.796179294586182,
          -11.022878646850586,
          4.800477027893066,
          1.0679513216018677,
          -3.4189453125,
          6.000631809234619,
          4.9380669593811035,
          5.203742980957031,
          -7.400917053222656,
          -12.260202407836914,
          -3.3568711280822754,
          8.486517906188965,
          5.743708610534668,
          -8.205510139465332,
          -7.389363765716553,
          7.08841609954834,
          -8.919059753417969
         ]
        },
        {
         "hovertemplate": "Dominant_Topic=Topic 2<br>0=%{x}<br>1=%{y}<br>2=%{z}<extra></extra>",
         "legendgroup": "Topic 2",
         "marker": {
          "color": "#EF553B",
          "opacity": 0.7,
          "symbol": "circle"
         },
         "mode": "markers",
         "name": "Topic 2",
         "scene": "scene",
         "showlegend": true,
         "type": "scatter3d",
         "x": [
          -1.814050316810608
         ],
         "y": [
          -9.774474143981934
         ],
         "z": [
          12.243990898132324
         ]
        }
       ],
       "layout": {
        "height": 800,
        "legend": {
         "title": {
          "text": "Dominant_Topic"
         },
         "tracegroupgap": 0
        },
        "scene": {
         "domain": {
          "x": [
           0,
           1
          ],
          "y": [
           0,
           1
          ]
         },
         "xaxis": {
          "title": {
           "text": "0"
          }
         },
         "yaxis": {
          "title": {
           "text": "1"
          }
         },
         "zaxis": {
          "title": {
           "text": "2"
          }
         }
        },
        "template": {
         "data": {
          "bar": [
           {
            "error_x": {
             "color": "#2a3f5f"
            },
            "error_y": {
             "color": "#2a3f5f"
            },
            "marker": {
             "line": {
              "color": "#E5ECF6",
              "width": 0.5
             }
            },
            "type": "bar"
           }
          ],
          "barpolar": [
           {
            "marker": {
             "line": {
              "color": "#E5ECF6",
              "width": 0.5
             }
            },
            "type": "barpolar"
           }
          ],
          "carpet": [
           {
            "aaxis": {
             "endlinecolor": "#2a3f5f",
             "gridcolor": "white",
             "linecolor": "white",
             "minorgridcolor": "white",
             "startlinecolor": "#2a3f5f"
            },
            "baxis": {
             "endlinecolor": "#2a3f5f",
             "gridcolor": "white",
             "linecolor": "white",
             "minorgridcolor": "white",
             "startlinecolor": "#2a3f5f"
            },
            "type": "carpet"
           }
          ],
          "choropleth": [
           {
            "colorbar": {
             "outlinewidth": 0,
             "ticks": ""
            },
            "type": "choropleth"
           }
          ],
          "contour": [
           {
            "colorbar": {
             "outlinewidth": 0,
             "ticks": ""
            },
            "colorscale": [
             [
              0,
              "#0d0887"
             ],
             [
              0.1111111111111111,
              "#46039f"
             ],
             [
              0.2222222222222222,
              "#7201a8"
             ],
             [
              0.3333333333333333,
              "#9c179e"
             ],
             [
              0.4444444444444444,
              "#bd3786"
             ],
             [
              0.5555555555555556,
              "#d8576b"
             ],
             [
              0.6666666666666666,
              "#ed7953"
             ],
             [
              0.7777777777777778,
              "#fb9f3a"
             ],
             [
              0.8888888888888888,
              "#fdca26"
             ],
             [
              1,
              "#f0f921"
             ]
            ],
            "type": "contour"
           }
          ],
          "contourcarpet": [
           {
            "colorbar": {
             "outlinewidth": 0,
             "ticks": ""
            },
            "type": "contourcarpet"
           }
          ],
          "heatmap": [
           {
            "colorbar": {
             "outlinewidth": 0,
             "ticks": ""
            },
            "colorscale": [
             [
              0,
              "#0d0887"
             ],
             [
              0.1111111111111111,
              "#46039f"
             ],
             [
              0.2222222222222222,
              "#7201a8"
             ],
             [
              0.3333333333333333,
              "#9c179e"
             ],
             [
              0.4444444444444444,
              "#bd3786"
             ],
             [
              0.5555555555555556,
              "#d8576b"
             ],
             [
              0.6666666666666666,
              "#ed7953"
             ],
             [
              0.7777777777777778,
              "#fb9f3a"
             ],
             [
              0.8888888888888888,
              "#fdca26"
             ],
             [
              1,
              "#f0f921"
             ]
            ],
            "type": "heatmap"
           }
          ],
          "heatmapgl": [
           {
            "colorbar": {
             "outlinewidth": 0,
             "ticks": ""
            },
            "colorscale": [
             [
              0,
              "#0d0887"
             ],
             [
              0.1111111111111111,
              "#46039f"
             ],
             [
              0.2222222222222222,
              "#7201a8"
             ],
             [
              0.3333333333333333,
              "#9c179e"
             ],
             [
              0.4444444444444444,
              "#bd3786"
             ],
             [
              0.5555555555555556,
              "#d8576b"
             ],
             [
              0.6666666666666666,
              "#ed7953"
             ],
             [
              0.7777777777777778,
              "#fb9f3a"
             ],
             [
              0.8888888888888888,
              "#fdca26"
             ],
             [
              1,
              "#f0f921"
             ]
            ],
            "type": "heatmapgl"
           }
          ],
          "histogram": [
           {
            "marker": {
             "colorbar": {
              "outlinewidth": 0,
              "ticks": ""
             }
            },
            "type": "histogram"
           }
          ],
          "histogram2d": [
           {
            "colorbar": {
             "outlinewidth": 0,
             "ticks": ""
            },
            "colorscale": [
             [
              0,
              "#0d0887"
             ],
             [
              0.1111111111111111,
              "#46039f"
             ],
             [
              0.2222222222222222,
              "#7201a8"
             ],
             [
              0.3333333333333333,
              "#9c179e"
             ],
             [
              0.4444444444444444,
              "#bd3786"
             ],
             [
              0.5555555555555556,
              "#d8576b"
             ],
             [
              0.6666666666666666,
              "#ed7953"
             ],
             [
              0.7777777777777778,
              "#fb9f3a"
             ],
             [
              0.8888888888888888,
              "#fdca26"
             ],
             [
              1,
              "#f0f921"
             ]
            ],
            "type": "histogram2d"
           }
          ],
          "histogram2dcontour": [
           {
            "colorbar": {
             "outlinewidth": 0,
             "ticks": ""
            },
            "colorscale": [
             [
              0,
              "#0d0887"
             ],
             [
              0.1111111111111111,
              "#46039f"
             ],
             [
              0.2222222222222222,
              "#7201a8"
             ],
             [
              0.3333333333333333,
              "#9c179e"
             ],
             [
              0.4444444444444444,
              "#bd3786"
             ],
             [
              0.5555555555555556,
              "#d8576b"
             ],
             [
              0.6666666666666666,
              "#ed7953"
             ],
             [
              0.7777777777777778,
              "#fb9f3a"
             ],
             [
              0.8888888888888888,
              "#fdca26"
             ],
             [
              1,
              "#f0f921"
             ]
            ],
            "type": "histogram2dcontour"
           }
          ],
          "mesh3d": [
           {
            "colorbar": {
             "outlinewidth": 0,
             "ticks": ""
            },
            "type": "mesh3d"
           }
          ],
          "parcoords": [
           {
            "line": {
             "colorbar": {
              "outlinewidth": 0,
              "ticks": ""
             }
            },
            "type": "parcoords"
           }
          ],
          "pie": [
           {
            "automargin": true,
            "type": "pie"
           }
          ],
          "scatter": [
           {
            "marker": {
             "colorbar": {
              "outlinewidth": 0,
              "ticks": ""
             }
            },
            "type": "scatter"
           }
          ],
          "scatter3d": [
           {
            "line": {
             "colorbar": {
              "outlinewidth": 0,
              "ticks": ""
             }
            },
            "marker": {
             "colorbar": {
              "outlinewidth": 0,
              "ticks": ""
             }
            },
            "type": "scatter3d"
           }
          ],
          "scattercarpet": [
           {
            "marker": {
             "colorbar": {
              "outlinewidth": 0,
              "ticks": ""
             }
            },
            "type": "scattercarpet"
           }
          ],
          "scattergeo": [
           {
            "marker": {
             "colorbar": {
              "outlinewidth": 0,
              "ticks": ""
             }
            },
            "type": "scattergeo"
           }
          ],
          "scattergl": [
           {
            "marker": {
             "colorbar": {
              "outlinewidth": 0,
              "ticks": ""
             }
            },
            "type": "scattergl"
           }
          ],
          "scattermapbox": [
           {
            "marker": {
             "colorbar": {
              "outlinewidth": 0,
              "ticks": ""
             }
            },
            "type": "scattermapbox"
           }
          ],
          "scatterpolar": [
           {
            "marker": {
             "colorbar": {
              "outlinewidth": 0,
              "ticks": ""
             }
            },
            "type": "scatterpolar"
           }
          ],
          "scatterpolargl": [
           {
            "marker": {
             "colorbar": {
              "outlinewidth": 0,
              "ticks": ""
             }
            },
            "type": "scatterpolargl"
           }
          ],
          "scatterternary": [
           {
            "marker": {
             "colorbar": {
              "outlinewidth": 0,
              "ticks": ""
             }
            },
            "type": "scatterternary"
           }
          ],
          "surface": [
           {
            "colorbar": {
             "outlinewidth": 0,
             "ticks": ""
            },
            "colorscale": [
             [
              0,
              "#0d0887"
             ],
             [
              0.1111111111111111,
              "#46039f"
             ],
             [
              0.2222222222222222,
              "#7201a8"
             ],
             [
              0.3333333333333333,
              "#9c179e"
             ],
             [
              0.4444444444444444,
              "#bd3786"
             ],
             [
              0.5555555555555556,
              "#d8576b"
             ],
             [
              0.6666666666666666,
              "#ed7953"
             ],
             [
              0.7777777777777778,
              "#fb9f3a"
             ],
             [
              0.8888888888888888,
              "#fdca26"
             ],
             [
              1,
              "#f0f921"
             ]
            ],
            "type": "surface"
           }
          ],
          "table": [
           {
            "cells": {
             "fill": {
              "color": "#EBF0F8"
             },
             "line": {
              "color": "white"
             }
            },
            "header": {
             "fill": {
              "color": "#C8D4E3"
             },
             "line": {
              "color": "white"
             }
            },
            "type": "table"
           }
          ]
         },
         "layout": {
          "annotationdefaults": {
           "arrowcolor": "#2a3f5f",
           "arrowhead": 0,
           "arrowwidth": 1
          },
          "autotypenumbers": "strict",
          "coloraxis": {
           "colorbar": {
            "outlinewidth": 0,
            "ticks": ""
           }
          },
          "colorscale": {
           "diverging": [
            [
             0,
             "#8e0152"
            ],
            [
             0.1,
             "#c51b7d"
            ],
            [
             0.2,
             "#de77ae"
            ],
            [
             0.3,
             "#f1b6da"
            ],
            [
             0.4,
             "#fde0ef"
            ],
            [
             0.5,
             "#f7f7f7"
            ],
            [
             0.6,
             "#e6f5d0"
            ],
            [
             0.7,
             "#b8e186"
            ],
            [
             0.8,
             "#7fbc41"
            ],
            [
             0.9,
             "#4d9221"
            ],
            [
             1,
             "#276419"
            ]
           ],
           "sequential": [
            [
             0,
             "#0d0887"
            ],
            [
             0.1111111111111111,
             "#46039f"
            ],
            [
             0.2222222222222222,
             "#7201a8"
            ],
            [
             0.3333333333333333,
             "#9c179e"
            ],
            [
             0.4444444444444444,
             "#bd3786"
            ],
            [
             0.5555555555555556,
             "#d8576b"
            ],
            [
             0.6666666666666666,
             "#ed7953"
            ],
            [
             0.7777777777777778,
             "#fb9f3a"
            ],
            [
             0.8888888888888888,
             "#fdca26"
            ],
            [
             1,
             "#f0f921"
            ]
           ],
           "sequentialminus": [
            [
             0,
             "#0d0887"
            ],
            [
             0.1111111111111111,
             "#46039f"
            ],
            [
             0.2222222222222222,
             "#7201a8"
            ],
            [
             0.3333333333333333,
             "#9c179e"
            ],
            [
             0.4444444444444444,
             "#bd3786"
            ],
            [
             0.5555555555555556,
             "#d8576b"
            ],
            [
             0.6666666666666666,
             "#ed7953"
            ],
            [
             0.7777777777777778,
             "#fb9f3a"
            ],
            [
             0.8888888888888888,
             "#fdca26"
            ],
            [
             1,
             "#f0f921"
            ]
           ]
          },
          "colorway": [
           "#636efa",
           "#EF553B",
           "#00cc96",
           "#ab63fa",
           "#FFA15A",
           "#19d3f3",
           "#FF6692",
           "#B6E880",
           "#FF97FF",
           "#FECB52"
          ],
          "font": {
           "color": "#2a3f5f"
          },
          "geo": {
           "bgcolor": "white",
           "lakecolor": "white",
           "landcolor": "#E5ECF6",
           "showlakes": true,
           "showland": true,
           "subunitcolor": "white"
          },
          "hoverlabel": {
           "align": "left"
          },
          "hovermode": "closest",
          "mapbox": {
           "style": "light"
          },
          "paper_bgcolor": "white",
          "plot_bgcolor": "#E5ECF6",
          "polar": {
           "angularaxis": {
            "gridcolor": "white",
            "linecolor": "white",
            "ticks": ""
           },
           "bgcolor": "#E5ECF6",
           "radialaxis": {
            "gridcolor": "white",
            "linecolor": "white",
            "ticks": ""
           }
          },
          "scene": {
           "xaxis": {
            "backgroundcolor": "#E5ECF6",
            "gridcolor": "white",
            "gridwidth": 2,
            "linecolor": "white",
            "showbackground": true,
            "ticks": "",
            "zerolinecolor": "white"
           },
           "yaxis": {
            "backgroundcolor": "#E5ECF6",
            "gridcolor": "white",
            "gridwidth": 2,
            "linecolor": "white",
            "showbackground": true,
            "ticks": "",
            "zerolinecolor": "white"
           },
           "zaxis": {
            "backgroundcolor": "#E5ECF6",
            "gridcolor": "white",
            "gridwidth": 2,
            "linecolor": "white",
            "showbackground": true,
            "ticks": "",
            "zerolinecolor": "white"
           }
          },
          "shapedefaults": {
           "line": {
            "color": "#2a3f5f"
           }
          },
          "ternary": {
           "aaxis": {
            "gridcolor": "white",
            "linecolor": "white",
            "ticks": ""
           },
           "baxis": {
            "gridcolor": "white",
            "linecolor": "white",
            "ticks": ""
           },
           "bgcolor": "#E5ECF6",
           "caxis": {
            "gridcolor": "white",
            "linecolor": "white",
            "ticks": ""
           }
          },
          "title": {
           "x": 0.05
          },
          "xaxis": {
           "automargin": true,
           "gridcolor": "white",
           "linecolor": "white",
           "ticks": "",
           "title": {
            "standoff": 15
           },
           "zerolinecolor": "white",
           "zerolinewidth": 2
          },
          "yaxis": {
           "automargin": true,
           "gridcolor": "white",
           "linecolor": "white",
           "ticks": "",
           "title": {
            "standoff": 15
           },
           "zerolinecolor": "white",
           "zerolinewidth": 2
          }
         }
        },
        "title": {
         "text": "3d TSNE Plot for Topic Model"
        },
        "width": 900
       }
      },
      "text/html": [
       "<div>                            <div id=\"149052bb-bb3e-44da-9d7a-faee423c4c90\" class=\"plotly-graph-div\" style=\"height:800px; width:900px;\"></div>            <script type=\"text/javascript\">                require([\"plotly\"], function(Plotly) {                    window.PLOTLYENV=window.PLOTLYENV || {};                                    if (document.getElementById(\"149052bb-bb3e-44da-9d7a-faee423c4c90\")) {                    Plotly.newPlot(                        \"149052bb-bb3e-44da-9d7a-faee423c4c90\",                        [{\"hovertemplate\": \"Dominant_Topic=Topic 0<br>0=%{x}<br>1=%{y}<br>2=%{z}<extra></extra>\", \"legendgroup\": \"Topic 0\", \"marker\": {\"color\": \"#636efa\", \"opacity\": 0.7, \"symbol\": \"circle\"}, \"mode\": \"markers\", \"name\": \"Topic 0\", \"scene\": \"scene\", \"showlegend\": true, \"type\": \"scatter3d\", \"x\": [2.7103590965270996, -5.403897285461426, 10.805550575256348, 5.279214382171631, -7.450691223144531, 0.13765046000480652, -0.2417391836643219, 0.8643108606338501, 2.5433220863342285, 11.336807250976562, -1.197210431098938, 4.307133197784424, 6.622324466705322, -1.1122077703475952, 5.24953031539917, 0.2465551197528839, -2.2172458171844482, -5.014298439025879, -2.9224836826324463, 7.857642650604248, 5.487796783447266, 1.0716031789779663, 0.9097315073013306, -2.98934006690979, -6.072464466094971, -4.090591907501221, -6.177879333496094, -7.235803127288818, 0.8261362910270691, 1.5076050758361816, -7.1596455574035645, 0.6818273067474365, -6.432836055755615, -7.773682594299316, -0.9635646343231201, -2.479090452194214, 10.14887809753418, -8.026073455810547, -0.3073244094848633, 6.059000015258789, -1.6017916202545166, -0.7481306791305542, 1.1986621618270874, 4.037897109985352, 3.5287961959838867, -0.5062732100486755, -2.4004056453704834, 3.9966959953308105, 1.6740442514419556, -1.7988662719726562, 0.8001868724822998, -1.8665361404418945, -0.8939015865325928, -7.865497589111328, -0.8102282881736755, 5.721669673919678, -1.5852305889129639, 0.9563544392585754, 1.499643087387085, 0.4653860628604889, 5.027644634246826, -1.1972967386245728, 1.1862341165542603, 3.48406720161438, 1.0212467908859253, 2.822986125946045, -0.10320045053958893, 5.147231578826904, -6.212698459625244, 3.632573127746582, -5.841568470001221, -0.353418231010437, 0.40319177508354187, 1.3934918642044067, -4.402714729309082, -1.7429614067077637, 8.22989559173584, 0.8196965456008911, 1.486648440361023, 1.1635806560516357, 5.485429286956787, 0.6529839634895325, 2.8335494995117188, -6.565141677856445, -0.38317662477493286, -0.6396114826202393, -1.1180522441864014, -0.7044363617897034, 8.930570602416992, -8.043418884277344, 0.4672444760799408, -4.277485370635986, -4.309708118438721, -5.270444393157959, -4.2120680809021, -2.6265056133270264, -4.041848182678223, 1.6400790214538574, 3.1824073791503906, -0.6687942147254944, 5.695812225341797, 2.217529535293579, -1.3283240795135498, 1.6050604581832886, -0.731561541557312, -4.0869059562683105, -1.693360686302185, -0.9574708342552185, 4.118246078491211, 4.099077224731445, -7.365292549133301, -8.170552253723145, 5.937403202056885, 1.6780626773834229, -7.765897274017334, -2.870816469192505, -0.7247424125671387, -1.5049607753753662, 0.03931787237524986, 2.356292247772217, 2.215331792831421, -4.694716930389404, 2.358304977416992, 1.3840680122375488, -1.3135292530059814, -0.9222873449325562, -4.0683112144470215, -0.5766194462776184, 1.4364928007125854, 1.4741466045379639, 0.10298145562410355, -5.30149507522583, -2.0071959495544434, -4.806440353393555, -7.538379669189453, 1.886587142944336, -5.360670566558838, 4.635441303253174, 0.1287681758403778, 1.3744227886199951, -8.059636116027832, 6.955687046051025, -1.4156794548034668, 0.8231315612792969, -6.278787136077881, 0.9085103869438171, 0.7531396746635437, -4.707420349121094, 5.351171493530273, 5.404397487640381, 2.209331750869751, -7.202698707580566, 5.381647109985352, 1.7395446300506592, 1.4329782724380493, 3.368901252746582, 8.6733980178833, -1.2168852090835571, -0.89397132396698, 3.3937950134277344, -2.963839530944824, 5.714468955993652, -1.8066539764404297, -5.535942077636719, 6.566736698150635, 0.3524879813194275, -7.4862380027771, 2.2351081371307373, 5.8180952072143555, -7.824963569641113, -8.146284103393555, -0.7336798906326294, -6.847226619720459, 0.3521575331687927, -8.201665878295898, 1.0376085042953491, 2.2142956256866455, -8.065253257751465, 11.067643165588379, -3.7691164016723633, -6.616240978240967, -6.872704029083252, -0.46872082352638245, 2.112072229385376, -1.3823355436325073, -5.983853340148926, 0.20971107482910156, 2.65291428565979, 3.4914093017578125, 6.569586753845215, 1.547955870628357, -1.5698184967041016, -6.508704662322998, 0.0947377011179924, -0.6095786094665527, 2.134941339492798, -1.1448910236358643, 0.5857849717140198, 0.46373406052589417, -0.6356515288352966, 0.889977753162384, 3.0464415550231934, 1.9069668054580688, 3.2187585830688477, -7.293457984924316, -7.2663187980651855, -0.4844529628753662, -0.43104907870292664, 1.4812816381454468, 0.9573286175727844, 7.165587425231934, 6.173271179199219, 1.7392427921295166, -1.2754912376403809, -0.8825307488441467, -0.8430972695350647, -0.3473340570926666, -1.0322458744049072, 1.1680452823638916, 4.544196128845215, -2.290818214416504, 1.3391693830490112, -6.033719539642334, 10.494769096374512, 6.162661075592041, 5.567907810211182, -2.247748374938965, 9.768559455871582, -4.268221378326416, 5.853527069091797, 2.0548465251922607, -4.181883811950684, -0.23838254809379578, 0.32603245973587036, -6.718088150024414, -7.220115661621094, -4.061569690704346, -4.039252281188965, 0.8955041170120239, 4.317139148712158, 0.2709423303604126, -4.55882453918457, -3.1784965991973877, 0.149658203125, 7.11681604385376, -8.621750831604004, -0.9690940976142883, 1.3140075206756592, 0.8963840007781982, -3.5912203788757324, -6.983241081237793, -2.054802417755127, 4.343124866485596, 2.59272837638855, -0.6195554137229919, -0.5073602199554443, -3.061399221420288, 11.14861011505127, 1.5764713287353516, -5.403912544250488, 1.3730571269989014, 0.27445822954177856, 10.187889099121094, -0.3882811367511749, -4.763373374938965, -1.13621985912323, -3.8244690895080566, 0.776018500328064, 0.1422433704137802, 7.32332706451416, -1.5759334564208984, -2.757389545440674, 10.996517181396484, 1.7419676780700684, -3.8519463539123535, -0.46765679121017456, -0.804248034954071, 0.8048675656318665, -4.941335201263428, -1.883558750152588, 1.3221631050109863, 5.582640647888184, -0.3733539581298828, 10.636865615844727, 1.5232946872711182, 0.1539926528930664, 2.7240169048309326, 4.271945953369141, 10.576891899108887, 2.222689390182495, 2.9035894870758057, 4.949193000793457, 3.9853999614715576, -0.9080657958984375, 1.535341739654541, 3.821319580078125, -3.4997472763061523, 1.132979393005371, -6.801189422607422, 2.56550931930542, 0.1305902898311615, 9.739012718200684, 3.06429386138916, -1.5551143884658813, -0.49418139457702637, -4.175074100494385, 0.3268980085849762, 3.5648858547210693, 1.9248452186584473, 4.367071628570557, 2.519015073776245, 1.3706063032150269, 1.6095161437988281, 0.8115271329879761, 7.7851057052612305, -0.1346905529499054, 9.585441589355469, -0.01946249231696129, 0.7233667373657227, -3.133452892303467, -1.3869062662124634, 1.7105411291122437, 1.4548333883285522, -0.49564099311828613, -1.9965226650238037, 1.373221755027771, -3.9560024738311768, 1.331145167350769, 6.385858535766602, 1.8775826692581177, 8.102934837341309, 0.33123475313186646, 4.759779453277588, 1.4380531311035156, 2.3637516498565674, 0.3050721287727356, 9.137874603271484, 3.4516937732696533, 1.603874921798706, -4.32933235168457, -6.094569206237793, -4.5514607429504395, 0.37610504031181335, 5.182267189025879, 5.925137519836426, 2.6512136459350586, 10.507346153259277, 0.34464871883392334, 5.565035343170166, 2.7851076126098633, -4.603529930114746, 0.8150769472122192, 7.035399913787842, 7.458796501159668, -6.396872520446777, 1.2335835695266724, 10.777610778808594, 5.147211074829102, 5.976933002471924, -0.9207088351249695, 1.6155641078948975, 10.690075874328613, -2.8510284423828125, -2.3618571758270264, -3.7869319915771484, -7.601256370544434, 10.528300285339355, 1.1048686504364014, -7.756278991699219, -0.15184256434440613, -0.8614067435264587, 3.761768341064453, 1.0840407609939575, -3.793084144592285, 3.844489097595215, -2.265091896057129, 4.538734436035156, 3.9444987773895264, -2.999469041824341, -3.898888111114502, 0.7631492018699646, 9.301992416381836, 0.8851191997528076, -2.8474841117858887, 4.338706970214844, -0.23729223012924194, 2.3236031532287598, -0.6967580318450928, 2.2642788887023926, 0.28727614879608154, 2.708115577697754, 1.1841105222702026, -5.4560723304748535, -3.1930952072143555, 10.49418830871582, 0.9577085971832275, 4.481543064117432, 7.649293899536133, 4.7274580001831055, -1.1515765190124512, 2.6591203212738037, 0.9886406064033508, 0.849929928779602, 5.767769813537598, -0.6316312551498413, 1.8241983652114868, -0.439033567905426, -7.4773149490356445, 7.915660858154297, -0.9494686126708984, -0.17785850167274475, -0.917353630065918, -0.720146656036377, 2.419654607772827, -6.558498859405518, 4.5835065841674805, 2.183722496032715, -7.767764568328857, 2.9703848361968994, -0.12379621714353561, 0.999573826789856, 6.984285831451416, 0.621363639831543, 0.8300405144691467, 1.2387199401855469, -4.117709636688232, 6.822934627532959, -8.822053909301758, -6.0887932777404785, 2.5638928413391113, -4.6848673820495605, -3.5845510959625244, 7.496179580688477, 0.09767559170722961, 6.811554908752441, -0.5535795092582703, -7.295066833496094, 4.35688591003418, -1.4040448665618896, -5.1754679679870605, 6.74082612991333, -4.681461334228516, 5.486602783203125, 3.640155792236328, -2.179682493209839, 0.5139405131340027, 0.20465654134750366, 2.875481367111206, -3.9429616928100586, -1.5757805109024048, 0.6325337886810303, 0.23971597850322723, -5.28236722946167, 3.484678268432617, -4.457815170288086, 0.9493311047554016, -8.158953666687012, -4.454185485839844, -3.5683391094207764, 2.04732608795166, -8.965764999389648, 0.12670019268989563, -0.5420698523521423, 3.643502712249756, -0.9468631148338318, 0.09242359548807144, -5.945599555969238, -1.2675718069076538, 1.6156246662139893, -4.868150234222412, -0.21977028250694275, -4.89107608795166, 9.337590217590332, -0.7557700872421265, 5.953373432159424, -4.27824592590332, -2.8940391540527344, 0.601211667060852, 1.695732831954956, -8.144837379455566, -0.3419785797595978, 5.226803302764893, 3.210899591445923, -7.691622734069824, 2.6376326084136963, 3.013514757156372, 9.135845184326172, 5.7960028648376465, -1.5450525283813477, 0.7462691068649292, -0.7968951463699341, -5.206399440765381, 1.548280954360962, -3.007354497909546, -2.8881518840789795, -1.6191158294677734, 0.6081465482711792, -3.7664833068847656, 7.728372097015381, -8.330748558044434, -3.4074792861938477, 0.8348681926727295, -2.751370429992676, 4.818879127502441, 5.919070720672607, 4.109007835388184, 10.69504451751709, -3.364426612854004, 10.106670379638672, -0.6622318029403687, 3.321253776550293, -2.2192087173461914, -6.615274429321289, -5.527596473693848, 4.69813871383667, -1.0018424987792969, -4.330009460449219, -1.1910957098007202, -3.075741767883301, -4.315579414367676, 1.6954354047775269, 3.531867504119873, -3.7011330127716064, -7.061107635498047, -0.8896209001541138, -2.9527671337127686, 0.6675122380256653, 1.396834373474121, -4.267589092254639, -7.774672031402588, -0.696759045124054, 1.6923059225082397, 5.4041829109191895, -2.2187955379486084, 2.4464588165283203, 1.8145049810409546, -1.4552059173583984, -2.8136982917785645, -7.41348123550415, -2.7687201499938965, 2.4290339946746826, -0.8383828401565552, -1.0013036727905273, -1.3231914043426514, -5.9857964515686035, -0.9510676860809326, -0.14683878421783447, 6.096692085266113, 1.0277438163757324, -6.785452842712402, -5.293574333190918, -3.795733690261841, -4.913418769836426, 0.8215965032577515, 5.485428810119629, 0.40870216488838196, 1.0603212118148804, -5.592782497406006, -2.1093499660491943, -4.937270164489746, 10.4663667678833, -8.01987361907959, 0.9756836891174316, 0.4853530526161194, -0.3369986116886139, 0.43375810980796814, 1.703108787536621, 0.25514474511146545, 7.508817672729492, 1.6915123462677002, -2.5657477378845215, 5.104676723480225, -7.283812522888184, -2.0628926753997803, -3.1290647983551025, 5.335567951202393, 1.4600671529769897, 6.534632682800293, -4.347523212432861, -4.353412628173828, -6.546454429626465, 1.1888574361801147, 1.5733782052993774, 0.6473739147186279, -0.7011199593544006, -7.8368754386901855, 2.5158159732818604, 4.395969390869141, -2.6912593841552734, 1.0617733001708984, 9.888894081115723, -7.699419021606445, -5.88248348236084, 1.3412572145462036, 7.246899127960205, 11.108030319213867, 1.4996694326400757, 0.11660082638263702, -4.5654520988464355, -4.029494285583496, 1.5104659795761108, -0.0574047714471817, -0.6024767160415649, 2.24800705909729, -4.715174198150635, -7.24170446395874, -5.673882961273193, -5.506112575531006, -0.9647829532623291, 1.0241161584854126, 1.546586036682129, -0.028454532846808434, -7.7711052894592285, 0.0408240370452404, -4.118187427520752, -2.753631353378296, -0.6168752908706665, -0.5146366953849792, 10.293106079101562, 11.142179489135742, 0.09320729225873947, -0.27546775341033936, 0.9435330629348755, -7.328472137451172, 0.4680171012878418, -2.201261281967163, 0.9853496551513672, 6.317263126373291, -1.4964910745620728, -1.144468903541565, 9.680862426757812, 3.605600357055664, -5.942122459411621, -6.138868808746338, 1.8136472702026367, 4.274374485015869, 1.5717936754226685, -5.790834426879883, 0.5812300443649292, 2.038414478302002, -6.682406425476074, -0.2921660840511322, -3.0534298419952393, -0.7143154740333557, -7.124492645263672, -4.081122875213623, -0.8559911847114563, -6.1591339111328125, -6.251308441162109, 1.4078397750854492, 0.10129263252019882, 2.441237449645996, -4.291415691375732, 0.3267723321914673, -5.547336578369141, -2.6325478553771973, 4.091824054718018, -2.9154183864593506, 2.1852850914001465, 4.926347732543945, 2.8472650051116943, 0.5787002444267273, -6.764230728149414, 0.37225523591041565, 2.394709825515747, 4.679301738739014, 5.495172023773193, -3.8760826587677, 1.6070833206176758, -0.5447906851768494, -7.038215637207031, 1.9133976697921753, -4.390575885772705, -3.5338335037231445, -7.845915794372559, 1.0044783353805542, 5.558508396148682, 0.2778526544570923, -2.5137104988098145, -4.894639492034912, -2.545518636703491, -3.4187824726104736, 5.630349159240723, -2.6767940521240234, -0.2670353949069977, -1.1886017322540283, -0.5949787497520447, -3.098766803741455, 4.53855562210083, 6.085916519165039, -3.4555892944335938, 1.3156925439834595, 3.597829818725586, 0.030156796798110008, 0.2729940712451935, -3.419734477996826, 7.137664318084717, 5.091858863830566, -0.703628659248352, -4.346229553222656, -7.6332292556762695, 1.726550817489624, -3.172125816345215, 8.840143203735352, 1.6260523796081543, 0.7107200026512146, -1.1212515830993652, 0.9480618238449097, -1.2614737749099731, 2.9651598930358887, 0.6636235117912292, -5.321488380432129, 0.34414979815483093, 3.140646457672119, 2.808528423309326, 1.4299495220184326, 2.0525808334350586, -5.660046100616455, -4.298054218292236, -3.0479700565338135, -6.504043102264404, 5.460226058959961, -1.6574413776397705, 0.48676666617393494, -4.249538898468018, 0.2091675102710724, -0.7271627187728882, 1.150399923324585, 0.24609699845314026, -5.463127613067627, 2.183773994445801, 1.1913312673568726, 0.5275362730026245, 5.1701979637146, 0.1938953846693039, 1.6574883460998535, -5.057552814483643, -0.7841768264770508, -2.8770699501037598, 7.7983598709106445, -7.269487380981445, 5.746683597564697, 1.9454514980316162, 8.824348449707031, -6.30400276184082, -0.42674654722213745, -3.0605974197387695, -2.821624755859375, 10.568218231201172, -0.8350445032119751, 0.29177603125572205, -4.828954696655273, -4.958981037139893, 1.0815749168395996, -7.085305213928223, 0.24515977501869202, -1.584875464439392, 2.4660019874572754, 0.06477108597755432, -5.310109615325928, 0.37896403670310974, -4.188342094421387, -4.182079792022705, 1.589088797569275, -5.732015132904053, -0.3147001564502716, -5.547199726104736, -0.6891455054283142, 0.533207356929779, 8.921947479248047, 3.235020399093628, -7.821844100952148, 5.3929853439331055, 5.608435153961182, -1.5800955295562744, 3.606163263320923, 0.8365698456764221, 1.3319917917251587, -0.9677302241325378, -5.373917579650879, 5.337000370025635, 0.4518930912017822, 1.44692063331604, 1.832745909690857, 5.464442729949951, -3.9594290256500244, 5.735583305358887, 5.246866226196289, -7.4419403076171875, 1.4659351110458374, -4.0803632736206055, 0.7522289156913757, -5.852933883666992, -6.185269832611084, -0.2323245108127594, 0.7745474576950073, 1.5218621492385864, -1.1121716499328613, 0.5542344450950623, -7.7493391036987305, 2.158320426940918, 0.3538220524787903, 0.008247754536569118, 1.522712230682373, -0.46293339133262634, 0.019851258024573326, -0.038481928408145905, -5.175133228302002, 4.89825963973999, -2.253838539123535, 0.017587414011359215, -3.1229686737060547, 2.584681510925293, 1.5970962047576904, -0.6225759387016296, 6.994668960571289, -0.03254486247897148, 1.1615238189697266, 0.9393457770347595, -5.762109279632568, -8.937439918518066, -0.07080306857824326, 11.122313499450684, -1.7660634517669678, -2.8166682720184326, 4.0479302406311035, 2.9224905967712402, -1.7211834192276, 7.252412796020508, 0.2672503888607025, 8.472373962402344, -3.53959584236145, 1.5201762914657593, -0.49418139457702637, 4.254593849182129, 2.901763677597046, 0.8990508913993835, -0.9853887557983398, 0.6668755412101746, 11.129212379455566, 1.3750272989273071, -3.077545166015625, -7.837337970733643, -2.841801166534424, -5.024637699127197, -0.24264740943908691, 5.814061641693115, -2.131013870239258, -6.89810037612915, -3.013812780380249, -1.0926365852355957, -1.1904828548431396, 1.0471460819244385, -4.765214920043945, 0.4285649061203003, 0.8657231330871582, -3.4337384700775146, 1.159075140953064, 1.1550499200820923, -1.8885451555252075, -0.23482689261436462, -6.873276233673096, 9.769054412841797, 1.1926145553588867, 2.224195718765259, -3.114368438720703, -4.509736061096191, -0.1546652466058731, -3.0275535583496094, -3.1116456985473633, -0.9816945791244507, -0.4845482110977173, -2.4300038814544678, 1.1141196489334106, -3.5618128776550293, -6.557086944580078, -4.390649318695068, 1.696221947669983, 0.34213387966156006, -2.734706401824951, -5.38720178604126, 10.959513664245605, 10.401162147521973, -1.1122314929962158, -4.17430305480957, 3.632307767868042, -4.604639530181885, 7.301242828369141, -1.948137640953064, 6.867450714111328, 0.9872337579727173, 9.80050277709961, 5.866602420806885, 2.1815764904022217, 0.22897827625274658, -1.3982582092285156, 3.6159236431121826, 0.24035575985908508, -5.033121585845947, -7.8151092529296875, -1.5475342273712158, 6.990060806274414, 9.679244041442871, -0.15393893420696259, 5.456185817718506, -4.450199604034424, -6.523462772369385, 2.246943473815918, -3.0329673290252686, -1.925837516784668, 3.3047168254852295, 0.3606548607349396, -0.034808747470378876, -7.206757068634033, 10.094923973083496, 3.243718385696411, -4.468067169189453, 8.228671073913574, -0.6108863353729248, -1.8079708814620972, -4.80587911605835, -0.7080710530281067, 2.428525686264038, -1.3396269083023071, 0.07363314181566238, -1.768342137336731, 2.1839993000030518, -3.7922728061676025, 5.793115615844727, -4.662231922149658, -2.6655125617980957, -4.289657115936279, -4.845531940460205, -3.723853826522827, 3.8479573726654053, 4.996039867401123, -7.312389373779297, -5.436252117156982, 0.84134441614151, -0.7782261967658997, -3.3670923709869385, 1.6206644773483276, 1.126447319984436, 3.421419858932495, -4.111515998840332, 0.6699411273002625, 7.756002902984619, -5.6107497215271, 10.49934196472168, -6.473384380340576, -3.296147108078003, 0.3617517650127411, 9.343512535095215, -5.651113986968994, 3.0319886207580566, -1.004990577697754, -4.801481246948242, -5.458937644958496, -4.475954055786133, -0.8567699193954468, 10.744756698608398, 3.2295758724212646, -3.992701768875122, -7.391201972961426, -0.7148429155349731, 3.7185449600219727, -3.0050711631774902, 4.62770414352417], \"y\": [-2.5577621459960938, -9.477018356323242, 14.048710823059082, 3.7531423568725586, -5.052100658416748, -3.0153145790100098, -0.7527078986167908, -4.238613128662109, 6.710459232330322, 13.685739517211914, -5.679508209228516, 4.48713493347168, 11.178064346313477, -5.901475429534912, 12.63325309753418, -5.849885940551758, 0.9939948320388794, -9.05603313446045, -3.229564666748047, 13.217464447021484, 4.003171920776367, 3.4755709171295166, -3.563098192214966, -8.394524574279785, -9.239089012145996, -6.651874542236328, -8.824399948120117, -7.03000020980835, 0.36496853828430176, -0.4159034192562103, -7.997513771057129, -9.152276039123535, -8.685810089111328, -6.891363143920898, -1.5769586563110352, 2.5891714096069336, 12.330499649047852, -7.113458633422852, 2.1067914962768555, 10.492667198181152, -6.2519989013671875, 3.5115602016448975, -0.5146104693412781, 9.263051986694336, 6.708540439605713, -0.2402942180633545, -0.20113633573055267, 5.728261947631836, 7.309550762176514, -4.065570831298828, 2.717376708984375, -4.727690696716309, -0.7668884992599487, -5.819387912750244, 3.3014028072357178, 10.211438179016113, -9.473145484924316, 5.674091339111328, -0.22984059154987335, 5.051581859588623, 9.7088623046875, 3.5757367610931396, 1.9639400243759155, 5.4908366203308105, 0.8106059432029724, -2.467146396636963, -1.3199950456619263, 5.804196834564209, -3.5736887454986572, 2.2093968391418457, -9.588438034057617, -2.5337295532226562, -0.9632493257522583, -2.868175745010376, 0.9605945944786072, 1.1145657300949097, 12.54422378540039, -5.609470367431641, 2.535073757171631, 3.877634048461914, 4.02406644821167, 5.009533405303955, 2.5051379203796387, -4.194695949554443, 2.940552234649658, -4.108142852783203, -6.88025426864624, 0.010206418111920357, 14.489485740661621, -5.794336795806885, -2.495130777359009, -3.2703192234039307, -7.776424407958984, -3.5864624977111816, -8.260247230529785, -4.1917572021484375, -4.237867832183838, -0.1508747935295105, 6.280666351318359, 0.2749221622943878, 10.37789535522461, 4.5110087394714355, -2.362128257751465, -3.129284620285034, -0.8201632499694824, -5.912700653076172, -0.04810601472854614, -2.4380745887756348, 7.285059452056885, 9.559614181518555, -7.348637580871582, -8.91624927520752, 10.501004219055176, 3.220327138900757, -8.215598106384277, -6.655857086181641, 3.7617368698120117, 2.6122002601623535, -1.9059405326843262, 7.046817302703857, -0.20382045209407806, -2.264763355255127, 6.543339729309082, -3.7215771675109863, 0.5160542726516724, -1.5084686279296875, -4.945540428161621, -8.88224983215332, -3.2759275436401367, -4.305383682250977, -4.373579025268555, -3.733042001724243, 1.9674360752105713, -5.473701000213623, -8.827061653137207, -6.29391622543335, -4.10296106338501, 9.51478099822998, 0.14158394932746887, -0.002208104357123375, -7.1062469482421875, 12.05517864227295, 2.258206367492676, -8.29189395904541, -3.011626720428467, -1.7151663303375244, -7.781078815460205, -3.239858627319336, 12.867572784423828, 5.584666728973389, 7.025739669799805, -5.669358253479004, 2.9998700618743896, 6.47031307220459, -3.0375914573669434, 4.5380144119262695, 12.15184211730957, -2.595733165740967, -2.0996038913726807, 3.7913715839385986, -1.7988630533218384, 10.205220222473145, 1.6041247844696045, -3.941094398498535, 7.501335144042969, 5.4418625831604, -7.834870338439941, 3.2705435752868652, 5.895981311798096, -7.026574611663818, -9.11385726928711, -1.7491825819015503, -8.350180625915527, -6.998920440673828, -7.065897464752197, -7.867967128753662, 3.9332902431488037, -8.502659797668457, 14.475587844848633, -3.36615252494812, -7.730226993560791, -8.328251838684082, -3.7614121437072754, 1.409446120262146, -6.121196746826172, -10.268023490905762, 5.426825523376465, 8.544276237487793, 4.776843547821045, 7.068268299102783, -3.3211312294006348, -8.142228126525879, -3.2348477840423584, -3.5627541542053223, -8.330829620361328, 3.763361692428589, -0.7739743590354919, -1.592574954032898, -2.0528616905212402, -5.864854335784912, -5.699865341186523, 6.174097061157227, 4.483341693878174, 7.477353096008301, -7.158000469207764, -8.501155853271484, -8.359609603881836, -8.89382553100586, -2.3499205112457275, -1.258884072303772, 7.354543209075928, 11.478586196899414, -1.252539873123169, -2.7771520614624023, -1.4835443496704102, 0.9348679184913635, -3.638046979904175, -2.228677988052368, -1.7701884508132935, 9.973183631896973, -8.012067794799805, -1.8855441808700562, -8.482250213623047, 14.031211853027344, 10.638969421386719, 4.518498420715332, 1.9408483505249023, 12.667474746704102, 0.8513432741165161, 10.141916275024414, -5.746379375457764, -9.071782112121582, -8.246160507202148, -3.6249845027923584, -8.421006202697754, -5.10665225982666, -9.284096717834473, -1.7673547267913818, 0.9018778800964355, 6.960636615753174, 5.582840442657471, -4.069388389587402, -7.5693864822387695, -1.5466028451919556, 12.057085037231445, -6.221170902252197, -8.754390716552734, 5.857796669006348, 0.7554577589035034, -8.85886001586914, -8.550844192504883, -1.2433576583862305, 8.27553653717041, 8.93847370147705, -9.174973487854004, -4.0344929695129395, -8.183615684509277, 14.705671310424805, -0.2579861283302307, -9.477029800415039, 6.13450288772583, -6.5085978507995605, 14.516843795776367, -2.841230869293213, -2.9854557514190674, -2.4422707557678223, 1.4983196258544922, -6.629220485687256, 0.28878360986709595, 11.110864639282227, 2.8677871227264404, -7.008120536804199, 12.54847526550293, 0.956946611404419, -7.3857502937316895, -0.7003301382064819, -8.809537887573242, -2.4391708374023438, -3.1305134296417236, -8.306502342224121, -2.332104206085205, 10.161972999572754, 4.583127498626709, 12.394757270812988, -4.026429176330566, -2.5853958129882812, 4.0777459144592285, 7.22558069229126, 12.885769844055176, 7.13478422164917, 5.45976448059082, 5.5044941902160645, 7.362654685974121, 3.8178141117095947, -4.225283145904541, 3.235036849975586, -8.267398834228516, -2.3841967582702637, -5.005752086639404, 8.73745346069336, -4.534844398498535, 12.515589714050293, 2.080845594406128, -0.39124202728271484, 5.664592266082764, -4.571155071258545, 4.775721549987793, 7.63189697265625, -5.034267902374268, 5.9348320960998535, 7.023311138153076, -1.8915526866912842, -2.143846273422241, -1.4606752395629883, 11.775054931640625, 0.608418881893158, 14.561333656311035, -0.518750786781311, -3.138399600982666, -1.1263391971588135, -7.094766616821289, -0.36180561780929565, -3.349047899246216, 1.8419830799102783, 2.0340194702148438, -2.738227128982544, -7.742659568786621, -5.944637298583984, 10.376482963562012, -4.89808464050293, 12.213501930236816, 4.742501735687256, 4.488770961761475, 3.1543335914611816, 1.2858976125717163, 1.8197505474090576, 12.807326316833496, 6.853617191314697, 6.423947811126709, -6.936924457550049, -2.575958728790283, 0.6960791349411011, -2.0743014812469482, 10.29410171508789, 5.1545729637146, 8.103775024414062, 13.96023178100586, -3.2096447944641113, 10.059770584106445, -2.455803155899048, -3.8543686866760254, -7.927560329437256, 11.765212059020996, 8.499618530273438, -8.275969505310059, 2.083592414855957, 13.616172790527344, 8.958455085754395, 3.4657533168792725, -1.7466025352478027, 3.2037525177001953, 14.197914123535156, -5.878879070281982, 1.9393651485443115, -9.247172355651855, -7.042805194854736, 14.590057373046875, 1.4425147771835327, -8.04415512084961, -5.742380142211914, 3.8724043369293213, 5.4470648765563965, -9.10548210144043, -9.056857109069824, 3.068309783935547, 1.7377482652664185, 6.701986789703369, 6.120769500732422, -0.3907943665981293, -5.988323211669922, 0.18709087371826172, 12.387492179870605, -5.55133056640625, -2.208292245864868, 3.939093828201294, 4.4849419593811035, 1.8606016635894775, -6.4238481521606445, 4.483848571777344, -3.5597164630889893, 6.973064422607422, -1.9168415069580078, -9.734305381774902, -2.52944278717041, 14.087740898132324, -0.7269997596740723, 11.550206184387207, 12.345335960388184, 5.565561771392822, 1.387842059135437, 1.5966426134109497, -7.903538227081299, 4.2192583084106445, 11.685383796691895, -0.3346608281135559, 1.308597207069397, 4.338016510009766, -7.778907775878906, 12.274775505065918, -5.592901229858398, 3.395263195037842, 2.128131866455078, 3.4520821571350098, 8.368216514587402, -7.756004333496094, 9.64425277709961, 4.22668981552124, -8.836553573608398, 4.738606929779053, 3.4692118167877197, 5.841141223907471, 11.637260437011719, -9.126355171203613, -3.355116367340088, 1.144482135772705, -2.765354871749878, 10.917779922485352, -6.05629301071167, -9.196100234985352, 1.1085602045059204, -3.466900587081909, -2.0642476081848145, 10.061576843261719, 6.1224212646484375, 10.490939140319824, -3.072340488433838, -8.040556907653809, 4.657835006713867, -5.97528076171875, -4.019015312194824, 11.323068618774414, -8.020513534545898, 2.772944211959839, 6.169079303741455, -2.187051296234131, 2.1393818855285645, 5.237037658691406, -0.8940695524215698, -4.204105854034424, -7.8986616134643555, 5.083471775054932, 5.289634704589844, -8.021177291870117, 9.246942520141602, -2.2188384532928467, -7.709253311157227, -8.084613800048828, -5.146820545196533, -0.8054968118667603, -5.676872253417969, -5.811485290527344, 0.9861647486686707, -2.5827226638793945, 1.2465593814849854, -5.286907196044922, -4.164704322814941, -3.6193032264709473, -6.212678909301758, -4.116530895233154, -6.628119468688965, -2.344275712966919, -7.412400722503662, 12.260224342346191, 2.2174160480499268, 10.456064224243164, 2.2751352787017822, 1.2391918897628784, -1.092942476272583, -0.21983954310417175, -6.6481428146362305, -2.4951517581939697, 5.219492435455322, 6.2422380447387695, -6.41575288772583, 7.219830513000488, 9.227011680603027, 12.85556697845459, 8.575393676757812, 2.8015477657318115, -4.702264308929443, -1.4807827472686768, -3.423644542694092, -9.139330863952637, -1.0760053396224976, -0.9592079520225525, -1.9855456352233887, -1.7482495307922363, -5.708797931671143, 14.154216766357422, -8.823044776916504, -2.813141345977783, 5.355410575866699, 2.17488169670105, 9.697955131530762, 10.613969802856445, 6.673943996429443, 13.384875297546387, 3.344346523284912, 11.819428443908691, -1.7929571866989136, 6.398766994476318, -6.347183704376221, -4.973534107208252, -6.962216377258301, 10.424274444580078, 2.4926421642303467, 1.3541102409362793, -5.774646759033203, 1.929410457611084, -3.069685935974121, 2.77754807472229, 6.160426616668701, -3.0631296634674072, -5.267198085784912, 3.8041279315948486, -8.851785659790039, 6.458811283111572, 7.83992338180542, 0.7878243327140808, -7.238038063049316, -6.423771858215332, 6.791018009185791, 5.635519504547119, -0.6875726580619812, 1.8987597227096558, 6.016068935394287, 2.0764057636260986, -0.10417047142982483, -6.478584289550781, -0.07746434211730957, 6.328278064727783, 4.808377742767334, -0.901695191860199, 2.397312879562378, -10.369243621826172, -6.130198001861572, 4.887563228607178, 6.292139530181885, 4.84190034866333, -5.076601028442383, -2.3915562629699707, -7.34224271774292, -2.3950624465942383, -5.479342460632324, 4.024023532867432, 6.483622074127197, -2.550157070159912, -2.6310572624206543, 0.21897874772548676, -3.3086884021759033, 13.43986701965332, -7.108020782470703, 1.2284437417984009, -2.7915408611297607, 2.485262393951416, 6.64644718170166, -0.10708365589380264, -0.9676432609558105, 9.988871574401855, 4.674809455871582, 0.4525608718395233, 12.341374397277832, -9.296459197998047, -7.3848981857299805, -8.894668579101562, 8.895702362060547, -4.533121585845947, 13.131814002990723, -4.666072368621826, -7.115776062011719, -9.074213027954102, -3.9240429401397705, 3.9601564407348633, -3.4144670963287354, -9.37437629699707, -6.930029392242432, 1.954344391822815, 8.220562934875488, -0.7413224577903748, -3.0256052017211914, 12.901826858520508, -7.929564952850342, -7.941937446594238, 0.7935320734977722, 8.997182846069336, 14.681367874145508, -2.329385757446289, -0.484129935503006, -3.4373233318328857, -6.387519359588623, -1.4126255512237549, -3.414813995361328, 2.3051657676696777, 2.6432688236236572, 1.7313287258148193, -5.74412727355957, -2.068068265914917, -3.732123613357544, -8.474780082702637, -7.217144966125488, -9.22305965423584, 4.1102423667907715, -6.99203634262085, 4.764340400695801, 2.334479331970215, 0.14279228448867798, 5.202956676483154, -8.878344535827637, 13.994684219360352, 14.69591236114502, -5.193723201751709, -3.1343724727630615, 3.8500921726226807, -8.381636619567871, -3.381124496459961, 0.19667133688926697, 5.696514129638672, 10.336408615112305, -3.546445369720459, -2.675391674041748, 14.38895034790039, 6.730292797088623, -3.2547967433929443, -3.8607497215270996, -0.4228389859199524, 6.785953044891357, 7.542261123657227, -2.6796789169311523, 3.763570785522461, 3.8289377689361572, -4.084043025970459, -1.6365832090377808, -3.0000977516174316, 0.23787544667720795, -5.25615119934082, -7.983511447906494, 1.2919977903366089, -9.881327629089355, -3.928668975830078, 6.199717998504639, -1.6788533926010132, 1.0241278409957886, -6.002292633056641, -0.3412303626537323, -3.54677677154541, -0.04731075465679169, 1.9324966669082642, 1.1457165479660034, 4.235385417938232, 9.98469352722168, 1.1161401271820068, -5.381783962249756, -8.300627708435059, -4.488009929656982, 3.377750873565674, 9.534866333007812, 5.672464847564697, -0.8579065203666687, -4.221436500549316, 2.91117787361145, -5.043561935424805, 6.795022964477539, -3.1891427040100098, -3.267937183380127, -7.256241798400879, 3.98225998878479, 3.604978561401367, -4.332854270935059, -6.5318284034729, -6.1254563331604, -0.5733296275138855, -3.4329941272735596, 11.011295318603516, -6.0535888671875, 1.8789691925048828, 0.7697622179985046, -2.944101095199585, -5.721101760864258, 1.6704487800598145, 12.020977973937988, -7.049045562744141, -0.01544230617582798, 5.873875617980957, -3.1071231365203857, -2.7352752685546875, -8.18759536743164, 9.909996032714844, 10.046831130981445, 3.9439618587493896, 2.663588047027588, -5.531279563903809, 3.4051034450531006, -8.762990951538086, 12.994905471801758, 3.4622433185577393, 4.163856506347656, -6.941668510437012, 3.421149969100952, -0.7531458139419556, 3.639455556869507, -4.666290283203125, -3.3339931964874268, 6.41952657699585, 5.913759231567383, 2.353278398513794, 3.2012476921081543, 4.583662509918213, -2.793675422668457, -6.427146911621094, -8.79979419708252, -4.050095558166504, 12.796144485473633, -3.871053457260132, 3.363339424133301, -7.719898700714111, 5.209151268005371, -0.9137519001960754, 1.5037870407104492, -0.8291361331939697, -3.479370594024658, 1.521356225013733, -2.610673189163208, 4.17698860168457, 9.013463973999023, -4.404537200927734, -3.8833887577056885, -2.917637825012207, -5.649689197540283, -8.449660301208496, 11.816385269165039, -5.307667255401611, 10.239523887634277, 7.933438777923584, 12.568552017211914, -7.307063102722168, -8.498455047607422, 2.0679280757904053, 1.8003240823745728, 12.94335651397705, -9.391286849975586, -5.778781890869141, -6.122839450836182, -3.4510080814361572, -6.575038909912109, -4.766942501068115, 0.418779194355011, -0.46308276057243347, 6.803071975708008, -0.10457213968038559, -3.657017946243286, -2.8762118816375732, -9.313694953918457, -7.304784774780273, 2.866651773452759, -3.248042583465576, -5.774421215057373, -3.7175345420837402, 0.9343250393867493, -3.1883113384246826, 12.729951858520508, 6.302691459655762, -7.098361492156982, 5.587259769439697, 7.271989822387695, -3.518156051635742, 6.300721168518066, -3.4467198848724365, 6.215668201446533, -2.3067097663879395, -3.062666416168213, 5.772449493408203, -3.050112009048462, -4.800700664520264, 3.7069830894470215, 13.02525806427002, -2.929185152053833, 3.5703108310699463, 10.006239891052246, -7.552162170410156, 3.6785905361175537, -9.140979766845703, -3.8953168392181396, -10.299335479736328, -2.987239360809326, -1.2589572668075562, -4.412881851196289, -1.1461008787155151, -3.448885202407837, -5.461551189422607, -6.015455722808838, 1.7727878093719482, -1.144015908241272, -6.407513618469238, 1.899062156677246, -6.032013893127441, 0.9018166661262512, 1.2660248279571533, -3.308806896209717, 12.168871879577637, 2.9907660484313965, -7.865642070770264, -8.986682891845703, 3.8974578380584717, -2.8306357860565186, 1.9227060079574585, 11.966414451599121, 2.952465295791626, -3.086782693862915, 4.064264297485352, -9.438980102539062, -5.832676410675049, 3.536675453186035, 14.709150314331055, 1.7607555389404297, -2.330723285675049, 2.1592516899108887, 9.053990364074707, -6.478306293487549, 10.873440742492676, -4.758918285369873, 12.860956192016602, 2.1844899654388428, -3.0370090007781982, 5.664592742919922, 9.290821075439453, 7.960934162139893, -8.12249755859375, -2.075183153152466, -2.369845151901245, 14.731779098510742, -0.3142692446708679, -8.190954208374023, -7.626794338226318, -0.06381290405988693, -4.484140872955322, 1.0517313480377197, 10.544893264770508, 3.002697706222534, -9.039373397827148, -0.9879815578460693, -0.7832334041595459, 0.6023115515708923, -8.308094024658203, -9.1461181640625, 3.885662794113159, 2.931520938873291, -1.6626439094543457, -4.580025672912598, -1.8304543495178223, -6.369311809539795, -1.7837740182876587, -8.327258110046387, 12.934228897094727, 0.9318205714225769, 4.237618446350098, -5.182329177856445, 2.4038479328155518, -5.77318811416626, 2.090317487716675, -8.231888771057129, -1.811765193939209, -6.306232452392578, 2.3752710819244385, 3.9107868671417236, 3.4591028690338135, -3.9644618034362793, -2.3827123641967773, 4.694727897644043, -3.0114715099334717, -1.3735679388046265, -2.13753080368042, 12.332257270812988, 13.605803489685059, -8.247603416442871, -6.186179161071777, 6.3044047355651855, -9.216525077819824, 13.02606201171875, -2.0282773971557617, 11.600425720214844, 6.891360759735107, 12.692176818847656, 5.7952704429626465, -0.2885226905345917, 0.6751306056976318, -2.123135805130005, 6.2815632820129395, -3.347566843032837, -9.297056198120117, -5.290441036224365, -5.997337818145752, 12.107894897460938, 13.805534362792969, 3.606320858001709, 5.2438740730285645, -6.417727470397949, -2.128225088119507, 3.700331449508667, -6.410084247589111, 0.3723222613334656, 6.38080358505249, 5.114088535308838, -0.6235141158103943, -4.864566326141357, 13.820845603942871, 6.3215107917785645, -9.146868705749512, 13.39736557006836, -4.830456733703613, -9.5999174118042, -6.3372955322265625, 3.1636898517608643, 7.930542945861816, -8.641929626464844, 1.878412127494812, -6.1577863693237305, 1.5340975522994995, 1.672267198562622, 5.159456253051758, -5.448819160461426, 0.254608154296875, -2.834913730621338, -0.321318656206131, 2.375513792037964, 2.6658666133880615, 11.015830993652344, -8.67644214630127, -3.377655267715454, -4.400871276855469, -8.779252052307129, -0.08728551864624023, 0.6473666429519653, -8.274524688720703, 6.581455707550049, -2.086242914199829, -5.423015117645264, 11.729741096496582, -1.8468648195266724, 13.91024398803711, -9.052746772766113, -3.3983569145202637, -4.689272880554199, 13.121185302734375, -3.372676372528076, 5.747766971588135, 5.346515655517578, -8.974210739135742, -3.9741153717041016, -3.429594039916992, 1.2958792448043823, 14.40625, 1.0332460403442383, -9.159786224365234, -5.248402118682861, 2.4856295585632324, 6.093350887298584, -8.419787406921387, 7.390883445739746], \"z\": [4.000431060791016, 7.009280204772949, -11.998517036437988, -2.3288333415985107, 5.8740620613098145, 11.236315727233887, -3.221107244491577, 13.45034408569336, -5.559431552886963, -10.838271141052246, 7.684731960296631, -6.520864963531494, -8.094817161560059, 5.758690357208252, -7.986756801605225, 4.531341552734375, -2.3182456493377686, 9.94778060913086, -0.8694674372673035, -9.516231536865234, -4.909789085388184, 0.15119579434394836, -2.946906566619873, 8.938628196716309, 6.175626277923584, 4.059328079223633, 5.488465309143066, 4.6963276863098145, 7.603452205657959, 7.794820785522461, 9.996017456054688, 6.748651027679443, 2.0710196495056152, 0.21598757803440094, 2.175731897354126, -5.210260391235352, -8.044275283813477, -0.9033921957015991, 1.0465586185455322, -8.540386199951172, 7.714807510375977, -8.771466255187988, 9.285978317260742, -8.366069793701172, -3.9712560176849365, -0.7869549989700317, 1.2658189535140991, -4.282884120941162, -6.583375453948975, 7.753786563873291, 0.6293509602546692, -1.3233144283294678, -3.3952908515930176, 6.183100700378418, -8.680986404418945, -9.2153959274292, 11.99070930480957, -1.500516653060913, -4.307963848114014, -1.1166449785232544, -6.831757545471191, -4.464437007904053, 4.1020379066467285, -3.6704230308532715, 4.117554187774658, 3.8047609329223633, 4.293186664581299, -6.225638389587402, 3.4812943935394287, -4.469086647033691, 6.562211513519287, 5.608819484710693, -5.9072771072387695, -2.1157233715057373, -2.5077250003814697, -0.9863216876983643, -10.353736877441406, 8.50909423828125, 3.59041166305542, 3.0573503971099854, -4.819179058074951, -2.255195140838623, -4.927825927734375, 3.2691285610198975, 2.4010608196258545, 11.231578826904297, 11.28877067565918, -6.418300628662109, -10.318587303161621, 6.047571182250977, 10.466483116149902, 3.0188543796539307, 4.103100776672363, 1.62928307056427, 7.870007514953613, -1.4143249988555908, -2.8292016983032227, 7.098854064941406, -0.09425351023674011, -6.7642717361450195, -10.14552116394043, 0.5402317047119141, 4.74755334854126, -2.008735179901123, 2.582078218460083, 4.605064392089844, -3.196779727935791, -5.284106254577637, 0.7442009449005127, -7.703359127044678, 6.714389801025391, 1.206127405166626, -8.455915451049805, 4.664529800415039, 1.6072502136230469, 3.1617565155029297, -8.677498817443848, -4.771249771118164, -3.067688465118408, -4.498159885406494, 7.529275417327881, -1.0585325956344604, -6.199435710906982, 3.2423272132873535, 2.982184886932373, 2.3221871852874756, 4.125452995300293, 7.536545276641846, 2.80607271194458, 9.257513999938965, 12.710332870483398, -2.6544947624206543, -2.385979175567627, 2.6758508682250977, 2.496326446533203, 3.8031256198883057, 0.7462825775146484, -6.831722736358643, 4.943086624145508, 7.826164245605469, -1.0643894672393799, -9.383318901062012, -4.0837016105651855, 4.337374687194824, 1.2302559614181519, 7.909188747406006, 6.630449295043945, 1.0270371437072754, -7.994029521942139, -9.196465492248535, -7.779306888580322, -0.7345758676528931, -3.3000528812408447, -7.252139091491699, 13.147848129272461, -3.120573043823242, -10.87142276763916, 5.211135387420654, -5.543132305145264, -2.647751569747925, 3.1585562229156494, -11.325358390808105, -0.3413785398006439, -2.9758074283599854, -5.3043670654296875, -9.771538734436035, 0.9861433506011963, -4.762876033782959, -6.646129131317139, 2.8302011489868164, 1.4250603914260864, 5.154973983764648, 7.778965950012207, 8.180081367492676, -1.5785372257232666, 5.6772074699401855, -0.22419477999210358, 1.107574462890625, -12.166664123535156, -3.507568836212158, 9.234119415283203, 7.794803142547607, 11.073686599731445, 6.802124500274658, 5.746750354766846, 7.693990707397461, -2.6392555236816406, -7.8192057609558105, -5.990973949432373, -5.394631862640381, -1.9156389236450195, 6.630854606628418, 4.715697765350342, 12.042500495910645, 6.968268394470215, -4.625436782836914, -3.1813063621520996, -1.1716076135635376, -1.4530022144317627, 9.072272300720215, 4.570105075836182, 0.11121943593025208, -0.21412867307662964, -4.975947380065918, 4.556687355041504, 4.631506443023682, 10.458867073059082, 7.421387672424316, 12.420910835266113, 7.888941287994385, -5.365592002868652, -9.752493858337402, 7.576450824737549, 5.958946704864502, 0.2772917151451111, 2.952667474746704, 6.318220615386963, -2.0389230251312256, 7.359296798706055, -7.453345775604248, 9.750643730163574, 10.920676231384277, 9.995330810546875, -10.68668270111084, -11.087434768676758, -5.423803329467773, -1.3055201768875122, -9.236456871032715, -2.943488359451294, -7.004849433898926, 0.2951090633869171, 7.100174427032471, 6.630075454711914, 12.625158309936523, 1.698227882385254, 6.08390474319458, 9.131637573242188, 1.6640924215316772, -3.7375738620758057, -6.889839172363281, -3.9770641326904297, 4.6361613273620605, 4.102243900299072, 4.324901103973389, -9.522880554199219, 8.251895904541016, 10.339797973632812, -8.842537879943848, -3.622925281524658, 8.629284858703613, 4.483223915100098, -2.1715900897979736, -6.126805305480957, -7.051164627075195, 10.136019706726074, 8.790048599243164, 8.78028678894043, -12.407193183898926, -5.550517559051514, 7.009264945983887, -7.10953950881958, 8.082064628601074, -11.22971248626709, 5.840170860290527, 2.6277220249176025, -2.859769105911255, -4.45028018951416, 4.3225555419921875, 3.380404472351074, -9.419952392578125, -4.821224212646484, 1.941933274269104, -8.627486228942871, -5.720885753631592, 3.0612759590148926, 2.8737826347351074, 8.477059364318848, -4.38997745513916, -1.7580705881118774, 11.409671783447266, 12.181289672851562, -5.901324272155762, -8.934141159057617, -8.419597625732422, -1.533658742904663, -3.312154769897461, -4.467024803161621, 1.601096272468567, -9.019716262817383, -4.6711859703063965, 1.3278870582580566, -7.365197658538818, -4.151083469390869, -9.41167163848877, 9.421367645263672, -2.175244092941284, 8.58781623840332, 7.9798994064331055, -2.5810959339141846, -8.220902442932129, 5.636170864105225, -7.911300182342529, -4.542233467102051, 1.8869352340698242, -2.847296953201294, -2.364276885986328, -4.638710021972656, -4.826412677764893, -0.7531254887580872, -7.228802680969238, -4.989312171936035, 10.211319923400879, 7.673111915588379, -5.745258331298828, -11.041433334350586, 2.213714838027954, -11.067208290100098, -3.2355289459228516, 12.541234970092773, -2.100663423538208, 10.767522811889648, -5.239984035491943, 3.0127875804901123, 1.4770567417144775, -2.7293341159820557, 12.795090675354004, 4.959323883056641, 4.423299789428711, -7.173216819763184, -0.8947128057479858, -10.472230911254883, -5.512399196624756, -3.715635299682617, 3.6075923442840576, 7.508312702178955, 2.6614043712615967, -11.93674373626709, -6.5226616859436035, -6.438117504119873, 4.998093128204346, -0.06049245595932007, -2.478363275527954, 10.028260231018066, -8.383563041687012, -6.289706707000732, -7.667932987213135, -11.87303638458252, 11.728840827941895, -8.43004322052002, 4.001666069030762, 1.7594490051269531, 6.148414611816406, -8.924239158630371, -5.356489658355713, 9.776552200317383, 3.767496109008789, -10.8768310546875, -5.610145568847656, -4.610866069793701, -1.9179109334945679, 1.6197059154510498, -11.77413272857666, 1.8385851383209229, -2.438539505004883, 11.656543731689453, 6.2887749671936035, -11.910866737365723, 2.587754964828491, 1.5613352060317993, 5.370816707611084, -4.25260066986084, -4.1424241065979, 6.7424492835998535, 11.499434471130371, -2.1711320877075195, -4.338947772979736, -7.980444431304932, -7.0266032218933105, 1.112343430519104, 3.5952157974243164, -3.8497087955474854, -9.622633934020996, 8.43547534942627, 4.217973709106445, -2.094316005706787, -2.207408905029297, -5.036853790283203, 11.40639877319336, 0.7540834546089172, 12.553033828735352, -5.782904148101807, 10.653875350952148, 7.550611972808838, 4.357749938964844, -11.305754661560059, 7.65036678314209, -8.249483108520508, -9.824796676635742, -7.408792495727539, 0.7115951776504517, -4.376280784606934, 4.452507019042969, -2.163459300994873, -10.066605567932129, 2.261920928955078, 6.156650066375732, -8.933572769165039, 0.7650931477546692, -9.646472930908203, 8.068266868591309, -3.8994555473327637, -8.032857894897461, -1.3816665410995483, -6.766169548034668, 9.289558410644531, -5.699616432189941, 0.6204116940498352, 1.7016061544418335, -4.679183483123779, -3.5524942874908447, -7.793385028839111, -8.172357559204102, 6.868659496307373, 13.020041465759277, 3.112520456314087, -1.5456479787826538, -8.19321346282959, 8.127410888671875, 5.787419319152832, 7.4645185470581055, 4.982417106628418, 3.1508724689483643, -6.282100200653076, -6.219135761260986, -6.943977355957031, 8.841742515563965, 10.201105117797852, -6.966549396514893, 7.01222562789917, 5.025953769683838, -8.412510871887207, 4.340578556060791, -4.662942886352539, -6.890940189361572, 4.498012542724609, -4.319991111755371, -9.563600540161133, 6.889483451843262, -3.2752959728240967, 10.769089698791504, -1.6188470125198364, -4.5951995849609375, 5.384981155395508, -7.261448383331299, 3.119091510772705, 4.523107528686523, 0.6022509336471558, 4.299429416656494, -1.650097370147705, 0.20625349879264832, 7.718897342681885, 0.8424191474914551, -1.9392608404159546, -3.176016330718994, 6.323177337646484, 12.561361312866211, 2.9586567878723145, 4.680422306060791, -1.76951265335083, 1.9401577711105347, 6.271520137786865, 4.3952226638793945, -9.712193489074707, -2.4245824813842773, -8.022462844848633, -2.4124577045440674, -2.813699722290039, -2.600827693939209, 8.9451904296875, 8.502403259277344, 9.100178718566895, -6.121494770050049, 0.5439286828041077, -1.2579201459884644, -4.838521480560303, -7.3905930519104, -11.32702350616455, -5.097907066345215, -4.777124881744385, 5.463358402252197, -0.21207308769226074, 0.5130569338798523, 6.805212497711182, 1.623063325881958, -2.8165910243988037, 5.479727268218994, -1.5940572023391724, 3.548246145248413, -9.154497146606445, 0.8211173415184021, -3.689072847366333, -0.9485296010971069, -3.1399481296539307, -6.064042568206787, -10.501626014709473, -5.318826198577881, -10.234671592712402, -3.05371356010437, -8.439056396484375, 6.018089294433594, 0.5308642387390137, 6.257979393005371, 3.31809663772583, 4.302164554595947, -7.962235450744629, -2.912665367126465, -2.575011968612671, 7.83563756942749, -5.1157402992248535, 3.2380197048187256, 2.339892625808716, 2.1117944717407227, 4.803050518035889, -2.3160839080810547, -9.324926376342773, 7.8762383460998535, -5.414073467254639, -4.938998222351074, -2.313828468322754, -0.3481844961643219, 11.406304359436035, -7.700475215911865, -9.21200180053711, -2.7222654819488525, -4.796479225158691, -8.83048152923584, -4.95413875579834, 1.014344573020935, 4.749570846557617, -3.758913040161133, -5.647526741027832, -1.343955397605896, -1.2177070379257202, -1.015475869178772, 7.810862064361572, 8.55676555633545, -9.38852596282959, -6.408921718597412, -3.8733668327331543, 3.0925002098083496, 0.11337105184793472, 3.254634141921997, -0.8145310878753662, 7.275688648223877, -4.819179534912109, -2.316418409347534, -2.0619592666625977, 0.7051945328712463, 0.2755078971385956, 1.2640796899795532, -10.786142349243164, -0.8924083113670349, -4.474123001098633, -4.0322794914245605, -2.9918792247772217, -2.1475942134857178, 7.568928241729736, 6.451991081237793, -6.18264102935791, 0.8876955509185791, 0.7435122728347778, -8.337722778320312, 3.348802089691162, 9.727437973022461, 8.362850189208984, -5.386414051055908, 3.2663509845733643, -8.606903076171875, 0.8597347736358643, 2.6757028102874756, 4.9924445152282715, 13.574422836303711, -3.476903200149536, 12.774198532104492, 11.515959739685059, 2.7018613815307617, -4.8619537353515625, -5.934659004211426, -3.0721595287323, 12.841614723205566, -9.225603103637695, 1.7539186477661133, 4.920602321624756, 7.554718494415283, -5.799358367919922, -12.451053619384766, 12.369497299194336, 5.971524715423584, 1.5948762893676758, 5.097342014312744, -6.224705696105957, 12.08618450164795, 0.173187255859375, 2.4941904544830322, -3.546351909637451, -1.5725730657577515, 0.755008339881897, -2.31544828414917, 11.520256042480469, 8.424551010131836, 6.846848964691162, -1.0979968309402466, 2.3097922801971436, -9.211174964904785, -2.5979971885681152, 0.5038011074066162, -8.907082557678223, 10.33017349243164, -11.575793266296387, -12.421566009521484, 5.302996635437012, 6.250925540924072, -4.395754337310791, 1.8880891799926758, 12.776741981506348, -2.7770073413848877, -7.433298110961914, -7.003838539123535, 7.077281475067139, 4.9530134201049805, -10.989514350891113, -5.253588676452637, 4.051815032958984, -0.31356486678123474, -4.948912620544434, -5.725185871124268, -2.7184853553771973, -0.08673994243144989, -5.31517219543457, -4.544900894165039, -1.4531112909317017, -1.2662550210952759, -1.4899308681488037, -6.7063493728637695, -0.716112494468689, 4.585747718811035, -7.398567199707031, 6.789742469787598, -1.1988006830215454, -7.599781513214111, 4.1012282371521, 7.313673973083496, 4.730343818664551, 7.180665016174316, 2.002699375152588, -0.8800374269485474, -2.960787057876587, -2.928821563720703, 0.621077835559845, -8.482213020324707, -3.7562415599823, 13.749146461486816, 4.558601379394531, 4.386789798736572, -4.950315952301025, -6.829624176025391, -5.865241527557373, -0.9530062079429626, 9.322713851928711, -2.373272180557251, -0.8664871454238892, -4.047330379486084, 5.039206027984619, 5.095294952392578, -0.261851966381073, 3.55220103263855, -4.388071060180664, 12.901982307434082, 5.764957427978516, 1.5271754264831543, -2.7035815715789795, -1.6350282430648804, -9.14322280883789, 1.972665786743164, 2.015763998031616, 2.2029433250427246, 5.122696399688721, 1.8511323928833008, -2.8184022903442383, -7.764862060546875, 3.433929920196533, -3.9497504234313965, -4.163366794586182, 9.89510440826416, 9.958050727844238, 8.427177429199219, -6.2598066329956055, -6.871716499328613, -8.768016815185547, -2.7173986434936523, 6.184617042541504, 2.8493049144744873, 7.973216533660889, -10.660057067871094, -4.900472164154053, -1.3995161056518555, 9.432554244995117, -3.683051347732544, 2.482206106185913, -1.300636649131775, 7.223349571228027, 0.45273062586784363, -2.111827850341797, -8.769170761108398, -4.922269344329834, -4.448083400726318, -3.327263593673706, 0.011308271437883377, 3.9414446353912354, 8.125510215759277, -1.1352790594100952, -8.020064353942871, 7.68585729598999, -2.8333823680877686, 3.7705886363983154, -4.203721046447754, 2.417865753173828, 2.0710341930389404, 6.262167453765869, 4.971438407897949, 7.068039894104004, 12.42491340637207, -5.159524917602539, -5.2291340827941895, 6.514796257019043, -2.404038190841675, 3.9851443767547607, 6.400636672973633, 7.269557476043701, -11.77678108215332, 6.09945821762085, -11.291133880615234, -6.875396251678467, -10.918392181396484, 1.3188248872756958, 10.325510025024414, -4.996017932891846, -3.0545833110809326, -9.0934476852417, 11.604360580444336, 8.370450019836426, 2.2353665828704834, 3.979348659515381, 4.875121593475342, -1.9651124477386475, -6.858908176422119, 2.6140224933624268, -5.689384460449219, 4.972326278686523, -2.230947256088257, -3.4823496341705322, 8.931739807128906, 2.9287538528442383, 3.4093432426452637, -0.5088715553283691, 4.682917594909668, -0.1275961846113205, -7.182895183563232, -3.503352165222168, -10.904394149780273, 0.6172975897789001, 0.5605660080909729, -9.151884078979492, -5.104241847991943, 6.913898468017578, 2.0003061294555664, -3.2005178928375244, -8.258859634399414, -5.3383469581604, -0.6345159411430359, -9.142434120178223, 11.876564025878906, 9.047648429870605, 2.4938154220581055, -7.84967565536499, 1.4073516130447388, -3.7465691566467285, -7.451830863952637, 4.528538227081299, 2.8430943489074707, 11.2360200881958, -2.981267213821411, 7.5252180099487305, 4.210007190704346, 6.395505905151367, 13.518383026123047, 9.709757804870605, 5.284066200256348, 13.768529891967773, 5.531796455383301, 6.765257835388184, 5.987590789794922, 13.82153606414795, 4.228204727172852, 6.044432640075684, 1.2759263515472412, 1.4469555616378784, 3.113240957260132, -8.338836669921875, -5.865201473236084, 10.786591529846191, 9.127580642700195, -1.1313483715057373, 2.8606343269348145, 0.7278496623039246, -9.348342895507812, 2.6563150882720947, -2.342899799346924, -1.8951560258865356, 6.629884243011475, 7.723876476287842, -4.745933532714844, -12.432426452636719, -1.2222623825073242, -2.246649742126465, -2.818608045578003, -7.3990254402160645, 7.2878737449646, -7.414801120758057, 7.3859148025512695, -9.594600677490234, -3.6438324451446533, 2.997356414794922, -2.847296953201294, -6.491870403289795, -4.903168201446533, 4.730935573577881, -3.0061774253845215, 10.207358360290527, -12.424474716186523, 7.145374298095703, 6.247216701507568, 1.3024028539657593, -0.4133518636226654, 4.985174655914307, -7.394481658935547, -10.423418045043945, -5.248312950134277, 4.067554950714111, -2.577049970626831, 1.0060019493103027, -2.5572352409362793, 5.818778991699219, 10.159622192382812, -5.120797157287598, -4.641517639160156, 1.742972493171692, 3.624518394470215, -2.5989606380462646, 6.376138210296631, 8.300756454467773, 7.79613733291626, -9.38465404510498, 3.413665533065796, 0.5705646276473999, 1.9099488258361816, -3.5324976444244385, 12.266953468322754, -4.6765265464782715, 6.43102502822876, 8.316377639770508, 11.548872947692871, -2.341151237487793, 3.5077123641967773, -2.889946222305298, -0.9437916874885559, 3.125620126724243, -5.506809234619141, 11.69047737121582, -3.8283004760742188, -0.40637966990470886, -8.338075637817383, -10.462700843811035, 10.566776275634766, 4.019558429718018, 2.104278326034546, 10.503000259399414, -8.880963325500488, 4.277368068695068, -9.095159530639648, -2.686302423477173, -8.809938430786133, -6.337869167327881, 7.323532581329346, -7.175513744354248, 4.8661723136901855, 2.1060783863067627, 12.129021644592285, 7.025966644287109, 6.666426181793213, 7.9299798011779785, -9.053125381469727, -10.994345664978027, -5.32381010055542, -6.334632873535156, 4.314612865447998, 0.7689170837402344, -4.0632829666137695, 4.844429969787598, -3.0767600536346436, 0.08576503396034241, -9.238483428955078, 4.385083198547363, 5.19189977645874, -11.836447715759277, 0.045554522424936295, 9.884791374206543, -9.69357967376709, 5.420102119445801, 12.095176696777344, 2.05177903175354, -1.9156054258346558, -4.812942981719971, 10.123767852783203, 0.844261884689331, 4.600103378295898, 7.04292631149292, -3.6689109802246094, -6.686095714569092, 1.5150201320648193, -2.2739923000335693, 3.7351486682891846, -1.5335756540298462, -2.1203174591064453, -2.736151695251465, -8.5110445022583, 2.5390841960906982, -0.4655657410621643, 4.067022323608398, 8.392507553100586, -0.6976855993270874, 7.001473426818848, 5.785029888153076, -0.48365530371665955, 5.156141757965088, 8.840875625610352, -11.450576782226562, -0.24756357073783875, -11.60755729675293, 4.997824668884277, -1.2603285312652588, 4.796179294586182, -11.022878646850586, 4.800477027893066, 1.0679513216018677, -3.4189453125, 6.000631809234619, 4.9380669593811035, 5.203742980957031, -7.400917053222656, -12.260202407836914, -3.3568711280822754, 8.486517906188965, 5.743708610534668, -8.205510139465332, -7.389363765716553, 7.08841609954834, -8.919059753417969]}, {\"hovertemplate\": \"Dominant_Topic=Topic 2<br>0=%{x}<br>1=%{y}<br>2=%{z}<extra></extra>\", \"legendgroup\": \"Topic 2\", \"marker\": {\"color\": \"#EF553B\", \"opacity\": 0.7, \"symbol\": \"circle\"}, \"mode\": \"markers\", \"name\": \"Topic 2\", \"scene\": \"scene\", \"showlegend\": true, \"type\": \"scatter3d\", \"x\": [-1.814050316810608], \"y\": [-9.774474143981934], \"z\": [12.243990898132324]}],                        {\"height\": 800, \"legend\": {\"title\": {\"text\": \"Dominant_Topic\"}, \"tracegroupgap\": 0}, \"scene\": {\"domain\": {\"x\": [0.0, 1.0], \"y\": [0.0, 1.0]}, \"xaxis\": {\"title\": {\"text\": \"0\"}}, \"yaxis\": {\"title\": {\"text\": \"1\"}}, \"zaxis\": {\"title\": {\"text\": \"2\"}}}, \"template\": {\"data\": {\"bar\": [{\"error_x\": {\"color\": \"#2a3f5f\"}, \"error_y\": {\"color\": \"#2a3f5f\"}, \"marker\": {\"line\": {\"color\": \"#E5ECF6\", \"width\": 0.5}}, \"type\": \"bar\"}], \"barpolar\": [{\"marker\": {\"line\": {\"color\": \"#E5ECF6\", \"width\": 0.5}}, \"type\": \"barpolar\"}], \"carpet\": [{\"aaxis\": {\"endlinecolor\": \"#2a3f5f\", \"gridcolor\": \"white\", \"linecolor\": \"white\", \"minorgridcolor\": \"white\", \"startlinecolor\": \"#2a3f5f\"}, \"baxis\": {\"endlinecolor\": \"#2a3f5f\", \"gridcolor\": \"white\", \"linecolor\": \"white\", \"minorgridcolor\": \"white\", \"startlinecolor\": \"#2a3f5f\"}, \"type\": \"carpet\"}], \"choropleth\": [{\"colorbar\": {\"outlinewidth\": 0, \"ticks\": \"\"}, \"type\": \"choropleth\"}], \"contour\": [{\"colorbar\": {\"outlinewidth\": 0, \"ticks\": \"\"}, \"colorscale\": [[0.0, \"#0d0887\"], [0.1111111111111111, \"#46039f\"], [0.2222222222222222, \"#7201a8\"], [0.3333333333333333, \"#9c179e\"], [0.4444444444444444, \"#bd3786\"], [0.5555555555555556, \"#d8576b\"], [0.6666666666666666, \"#ed7953\"], [0.7777777777777778, \"#fb9f3a\"], [0.8888888888888888, \"#fdca26\"], [1.0, \"#f0f921\"]], \"type\": \"contour\"}], \"contourcarpet\": [{\"colorbar\": {\"outlinewidth\": 0, \"ticks\": \"\"}, \"type\": \"contourcarpet\"}], \"heatmap\": [{\"colorbar\": {\"outlinewidth\": 0, \"ticks\": \"\"}, \"colorscale\": [[0.0, \"#0d0887\"], [0.1111111111111111, \"#46039f\"], [0.2222222222222222, \"#7201a8\"], [0.3333333333333333, \"#9c179e\"], [0.4444444444444444, \"#bd3786\"], [0.5555555555555556, \"#d8576b\"], [0.6666666666666666, \"#ed7953\"], [0.7777777777777778, \"#fb9f3a\"], [0.8888888888888888, \"#fdca26\"], [1.0, \"#f0f921\"]], \"type\": \"heatmap\"}], \"heatmapgl\": [{\"colorbar\": {\"outlinewidth\": 0, \"ticks\": \"\"}, \"colorscale\": [[0.0, \"#0d0887\"], [0.1111111111111111, \"#46039f\"], [0.2222222222222222, \"#7201a8\"], [0.3333333333333333, \"#9c179e\"], [0.4444444444444444, \"#bd3786\"], [0.5555555555555556, \"#d8576b\"], [0.6666666666666666, \"#ed7953\"], [0.7777777777777778, \"#fb9f3a\"], [0.8888888888888888, \"#fdca26\"], [1.0, \"#f0f921\"]], \"type\": \"heatmapgl\"}], \"histogram\": [{\"marker\": {\"colorbar\": {\"outlinewidth\": 0, \"ticks\": \"\"}}, \"type\": \"histogram\"}], \"histogram2d\": [{\"colorbar\": {\"outlinewidth\": 0, \"ticks\": \"\"}, \"colorscale\": [[0.0, \"#0d0887\"], [0.1111111111111111, \"#46039f\"], [0.2222222222222222, \"#7201a8\"], [0.3333333333333333, \"#9c179e\"], [0.4444444444444444, \"#bd3786\"], [0.5555555555555556, \"#d8576b\"], [0.6666666666666666, \"#ed7953\"], [0.7777777777777778, \"#fb9f3a\"], [0.8888888888888888, \"#fdca26\"], [1.0, \"#f0f921\"]], \"type\": \"histogram2d\"}], \"histogram2dcontour\": [{\"colorbar\": {\"outlinewidth\": 0, \"ticks\": \"\"}, \"colorscale\": [[0.0, \"#0d0887\"], [0.1111111111111111, \"#46039f\"], [0.2222222222222222, \"#7201a8\"], [0.3333333333333333, \"#9c179e\"], [0.4444444444444444, \"#bd3786\"], [0.5555555555555556, \"#d8576b\"], [0.6666666666666666, \"#ed7953\"], [0.7777777777777778, \"#fb9f3a\"], [0.8888888888888888, \"#fdca26\"], [1.0, \"#f0f921\"]], \"type\": \"histogram2dcontour\"}], \"mesh3d\": [{\"colorbar\": {\"outlinewidth\": 0, \"ticks\": \"\"}, \"type\": \"mesh3d\"}], \"parcoords\": [{\"line\": {\"colorbar\": {\"outlinewidth\": 0, \"ticks\": \"\"}}, \"type\": \"parcoords\"}], \"pie\": [{\"automargin\": true, \"type\": \"pie\"}], \"scatter\": [{\"marker\": {\"colorbar\": {\"outlinewidth\": 0, \"ticks\": \"\"}}, \"type\": \"scatter\"}], \"scatter3d\": [{\"line\": {\"colorbar\": {\"outlinewidth\": 0, \"ticks\": \"\"}}, \"marker\": {\"colorbar\": {\"outlinewidth\": 0, \"ticks\": \"\"}}, \"type\": \"scatter3d\"}], \"scattercarpet\": [{\"marker\": {\"colorbar\": {\"outlinewidth\": 0, \"ticks\": \"\"}}, \"type\": \"scattercarpet\"}], \"scattergeo\": [{\"marker\": {\"colorbar\": {\"outlinewidth\": 0, \"ticks\": \"\"}}, \"type\": \"scattergeo\"}], \"scattergl\": [{\"marker\": {\"colorbar\": {\"outlinewidth\": 0, \"ticks\": \"\"}}, \"type\": \"scattergl\"}], \"scattermapbox\": [{\"marker\": {\"colorbar\": {\"outlinewidth\": 0, \"ticks\": \"\"}}, \"type\": \"scattermapbox\"}], \"scatterpolar\": [{\"marker\": {\"colorbar\": {\"outlinewidth\": 0, \"ticks\": \"\"}}, \"type\": \"scatterpolar\"}], \"scatterpolargl\": [{\"marker\": {\"colorbar\": {\"outlinewidth\": 0, \"ticks\": \"\"}}, \"type\": \"scatterpolargl\"}], \"scatterternary\": [{\"marker\": {\"colorbar\": {\"outlinewidth\": 0, \"ticks\": \"\"}}, \"type\": \"scatterternary\"}], \"surface\": [{\"colorbar\": {\"outlinewidth\": 0, \"ticks\": \"\"}, \"colorscale\": [[0.0, \"#0d0887\"], [0.1111111111111111, \"#46039f\"], [0.2222222222222222, \"#7201a8\"], [0.3333333333333333, \"#9c179e\"], [0.4444444444444444, \"#bd3786\"], [0.5555555555555556, \"#d8576b\"], [0.6666666666666666, \"#ed7953\"], [0.7777777777777778, \"#fb9f3a\"], [0.8888888888888888, \"#fdca26\"], [1.0, \"#f0f921\"]], \"type\": \"surface\"}], \"table\": [{\"cells\": {\"fill\": {\"color\": \"#EBF0F8\"}, \"line\": {\"color\": \"white\"}}, \"header\": {\"fill\": {\"color\": \"#C8D4E3\"}, \"line\": {\"color\": \"white\"}}, \"type\": \"table\"}]}, \"layout\": {\"annotationdefaults\": {\"arrowcolor\": \"#2a3f5f\", \"arrowhead\": 0, \"arrowwidth\": 1}, \"autotypenumbers\": \"strict\", \"coloraxis\": {\"colorbar\": {\"outlinewidth\": 0, \"ticks\": \"\"}}, \"colorscale\": {\"diverging\": [[0, \"#8e0152\"], [0.1, \"#c51b7d\"], [0.2, \"#de77ae\"], [0.3, \"#f1b6da\"], [0.4, \"#fde0ef\"], [0.5, \"#f7f7f7\"], [0.6, \"#e6f5d0\"], [0.7, \"#b8e186\"], [0.8, \"#7fbc41\"], [0.9, \"#4d9221\"], [1, \"#276419\"]], \"sequential\": [[0.0, \"#0d0887\"], [0.1111111111111111, \"#46039f\"], [0.2222222222222222, \"#7201a8\"], [0.3333333333333333, \"#9c179e\"], [0.4444444444444444, \"#bd3786\"], [0.5555555555555556, \"#d8576b\"], [0.6666666666666666, \"#ed7953\"], [0.7777777777777778, \"#fb9f3a\"], [0.8888888888888888, \"#fdca26\"], [1.0, \"#f0f921\"]], \"sequentialminus\": [[0.0, \"#0d0887\"], [0.1111111111111111, \"#46039f\"], [0.2222222222222222, \"#7201a8\"], [0.3333333333333333, \"#9c179e\"], [0.4444444444444444, \"#bd3786\"], [0.5555555555555556, \"#d8576b\"], [0.6666666666666666, \"#ed7953\"], [0.7777777777777778, \"#fb9f3a\"], [0.8888888888888888, \"#fdca26\"], [1.0, \"#f0f921\"]]}, \"colorway\": [\"#636efa\", \"#EF553B\", \"#00cc96\", \"#ab63fa\", \"#FFA15A\", \"#19d3f3\", \"#FF6692\", \"#B6E880\", \"#FF97FF\", \"#FECB52\"], \"font\": {\"color\": \"#2a3f5f\"}, \"geo\": {\"bgcolor\": \"white\", \"lakecolor\": \"white\", \"landcolor\": \"#E5ECF6\", \"showlakes\": true, \"showland\": true, \"subunitcolor\": \"white\"}, \"hoverlabel\": {\"align\": \"left\"}, \"hovermode\": \"closest\", \"mapbox\": {\"style\": \"light\"}, \"paper_bgcolor\": \"white\", \"plot_bgcolor\": \"#E5ECF6\", \"polar\": {\"angularaxis\": {\"gridcolor\": \"white\", \"linecolor\": \"white\", \"ticks\": \"\"}, \"bgcolor\": \"#E5ECF6\", \"radialaxis\": {\"gridcolor\": \"white\", \"linecolor\": \"white\", \"ticks\": \"\"}}, \"scene\": {\"xaxis\": {\"backgroundcolor\": \"#E5ECF6\", \"gridcolor\": \"white\", \"gridwidth\": 2, \"linecolor\": \"white\", \"showbackground\": true, \"ticks\": \"\", \"zerolinecolor\": \"white\"}, \"yaxis\": {\"backgroundcolor\": \"#E5ECF6\", \"gridcolor\": \"white\", \"gridwidth\": 2, \"linecolor\": \"white\", \"showbackground\": true, \"ticks\": \"\", \"zerolinecolor\": \"white\"}, \"zaxis\": {\"backgroundcolor\": \"#E5ECF6\", \"gridcolor\": \"white\", \"gridwidth\": 2, \"linecolor\": \"white\", \"showbackground\": true, \"ticks\": \"\", \"zerolinecolor\": \"white\"}}, \"shapedefaults\": {\"line\": {\"color\": \"#2a3f5f\"}}, \"ternary\": {\"aaxis\": {\"gridcolor\": \"white\", \"linecolor\": \"white\", \"ticks\": \"\"}, \"baxis\": {\"gridcolor\": \"white\", \"linecolor\": \"white\", \"ticks\": \"\"}, \"bgcolor\": \"#E5ECF6\", \"caxis\": {\"gridcolor\": \"white\", \"linecolor\": \"white\", \"ticks\": \"\"}}, \"title\": {\"x\": 0.05}, \"xaxis\": {\"automargin\": true, \"gridcolor\": \"white\", \"linecolor\": \"white\", \"ticks\": \"\", \"title\": {\"standoff\": 15}, \"zerolinecolor\": \"white\", \"zerolinewidth\": 2}, \"yaxis\": {\"automargin\": true, \"gridcolor\": \"white\", \"linecolor\": \"white\", \"ticks\": \"\", \"title\": {\"standoff\": 15}, \"zerolinecolor\": \"white\", \"zerolinewidth\": 2}}}, \"title\": {\"text\": \"3d TSNE Plot for Topic Model\"}, \"width\": 900},                        {\"responsive\": true}                    ).then(function(){\n",
       "                            \n",
       "var gd = document.getElementById('149052bb-bb3e-44da-9d7a-faee423c4c90');\n",
       "var x = new MutationObserver(function (mutations, observer) {{\n",
       "        var display = window.getComputedStyle(gd).display;\n",
       "        if (!display || display === 'none') {{\n",
       "            console.log([gd, 'removed!']);\n",
       "            Plotly.purge(gd);\n",
       "            observer.disconnect();\n",
       "        }}\n",
       "}});\n",
       "\n",
       "// Listen for the removal of the full notebook cells\n",
       "var notebookContainer = gd.closest('#notebook-container');\n",
       "if (notebookContainer) {{\n",
       "    x.observe(notebookContainer, {childList: true});\n",
       "}}\n",
       "\n",
       "// Listen for the clearing of the current output cell\n",
       "var outputEl = gd.closest('.output');\n",
       "if (outputEl) {{\n",
       "    x.observe(outputEl, {childList: true});\n",
       "}}\n",
       "\n",
       "                        })                };                });            </script>        </div>"
      ]
     },
     "metadata": {},
     "output_type": "display_data"
    },
    {
     "data": {
      "text/html": [
       "        <script type=\"text/javascript\">\n",
       "        window.PlotlyConfig = {MathJaxConfig: 'local'};\n",
       "        if (window.MathJax) {MathJax.Hub.Config({SVG: {font: \"STIX-Web\"}});}\n",
       "        if (typeof require !== 'undefined') {\n",
       "        require.undef(\"plotly\");\n",
       "        requirejs.config({\n",
       "            paths: {\n",
       "                'plotly': ['https://cdn.plot.ly/plotly-latest.min']\n",
       "            }\n",
       "        });\n",
       "        require(['plotly'], function(Plotly) {\n",
       "            window._Plotly = Plotly;\n",
       "        });\n",
       "        }\n",
       "        </script>\n",
       "        "
      ]
     },
     "metadata": {},
     "output_type": "display_data"
    },
    {
     "data": {
      "image/png": "[encoded data removed]",
      "text/plain": [
       "<Figure size 720x432 with 1 Axes>"
      ]
     },
     "metadata": {},
     "output_type": "display_data"
    }
   ],
   "source": [
    "plot_model(lsi, plot = 'tsne')\n",
    "\n",
    "plot_model(lsi, plot = 'umap')"
   ]
  },
  {
   "cell_type": "code",
   "execution_count": 10,
   "id": "elementary-chemistry",
   "metadata": {},
   "outputs": [
    {
     "data": {
      "text/plain": [
       "<AxesSubplot:>"
      ]
     },
     "execution_count": 10,
     "metadata": {},
     "output_type": "execute_result"
    },
    {
     "data": {
      "image/png": "[encoded data removed]",
      "text/plain": [
       "<Figure size 720x1440 with 2 Axes>"
      ]
     },
     "metadata": {},
     "output_type": "display_data"
    }
   ],
   "source": [
    "%matplotlib inline\n",
    "import seaborn as sns; sns.set(rc={'figure.figsize':(10,20)})\n",
    "sns.heatmap(document_topic_matrix.loc[document_topic_matrix.idxmax(axis=1).sort_values().index])"
   ]
  },
  {
   "cell_type": "code",
   "execution_count": 11,
   "id": "applied-consultancy",
   "metadata": {},
   "outputs": [
    {
     "data": {
      "text/plain": [
       "<AxesSubplot:>"
      ]
     },
     "execution_count": 11,
     "metadata": {},
     "output_type": "execute_result"
    },
    {
     "data": {
      "image/png": "[encoded data removed]",
      "text/plain": [
       "<Figure size 720x360 with 1 Axes>"
      ]
     },
     "metadata": {},
     "output_type": "display_data"
    }
   ],
   "source": [
    "sns.set(rc={'figure.figsize':(10,5)})\n",
    "document_topic_matrix.idxmax(axis=1).value_counts().plot.bar(color='lightblue')"
   ]
  },
  {
   "cell_type": "code",
   "execution_count": null,
   "id": "reliable-lightning",
   "metadata": {},
   "outputs": [],
   "source": []
  }
 ],
 "metadata": {
  "kernelspec": {
   "display_name": "Python 3",
   "language": "python",
   "name": "python3"
  },
  "language_info": {
   "codemirror_mode": {
    "name": "ipython",
    "version": 3
   },
   "file_extension": ".py",
   "mimetype": "text/x-python",
   "name": "python",
   "nbconvert_exporter": "python",
   "pygments_lexer": "ipython3",
   "version": "3.7.10"
  }
 },
 "nbformat": 4,
 "nbformat_minor": 5
}
