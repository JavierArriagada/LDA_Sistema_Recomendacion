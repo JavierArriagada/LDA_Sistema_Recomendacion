{
 "cells": [
  {
   "cell_type": "markdown",
   "id": "treated-offset",
   "metadata": {},
   "source": [
    "# Evaluacion Modelo NMF"
   ]
  },
  {
   "cell_type": "code",
   "execution_count": 3,
   "id": "illegal-stuff",
   "metadata": {},
   "outputs": [
    {
     "name": "stdout",
     "output_type": "stream",
     "text": [
      "Successfully created the directory ../Experimentos Modelos/NMF/exp-20521/ \n"
     ]
    }
   ],
   "source": [
    "from pycaret.nlp import *\n",
    "import cargar_corpus\n",
    "import pickle\n",
    "import pandas as pd\n",
    "\n",
    "session_id = 20521\n",
    "random_state = session_id\n",
    "\n",
    "import os\n",
    "# define the name of the directory to be created\n",
    "path = \"../Experimentos Modelos/NMF/\" + \"exp-\" + str(session_id) +\"/\"\n",
    "\n",
    "try:\n",
    "    os.mkdir(path)\n",
    "except OSError:\n",
    "    print (\"Creation of the directory %s failed\" % path)\n",
    "else:\n",
    "    print (\"Successfully created the directory %s \" % path)\n",
    "    \n",
    "\n",
    "#ruta_dataset = \"../Dataset/PDF\"\n",
    "#ruta_dataset = \"F:/Memoria/Dataset/PDF\"\n",
    "\n",
    "ruta_modelo = path + \"NMF-Model\"\n",
    "\n",
    "#dataframe = cargar_corpus.getDataframe_pdf(ruta_dataset)\n",
    "#data = dataframe\n",
    "#sample = int(dataframe.shape[0]*.8)\n",
    "#data = dataframe.sample(sample, random_state=random_state).reset_index(drop=True)\n",
    "#data_unseen = dataframe.drop(data.index).reset_index(drop=True)\n",
    "\n",
    "#Cargar DF de pdf's\n",
    "\n",
    "path_exp = \"../Experimentos Modelos/train_data/\"\n",
    "data_train_dir = path_exp + \"data_train.df\"\n",
    "data_test_dir = path_exp + \"data_test.df\"\n",
    "\n",
    "data = pickle.load(open(data_train_dir, 'rb'))\n",
    "data_unseen = pickle.load(open(data_test_dir, 'rb'))"
   ]
  },
  {
   "cell_type": "code",
   "execution_count": 4,
   "id": "imperial-excitement",
   "metadata": {},
   "outputs": [],
   "source": [
    "custom_stopwords = ['use', 'fig', 'figure' , 'value', 'www', 'org', 'also', 'model', 'ch', 'er_al', 'research', 'researchgate_net', 'year', \n",
    "                    'upwelle','however', 'ca','slr','area','sir','reference','page','may','table','show','study',\n",
    "                    'therefore','thus','may','term','low','sample','result','test','author','prepare','report','que','set',\n",
    "                    'column','moreover','find','read','total','author_funder_granted_biorxiv','holder_preprint_peer_reviewe',\n",
    "                    'licence_display_preprint_perpetuity','rights_reserved_reuse_allowe','biorxiv_preprint_first_poste',\n",
    "                    'content_courtesy_springer_nature','terms_apply_rights_reserve','university_chicago_press','conditions_http_journal',\n",
    "                    'content_downloaded_march_subject','reviews_aquaculture_author','reviews_aquaculture_published_john','publication',\n",
    "                    'time','funder_granted_biorxiv_license','display_preprint_perpetuity_right','authors_publication_working_relate',\n",
    "                    'reserved_reuse_allowed_without',\n",
    "                    'user_requested_enhancement_downloaded','view_project_content_followe','upload','international_license_permit',\n",
    "                    'sharing_adaptation_distribution_reproduction','claims_published_maps_institutional',\n",
    "                    'creative_commons_license','intended_permitted_statutory_regulation','exceeds_permitted_need','open_acces_article_license',\n",
    "                    'creative_commons_attribution','international_license_permit','copyright_holder_view','preprints_preprints_peer_reviewe',\n",
    "                    'preprint','posted_june_doi','university_concepcion_publications_citation','deem',\n",
    "                    'publications_citations_publications_citation','authors_working_related_projects','synthesis','introduction','owe',\n",
    "                    'scientific','average','september_user_requeste','source','type','old','field','single','day',\n",
    "                    'https_researchgate_net','victor_roberto_parra_sanchez','university_concepcion','universidad','related_project',\n",
    "                    'view_project','january_user_requested','profile','student', 'manuel', 'professor_department','dynamic', 'calculation',\n",
    "                    'general', 'context', 'valid', 'experimental','eq','email','citations_reads_authors_include',         \n",
    "                    \n",
    "                    \n",
    "                    'article', 'technology', 'citations_reads_authors_include', 'university_concepcion_publications_citation', \n",
    "                    'katia_saez_university_concepcion','katia_saez_university_publication',\n",
    "                    'authors_working_related_project', 'view_project_content_following', 'puerto', 'file', 'registered_office_mortimer_house',\n",
    "                    'wt', 'environmental', 'detail', 'include', 'instruction', 'authors_subscription', 'information', 'doi_citations_read',\n",
    "                    'authors_include',\n",
    "                    'faculty', 'department','whatsoever_howsoever_cause', 'arising_directly_indirectly','access', 'found_http_tandfonline',\n",
    "                    'com', 'condition','received_august_accepte','concepcion','box', 'plot',\n",
    "                    \n",
    "                    'able', 'others','above-mentioned otherwise','accordingly', 'overall','across', 'rather','along', 'remarkably','already',\n",
    "                    'significantly', 'alternatively simply','always sometimes','among specifically','and','or', 'straight', 'forward','anything',\n",
    "                    'substantially', 'anywhere', 'thereafter','better', 'therebetween','disclosure', 'therefor','due','therefrom', 'easily', 'therein', 'easy',\n",
    "                    'thereinto+','eg', 'thereon', 'either', 'therethrough','university','whatsoever','distribution_form_anyone',\n",
    "                    'expressly_forbidden','follow', 'additionally', 'analysis','distribution',\n",
    "                    'elsewhere', 'therewith','enough','together','especially', 'toward',  'essentially', 'towards','et al','typical', 'etc', 'typically',\n",
    "                    'eventually', 'upon', 'excellent', 'via', 'finally', 'vice versa',\n",
    "                    'furthermore', 'whatever','good', 'whereas','hence', 'whereat','he','she', 'wherever','him','her', 'whether','his','her',\n",
    "                    'whose','ie', 'within', 'ii', 'without', 'iii', 'yet', 'instead', 'later', 'like', 'little', 'many', 'may', 'meanwhile',\n",
    "                    'might','moreover','much','must','never','often','line','phase','cycle',\n",
    "                    \n",
    "                    'increase', 'effect', 'induce', 'activity', 'estimate', 'high', 'unit', 'download', 'material', 'follow', 'example', 'level', \n",
    "                    'variable', 'see', 'present', 'citation', 'distribution', 'equation', 'document', 'paper', 'citation_recomendation', 'pag',\n",
    "                    'stre', 'non', 'enchufetv', 'solution', 'problem', 'method', 'function', 'case', 'consider', 'order', 'give', 'obtain', 'theorem',\n",
    "                    'define','process','system', 'section', 'numerical', 'first', 'second', 'error', 'base', 'element',\n",
    "                    'item', 'measurement','could', 'need', 'datum', 'image', 'let', 'assume', 'proof', 'denote', 'constant', 'unknown',\n",
    "\n",
    "                    'review', 'publish', 'copyright', 'abstract', 'factor', \n",
    "\n",
    "                    \n",
    "                    \n",
    "]"
   ]
  },
  {
   "cell_type": "code",
   "execution_count": 5,
   "id": "swiss-medline",
   "metadata": {},
   "outputs": [
    {
     "name": "stdout",
     "output_type": "stream",
     "text": [
      "Model Succesfully Saved\n"
     ]
    },
    {
     "data": {
      "text/plain": [
       "(NMF(alpha=0.0, beta_loss='frobenius', init='nndsvd', l1_ratio=0.0, max_iter=200,\n",
       "     n_components=12, random_state=20521, shuffle=False, solver='cd', tol=0.0001,\n",
       "     verbose=0),\n",
       " '../Experimentos Modelos/NMF/exp-20521/NMF-Model.pkl')"
      ]
     },
     "execution_count": 5,
     "metadata": {},
     "output_type": "execute_result"
    }
   ],
   "source": [
    "nmf_exp = setup(data = data, target = 'text', session_id = session_id, custom_stopwords = custom_stopwords)\n",
    "#custom_grid = [2,4,6,8,10,12,14,16,18,20,22,24,26,28]\n",
    "\n",
    "num_topics = 12\n",
    "\n",
    "nmf = create_model('nmf', num_topics = num_topics, multi_core = True)\n",
    "\n",
    "save_model(nmf, ruta_modelo)"
   ]
  },
  {
   "cell_type": "code",
   "execution_count": 6,
   "id": "charged-siemens",
   "metadata": {},
   "outputs": [],
   "source": [
    "train_data_ = get_config('data_') #pandas.DataFrame containing text after all processing\n",
    "train_tokenized_words = get_config('text') #Tokenized words as a list with length = # documents\n",
    "train_corpus = get_config('corpus') #List containing tuples of id to word mapping\n",
    "train_id2word = get_config('id2word')\n",
    "\n",
    "train_data_dir = path + \"train_data_.sav\"\n",
    "train_tokenized_words_dir = path + \"train_tokenized_words.sav\"\n",
    "train_corpus_dir = path + \"train_corpus.sav\"\n",
    "train_id2word_dir = path + \"train_id2word.sav\"\n",
    "\n",
    "pickle.dump(train_data_, open(train_data_dir, 'wb'))\n",
    "pickle.dump(train_tokenized_words, open(train_tokenized_words_dir, 'wb'))\n",
    "pickle.dump(train_corpus, open(train_corpus_dir, 'wb'))\n",
    "pickle.dump(train_id2word, open(train_id2word_dir, 'wb'))"
   ]
  },
  {
   "cell_type": "code",
   "execution_count": 7,
   "id": "skilled-syria",
   "metadata": {},
   "outputs": [],
   "source": [
    "from sklearn.feature_extraction.text import CountVectorizer, TfidfVectorizer\n",
    "\n",
    "\n",
    "vectorizer = TfidfVectorizer(analyzer='word',       \n",
    "                                min_df=10,                        # minimum read occurences of a word \n",
    "                                stop_words='english',             # remove stop words\n",
    "                               lowercase=True,                   # convert all words to lowercase\n",
    "                                token_pattern='[a-zA-Z0-9]{3,}',  # num chars > 3\n",
    "                                # max_features=50000,             # max number of uniq words\n",
    "                                )\n",
    "\n",
    "data_vectorized = vectorizer.fit_transform(train_data_.text)"
   ]
  },
  {
   "cell_type": "code",
   "execution_count": 8,
   "id": "different-sally",
   "metadata": {},
   "outputs": [],
   "source": [
    "X = nmf.fit_transform(data_vectorized)\n",
    "Y = nmf.components_"
   ]
  },
  {
   "cell_type": "code",
   "execution_count": 9,
   "id": "informative-structure",
   "metadata": {},
   "outputs": [],
   "source": [
    "document_topic_matrix = pd.DataFrame(X)\n",
    "topic_word_matrix = pd.DataFrame(Y)"
   ]
  },
  {
   "cell_type": "code",
   "execution_count": 10,
   "id": "exempt-geneva",
   "metadata": {},
   "outputs": [],
   "source": [
    "document_topic_matrix_dir = path + \"document_topic_matrix.sav\"\n",
    "pickle.dump(document_topic_matrix, open(document_topic_matrix_dir, 'wb'))\n",
    "\n",
    "topic_word_matrix_dir = path + \"topic_word_matrix.sav\"\n",
    "pickle.dump(topic_word_matrix, open(topic_word_matrix_dir, 'wb'))\n",
    "\n",
    "\n",
    "nmf_train_results = assign_model(nmf)\n",
    "nmf_train_results = nmf_train_results.drop(columns=['text'])\n",
    "nmf_train_results_dir = path + \"nmf_train_results.df\"\n",
    "pickle.dump(nmf_train_results, open(nmf_train_results_dir, 'wb'))"
   ]
  },
  {
   "cell_type": "code",
   "execution_count": 11,
   "id": "vanilla-harvard",
   "metadata": {},
   "outputs": [
    {
     "data": {
      "text/html": [
       "        <script type=\"text/javascript\">\n",
       "        window.PlotlyConfig = {MathJaxConfig: 'local'};\n",
       "        if (window.MathJax) {MathJax.Hub.Config({SVG: {font: \"STIX-Web\"}});}\n",
       "        if (typeof require !== 'undefined') {\n",
       "        require.undef(\"plotly\");\n",
       "        requirejs.config({\n",
       "            paths: {\n",
       "                'plotly': ['https://cdn.plot.ly/plotly-latest.min']\n",
       "            }\n",
       "        });\n",
       "        require(['plotly'], function(Plotly) {\n",
       "            window._Plotly = Plotly;\n",
       "        });\n",
       "        }\n",
       "        </script>\n",
       "        "
      ]
     },
     "metadata": {},
     "output_type": "display_data"
    },
    {
     "data": {
      "application/vnd.plotly.v1+json": {
       "config": {
        "plotlyServerURL": "https://plot.ly"
       },
       "data": [
        {
         "alignmentgroup": "True",
         "customdata": [
          [
           "N, A"
          ],
          [
           "N, A"
          ],
          [
           "N, A"
          ],
          [
           "N, A"
          ],
          [
           "N, A"
          ],
          [
           "N, A"
          ],
          [
           "N, A"
          ],
          [
           "N, A"
          ],
          [
           "N, A"
          ],
          [
           "N, A"
          ],
          [
           "N, A"
          ],
          [
           "N, A"
          ]
         ],
         "hovertemplate": "Topic=%{x}<br>Documents=%{y}<br>Keyword=%{customdata[0]}<extra></extra>",
         "legendgroup": "",
         "marker": {
          "color": "#636efa"
         },
         "name": "",
         "offsetgroup": "",
         "orientation": "v",
         "showlegend": false,
         "textposition": "auto",
         "type": "bar",
         "x": [
          "Topic 0",
          "Topic 1",
          "Topic 2",
          "Topic 3",
          "Topic 4",
          "Topic 5",
          "Topic 6",
          "Topic 7",
          "Topic 8",
          "Topic 9",
          "Topic 10",
          "Topic 11"
         ],
         "xaxis": "x",
         "y": [
          267,
          140,
          156,
          207,
          94,
          29,
          6,
          22,
          3,
          2,
          25,
          18
         ],
         "yaxis": "y"
        }
       ],
       "layout": {
        "barmode": "relative",
        "legend": {
         "tracegroupgap": 0
        },
        "template": {
         "data": {
          "bar": [
           {
            "error_x": {
             "color": "#2a3f5f"
            },
            "error_y": {
             "color": "#2a3f5f"
            },
            "marker": {
             "line": {
              "color": "#E5ECF6",
              "width": 0.5
             }
            },
            "type": "bar"
           }
          ],
          "barpolar": [
           {
            "marker": {
             "line": {
              "color": "#E5ECF6",
              "width": 0.5
             }
            },
            "type": "barpolar"
           }
          ],
          "carpet": [
           {
            "aaxis": {
             "endlinecolor": "#2a3f5f",
             "gridcolor": "white",
             "linecolor": "white",
             "minorgridcolor": "white",
             "startlinecolor": "#2a3f5f"
            },
            "baxis": {
             "endlinecolor": "#2a3f5f",
             "gridcolor": "white",
             "linecolor": "white",
             "minorgridcolor": "white",
             "startlinecolor": "#2a3f5f"
            },
            "type": "carpet"
           }
          ],
          "choropleth": [
           {
            "colorbar": {
             "outlinewidth": 0,
             "ticks": ""
            },
            "type": "choropleth"
           }
          ],
          "contour": [
           {
            "colorbar": {
             "outlinewidth": 0,
             "ticks": ""
            },
            "colorscale": [
             [
              0,
              "#0d0887"
             ],
             [
              0.1111111111111111,
              "#46039f"
             ],
             [
              0.2222222222222222,
              "#7201a8"
             ],
             [
              0.3333333333333333,
              "#9c179e"
             ],
             [
              0.4444444444444444,
              "#bd3786"
             ],
             [
              0.5555555555555556,
              "#d8576b"
             ],
             [
              0.6666666666666666,
              "#ed7953"
             ],
             [
              0.7777777777777778,
              "#fb9f3a"
             ],
             [
              0.8888888888888888,
              "#fdca26"
             ],
             [
              1,
              "#f0f921"
             ]
            ],
            "type": "contour"
           }
          ],
          "contourcarpet": [
           {
            "colorbar": {
             "outlinewidth": 0,
             "ticks": ""
            },
            "type": "contourcarpet"
           }
          ],
          "heatmap": [
           {
            "colorbar": {
             "outlinewidth": 0,
             "ticks": ""
            },
            "colorscale": [
             [
              0,
              "#0d0887"
             ],
             [
              0.1111111111111111,
              "#46039f"
             ],
             [
              0.2222222222222222,
              "#7201a8"
             ],
             [
              0.3333333333333333,
              "#9c179e"
             ],
             [
              0.4444444444444444,
              "#bd3786"
             ],
             [
              0.5555555555555556,
              "#d8576b"
             ],
             [
              0.6666666666666666,
              "#ed7953"
             ],
             [
              0.7777777777777778,
              "#fb9f3a"
             ],
             [
              0.8888888888888888,
              "#fdca26"
             ],
             [
              1,
              "#f0f921"
             ]
            ],
            "type": "heatmap"
           }
          ],
          "heatmapgl": [
           {
            "colorbar": {
             "outlinewidth": 0,
             "ticks": ""
            },
            "colorscale": [
             [
              0,
              "#0d0887"
             ],
             [
              0.1111111111111111,
              "#46039f"
             ],
             [
              0.2222222222222222,
              "#7201a8"
             ],
             [
              0.3333333333333333,
              "#9c179e"
             ],
             [
              0.4444444444444444,
              "#bd3786"
             ],
             [
              0.5555555555555556,
              "#d8576b"
             ],
             [
              0.6666666666666666,
              "#ed7953"
             ],
             [
              0.7777777777777778,
              "#fb9f3a"
             ],
             [
              0.8888888888888888,
              "#fdca26"
             ],
             [
              1,
              "#f0f921"
             ]
            ],
            "type": "heatmapgl"
           }
          ],
          "histogram": [
           {
            "marker": {
             "colorbar": {
              "outlinewidth": 0,
              "ticks": ""
             }
            },
            "type": "histogram"
           }
          ],
          "histogram2d": [
           {
            "colorbar": {
             "outlinewidth": 0,
             "ticks": ""
            },
            "colorscale": [
             [
              0,
              "#0d0887"
             ],
             [
              0.1111111111111111,
              "#46039f"
             ],
             [
              0.2222222222222222,
              "#7201a8"
             ],
             [
              0.3333333333333333,
              "#9c179e"
             ],
             [
              0.4444444444444444,
              "#bd3786"
             ],
             [
              0.5555555555555556,
              "#d8576b"
             ],
             [
              0.6666666666666666,
              "#ed7953"
             ],
             [
              0.7777777777777778,
              "#fb9f3a"
             ],
             [
              0.8888888888888888,
              "#fdca26"
             ],
             [
              1,
              "#f0f921"
             ]
            ],
            "type": "histogram2d"
           }
          ],
          "histogram2dcontour": [
           {
            "colorbar": {
             "outlinewidth": 0,
             "ticks": ""
            },
            "colorscale": [
             [
              0,
              "#0d0887"
             ],
             [
              0.1111111111111111,
              "#46039f"
             ],
             [
              0.2222222222222222,
              "#7201a8"
             ],
             [
              0.3333333333333333,
              "#9c179e"
             ],
             [
              0.4444444444444444,
              "#bd3786"
             ],
             [
              0.5555555555555556,
              "#d8576b"
             ],
             [
              0.6666666666666666,
              "#ed7953"
             ],
             [
              0.7777777777777778,
              "#fb9f3a"
             ],
             [
              0.8888888888888888,
              "#fdca26"
             ],
             [
              1,
              "#f0f921"
             ]
            ],
            "type": "histogram2dcontour"
           }
          ],
          "mesh3d": [
           {
            "colorbar": {
             "outlinewidth": 0,
             "ticks": ""
            },
            "type": "mesh3d"
           }
          ],
          "parcoords": [
           {
            "line": {
             "colorbar": {
              "outlinewidth": 0,
              "ticks": ""
             }
            },
            "type": "parcoords"
           }
          ],
          "pie": [
           {
            "automargin": true,
            "type": "pie"
           }
          ],
          "scatter": [
           {
            "marker": {
             "colorbar": {
              "outlinewidth": 0,
              "ticks": ""
             }
            },
            "type": "scatter"
           }
          ],
          "scatter3d": [
           {
            "line": {
             "colorbar": {
              "outlinewidth": 0,
              "ticks": ""
             }
            },
            "marker": {
             "colorbar": {
              "outlinewidth": 0,
              "ticks": ""
             }
            },
            "type": "scatter3d"
           }
          ],
          "scattercarpet": [
           {
            "marker": {
             "colorbar": {
              "outlinewidth": 0,
              "ticks": ""
             }
            },
            "type": "scattercarpet"
           }
          ],
          "scattergeo": [
           {
            "marker": {
             "colorbar": {
              "outlinewidth": 0,
              "ticks": ""
             }
            },
            "type": "scattergeo"
           }
          ],
          "scattergl": [
           {
            "marker": {
             "colorbar": {
              "outlinewidth": 0,
              "ticks": ""
             }
            },
            "type": "scattergl"
           }
          ],
          "scattermapbox": [
           {
            "marker": {
             "colorbar": {
              "outlinewidth": 0,
              "ticks": ""
             }
            },
            "type": "scattermapbox"
           }
          ],
          "scatterpolar": [
           {
            "marker": {
             "colorbar": {
              "outlinewidth": 0,
              "ticks": ""
             }
            },
            "type": "scatterpolar"
           }
          ],
          "scatterpolargl": [
           {
            "marker": {
             "colorbar": {
              "outlinewidth": 0,
              "ticks": ""
             }
            },
            "type": "scatterpolargl"
           }
          ],
          "scatterternary": [
           {
            "marker": {
             "colorbar": {
              "outlinewidth": 0,
              "ticks": ""
             }
            },
            "type": "scatterternary"
           }
          ],
          "surface": [
           {
            "colorbar": {
             "outlinewidth": 0,
             "ticks": ""
            },
            "colorscale": [
             [
              0,
              "#0d0887"
             ],
             [
              0.1111111111111111,
              "#46039f"
             ],
             [
              0.2222222222222222,
              "#7201a8"
             ],
             [
              0.3333333333333333,
              "#9c179e"
             ],
             [
              0.4444444444444444,
              "#bd3786"
             ],
             [
              0.5555555555555556,
              "#d8576b"
             ],
             [
              0.6666666666666666,
              "#ed7953"
             ],
             [
              0.7777777777777778,
              "#fb9f3a"
             ],
             [
              0.8888888888888888,
              "#fdca26"
             ],
             [
              1,
              "#f0f921"
             ]
            ],
            "type": "surface"
           }
          ],
          "table": [
           {
            "cells": {
             "fill": {
              "color": "#EBF0F8"
             },
             "line": {
              "color": "white"
             }
            },
            "header": {
             "fill": {
              "color": "#C8D4E3"
             },
             "line": {
              "color": "white"
             }
            },
            "type": "table"
           }
          ]
         },
         "layout": {
          "annotationdefaults": {
           "arrowcolor": "#2a3f5f",
           "arrowhead": 0,
           "arrowwidth": 1
          },
          "autotypenumbers": "strict",
          "coloraxis": {
           "colorbar": {
            "outlinewidth": 0,
            "ticks": ""
           }
          },
          "colorscale": {
           "diverging": [
            [
             0,
             "#8e0152"
            ],
            [
             0.1,
             "#c51b7d"
            ],
            [
             0.2,
             "#de77ae"
            ],
            [
             0.3,
             "#f1b6da"
            ],
            [
             0.4,
             "#fde0ef"
            ],
            [
             0.5,
             "#f7f7f7"
            ],
            [
             0.6,
             "#e6f5d0"
            ],
            [
             0.7,
             "#b8e186"
            ],
            [
             0.8,
             "#7fbc41"
            ],
            [
             0.9,
             "#4d9221"
            ],
            [
             1,
             "#276419"
            ]
           ],
           "sequential": [
            [
             0,
             "#0d0887"
            ],
            [
             0.1111111111111111,
             "#46039f"
            ],
            [
             0.2222222222222222,
             "#7201a8"
            ],
            [
             0.3333333333333333,
             "#9c179e"
            ],
            [
             0.4444444444444444,
             "#bd3786"
            ],
            [
             0.5555555555555556,
             "#d8576b"
            ],
            [
             0.6666666666666666,
             "#ed7953"
            ],
            [
             0.7777777777777778,
             "#fb9f3a"
            ],
            [
             0.8888888888888888,
             "#fdca26"
            ],
            [
             1,
             "#f0f921"
            ]
           ],
           "sequentialminus": [
            [
             0,
             "#0d0887"
            ],
            [
             0.1111111111111111,
             "#46039f"
            ],
            [
             0.2222222222222222,
             "#7201a8"
            ],
            [
             0.3333333333333333,
             "#9c179e"
            ],
            [
             0.4444444444444444,
             "#bd3786"
            ],
            [
             0.5555555555555556,
             "#d8576b"
            ],
            [
             0.6666666666666666,
             "#ed7953"
            ],
            [
             0.7777777777777778,
             "#fb9f3a"
            ],
            [
             0.8888888888888888,
             "#fdca26"
            ],
            [
             1,
             "#f0f921"
            ]
           ]
          },
          "colorway": [
           "#636efa",
           "#EF553B",
           "#00cc96",
           "#ab63fa",
           "#FFA15A",
           "#19d3f3",
           "#FF6692",
           "#B6E880",
           "#FF97FF",
           "#FECB52"
          ],
          "font": {
           "color": "#2a3f5f"
          },
          "geo": {
           "bgcolor": "white",
           "lakecolor": "white",
           "landcolor": "#E5ECF6",
           "showlakes": true,
           "showland": true,
           "subunitcolor": "white"
          },
          "hoverlabel": {
           "align": "left"
          },
          "hovermode": "closest",
          "mapbox": {
           "style": "light"
          },
          "paper_bgcolor": "white",
          "plot_bgcolor": "#E5ECF6",
          "polar": {
           "angularaxis": {
            "gridcolor": "white",
            "linecolor": "white",
            "ticks": ""
           },
           "bgcolor": "#E5ECF6",
           "radialaxis": {
            "gridcolor": "white",
            "linecolor": "white",
            "ticks": ""
           }
          },
          "scene": {
           "xaxis": {
            "backgroundcolor": "#E5ECF6",
            "gridcolor": "white",
            "gridwidth": 2,
            "linecolor": "white",
            "showbackground": true,
            "ticks": "",
            "zerolinecolor": "white"
           },
           "yaxis": {
            "backgroundcolor": "#E5ECF6",
            "gridcolor": "white",
            "gridwidth": 2,
            "linecolor": "white",
            "showbackground": true,
            "ticks": "",
            "zerolinecolor": "white"
           },
           "zaxis": {
            "backgroundcolor": "#E5ECF6",
            "gridcolor": "white",
            "gridwidth": 2,
            "linecolor": "white",
            "showbackground": true,
            "ticks": "",
            "zerolinecolor": "white"
           }
          },
          "shapedefaults": {
           "line": {
            "color": "#2a3f5f"
           }
          },
          "ternary": {
           "aaxis": {
            "gridcolor": "white",
            "linecolor": "white",
            "ticks": ""
           },
           "baxis": {
            "gridcolor": "white",
            "linecolor": "white",
            "ticks": ""
           },
           "bgcolor": "#E5ECF6",
           "caxis": {
            "gridcolor": "white",
            "linecolor": "white",
            "ticks": ""
           }
          },
          "title": {
           "x": 0.05
          },
          "xaxis": {
           "automargin": true,
           "gridcolor": "white",
           "linecolor": "white",
           "ticks": "",
           "title": {
            "standoff": 15
           },
           "zerolinecolor": "white",
           "zerolinewidth": 2
          },
          "yaxis": {
           "automargin": true,
           "gridcolor": "white",
           "linecolor": "white",
           "ticks": "",
           "title": {
            "standoff": 15
           },
           "zerolinecolor": "white",
           "zerolinewidth": 2
          }
         }
        },
        "title": {
         "text": "Document Distribution by Topics"
        },
        "xaxis": {
         "anchor": "y",
         "domain": [
          0,
          1
         ],
         "title": {
          "text": "Topic"
         }
        },
        "yaxis": {
         "anchor": "x",
         "domain": [
          0,
          1
         ],
         "title": {
          "text": "Documents"
         }
        }
       }
      },
      "text/html": [
       "<div>                            <div id=\"1ee1b529-06c5-4190-bc0e-e5cd34775925\" class=\"plotly-graph-div\" style=\"height:525px; width:100%;\"></div>            <script type=\"text/javascript\">                require([\"plotly\"], function(Plotly) {                    window.PLOTLYENV=window.PLOTLYENV || {};                                    if (document.getElementById(\"1ee1b529-06c5-4190-bc0e-e5cd34775925\")) {                    Plotly.newPlot(                        \"1ee1b529-06c5-4190-bc0e-e5cd34775925\",                        [{\"alignmentgroup\": \"True\", \"customdata\": [[\"N, A\"], [\"N, A\"], [\"N, A\"], [\"N, A\"], [\"N, A\"], [\"N, A\"], [\"N, A\"], [\"N, A\"], [\"N, A\"], [\"N, A\"], [\"N, A\"], [\"N, A\"]], \"hovertemplate\": \"Topic=%{x}<br>Documents=%{y}<br>Keyword=%{customdata[0]}<extra></extra>\", \"legendgroup\": \"\", \"marker\": {\"color\": \"#636efa\"}, \"name\": \"\", \"offsetgroup\": \"\", \"orientation\": \"v\", \"showlegend\": false, \"textposition\": \"auto\", \"type\": \"bar\", \"x\": [\"Topic 0\", \"Topic 1\", \"Topic 2\", \"Topic 3\", \"Topic 4\", \"Topic 5\", \"Topic 6\", \"Topic 7\", \"Topic 8\", \"Topic 9\", \"Topic 10\", \"Topic 11\"], \"xaxis\": \"x\", \"y\": [267, 140, 156, 207, 94, 29, 6, 22, 3, 2, 25, 18], \"yaxis\": \"y\"}],                        {\"barmode\": \"relative\", \"legend\": {\"tracegroupgap\": 0}, \"template\": {\"data\": {\"bar\": [{\"error_x\": {\"color\": \"#2a3f5f\"}, \"error_y\": {\"color\": \"#2a3f5f\"}, \"marker\": {\"line\": {\"color\": \"#E5ECF6\", \"width\": 0.5}}, \"type\": \"bar\"}], \"barpolar\": [{\"marker\": {\"line\": {\"color\": \"#E5ECF6\", \"width\": 0.5}}, \"type\": \"barpolar\"}], \"carpet\": [{\"aaxis\": {\"endlinecolor\": \"#2a3f5f\", \"gridcolor\": \"white\", \"linecolor\": \"white\", \"minorgridcolor\": \"white\", \"startlinecolor\": \"#2a3f5f\"}, \"baxis\": {\"endlinecolor\": \"#2a3f5f\", \"gridcolor\": \"white\", \"linecolor\": \"white\", \"minorgridcolor\": \"white\", \"startlinecolor\": \"#2a3f5f\"}, \"type\": \"carpet\"}], \"choropleth\": [{\"colorbar\": {\"outlinewidth\": 0, \"ticks\": \"\"}, \"type\": \"choropleth\"}], \"contour\": [{\"colorbar\": {\"outlinewidth\": 0, \"ticks\": \"\"}, \"colorscale\": [[0.0, \"#0d0887\"], [0.1111111111111111, \"#46039f\"], [0.2222222222222222, \"#7201a8\"], [0.3333333333333333, \"#9c179e\"], [0.4444444444444444, \"#bd3786\"], [0.5555555555555556, \"#d8576b\"], [0.6666666666666666, \"#ed7953\"], [0.7777777777777778, \"#fb9f3a\"], [0.8888888888888888, \"#fdca26\"], [1.0, \"#f0f921\"]], \"type\": \"contour\"}], \"contourcarpet\": [{\"colorbar\": {\"outlinewidth\": 0, \"ticks\": \"\"}, \"type\": \"contourcarpet\"}], \"heatmap\": [{\"colorbar\": {\"outlinewidth\": 0, \"ticks\": \"\"}, \"colorscale\": [[0.0, \"#0d0887\"], [0.1111111111111111, \"#46039f\"], [0.2222222222222222, \"#7201a8\"], [0.3333333333333333, \"#9c179e\"], [0.4444444444444444, \"#bd3786\"], [0.5555555555555556, \"#d8576b\"], [0.6666666666666666, \"#ed7953\"], [0.7777777777777778, \"#fb9f3a\"], [0.8888888888888888, \"#fdca26\"], [1.0, \"#f0f921\"]], \"type\": \"heatmap\"}], \"heatmapgl\": [{\"colorbar\": {\"outlinewidth\": 0, \"ticks\": \"\"}, \"colorscale\": [[0.0, \"#0d0887\"], [0.1111111111111111, \"#46039f\"], [0.2222222222222222, \"#7201a8\"], [0.3333333333333333, \"#9c179e\"], [0.4444444444444444, \"#bd3786\"], [0.5555555555555556, \"#d8576b\"], [0.6666666666666666, \"#ed7953\"], [0.7777777777777778, \"#fb9f3a\"], [0.8888888888888888, \"#fdca26\"], [1.0, \"#f0f921\"]], \"type\": \"heatmapgl\"}], \"histogram\": [{\"marker\": {\"colorbar\": {\"outlinewidth\": 0, \"ticks\": \"\"}}, \"type\": \"histogram\"}], \"histogram2d\": [{\"colorbar\": {\"outlinewidth\": 0, \"ticks\": \"\"}, \"colorscale\": [[0.0, \"#0d0887\"], [0.1111111111111111, \"#46039f\"], [0.2222222222222222, \"#7201a8\"], [0.3333333333333333, \"#9c179e\"], [0.4444444444444444, \"#bd3786\"], [0.5555555555555556, \"#d8576b\"], [0.6666666666666666, \"#ed7953\"], [0.7777777777777778, \"#fb9f3a\"], [0.8888888888888888, \"#fdca26\"], [1.0, \"#f0f921\"]], \"type\": \"histogram2d\"}], \"histogram2dcontour\": [{\"colorbar\": {\"outlinewidth\": 0, \"ticks\": \"\"}, \"colorscale\": [[0.0, \"#0d0887\"], [0.1111111111111111, \"#46039f\"], [0.2222222222222222, \"#7201a8\"], [0.3333333333333333, \"#9c179e\"], [0.4444444444444444, \"#bd3786\"], [0.5555555555555556, \"#d8576b\"], [0.6666666666666666, \"#ed7953\"], [0.7777777777777778, \"#fb9f3a\"], [0.8888888888888888, \"#fdca26\"], [1.0, \"#f0f921\"]], \"type\": \"histogram2dcontour\"}], \"mesh3d\": [{\"colorbar\": {\"outlinewidth\": 0, \"ticks\": \"\"}, \"type\": \"mesh3d\"}], \"parcoords\": [{\"line\": {\"colorbar\": {\"outlinewidth\": 0, \"ticks\": \"\"}}, \"type\": \"parcoords\"}], \"pie\": [{\"automargin\": true, \"type\": \"pie\"}], \"scatter\": [{\"marker\": {\"colorbar\": {\"outlinewidth\": 0, \"ticks\": \"\"}}, \"type\": \"scatter\"}], \"scatter3d\": [{\"line\": {\"colorbar\": {\"outlinewidth\": 0, \"ticks\": \"\"}}, \"marker\": {\"colorbar\": {\"outlinewidth\": 0, \"ticks\": \"\"}}, \"type\": \"scatter3d\"}], \"scattercarpet\": [{\"marker\": {\"colorbar\": {\"outlinewidth\": 0, \"ticks\": \"\"}}, \"type\": \"scattercarpet\"}], \"scattergeo\": [{\"marker\": {\"colorbar\": {\"outlinewidth\": 0, \"ticks\": \"\"}}, \"type\": \"scattergeo\"}], \"scattergl\": [{\"marker\": {\"colorbar\": {\"outlinewidth\": 0, \"ticks\": \"\"}}, \"type\": \"scattergl\"}], \"scattermapbox\": [{\"marker\": {\"colorbar\": {\"outlinewidth\": 0, \"ticks\": \"\"}}, \"type\": \"scattermapbox\"}], \"scatterpolar\": [{\"marker\": {\"colorbar\": {\"outlinewidth\": 0, \"ticks\": \"\"}}, \"type\": \"scatterpolar\"}], \"scatterpolargl\": [{\"marker\": {\"colorbar\": {\"outlinewidth\": 0, \"ticks\": \"\"}}, \"type\": \"scatterpolargl\"}], \"scatterternary\": [{\"marker\": {\"colorbar\": {\"outlinewidth\": 0, \"ticks\": \"\"}}, \"type\": \"scatterternary\"}], \"surface\": [{\"colorbar\": {\"outlinewidth\": 0, \"ticks\": \"\"}, \"colorscale\": [[0.0, \"#0d0887\"], [0.1111111111111111, \"#46039f\"], [0.2222222222222222, \"#7201a8\"], [0.3333333333333333, \"#9c179e\"], [0.4444444444444444, \"#bd3786\"], [0.5555555555555556, \"#d8576b\"], [0.6666666666666666, \"#ed7953\"], [0.7777777777777778, \"#fb9f3a\"], [0.8888888888888888, \"#fdca26\"], [1.0, \"#f0f921\"]], \"type\": \"surface\"}], \"table\": [{\"cells\": {\"fill\": {\"color\": \"#EBF0F8\"}, \"line\": {\"color\": \"white\"}}, \"header\": {\"fill\": {\"color\": \"#C8D4E3\"}, \"line\": {\"color\": \"white\"}}, \"type\": \"table\"}]}, \"layout\": {\"annotationdefaults\": {\"arrowcolor\": \"#2a3f5f\", \"arrowhead\": 0, \"arrowwidth\": 1}, \"autotypenumbers\": \"strict\", \"coloraxis\": {\"colorbar\": {\"outlinewidth\": 0, \"ticks\": \"\"}}, \"colorscale\": {\"diverging\": [[0, \"#8e0152\"], [0.1, \"#c51b7d\"], [0.2, \"#de77ae\"], [0.3, \"#f1b6da\"], [0.4, \"#fde0ef\"], [0.5, \"#f7f7f7\"], [0.6, \"#e6f5d0\"], [0.7, \"#b8e186\"], [0.8, \"#7fbc41\"], [0.9, \"#4d9221\"], [1, \"#276419\"]], \"sequential\": [[0.0, \"#0d0887\"], [0.1111111111111111, \"#46039f\"], [0.2222222222222222, \"#7201a8\"], [0.3333333333333333, \"#9c179e\"], [0.4444444444444444, \"#bd3786\"], [0.5555555555555556, \"#d8576b\"], [0.6666666666666666, \"#ed7953\"], [0.7777777777777778, \"#fb9f3a\"], [0.8888888888888888, \"#fdca26\"], [1.0, \"#f0f921\"]], \"sequentialminus\": [[0.0, \"#0d0887\"], [0.1111111111111111, \"#46039f\"], [0.2222222222222222, \"#7201a8\"], [0.3333333333333333, \"#9c179e\"], [0.4444444444444444, \"#bd3786\"], [0.5555555555555556, \"#d8576b\"], [0.6666666666666666, \"#ed7953\"], [0.7777777777777778, \"#fb9f3a\"], [0.8888888888888888, \"#fdca26\"], [1.0, \"#f0f921\"]]}, \"colorway\": [\"#636efa\", \"#EF553B\", \"#00cc96\", \"#ab63fa\", \"#FFA15A\", \"#19d3f3\", \"#FF6692\", \"#B6E880\", \"#FF97FF\", \"#FECB52\"], \"font\": {\"color\": \"#2a3f5f\"}, \"geo\": {\"bgcolor\": \"white\", \"lakecolor\": \"white\", \"landcolor\": \"#E5ECF6\", \"showlakes\": true, \"showland\": true, \"subunitcolor\": \"white\"}, \"hoverlabel\": {\"align\": \"left\"}, \"hovermode\": \"closest\", \"mapbox\": {\"style\": \"light\"}, \"paper_bgcolor\": \"white\", \"plot_bgcolor\": \"#E5ECF6\", \"polar\": {\"angularaxis\": {\"gridcolor\": \"white\", \"linecolor\": \"white\", \"ticks\": \"\"}, \"bgcolor\": \"#E5ECF6\", \"radialaxis\": {\"gridcolor\": \"white\", \"linecolor\": \"white\", \"ticks\": \"\"}}, \"scene\": {\"xaxis\": {\"backgroundcolor\": \"#E5ECF6\", \"gridcolor\": \"white\", \"gridwidth\": 2, \"linecolor\": \"white\", \"showbackground\": true, \"ticks\": \"\", \"zerolinecolor\": \"white\"}, \"yaxis\": {\"backgroundcolor\": \"#E5ECF6\", \"gridcolor\": \"white\", \"gridwidth\": 2, \"linecolor\": \"white\", \"showbackground\": true, \"ticks\": \"\", \"zerolinecolor\": \"white\"}, \"zaxis\": {\"backgroundcolor\": \"#E5ECF6\", \"gridcolor\": \"white\", \"gridwidth\": 2, \"linecolor\": \"white\", \"showbackground\": true, \"ticks\": \"\", \"zerolinecolor\": \"white\"}}, \"shapedefaults\": {\"line\": {\"color\": \"#2a3f5f\"}}, \"ternary\": {\"aaxis\": {\"gridcolor\": \"white\", \"linecolor\": \"white\", \"ticks\": \"\"}, \"baxis\": {\"gridcolor\": \"white\", \"linecolor\": \"white\", \"ticks\": \"\"}, \"bgcolor\": \"#E5ECF6\", \"caxis\": {\"gridcolor\": \"white\", \"linecolor\": \"white\", \"ticks\": \"\"}}, \"title\": {\"x\": 0.05}, \"xaxis\": {\"automargin\": true, \"gridcolor\": \"white\", \"linecolor\": \"white\", \"ticks\": \"\", \"title\": {\"standoff\": 15}, \"zerolinecolor\": \"white\", \"zerolinewidth\": 2}, \"yaxis\": {\"automargin\": true, \"gridcolor\": \"white\", \"linecolor\": \"white\", \"ticks\": \"\", \"title\": {\"standoff\": 15}, \"zerolinecolor\": \"white\", \"zerolinewidth\": 2}}}, \"title\": {\"text\": \"Document Distribution by Topics\"}, \"xaxis\": {\"anchor\": \"y\", \"domain\": [0.0, 1.0], \"title\": {\"text\": \"Topic\"}}, \"yaxis\": {\"anchor\": \"x\", \"domain\": [0.0, 1.0], \"title\": {\"text\": \"Documents\"}}},                        {\"responsive\": true}                    ).then(function(){\n",
       "                            \n",
       "var gd = document.getElementById('1ee1b529-06c5-4190-bc0e-e5cd34775925');\n",
       "var x = new MutationObserver(function (mutations, observer) {{\n",
       "        var display = window.getComputedStyle(gd).display;\n",
       "        if (!display || display === 'none') {{\n",
       "            console.log([gd, 'removed!']);\n",
       "            Plotly.purge(gd);\n",
       "            observer.disconnect();\n",
       "        }}\n",
       "}});\n",
       "\n",
       "// Listen for the removal of the full notebook cells\n",
       "var notebookContainer = gd.closest('#notebook-container');\n",
       "if (notebookContainer) {{\n",
       "    x.observe(notebookContainer, {childList: true});\n",
       "}}\n",
       "\n",
       "// Listen for the clearing of the current output cell\n",
       "var outputEl = gd.closest('.output');\n",
       "if (outputEl) {{\n",
       "    x.observe(outputEl, {childList: true});\n",
       "}}\n",
       "\n",
       "                        })                };                });            </script>        </div>"
      ]
     },
     "metadata": {},
     "output_type": "display_data"
    }
   ],
   "source": [
    "plot_model(nmf, plot = 'topic_distribution')\n",
    "#plot_model(tuned_unsupervised, plot = 'wordcloud', topic_num = topic_num)\n",
    "#plot_model(tuned_unsupervised, plot = 'frequency', topic_num = topic_num)\n",
    "#plot_model(tuned_unsupervised, plot = 'distribution', topic_num = topic_num)\n",
    "#plot_model(tuned_unsupervised, plot = 'sentiment', topic_num = topic_num)\n",
    "#plot_model(tuned_unsupervised, plot = 'pos', topic_num = topic_num)\n",
    "#plot_model(tuned_unsupervised, plot = 'bigram', topic_num = topic_num)\n",
    "#plot_model(tuned_unsupervised, plot = 'trigram', topic_num = topic_num)"
   ]
  },
  {
   "cell_type": "code",
   "execution_count": 12,
   "id": "black-composer",
   "metadata": {},
   "outputs": [
    {
     "data": {
      "application/vnd.jupyter.widget-view+json": {
       "model_id": "97f1f84063ca4c00b955c363c966e5c6",
       "version_major": 2,
       "version_minor": 0
      },
      "text/plain": [
       "interactive(children=(ToggleButtons(description='Plot Type:', icons=('',), options=(('Frequency Plot', 'freque…"
      ]
     },
     "metadata": {},
     "output_type": "display_data"
    }
   ],
   "source": [
    "evaluate_model(nmf)"
   ]
  },
  {
   "cell_type": "code",
   "execution_count": 13,
   "id": "virtual-differential",
   "metadata": {},
   "outputs": [
    {
     "data": {
      "text/html": [
       "        <script type=\"text/javascript\">\n",
       "        window.PlotlyConfig = {MathJaxConfig: 'local'};\n",
       "        if (window.MathJax) {MathJax.Hub.Config({SVG: {font: \"STIX-Web\"}});}\n",
       "        if (typeof require !== 'undefined') {\n",
       "        require.undef(\"plotly\");\n",
       "        requirejs.config({\n",
       "            paths: {\n",
       "                'plotly': ['https://cdn.plot.ly/plotly-latest.min']\n",
       "            }\n",
       "        });\n",
       "        require(['plotly'], function(Plotly) {\n",
       "            window._Plotly = Plotly;\n",
       "        });\n",
       "        }\n",
       "        </script>\n",
       "        "
      ]
     },
     "metadata": {},
     "output_type": "display_data"
    },
    {
     "data": {
      "application/vnd.plotly.v1+json": {
       "config": {
        "plotlyServerURL": "https://plot.ly"
       },
       "data": [
        {
         "hovertemplate": "Dominant_Topic=Topic 0<br>0=%{x}<br>1=%{y}<br>2=%{z}<extra></extra>",
         "legendgroup": "Topic 0",
         "marker": {
          "color": "#636efa",
          "opacity": 0.7,
          "symbol": "circle"
         },
         "mode": "markers",
         "name": "Topic 0",
         "scene": "scene",
         "showlegend": true,
         "type": "scatter3d",
         "x": [
          6.629674434661865,
          4.09143590927124,
          5.107908248901367,
          -5.979319095611572,
          -0.6585417985916138,
          -4.293842792510986,
          -0.43758532404899597,
          -1.3736642599105835,
          -0.3568360209465027,
          -3.940969467163086,
          -2.5488009452819824,
          -7.483358860015869,
          -3.3502447605133057,
          -2.9265425205230713,
          -0.39684975147247314,
          3.5851197242736816,
          -0.8302745819091797,
          -1.1015764474868774,
          -2.0942537784576416,
          -0.2476138472557068,
          -4.919934272766113,
          0.4516947269439697,
          -1.01763916015625,
          -2.364927291870117,
          -1.2520835399627686,
          -4.367860794067383,
          0.6450687646865845,
          -0.44043073058128357,
          -1.1407994031906128,
          -1.071475625038147,
          -4.522968292236328,
          -2.4733164310455322,
          -7.029392242431641,
          -4.699148178100586,
          -0.9766324758529663,
          -4.371485710144043,
          -3.990844249725342,
          -0.15756520628929138,
          -0.32772156596183777,
          3.7636961936950684,
          4.20640754699707,
          -2.5587081909179688,
          6.821467399597168,
          2.2348599433898926,
          6.182580471038818,
          -2.455188751220703,
          0.11690004169940948,
          2.1752161979675293,
          -3.1384525299072266,
          -2.7631936073303223,
          3.6301398277282715,
          -1.586190938949585,
          -1.216558575630188,
          -0.8845856785774231,
          -2.1714112758636475,
          -5.771217346191406,
          7.067556858062744,
          6.052803993225098,
          4.022393226623535,
          -3.232228994369507,
          3.1817784309387207,
          0.983471691608429,
          -2.4364101886749268,
          -4.273472309112549,
          -0.5553799271583557,
          -0.3595734238624573,
          -4.224951267242432,
          -2.7091267108917236,
          -3.4765775203704834,
          -0.8466756343841553,
          -4.450107097625732,
          -1.4346665143966675,
          6.095708847045898,
          -4.656064510345459,
          0.03577045723795891,
          -0.30782079696655273,
          -1.945568561553955,
          -4.265100002288818,
          -4.846238136291504,
          -1.9674787521362305,
          -6.455705165863037,
          0.3570013642311096,
          -0.9131839275360107,
          -1.395734190940857,
          -3.6434578895568848,
          -6.995811462402344,
          -2.1314916610717773,
          -4.81707239151001,
          -2.805229663848877,
          1.0430305004119873,
          -1.121103048324585,
          5.702886581420898,
          -4.177457809448242,
          -1.091643214225769,
          -0.9407967925071716,
          -3.404986619949341,
          -2.854408025741577,
          -4.2072529792785645,
          5.902763366699219,
          -5.739194393157959,
          -3.9423341751098633,
          -0.8663975596427917,
          -3.5990922451019287,
          1.8905150890350342,
          -5.26699686050415,
          -6.204514980316162,
          6.704563140869141,
          0.10571357607841492,
          5.973067283630371,
          3.3136086463928223,
          -3.1455836296081543,
          -0.40483465790748596,
          -3.5732500553131104,
          -0.8952509760856628,
          -3.6326792240142822,
          -2.3191943168640137,
          3.7877273559570312,
          -2.524196147918701,
          -0.34578102827072144,
          -0.8925806283950806,
          -1.3116779327392578,
          -1.6777390241622925,
          1.87730073928833,
          2.7180824279785156,
          0.22437961399555206,
          -3.9322762489318848,
          -3.8081352710723877,
          2.690831422805786,
          -3.154680013656616,
          -2.476365327835083,
          -1.4578509330749512,
          5.464362144470215,
          1.7610448598861694,
          -2.971007823944092,
          -4.361743927001953,
          2.446910858154297,
          3.5804781913757324,
          -0.22111237049102783,
          -1.8364285230636597,
          -4.673853874206543,
          -0.3663947880268097,
          -1.6777219772338867,
          -0.43811744451522827,
          3.625884532928467,
          -0.36719104647636414,
          -3.75887131690979,
          2.716374635696411,
          3.9703969955444336,
          3.1854007244110107,
          -5.314083099365234,
          -2.9212393760681152,
          4.032177925109863,
          3.7254092693328857,
          -6.063408374786377,
          -2.253927707672119,
          -0.4257529675960541,
          -4.269094467163086,
          -4.780553817749023,
          0.14169646799564362,
          -1.4977960586547852,
          1.7565288543701172,
          -7.273390769958496,
          -1.3602396249771118,
          -0.7198601365089417,
          3.2029621601104736,
          -0.7094630002975464,
          -0.15430714190006256,
          -2.1307029724121094,
          -4.026453971862793,
          -2.9112281799316406,
          -1.239554524421692,
          -2.5675344467163086,
          3.2612388134002686,
          0.11042335629463196,
          -2.9121689796447754,
          -3.6880106925964355,
          -3.338491201400757,
          -3.5489628314971924,
          -3.922170639038086,
          -4.893542766571045,
          5.709624290466309,
          -0.8466762900352478,
          7.252165794372559,
          3.350780725479126,
          -5.270268440246582,
          -2.4827208518981934,
          -4.497843265533447,
          -2.2134480476379395,
          2.580190896987915,
          -1.258162021636963,
          -3.922166585922241,
          -2.679309606552124,
          -3.8126490116119385,
          -1.3448466062545776,
          4.133780002593994,
          3.137239933013916,
          -6.922270774841309,
          0.47980567812919617,
          -0.7962392568588257,
          -0.3922281563282013,
          -4.497942924499512,
          3.6729540824890137,
          2.868863821029663,
          -4.357916831970215,
          -2.2670483589172363,
          -3.445460557937622,
          6.797408580780029,
          -1.2374696731567383,
          3.07120943069458,
          2.3411362171173096,
          -4.443851947784424,
          3.5736634731292725,
          -4.987227916717529,
          -1.0084415674209595,
          -0.5213416814804077,
          -4.401788234710693,
          -1.7148501873016357,
          -1.9051313400268555,
          4.05953311920166,
          6.58287239074707,
          -1.2687543630599976,
          2.688580274581909,
          -4.621469974517822,
          -3.051316499710083,
          1.7202554941177368,
          -0.7617721557617188,
          -0.1518789678812027,
          -2.950343370437622,
          -5.05866003036499,
          6.570911407470703,
          -0.9319519400596619,
          -2.473604440689087,
          -1.1276328563690186,
          3.29805588722229,
          -0.5713657736778259,
          6.064377784729004,
          6.574602127075195,
          -0.8856931924819946,
          -0.43565696477890015,
          6.067447185516357,
          -5.2335734367370605,
          -1.0618844032287598,
          -3.6483476161956787,
          -4.315370082855225,
          -0.3802177309989929,
          -0.6580348610877991,
          -5.292144298553467,
          2.653956413269043,
          -1.4369075298309326,
          -1.1789705753326416,
          -6.4172444343566895,
          -4.509029865264893,
          -6.780941009521484,
          2.5875368118286133,
          -4.116393566131592,
          2.5888144969940186,
          -1.4160559177398682,
          -5.629355430603027,
          -0.39011287689208984,
          2.699388027191162,
          -0.9390116333961487,
          -1.9087847471237183,
          -2.0213117599487305,
          3.7803354263305664,
          -0.2266736477613449,
          -0.14790649712085724,
          -3.3787636756896973
         ],
         "y": [
          3.1489264965057373,
          5.548806190490723,
          4.163859844207764,
          7.451414585113525,
          3.167360305786133,
          13.911665916442871,
          4.562486171722412,
          4.326101779937744,
          4.611930847167969,
          2.7045445442199707,
          4.287031650543213,
          9.014662742614746,
          13.210906982421875,
          4.316957473754883,
          11.182233810424805,
          5.42410945892334,
          9.645352363586426,
          10.852980613708496,
          12.78393268585205,
          4.160804748535156,
          2.0603699684143066,
          6.982394218444824,
          9.555400848388672,
          8.801020622253418,
          10.10598373413086,
          13.87751293182373,
          5.003724098205566,
          7.507608890533447,
          7.977210521697998,
          11.159581184387207,
          7.642167091369629,
          2.4254190921783447,
          9.357254981994629,
          7.954765796661377,
          6.129962921142578,
          4.2947678565979,
          9.006814002990723,
          3.1644136905670166,
          3.737351179122925,
          7.329033851623535,
          6.318210601806641,
          6.028437614440918,
          2.910675287246704,
          6.998068809509277,
          3.9128482341766357,
          12.964858055114746,
          2.5868029594421387,
          6.4016032218933105,
          8.246110916137695,
          7.224930286407471,
          5.583127021789551,
          6.253288269042969,
          3.8420181274414062,
          7.022123336791992,
          5.27388858795166,
          11.143608093261719,
          2.7286224365234375,
          3.185070753097534,
          2.702786445617676,
          13.41025161743164,
          7.734429359436035,
          4.75846004486084,
          9.255999565124512,
          10.447806358337402,
          8.603853225708008,
          8.090721130371094,
          12.708066940307617,
          13.513758659362793,
          3.6138148307800293,
          7.03059196472168,
          12.710375785827637,
          3.811957597732544,
          4.4964447021484375,
          12.271906852722168,
          11.138809204101562,
          8.212453842163086,
          12.547293663024902,
          10.9380521774292,
          2.0407612323760986,
          12.571718215942383,
          10.339634895324707,
          3.390989303588867,
          6.140205383300781,
          11.065961837768555,
          2.581954002380371,
          9.489886283874512,
          5.22824764251709,
          6.3380537033081055,
          2.5434818267822266,
          4.957775592803955,
          5.433405876159668,
          4.29865026473999,
          7.7133989334106445,
          8.041637420654297,
          10.526243209838867,
          3.908893346786499,
          5.959120750427246,
          14.330814361572266,
          4.062911510467529,
          10.39936351776123,
          3.5006251335144043,
          8.472929954528809,
          7.610188961029053,
          6.57806921005249,
          11.236227989196777,
          8.733949661254883,
          4.6320319175720215,
          6.208071708679199,
          4.066728115081787,
          8.073263168334961,
          7.541948318481445,
          7.875981330871582,
          13.615161895751953,
          9.475275993347168,
          9.224287986755371,
          10.71509838104248,
          2.9325644969940186,
          13.356460571289062,
          7.331988334655762,
          7.251700401306152,
          11.075355529785156,
          12.086742401123047,
          5.216306686401367,
          6.260917663574219,
          5.0810346603393555,
          4.808294773101807,
          12.488372802734375,
          6.0905890464782715,
          7.291759014129639,
          13.363210678100586,
          11.745285987854004,
          4.692410945892334,
          5.225317478179932,
          8.106837272644043,
          13.918349266052246,
          8.931604385375977,
          3.163912057876587,
          7.313472270965576,
          12.348645210266113,
          2.490884304046631,
          4.250816822052002,
          6.516167640686035,
          4.565793037414551,
          2.9889204502105713,
          5.17559289932251,
          3.939532995223999,
          6.2613630294799805,
          6.787756443023682,
          7.963188171386719,
          10.866311073303223,
          4.800060749053955,
          5.095545768737793,
          6.879032135009766,
          10.700043678283691,
          12.805761337280273,
          4.530758857727051,
          13.90827751159668,
          13.797856330871582,
          3.3763983249664307,
          9.743133544921875,
          6.344860076904297,
          9.355177879333496,
          8.844954490661621,
          6.08392858505249,
          6.7114176750183105,
          7.425235748291016,
          7.461771011352539,
          6.827908039093018,
          6.154869079589844,
          7.7501983642578125,
          9.246769905090332,
          5.812279224395752,
          7.321099281311035,
          3.882211685180664,
          8.986238479614258,
          9.605193138122559,
          4.978668212890625,
          10.244552612304688,
          8.713884353637695,
          8.564157485961914,
          4.502089977264404,
          7.786886215209961,
          -2.196129083633423,
          6.940532207489014,
          11.24040699005127,
          13.361435890197754,
          2.517868757247925,
          9.451414108276367,
          5.927167892456055,
          10.180641174316406,
          8.713933944702148,
          4.152523994445801,
          3.6615333557128906,
          11.993409156799316,
          4.7939324378967285,
          8.933357238769531,
          9.41083812713623,
          3.050541639328003,
          6.618295192718506,
          7.805962085723877,
          13.91223430633545,
          6.928842067718506,
          6.761955261230469,
          12.179422378540039,
          12.841521263122559,
          10.109668731689453,
          3.9067418575286865,
          11.263054847717285,
          6.795965194702148,
          6.271495342254639,
          2.5110023021698,
          6.964644908905029,
          11.345101356506348,
          11.047292709350586,
          12.830556869506836,
          6.56205940246582,
          12.109430313110352,
          7.216328144073486,
          4.924127101898193,
          3.4366250038146973,
          11.369810104370117,
          6.126072883605957,
          13.892576217651367,
          12.474793434143066,
          6.893354892730713,
          8.406699180603027,
          4.7737956047058105,
          13.266398429870605,
          13.802764892578125,
          3.5300872325897217,
          10.014610290527344,
          5.558586120605469,
          7.126256942749023,
          5.491482257843018,
          9.753764152526855,
          3.959529399871826,
          3.5485024452209473,
          6.764311790466309,
          6.926274299621582,
          3.9256529808044434,
          11.36274528503418,
          7.0947265625,
          10.10690689086914,
          8.482518196105957,
          6.98665714263916,
          7.603044509887695,
          13.013262748718262,
          7.10381555557251,
          12.387348175048828,
          9.716991424560547,
          9.02188491821289,
          2.999755859375,
          9.443009376525879,
          3.765728712081909,
          2.6781466007232666,
          8.822160720825195,
          11.639649391174316,
          9.573336601257324,
          4.456997871398926,
          6.851548194885254,
          7.3439764976501465,
          12.507768630981445,
          12.559879302978516,
          6.953075408935547,
          13.162583351135254,
          3.787867784500122,
          5.898280620574951
         ],
         "z": [
          -1.5681953430175781,
          -2.634474754333496,
          -0.6483616828918457,
          -2.7550957202911377,
          0.19036704301834106,
          -4.951922416687012,
          -4.001115322113037,
          -0.9470653533935547,
          0.45085105299949646,
          -0.5518620014190674,
          -0.3546968698501587,
          -3.707991600036621,
          -4.13178014755249,
          -1.1902544498443604,
          -3.920757293701172,
          -3.702413558959961,
          -3.1773593425750732,
          -3.2737233638763428,
          -4.309940814971924,
          -0.32605043053627014,
          -0.23782974481582642,
          -2.60577654838562,
          -2.5650460720062256,
          -3.877264976501465,
          -1.8235971927642822,
          -4.9240946769714355,
          -0.2819919288158417,
          0.3203003406524658,
          -3.904520034790039,
          -3.195551872253418,
          -2.974421501159668,
          -1.1129176616668701,
          -3.7245867252349854,
          -3.396045446395874,
          -2.5509748458862305,
          -1.035862684249878,
          -0.9964298605918884,
          -0.4915006458759308,
          -0.22984911501407623,
          -2.3315610885620117,
          -3.0623281002044678,
          -1.17410147190094,
          -1.792769432067871,
          -3.080382823944092,
          -1.5367664098739624,
          -4.005733489990234,
          3.021214723587036,
          1.1117359399795532,
          -3.028480052947998,
          -2.7263076305389404,
          -2.6149446964263916,
          -2.352853775024414,
          -0.6099627614021301,
          -2.4909017086029053,
          1.175897240638733,
          -3.7444210052490234,
          -1.8360384702682495,
          -0.5002346038818359,
          1.9891884326934814,
          -4.25849723815918,
          -3.374335289001465,
          3.024320125579834,
          -1.532341718673706,
          -3.1448285579681396,
          1.1418023109436035,
          -1.4469654560089111,
          -2.743892192840576,
          -4.890771865844727,
          -0.9483757019042969,
          -2.4329254627227783,
          -2.4172842502593994,
          -0.6596287488937378,
          -0.2914487421512604,
          -2.779571294784546,
          -2.751558303833008,
          1.611196756362915,
          -3.451390266418457,
          -3.249441146850586,
          -0.3503172695636749,
          -3.4636354446411133,
          -3.8027455806732178,
          2.0433671474456787,
          -2.2665576934814453,
          -1.8904937505722046,
          -0.18246857821941376,
          -3.7454476356506348,
          1.237161636352539,
          -2.160874843597412,
          -1.012623906135559,
          -1.7142740488052368,
          -1.5865185260772705,
          -2.685616970062256,
          -2.8798844814300537,
          -0.5580728054046631,
          -3.160219669342041,
          -1.0463097095489502,
          -1.8166135549545288,
          -3.677389144897461,
          -2.5942435264587402,
          -3.5634608268737793,
          -1.2345753908157349,
          -2.601743459701538,
          -3.1980879306793213,
          0.6808579564094543,
          -3.3593063354492188,
          -3.37359881401062,
          -1.9564626216888428,
          0.4606580138206482,
          -1.6963191032409668,
          -3.6085665225982666,
          -2.8121604919433594,
          1.4788295030593872,
          -4.513421535491943,
          0.4913633167743683,
          -2.9600870609283447,
          -3.1004858016967773,
          1.835737943649292,
          -4.934369087219238,
          0.6733015179634094,
          -2.8540775775909424,
          -4.915256500244141,
          -3.3307626247406006,
          -1.188165307044983,
          -3.339887857437134,
          -1.8544111251831055,
          -0.7232708930969238,
          -3.7633461952209473,
          -3.263348340988159,
          -2.6984469890594482,
          -5.01713228225708,
          -3.609198570251465,
          -0.9189777374267578,
          -1.1192817687988281,
          -3.2398033142089844,
          -4.988275527954102,
          -4.705192565917969,
          1.8794533014297485,
          1.0905648469924927,
          -3.876317262649536,
          -0.5323968529701233,
          -0.36761248111724854,
          -1.6326360702514648,
          -4.003708362579346,
          1.8540133237838745,
          -2.0370445251464844,
          0.21827301383018494,
          -3.3404126167297363,
          -1.773299217224121,
          -3.495758056640625,
          -2.1066415309906006,
          -1.7339638471603394,
          -0.7615064382553101,
          -3.8505609035491943,
          -3.7599740028381348,
          -3.655588150024414,
          -3.907172679901123,
          -4.938351631164551,
          -5.128457546234131,
          2.0256524085998535,
          -2.004561424255371,
          2.118314504623413,
          -3.7846343517303467,
          -2.840930223464966,
          -3.3879098892211914,
          -3.276293992996216,
          -0.07553128153085709,
          1.1673964262008667,
          -2.4725940227508545,
          -2.019491195678711,
          -0.7658296823501587,
          -3.5635554790496826,
          -0.40669819712638855,
          -3.4574339389801025,
          1.319136381149292,
          -3.6732466220855713,
          -3.05413556098938,
          -1.4162037372589111,
          -3.034250259399414,
          -0.2936420440673828,
          -3.2367053031921387,
          -0.958357036113739,
          -0.1648700088262558,
          -6.080522060394287,
          -2.7727863788604736,
          -3.3597164154052734,
          -3.718149185180664,
          -0.4246068298816681,
          -2.1218509674072266,
          -3.2362992763519287,
          -2.78926420211792,
          -0.2936188578605652,
          -1.201267123222351,
          -1.1976722478866577,
          -3.3175950050354004,
          -0.5440398454666138,
          -3.6806979179382324,
          -3.7103383541107178,
          2.122072458267212,
          -1.3912333250045776,
          1.5381138324737549,
          -5.056807518005371,
          -3.445690393447876,
          -3.086155652999878,
          -3.7003777027130127,
          -3.6642813682556152,
          -2.994091749191284,
          -0.96858811378479,
          -3.2752273082733154,
          -3.005995750427246,
          1.305396318435669,
          -0.2244822084903717,
          -2.331446647644043,
          -3.4094669818878174,
          -3.178349733352661,
          -3.2445600032806396,
          -2.284573554992676,
          -3.608355760574341,
          -1.1937183141708374,
          -0.6199666857719421,
          -1.1261643171310425,
          -3.2389261722564697,
          1.6340914964675903,
          -5.120159149169922,
          -3.252495765686035,
          -2.9625964164733887,
          -3.8083324432373047,
          -0.9121828079223633,
          -4.087766647338867,
          -5.345423221588135,
          -0.7493287920951843,
          -3.0542168617248535,
          -1.4261832237243652,
          -1.997104287147522,
          -2.5962400436401367,
          -3.1650898456573486,
          -2.0047099590301514,
          -0.6489363312721252,
          -1.779699444770813,
          -1.9077556133270264,
          -2.1765615940093994,
          -3.1430039405822754,
          -1.4880878925323486,
          -3.020876884460449,
          -3.1945548057556152,
          0.396528422832489,
          1.0690370798110962,
          -4.757462501525879,
          -3.233119010925293,
          -4.207946300506592,
          -5.5133538246154785,
          -3.4969234466552734,
          -0.724261999130249,
          -3.6844286918640137,
          2.14609694480896,
          -0.40045446157455444,
          -4.619709014892578,
          -3.2784955501556396,
          -3.439188003540039,
          -4.12261962890625,
          -3.133227825164795,
          -2.9032251834869385,
          -3.4387385845184326,
          -3.8373563289642334,
          -3.509068489074707,
          -3.152947187423706,
          -0.347808301448822,
          -1.1971783638000488
         ]
        },
        {
         "hovertemplate": "Dominant_Topic=Topic 1<br>0=%{x}<br>1=%{y}<br>2=%{z}<extra></extra>",
         "legendgroup": "Topic 1",
         "marker": {
          "color": "#EF553B",
          "opacity": 0.7,
          "symbol": "circle"
         },
         "mode": "markers",
         "name": "Topic 1",
         "scene": "scene",
         "showlegend": true,
         "type": "scatter3d",
         "x": [
          -2.997204542160034,
          -7.844812870025635,
          -1.1491007804870605,
          -8.945265769958496,
          -6.381239414215088,
          -4.759954929351807,
          -6.7972517013549805,
          -6.1661505699157715,
          -9.308480262756348,
          0.29201191663742065,
          -3.2212467193603516,
          -2.8214948177337646,
          -9.249463081359863,
          -1.3916231393814087,
          -5.994822025299072,
          -3.096791982650757,
          -5.186765670776367,
          -3.58498215675354,
          -3.363265037536621,
          -2.247126340866089,
          -8.520913124084473,
          -9.346963882446289,
          -2.5427937507629395,
          -4.045262336730957,
          -3.298097848892212,
          -2.814568042755127,
          -3.5443942546844482,
          -3.8107833862304688,
          -2.5386621952056885,
          -7.210818290710449,
          -4.138484001159668,
          -3.4259965419769287,
          -4.930717945098877,
          -4.647150993347168,
          -2.4371895790100098,
          -0.6012534499168396,
          -0.9752805829048157,
          -2.306644916534424,
          -5.15079402923584,
          -2.9944636821746826,
          -5.844277381896973,
          -3.7528269290924072,
          -7.701403617858887,
          -4.256659507751465,
          -2.131652355194092,
          -3.7886011600494385,
          -5.53907585144043,
          -2.8485207557678223,
          -2.2063872814178467,
          -3.885524272918701,
          -0.4435751140117645,
          -2.9555516242980957,
          -7.731933116912842,
          -6.363498687744141,
          -3.566084146499634,
          -5.295205593109131,
          -5.790616035461426,
          -6.69199275970459,
          -5.668651103973389,
          -7.351387977600098,
          -9.82208251953125,
          -10.093644142150879,
          -6.7598443031311035,
          -7.69801139831543,
          -2.8909971714019775,
          -7.845953464508057,
          -5.223461151123047,
          -10.05787181854248,
          -8.942790031433105,
          -3.8265678882598877,
          -0.7827809453010559,
          -6.546069145202637,
          -8.251188278198242,
          -1.2171367406845093,
          -8.082233428955078,
          -6.6974687576293945,
          -7.175634860992432,
          -4.050271511077881,
          -3.6589436531066895,
          -6.451113700866699,
          -1.845726728439331,
          -6.821008682250977,
          -4.737844944000244,
          -3.489440441131592,
          -4.347247123718262,
          -5.353998184204102,
          -1.5094268321990967,
          -0.9167229533195496,
          -4.297929763793945,
          -2.1315784454345703,
          -3.4864659309387207,
          -7.901676654815674,
          -1.3249698877334595,
          -0.9510191082954407,
          -2.3622841835021973,
          -8.475830078125,
          -3.6381423473358154,
          -3.8778152465820312,
          -6.7811784744262695,
          -6.064017295837402,
          -5.818557262420654,
          -1.0262161493301392,
          -0.5164768695831299,
          -0.07501498609781265,
          -5.2378249168396,
          -5.793086051940918,
          -8.94371223449707,
          -7.034857749938965,
          0.49506592750549316,
          -7.47160530090332,
          -9.510758399963379,
          -0.8786284327507019,
          -1.4336705207824707,
          -2.3215973377227783,
          -4.419064044952393,
          -1.4479295015335083,
          -4.366367816925049,
          -9.486724853515625,
          -6.030031204223633,
          -2.4101343154907227,
          -4.77277946472168,
          -8.492205619812012,
          -9.605708122253418,
          -8.630523681640625,
          -2.071436882019043,
          0.4551233649253845,
          -3.396362781524658,
          -2.874817371368408,
          -6.353002071380615,
          -3.939727306365967,
          -2.9665141105651855,
          -5.827274322509766,
          -4.5040764808654785,
          -9.66374397277832,
          -1.2578476667404175,
          -9.738884925842285,
          0.6262269020080566,
          -2.2803473472595215,
          -3.2290260791778564,
          -4.964630603790283
         ],
         "y": [
          -8.817837715148926,
          -7.996155738830566,
          -4.801794528961182,
          -8.441205024719238,
          -8.680928230285645,
          -6.890504837036133,
          -6.760208606719971,
          -6.859961986541748,
          -8.512726783752441,
          -6.987154483795166,
          -8.478056907653809,
          -7.536865234375,
          -8.077435493469238,
          -5.158858299255371,
          -7.708604335784912,
          -8.39698600769043,
          -5.603776454925537,
          -8.10010051727295,
          -4.717030048370361,
          -6.400426864624023,
          -8.357629776000977,
          -8.242653846740723,
          -4.88992977142334,
          -10.297392845153809,
          -5.177913665771484,
          -7.966047286987305,
          -9.084721565246582,
          -3.9032790660858154,
          -7.6301093101501465,
          -7.7812910079956055,
          -6.209435939788818,
          -8.776979446411133,
          -6.520995140075684,
          -7.507676124572754,
          -8.267142295837402,
          -5.499993324279785,
          -4.945075511932373,
          -7.6664862632751465,
          -5.111694812774658,
          -8.049904823303223,
          -8.753223419189453,
          -5.771753311157227,
          -8.069110870361328,
          -9.675517082214355,
          -5.264382839202881,
          -8.533477783203125,
          -9.861969947814941,
          -7.4007415771484375,
          -7.347513198852539,
          -5.346897602081299,
          -5.558802604675293,
          -8.927155494689941,
          -7.986354351043701,
          -5.921273708343506,
          -8.952452659606934,
          -7.193270683288574,
          -8.634974479675293,
          -6.3395490646362305,
          -8.682954788208008,
          -7.588548183441162,
          -8.458890914916992,
          -8.307966232299805,
          -6.736412048339844,
          -10.153118133544922,
          -3.9823193550109863,
          -8.714442253112793,
          -5.520820617675781,
          -8.325615882873535,
          -8.419684410095215,
          -9.024933815002441,
          -5.930417537689209,
          -8.639861106872559,
          -8.04052734375,
          -6.008610725402832,
          -8.214738845825195,
          -7.300889015197754,
          -8.806806564331055,
          -9.655662536621094,
          -8.474803924560547,
          -7.400318622589111,
          -6.377414226531982,
          -8.630194664001465,
          -5.468278408050537,
          -5.1799163818359375,
          -6.6196699142456055,
          -7.273763656616211,
          -4.142354965209961,
          -5.24106502532959,
          -8.621381759643555,
          -3.931663751602173,
          -8.55421257019043,
          -8.351092338562012,
          -5.114466190338135,
          -5.125154972076416,
          -3.537794589996338,
          -8.191933631896973,
          -4.992785453796387,
          -5.9083404541015625,
          -6.936479568481445,
          -8.918092727661133,
          -8.981350898742676,
          -4.601722240447998,
          -6.467418193817139,
          -5.352014541625977,
          -4.834175109863281,
          -7.151891231536865,
          -8.819135665893555,
          -7.834780693054199,
          -7.73143196105957,
          -7.869720458984375,
          -8.791422843933105,
          -6.092797756195068,
          -6.273475646972656,
          -6.991654396057129,
          -8.174763679504395,
          -5.510438442230225,
          -5.301584243774414,
          -8.515837669372559,
          -5.46036434173584,
          -8.255069732666016,
          -8.381964683532715,
          -7.981996059417725,
          -8.43837833404541,
          -8.354528427124023,
          -7.5398759841918945,
          -7.917576789855957,
          -4.612686634063721,
          -4.5396575927734375,
          -7.041828155517578,
          -7.8108110427856445,
          -7.430271148681641,
          -9.387418746948242,
          -6.426506042480469,
          -8.488961219787598,
          -4.397572040557861,
          -8.465753555297852,
          -6.657963275909424,
          -7.687883377075195,
          -7.226411819458008,
          -5.572169780731201
         ],
         "z": [
          -1.9709641933441162,
          -4.565798759460449,
          -0.267132967710495,
          -5.926216125488281,
          -4.421224117279053,
          -3.6950247287750244,
          -2.148540735244751,
          -5.903329372406006,
          -6.216731071472168,
          -1.5574787855148315,
          -2.5163936614990234,
          -4.088168144226074,
          -5.782531261444092,
          1.3728915452957153,
          -3.1634790897369385,
          -2.8068301677703857,
          -6.216704368591309,
          -3.315913438796997,
          -0.9550502300262451,
          -1.1937528848648071,
          -5.586414337158203,
          -5.944743633270264,
          -0.0963243916630745,
          -2.0371432304382324,
          -0.3697203993797302,
          -2.1374809741973877,
          -2.457805871963501,
          -0.8544355034828186,
          -1.6095408201217651,
          -3.5549674034118652,
          -4.8122429847717285,
          -2.9542629718780518,
          -5.298610210418701,
          -3.2923290729522705,
          -1.674704670906067,
          -0.6096993684768677,
          -0.6626795530319214,
          -1.9846082925796509,
          -0.3249240815639496,
          -2.1765549182891846,
          -4.100823879241943,
          -4.6328229904174805,
          -5.140735626220703,
          -2.629617929458618,
          1.2826464176177979,
          -3.240748167037964,
          -4.3459343910217285,
          -4.3768720626831055,
          -1.8284274339675903,
          2.1978354454040527,
          -1.219981074333191,
          -1.8383146524429321,
          -4.298624038696289,
          -1.0793530941009521,
          -3.665407419204712,
          -4.984457969665527,
          -4.027258396148682,
          -1.5734249353408813,
          -4.134397029876709,
          -3.1803462505340576,
          -6.7557806968688965,
          -7.271401405334473,
          -6.420997142791748,
          -6.073757648468018,
          -0.8562403321266174,
          -4.868319511413574,
          -0.6550072431564331,
          -7.212775707244873,
          -5.912852764129639,
          -2.6607108116149902,
          -1.280144214630127,
          -4.459104061126709,
          -4.819355487823486,
          -1.0181903839111328,
          -5.495818138122559,
          -5.813686370849609,
          -4.923521995544434,
          -2.481165885925293,
          -3.397118091583252,
          -5.519954204559326,
          -1.3671680688858032,
          -4.616645336151123,
          -0.6868664622306824,
          -0.2900412678718567,
          -4.769237995147705,
          -4.657081604003906,
          -2.513646125793457,
          0.0549403578042984,
          -3.6543662548065186,
          -0.9087910056114197,
          -2.8240954875946045,
          -5.163938522338867,
          0.6643162369728088,
          0.9119706749916077,
          -1.212044596672058,
          -5.593379497528076,
          -0.7170414328575134,
          -4.712386131286621,
          -2.4161150455474854,
          -4.388978958129883,
          -4.141851902008057,
          0.003363996744155884,
          -1.368484616279602,
          -1.2557910680770874,
          -0.11780549585819244,
          -5.2682061195373535,
          -5.620047092437744,
          -3.501553773880005,
          -2.0899465084075928,
          -5.391948699951172,
          -6.176855087280273,
          -1.042402982711792,
          -1.2549059391021729,
          -2.311960458755493,
          -3.6202681064605713,
          -1.8032448291778564,
          -0.529941976070404,
          -6.814098834991455,
          -0.5467031002044678,
          -2.7166600227355957,
          -3.588636875152588,
          -4.761012077331543,
          -6.45408296585083,
          -5.666372299194336,
          -1.749969720840454,
          -2.238487482070923,
          -1.0541282892227173,
          -0.7391400933265686,
          -5.842306137084961,
          -3.7603089809417725,
          -2.2848398685455322,
          -4.354923725128174,
          -4.986440658569336,
          -6.581379413604736,
          -0.6251963973045349,
          -6.676857948303223,
          -1.2952066659927368,
          -1.9305328130722046,
          -1.9395997524261475,
          -0.7234464287757874
         ]
        },
        {
         "hovertemplate": "Dominant_Topic=Topic 10<br>0=%{x}<br>1=%{y}<br>2=%{z}<extra></extra>",
         "legendgroup": "Topic 10",
         "marker": {
          "color": "#00cc96",
          "opacity": 0.7,
          "symbol": "circle"
         },
         "mode": "markers",
         "name": "Topic 10",
         "scene": "scene",
         "showlegend": true,
         "type": "scatter3d",
         "x": [
          -3.591378927230835,
          -3.325813055038452,
          -2.046635866165161,
          -2.489820957183838,
          -3.4317874908447266,
          -3.475430488586426,
          -3.4719290733337402,
          -3.2934515476226807,
          -3.003143548965454,
          -2.8290488719940186,
          -3.3541407585144043,
          -3.1997885704040527,
          -3.5181734561920166,
          -3.4732956886291504,
          -3.55588960647583,
          -3.1514334678649902,
          -3.0326857566833496,
          -3.09283709526062,
          -2.2260828018188477,
          -3.4934260845184326,
          -3.301755666732788,
          -3.22363018989563,
          -3.0584986209869385,
          -3.604620933532715,
          -3.516648054122925
         ],
         "y": [
          -2.5824859142303467,
          -3.373382806777954,
          -4.150025844573975,
          -4.2528839111328125,
          -3.0604031085968018,
          -3.00368070602417,
          -3.0477821826934814,
          -3.5694997310638428,
          -3.6173839569091797,
          -3.5239357948303223,
          -3.3365983963012695,
          -3.6414198875427246,
          -2.8434269428253174,
          -2.9581940174102783,
          -2.7042129039764404,
          -4.547354698181152,
          -3.7545273303985596,
          -4.401429653167725,
          2.286781072616577,
          -2.909626007080078,
          -3.406822681427002,
          -3.524240255355835,
          -4.03609037399292,
          -2.5391945838928223,
          -2.8416106700897217
         ],
         "z": [
          -8.201666831970215,
          -6.641819477081299,
          -3.281346321105957,
          -3.892981767654419,
          -7.323478698730469,
          -7.495234489440918,
          -7.442856788635254,
          -6.282223701477051,
          -5.567610263824463,
          -5.2252702713012695,
          -6.757910251617432,
          -5.989674091339111,
          -7.776766300201416,
          -7.543910026550293,
          -8.004868507385254,
          -4.87596321105957,
          -5.486427307128906,
          -4.920196056365967,
          -1.3297199010849,
          -7.6485419273376465,
          -6.5382914543151855,
          -6.199075698852539,
          -5.2408366203308105,
          -8.271695137023926,
          -7.775852203369141
         ]
        },
        {
         "hovertemplate": "Dominant_Topic=Topic 11<br>0=%{x}<br>1=%{y}<br>2=%{z}<extra></extra>",
         "legendgroup": "Topic 11",
         "marker": {
          "color": "#ab63fa",
          "opacity": 0.7,
          "symbol": "circle"
         },
         "mode": "markers",
         "name": "Topic 11",
         "scene": "scene",
         "showlegend": true,
         "type": "scatter3d",
         "x": [
          0.4652901589870453,
          -0.04001140594482422,
          0.3537711501121521,
          -0.4067838191986084,
          0.745384693145752,
          0.586275577545166,
          0.5883715152740479,
          0.6150734424591064,
          2.019792079925537,
          0.7214183807373047,
          0.9326543807983398,
          0.40604060888290405,
          0.5130554437637329,
          0.5917251110076904,
          0.7847706079483032,
          0.5941017270088196,
          0.4021463394165039,
          0.5679633021354675
         ],
         "y": [
          6.715681076049805,
          5.868949890136719,
          7.437508583068848,
          5.186735153198242,
          6.795382976531982,
          6.808701515197754,
          6.694841384887695,
          6.964169979095459,
          6.630307197570801,
          6.8501973152160645,
          5.606616497039795,
          6.65084981918335,
          7.156070232391357,
          6.998921871185303,
          7.1395769119262695,
          7.000303745269775,
          6.643368721008301,
          7.146224021911621
         ],
         "z": [
          5.157586574554443,
          6.637269496917725,
          2.9214203357696533,
          7.550336837768555,
          4.18710470199585,
          4.628572940826416,
          4.864491939544678,
          4.281221389770508,
          3.370515823364258,
          4.084587574005127,
          3.4265544414520264,
          5.38163423538208,
          3.703913688659668,
          4.1599297523498535,
          3.661158323287964,
          3.9340155124664307,
          5.407017230987549,
          3.920016050338745
         ]
        },
        {
         "hovertemplate": "Dominant_Topic=Topic 2<br>0=%{x}<br>1=%{y}<br>2=%{z}<extra></extra>",
         "legendgroup": "Topic 2",
         "marker": {
          "color": "#FFA15A",
          "opacity": 0.7,
          "symbol": "circle"
         },
         "mode": "markers",
         "name": "Topic 2",
         "scene": "scene",
         "showlegend": true,
         "type": "scatter3d",
         "x": [
          -0.1512349545955658,
          -2.381640672683716,
          -2.5653936862945557,
          -3.4531667232513428,
          -0.1947452872991562,
          0.3234071731567383,
          -0.01137431338429451,
          0.36353757977485657,
          -0.6099443435668945,
          -3.4024252891540527,
          -0.11097236722707748,
          -3.470538854598999,
          -1.2527977228164673,
          0.6157920360565186,
          -0.06034048646688461,
          3.3940467834472656,
          -1.9205172061920166,
          -3.325120210647583,
          0.34000280499458313,
          1.0436056852340698,
          -0.6702746152877808,
          2.3149333000183105,
          1.0628124475479126,
          -5.691679954528809,
          -6.229813575744629,
          3.6859779357910156,
          -2.791707754135132,
          1.4058001041412354,
          -3.4624617099761963,
          -0.25761884450912476,
          -2.2659919261932373,
          0.9694615602493286,
          -0.09054897725582123,
          -3.52008056640625,
          -1.8849436044692993,
          -2.9771721363067627,
          -6.137399673461914,
          -3.072155475616455,
          -3.732923984527588,
          -3.5409810543060303,
          1.151228666305542,
          -0.15006837248802185,
          2.9582390785217285,
          2.164444923400879,
          2.8458993434906006,
          -3.7201976776123047,
          -1.8337494134902954,
          -0.8711233139038086,
          1.8089499473571777,
          -5.164830207824707,
          3.3940389156341553,
          -3.059013843536377,
          1.3916248083114624,
          2.0931854248046875,
          -1.9270821809768677,
          -5.4962334632873535,
          0.5336682200431824,
          -0.4084978997707367,
          -3.989022970199585,
          -3.1218490600585938,
          -2.0271952152252197,
          3.6991169452667236,
          -0.7046112418174744,
          -0.7456275820732117,
          -1.1007435321807861,
          -3.950101137161255,
          -0.3344491720199585,
          -1.3253058195114136,
          -1.545576572418213,
          -1.3491712808609009,
          -3.427035331726074,
          0.134394109249115,
          -1.0629563331604004,
          2.418660879135132,
          -5.728844165802002,
          -1.2434146404266357,
          -3.7135086059570312,
          -5.977151870727539,
          -0.020298780873417854,
          -5.203733921051025,
          -1.2108125686645508,
          -0.40273240208625793,
          1.567495584487915,
          2.3788349628448486,
          1.775795340538025,
          -0.1162826269865036,
          0.10676988214254379,
          -3.7881550788879395,
          -3.3305442333221436,
          2.917325973510742,
          3.137618064880371,
          -5.611821174621582,
          -3.5112297534942627,
          1.989845633506775,
          2.070479154586792,
          -5.706649303436279,
          -1.5286943912506104,
          -4.196550369262695,
          -1.6963481903076172,
          3.0293281078338623,
          -3.121854782104492,
          0.5098592638969421,
          -5.8914995193481445,
          -5.847700119018555,
          -4.61267614364624,
          -0.6884698867797852,
          -1.3037827014923096,
          -0.5892934799194336,
          -1.4706302881240845,
          -5.826323509216309,
          -3.363786458969116,
          2.0599966049194336,
          -3.535386085510254,
          0.752914547920227,
          -2.2355501651763916,
          -0.5341781973838806,
          1.7230935096740723,
          -3.1370747089385986,
          -5.286168575286865,
          2.116708755493164,
          -0.8103437423706055,
          -2.866414785385132,
          -5.033679962158203,
          1.7945866584777832,
          -2.039496660232544,
          1.9594570398330688,
          -1.5506923198699951,
          -4.737627029418945,
          -3.0686750411987305,
          -5.803238391876221,
          -1.537299633026123,
          -5.046802997589111,
          -3.609426736831665,
          -2.6080703735351562,
          -4.614379405975342,
          1.246646523475647,
          -5.47348690032959,
          1.9481273889541626,
          2.351839065551758,
          -1.9905809164047241,
          -0.4832304120063782,
          -1.883998155593872,
          -0.7906999588012695,
          -5.960936069488525,
          -2.9534189701080322,
          -1.604249119758606,
          -3.7340872287750244,
          0.18599417805671692,
          -5.210880279541016,
          -3.4468038082122803,
          -2.679939031600952,
          3.3577077388763428,
          -3.901334762573242,
          1.1775439977645874,
          -2.7367541790008545,
          -0.062265943735837936
         ],
         "y": [
          -0.22527559101581573,
          1.7599025964736938,
          1.8537580966949463,
          3.3069467544555664,
          -0.14228075742721558,
          0.012184098362922668,
          2.082655668258667,
          -1.5413818359375,
          0.7204968929290771,
          3.004256248474121,
          -0.5837326049804688,
          1.8353519439697266,
          1.8878729343414307,
          2.731546640396118,
          0.7416480183601379,
          1.026360034942627,
          2.915635108947754,
          0.5500547885894775,
          0.8997844457626343,
          -0.3381977677345276,
          4.705612659454346,
          1.3959846496582031,
          1.0492594242095947,
          0.4404517114162445,
          2.019318103790283,
          0.11958006024360657,
          -0.23448768258094788,
          1.3688877820968628,
          2.1180882453918457,
          0.47053930163383484,
          -0.1310306191444397,
          0.9794292449951172,
          0.016752181574702263,
          1.9850001335144043,
          2.4836976528167725,
          2.162095546722412,
          1.6601266860961914,
          -0.19734346866607666,
          -0.2952328324317932,
          0.9104732871055603,
          -0.38189631700515747,
          -0.5587731599807739,
          -1.336000680923462,
          1.1812701225280762,
          -0.06974414736032486,
          2.1755142211914062,
          1.5315635204315186,
          1.0649935007095337,
          0.14141292870044708,
          1.7695032358169556,
          1.0263699293136597,
          1.8992717266082764,
          2.0913021564483643,
          -0.8499575853347778,
          -0.08405894041061401,
          1.5913232564926147,
          1.521579384803772,
          -0.3593212366104126,
          1.9625335931777954,
          2.0781729221343994,
          1.360939621925354,
          -1.6747350692749023,
          0.6221571564674377,
          4.08505916595459,
          1.2166714668273926,
          1.971737265586853,
          0.2843686640262604,
          3.1898140907287598,
          1.4680808782577515,
          0.009384062141180038,
          0.43392711877822876,
          -0.8397325277328491,
          1.2055394649505615,
          0.4706888794898987,
          0.6182379126548767,
          2.641249656677246,
          1.5287660360336304,
          1.8021122217178345,
          -0.469235360622406,
          1.7910056114196777,
          0.5696757435798645,
          0.5055045485496521,
          -0.30983981490135193,
          0.4732835292816162,
          0.35909855365753174,
          2.3954918384552,
          0.5294264554977417,
          2.1398520469665527,
          -4.796173572540283,
          -1.600609302520752,
          -1.6177775859832764,
          1.6883784532546997,
          2.177011013031006,
          -0.27939891815185547,
          -0.385056734085083,
          0.29995831847190857,
          1.5163089036941528,
          -0.6871896982192993,
          1.2732080221176147,
          1.1633597612380981,
          -0.20362824201583862,
          -1.6563634872436523,
          1.9903779029846191,
          1.6378413438796997,
          1.769209384918213,
          -4.178349018096924,
          1.4338229894638062,
          0.14576393365859985,
          1.293259620666504,
          0.7325053811073303,
          1.8258556127548218,
          -0.9323887825012207,
          -1.5503054857254028,
          0.6655210852622986,
          -0.06292964518070221,
          0.12267491221427917,
          1.068174958229065,
          1.8188560009002686,
          1.708876371383667,
          0.7711961269378662,
          0.7672377228736877,
          -0.22668442130088806,
          1.824192762374878,
          -0.7334678173065186,
          1.6414268016815186,
          1.3179736137390137,
          1.419287919998169,
          1.8785426616668701,
          -0.35232970118522644,
          1.648025631904602,
          2.662170171737671,
          2.553764820098877,
          1.0456727743148804,
          1.658515214920044,
          2.510924816131592,
          2.738291025161743,
          2.4419968128204346,
          2.177300453186035,
          -1.039172649383545,
          1.377139687538147,
          5.0376996994018555,
          2.419278621673584,
          1.1065655946731567,
          1.5889495611190796,
          1.8046618700027466,
          3.1742758750915527,
          2.455615758895874,
          0.2726210653781891,
          1.768376350402832,
          1.9167400598526,
          1.9830775260925293,
          0.8193275928497314,
          2.4168403148651123,
          2.355464458465576,
          1.7423433065414429,
          0.36478787660598755
         ],
         "z": [
          6.557860374450684,
          10.897782325744629,
          8.592641830444336,
          12.058998107910156,
          6.782642841339111,
          6.677576541900635,
          3.134775400161743,
          7.938729286193848,
          7.794753551483154,
          12.023256301879883,
          8.841105461120605,
          10.417376518249512,
          9.555160522460938,
          2.448476791381836,
          7.153195381164551,
          6.089999198913574,
          9.774395942687988,
          6.9861273765563965,
          4.952680587768555,
          3.9882218837738037,
          7.974152565002441,
          6.877540111541748,
          4.262156963348389,
          10.80563735961914,
          13.234416961669922,
          5.527773857116699,
          5.304225921630859,
          4.261612415313721,
          10.237147331237793,
          7.72549295425415,
          5.10586404800415,
          7.870250701904297,
          7.358905792236328,
          12.021398544311523,
          8.027109146118164,
          11.789156913757324,
          14.131462097167969,
          5.473778247833252,
          5.613459587097168,
          7.639810085296631,
          6.470231056213379,
          8.925957679748535,
          4.7703857421875,
          3.5894649028778076,
          3.5728108882904053,
          12.085501670837402,
          10.856735229492188,
          9.198440551757812,
          4.947810649871826,
          13.376116752624512,
          6.090006351470947,
          11.654179573059082,
          3.606884479522705,
          4.79987096786499,
          5.206414699554443,
          14.105779647827148,
          2.7040767669677734,
          9.42335033416748,
          11.810022354125977,
          9.858670234680176,
          7.543095111846924,
          5.143054008483887,
          7.2775397300720215,
          8.441205024719238,
          9.726622581481934,
          12.423705101013184,
          6.539653778076172,
          9.094820976257324,
          10.019603729248047,
          4.456984043121338,
          6.726815700531006,
          7.131728172302246,
          9.077939987182617,
          3.594224214553833,
          11.291864395141602,
          9.211387634277344,
          11.385139465332031,
          13.979756355285645,
          8.101103782653809,
          13.284113883972168,
          7.215756893157959,
          7.67633581161499,
          3.907449722290039,
          4.847784519195557,
          4.658479690551758,
          3.292358160018921,
          7.967902183532715,
          11.48275089263916,
          3.6527068614959717,
          5.887379169464111,
          5.6778974533081055,
          13.659672737121582,
          10.508217811584473,
          5.250880241394043,
          5.336178779602051,
          10.471056938171387,
          9.722455024719238,
          5.077604293823242,
          11.451789855957031,
          6.197122573852539,
          5.491709232330322,
          7.643248558044434,
          14.028731346130371,
          13.823925971984863,
          12.519966125488281,
          -0.2334987223148346,
          9.764214515686035,
          6.269885540008545,
          10.821789741516113,
          11.665594100952148,
          9.31020736694336,
          5.727749347686768,
          3.183922529220581,
          7.727334499359131,
          4.184305191040039,
          6.094620227813721,
          4.058525562286377,
          12.193426132202148,
          13.506093978881836,
          3.8650424480438232,
          9.741460800170898,
          5.364274978637695,
          13.239124298095703,
          5.9351911544799805,
          10.69762134552002,
          3.507556915283203,
          10.546441078186035,
          12.989726066589355,
          5.066824913024902,
          13.770294189453125,
          9.579638481140137,
          13.470657348632812,
          7.937902450561523,
          10.894630432128906,
          11.753172874450684,
          3.296107530593872,
          13.757991790771484,
          3.6299755573272705,
          5.688513278961182,
          8.590291976928711,
          7.707876682281494,
          7.905792713165283,
          9.755448341369629,
          13.90640640258789,
          11.97647476196289,
          9.647425651550293,
          10.375218391418457,
          6.1037373542785645,
          13.402565002441406,
          9.287322044372559,
          9.25753402709961,
          5.806231498718262,
          11.4402494430542,
          3.0685880184173584,
          11.91826057434082,
          6.380667209625244
         ]
        },
        {
         "hovertemplate": "Dominant_Topic=Topic 3<br>0=%{x}<br>1=%{y}<br>2=%{z}<extra></extra>",
         "legendgroup": "Topic 3",
         "marker": {
          "color": "#19d3f3",
          "opacity": 0.7,
          "symbol": "circle"
         },
         "mode": "markers",
         "name": "Topic 3",
         "scene": "scene",
         "showlegend": true,
         "type": "scatter3d",
         "x": [
          5.398134231567383,
          5.575172424316406,
          8.611536979675293,
          9.734987258911133,
          5.861449241638184,
          8.738038063049316,
          5.991790771484375,
          6.669956684112549,
          7.344912052154541,
          4.259283065795898,
          8.972477912902832,
          8.237408638000488,
          6.0041985511779785,
          7.481937408447266,
          6.2160868644714355,
          11.228589057922363,
          7.472201347351074,
          6.550900936126709,
          8.333028793334961,
          4.30895471572876,
          10.659964561462402,
          8.810623168945312,
          -1.2258869409561157,
          8.058432579040527,
          7.874734878540039,
          8.448193550109863,
          7.136078357696533,
          7.130911350250244,
          10.636157035827637,
          -4.6199493408203125,
          7.761145114898682,
          7.597898483276367,
          12.348506927490234,
          5.6056694984436035,
          10.36539077758789,
          9.70703411102295,
          13.202594757080078,
          5.874939918518066,
          7.319477081298828,
          8.535106658935547,
          6.836068153381348,
          5.869602203369141,
          9.947887420654297,
          6.23784875869751,
          12.548422813415527,
          6.422641754150391,
          6.812983512878418,
          -4.041698455810547,
          5.990170478820801,
          8.01187801361084,
          4.259976387023926,
          7.529833793640137,
          9.625642776489258,
          8.65701675415039,
          6.1672821044921875,
          5.7067766189575195,
          5.885706424713135,
          7.5612921714782715,
          5.2070512771606445,
          12.730507850646973,
          4.7083892822265625,
          8.346423149108887,
          11.423392295837402,
          8.95720100402832,
          7.574921131134033,
          6.903426170349121,
          7.880767345428467,
          9.659104347229004,
          7.884214878082275,
          8.50712776184082,
          12.806586265563965,
          8.515054702758789,
          5.605238437652588,
          11.040519714355469,
          3.3354897499084473,
          8.10550594329834,
          7.1025238037109375,
          12.44626522064209,
          9.798544883728027,
          12.0603609085083,
          13.220582962036133,
          11.418272018432617,
          5.041945934295654,
          7.940375328063965,
          6.281985282897949,
          12.146500587463379,
          7.570852279663086,
          8.302059173583984,
          9.58293342590332,
          6.901646614074707,
          10.15073013305664,
          11.851948738098145,
          13.268392562866211,
          4.946001052856445,
          11.854849815368652,
          6.695370197296143,
          13.358656883239746,
          7.012627124786377,
          12.919292449951172,
          8.042701721191406,
          8.4754638671875,
          7.20164155960083,
          8.232616424560547,
          8.109964370727539,
          10.107321739196777,
          4.686432838439941,
          7.383021831512451,
          6.81013298034668,
          4.150393009185791,
          7.374080657958984,
          8.106654167175293,
          11.908708572387695,
          7.087190628051758,
          5.0327467918396,
          7.59520149230957,
          4.950749397277832,
          5.253504753112793,
          10.398106575012207,
          7.830929279327393,
          12.310173988342285,
          12.84567928314209,
          7.679276943206787,
          7.2464823722839355,
          13.34272575378418,
          8.438668251037598,
          4.54130220413208,
          9.622161865234375,
          6.273739814758301,
          7.4726386070251465,
          6.655759811401367,
          8.59618854522705,
          7.318404674530029,
          6.2066826820373535,
          12.466416358947754,
          11.786880493164062,
          12.8889741897583,
          8.336099624633789,
          0.543417751789093,
          13.37861442565918,
          7.687590599060059,
          8.854544639587402,
          10.536619186401367,
          8.805587768554688,
          9.208683967590332,
          6.73439884185791,
          -0.050130438059568405,
          12.750329971313477,
          8.809691429138184,
          6.69876766204834,
          6.649206638336182,
          8.127397537231445,
          4.934036731719971,
          8.336583137512207,
          5.394155025482178,
          9.441709518432617,
          10.739503860473633,
          5.982388019561768,
          6.420523643493652,
          7.317290306091309,
          9.838252067565918,
          -4.528305530548096,
          11.082268714904785,
          8.211432456970215,
          5.100384712219238,
          8.06489086151123,
          4.569273948669434,
          8.776981353759766,
          6.43261194229126,
          4.943757057189941,
          9.916654586791992,
          8.349566459655762,
          6.760725021362305,
          12.668460845947266,
          5.51518440246582,
          8.140655517578125,
          8.714587211608887,
          11.951797485351562,
          9.0181303024292,
          9.68912410736084,
          12.249795913696289,
          13.394144058227539,
          12.011127471923828,
          4.700607776641846,
          12.393214225769043,
          4.7109832763671875,
          12.265915870666504,
          7.213210105895996,
          5.98121452331543,
          7.8951826095581055,
          1.0101674795150757,
          8.803754806518555,
          8.321916580200195,
          8.423073768615723,
          12.360854148864746,
          7.645395755767822,
          8.499042510986328,
          7.28019905090332,
          6.893893241882324,
          10.194680213928223,
          6.491682052612305,
          5.341406345367432,
          12.407563209533691,
          5.66825532913208,
          10.26735782623291,
          7.7727131843566895,
          5.411143779754639,
          8.573704719543457
         ],
         "y": [
          -0.8548843264579773,
          -3.182328939437866,
          -4.262824058532715,
          -7.8199615478515625,
          -1.5237457752227783,
          -3.4477486610412598,
          1.0046908855438232,
          1.5172631740570068,
          0.3081536889076233,
          2.1020805835723877,
          -1.2891219854354858,
          -3.9430413246154785,
          1.7637768983840942,
          -4.8267927169799805,
          1.5037519931793213,
          -4.9075493812561035,
          -2.311642646789551,
          -0.7588258981704712,
          -4.173455715179443,
          2.0760185718536377,
          -4.147399425506592,
          3.784182071685791,
          -3.620911121368408,
          -4.733699321746826,
          -2.9827325344085693,
          0.8369709253311157,
          -4.284003734588623,
          2.6500537395477295,
          -5.475252628326416,
          -4.426494598388672,
          -4.1907172203063965,
          1.1477054357528687,
          -6.422416687011719,
          -0.6946526169776917,
          -5.381240367889404,
          -7.787170886993408,
          -8.144841194152832,
          -6.224466323852539,
          -5.997869491577148,
          0.2668960988521576,
          -4.523049831390381,
          -0.019207390025258064,
          -4.474546432495117,
          -1.4356069564819336,
          -5.8993940353393555,
          0.6035586595535278,
          2.7819435596466064,
          -4.788049221038818,
          -1.6601070165634155,
          1.129885196685791,
          2.101689577102661,
          -0.6162805557250977,
          -2.3977184295654297,
          -4.638093948364258,
          -3.6245076656341553,
          -3.7096669673919678,
          -0.7746948599815369,
          -4.841792106628418,
          1.048936367034912,
          -6.33297872543335,
          1.7466720342636108,
          3.3032939434051514,
          -6.126930236816406,
          0.4640013873577118,
          1.965662956237793,
          -0.7733268141746521,
          -2.896313428878784,
          -4.932290077209473,
          -4.036449432373047,
          0.1004064679145813,
          -6.682489395141602,
          -0.2725844085216522,
          -3.229977607727051,
          -4.59871768951416,
          -1.5509576797485352,
          -2.209930658340454,
          1.4475785493850708,
          -6.148377418518066,
          -4.996710300445557,
          -5.956607341766357,
          -6.883363723754883,
          -5.032519817352295,
          0.3587634861469269,
          0.8315429091453552,
          -3.526721954345703,
          -6.105875015258789,
          -2.4186811447143555,
          -4.796379566192627,
          -2.637373924255371,
          -4.953622341156006,
          -4.790839195251465,
          -5.589323043823242,
          -6.973271369934082,
          -1.9081448316574097,
          -6.167360305786133,
          -0.028095990419387817,
          -7.233581066131592,
          2.614166736602783,
          -7.219581604003906,
          -4.557629585266113,
          -4.466366767883301,
          -0.9540117383003235,
          -5.056390762329102,
          -4.789267063140869,
          -4.716765403747559,
          -1.6227633953094482,
          1.9566447734832764,
          -0.2746829092502594,
          -1.896337866783142,
          -3.8442986011505127,
          -4.095343112945557,
          -6.203332901000977,
          -5.0422868728637695,
          -2.029207706451416,
          -2.489032506942749,
          1.6655045747756958,
          1.5609995126724243,
          -3.5758843421936035,
          0.1139032319188118,
          -6.202179431915283,
          -6.284307479858398,
          -4.647493839263916,
          2.8306658267974854,
          -7.507713794708252,
          3.0849313735961914,
          2.3819613456726074,
          -5.727569580078125,
          0.04608728364109993,
          -5.373238563537598,
          -0.722206711769104,
          0.7882727980613708,
          2.6212856769561768,
          -1.314721941947937,
          -6.531454086303711,
          -5.7847466468811035,
          -7.135230541229248,
          3.1005403995513916,
          -6.416859149932861,
          -6.9159040451049805,
          1.4277278184890747,
          -1.1001200675964355,
          -5.522570610046387,
          -4.516346454620361,
          -3.3132927417755127,
          -3.516329765319824,
          -5.278898239135742,
          -6.282074928283691,
          -2.3809306621551514,
          1.6519615650177002,
          -4.315127372741699,
          -4.223310947418213,
          1.1810206174850464,
          2.893446922302246,
          1.2588584423065186,
          -2.570345401763916,
          -4.36098051071167,
          -6.158454895019531,
          0.8579257130622864,
          -2.2120962142944336,
          -6.120307445526123,
          -4.59166145324707,
          -5.723687648773193,
          -1.6660244464874268,
          1.0973447561264038,
          0.5059791207313538,
          1.311681866645813,
          3.841705083847046,
          -4.60660457611084,
          1.7399543523788452,
          -3.1769773960113525,
          0.5453698039054871,
          1.3819360733032227,
          -7.127706527709961,
          0.6070322394371033,
          -2.352698564529419,
          -5.30204439163208,
          -6.160459518432617,
          -1.9856139421463013,
          -7.819523811340332,
          -6.443092346191406,
          -7.197205066680908,
          -7.041243076324463,
          -1.792859435081482,
          -5.9864373207092285,
          1.8792309761047363,
          -6.42860746383667,
          1.0069944858551025,
          -2.615105628967285,
          -4.456777572631836,
          -6.574943542480469,
          3.849043846130371,
          -5.119755268096924,
          -4.533508777618408,
          -6.1457366943359375,
          1.6302317380905151,
          -5.190314292907715,
          -0.1024053692817688,
          0.8565064668655396,
          -5.0073561668396,
          0.8538144826889038,
          -1.901916265487671,
          -6.146909713745117,
          -1.1814192533493042,
          -4.112250804901123,
          -5.288263320922852,
          -2.8218863010406494,
          -0.929720401763916
         ],
         "z": [
          3.221789836883545,
          -0.5759660601615906,
          -2.508087396621704,
          0.38240286707878113,
          2.6613216400146484,
          2.0566375255584717,
          1.8353352546691895,
          0.6299417018890381,
          2.671703338623047,
          3.945591449737549,
          -0.5090829133987427,
          -0.10690363496541977,
          2.8404085636138916,
          0.3962668776512146,
          2.5047497749328613,
          -1.0551390647888184,
          2.6052141189575195,
          -0.8173472285270691,
          0.35814106464385986,
          2.218137264251709,
          -0.7103388905525208,
          1.139724850654602,
          -1.9301847219467163,
          -0.2807191014289856,
          2.4674127101898193,
          0.0922134518623352,
          -2.766062021255493,
          -0.097748301923275,
          -4.3925981521606445,
          4.34774112701416,
          -3.2249202728271484,
          -0.6143670082092285,
          -3.8613972663879395,
          3.3192663192749023,
          -0.785003662109375,
          0.39364033937454224,
          -3.8772308826446533,
          0.02753443457186222,
          0.8687165975570679,
          -1.2471708059310913,
          2.8990354537963867,
          2.7234110832214355,
          -0.12288721650838852,
          3.2523033618927,
          -1.748152494430542,
          1.927645206451416,
          -0.23399068415164948,
          3.618968963623047,
          2.40665340423584,
          -1.4927525520324707,
          3.9457356929779053,
          -1.0027235746383667,
          0.5028671026229858,
          -1.5076782703399658,
          2.6020402908325195,
          -1.394036889076233,
          3.0397682189941406,
          -1.4944498538970947,
          -0.8145012855529785,
          -2.164740800857544,
          2.3994643688201904,
          0.6629793047904968,
          -1.5098624229431152,
          -0.01802290603518486,
          -1.2865126132965088,
          2.377319812774658,
          2.7503838539123535,
          -4.820641040802002,
          -3.4997072219848633,
          -1.2808029651641846,
          -3.686361312866211,
          -0.9038748145103455,
          -0.5777803063392639,
          -0.323860228061676,
          4.395456314086914,
          3.6004462242126465,
          -0.2679021656513214,
          -2.149857759475708,
          -4.569168567657471,
          -3.0101661682128906,
          -3.523776054382324,
          -1.9406076669692993,
          3.324716567993164,
          -1.044080376625061,
          2.556650400161743,
          -3.098574638366699,
          2.6177620887756348,
          0.5663729906082153,
          -0.3357585072517395,
          -3.738360643386841,
          -0.8118342757225037,
          -1.2212053537368774,
          -3.606175661087036,
          2.824073314666748,
          -4.154601097106934,
          1.866248607635498,
          -3.9829189777374268,
          -1.7037047147750854,
          -4.6139817237854,
          0.1964796781539917,
          0.25594666600227356,
          2.3514673709869385,
          0.7566858530044556,
          0.13329125940799713,
          -0.7583147287368774,
          4.357378005981445,
          -1.4721753597259521,
          1.9046560525894165,
          5.151247024536133,
          1.7499116659164429,
          -3.5943617820739746,
          -4.1574554443359375,
          -1.6604031324386597,
          4.087829113006592,
          2.6924147605895996,
          2.2732932567596436,
          2.0477025508880615,
          -0.5512426495552063,
          0.06854835152626038,
          -3.0120649337768555,
          -2.5648913383483887,
          0.4617861211299896,
          -0.11609025299549103,
          -4.368980407714844,
          0.5521751642227173,
          1.9513871669769287,
          -0.002573613543063402,
          2.276770830154419,
          0.615942120552063,
          2.3605761528015137,
          0.06562656909227371,
          -0.10360950231552124,
          3.0976035594940186,
          -3.9989407062530518,
          -1.8915259838104248,
          -4.573370933532715,
          0.6240336298942566,
          -1.0158040523529053,
          -3.6402227878570557,
          -1.2927628755569458,
          -0.3688412606716156,
          -0.9271670579910278,
          -1.0985796451568604,
          0.14243236184120178,
          2.9176456928253174,
          1.3441212177276611,
          -2.4052107334136963,
          -0.46966272592544556,
          0.9482800364494324,
          -2.0780045986175537,
          -3.209306240081787,
          2.763963222503662,
          0.40348973870277405,
          2.631880044937134,
          -0.1788083165884018,
          -0.7818396687507629,
          0.15902751684188843,
          3.064737319946289,
          2.755655527114868,
          -1.1069279909133911,
          4.110104084014893,
          -4.300784111022949,
          3.989635467529297,
          -0.8915015459060669,
          0.18764951825141907,
          2.8118808269500732,
          1.2368806600570679,
          1.9345628023147583,
          2.3151588439941406,
          -0.4382532238960266,
          0.2746746242046356,
          0.7335354685783386,
          -2.7833142280578613,
          0.717949390411377,
          3.471151828765869,
          -0.6311399936676025,
          -2.2068896293640137,
          -0.3989447355270386,
          0.4111413061618805,
          -2.0436313152313232,
          -4.01807165145874,
          -2.0584654808044434,
          4.451294422149658,
          -2.0221915245056152,
          2.1944081783294678,
          -4.107787132263184,
          0.7432045936584473,
          3.5029640197753906,
          -1.2616328001022339,
          -1.2689337730407715,
          1.2315404415130615,
          0.721483588218689,
          -0.4996432065963745,
          -1.8308426141738892,
          -1.579574465751648,
          -0.9294089674949646,
          -0.5334888100624084,
          0.9785388112068176,
          -0.7586040496826172,
          2.9537482261657715,
          2.4249370098114014,
          -2.067279100418091,
          3.219682216644287,
          -0.5955671668052673,
          0.47706854343414307,
          2.648406744003296,
          -0.512527585029602
         ]
        },
        {
         "hovertemplate": "Dominant_Topic=Topic 4<br>0=%{x}<br>1=%{y}<br>2=%{z}<extra></extra>",
         "legendgroup": "Topic 4",
         "marker": {
          "color": "#FF6692",
          "opacity": 0.7,
          "symbol": "circle"
         },
         "mode": "markers",
         "name": "Topic 4",
         "scene": "scene",
         "showlegend": true,
         "type": "scatter3d",
         "x": [
          -7.587344646453857,
          -5.409580707550049,
          -5.685760974884033,
          -8.98532485961914,
          -5.157983779907227,
          -11.744349479675293,
          -5.367486000061035,
          -5.256531238555908,
          -5.380303382873535,
          -5.062228679656982,
          -8.741071701049805,
          -10.836430549621582,
          -5.152100563049316,
          -9.350602149963379,
          -4.6569671630859375,
          -5.757553577423096,
          -6.27463436126709,
          -6.27463436126709,
          -6.515732765197754,
          -4.823167324066162,
          -9.572135925292969,
          -6.4017438888549805,
          -8.801648139953613,
          -5.405412673950195,
          -3.7710797786712646,
          -5.627892017364502,
          -11.7170991897583,
          -8.346529006958008,
          -10.758733749389648,
          -9.723418235778809,
          -4.36674690246582,
          -6.126544952392578,
          -2.3349571228027344,
          -5.796229839324951,
          -5.419872760772705,
          -5.880913257598877,
          -8.526872634887695,
          -11.33777904510498,
          -5.000870227813721,
          -4.314217567443848,
          -10.640983581542969,
          -6.069260597229004,
          -6.684445858001709,
          -4.7454705238342285,
          -5.4963579177856445,
          -4.143092155456543,
          -4.67138671875,
          -6.439968109130859,
          -9.228411674499512,
          -4.4362263679504395,
          -6.392088890075684,
          -10.602338790893555,
          -9.487001419067383,
          -5.944871425628662,
          -4.30726957321167,
          -7.422013759613037,
          -8.171113967895508,
          -5.09321928024292,
          -7.412017345428467,
          -8.98416519165039,
          -9.189094543457031,
          -8.79007339477539,
          -11.387694358825684,
          -11.916945457458496,
          -5.680095195770264,
          -4.811227321624756,
          -12.305671691894531,
          -5.030394077301025,
          -5.568477153778076,
          -11.372298240661621,
          -11.4493989944458,
          -6.289859294891357,
          -10.158671379089355,
          -11.854931831359863,
          -4.209140300750732,
          -7.959965229034424,
          -10.345768928527832,
          -7.437189102172852,
          -4.555802345275879,
          -12.078532218933105,
          -6.892630100250244,
          -5.5936126708984375,
          -11.088631629943848,
          -3.697335720062256,
          -7.261979103088379,
          -5.607957363128662,
          -5.566792011260986,
          -6.007144927978516,
          -6.208533763885498,
          -2.737449884414673,
          -10.687361717224121,
          -8.779112815856934,
          -8.835736274719238,
          -5.675528049468994
         ],
         "y": [
          -3.216792345046997,
          -3.7275407314300537,
          -4.439940452575684,
          -2.542362928390503,
          -4.009479522705078,
          -2.0038557052612305,
          1.0861122608184814,
          -3.6062653064727783,
          -3.7617993354797363,
          -3.843210458755493,
          -2.298717737197876,
          -1.9579966068267822,
          -3.9928579330444336,
          -2.1175479888916016,
          -3.002272844314575,
          -5.343574047088623,
          -0.4110190272331238,
          -0.4110189974308014,
          -4.332523345947266,
          -1.1166930198669434,
          -2.0972163677215576,
          -3.8090555667877197,
          -3.1957786083221436,
          -4.602804660797119,
          -1.6827622652053833,
          -3.669651746749878,
          -1.6804637908935547,
          -3.444674015045166,
          -2.0067718029022217,
          -2.138763189315796,
          -0.6342825889587402,
          -3.645448923110962,
          0.20783120393753052,
          0.9911584258079529,
          -1.8141533136367798,
          -4.743993282318115,
          -2.6017556190490723,
          -1.9271245002746582,
          1.1632214784622192,
          -4.905873775482178,
          -1.8473416566848755,
          -2.9511144161224365,
          -0.5290526151657104,
          -1.1008615493774414,
          -3.0824620723724365,
          1.3343685865402222,
          -0.44781866669654846,
          -3.7116076946258545,
          -1.903428316116333,
          -3.1401848793029785,
          0.671303391456604,
          -1.6172653436660767,
          -2.4147539138793945,
          0.95796138048172,
          -0.4944535791873932,
          -3.6377274990081787,
          -2.2376725673675537,
          0.16132418811321259,
          -3.79929256439209,
          -2.935678005218506,
          -1.771675944328308,
          -3.181581974029541,
          -1.5772616863250732,
          -1.87315034866333,
          -4.0459723472595215,
          0.15510134398937225,
          -1.7758620977401733,
          -3.7269303798675537,
          1.299607753753662,
          -2.0328369140625,
          -1.5856351852416992,
          -5.111217498779297,
          -1.9976110458374023,
          -1.7092399597167969,
          -0.5383181571960449,
          -2.6900715827941895,
          -1.999552607536316,
          -3.3428876399993896,
          -0.2229791134595871,
          -1.7444957494735718,
          -3.319399833679199,
          -4.092904567718506,
          -1.9462807178497314,
          -1.7021100521087646,
          -3.5432538986206055,
          1.1084791421890259,
          -3.1581358909606934,
          -5.2257771492004395,
          -4.100893020629883,
          -3.577075958251953,
          -1.8146631717681885,
          -1.9398177862167358,
          -2.060131549835205,
          -3.9724197387695312
         ],
         "z": [
          2.7062265872955322,
          4.249182224273682,
          3.4250359535217285,
          2.9242680072784424,
          0.4024216830730438,
          3.9289116859436035,
          0.20650289952754974,
          4.116176605224609,
          4.3017659187316895,
          0.30154886841773987,
          3.239837884902954,
          3.7352659702301025,
          0.4077478349208832,
          3.820518732070923,
          0.16167129576206207,
          3.873471260070801,
          1.8445194959640503,
          1.8445194959640503,
          2.456406593322754,
          4.561694622039795,
          3.5615813732147217,
          3.109912157058716,
          2.0443382263183594,
          3.5996832847595215,
          3.1382999420166016,
          1.8226262331008911,
          4.192501068115234,
          1.7657155990600586,
          4.455646514892578,
          3.5026986598968506,
          2.3474252223968506,
          3.48329496383667,
          3.350788116455078,
          0.2912099361419678,
          3.7999956607818604,
          0.33240997791290283,
          3.334402561187744,
          4.366684913635254,
          0.3257792890071869,
          2.984130859375,
          4.637927055358887,
          3.261305332183838,
          1.9620555639266968,
          4.4627366065979,
          2.052873373031616,
          0.6871993541717529,
          2.1591923236846924,
          3.2459990978240967,
          3.421008348464966,
          -0.13353510200977325,
          0.5389466881752014,
          3.9365999698638916,
          3.1320724487304688,
          0.3197614252567291,
          1.8660882711410522,
          3.197760581970215,
          3.957853078842163,
          1.324998378753662,
          2.4000821113586426,
          2.4154212474823,
          3.3940536975860596,
          2.076674461364746,
          3.9063363075256348,
          3.9415769577026367,
          4.189901828765869,
          0.5308850407600403,
          4.161437034606934,
          0.6134233474731445,
          0.09860687702894211,
          3.9316580295562744,
          3.9090442657470703,
          -0.07898819446563721,
          3.656245231628418,
          3.903831720352173,
          1.7021527290344238,
          3.75584077835083,
          3.710122585296631,
          4.224974155426025,
          1.6033415794372559,
          4.058924674987793,
          2.2031826972961426,
          2.357492208480835,
          3.745291233062744,
          2.882608652114868,
          2.999013900756836,
          0.23977476358413696,
          2.1661622524261475,
          3.896693706512451,
          4.140556812286377,
          -0.4365589916706085,
          3.899245262145996,
          3.555968999862671,
          3.85565447807312,
          2.1350996494293213
         ]
        },
        {
         "hovertemplate": "Dominant_Topic=Topic 5<br>0=%{x}<br>1=%{y}<br>2=%{z}<extra></extra>",
         "legendgroup": "Topic 5",
         "marker": {
          "color": "#B6E880",
          "opacity": 0.7,
          "symbol": "circle"
         },
         "mode": "markers",
         "name": "Topic 5",
         "scene": "scene",
         "showlegend": true,
         "type": "scatter3d",
         "x": [
          0.4523773789405823,
          3.190218448638916,
          3.567357301712036,
          2.8350119590759277,
          3.007789134979248,
          3.7246603965759277,
          2.807936668395996,
          2.6367061138153076,
          3.0325825214385986,
          2.848409414291382,
          2.8123862743377686,
          3.229586124420166,
          0.5270171761512756,
          0.1502757966518402,
          3.10158371925354,
          3.6982014179229736,
          2.8310182094573975,
          3.1683189868927,
          2.988431215286255,
          2.9211783409118652,
          3.1044013500213623,
          2.7837603092193604,
          2.235637664794922,
          2.857753038406372,
          2.999131441116333,
          3.857231378555298,
          3.20810604095459,
          2.7364954948425293,
          3.2160723209381104
         ],
         "y": [
          -1.9230802059173584,
          -10.103144645690918,
          -6.9226508140563965,
          -10.19352912902832,
          -9.095995903015137,
          -6.914547443389893,
          -9.620832443237305,
          -9.556146621704102,
          -9.509820938110352,
          -10.24782657623291,
          -9.470854759216309,
          -6.963894844055176,
          -5.990684986114502,
          -5.592156887054443,
          -10.408039093017578,
          -6.892096042633057,
          -8.827498435974121,
          -9.592602729797363,
          -9.704846382141113,
          -9.035388946533203,
          -10.317144393920898,
          -9.050797462463379,
          -9.75440788269043,
          -9.776819229125977,
          -10.09913444519043,
          -6.926971435546875,
          -10.727432250976562,
          -9.343086242675781,
          -9.684117317199707
         ],
         "z": [
          8.021221160888672,
          5.259827136993408,
          2.813281774520874,
          5.176959037780762,
          4.464003086090088,
          2.7720999717712402,
          5.354609489440918,
          4.759441375732422,
          4.766715049743652,
          5.225486755371094,
          4.702581882476807,
          2.924988269805908,
          2.5499603748321533,
          1.7042616605758667,
          5.6375274658203125,
          2.760160207748413,
          4.453881740570068,
          5.000892162322998,
          4.706848621368408,
          4.478929042816162,
          5.600002765655518,
          4.762595176696777,
          5.01748514175415,
          5.466706275939941,
          4.900177478790283,
          2.754683494567871,
          5.885898113250732,
          5.284751892089844,
          5.141957759857178
         ]
        },
        {
         "hovertemplate": "Dominant_Topic=Topic 6<br>0=%{x}<br>1=%{y}<br>2=%{z}<extra></extra>",
         "legendgroup": "Topic 6",
         "marker": {
          "color": "#FF97FF",
          "opacity": 0.7,
          "symbol": "circle"
         },
         "mode": "markers",
         "name": "Topic 6",
         "scene": "scene",
         "showlegend": true,
         "type": "scatter3d",
         "x": [
          0.6291579604148865,
          0.6310344934463501,
          0.6327548623085022,
          0.629048228263855,
          0.6285673379898071,
          0.6293043494224548
         ],
         "y": [
          -0.14989131689071655,
          -0.15200257301330566,
          -0.15275798738002777,
          -0.14812740683555603,
          -0.15023016929626465,
          -0.1494404524564743
         ],
         "z": [
          -3.8394007682800293,
          -3.8399224281311035,
          -3.8402721881866455,
          -3.838531255722046,
          -3.839431047439575,
          -3.8393149375915527
         ]
        },
        {
         "hovertemplate": "Dominant_Topic=Topic 7<br>0=%{x}<br>1=%{y}<br>2=%{z}<extra></extra>",
         "legendgroup": "Topic 7",
         "marker": {
          "color": "#FECB52",
          "opacity": 0.7,
          "symbol": "circle"
         },
         "mode": "markers",
         "name": "Topic 7",
         "scene": "scene",
         "showlegend": true,
         "type": "scatter3d",
         "x": [
          8.292254447937012,
          8.176267623901367,
          8.17566204071045,
          8.279895782470703,
          7.8854546546936035,
          8.495759963989258,
          8.49875545501709,
          8.143054962158203,
          8.222000122070312,
          7.856020927429199,
          8.173101425170898,
          9.27578353881836,
          7.909235000610352,
          9.312966346740723,
          8.406240463256836,
          8.364550590515137,
          7.570744037628174,
          8.074455261230469,
          7.83463716506958,
          8.167763710021973,
          8.486284255981445,
          8.463601112365723
         ],
         "y": [
          -3.8471672534942627,
          -4.995256423950195,
          -4.9962029457092285,
          -3.8116838932037354,
          -2.9010181427001953,
          -4.487363815307617,
          -4.451348304748535,
          -5.053496360778809,
          -4.919155120849609,
          -2.909334182739258,
          -3.728168487548828,
          -4.6878790855407715,
          -2.9948160648345947,
          -4.764623165130615,
          -4.61348295211792,
          -3.9196698665618896,
          -2.50618314743042,
          -3.3415396213531494,
          -1.8371360301971436,
          -5.009796619415283,
          -4.01990270614624,
          -4.510861873626709
         ],
         "z": [
          -4.593685626983643,
          -7.61509895324707,
          -7.617056369781494,
          -4.728798866271973,
          -5.4937744140625,
          -6.540177345275879,
          -6.483452320098877,
          -7.725116729736328,
          -7.4663801193237305,
          -5.585066318511963,
          -4.51497745513916,
          -5.004622936248779,
          -5.522307395935059,
          -5.211887359619141,
          -6.884760856628418,
          -5.95305871963501,
          -5.800668239593506,
          -5.615975856781006,
          -5.35093355178833,
          -7.643378734588623,
          -4.685729503631592,
          -6.631551742553711
         ]
        },
        {
         "hovertemplate": "Dominant_Topic=Topic 8<br>0=%{x}<br>1=%{y}<br>2=%{z}<extra></extra>",
         "legendgroup": "Topic 8",
         "marker": {
          "color": "#636efa",
          "opacity": 0.7,
          "symbol": "circle"
         },
         "mode": "markers",
         "name": "Topic 8",
         "scene": "scene",
         "showlegend": true,
         "type": "scatter3d",
         "x": [
          -8.335175514221191,
          -8.692670822143555,
          -8.693881034851074
         ],
         "y": [
          7.952452182769775,
          7.217087745666504,
          7.2155022621154785
         ],
         "z": [
          -3.5529932975769043,
          -3.3423447608947754,
          -3.341968536376953
         ]
        },
        {
         "hovertemplate": "Dominant_Topic=Topic 9<br>0=%{x}<br>1=%{y}<br>2=%{z}<extra></extra>",
         "legendgroup": "Topic 9",
         "marker": {
          "color": "#EF553B",
          "opacity": 0.7,
          "symbol": "circle"
         },
         "mode": "markers",
         "name": "Topic 9",
         "scene": "scene",
         "showlegend": true,
         "type": "scatter3d",
         "x": [
          7.849208831787109,
          8.865798950195312
         ],
         "y": [
          -1.0469796657562256,
          3.973982572555542
         ],
         "z": [
          -5.150746822357178,
          1.2435773611068726
         ]
        }
       ],
       "layout": {
        "height": 800,
        "legend": {
         "title": {
          "text": "Dominant_Topic"
         },
         "tracegroupgap": 0
        },
        "scene": {
         "domain": {
          "x": [
           0,
           1
          ],
          "y": [
           0,
           1
          ]
         },
         "xaxis": {
          "title": {
           "text": "0"
          }
         },
         "yaxis": {
          "title": {
           "text": "1"
          }
         },
         "zaxis": {
          "title": {
           "text": "2"
          }
         }
        },
        "template": {
         "data": {
          "bar": [
           {
            "error_x": {
             "color": "#2a3f5f"
            },
            "error_y": {
             "color": "#2a3f5f"
            },
            "marker": {
             "line": {
              "color": "#E5ECF6",
              "width": 0.5
             }
            },
            "type": "bar"
           }
          ],
          "barpolar": [
           {
            "marker": {
             "line": {
              "color": "#E5ECF6",
              "width": 0.5
             }
            },
            "type": "barpolar"
           }
          ],
          "carpet": [
           {
            "aaxis": {
             "endlinecolor": "#2a3f5f",
             "gridcolor": "white",
             "linecolor": "white",
             "minorgridcolor": "white",
             "startlinecolor": "#2a3f5f"
            },
            "baxis": {
             "endlinecolor": "#2a3f5f",
             "gridcolor": "white",
             "linecolor": "white",
             "minorgridcolor": "white",
             "startlinecolor": "#2a3f5f"
            },
            "type": "carpet"
           }
          ],
          "choropleth": [
           {
            "colorbar": {
             "outlinewidth": 0,
             "ticks": ""
            },
            "type": "choropleth"
           }
          ],
          "contour": [
           {
            "colorbar": {
             "outlinewidth": 0,
             "ticks": ""
            },
            "colorscale": [
             [
              0,
              "#0d0887"
             ],
             [
              0.1111111111111111,
              "#46039f"
             ],
             [
              0.2222222222222222,
              "#7201a8"
             ],
             [
              0.3333333333333333,
              "#9c179e"
             ],
             [
              0.4444444444444444,
              "#bd3786"
             ],
             [
              0.5555555555555556,
              "#d8576b"
             ],
             [
              0.6666666666666666,
              "#ed7953"
             ],
             [
              0.7777777777777778,
              "#fb9f3a"
             ],
             [
              0.8888888888888888,
              "#fdca26"
             ],
             [
              1,
              "#f0f921"
             ]
            ],
            "type": "contour"
           }
          ],
          "contourcarpet": [
           {
            "colorbar": {
             "outlinewidth": 0,
             "ticks": ""
            },
            "type": "contourcarpet"
           }
          ],
          "heatmap": [
           {
            "colorbar": {
             "outlinewidth": 0,
             "ticks": ""
            },
            "colorscale": [
             [
              0,
              "#0d0887"
             ],
             [
              0.1111111111111111,
              "#46039f"
             ],
             [
              0.2222222222222222,
              "#7201a8"
             ],
             [
              0.3333333333333333,
              "#9c179e"
             ],
             [
              0.4444444444444444,
              "#bd3786"
             ],
             [
              0.5555555555555556,
              "#d8576b"
             ],
             [
              0.6666666666666666,
              "#ed7953"
             ],
             [
              0.7777777777777778,
              "#fb9f3a"
             ],
             [
              0.8888888888888888,
              "#fdca26"
             ],
             [
              1,
              "#f0f921"
             ]
            ],
            "type": "heatmap"
           }
          ],
          "heatmapgl": [
           {
            "colorbar": {
             "outlinewidth": 0,
             "ticks": ""
            },
            "colorscale": [
             [
              0,
              "#0d0887"
             ],
             [
              0.1111111111111111,
              "#46039f"
             ],
             [
              0.2222222222222222,
              "#7201a8"
             ],
             [
              0.3333333333333333,
              "#9c179e"
             ],
             [
              0.4444444444444444,
              "#bd3786"
             ],
             [
              0.5555555555555556,
              "#d8576b"
             ],
             [
              0.6666666666666666,
              "#ed7953"
             ],
             [
              0.7777777777777778,
              "#fb9f3a"
             ],
             [
              0.8888888888888888,
              "#fdca26"
             ],
             [
              1,
              "#f0f921"
             ]
            ],
            "type": "heatmapgl"
           }
          ],
          "histogram": [
           {
            "marker": {
             "colorbar": {
              "outlinewidth": 0,
              "ticks": ""
             }
            },
            "type": "histogram"
           }
          ],
          "histogram2d": [
           {
            "colorbar": {
             "outlinewidth": 0,
             "ticks": ""
            },
            "colorscale": [
             [
              0,
              "#0d0887"
             ],
             [
              0.1111111111111111,
              "#46039f"
             ],
             [
              0.2222222222222222,
              "#7201a8"
             ],
             [
              0.3333333333333333,
              "#9c179e"
             ],
             [
              0.4444444444444444,
              "#bd3786"
             ],
             [
              0.5555555555555556,
              "#d8576b"
             ],
             [
              0.6666666666666666,
              "#ed7953"
             ],
             [
              0.7777777777777778,
              "#fb9f3a"
             ],
             [
              0.8888888888888888,
              "#fdca26"
             ],
             [
              1,
              "#f0f921"
             ]
            ],
            "type": "histogram2d"
           }
          ],
          "histogram2dcontour": [
           {
            "colorbar": {
             "outlinewidth": 0,
             "ticks": ""
            },
            "colorscale": [
             [
              0,
              "#0d0887"
             ],
             [
              0.1111111111111111,
              "#46039f"
             ],
             [
              0.2222222222222222,
              "#7201a8"
             ],
             [
              0.3333333333333333,
              "#9c179e"
             ],
             [
              0.4444444444444444,
              "#bd3786"
             ],
             [
              0.5555555555555556,
              "#d8576b"
             ],
             [
              0.6666666666666666,
              "#ed7953"
             ],
             [
              0.7777777777777778,
              "#fb9f3a"
             ],
             [
              0.8888888888888888,
              "#fdca26"
             ],
             [
              1,
              "#f0f921"
             ]
            ],
            "type": "histogram2dcontour"
           }
          ],
          "mesh3d": [
           {
            "colorbar": {
             "outlinewidth": 0,
             "ticks": ""
            },
            "type": "mesh3d"
           }
          ],
          "parcoords": [
           {
            "line": {
             "colorbar": {
              "outlinewidth": 0,
              "ticks": ""
             }
            },
            "type": "parcoords"
           }
          ],
          "pie": [
           {
            "automargin": true,
            "type": "pie"
           }
          ],
          "scatter": [
           {
            "marker": {
             "colorbar": {
              "outlinewidth": 0,
              "ticks": ""
             }
            },
            "type": "scatter"
           }
          ],
          "scatter3d": [
           {
            "line": {
             "colorbar": {
              "outlinewidth": 0,
              "ticks": ""
             }
            },
            "marker": {
             "colorbar": {
              "outlinewidth": 0,
              "ticks": ""
             }
            },
            "type": "scatter3d"
           }
          ],
          "scattercarpet": [
           {
            "marker": {
             "colorbar": {
              "outlinewidth": 0,
              "ticks": ""
             }
            },
            "type": "scattercarpet"
           }
          ],
          "scattergeo": [
           {
            "marker": {
             "colorbar": {
              "outlinewidth": 0,
              "ticks": ""
             }
            },
            "type": "scattergeo"
           }
          ],
          "scattergl": [
           {
            "marker": {
             "colorbar": {
              "outlinewidth": 0,
              "ticks": ""
             }
            },
            "type": "scattergl"
           }
          ],
          "scattermapbox": [
           {
            "marker": {
             "colorbar": {
              "outlinewidth": 0,
              "ticks": ""
             }
            },
            "type": "scattermapbox"
           }
          ],
          "scatterpolar": [
           {
            "marker": {
             "colorbar": {
              "outlinewidth": 0,
              "ticks": ""
             }
            },
            "type": "scatterpolar"
           }
          ],
          "scatterpolargl": [
           {
            "marker": {
             "colorbar": {
              "outlinewidth": 0,
              "ticks": ""
             }
            },
            "type": "scatterpolargl"
           }
          ],
          "scatterternary": [
           {
            "marker": {
             "colorbar": {
              "outlinewidth": 0,
              "ticks": ""
             }
            },
            "type": "scatterternary"
           }
          ],
          "surface": [
           {
            "colorbar": {
             "outlinewidth": 0,
             "ticks": ""
            },
            "colorscale": [
             [
              0,
              "#0d0887"
             ],
             [
              0.1111111111111111,
              "#46039f"
             ],
             [
              0.2222222222222222,
              "#7201a8"
             ],
             [
              0.3333333333333333,
              "#9c179e"
             ],
             [
              0.4444444444444444,
              "#bd3786"
             ],
             [
              0.5555555555555556,
              "#d8576b"
             ],
             [
              0.6666666666666666,
              "#ed7953"
             ],
             [
              0.7777777777777778,
              "#fb9f3a"
             ],
             [
              0.8888888888888888,
              "#fdca26"
             ],
             [
              1,
              "#f0f921"
             ]
            ],
            "type": "surface"
           }
          ],
          "table": [
           {
            "cells": {
             "fill": {
              "color": "#EBF0F8"
             },
             "line": {
              "color": "white"
             }
            },
            "header": {
             "fill": {
              "color": "#C8D4E3"
             },
             "line": {
              "color": "white"
             }
            },
            "type": "table"
           }
          ]
         },
         "layout": {
          "annotationdefaults": {
           "arrowcolor": "#2a3f5f",
           "arrowhead": 0,
           "arrowwidth": 1
          },
          "autotypenumbers": "strict",
          "coloraxis": {
           "colorbar": {
            "outlinewidth": 0,
            "ticks": ""
           }
          },
          "colorscale": {
           "diverging": [
            [
             0,
             "#8e0152"
            ],
            [
             0.1,
             "#c51b7d"
            ],
            [
             0.2,
             "#de77ae"
            ],
            [
             0.3,
             "#f1b6da"
            ],
            [
             0.4,
             "#fde0ef"
            ],
            [
             0.5,
             "#f7f7f7"
            ],
            [
             0.6,
             "#e6f5d0"
            ],
            [
             0.7,
             "#b8e186"
            ],
            [
             0.8,
             "#7fbc41"
            ],
            [
             0.9,
             "#4d9221"
            ],
            [
             1,
             "#276419"
            ]
           ],
           "sequential": [
            [
             0,
             "#0d0887"
            ],
            [
             0.1111111111111111,
             "#46039f"
            ],
            [
             0.2222222222222222,
             "#7201a8"
            ],
            [
             0.3333333333333333,
             "#9c179e"
            ],
            [
             0.4444444444444444,
             "#bd3786"
            ],
            [
             0.5555555555555556,
             "#d8576b"
            ],
            [
             0.6666666666666666,
             "#ed7953"
            ],
            [
             0.7777777777777778,
             "#fb9f3a"
            ],
            [
             0.8888888888888888,
             "#fdca26"
            ],
            [
             1,
             "#f0f921"
            ]
           ],
           "sequentialminus": [
            [
             0,
             "#0d0887"
            ],
            [
             0.1111111111111111,
             "#46039f"
            ],
            [
             0.2222222222222222,
             "#7201a8"
            ],
            [
             0.3333333333333333,
             "#9c179e"
            ],
            [
             0.4444444444444444,
             "#bd3786"
            ],
            [
             0.5555555555555556,
             "#d8576b"
            ],
            [
             0.6666666666666666,
             "#ed7953"
            ],
            [
             0.7777777777777778,
             "#fb9f3a"
            ],
            [
             0.8888888888888888,
             "#fdca26"
            ],
            [
             1,
             "#f0f921"
            ]
           ]
          },
          "colorway": [
           "#636efa",
           "#EF553B",
           "#00cc96",
           "#ab63fa",
           "#FFA15A",
           "#19d3f3",
           "#FF6692",
           "#B6E880",
           "#FF97FF",
           "#FECB52"
          ],
          "font": {
           "color": "#2a3f5f"
          },
          "geo": {
           "bgcolor": "white",
           "lakecolor": "white",
           "landcolor": "#E5ECF6",
           "showlakes": true,
           "showland": true,
           "subunitcolor": "white"
          },
          "hoverlabel": {
           "align": "left"
          },
          "hovermode": "closest",
          "mapbox": {
           "style": "light"
          },
          "paper_bgcolor": "white",
          "plot_bgcolor": "#E5ECF6",
          "polar": {
           "angularaxis": {
            "gridcolor": "white",
            "linecolor": "white",
            "ticks": ""
           },
           "bgcolor": "#E5ECF6",
           "radialaxis": {
            "gridcolor": "white",
            "linecolor": "white",
            "ticks": ""
           }
          },
          "scene": {
           "xaxis": {
            "backgroundcolor": "#E5ECF6",
            "gridcolor": "white",
            "gridwidth": 2,
            "linecolor": "white",
            "showbackground": true,
            "ticks": "",
            "zerolinecolor": "white"
           },
           "yaxis": {
            "backgroundcolor": "#E5ECF6",
            "gridcolor": "white",
            "gridwidth": 2,
            "linecolor": "white",
            "showbackground": true,
            "ticks": "",
            "zerolinecolor": "white"
           },
           "zaxis": {
            "backgroundcolor": "#E5ECF6",
            "gridcolor": "white",
            "gridwidth": 2,
            "linecolor": "white",
            "showbackground": true,
            "ticks": "",
            "zerolinecolor": "white"
           }
          },
          "shapedefaults": {
           "line": {
            "color": "#2a3f5f"
           }
          },
          "ternary": {
           "aaxis": {
            "gridcolor": "white",
            "linecolor": "white",
            "ticks": ""
           },
           "baxis": {
            "gridcolor": "white",
            "linecolor": "white",
            "ticks": ""
           },
           "bgcolor": "#E5ECF6",
           "caxis": {
            "gridcolor": "white",
            "linecolor": "white",
            "ticks": ""
           }
          },
          "title": {
           "x": 0.05
          },
          "xaxis": {
           "automargin": true,
           "gridcolor": "white",
           "linecolor": "white",
           "ticks": "",
           "title": {
            "standoff": 15
           },
           "zerolinecolor": "white",
           "zerolinewidth": 2
          },
          "yaxis": {
           "automargin": true,
           "gridcolor": "white",
           "linecolor": "white",
           "ticks": "",
           "title": {
            "standoff": 15
           },
           "zerolinecolor": "white",
           "zerolinewidth": 2
          }
         }
        },
        "title": {
         "text": "3d TSNE Plot for Topic Model"
        },
        "width": 900
       }
      },
      "text/html": [
       "<div>                            <div id=\"f1c769ba-e444-40d1-8e1b-ef610efef25c\" class=\"plotly-graph-div\" style=\"height:800px; width:900px;\"></div>            <script type=\"text/javascript\">                require([\"plotly\"], function(Plotly) {                    window.PLOTLYENV=window.PLOTLYENV || {};                                    if (document.getElementById(\"f1c769ba-e444-40d1-8e1b-ef610efef25c\")) {                    Plotly.newPlot(                        \"f1c769ba-e444-40d1-8e1b-ef610efef25c\",                        [{\"hovertemplate\": \"Dominant_Topic=Topic 0<br>0=%{x}<br>1=%{y}<br>2=%{z}<extra></extra>\", \"legendgroup\": \"Topic 0\", \"marker\": {\"color\": \"#636efa\", \"opacity\": 0.7, \"symbol\": \"circle\"}, \"mode\": \"markers\", \"name\": \"Topic 0\", \"scene\": \"scene\", \"showlegend\": true, \"type\": \"scatter3d\", \"x\": [6.629674434661865, 4.09143590927124, 5.107908248901367, -5.979319095611572, -0.6585417985916138, -4.293842792510986, -0.43758532404899597, -1.3736642599105835, -0.3568360209465027, -3.940969467163086, -2.5488009452819824, -7.483358860015869, -3.3502447605133057, -2.9265425205230713, -0.39684975147247314, 3.5851197242736816, -0.8302745819091797, -1.1015764474868774, -2.0942537784576416, -0.2476138472557068, -4.919934272766113, 0.4516947269439697, -1.01763916015625, -2.364927291870117, -1.2520835399627686, -4.367860794067383, 0.6450687646865845, -0.44043073058128357, -1.1407994031906128, -1.071475625038147, -4.522968292236328, -2.4733164310455322, -7.029392242431641, -4.699148178100586, -0.9766324758529663, -4.371485710144043, -3.990844249725342, -0.15756520628929138, -0.32772156596183777, 3.7636961936950684, 4.20640754699707, -2.5587081909179688, 6.821467399597168, 2.2348599433898926, 6.182580471038818, -2.455188751220703, 0.11690004169940948, 2.1752161979675293, -3.1384525299072266, -2.7631936073303223, 3.6301398277282715, -1.586190938949585, -1.216558575630188, -0.8845856785774231, -2.1714112758636475, -5.771217346191406, 7.067556858062744, 6.052803993225098, 4.022393226623535, -3.232228994369507, 3.1817784309387207, 0.983471691608429, -2.4364101886749268, -4.273472309112549, -0.5553799271583557, -0.3595734238624573, -4.224951267242432, -2.7091267108917236, -3.4765775203704834, -0.8466756343841553, -4.450107097625732, -1.4346665143966675, 6.095708847045898, -4.656064510345459, 0.03577045723795891, -0.30782079696655273, -1.945568561553955, -4.265100002288818, -4.846238136291504, -1.9674787521362305, -6.455705165863037, 0.3570013642311096, -0.9131839275360107, -1.395734190940857, -3.6434578895568848, -6.995811462402344, -2.1314916610717773, -4.81707239151001, -2.805229663848877, 1.0430305004119873, -1.121103048324585, 5.702886581420898, -4.177457809448242, -1.091643214225769, -0.9407967925071716, -3.404986619949341, -2.854408025741577, -4.2072529792785645, 5.902763366699219, -5.739194393157959, -3.9423341751098633, -0.8663975596427917, -3.5990922451019287, 1.8905150890350342, -5.26699686050415, -6.204514980316162, 6.704563140869141, 0.10571357607841492, 5.973067283630371, 3.3136086463928223, -3.1455836296081543, -0.40483465790748596, -3.5732500553131104, -0.8952509760856628, -3.6326792240142822, -2.3191943168640137, 3.7877273559570312, -2.524196147918701, -0.34578102827072144, -0.8925806283950806, -1.3116779327392578, -1.6777390241622925, 1.87730073928833, 2.7180824279785156, 0.22437961399555206, -3.9322762489318848, -3.8081352710723877, 2.690831422805786, -3.154680013656616, -2.476365327835083, -1.4578509330749512, 5.464362144470215, 1.7610448598861694, -2.971007823944092, -4.361743927001953, 2.446910858154297, 3.5804781913757324, -0.22111237049102783, -1.8364285230636597, -4.673853874206543, -0.3663947880268097, -1.6777219772338867, -0.43811744451522827, 3.625884532928467, -0.36719104647636414, -3.75887131690979, 2.716374635696411, 3.9703969955444336, 3.1854007244110107, -5.314083099365234, -2.9212393760681152, 4.032177925109863, 3.7254092693328857, -6.063408374786377, -2.253927707672119, -0.4257529675960541, -4.269094467163086, -4.780553817749023, 0.14169646799564362, -1.4977960586547852, 1.7565288543701172, -7.273390769958496, -1.3602396249771118, -0.7198601365089417, 3.2029621601104736, -0.7094630002975464, -0.15430714190006256, -2.1307029724121094, -4.026453971862793, -2.9112281799316406, -1.239554524421692, -2.5675344467163086, 3.2612388134002686, 0.11042335629463196, -2.9121689796447754, -3.6880106925964355, -3.338491201400757, -3.5489628314971924, -3.922170639038086, -4.893542766571045, 5.709624290466309, -0.8466762900352478, 7.252165794372559, 3.350780725479126, -5.270268440246582, -2.4827208518981934, -4.497843265533447, -2.2134480476379395, 2.580190896987915, -1.258162021636963, -3.922166585922241, -2.679309606552124, -3.8126490116119385, -1.3448466062545776, 4.133780002593994, 3.137239933013916, -6.922270774841309, 0.47980567812919617, -0.7962392568588257, -0.3922281563282013, -4.497942924499512, 3.6729540824890137, 2.868863821029663, -4.357916831970215, -2.2670483589172363, -3.445460557937622, 6.797408580780029, -1.2374696731567383, 3.07120943069458, 2.3411362171173096, -4.443851947784424, 3.5736634731292725, -4.987227916717529, -1.0084415674209595, -0.5213416814804077, -4.401788234710693, -1.7148501873016357, -1.9051313400268555, 4.05953311920166, 6.58287239074707, -1.2687543630599976, 2.688580274581909, -4.621469974517822, -3.051316499710083, 1.7202554941177368, -0.7617721557617188, -0.1518789678812027, -2.950343370437622, -5.05866003036499, 6.570911407470703, -0.9319519400596619, -2.473604440689087, -1.1276328563690186, 3.29805588722229, -0.5713657736778259, 6.064377784729004, 6.574602127075195, -0.8856931924819946, -0.43565696477890015, 6.067447185516357, -5.2335734367370605, -1.0618844032287598, -3.6483476161956787, -4.315370082855225, -0.3802177309989929, -0.6580348610877991, -5.292144298553467, 2.653956413269043, -1.4369075298309326, -1.1789705753326416, -6.4172444343566895, -4.509029865264893, -6.780941009521484, 2.5875368118286133, -4.116393566131592, 2.5888144969940186, -1.4160559177398682, -5.629355430603027, -0.39011287689208984, 2.699388027191162, -0.9390116333961487, -1.9087847471237183, -2.0213117599487305, 3.7803354263305664, -0.2266736477613449, -0.14790649712085724, -3.3787636756896973], \"y\": [3.1489264965057373, 5.548806190490723, 4.163859844207764, 7.451414585113525, 3.167360305786133, 13.911665916442871, 4.562486171722412, 4.326101779937744, 4.611930847167969, 2.7045445442199707, 4.287031650543213, 9.014662742614746, 13.210906982421875, 4.316957473754883, 11.182233810424805, 5.42410945892334, 9.645352363586426, 10.852980613708496, 12.78393268585205, 4.160804748535156, 2.0603699684143066, 6.982394218444824, 9.555400848388672, 8.801020622253418, 10.10598373413086, 13.87751293182373, 5.003724098205566, 7.507608890533447, 7.977210521697998, 11.159581184387207, 7.642167091369629, 2.4254190921783447, 9.357254981994629, 7.954765796661377, 6.129962921142578, 4.2947678565979, 9.006814002990723, 3.1644136905670166, 3.737351179122925, 7.329033851623535, 6.318210601806641, 6.028437614440918, 2.910675287246704, 6.998068809509277, 3.9128482341766357, 12.964858055114746, 2.5868029594421387, 6.4016032218933105, 8.246110916137695, 7.224930286407471, 5.583127021789551, 6.253288269042969, 3.8420181274414062, 7.022123336791992, 5.27388858795166, 11.143608093261719, 2.7286224365234375, 3.185070753097534, 2.702786445617676, 13.41025161743164, 7.734429359436035, 4.75846004486084, 9.255999565124512, 10.447806358337402, 8.603853225708008, 8.090721130371094, 12.708066940307617, 13.513758659362793, 3.6138148307800293, 7.03059196472168, 12.710375785827637, 3.811957597732544, 4.4964447021484375, 12.271906852722168, 11.138809204101562, 8.212453842163086, 12.547293663024902, 10.9380521774292, 2.0407612323760986, 12.571718215942383, 10.339634895324707, 3.390989303588867, 6.140205383300781, 11.065961837768555, 2.581954002380371, 9.489886283874512, 5.22824764251709, 6.3380537033081055, 2.5434818267822266, 4.957775592803955, 5.433405876159668, 4.29865026473999, 7.7133989334106445, 8.041637420654297, 10.526243209838867, 3.908893346786499, 5.959120750427246, 14.330814361572266, 4.062911510467529, 10.39936351776123, 3.5006251335144043, 8.472929954528809, 7.610188961029053, 6.57806921005249, 11.236227989196777, 8.733949661254883, 4.6320319175720215, 6.208071708679199, 4.066728115081787, 8.073263168334961, 7.541948318481445, 7.875981330871582, 13.615161895751953, 9.475275993347168, 9.224287986755371, 10.71509838104248, 2.9325644969940186, 13.356460571289062, 7.331988334655762, 7.251700401306152, 11.075355529785156, 12.086742401123047, 5.216306686401367, 6.260917663574219, 5.0810346603393555, 4.808294773101807, 12.488372802734375, 6.0905890464782715, 7.291759014129639, 13.363210678100586, 11.745285987854004, 4.692410945892334, 5.225317478179932, 8.106837272644043, 13.918349266052246, 8.931604385375977, 3.163912057876587, 7.313472270965576, 12.348645210266113, 2.490884304046631, 4.250816822052002, 6.516167640686035, 4.565793037414551, 2.9889204502105713, 5.17559289932251, 3.939532995223999, 6.2613630294799805, 6.787756443023682, 7.963188171386719, 10.866311073303223, 4.800060749053955, 5.095545768737793, 6.879032135009766, 10.700043678283691, 12.805761337280273, 4.530758857727051, 13.90827751159668, 13.797856330871582, 3.3763983249664307, 9.743133544921875, 6.344860076904297, 9.355177879333496, 8.844954490661621, 6.08392858505249, 6.7114176750183105, 7.425235748291016, 7.461771011352539, 6.827908039093018, 6.154869079589844, 7.7501983642578125, 9.246769905090332, 5.812279224395752, 7.321099281311035, 3.882211685180664, 8.986238479614258, 9.605193138122559, 4.978668212890625, 10.244552612304688, 8.713884353637695, 8.564157485961914, 4.502089977264404, 7.786886215209961, -2.196129083633423, 6.940532207489014, 11.24040699005127, 13.361435890197754, 2.517868757247925, 9.451414108276367, 5.927167892456055, 10.180641174316406, 8.713933944702148, 4.152523994445801, 3.6615333557128906, 11.993409156799316, 4.7939324378967285, 8.933357238769531, 9.41083812713623, 3.050541639328003, 6.618295192718506, 7.805962085723877, 13.91223430633545, 6.928842067718506, 6.761955261230469, 12.179422378540039, 12.841521263122559, 10.109668731689453, 3.9067418575286865, 11.263054847717285, 6.795965194702148, 6.271495342254639, 2.5110023021698, 6.964644908905029, 11.345101356506348, 11.047292709350586, 12.830556869506836, 6.56205940246582, 12.109430313110352, 7.216328144073486, 4.924127101898193, 3.4366250038146973, 11.369810104370117, 6.126072883605957, 13.892576217651367, 12.474793434143066, 6.893354892730713, 8.406699180603027, 4.7737956047058105, 13.266398429870605, 13.802764892578125, 3.5300872325897217, 10.014610290527344, 5.558586120605469, 7.126256942749023, 5.491482257843018, 9.753764152526855, 3.959529399871826, 3.5485024452209473, 6.764311790466309, 6.926274299621582, 3.9256529808044434, 11.36274528503418, 7.0947265625, 10.10690689086914, 8.482518196105957, 6.98665714263916, 7.603044509887695, 13.013262748718262, 7.10381555557251, 12.387348175048828, 9.716991424560547, 9.02188491821289, 2.999755859375, 9.443009376525879, 3.765728712081909, 2.6781466007232666, 8.822160720825195, 11.639649391174316, 9.573336601257324, 4.456997871398926, 6.851548194885254, 7.3439764976501465, 12.507768630981445, 12.559879302978516, 6.953075408935547, 13.162583351135254, 3.787867784500122, 5.898280620574951], \"z\": [-1.5681953430175781, -2.634474754333496, -0.6483616828918457, -2.7550957202911377, 0.19036704301834106, -4.951922416687012, -4.001115322113037, -0.9470653533935547, 0.45085105299949646, -0.5518620014190674, -0.3546968698501587, -3.707991600036621, -4.13178014755249, -1.1902544498443604, -3.920757293701172, -3.702413558959961, -3.1773593425750732, -3.2737233638763428, -4.309940814971924, -0.32605043053627014, -0.23782974481582642, -2.60577654838562, -2.5650460720062256, -3.877264976501465, -1.8235971927642822, -4.9240946769714355, -0.2819919288158417, 0.3203003406524658, -3.904520034790039, -3.195551872253418, -2.974421501159668, -1.1129176616668701, -3.7245867252349854, -3.396045446395874, -2.5509748458862305, -1.035862684249878, -0.9964298605918884, -0.4915006458759308, -0.22984911501407623, -2.3315610885620117, -3.0623281002044678, -1.17410147190094, -1.792769432067871, -3.080382823944092, -1.5367664098739624, -4.005733489990234, 3.021214723587036, 1.1117359399795532, -3.028480052947998, -2.7263076305389404, -2.6149446964263916, -2.352853775024414, -0.6099627614021301, -2.4909017086029053, 1.175897240638733, -3.7444210052490234, -1.8360384702682495, -0.5002346038818359, 1.9891884326934814, -4.25849723815918, -3.374335289001465, 3.024320125579834, -1.532341718673706, -3.1448285579681396, 1.1418023109436035, -1.4469654560089111, -2.743892192840576, -4.890771865844727, -0.9483757019042969, -2.4329254627227783, -2.4172842502593994, -0.6596287488937378, -0.2914487421512604, -2.779571294784546, -2.751558303833008, 1.611196756362915, -3.451390266418457, -3.249441146850586, -0.3503172695636749, -3.4636354446411133, -3.8027455806732178, 2.0433671474456787, -2.2665576934814453, -1.8904937505722046, -0.18246857821941376, -3.7454476356506348, 1.237161636352539, -2.160874843597412, -1.012623906135559, -1.7142740488052368, -1.5865185260772705, -2.685616970062256, -2.8798844814300537, -0.5580728054046631, -3.160219669342041, -1.0463097095489502, -1.8166135549545288, -3.677389144897461, -2.5942435264587402, -3.5634608268737793, -1.2345753908157349, -2.601743459701538, -3.1980879306793213, 0.6808579564094543, -3.3593063354492188, -3.37359881401062, -1.9564626216888428, 0.4606580138206482, -1.6963191032409668, -3.6085665225982666, -2.8121604919433594, 1.4788295030593872, -4.513421535491943, 0.4913633167743683, -2.9600870609283447, -3.1004858016967773, 1.835737943649292, -4.934369087219238, 0.6733015179634094, -2.8540775775909424, -4.915256500244141, -3.3307626247406006, -1.188165307044983, -3.339887857437134, -1.8544111251831055, -0.7232708930969238, -3.7633461952209473, -3.263348340988159, -2.6984469890594482, -5.01713228225708, -3.609198570251465, -0.9189777374267578, -1.1192817687988281, -3.2398033142089844, -4.988275527954102, -4.705192565917969, 1.8794533014297485, 1.0905648469924927, -3.876317262649536, -0.5323968529701233, -0.36761248111724854, -1.6326360702514648, -4.003708362579346, 1.8540133237838745, -2.0370445251464844, 0.21827301383018494, -3.3404126167297363, -1.773299217224121, -3.495758056640625, -2.1066415309906006, -1.7339638471603394, -0.7615064382553101, -3.8505609035491943, -3.7599740028381348, -3.655588150024414, -3.907172679901123, -4.938351631164551, -5.128457546234131, 2.0256524085998535, -2.004561424255371, 2.118314504623413, -3.7846343517303467, -2.840930223464966, -3.3879098892211914, -3.276293992996216, -0.07553128153085709, 1.1673964262008667, -2.4725940227508545, -2.019491195678711, -0.7658296823501587, -3.5635554790496826, -0.40669819712638855, -3.4574339389801025, 1.319136381149292, -3.6732466220855713, -3.05413556098938, -1.4162037372589111, -3.034250259399414, -0.2936420440673828, -3.2367053031921387, -0.958357036113739, -0.1648700088262558, -6.080522060394287, -2.7727863788604736, -3.3597164154052734, -3.718149185180664, -0.4246068298816681, -2.1218509674072266, -3.2362992763519287, -2.78926420211792, -0.2936188578605652, -1.201267123222351, -1.1976722478866577, -3.3175950050354004, -0.5440398454666138, -3.6806979179382324, -3.7103383541107178, 2.122072458267212, -1.3912333250045776, 1.5381138324737549, -5.056807518005371, -3.445690393447876, -3.086155652999878, -3.7003777027130127, -3.6642813682556152, -2.994091749191284, -0.96858811378479, -3.2752273082733154, -3.005995750427246, 1.305396318435669, -0.2244822084903717, -2.331446647644043, -3.4094669818878174, -3.178349733352661, -3.2445600032806396, -2.284573554992676, -3.608355760574341, -1.1937183141708374, -0.6199666857719421, -1.1261643171310425, -3.2389261722564697, 1.6340914964675903, -5.120159149169922, -3.252495765686035, -2.9625964164733887, -3.8083324432373047, -0.9121828079223633, -4.087766647338867, -5.345423221588135, -0.7493287920951843, -3.0542168617248535, -1.4261832237243652, -1.997104287147522, -2.5962400436401367, -3.1650898456573486, -2.0047099590301514, -0.6489363312721252, -1.779699444770813, -1.9077556133270264, -2.1765615940093994, -3.1430039405822754, -1.4880878925323486, -3.020876884460449, -3.1945548057556152, 0.396528422832489, 1.0690370798110962, -4.757462501525879, -3.233119010925293, -4.207946300506592, -5.5133538246154785, -3.4969234466552734, -0.724261999130249, -3.6844286918640137, 2.14609694480896, -0.40045446157455444, -4.619709014892578, -3.2784955501556396, -3.439188003540039, -4.12261962890625, -3.133227825164795, -2.9032251834869385, -3.4387385845184326, -3.8373563289642334, -3.509068489074707, -3.152947187423706, -0.347808301448822, -1.1971783638000488]}, {\"hovertemplate\": \"Dominant_Topic=Topic 1<br>0=%{x}<br>1=%{y}<br>2=%{z}<extra></extra>\", \"legendgroup\": \"Topic 1\", \"marker\": {\"color\": \"#EF553B\", \"opacity\": 0.7, \"symbol\": \"circle\"}, \"mode\": \"markers\", \"name\": \"Topic 1\", \"scene\": \"scene\", \"showlegend\": true, \"type\": \"scatter3d\", \"x\": [-2.997204542160034, -7.844812870025635, -1.1491007804870605, -8.945265769958496, -6.381239414215088, -4.759954929351807, -6.7972517013549805, -6.1661505699157715, -9.308480262756348, 0.29201191663742065, -3.2212467193603516, -2.8214948177337646, -9.249463081359863, -1.3916231393814087, -5.994822025299072, -3.096791982650757, -5.186765670776367, -3.58498215675354, -3.363265037536621, -2.247126340866089, -8.520913124084473, -9.346963882446289, -2.5427937507629395, -4.045262336730957, -3.298097848892212, -2.814568042755127, -3.5443942546844482, -3.8107833862304688, -2.5386621952056885, -7.210818290710449, -4.138484001159668, -3.4259965419769287, -4.930717945098877, -4.647150993347168, -2.4371895790100098, -0.6012534499168396, -0.9752805829048157, -2.306644916534424, -5.15079402923584, -2.9944636821746826, -5.844277381896973, -3.7528269290924072, -7.701403617858887, -4.256659507751465, -2.131652355194092, -3.7886011600494385, -5.53907585144043, -2.8485207557678223, -2.2063872814178467, -3.885524272918701, -0.4435751140117645, -2.9555516242980957, -7.731933116912842, -6.363498687744141, -3.566084146499634, -5.295205593109131, -5.790616035461426, -6.69199275970459, -5.668651103973389, -7.351387977600098, -9.82208251953125, -10.093644142150879, -6.7598443031311035, -7.69801139831543, -2.8909971714019775, -7.845953464508057, -5.223461151123047, -10.05787181854248, -8.942790031433105, -3.8265678882598877, -0.7827809453010559, -6.546069145202637, -8.251188278198242, -1.2171367406845093, -8.082233428955078, -6.6974687576293945, -7.175634860992432, -4.050271511077881, -3.6589436531066895, -6.451113700866699, -1.845726728439331, -6.821008682250977, -4.737844944000244, -3.489440441131592, -4.347247123718262, -5.353998184204102, -1.5094268321990967, -0.9167229533195496, -4.297929763793945, -2.1315784454345703, -3.4864659309387207, -7.901676654815674, -1.3249698877334595, -0.9510191082954407, -2.3622841835021973, -8.475830078125, -3.6381423473358154, -3.8778152465820312, -6.7811784744262695, -6.064017295837402, -5.818557262420654, -1.0262161493301392, -0.5164768695831299, -0.07501498609781265, -5.2378249168396, -5.793086051940918, -8.94371223449707, -7.034857749938965, 0.49506592750549316, -7.47160530090332, -9.510758399963379, -0.8786284327507019, -1.4336705207824707, -2.3215973377227783, -4.419064044952393, -1.4479295015335083, -4.366367816925049, -9.486724853515625, -6.030031204223633, -2.4101343154907227, -4.77277946472168, -8.492205619812012, -9.605708122253418, -8.630523681640625, -2.071436882019043, 0.4551233649253845, -3.396362781524658, -2.874817371368408, -6.353002071380615, -3.939727306365967, -2.9665141105651855, -5.827274322509766, -4.5040764808654785, -9.66374397277832, -1.2578476667404175, -9.738884925842285, 0.6262269020080566, -2.2803473472595215, -3.2290260791778564, -4.964630603790283], \"y\": [-8.817837715148926, -7.996155738830566, -4.801794528961182, -8.441205024719238, -8.680928230285645, -6.890504837036133, -6.760208606719971, -6.859961986541748, -8.512726783752441, -6.987154483795166, -8.478056907653809, -7.536865234375, -8.077435493469238, -5.158858299255371, -7.708604335784912, -8.39698600769043, -5.603776454925537, -8.10010051727295, -4.717030048370361, -6.400426864624023, -8.357629776000977, -8.242653846740723, -4.88992977142334, -10.297392845153809, -5.177913665771484, -7.966047286987305, -9.084721565246582, -3.9032790660858154, -7.6301093101501465, -7.7812910079956055, -6.209435939788818, -8.776979446411133, -6.520995140075684, -7.507676124572754, -8.267142295837402, -5.499993324279785, -4.945075511932373, -7.6664862632751465, -5.111694812774658, -8.049904823303223, -8.753223419189453, -5.771753311157227, -8.069110870361328, -9.675517082214355, -5.264382839202881, -8.533477783203125, -9.861969947814941, -7.4007415771484375, -7.347513198852539, -5.346897602081299, -5.558802604675293, -8.927155494689941, -7.986354351043701, -5.921273708343506, -8.952452659606934, -7.193270683288574, -8.634974479675293, -6.3395490646362305, -8.682954788208008, -7.588548183441162, -8.458890914916992, -8.307966232299805, -6.736412048339844, -10.153118133544922, -3.9823193550109863, -8.714442253112793, -5.520820617675781, -8.325615882873535, -8.419684410095215, -9.024933815002441, -5.930417537689209, -8.639861106872559, -8.04052734375, -6.008610725402832, -8.214738845825195, -7.300889015197754, -8.806806564331055, -9.655662536621094, -8.474803924560547, -7.400318622589111, -6.377414226531982, -8.630194664001465, -5.468278408050537, -5.1799163818359375, -6.6196699142456055, -7.273763656616211, -4.142354965209961, -5.24106502532959, -8.621381759643555, -3.931663751602173, -8.55421257019043, -8.351092338562012, -5.114466190338135, -5.125154972076416, -3.537794589996338, -8.191933631896973, -4.992785453796387, -5.9083404541015625, -6.936479568481445, -8.918092727661133, -8.981350898742676, -4.601722240447998, -6.467418193817139, -5.352014541625977, -4.834175109863281, -7.151891231536865, -8.819135665893555, -7.834780693054199, -7.73143196105957, -7.869720458984375, -8.791422843933105, -6.092797756195068, -6.273475646972656, -6.991654396057129, -8.174763679504395, -5.510438442230225, -5.301584243774414, -8.515837669372559, -5.46036434173584, -8.255069732666016, -8.381964683532715, -7.981996059417725, -8.43837833404541, -8.354528427124023, -7.5398759841918945, -7.917576789855957, -4.612686634063721, -4.5396575927734375, -7.041828155517578, -7.8108110427856445, -7.430271148681641, -9.387418746948242, -6.426506042480469, -8.488961219787598, -4.397572040557861, -8.465753555297852, -6.657963275909424, -7.687883377075195, -7.226411819458008, -5.572169780731201], \"z\": [-1.9709641933441162, -4.565798759460449, -0.267132967710495, -5.926216125488281, -4.421224117279053, -3.6950247287750244, -2.148540735244751, -5.903329372406006, -6.216731071472168, -1.5574787855148315, -2.5163936614990234, -4.088168144226074, -5.782531261444092, 1.3728915452957153, -3.1634790897369385, -2.8068301677703857, -6.216704368591309, -3.315913438796997, -0.9550502300262451, -1.1937528848648071, -5.586414337158203, -5.944743633270264, -0.0963243916630745, -2.0371432304382324, -0.3697203993797302, -2.1374809741973877, -2.457805871963501, -0.8544355034828186, -1.6095408201217651, -3.5549674034118652, -4.8122429847717285, -2.9542629718780518, -5.298610210418701, -3.2923290729522705, -1.674704670906067, -0.6096993684768677, -0.6626795530319214, -1.9846082925796509, -0.3249240815639496, -2.1765549182891846, -4.100823879241943, -4.6328229904174805, -5.140735626220703, -2.629617929458618, 1.2826464176177979, -3.240748167037964, -4.3459343910217285, -4.3768720626831055, -1.8284274339675903, 2.1978354454040527, -1.219981074333191, -1.8383146524429321, -4.298624038696289, -1.0793530941009521, -3.665407419204712, -4.984457969665527, -4.027258396148682, -1.5734249353408813, -4.134397029876709, -3.1803462505340576, -6.7557806968688965, -7.271401405334473, -6.420997142791748, -6.073757648468018, -0.8562403321266174, -4.868319511413574, -0.6550072431564331, -7.212775707244873, -5.912852764129639, -2.6607108116149902, -1.280144214630127, -4.459104061126709, -4.819355487823486, -1.0181903839111328, -5.495818138122559, -5.813686370849609, -4.923521995544434, -2.481165885925293, -3.397118091583252, -5.519954204559326, -1.3671680688858032, -4.616645336151123, -0.6868664622306824, -0.2900412678718567, -4.769237995147705, -4.657081604003906, -2.513646125793457, 0.0549403578042984, -3.6543662548065186, -0.9087910056114197, -2.8240954875946045, -5.163938522338867, 0.6643162369728088, 0.9119706749916077, -1.212044596672058, -5.593379497528076, -0.7170414328575134, -4.712386131286621, -2.4161150455474854, -4.388978958129883, -4.141851902008057, 0.003363996744155884, -1.368484616279602, -1.2557910680770874, -0.11780549585819244, -5.2682061195373535, -5.620047092437744, -3.501553773880005, -2.0899465084075928, -5.391948699951172, -6.176855087280273, -1.042402982711792, -1.2549059391021729, -2.311960458755493, -3.6202681064605713, -1.8032448291778564, -0.529941976070404, -6.814098834991455, -0.5467031002044678, -2.7166600227355957, -3.588636875152588, -4.761012077331543, -6.45408296585083, -5.666372299194336, -1.749969720840454, -2.238487482070923, -1.0541282892227173, -0.7391400933265686, -5.842306137084961, -3.7603089809417725, -2.2848398685455322, -4.354923725128174, -4.986440658569336, -6.581379413604736, -0.6251963973045349, -6.676857948303223, -1.2952066659927368, -1.9305328130722046, -1.9395997524261475, -0.7234464287757874]}, {\"hovertemplate\": \"Dominant_Topic=Topic 10<br>0=%{x}<br>1=%{y}<br>2=%{z}<extra></extra>\", \"legendgroup\": \"Topic 10\", \"marker\": {\"color\": \"#00cc96\", \"opacity\": 0.7, \"symbol\": \"circle\"}, \"mode\": \"markers\", \"name\": \"Topic 10\", \"scene\": \"scene\", \"showlegend\": true, \"type\": \"scatter3d\", \"x\": [-3.591378927230835, -3.325813055038452, -2.046635866165161, -2.489820957183838, -3.4317874908447266, -3.475430488586426, -3.4719290733337402, -3.2934515476226807, -3.003143548965454, -2.8290488719940186, -3.3541407585144043, -3.1997885704040527, -3.5181734561920166, -3.4732956886291504, -3.55588960647583, -3.1514334678649902, -3.0326857566833496, -3.09283709526062, -2.2260828018188477, -3.4934260845184326, -3.301755666732788, -3.22363018989563, -3.0584986209869385, -3.604620933532715, -3.516648054122925], \"y\": [-2.5824859142303467, -3.373382806777954, -4.150025844573975, -4.2528839111328125, -3.0604031085968018, -3.00368070602417, -3.0477821826934814, -3.5694997310638428, -3.6173839569091797, -3.5239357948303223, -3.3365983963012695, -3.6414198875427246, -2.8434269428253174, -2.9581940174102783, -2.7042129039764404, -4.547354698181152, -3.7545273303985596, -4.401429653167725, 2.286781072616577, -2.909626007080078, -3.406822681427002, -3.524240255355835, -4.03609037399292, -2.5391945838928223, -2.8416106700897217], \"z\": [-8.201666831970215, -6.641819477081299, -3.281346321105957, -3.892981767654419, -7.323478698730469, -7.495234489440918, -7.442856788635254, -6.282223701477051, -5.567610263824463, -5.2252702713012695, -6.757910251617432, -5.989674091339111, -7.776766300201416, -7.543910026550293, -8.004868507385254, -4.87596321105957, -5.486427307128906, -4.920196056365967, -1.3297199010849, -7.6485419273376465, -6.5382914543151855, -6.199075698852539, -5.2408366203308105, -8.271695137023926, -7.775852203369141]}, {\"hovertemplate\": \"Dominant_Topic=Topic 11<br>0=%{x}<br>1=%{y}<br>2=%{z}<extra></extra>\", \"legendgroup\": \"Topic 11\", \"marker\": {\"color\": \"#ab63fa\", \"opacity\": 0.7, \"symbol\": \"circle\"}, \"mode\": \"markers\", \"name\": \"Topic 11\", \"scene\": \"scene\", \"showlegend\": true, \"type\": \"scatter3d\", \"x\": [0.4652901589870453, -0.04001140594482422, 0.3537711501121521, -0.4067838191986084, 0.745384693145752, 0.586275577545166, 0.5883715152740479, 0.6150734424591064, 2.019792079925537, 0.7214183807373047, 0.9326543807983398, 0.40604060888290405, 0.5130554437637329, 0.5917251110076904, 0.7847706079483032, 0.5941017270088196, 0.4021463394165039, 0.5679633021354675], \"y\": [6.715681076049805, 5.868949890136719, 7.437508583068848, 5.186735153198242, 6.795382976531982, 6.808701515197754, 6.694841384887695, 6.964169979095459, 6.630307197570801, 6.8501973152160645, 5.606616497039795, 6.65084981918335, 7.156070232391357, 6.998921871185303, 7.1395769119262695, 7.000303745269775, 6.643368721008301, 7.146224021911621], \"z\": [5.157586574554443, 6.637269496917725, 2.9214203357696533, 7.550336837768555, 4.18710470199585, 4.628572940826416, 4.864491939544678, 4.281221389770508, 3.370515823364258, 4.084587574005127, 3.4265544414520264, 5.38163423538208, 3.703913688659668, 4.1599297523498535, 3.661158323287964, 3.9340155124664307, 5.407017230987549, 3.920016050338745]}, {\"hovertemplate\": \"Dominant_Topic=Topic 2<br>0=%{x}<br>1=%{y}<br>2=%{z}<extra></extra>\", \"legendgroup\": \"Topic 2\", \"marker\": {\"color\": \"#FFA15A\", \"opacity\": 0.7, \"symbol\": \"circle\"}, \"mode\": \"markers\", \"name\": \"Topic 2\", \"scene\": \"scene\", \"showlegend\": true, \"type\": \"scatter3d\", \"x\": [-0.1512349545955658, -2.381640672683716, -2.5653936862945557, -3.4531667232513428, -0.1947452872991562, 0.3234071731567383, -0.01137431338429451, 0.36353757977485657, -0.6099443435668945, -3.4024252891540527, -0.11097236722707748, -3.470538854598999, -1.2527977228164673, 0.6157920360565186, -0.06034048646688461, 3.3940467834472656, -1.9205172061920166, -3.325120210647583, 0.34000280499458313, 1.0436056852340698, -0.6702746152877808, 2.3149333000183105, 1.0628124475479126, -5.691679954528809, -6.229813575744629, 3.6859779357910156, -2.791707754135132, 1.4058001041412354, -3.4624617099761963, -0.25761884450912476, -2.2659919261932373, 0.9694615602493286, -0.09054897725582123, -3.52008056640625, -1.8849436044692993, -2.9771721363067627, -6.137399673461914, -3.072155475616455, -3.732923984527588, -3.5409810543060303, 1.151228666305542, -0.15006837248802185, 2.9582390785217285, 2.164444923400879, 2.8458993434906006, -3.7201976776123047, -1.8337494134902954, -0.8711233139038086, 1.8089499473571777, -5.164830207824707, 3.3940389156341553, -3.059013843536377, 1.3916248083114624, 2.0931854248046875, -1.9270821809768677, -5.4962334632873535, 0.5336682200431824, -0.4084978997707367, -3.989022970199585, -3.1218490600585938, -2.0271952152252197, 3.6991169452667236, -0.7046112418174744, -0.7456275820732117, -1.1007435321807861, -3.950101137161255, -0.3344491720199585, -1.3253058195114136, -1.545576572418213, -1.3491712808609009, -3.427035331726074, 0.134394109249115, -1.0629563331604004, 2.418660879135132, -5.728844165802002, -1.2434146404266357, -3.7135086059570312, -5.977151870727539, -0.020298780873417854, -5.203733921051025, -1.2108125686645508, -0.40273240208625793, 1.567495584487915, 2.3788349628448486, 1.775795340538025, -0.1162826269865036, 0.10676988214254379, -3.7881550788879395, -3.3305442333221436, 2.917325973510742, 3.137618064880371, -5.611821174621582, -3.5112297534942627, 1.989845633506775, 2.070479154586792, -5.706649303436279, -1.5286943912506104, -4.196550369262695, -1.6963481903076172, 3.0293281078338623, -3.121854782104492, 0.5098592638969421, -5.8914995193481445, -5.847700119018555, -4.61267614364624, -0.6884698867797852, -1.3037827014923096, -0.5892934799194336, -1.4706302881240845, -5.826323509216309, -3.363786458969116, 2.0599966049194336, -3.535386085510254, 0.752914547920227, -2.2355501651763916, -0.5341781973838806, 1.7230935096740723, -3.1370747089385986, -5.286168575286865, 2.116708755493164, -0.8103437423706055, -2.866414785385132, -5.033679962158203, 1.7945866584777832, -2.039496660232544, 1.9594570398330688, -1.5506923198699951, -4.737627029418945, -3.0686750411987305, -5.803238391876221, -1.537299633026123, -5.046802997589111, -3.609426736831665, -2.6080703735351562, -4.614379405975342, 1.246646523475647, -5.47348690032959, 1.9481273889541626, 2.351839065551758, -1.9905809164047241, -0.4832304120063782, -1.883998155593872, -0.7906999588012695, -5.960936069488525, -2.9534189701080322, -1.604249119758606, -3.7340872287750244, 0.18599417805671692, -5.210880279541016, -3.4468038082122803, -2.679939031600952, 3.3577077388763428, -3.901334762573242, 1.1775439977645874, -2.7367541790008545, -0.062265943735837936], \"y\": [-0.22527559101581573, 1.7599025964736938, 1.8537580966949463, 3.3069467544555664, -0.14228075742721558, 0.012184098362922668, 2.082655668258667, -1.5413818359375, 0.7204968929290771, 3.004256248474121, -0.5837326049804688, 1.8353519439697266, 1.8878729343414307, 2.731546640396118, 0.7416480183601379, 1.026360034942627, 2.915635108947754, 0.5500547885894775, 0.8997844457626343, -0.3381977677345276, 4.705612659454346, 1.3959846496582031, 1.0492594242095947, 0.4404517114162445, 2.019318103790283, 0.11958006024360657, -0.23448768258094788, 1.3688877820968628, 2.1180882453918457, 0.47053930163383484, -0.1310306191444397, 0.9794292449951172, 0.016752181574702263, 1.9850001335144043, 2.4836976528167725, 2.162095546722412, 1.6601266860961914, -0.19734346866607666, -0.2952328324317932, 0.9104732871055603, -0.38189631700515747, -0.5587731599807739, -1.336000680923462, 1.1812701225280762, -0.06974414736032486, 2.1755142211914062, 1.5315635204315186, 1.0649935007095337, 0.14141292870044708, 1.7695032358169556, 1.0263699293136597, 1.8992717266082764, 2.0913021564483643, -0.8499575853347778, -0.08405894041061401, 1.5913232564926147, 1.521579384803772, -0.3593212366104126, 1.9625335931777954, 2.0781729221343994, 1.360939621925354, -1.6747350692749023, 0.6221571564674377, 4.08505916595459, 1.2166714668273926, 1.971737265586853, 0.2843686640262604, 3.1898140907287598, 1.4680808782577515, 0.009384062141180038, 0.43392711877822876, -0.8397325277328491, 1.2055394649505615, 0.4706888794898987, 0.6182379126548767, 2.641249656677246, 1.5287660360336304, 1.8021122217178345, -0.469235360622406, 1.7910056114196777, 0.5696757435798645, 0.5055045485496521, -0.30983981490135193, 0.4732835292816162, 0.35909855365753174, 2.3954918384552, 0.5294264554977417, 2.1398520469665527, -4.796173572540283, -1.600609302520752, -1.6177775859832764, 1.6883784532546997, 2.177011013031006, -0.27939891815185547, -0.385056734085083, 0.29995831847190857, 1.5163089036941528, -0.6871896982192993, 1.2732080221176147, 1.1633597612380981, -0.20362824201583862, -1.6563634872436523, 1.9903779029846191, 1.6378413438796997, 1.769209384918213, -4.178349018096924, 1.4338229894638062, 0.14576393365859985, 1.293259620666504, 0.7325053811073303, 1.8258556127548218, -0.9323887825012207, -1.5503054857254028, 0.6655210852622986, -0.06292964518070221, 0.12267491221427917, 1.068174958229065, 1.8188560009002686, 1.708876371383667, 0.7711961269378662, 0.7672377228736877, -0.22668442130088806, 1.824192762374878, -0.7334678173065186, 1.6414268016815186, 1.3179736137390137, 1.419287919998169, 1.8785426616668701, -0.35232970118522644, 1.648025631904602, 2.662170171737671, 2.553764820098877, 1.0456727743148804, 1.658515214920044, 2.510924816131592, 2.738291025161743, 2.4419968128204346, 2.177300453186035, -1.039172649383545, 1.377139687538147, 5.0376996994018555, 2.419278621673584, 1.1065655946731567, 1.5889495611190796, 1.8046618700027466, 3.1742758750915527, 2.455615758895874, 0.2726210653781891, 1.768376350402832, 1.9167400598526, 1.9830775260925293, 0.8193275928497314, 2.4168403148651123, 2.355464458465576, 1.7423433065414429, 0.36478787660598755], \"z\": [6.557860374450684, 10.897782325744629, 8.592641830444336, 12.058998107910156, 6.782642841339111, 6.677576541900635, 3.134775400161743, 7.938729286193848, 7.794753551483154, 12.023256301879883, 8.841105461120605, 10.417376518249512, 9.555160522460938, 2.448476791381836, 7.153195381164551, 6.089999198913574, 9.774395942687988, 6.9861273765563965, 4.952680587768555, 3.9882218837738037, 7.974152565002441, 6.877540111541748, 4.262156963348389, 10.80563735961914, 13.234416961669922, 5.527773857116699, 5.304225921630859, 4.261612415313721, 10.237147331237793, 7.72549295425415, 5.10586404800415, 7.870250701904297, 7.358905792236328, 12.021398544311523, 8.027109146118164, 11.789156913757324, 14.131462097167969, 5.473778247833252, 5.613459587097168, 7.639810085296631, 6.470231056213379, 8.925957679748535, 4.7703857421875, 3.5894649028778076, 3.5728108882904053, 12.085501670837402, 10.856735229492188, 9.198440551757812, 4.947810649871826, 13.376116752624512, 6.090006351470947, 11.654179573059082, 3.606884479522705, 4.79987096786499, 5.206414699554443, 14.105779647827148, 2.7040767669677734, 9.42335033416748, 11.810022354125977, 9.858670234680176, 7.543095111846924, 5.143054008483887, 7.2775397300720215, 8.441205024719238, 9.726622581481934, 12.423705101013184, 6.539653778076172, 9.094820976257324, 10.019603729248047, 4.456984043121338, 6.726815700531006, 7.131728172302246, 9.077939987182617, 3.594224214553833, 11.291864395141602, 9.211387634277344, 11.385139465332031, 13.979756355285645, 8.101103782653809, 13.284113883972168, 7.215756893157959, 7.67633581161499, 3.907449722290039, 4.847784519195557, 4.658479690551758, 3.292358160018921, 7.967902183532715, 11.48275089263916, 3.6527068614959717, 5.887379169464111, 5.6778974533081055, 13.659672737121582, 10.508217811584473, 5.250880241394043, 5.336178779602051, 10.471056938171387, 9.722455024719238, 5.077604293823242, 11.451789855957031, 6.197122573852539, 5.491709232330322, 7.643248558044434, 14.028731346130371, 13.823925971984863, 12.519966125488281, -0.2334987223148346, 9.764214515686035, 6.269885540008545, 10.821789741516113, 11.665594100952148, 9.31020736694336, 5.727749347686768, 3.183922529220581, 7.727334499359131, 4.184305191040039, 6.094620227813721, 4.058525562286377, 12.193426132202148, 13.506093978881836, 3.8650424480438232, 9.741460800170898, 5.364274978637695, 13.239124298095703, 5.9351911544799805, 10.69762134552002, 3.507556915283203, 10.546441078186035, 12.989726066589355, 5.066824913024902, 13.770294189453125, 9.579638481140137, 13.470657348632812, 7.937902450561523, 10.894630432128906, 11.753172874450684, 3.296107530593872, 13.757991790771484, 3.6299755573272705, 5.688513278961182, 8.590291976928711, 7.707876682281494, 7.905792713165283, 9.755448341369629, 13.90640640258789, 11.97647476196289, 9.647425651550293, 10.375218391418457, 6.1037373542785645, 13.402565002441406, 9.287322044372559, 9.25753402709961, 5.806231498718262, 11.4402494430542, 3.0685880184173584, 11.91826057434082, 6.380667209625244]}, {\"hovertemplate\": \"Dominant_Topic=Topic 3<br>0=%{x}<br>1=%{y}<br>2=%{z}<extra></extra>\", \"legendgroup\": \"Topic 3\", \"marker\": {\"color\": \"#19d3f3\", \"opacity\": 0.7, \"symbol\": \"circle\"}, \"mode\": \"markers\", \"name\": \"Topic 3\", \"scene\": \"scene\", \"showlegend\": true, \"type\": \"scatter3d\", \"x\": [5.398134231567383, 5.575172424316406, 8.611536979675293, 9.734987258911133, 5.861449241638184, 8.738038063049316, 5.991790771484375, 6.669956684112549, 7.344912052154541, 4.259283065795898, 8.972477912902832, 8.237408638000488, 6.0041985511779785, 7.481937408447266, 6.2160868644714355, 11.228589057922363, 7.472201347351074, 6.550900936126709, 8.333028793334961, 4.30895471572876, 10.659964561462402, 8.810623168945312, -1.2258869409561157, 8.058432579040527, 7.874734878540039, 8.448193550109863, 7.136078357696533, 7.130911350250244, 10.636157035827637, -4.6199493408203125, 7.761145114898682, 7.597898483276367, 12.348506927490234, 5.6056694984436035, 10.36539077758789, 9.70703411102295, 13.202594757080078, 5.874939918518066, 7.319477081298828, 8.535106658935547, 6.836068153381348, 5.869602203369141, 9.947887420654297, 6.23784875869751, 12.548422813415527, 6.422641754150391, 6.812983512878418, -4.041698455810547, 5.990170478820801, 8.01187801361084, 4.259976387023926, 7.529833793640137, 9.625642776489258, 8.65701675415039, 6.1672821044921875, 5.7067766189575195, 5.885706424713135, 7.5612921714782715, 5.2070512771606445, 12.730507850646973, 4.7083892822265625, 8.346423149108887, 11.423392295837402, 8.95720100402832, 7.574921131134033, 6.903426170349121, 7.880767345428467, 9.659104347229004, 7.884214878082275, 8.50712776184082, 12.806586265563965, 8.515054702758789, 5.605238437652588, 11.040519714355469, 3.3354897499084473, 8.10550594329834, 7.1025238037109375, 12.44626522064209, 9.798544883728027, 12.0603609085083, 13.220582962036133, 11.418272018432617, 5.041945934295654, 7.940375328063965, 6.281985282897949, 12.146500587463379, 7.570852279663086, 8.302059173583984, 9.58293342590332, 6.901646614074707, 10.15073013305664, 11.851948738098145, 13.268392562866211, 4.946001052856445, 11.854849815368652, 6.695370197296143, 13.358656883239746, 7.012627124786377, 12.919292449951172, 8.042701721191406, 8.4754638671875, 7.20164155960083, 8.232616424560547, 8.109964370727539, 10.107321739196777, 4.686432838439941, 7.383021831512451, 6.81013298034668, 4.150393009185791, 7.374080657958984, 8.106654167175293, 11.908708572387695, 7.087190628051758, 5.0327467918396, 7.59520149230957, 4.950749397277832, 5.253504753112793, 10.398106575012207, 7.830929279327393, 12.310173988342285, 12.84567928314209, 7.679276943206787, 7.2464823722839355, 13.34272575378418, 8.438668251037598, 4.54130220413208, 9.622161865234375, 6.273739814758301, 7.4726386070251465, 6.655759811401367, 8.59618854522705, 7.318404674530029, 6.2066826820373535, 12.466416358947754, 11.786880493164062, 12.8889741897583, 8.336099624633789, 0.543417751789093, 13.37861442565918, 7.687590599060059, 8.854544639587402, 10.536619186401367, 8.805587768554688, 9.208683967590332, 6.73439884185791, -0.050130438059568405, 12.750329971313477, 8.809691429138184, 6.69876766204834, 6.649206638336182, 8.127397537231445, 4.934036731719971, 8.336583137512207, 5.394155025482178, 9.441709518432617, 10.739503860473633, 5.982388019561768, 6.420523643493652, 7.317290306091309, 9.838252067565918, -4.528305530548096, 11.082268714904785, 8.211432456970215, 5.100384712219238, 8.06489086151123, 4.569273948669434, 8.776981353759766, 6.43261194229126, 4.943757057189941, 9.916654586791992, 8.349566459655762, 6.760725021362305, 12.668460845947266, 5.51518440246582, 8.140655517578125, 8.714587211608887, 11.951797485351562, 9.0181303024292, 9.68912410736084, 12.249795913696289, 13.394144058227539, 12.011127471923828, 4.700607776641846, 12.393214225769043, 4.7109832763671875, 12.265915870666504, 7.213210105895996, 5.98121452331543, 7.8951826095581055, 1.0101674795150757, 8.803754806518555, 8.321916580200195, 8.423073768615723, 12.360854148864746, 7.645395755767822, 8.499042510986328, 7.28019905090332, 6.893893241882324, 10.194680213928223, 6.491682052612305, 5.341406345367432, 12.407563209533691, 5.66825532913208, 10.26735782623291, 7.7727131843566895, 5.411143779754639, 8.573704719543457], \"y\": [-0.8548843264579773, -3.182328939437866, -4.262824058532715, -7.8199615478515625, -1.5237457752227783, -3.4477486610412598, 1.0046908855438232, 1.5172631740570068, 0.3081536889076233, 2.1020805835723877, -1.2891219854354858, -3.9430413246154785, 1.7637768983840942, -4.8267927169799805, 1.5037519931793213, -4.9075493812561035, -2.311642646789551, -0.7588258981704712, -4.173455715179443, 2.0760185718536377, -4.147399425506592, 3.784182071685791, -3.620911121368408, -4.733699321746826, -2.9827325344085693, 0.8369709253311157, -4.284003734588623, 2.6500537395477295, -5.475252628326416, -4.426494598388672, -4.1907172203063965, 1.1477054357528687, -6.422416687011719, -0.6946526169776917, -5.381240367889404, -7.787170886993408, -8.144841194152832, -6.224466323852539, -5.997869491577148, 0.2668960988521576, -4.523049831390381, -0.019207390025258064, -4.474546432495117, -1.4356069564819336, -5.8993940353393555, 0.6035586595535278, 2.7819435596466064, -4.788049221038818, -1.6601070165634155, 1.129885196685791, 2.101689577102661, -0.6162805557250977, -2.3977184295654297, -4.638093948364258, -3.6245076656341553, -3.7096669673919678, -0.7746948599815369, -4.841792106628418, 1.048936367034912, -6.33297872543335, 1.7466720342636108, 3.3032939434051514, -6.126930236816406, 0.4640013873577118, 1.965662956237793, -0.7733268141746521, -2.896313428878784, -4.932290077209473, -4.036449432373047, 0.1004064679145813, -6.682489395141602, -0.2725844085216522, -3.229977607727051, -4.59871768951416, -1.5509576797485352, -2.209930658340454, 1.4475785493850708, -6.148377418518066, -4.996710300445557, -5.956607341766357, -6.883363723754883, -5.032519817352295, 0.3587634861469269, 0.8315429091453552, -3.526721954345703, -6.105875015258789, -2.4186811447143555, -4.796379566192627, -2.637373924255371, -4.953622341156006, -4.790839195251465, -5.589323043823242, -6.973271369934082, -1.9081448316574097, -6.167360305786133, -0.028095990419387817, -7.233581066131592, 2.614166736602783, -7.219581604003906, -4.557629585266113, -4.466366767883301, -0.9540117383003235, -5.056390762329102, -4.789267063140869, -4.716765403747559, -1.6227633953094482, 1.9566447734832764, -0.2746829092502594, -1.896337866783142, -3.8442986011505127, -4.095343112945557, -6.203332901000977, -5.0422868728637695, -2.029207706451416, -2.489032506942749, 1.6655045747756958, 1.5609995126724243, -3.5758843421936035, 0.1139032319188118, -6.202179431915283, -6.284307479858398, -4.647493839263916, 2.8306658267974854, -7.507713794708252, 3.0849313735961914, 2.3819613456726074, -5.727569580078125, 0.04608728364109993, -5.373238563537598, -0.722206711769104, 0.7882727980613708, 2.6212856769561768, -1.314721941947937, -6.531454086303711, -5.7847466468811035, -7.135230541229248, 3.1005403995513916, -6.416859149932861, -6.9159040451049805, 1.4277278184890747, -1.1001200675964355, -5.522570610046387, -4.516346454620361, -3.3132927417755127, -3.516329765319824, -5.278898239135742, -6.282074928283691, -2.3809306621551514, 1.6519615650177002, -4.315127372741699, -4.223310947418213, 1.1810206174850464, 2.893446922302246, 1.2588584423065186, -2.570345401763916, -4.36098051071167, -6.158454895019531, 0.8579257130622864, -2.2120962142944336, -6.120307445526123, -4.59166145324707, -5.723687648773193, -1.6660244464874268, 1.0973447561264038, 0.5059791207313538, 1.311681866645813, 3.841705083847046, -4.60660457611084, 1.7399543523788452, -3.1769773960113525, 0.5453698039054871, 1.3819360733032227, -7.127706527709961, 0.6070322394371033, -2.352698564529419, -5.30204439163208, -6.160459518432617, -1.9856139421463013, -7.819523811340332, -6.443092346191406, -7.197205066680908, -7.041243076324463, -1.792859435081482, -5.9864373207092285, 1.8792309761047363, -6.42860746383667, 1.0069944858551025, -2.615105628967285, -4.456777572631836, -6.574943542480469, 3.849043846130371, -5.119755268096924, -4.533508777618408, -6.1457366943359375, 1.6302317380905151, -5.190314292907715, -0.1024053692817688, 0.8565064668655396, -5.0073561668396, 0.8538144826889038, -1.901916265487671, -6.146909713745117, -1.1814192533493042, -4.112250804901123, -5.288263320922852, -2.8218863010406494, -0.929720401763916], \"z\": [3.221789836883545, -0.5759660601615906, -2.508087396621704, 0.38240286707878113, 2.6613216400146484, 2.0566375255584717, 1.8353352546691895, 0.6299417018890381, 2.671703338623047, 3.945591449737549, -0.5090829133987427, -0.10690363496541977, 2.8404085636138916, 0.3962668776512146, 2.5047497749328613, -1.0551390647888184, 2.6052141189575195, -0.8173472285270691, 0.35814106464385986, 2.218137264251709, -0.7103388905525208, 1.139724850654602, -1.9301847219467163, -0.2807191014289856, 2.4674127101898193, 0.0922134518623352, -2.766062021255493, -0.097748301923275, -4.3925981521606445, 4.34774112701416, -3.2249202728271484, -0.6143670082092285, -3.8613972663879395, 3.3192663192749023, -0.785003662109375, 0.39364033937454224, -3.8772308826446533, 0.02753443457186222, 0.8687165975570679, -1.2471708059310913, 2.8990354537963867, 2.7234110832214355, -0.12288721650838852, 3.2523033618927, -1.748152494430542, 1.927645206451416, -0.23399068415164948, 3.618968963623047, 2.40665340423584, -1.4927525520324707, 3.9457356929779053, -1.0027235746383667, 0.5028671026229858, -1.5076782703399658, 2.6020402908325195, -1.394036889076233, 3.0397682189941406, -1.4944498538970947, -0.8145012855529785, -2.164740800857544, 2.3994643688201904, 0.6629793047904968, -1.5098624229431152, -0.01802290603518486, -1.2865126132965088, 2.377319812774658, 2.7503838539123535, -4.820641040802002, -3.4997072219848633, -1.2808029651641846, -3.686361312866211, -0.9038748145103455, -0.5777803063392639, -0.323860228061676, 4.395456314086914, 3.6004462242126465, -0.2679021656513214, -2.149857759475708, -4.569168567657471, -3.0101661682128906, -3.523776054382324, -1.9406076669692993, 3.324716567993164, -1.044080376625061, 2.556650400161743, -3.098574638366699, 2.6177620887756348, 0.5663729906082153, -0.3357585072517395, -3.738360643386841, -0.8118342757225037, -1.2212053537368774, -3.606175661087036, 2.824073314666748, -4.154601097106934, 1.866248607635498, -3.9829189777374268, -1.7037047147750854, -4.6139817237854, 0.1964796781539917, 0.25594666600227356, 2.3514673709869385, 0.7566858530044556, 0.13329125940799713, -0.7583147287368774, 4.357378005981445, -1.4721753597259521, 1.9046560525894165, 5.151247024536133, 1.7499116659164429, -3.5943617820739746, -4.1574554443359375, -1.6604031324386597, 4.087829113006592, 2.6924147605895996, 2.2732932567596436, 2.0477025508880615, -0.5512426495552063, 0.06854835152626038, -3.0120649337768555, -2.5648913383483887, 0.4617861211299896, -0.11609025299549103, -4.368980407714844, 0.5521751642227173, 1.9513871669769287, -0.002573613543063402, 2.276770830154419, 0.615942120552063, 2.3605761528015137, 0.06562656909227371, -0.10360950231552124, 3.0976035594940186, -3.9989407062530518, -1.8915259838104248, -4.573370933532715, 0.6240336298942566, -1.0158040523529053, -3.6402227878570557, -1.2927628755569458, -0.3688412606716156, -0.9271670579910278, -1.0985796451568604, 0.14243236184120178, 2.9176456928253174, 1.3441212177276611, -2.4052107334136963, -0.46966272592544556, 0.9482800364494324, -2.0780045986175537, -3.209306240081787, 2.763963222503662, 0.40348973870277405, 2.631880044937134, -0.1788083165884018, -0.7818396687507629, 0.15902751684188843, 3.064737319946289, 2.755655527114868, -1.1069279909133911, 4.110104084014893, -4.300784111022949, 3.989635467529297, -0.8915015459060669, 0.18764951825141907, 2.8118808269500732, 1.2368806600570679, 1.9345628023147583, 2.3151588439941406, -0.4382532238960266, 0.2746746242046356, 0.7335354685783386, -2.7833142280578613, 0.717949390411377, 3.471151828765869, -0.6311399936676025, -2.2068896293640137, -0.3989447355270386, 0.4111413061618805, -2.0436313152313232, -4.01807165145874, -2.0584654808044434, 4.451294422149658, -2.0221915245056152, 2.1944081783294678, -4.107787132263184, 0.7432045936584473, 3.5029640197753906, -1.2616328001022339, -1.2689337730407715, 1.2315404415130615, 0.721483588218689, -0.4996432065963745, -1.8308426141738892, -1.579574465751648, -0.9294089674949646, -0.5334888100624084, 0.9785388112068176, -0.7586040496826172, 2.9537482261657715, 2.4249370098114014, -2.067279100418091, 3.219682216644287, -0.5955671668052673, 0.47706854343414307, 2.648406744003296, -0.512527585029602]}, {\"hovertemplate\": \"Dominant_Topic=Topic 4<br>0=%{x}<br>1=%{y}<br>2=%{z}<extra></extra>\", \"legendgroup\": \"Topic 4\", \"marker\": {\"color\": \"#FF6692\", \"opacity\": 0.7, \"symbol\": \"circle\"}, \"mode\": \"markers\", \"name\": \"Topic 4\", \"scene\": \"scene\", \"showlegend\": true, \"type\": \"scatter3d\", \"x\": [-7.587344646453857, -5.409580707550049, -5.685760974884033, -8.98532485961914, -5.157983779907227, -11.744349479675293, -5.367486000061035, -5.256531238555908, -5.380303382873535, -5.062228679656982, -8.741071701049805, -10.836430549621582, -5.152100563049316, -9.350602149963379, -4.6569671630859375, -5.757553577423096, -6.27463436126709, -6.27463436126709, -6.515732765197754, -4.823167324066162, -9.572135925292969, -6.4017438888549805, -8.801648139953613, -5.405412673950195, -3.7710797786712646, -5.627892017364502, -11.7170991897583, -8.346529006958008, -10.758733749389648, -9.723418235778809, -4.36674690246582, -6.126544952392578, -2.3349571228027344, -5.796229839324951, -5.419872760772705, -5.880913257598877, -8.526872634887695, -11.33777904510498, -5.000870227813721, -4.314217567443848, -10.640983581542969, -6.069260597229004, -6.684445858001709, -4.7454705238342285, -5.4963579177856445, -4.143092155456543, -4.67138671875, -6.439968109130859, -9.228411674499512, -4.4362263679504395, -6.392088890075684, -10.602338790893555, -9.487001419067383, -5.944871425628662, -4.30726957321167, -7.422013759613037, -8.171113967895508, -5.09321928024292, -7.412017345428467, -8.98416519165039, -9.189094543457031, -8.79007339477539, -11.387694358825684, -11.916945457458496, -5.680095195770264, -4.811227321624756, -12.305671691894531, -5.030394077301025, -5.568477153778076, -11.372298240661621, -11.4493989944458, -6.289859294891357, -10.158671379089355, -11.854931831359863, -4.209140300750732, -7.959965229034424, -10.345768928527832, -7.437189102172852, -4.555802345275879, -12.078532218933105, -6.892630100250244, -5.5936126708984375, -11.088631629943848, -3.697335720062256, -7.261979103088379, -5.607957363128662, -5.566792011260986, -6.007144927978516, -6.208533763885498, -2.737449884414673, -10.687361717224121, -8.779112815856934, -8.835736274719238, -5.675528049468994], \"y\": [-3.216792345046997, -3.7275407314300537, -4.439940452575684, -2.542362928390503, -4.009479522705078, -2.0038557052612305, 1.0861122608184814, -3.6062653064727783, -3.7617993354797363, -3.843210458755493, -2.298717737197876, -1.9579966068267822, -3.9928579330444336, -2.1175479888916016, -3.002272844314575, -5.343574047088623, -0.4110190272331238, -0.4110189974308014, -4.332523345947266, -1.1166930198669434, -2.0972163677215576, -3.8090555667877197, -3.1957786083221436, -4.602804660797119, -1.6827622652053833, -3.669651746749878, -1.6804637908935547, -3.444674015045166, -2.0067718029022217, -2.138763189315796, -0.6342825889587402, -3.645448923110962, 0.20783120393753052, 0.9911584258079529, -1.8141533136367798, -4.743993282318115, -2.6017556190490723, -1.9271245002746582, 1.1632214784622192, -4.905873775482178, -1.8473416566848755, -2.9511144161224365, -0.5290526151657104, -1.1008615493774414, -3.0824620723724365, 1.3343685865402222, -0.44781866669654846, -3.7116076946258545, -1.903428316116333, -3.1401848793029785, 0.671303391456604, -1.6172653436660767, -2.4147539138793945, 0.95796138048172, -0.4944535791873932, -3.6377274990081787, -2.2376725673675537, 0.16132418811321259, -3.79929256439209, -2.935678005218506, -1.771675944328308, -3.181581974029541, -1.5772616863250732, -1.87315034866333, -4.0459723472595215, 0.15510134398937225, -1.7758620977401733, -3.7269303798675537, 1.299607753753662, -2.0328369140625, -1.5856351852416992, -5.111217498779297, -1.9976110458374023, -1.7092399597167969, -0.5383181571960449, -2.6900715827941895, -1.999552607536316, -3.3428876399993896, -0.2229791134595871, -1.7444957494735718, -3.319399833679199, -4.092904567718506, -1.9462807178497314, -1.7021100521087646, -3.5432538986206055, 1.1084791421890259, -3.1581358909606934, -5.2257771492004395, -4.100893020629883, -3.577075958251953, -1.8146631717681885, -1.9398177862167358, -2.060131549835205, -3.9724197387695312], \"z\": [2.7062265872955322, 4.249182224273682, 3.4250359535217285, 2.9242680072784424, 0.4024216830730438, 3.9289116859436035, 0.20650289952754974, 4.116176605224609, 4.3017659187316895, 0.30154886841773987, 3.239837884902954, 3.7352659702301025, 0.4077478349208832, 3.820518732070923, 0.16167129576206207, 3.873471260070801, 1.8445194959640503, 1.8445194959640503, 2.456406593322754, 4.561694622039795, 3.5615813732147217, 3.109912157058716, 2.0443382263183594, 3.5996832847595215, 3.1382999420166016, 1.8226262331008911, 4.192501068115234, 1.7657155990600586, 4.455646514892578, 3.5026986598968506, 2.3474252223968506, 3.48329496383667, 3.350788116455078, 0.2912099361419678, 3.7999956607818604, 0.33240997791290283, 3.334402561187744, 4.366684913635254, 0.3257792890071869, 2.984130859375, 4.637927055358887, 3.261305332183838, 1.9620555639266968, 4.4627366065979, 2.052873373031616, 0.6871993541717529, 2.1591923236846924, 3.2459990978240967, 3.421008348464966, -0.13353510200977325, 0.5389466881752014, 3.9365999698638916, 3.1320724487304688, 0.3197614252567291, 1.8660882711410522, 3.197760581970215, 3.957853078842163, 1.324998378753662, 2.4000821113586426, 2.4154212474823, 3.3940536975860596, 2.076674461364746, 3.9063363075256348, 3.9415769577026367, 4.189901828765869, 0.5308850407600403, 4.161437034606934, 0.6134233474731445, 0.09860687702894211, 3.9316580295562744, 3.9090442657470703, -0.07898819446563721, 3.656245231628418, 3.903831720352173, 1.7021527290344238, 3.75584077835083, 3.710122585296631, 4.224974155426025, 1.6033415794372559, 4.058924674987793, 2.2031826972961426, 2.357492208480835, 3.745291233062744, 2.882608652114868, 2.999013900756836, 0.23977476358413696, 2.1661622524261475, 3.896693706512451, 4.140556812286377, -0.4365589916706085, 3.899245262145996, 3.555968999862671, 3.85565447807312, 2.1350996494293213]}, {\"hovertemplate\": \"Dominant_Topic=Topic 5<br>0=%{x}<br>1=%{y}<br>2=%{z}<extra></extra>\", \"legendgroup\": \"Topic 5\", \"marker\": {\"color\": \"#B6E880\", \"opacity\": 0.7, \"symbol\": \"circle\"}, \"mode\": \"markers\", \"name\": \"Topic 5\", \"scene\": \"scene\", \"showlegend\": true, \"type\": \"scatter3d\", \"x\": [0.4523773789405823, 3.190218448638916, 3.567357301712036, 2.8350119590759277, 3.007789134979248, 3.7246603965759277, 2.807936668395996, 2.6367061138153076, 3.0325825214385986, 2.848409414291382, 2.8123862743377686, 3.229586124420166, 0.5270171761512756, 0.1502757966518402, 3.10158371925354, 3.6982014179229736, 2.8310182094573975, 3.1683189868927, 2.988431215286255, 2.9211783409118652, 3.1044013500213623, 2.7837603092193604, 2.235637664794922, 2.857753038406372, 2.999131441116333, 3.857231378555298, 3.20810604095459, 2.7364954948425293, 3.2160723209381104], \"y\": [-1.9230802059173584, -10.103144645690918, -6.9226508140563965, -10.19352912902832, -9.095995903015137, -6.914547443389893, -9.620832443237305, -9.556146621704102, -9.509820938110352, -10.24782657623291, -9.470854759216309, -6.963894844055176, -5.990684986114502, -5.592156887054443, -10.408039093017578, -6.892096042633057, -8.827498435974121, -9.592602729797363, -9.704846382141113, -9.035388946533203, -10.317144393920898, -9.050797462463379, -9.75440788269043, -9.776819229125977, -10.09913444519043, -6.926971435546875, -10.727432250976562, -9.343086242675781, -9.684117317199707], \"z\": [8.021221160888672, 5.259827136993408, 2.813281774520874, 5.176959037780762, 4.464003086090088, 2.7720999717712402, 5.354609489440918, 4.759441375732422, 4.766715049743652, 5.225486755371094, 4.702581882476807, 2.924988269805908, 2.5499603748321533, 1.7042616605758667, 5.6375274658203125, 2.760160207748413, 4.453881740570068, 5.000892162322998, 4.706848621368408, 4.478929042816162, 5.600002765655518, 4.762595176696777, 5.01748514175415, 5.466706275939941, 4.900177478790283, 2.754683494567871, 5.885898113250732, 5.284751892089844, 5.141957759857178]}, {\"hovertemplate\": \"Dominant_Topic=Topic 6<br>0=%{x}<br>1=%{y}<br>2=%{z}<extra></extra>\", \"legendgroup\": \"Topic 6\", \"marker\": {\"color\": \"#FF97FF\", \"opacity\": 0.7, \"symbol\": \"circle\"}, \"mode\": \"markers\", \"name\": \"Topic 6\", \"scene\": \"scene\", \"showlegend\": true, \"type\": \"scatter3d\", \"x\": [0.6291579604148865, 0.6310344934463501, 0.6327548623085022, 0.629048228263855, 0.6285673379898071, 0.6293043494224548], \"y\": [-0.14989131689071655, -0.15200257301330566, -0.15275798738002777, -0.14812740683555603, -0.15023016929626465, -0.1494404524564743], \"z\": [-3.8394007682800293, -3.8399224281311035, -3.8402721881866455, -3.838531255722046, -3.839431047439575, -3.8393149375915527]}, {\"hovertemplate\": \"Dominant_Topic=Topic 7<br>0=%{x}<br>1=%{y}<br>2=%{z}<extra></extra>\", \"legendgroup\": \"Topic 7\", \"marker\": {\"color\": \"#FECB52\", \"opacity\": 0.7, \"symbol\": \"circle\"}, \"mode\": \"markers\", \"name\": \"Topic 7\", \"scene\": \"scene\", \"showlegend\": true, \"type\": \"scatter3d\", \"x\": [8.292254447937012, 8.176267623901367, 8.17566204071045, 8.279895782470703, 7.8854546546936035, 8.495759963989258, 8.49875545501709, 8.143054962158203, 8.222000122070312, 7.856020927429199, 8.173101425170898, 9.27578353881836, 7.909235000610352, 9.312966346740723, 8.406240463256836, 8.364550590515137, 7.570744037628174, 8.074455261230469, 7.83463716506958, 8.167763710021973, 8.486284255981445, 8.463601112365723], \"y\": [-3.8471672534942627, -4.995256423950195, -4.9962029457092285, -3.8116838932037354, -2.9010181427001953, -4.487363815307617, -4.451348304748535, -5.053496360778809, -4.919155120849609, -2.909334182739258, -3.728168487548828, -4.6878790855407715, -2.9948160648345947, -4.764623165130615, -4.61348295211792, -3.9196698665618896, -2.50618314743042, -3.3415396213531494, -1.8371360301971436, -5.009796619415283, -4.01990270614624, -4.510861873626709], \"z\": [-4.593685626983643, -7.61509895324707, -7.617056369781494, -4.728798866271973, -5.4937744140625, -6.540177345275879, -6.483452320098877, -7.725116729736328, -7.4663801193237305, -5.585066318511963, -4.51497745513916, -5.004622936248779, -5.522307395935059, -5.211887359619141, -6.884760856628418, -5.95305871963501, -5.800668239593506, -5.615975856781006, -5.35093355178833, -7.643378734588623, -4.685729503631592, -6.631551742553711]}, {\"hovertemplate\": \"Dominant_Topic=Topic 8<br>0=%{x}<br>1=%{y}<br>2=%{z}<extra></extra>\", \"legendgroup\": \"Topic 8\", \"marker\": {\"color\": \"#636efa\", \"opacity\": 0.7, \"symbol\": \"circle\"}, \"mode\": \"markers\", \"name\": \"Topic 8\", \"scene\": \"scene\", \"showlegend\": true, \"type\": \"scatter3d\", \"x\": [-8.335175514221191, -8.692670822143555, -8.693881034851074], \"y\": [7.952452182769775, 7.217087745666504, 7.2155022621154785], \"z\": [-3.5529932975769043, -3.3423447608947754, -3.341968536376953]}, {\"hovertemplate\": \"Dominant_Topic=Topic 9<br>0=%{x}<br>1=%{y}<br>2=%{z}<extra></extra>\", \"legendgroup\": \"Topic 9\", \"marker\": {\"color\": \"#EF553B\", \"opacity\": 0.7, \"symbol\": \"circle\"}, \"mode\": \"markers\", \"name\": \"Topic 9\", \"scene\": \"scene\", \"showlegend\": true, \"type\": \"scatter3d\", \"x\": [7.849208831787109, 8.865798950195312], \"y\": [-1.0469796657562256, 3.973982572555542], \"z\": [-5.150746822357178, 1.2435773611068726]}],                        {\"height\": 800, \"legend\": {\"title\": {\"text\": \"Dominant_Topic\"}, \"tracegroupgap\": 0}, \"scene\": {\"domain\": {\"x\": [0.0, 1.0], \"y\": [0.0, 1.0]}, \"xaxis\": {\"title\": {\"text\": \"0\"}}, \"yaxis\": {\"title\": {\"text\": \"1\"}}, \"zaxis\": {\"title\": {\"text\": \"2\"}}}, \"template\": {\"data\": {\"bar\": [{\"error_x\": {\"color\": \"#2a3f5f\"}, \"error_y\": {\"color\": \"#2a3f5f\"}, \"marker\": {\"line\": {\"color\": \"#E5ECF6\", \"width\": 0.5}}, \"type\": \"bar\"}], \"barpolar\": [{\"marker\": {\"line\": {\"color\": \"#E5ECF6\", \"width\": 0.5}}, \"type\": \"barpolar\"}], \"carpet\": [{\"aaxis\": {\"endlinecolor\": \"#2a3f5f\", \"gridcolor\": \"white\", \"linecolor\": \"white\", \"minorgridcolor\": \"white\", \"startlinecolor\": \"#2a3f5f\"}, \"baxis\": {\"endlinecolor\": \"#2a3f5f\", \"gridcolor\": \"white\", \"linecolor\": \"white\", \"minorgridcolor\": \"white\", \"startlinecolor\": \"#2a3f5f\"}, \"type\": \"carpet\"}], \"choropleth\": [{\"colorbar\": {\"outlinewidth\": 0, \"ticks\": \"\"}, \"type\": \"choropleth\"}], \"contour\": [{\"colorbar\": {\"outlinewidth\": 0, \"ticks\": \"\"}, \"colorscale\": [[0.0, \"#0d0887\"], [0.1111111111111111, \"#46039f\"], [0.2222222222222222, \"#7201a8\"], [0.3333333333333333, \"#9c179e\"], [0.4444444444444444, \"#bd3786\"], [0.5555555555555556, \"#d8576b\"], [0.6666666666666666, \"#ed7953\"], [0.7777777777777778, \"#fb9f3a\"], [0.8888888888888888, \"#fdca26\"], [1.0, \"#f0f921\"]], \"type\": \"contour\"}], \"contourcarpet\": [{\"colorbar\": {\"outlinewidth\": 0, \"ticks\": \"\"}, \"type\": \"contourcarpet\"}], \"heatmap\": [{\"colorbar\": {\"outlinewidth\": 0, \"ticks\": \"\"}, \"colorscale\": [[0.0, \"#0d0887\"], [0.1111111111111111, \"#46039f\"], [0.2222222222222222, \"#7201a8\"], [0.3333333333333333, \"#9c179e\"], [0.4444444444444444, \"#bd3786\"], [0.5555555555555556, \"#d8576b\"], [0.6666666666666666, \"#ed7953\"], [0.7777777777777778, \"#fb9f3a\"], [0.8888888888888888, \"#fdca26\"], [1.0, \"#f0f921\"]], \"type\": \"heatmap\"}], \"heatmapgl\": [{\"colorbar\": {\"outlinewidth\": 0, \"ticks\": \"\"}, \"colorscale\": [[0.0, \"#0d0887\"], [0.1111111111111111, \"#46039f\"], [0.2222222222222222, \"#7201a8\"], [0.3333333333333333, \"#9c179e\"], [0.4444444444444444, \"#bd3786\"], [0.5555555555555556, \"#d8576b\"], [0.6666666666666666, \"#ed7953\"], [0.7777777777777778, \"#fb9f3a\"], [0.8888888888888888, \"#fdca26\"], [1.0, \"#f0f921\"]], \"type\": \"heatmapgl\"}], \"histogram\": [{\"marker\": {\"colorbar\": {\"outlinewidth\": 0, \"ticks\": \"\"}}, \"type\": \"histogram\"}], \"histogram2d\": [{\"colorbar\": {\"outlinewidth\": 0, \"ticks\": \"\"}, \"colorscale\": [[0.0, \"#0d0887\"], [0.1111111111111111, \"#46039f\"], [0.2222222222222222, \"#7201a8\"], [0.3333333333333333, \"#9c179e\"], [0.4444444444444444, \"#bd3786\"], [0.5555555555555556, \"#d8576b\"], [0.6666666666666666, \"#ed7953\"], [0.7777777777777778, \"#fb9f3a\"], [0.8888888888888888, \"#fdca26\"], [1.0, \"#f0f921\"]], \"type\": \"histogram2d\"}], \"histogram2dcontour\": [{\"colorbar\": {\"outlinewidth\": 0, \"ticks\": \"\"}, \"colorscale\": [[0.0, \"#0d0887\"], [0.1111111111111111, \"#46039f\"], [0.2222222222222222, \"#7201a8\"], [0.3333333333333333, \"#9c179e\"], [0.4444444444444444, \"#bd3786\"], [0.5555555555555556, \"#d8576b\"], [0.6666666666666666, \"#ed7953\"], [0.7777777777777778, \"#fb9f3a\"], [0.8888888888888888, \"#fdca26\"], [1.0, \"#f0f921\"]], \"type\": \"histogram2dcontour\"}], \"mesh3d\": [{\"colorbar\": {\"outlinewidth\": 0, \"ticks\": \"\"}, \"type\": \"mesh3d\"}], \"parcoords\": [{\"line\": {\"colorbar\": {\"outlinewidth\": 0, \"ticks\": \"\"}}, \"type\": \"parcoords\"}], \"pie\": [{\"automargin\": true, \"type\": \"pie\"}], \"scatter\": [{\"marker\": {\"colorbar\": {\"outlinewidth\": 0, \"ticks\": \"\"}}, \"type\": \"scatter\"}], \"scatter3d\": [{\"line\": {\"colorbar\": {\"outlinewidth\": 0, \"ticks\": \"\"}}, \"marker\": {\"colorbar\": {\"outlinewidth\": 0, \"ticks\": \"\"}}, \"type\": \"scatter3d\"}], \"scattercarpet\": [{\"marker\": {\"colorbar\": {\"outlinewidth\": 0, \"ticks\": \"\"}}, \"type\": \"scattercarpet\"}], \"scattergeo\": [{\"marker\": {\"colorbar\": {\"outlinewidth\": 0, \"ticks\": \"\"}}, \"type\": \"scattergeo\"}], \"scattergl\": [{\"marker\": {\"colorbar\": {\"outlinewidth\": 0, \"ticks\": \"\"}}, \"type\": \"scattergl\"}], \"scattermapbox\": [{\"marker\": {\"colorbar\": {\"outlinewidth\": 0, \"ticks\": \"\"}}, \"type\": \"scattermapbox\"}], \"scatterpolar\": [{\"marker\": {\"colorbar\": {\"outlinewidth\": 0, \"ticks\": \"\"}}, \"type\": \"scatterpolar\"}], \"scatterpolargl\": [{\"marker\": {\"colorbar\": {\"outlinewidth\": 0, \"ticks\": \"\"}}, \"type\": \"scatterpolargl\"}], \"scatterternary\": [{\"marker\": {\"colorbar\": {\"outlinewidth\": 0, \"ticks\": \"\"}}, \"type\": \"scatterternary\"}], \"surface\": [{\"colorbar\": {\"outlinewidth\": 0, \"ticks\": \"\"}, \"colorscale\": [[0.0, \"#0d0887\"], [0.1111111111111111, \"#46039f\"], [0.2222222222222222, \"#7201a8\"], [0.3333333333333333, \"#9c179e\"], [0.4444444444444444, \"#bd3786\"], [0.5555555555555556, \"#d8576b\"], [0.6666666666666666, \"#ed7953\"], [0.7777777777777778, \"#fb9f3a\"], [0.8888888888888888, \"#fdca26\"], [1.0, \"#f0f921\"]], \"type\": \"surface\"}], \"table\": [{\"cells\": {\"fill\": {\"color\": \"#EBF0F8\"}, \"line\": {\"color\": \"white\"}}, \"header\": {\"fill\": {\"color\": \"#C8D4E3\"}, \"line\": {\"color\": \"white\"}}, \"type\": \"table\"}]}, \"layout\": {\"annotationdefaults\": {\"arrowcolor\": \"#2a3f5f\", \"arrowhead\": 0, \"arrowwidth\": 1}, \"autotypenumbers\": \"strict\", \"coloraxis\": {\"colorbar\": {\"outlinewidth\": 0, \"ticks\": \"\"}}, \"colorscale\": {\"diverging\": [[0, \"#8e0152\"], [0.1, \"#c51b7d\"], [0.2, \"#de77ae\"], [0.3, \"#f1b6da\"], [0.4, \"#fde0ef\"], [0.5, \"#f7f7f7\"], [0.6, \"#e6f5d0\"], [0.7, \"#b8e186\"], [0.8, \"#7fbc41\"], [0.9, \"#4d9221\"], [1, \"#276419\"]], \"sequential\": [[0.0, \"#0d0887\"], [0.1111111111111111, \"#46039f\"], [0.2222222222222222, \"#7201a8\"], [0.3333333333333333, \"#9c179e\"], [0.4444444444444444, \"#bd3786\"], [0.5555555555555556, \"#d8576b\"], [0.6666666666666666, \"#ed7953\"], [0.7777777777777778, \"#fb9f3a\"], [0.8888888888888888, \"#fdca26\"], [1.0, \"#f0f921\"]], \"sequentialminus\": [[0.0, \"#0d0887\"], [0.1111111111111111, \"#46039f\"], [0.2222222222222222, \"#7201a8\"], [0.3333333333333333, \"#9c179e\"], [0.4444444444444444, \"#bd3786\"], [0.5555555555555556, \"#d8576b\"], [0.6666666666666666, \"#ed7953\"], [0.7777777777777778, \"#fb9f3a\"], [0.8888888888888888, \"#fdca26\"], [1.0, \"#f0f921\"]]}, \"colorway\": [\"#636efa\", \"#EF553B\", \"#00cc96\", \"#ab63fa\", \"#FFA15A\", \"#19d3f3\", \"#FF6692\", \"#B6E880\", \"#FF97FF\", \"#FECB52\"], \"font\": {\"color\": \"#2a3f5f\"}, \"geo\": {\"bgcolor\": \"white\", \"lakecolor\": \"white\", \"landcolor\": \"#E5ECF6\", \"showlakes\": true, \"showland\": true, \"subunitcolor\": \"white\"}, \"hoverlabel\": {\"align\": \"left\"}, \"hovermode\": \"closest\", \"mapbox\": {\"style\": \"light\"}, \"paper_bgcolor\": \"white\", \"plot_bgcolor\": \"#E5ECF6\", \"polar\": {\"angularaxis\": {\"gridcolor\": \"white\", \"linecolor\": \"white\", \"ticks\": \"\"}, \"bgcolor\": \"#E5ECF6\", \"radialaxis\": {\"gridcolor\": \"white\", \"linecolor\": \"white\", \"ticks\": \"\"}}, \"scene\": {\"xaxis\": {\"backgroundcolor\": \"#E5ECF6\", \"gridcolor\": \"white\", \"gridwidth\": 2, \"linecolor\": \"white\", \"showbackground\": true, \"ticks\": \"\", \"zerolinecolor\": \"white\"}, \"yaxis\": {\"backgroundcolor\": \"#E5ECF6\", \"gridcolor\": \"white\", \"gridwidth\": 2, \"linecolor\": \"white\", \"showbackground\": true, \"ticks\": \"\", \"zerolinecolor\": \"white\"}, \"zaxis\": {\"backgroundcolor\": \"#E5ECF6\", \"gridcolor\": \"white\", \"gridwidth\": 2, \"linecolor\": \"white\", \"showbackground\": true, \"ticks\": \"\", \"zerolinecolor\": \"white\"}}, \"shapedefaults\": {\"line\": {\"color\": \"#2a3f5f\"}}, \"ternary\": {\"aaxis\": {\"gridcolor\": \"white\", \"linecolor\": \"white\", \"ticks\": \"\"}, \"baxis\": {\"gridcolor\": \"white\", \"linecolor\": \"white\", \"ticks\": \"\"}, \"bgcolor\": \"#E5ECF6\", \"caxis\": {\"gridcolor\": \"white\", \"linecolor\": \"white\", \"ticks\": \"\"}}, \"title\": {\"x\": 0.05}, \"xaxis\": {\"automargin\": true, \"gridcolor\": \"white\", \"linecolor\": \"white\", \"ticks\": \"\", \"title\": {\"standoff\": 15}, \"zerolinecolor\": \"white\", \"zerolinewidth\": 2}, \"yaxis\": {\"automargin\": true, \"gridcolor\": \"white\", \"linecolor\": \"white\", \"ticks\": \"\", \"title\": {\"standoff\": 15}, \"zerolinecolor\": \"white\", \"zerolinewidth\": 2}}}, \"title\": {\"text\": \"3d TSNE Plot for Topic Model\"}, \"width\": 900},                        {\"responsive\": true}                    ).then(function(){\n",
       "                            \n",
       "var gd = document.getElementById('f1c769ba-e444-40d1-8e1b-ef610efef25c');\n",
       "var x = new MutationObserver(function (mutations, observer) {{\n",
       "        var display = window.getComputedStyle(gd).display;\n",
       "        if (!display || display === 'none') {{\n",
       "            console.log([gd, 'removed!']);\n",
       "            Plotly.purge(gd);\n",
       "            observer.disconnect();\n",
       "        }}\n",
       "}});\n",
       "\n",
       "// Listen for the removal of the full notebook cells\n",
       "var notebookContainer = gd.closest('#notebook-container');\n",
       "if (notebookContainer) {{\n",
       "    x.observe(notebookContainer, {childList: true});\n",
       "}}\n",
       "\n",
       "// Listen for the clearing of the current output cell\n",
       "var outputEl = gd.closest('.output');\n",
       "if (outputEl) {{\n",
       "    x.observe(outputEl, {childList: true});\n",
       "}}\n",
       "\n",
       "                        })                };                });            </script>        </div>"
      ]
     },
     "metadata": {},
     "output_type": "display_data"
    },
    {
     "data": {
      "text/html": [
       "        <script type=\"text/javascript\">\n",
       "        window.PlotlyConfig = {MathJaxConfig: 'local'};\n",
       "        if (window.MathJax) {MathJax.Hub.Config({SVG: {font: \"STIX-Web\"}});}\n",
       "        if (typeof require !== 'undefined') {\n",
       "        require.undef(\"plotly\");\n",
       "        requirejs.config({\n",
       "            paths: {\n",
       "                'plotly': ['https://cdn.plot.ly/plotly-latest.min']\n",
       "            }\n",
       "        });\n",
       "        require(['plotly'], function(Plotly) {\n",
       "            window._Plotly = Plotly;\n",
       "        });\n",
       "        }\n",
       "        </script>\n",
       "        "
      ]
     },
     "metadata": {},
     "output_type": "display_data"
    },
    {
     "data": {
      "image/png": "[encoded data removed]",
      "text/plain": [
       "<Figure size 720x432 with 1 Axes>"
      ]
     },
     "metadata": {},
     "output_type": "display_data"
    }
   ],
   "source": [
    "plot_model(nmf, plot = 'tsne')\n",
    "\n",
    "plot_model(nmf, plot = 'umap')\n",
    "\n",
    "#plot_model(model, plot = 'topic_model')"
   ]
  },
  {
   "cell_type": "code",
   "execution_count": 14,
   "id": "stock-panel",
   "metadata": {},
   "outputs": [
    {
     "data": {
      "text/plain": [
       "<AxesSubplot:>"
      ]
     },
     "execution_count": 14,
     "metadata": {},
     "output_type": "execute_result"
    },
    {
     "data": {
      "image/png": "[encoded data removed]",
      "text/plain": [
       "<Figure size 720x1440 with 2 Axes>"
      ]
     },
     "metadata": {},
     "output_type": "display_data"
    }
   ],
   "source": [
    "%matplotlib inline\n",
    "import seaborn as sns; sns.set(rc={'figure.figsize':(10,20)})\n",
    "sns.heatmap(document_topic_matrix.loc[document_topic_matrix.idxmax(axis=1).sort_values().index])"
   ]
  },
  {
   "cell_type": "code",
   "execution_count": 15,
   "id": "generous-dryer",
   "metadata": {},
   "outputs": [
    {
     "data": {
      "text/plain": [
       "<AxesSubplot:>"
      ]
     },
     "execution_count": 15,
     "metadata": {},
     "output_type": "execute_result"
    },
    {
     "data": {
      "image/png": "[encoded data removed]",
      "text/plain": [
       "<Figure size 720x360 with 1 Axes>"
      ]
     },
     "metadata": {},
     "output_type": "display_data"
    }
   ],
   "source": [
    "sns.set(rc={'figure.figsize':(10,5)})\n",
    "document_topic_matrix.idxmax(axis=1).value_counts().plot.bar(color='lightblue')"
   ]
  },
  {
   "cell_type": "code",
   "execution_count": 16,
   "id": "collective-highway",
   "metadata": {},
   "outputs": [
    {
     "data": {
      "text/plain": [
       "array([[0.00000000e+00, 0.00000000e+00, 0.00000000e+00, ...,\n",
       "        0.00000000e+00, 0.00000000e+00, 3.82936104e-01],\n",
       "       [1.68694224e-03, 2.17263747e-01, 0.00000000e+00, ...,\n",
       "        3.81342127e-02, 0.00000000e+00, 0.00000000e+00],\n",
       "       [4.68429320e-03, 1.48682575e-03, 0.00000000e+00, ...,\n",
       "        0.00000000e+00, 1.39381801e-02, 0.00000000e+00],\n",
       "       ...,\n",
       "       [5.46489474e-05, 1.17889768e-02, 4.72037496e-02, ...,\n",
       "        2.51597129e-02, 0.00000000e+00, 2.32365919e-03],\n",
       "       [0.00000000e+00, 0.00000000e+00, 0.00000000e+00, ...,\n",
       "        0.00000000e+00, 1.03428275e-02, 0.00000000e+00],\n",
       "       [0.00000000e+00, 0.00000000e+00, 0.00000000e+00, ...,\n",
       "        3.24764650e-03, 1.66669077e-02, 0.00000000e+00]])"
      ]
     },
     "execution_count": 16,
     "metadata": {},
     "output_type": "execute_result"
    }
   ],
   "source": [
    "X"
   ]
  },
  {
   "cell_type": "code",
   "execution_count": 17,
   "id": "divine-mailman",
   "metadata": {},
   "outputs": [
    {
     "data": {
      "text/plain": [
       "array([[0.00293122, 0.00826373, 0.00828966, ..., 0.        , 0.        ,\n",
       "        0.00253978],\n",
       "       [0.        , 0.00429236, 0.00550728, ..., 0.00102783, 0.00463848,\n",
       "        0.00059226],\n",
       "       [0.00221526, 0.00472132, 0.        , ..., 0.01209903, 0.        ,\n",
       "        0.00010052],\n",
       "       ...,\n",
       "       [0.        , 0.01059353, 0.00012683, ..., 0.        , 0.0044769 ,\n",
       "        0.00439283],\n",
       "       [0.        , 0.        , 0.        , ..., 0.        , 0.        ,\n",
       "        0.00018463],\n",
       "       [0.00288458, 0.        , 0.        , ..., 0.02764849, 0.        ,\n",
       "        0.        ]])"
      ]
     },
     "execution_count": 17,
     "metadata": {},
     "output_type": "execute_result"
    }
   ],
   "source": [
    "Y"
   ]
  },
  {
   "cell_type": "code",
   "execution_count": null,
   "id": "bigger-removal",
   "metadata": {},
   "outputs": [],
   "source": []
  }
 ],
 "metadata": {
  "kernelspec": {
   "display_name": "Python 3",
   "language": "python",
   "name": "python3"
  },
  "language_info": {
   "codemirror_mode": {
    "name": "ipython",
    "version": 3
   },
   "file_extension": ".py",
   "mimetype": "text/x-python",
   "name": "python",
   "nbconvert_exporter": "python",
   "pygments_lexer": "ipython3",
   "version": "3.7.10"
  }
 },
 "nbformat": 4,
 "nbformat_minor": 5
}
