{
 "cells": [
  {
   "cell_type": "code",
   "execution_count": 2,
   "id": "aging-class",
   "metadata": {},
   "outputs": [
    {
     "name": "stdout",
     "output_type": "stream",
     "text": [
      "Creation of the directory ../Experimentos Modelos/LSI/exp-20521/ failed\n"
     ]
    }
   ],
   "source": [
    "from pycaret.nlp import *\n",
    "import cargar_corpus\n",
    "import pickle\n",
    "\n",
    "\n",
    "session_id = 20521\n",
    "random_state = session_id\n",
    "\n",
    "import os\n",
    "# define the name of the directory to be created\n",
    "path = \"../Experimentos Modelos/LSI/\" + \"exp-\" + str(session_id) +\"/\"\n",
    "\n",
    "try:\n",
    "    os.mkdir(path)\n",
    "except OSError:\n",
    "    print (\"Creation of the directory %s failed\" % path)\n",
    "else:\n",
    "    print (\"Successfully created the directory %s \" % path)\n",
    "    \n",
    "\n",
    "#ruta_dataset = \"../Dataset/PDF\"\n",
    "#ruta_dataset = \"F:/Memoria/Dataset/PDF\"\n",
    "ruta_modelo = path + \"LSI-Model\"\n",
    "\n",
    "#dataframe = cargar_corpus.getDataframe_pdf(ruta_dataset)\n",
    "#data = dataframe\n",
    "#sample = int(dataframe.shape[0]*.8)\n",
    "#data = dataframe.sample(sample, random_state=random_state).reset_index(drop=True)\n",
    "#data_unseen = dataframe.drop(data.index).reset_index(drop=True)\n",
    "\n",
    "\n",
    "#Cargar DF de pdf's\n",
    "\n",
    "path_exp = \"../Experimentos Modelos/train_data/\"\n",
    "data_train_dir = path_exp + \"data_train.df\"\n",
    "data_test_dir = path_exp + \"data_test.df\"\n",
    "\n",
    "data = pickle.load(open(data_train_dir, 'rb'))\n",
    "data_unseen = pickle.load(open(data_test_dir, 'rb'))"
   ]
  },
  {
   "cell_type": "code",
   "execution_count": 4,
   "id": "frank-portugal",
   "metadata": {},
   "outputs": [],
   "source": [
    "custom_stopwords = ['use', 'fig', 'figure' , 'value', 'www', 'org', 'also', 'model', 'ch', 'er_al', 'research', 'researchgate_net', 'year', \n",
    "                    'upwelle','however', 'ca','slr','area','sir','reference','page','may','table','show','study',\n",
    "                    'therefore','thus','may','term','low','sample','result','test','author','prepare','report','que','set',\n",
    "                    'column','moreover','find','read','total','author_funder_granted_biorxiv','holder_preprint_peer_reviewe',\n",
    "                    'licence_display_preprint_perpetuity','rights_reserved_reuse_allowe','biorxiv_preprint_first_poste',\n",
    "                    'content_courtesy_springer_nature','terms_apply_rights_reserve','university_chicago_press','conditions_http_journal',\n",
    "                    'content_downloaded_march_subject','reviews_aquaculture_author','reviews_aquaculture_published_john','publication',\n",
    "                    'time','funder_granted_biorxiv_license','display_preprint_perpetuity_right','authors_publication_working_relate',\n",
    "                    'reserved_reuse_allowed_without',\n",
    "                    'user_requested_enhancement_downloaded','view_project_content_followe','upload','international_license_permit',\n",
    "                    'sharing_adaptation_distribution_reproduction','claims_published_maps_institutional',\n",
    "                    'creative_commons_license','intended_permitted_statutory_regulation','exceeds_permitted_need','open_acces_article_license',\n",
    "                    'creative_commons_attribution','international_license_permit','copyright_holder_view','preprints_preprints_peer_reviewe',\n",
    "                    'preprint','posted_june_doi','university_concepcion_publications_citation','deem',\n",
    "                    'publications_citations_publications_citation','authors_working_related_projects','synthesis','introduction','owe',\n",
    "                    'scientific','average','september_user_requeste','source','type','old','field','single','day',\n",
    "                    'https_researchgate_net','victor_roberto_parra_sanchez','university_concepcion','universidad','related_project',\n",
    "                    'view_project','january_user_requested','profile','student', 'manuel', 'professor_department','dynamic', 'calculation',\n",
    "                    'general', 'context', 'valid', 'experimental','eq','email','citations_reads_authors_include',         \n",
    "                    \n",
    "                    \n",
    "                    'article', 'technology', 'citations_reads_authors_include', 'university_concepcion_publications_citation', \n",
    "                    'katia_saez_university_concepcion','katia_saez_university_publication',\n",
    "                    'authors_working_related_project', 'view_project_content_following', 'puerto', 'file', 'registered_office_mortimer_house',\n",
    "                    'wt', 'environmental', 'detail', 'include', 'instruction', 'authors_subscription', 'information', 'doi_citations_read',\n",
    "                    'authors_include',\n",
    "                    'faculty', 'department','whatsoever_howsoever_cause', 'arising_directly_indirectly','access', 'found_http_tandfonline',\n",
    "                    'com', 'condition','received_august_accepte','concepcion','box', 'plot',\n",
    "                    \n",
    "                    'able', 'others','above-mentioned otherwise','accordingly', 'overall','across', 'rather','along', 'remarkably','already',\n",
    "                    'significantly', 'alternatively simply','always sometimes','among specifically','and','or', 'straight', 'forward','anything',\n",
    "                    'substantially', 'anywhere', 'thereafter','better', 'therebetween','disclosure', 'therefor','due','therefrom', 'easily', 'therein', 'easy',\n",
    "                    'thereinto+','eg', 'thereon', 'either', 'therethrough','university','whatsoever','distribution_form_anyone',\n",
    "                    'expressly_forbidden','follow', 'additionally', 'analysis','distribution',\n",
    "                    'elsewhere', 'therewith','enough','together','especially', 'toward',  'essentially', 'towards','et al','typical', 'etc', 'typically',\n",
    "                    'eventually', 'upon', 'excellent', 'via', 'finally', 'vice versa',\n",
    "                    'furthermore', 'whatever','good', 'whereas','hence', 'whereat','he','she', 'wherever','him','her', 'whether','his','her',\n",
    "                    'whose','ie', 'within', 'ii', 'without', 'iii', 'yet', 'instead', 'later', 'like', 'little', 'many', 'may', 'meanwhile',\n",
    "                    'might','moreover','much','must','never','often','line','phase','cycle',\n",
    "                    \n",
    "                    'increase', 'effect', 'induce', 'activity', 'estimate', 'high', 'unit', 'download', 'material', 'follow', 'example', 'level', \n",
    "                    'variable', 'see', 'present', 'citation', 'distribution', 'equation', 'document', 'paper', 'citation_recomendation', 'pag',\n",
    "                    'stre', 'non', 'enchufetv', 'solution', 'problem', 'method', 'function', 'case', 'consider', 'order', 'give', 'obtain', 'theorem',\n",
    "                    'define','process','system', 'section', 'numerical', 'first', 'second', 'error', 'base', 'element',\n",
    "                    'item', 'measurement','could', 'need', 'datum', 'image', 'let', 'assume', 'proof', 'denote', 'constant', 'unknown',\n",
    "\n",
    "                    'review', 'publish', 'copyright', 'abstract', 'factor', \n",
    "\n",
    "                    \n",
    "                    \n",
    "]"
   ]
  },
  {
   "cell_type": "code",
   "execution_count": 5,
   "id": "focal-assistant",
   "metadata": {},
   "outputs": [
    {
     "data": {
      "text/html": [
       "<style  type=\"text/css\" >\n",
       "</style><table id=\"T_21849_\" ><thead>    <tr>        <th class=\"col_heading level0 col0\" >Description</th>        <th class=\"col_heading level0 col1\" >Value</th>    </tr></thead><tbody>\n",
       "                <tr>\n",
       "                                <td id=\"T_21849_row0_col0\" class=\"data row0 col0\" >session_id</td>\n",
       "                        <td id=\"T_21849_row0_col1\" class=\"data row0 col1\" >20521</td>\n",
       "            </tr>\n",
       "            <tr>\n",
       "                                <td id=\"T_21849_row1_col0\" class=\"data row1 col0\" >Documents</td>\n",
       "                        <td id=\"T_21849_row1_col1\" class=\"data row1 col1\" >969</td>\n",
       "            </tr>\n",
       "            <tr>\n",
       "                                <td id=\"T_21849_row2_col0\" class=\"data row2 col0\" >Vocab Size</td>\n",
       "                        <td id=\"T_21849_row2_col1\" class=\"data row2 col1\" >78899</td>\n",
       "            </tr>\n",
       "            <tr>\n",
       "                                <td id=\"T_21849_row3_col0\" class=\"data row3 col0\" >Custom Stopwords</td>\n",
       "                        <td id=\"T_21849_row3_col1\" class=\"data row3 col1\" >True</td>\n",
       "            </tr>\n",
       "    </tbody></table>"
      ],
      "text/plain": [
       "<pandas.io.formats.style.Styler at 0x21a638660c8>"
      ]
     },
     "metadata": {},
     "output_type": "display_data"
    },
    {
     "data": {
      "application/vnd.jupyter.widget-view+json": {
       "model_id": "",
       "version_major": 2,
       "version_minor": 0
      },
      "text/plain": [
       "IntProgress(value=0, description='Processing: ', max=24)"
      ]
     },
     "metadata": {},
     "output_type": "display_data"
    },
    {
     "data": {
      "application/vnd.jupyter.widget-view+json": {
       "model_id": "b663923d973a43358c042001d24028dc",
       "version_major": 2,
       "version_minor": 0
      },
      "text/plain": [
       "Output()"
      ]
     },
     "metadata": {},
     "output_type": "display_data"
    },
    {
     "data": {
      "text/html": [
       "        <script type=\"text/javascript\">\n",
       "        window.PlotlyConfig = {MathJaxConfig: 'local'};\n",
       "        if (window.MathJax) {MathJax.Hub.Config({SVG: {font: \"STIX-Web\"}});}\n",
       "        if (typeof require !== 'undefined') {\n",
       "        require.undef(\"plotly\");\n",
       "        requirejs.config({\n",
       "            paths: {\n",
       "                'plotly': ['https://cdn.plot.ly/plotly-latest.min']\n",
       "            }\n",
       "        });\n",
       "        require(['plotly'], function(Plotly) {\n",
       "            window._Plotly = Plotly;\n",
       "        });\n",
       "        }\n",
       "        </script>\n",
       "        "
      ]
     },
     "metadata": {},
     "output_type": "display_data"
    },
    {
     "data": {
      "application/vnd.plotly.v1+json": {
       "config": {
        "plotlyServerURL": "https://plot.ly"
       },
       "data": [
        {
         "hovertemplate": "Metric=Coherence<br># Topics=%{x}<br>Score=%{y}<extra></extra>",
         "legendgroup": "Coherence",
         "line": {
          "color": "#636efa",
          "dash": "solid",
          "shape": "linear"
         },
         "mode": "lines",
         "name": "Coherence",
         "orientation": "v",
         "showlegend": true,
         "type": "scatter",
         "x": [
          2,
          4,
          6,
          8,
          10,
          12,
          14,
          16,
          18,
          20,
          22,
          24,
          26,
          28
         ],
         "xaxis": "x",
         "y": [
          0.4818031364836959,
          0.56386503279335,
          0.4779508053107782,
          0.45806835312605865,
          0.43875117449983303,
          0.4350313558110022,
          0.4165666121783559,
          0.4265095228049658,
          0.41162063164168683,
          0.4006403773696231,
          0.4003375652859546,
          0.3552577017429444,
          0.37100038711287114,
          0.33394570147815417
         ],
         "yaxis": "y"
        }
       ],
       "layout": {
        "legend": {
         "title": {
          "text": "Metric"
         },
         "tracegroupgap": 0
        },
        "plot_bgcolor": "rgb(245,245,245)",
        "template": {
         "data": {
          "bar": [
           {
            "error_x": {
             "color": "#2a3f5f"
            },
            "error_y": {
             "color": "#2a3f5f"
            },
            "marker": {
             "line": {
              "color": "#E5ECF6",
              "width": 0.5
             }
            },
            "type": "bar"
           }
          ],
          "barpolar": [
           {
            "marker": {
             "line": {
              "color": "#E5ECF6",
              "width": 0.5
             }
            },
            "type": "barpolar"
           }
          ],
          "carpet": [
           {
            "aaxis": {
             "endlinecolor": "#2a3f5f",
             "gridcolor": "white",
             "linecolor": "white",
             "minorgridcolor": "white",
             "startlinecolor": "#2a3f5f"
            },
            "baxis": {
             "endlinecolor": "#2a3f5f",
             "gridcolor": "white",
             "linecolor": "white",
             "minorgridcolor": "white",
             "startlinecolor": "#2a3f5f"
            },
            "type": "carpet"
           }
          ],
          "choropleth": [
           {
            "colorbar": {
             "outlinewidth": 0,
             "ticks": ""
            },
            "type": "choropleth"
           }
          ],
          "contour": [
           {
            "colorbar": {
             "outlinewidth": 0,
             "ticks": ""
            },
            "colorscale": [
             [
              0,
              "#0d0887"
             ],
             [
              0.1111111111111111,
              "#46039f"
             ],
             [
              0.2222222222222222,
              "#7201a8"
             ],
             [
              0.3333333333333333,
              "#9c179e"
             ],
             [
              0.4444444444444444,
              "#bd3786"
             ],
             [
              0.5555555555555556,
              "#d8576b"
             ],
             [
              0.6666666666666666,
              "#ed7953"
             ],
             [
              0.7777777777777778,
              "#fb9f3a"
             ],
             [
              0.8888888888888888,
              "#fdca26"
             ],
             [
              1,
              "#f0f921"
             ]
            ],
            "type": "contour"
           }
          ],
          "contourcarpet": [
           {
            "colorbar": {
             "outlinewidth": 0,
             "ticks": ""
            },
            "type": "contourcarpet"
           }
          ],
          "heatmap": [
           {
            "colorbar": {
             "outlinewidth": 0,
             "ticks": ""
            },
            "colorscale": [
             [
              0,
              "#0d0887"
             ],
             [
              0.1111111111111111,
              "#46039f"
             ],
             [
              0.2222222222222222,
              "#7201a8"
             ],
             [
              0.3333333333333333,
              "#9c179e"
             ],
             [
              0.4444444444444444,
              "#bd3786"
             ],
             [
              0.5555555555555556,
              "#d8576b"
             ],
             [
              0.6666666666666666,
              "#ed7953"
             ],
             [
              0.7777777777777778,
              "#fb9f3a"
             ],
             [
              0.8888888888888888,
              "#fdca26"
             ],
             [
              1,
              "#f0f921"
             ]
            ],
            "type": "heatmap"
           }
          ],
          "heatmapgl": [
           {
            "colorbar": {
             "outlinewidth": 0,
             "ticks": ""
            },
            "colorscale": [
             [
              0,
              "#0d0887"
             ],
             [
              0.1111111111111111,
              "#46039f"
             ],
             [
              0.2222222222222222,
              "#7201a8"
             ],
             [
              0.3333333333333333,
              "#9c179e"
             ],
             [
              0.4444444444444444,
              "#bd3786"
             ],
             [
              0.5555555555555556,
              "#d8576b"
             ],
             [
              0.6666666666666666,
              "#ed7953"
             ],
             [
              0.7777777777777778,
              "#fb9f3a"
             ],
             [
              0.8888888888888888,
              "#fdca26"
             ],
             [
              1,
              "#f0f921"
             ]
            ],
            "type": "heatmapgl"
           }
          ],
          "histogram": [
           {
            "marker": {
             "colorbar": {
              "outlinewidth": 0,
              "ticks": ""
             }
            },
            "type": "histogram"
           }
          ],
          "histogram2d": [
           {
            "colorbar": {
             "outlinewidth": 0,
             "ticks": ""
            },
            "colorscale": [
             [
              0,
              "#0d0887"
             ],
             [
              0.1111111111111111,
              "#46039f"
             ],
             [
              0.2222222222222222,
              "#7201a8"
             ],
             [
              0.3333333333333333,
              "#9c179e"
             ],
             [
              0.4444444444444444,
              "#bd3786"
             ],
             [
              0.5555555555555556,
              "#d8576b"
             ],
             [
              0.6666666666666666,
              "#ed7953"
             ],
             [
              0.7777777777777778,
              "#fb9f3a"
             ],
             [
              0.8888888888888888,
              "#fdca26"
             ],
             [
              1,
              "#f0f921"
             ]
            ],
            "type": "histogram2d"
           }
          ],
          "histogram2dcontour": [
           {
            "colorbar": {
             "outlinewidth": 0,
             "ticks": ""
            },
            "colorscale": [
             [
              0,
              "#0d0887"
             ],
             [
              0.1111111111111111,
              "#46039f"
             ],
             [
              0.2222222222222222,
              "#7201a8"
             ],
             [
              0.3333333333333333,
              "#9c179e"
             ],
             [
              0.4444444444444444,
              "#bd3786"
             ],
             [
              0.5555555555555556,
              "#d8576b"
             ],
             [
              0.6666666666666666,
              "#ed7953"
             ],
             [
              0.7777777777777778,
              "#fb9f3a"
             ],
             [
              0.8888888888888888,
              "#fdca26"
             ],
             [
              1,
              "#f0f921"
             ]
            ],
            "type": "histogram2dcontour"
           }
          ],
          "mesh3d": [
           {
            "colorbar": {
             "outlinewidth": 0,
             "ticks": ""
            },
            "type": "mesh3d"
           }
          ],
          "parcoords": [
           {
            "line": {
             "colorbar": {
              "outlinewidth": 0,
              "ticks": ""
             }
            },
            "type": "parcoords"
           }
          ],
          "pie": [
           {
            "automargin": true,
            "type": "pie"
           }
          ],
          "scatter": [
           {
            "marker": {
             "colorbar": {
              "outlinewidth": 0,
              "ticks": ""
             }
            },
            "type": "scatter"
           }
          ],
          "scatter3d": [
           {
            "line": {
             "colorbar": {
              "outlinewidth": 0,
              "ticks": ""
             }
            },
            "marker": {
             "colorbar": {
              "outlinewidth": 0,
              "ticks": ""
             }
            },
            "type": "scatter3d"
           }
          ],
          "scattercarpet": [
           {
            "marker": {
             "colorbar": {
              "outlinewidth": 0,
              "ticks": ""
             }
            },
            "type": "scattercarpet"
           }
          ],
          "scattergeo": [
           {
            "marker": {
             "colorbar": {
              "outlinewidth": 0,
              "ticks": ""
             }
            },
            "type": "scattergeo"
           }
          ],
          "scattergl": [
           {
            "marker": {
             "colorbar": {
              "outlinewidth": 0,
              "ticks": ""
             }
            },
            "type": "scattergl"
           }
          ],
          "scattermapbox": [
           {
            "marker": {
             "colorbar": {
              "outlinewidth": 0,
              "ticks": ""
             }
            },
            "type": "scattermapbox"
           }
          ],
          "scatterpolar": [
           {
            "marker": {
             "colorbar": {
              "outlinewidth": 0,
              "ticks": ""
             }
            },
            "type": "scatterpolar"
           }
          ],
          "scatterpolargl": [
           {
            "marker": {
             "colorbar": {
              "outlinewidth": 0,
              "ticks": ""
             }
            },
            "type": "scatterpolargl"
           }
          ],
          "scatterternary": [
           {
            "marker": {
             "colorbar": {
              "outlinewidth": 0,
              "ticks": ""
             }
            },
            "type": "scatterternary"
           }
          ],
          "surface": [
           {
            "colorbar": {
             "outlinewidth": 0,
             "ticks": ""
            },
            "colorscale": [
             [
              0,
              "#0d0887"
             ],
             [
              0.1111111111111111,
              "#46039f"
             ],
             [
              0.2222222222222222,
              "#7201a8"
             ],
             [
              0.3333333333333333,
              "#9c179e"
             ],
             [
              0.4444444444444444,
              "#bd3786"
             ],
             [
              0.5555555555555556,
              "#d8576b"
             ],
             [
              0.6666666666666666,
              "#ed7953"
             ],
             [
              0.7777777777777778,
              "#fb9f3a"
             ],
             [
              0.8888888888888888,
              "#fdca26"
             ],
             [
              1,
              "#f0f921"
             ]
            ],
            "type": "surface"
           }
          ],
          "table": [
           {
            "cells": {
             "fill": {
              "color": "#EBF0F8"
             },
             "line": {
              "color": "white"
             }
            },
            "header": {
             "fill": {
              "color": "#C8D4E3"
             },
             "line": {
              "color": "white"
             }
            },
            "type": "table"
           }
          ]
         },
         "layout": {
          "annotationdefaults": {
           "arrowcolor": "#2a3f5f",
           "arrowhead": 0,
           "arrowwidth": 1
          },
          "autotypenumbers": "strict",
          "coloraxis": {
           "colorbar": {
            "outlinewidth": 0,
            "ticks": ""
           }
          },
          "colorscale": {
           "diverging": [
            [
             0,
             "#8e0152"
            ],
            [
             0.1,
             "#c51b7d"
            ],
            [
             0.2,
             "#de77ae"
            ],
            [
             0.3,
             "#f1b6da"
            ],
            [
             0.4,
             "#fde0ef"
            ],
            [
             0.5,
             "#f7f7f7"
            ],
            [
             0.6,
             "#e6f5d0"
            ],
            [
             0.7,
             "#b8e186"
            ],
            [
             0.8,
             "#7fbc41"
            ],
            [
             0.9,
             "#4d9221"
            ],
            [
             1,
             "#276419"
            ]
           ],
           "sequential": [
            [
             0,
             "#0d0887"
            ],
            [
             0.1111111111111111,
             "#46039f"
            ],
            [
             0.2222222222222222,
             "#7201a8"
            ],
            [
             0.3333333333333333,
             "#9c179e"
            ],
            [
             0.4444444444444444,
             "#bd3786"
            ],
            [
             0.5555555555555556,
             "#d8576b"
            ],
            [
             0.6666666666666666,
             "#ed7953"
            ],
            [
             0.7777777777777778,
             "#fb9f3a"
            ],
            [
             0.8888888888888888,
             "#fdca26"
            ],
            [
             1,
             "#f0f921"
            ]
           ],
           "sequentialminus": [
            [
             0,
             "#0d0887"
            ],
            [
             0.1111111111111111,
             "#46039f"
            ],
            [
             0.2222222222222222,
             "#7201a8"
            ],
            [
             0.3333333333333333,
             "#9c179e"
            ],
            [
             0.4444444444444444,
             "#bd3786"
            ],
            [
             0.5555555555555556,
             "#d8576b"
            ],
            [
             0.6666666666666666,
             "#ed7953"
            ],
            [
             0.7777777777777778,
             "#fb9f3a"
            ],
            [
             0.8888888888888888,
             "#fdca26"
            ],
            [
             1,
             "#f0f921"
            ]
           ]
          },
          "colorway": [
           "#636efa",
           "#EF553B",
           "#00cc96",
           "#ab63fa",
           "#FFA15A",
           "#19d3f3",
           "#FF6692",
           "#B6E880",
           "#FF97FF",
           "#FECB52"
          ],
          "font": {
           "color": "#2a3f5f"
          },
          "geo": {
           "bgcolor": "white",
           "lakecolor": "white",
           "landcolor": "#E5ECF6",
           "showlakes": true,
           "showland": true,
           "subunitcolor": "white"
          },
          "hoverlabel": {
           "align": "left"
          },
          "hovermode": "closest",
          "mapbox": {
           "style": "light"
          },
          "paper_bgcolor": "white",
          "plot_bgcolor": "#E5ECF6",
          "polar": {
           "angularaxis": {
            "gridcolor": "white",
            "linecolor": "white",
            "ticks": ""
           },
           "bgcolor": "#E5ECF6",
           "radialaxis": {
            "gridcolor": "white",
            "linecolor": "white",
            "ticks": ""
           }
          },
          "scene": {
           "xaxis": {
            "backgroundcolor": "#E5ECF6",
            "gridcolor": "white",
            "gridwidth": 2,
            "linecolor": "white",
            "showbackground": true,
            "ticks": "",
            "zerolinecolor": "white"
           },
           "yaxis": {
            "backgroundcolor": "#E5ECF6",
            "gridcolor": "white",
            "gridwidth": 2,
            "linecolor": "white",
            "showbackground": true,
            "ticks": "",
            "zerolinecolor": "white"
           },
           "zaxis": {
            "backgroundcolor": "#E5ECF6",
            "gridcolor": "white",
            "gridwidth": 2,
            "linecolor": "white",
            "showbackground": true,
            "ticks": "",
            "zerolinecolor": "white"
           }
          },
          "shapedefaults": {
           "line": {
            "color": "#2a3f5f"
           }
          },
          "ternary": {
           "aaxis": {
            "gridcolor": "white",
            "linecolor": "white",
            "ticks": ""
           },
           "baxis": {
            "gridcolor": "white",
            "linecolor": "white",
            "ticks": ""
           },
           "bgcolor": "#E5ECF6",
           "caxis": {
            "gridcolor": "white",
            "linecolor": "white",
            "ticks": ""
           }
          },
          "title": {
           "x": 0.05
          },
          "xaxis": {
           "automargin": true,
           "gridcolor": "white",
           "linecolor": "white",
           "ticks": "",
           "title": {
            "standoff": 15
           },
           "zerolinecolor": "white",
           "zerolinewidth": 2
          },
          "yaxis": {
           "automargin": true,
           "gridcolor": "white",
           "linecolor": "white",
           "ticks": "",
           "title": {
            "standoff": 15
           },
           "zerolinecolor": "white",
           "zerolinewidth": 2
          }
         }
        },
        "title": {
         "text": "Coherence Value and # of Topics"
        },
        "xaxis": {
         "anchor": "y",
         "domain": [
          0,
          1
         ],
         "title": {
          "text": "# Topics"
         }
        },
        "yaxis": {
         "anchor": "x",
         "domain": [
          0,
          1
         ],
         "title": {
          "text": "Score"
         }
        }
       }
      },
      "text/html": [
       "<div>                            <div id=\"17e03ef9-7b1f-4163-a609-69c3e63748f0\" class=\"plotly-graph-div\" style=\"height:525px; width:100%;\"></div>            <script type=\"text/javascript\">                require([\"plotly\"], function(Plotly) {                    window.PLOTLYENV=window.PLOTLYENV || {};                                    if (document.getElementById(\"17e03ef9-7b1f-4163-a609-69c3e63748f0\")) {                    Plotly.newPlot(                        \"17e03ef9-7b1f-4163-a609-69c3e63748f0\",                        [{\"hovertemplate\": \"Metric=Coherence<br># Topics=%{x}<br>Score=%{y}<extra></extra>\", \"legendgroup\": \"Coherence\", \"line\": {\"color\": \"#636efa\", \"dash\": \"solid\", \"shape\": \"linear\"}, \"mode\": \"lines\", \"name\": \"Coherence\", \"orientation\": \"v\", \"showlegend\": true, \"type\": \"scatter\", \"x\": [2, 4, 6, 8, 10, 12, 14, 16, 18, 20, 22, 24, 26, 28], \"xaxis\": \"x\", \"y\": [0.4818031364836959, 0.56386503279335, 0.4779508053107782, 0.45806835312605865, 0.43875117449983303, 0.4350313558110022, 0.4165666121783559, 0.4265095228049658, 0.41162063164168683, 0.4006403773696231, 0.4003375652859546, 0.3552577017429444, 0.37100038711287114, 0.33394570147815417], \"yaxis\": \"y\"}],                        {\"legend\": {\"title\": {\"text\": \"Metric\"}, \"tracegroupgap\": 0}, \"plot_bgcolor\": \"rgb(245,245,245)\", \"template\": {\"data\": {\"bar\": [{\"error_x\": {\"color\": \"#2a3f5f\"}, \"error_y\": {\"color\": \"#2a3f5f\"}, \"marker\": {\"line\": {\"color\": \"#E5ECF6\", \"width\": 0.5}}, \"type\": \"bar\"}], \"barpolar\": [{\"marker\": {\"line\": {\"color\": \"#E5ECF6\", \"width\": 0.5}}, \"type\": \"barpolar\"}], \"carpet\": [{\"aaxis\": {\"endlinecolor\": \"#2a3f5f\", \"gridcolor\": \"white\", \"linecolor\": \"white\", \"minorgridcolor\": \"white\", \"startlinecolor\": \"#2a3f5f\"}, \"baxis\": {\"endlinecolor\": \"#2a3f5f\", \"gridcolor\": \"white\", \"linecolor\": \"white\", \"minorgridcolor\": \"white\", \"startlinecolor\": \"#2a3f5f\"}, \"type\": \"carpet\"}], \"choropleth\": [{\"colorbar\": {\"outlinewidth\": 0, \"ticks\": \"\"}, \"type\": \"choropleth\"}], \"contour\": [{\"colorbar\": {\"outlinewidth\": 0, \"ticks\": \"\"}, \"colorscale\": [[0.0, \"#0d0887\"], [0.1111111111111111, \"#46039f\"], [0.2222222222222222, \"#7201a8\"], [0.3333333333333333, \"#9c179e\"], [0.4444444444444444, \"#bd3786\"], [0.5555555555555556, \"#d8576b\"], [0.6666666666666666, \"#ed7953\"], [0.7777777777777778, \"#fb9f3a\"], [0.8888888888888888, \"#fdca26\"], [1.0, \"#f0f921\"]], \"type\": \"contour\"}], \"contourcarpet\": [{\"colorbar\": {\"outlinewidth\": 0, \"ticks\": \"\"}, \"type\": \"contourcarpet\"}], \"heatmap\": [{\"colorbar\": {\"outlinewidth\": 0, \"ticks\": \"\"}, \"colorscale\": [[0.0, \"#0d0887\"], [0.1111111111111111, \"#46039f\"], [0.2222222222222222, \"#7201a8\"], [0.3333333333333333, \"#9c179e\"], [0.4444444444444444, \"#bd3786\"], [0.5555555555555556, \"#d8576b\"], [0.6666666666666666, \"#ed7953\"], [0.7777777777777778, \"#fb9f3a\"], [0.8888888888888888, \"#fdca26\"], [1.0, \"#f0f921\"]], \"type\": \"heatmap\"}], \"heatmapgl\": [{\"colorbar\": {\"outlinewidth\": 0, \"ticks\": \"\"}, \"colorscale\": [[0.0, \"#0d0887\"], [0.1111111111111111, \"#46039f\"], [0.2222222222222222, \"#7201a8\"], [0.3333333333333333, \"#9c179e\"], [0.4444444444444444, \"#bd3786\"], [0.5555555555555556, \"#d8576b\"], [0.6666666666666666, \"#ed7953\"], [0.7777777777777778, \"#fb9f3a\"], [0.8888888888888888, \"#fdca26\"], [1.0, \"#f0f921\"]], \"type\": \"heatmapgl\"}], \"histogram\": [{\"marker\": {\"colorbar\": {\"outlinewidth\": 0, \"ticks\": \"\"}}, \"type\": \"histogram\"}], \"histogram2d\": [{\"colorbar\": {\"outlinewidth\": 0, \"ticks\": \"\"}, \"colorscale\": [[0.0, \"#0d0887\"], [0.1111111111111111, \"#46039f\"], [0.2222222222222222, \"#7201a8\"], [0.3333333333333333, \"#9c179e\"], [0.4444444444444444, \"#bd3786\"], [0.5555555555555556, \"#d8576b\"], [0.6666666666666666, \"#ed7953\"], [0.7777777777777778, \"#fb9f3a\"], [0.8888888888888888, \"#fdca26\"], [1.0, \"#f0f921\"]], \"type\": \"histogram2d\"}], \"histogram2dcontour\": [{\"colorbar\": {\"outlinewidth\": 0, \"ticks\": \"\"}, \"colorscale\": [[0.0, \"#0d0887\"], [0.1111111111111111, \"#46039f\"], [0.2222222222222222, \"#7201a8\"], [0.3333333333333333, \"#9c179e\"], [0.4444444444444444, \"#bd3786\"], [0.5555555555555556, \"#d8576b\"], [0.6666666666666666, \"#ed7953\"], [0.7777777777777778, \"#fb9f3a\"], [0.8888888888888888, \"#fdca26\"], [1.0, \"#f0f921\"]], \"type\": \"histogram2dcontour\"}], \"mesh3d\": [{\"colorbar\": {\"outlinewidth\": 0, \"ticks\": \"\"}, \"type\": \"mesh3d\"}], \"parcoords\": [{\"line\": {\"colorbar\": {\"outlinewidth\": 0, \"ticks\": \"\"}}, \"type\": \"parcoords\"}], \"pie\": [{\"automargin\": true, \"type\": \"pie\"}], \"scatter\": [{\"marker\": {\"colorbar\": {\"outlinewidth\": 0, \"ticks\": \"\"}}, \"type\": \"scatter\"}], \"scatter3d\": [{\"line\": {\"colorbar\": {\"outlinewidth\": 0, \"ticks\": \"\"}}, \"marker\": {\"colorbar\": {\"outlinewidth\": 0, \"ticks\": \"\"}}, \"type\": \"scatter3d\"}], \"scattercarpet\": [{\"marker\": {\"colorbar\": {\"outlinewidth\": 0, \"ticks\": \"\"}}, \"type\": \"scattercarpet\"}], \"scattergeo\": [{\"marker\": {\"colorbar\": {\"outlinewidth\": 0, \"ticks\": \"\"}}, \"type\": \"scattergeo\"}], \"scattergl\": [{\"marker\": {\"colorbar\": {\"outlinewidth\": 0, \"ticks\": \"\"}}, \"type\": \"scattergl\"}], \"scattermapbox\": [{\"marker\": {\"colorbar\": {\"outlinewidth\": 0, \"ticks\": \"\"}}, \"type\": \"scattermapbox\"}], \"scatterpolar\": [{\"marker\": {\"colorbar\": {\"outlinewidth\": 0, \"ticks\": \"\"}}, \"type\": \"scatterpolar\"}], \"scatterpolargl\": [{\"marker\": {\"colorbar\": {\"outlinewidth\": 0, \"ticks\": \"\"}}, \"type\": \"scatterpolargl\"}], \"scatterternary\": [{\"marker\": {\"colorbar\": {\"outlinewidth\": 0, \"ticks\": \"\"}}, \"type\": \"scatterternary\"}], \"surface\": [{\"colorbar\": {\"outlinewidth\": 0, \"ticks\": \"\"}, \"colorscale\": [[0.0, \"#0d0887\"], [0.1111111111111111, \"#46039f\"], [0.2222222222222222, \"#7201a8\"], [0.3333333333333333, \"#9c179e\"], [0.4444444444444444, \"#bd3786\"], [0.5555555555555556, \"#d8576b\"], [0.6666666666666666, \"#ed7953\"], [0.7777777777777778, \"#fb9f3a\"], [0.8888888888888888, \"#fdca26\"], [1.0, \"#f0f921\"]], \"type\": \"surface\"}], \"table\": [{\"cells\": {\"fill\": {\"color\": \"#EBF0F8\"}, \"line\": {\"color\": \"white\"}}, \"header\": {\"fill\": {\"color\": \"#C8D4E3\"}, \"line\": {\"color\": \"white\"}}, \"type\": \"table\"}]}, \"layout\": {\"annotationdefaults\": {\"arrowcolor\": \"#2a3f5f\", \"arrowhead\": 0, \"arrowwidth\": 1}, \"autotypenumbers\": \"strict\", \"coloraxis\": {\"colorbar\": {\"outlinewidth\": 0, \"ticks\": \"\"}}, \"colorscale\": {\"diverging\": [[0, \"#8e0152\"], [0.1, \"#c51b7d\"], [0.2, \"#de77ae\"], [0.3, \"#f1b6da\"], [0.4, \"#fde0ef\"], [0.5, \"#f7f7f7\"], [0.6, \"#e6f5d0\"], [0.7, \"#b8e186\"], [0.8, \"#7fbc41\"], [0.9, \"#4d9221\"], [1, \"#276419\"]], \"sequential\": [[0.0, \"#0d0887\"], [0.1111111111111111, \"#46039f\"], [0.2222222222222222, \"#7201a8\"], [0.3333333333333333, \"#9c179e\"], [0.4444444444444444, \"#bd3786\"], [0.5555555555555556, \"#d8576b\"], [0.6666666666666666, \"#ed7953\"], [0.7777777777777778, \"#fb9f3a\"], [0.8888888888888888, \"#fdca26\"], [1.0, \"#f0f921\"]], \"sequentialminus\": [[0.0, \"#0d0887\"], [0.1111111111111111, \"#46039f\"], [0.2222222222222222, \"#7201a8\"], [0.3333333333333333, \"#9c179e\"], [0.4444444444444444, \"#bd3786\"], [0.5555555555555556, \"#d8576b\"], [0.6666666666666666, \"#ed7953\"], [0.7777777777777778, \"#fb9f3a\"], [0.8888888888888888, \"#fdca26\"], [1.0, \"#f0f921\"]]}, \"colorway\": [\"#636efa\", \"#EF553B\", \"#00cc96\", \"#ab63fa\", \"#FFA15A\", \"#19d3f3\", \"#FF6692\", \"#B6E880\", \"#FF97FF\", \"#FECB52\"], \"font\": {\"color\": \"#2a3f5f\"}, \"geo\": {\"bgcolor\": \"white\", \"lakecolor\": \"white\", \"landcolor\": \"#E5ECF6\", \"showlakes\": true, \"showland\": true, \"subunitcolor\": \"white\"}, \"hoverlabel\": {\"align\": \"left\"}, \"hovermode\": \"closest\", \"mapbox\": {\"style\": \"light\"}, \"paper_bgcolor\": \"white\", \"plot_bgcolor\": \"#E5ECF6\", \"polar\": {\"angularaxis\": {\"gridcolor\": \"white\", \"linecolor\": \"white\", \"ticks\": \"\"}, \"bgcolor\": \"#E5ECF6\", \"radialaxis\": {\"gridcolor\": \"white\", \"linecolor\": \"white\", \"ticks\": \"\"}}, \"scene\": {\"xaxis\": {\"backgroundcolor\": \"#E5ECF6\", \"gridcolor\": \"white\", \"gridwidth\": 2, \"linecolor\": \"white\", \"showbackground\": true, \"ticks\": \"\", \"zerolinecolor\": \"white\"}, \"yaxis\": {\"backgroundcolor\": \"#E5ECF6\", \"gridcolor\": \"white\", \"gridwidth\": 2, \"linecolor\": \"white\", \"showbackground\": true, \"ticks\": \"\", \"zerolinecolor\": \"white\"}, \"zaxis\": {\"backgroundcolor\": \"#E5ECF6\", \"gridcolor\": \"white\", \"gridwidth\": 2, \"linecolor\": \"white\", \"showbackground\": true, \"ticks\": \"\", \"zerolinecolor\": \"white\"}}, \"shapedefaults\": {\"line\": {\"color\": \"#2a3f5f\"}}, \"ternary\": {\"aaxis\": {\"gridcolor\": \"white\", \"linecolor\": \"white\", \"ticks\": \"\"}, \"baxis\": {\"gridcolor\": \"white\", \"linecolor\": \"white\", \"ticks\": \"\"}, \"bgcolor\": \"#E5ECF6\", \"caxis\": {\"gridcolor\": \"white\", \"linecolor\": \"white\", \"ticks\": \"\"}}, \"title\": {\"x\": 0.05}, \"xaxis\": {\"automargin\": true, \"gridcolor\": \"white\", \"linecolor\": \"white\", \"ticks\": \"\", \"title\": {\"standoff\": 15}, \"zerolinecolor\": \"white\", \"zerolinewidth\": 2}, \"yaxis\": {\"automargin\": true, \"gridcolor\": \"white\", \"linecolor\": \"white\", \"ticks\": \"\", \"title\": {\"standoff\": 15}, \"zerolinecolor\": \"white\", \"zerolinewidth\": 2}}}, \"title\": {\"text\": \"Coherence Value and # of Topics\"}, \"xaxis\": {\"anchor\": \"y\", \"domain\": [0.0, 1.0], \"title\": {\"text\": \"# Topics\"}}, \"yaxis\": {\"anchor\": \"x\", \"domain\": [0.0, 1.0], \"title\": {\"text\": \"Score\"}}},                        {\"responsive\": true}                    ).then(function(){\n",
       "                            \n",
       "var gd = document.getElementById('17e03ef9-7b1f-4163-a609-69c3e63748f0');\n",
       "var x = new MutationObserver(function (mutations, observer) {{\n",
       "        var display = window.getComputedStyle(gd).display;\n",
       "        if (!display || display === 'none') {{\n",
       "            console.log([gd, 'removed!']);\n",
       "            Plotly.purge(gd);\n",
       "            observer.disconnect();\n",
       "        }}\n",
       "}});\n",
       "\n",
       "// Listen for the removal of the full notebook cells\n",
       "var notebookContainer = gd.closest('#notebook-container');\n",
       "if (notebookContainer) {{\n",
       "    x.observe(notebookContainer, {childList: true});\n",
       "}}\n",
       "\n",
       "// Listen for the clearing of the current output cell\n",
       "var outputEl = gd.closest('.output');\n",
       "if (outputEl) {{\n",
       "    x.observe(outputEl, {childList: true});\n",
       "}}\n",
       "\n",
       "                        })                };                });            </script>        </div>"
      ]
     },
     "metadata": {},
     "output_type": "display_data"
    },
    {
     "name": "stdout",
     "output_type": "stream",
     "text": [
      "Best Model: Latent Semantic Indexing | # Topics: 4 | Coherence: 0.5639\n",
      "Model Succesfully Saved\n"
     ]
    },
    {
     "data": {
      "text/plain": [
       "(<gensim.models.lsimodel.LsiModel at 0x21a6414d688>,\n",
       " '../Experimentos Modelos/LSI/exp-20521/LSI-Model.pkl')"
      ]
     },
     "execution_count": 5,
     "metadata": {},
     "output_type": "execute_result"
    }
   ],
   "source": [
    "lsi_exp = setup(data = data, target = 'text', session_id = session_id, custom_stopwords = custom_stopwords)\n",
    "custom_grid = [2,4,6,8,10,12,14,16,18,20,22,24,26,28]\n",
    "\n",
    "lsi = tune_model(model = 'lsi', custom_grid = custom_grid ,multi_core = True)\n",
    "\n",
    "save_model(lsi, ruta_modelo)"
   ]
  },
  {
   "cell_type": "code",
   "execution_count": 11,
   "id": "informal-template",
   "metadata": {},
   "outputs": [
    {
     "data": {
      "application/vnd.jupyter.widget-view+json": {
       "model_id": "b8cf259d71c74fc2b4ab65941acb11c7",
       "version_major": 2,
       "version_minor": 0
      },
      "text/plain": [
       "interactive(children=(ToggleButtons(description='Plot Type:', icons=('',), options=(('Frequency Plot', 'freque…"
      ]
     },
     "metadata": {},
     "output_type": "display_data"
    }
   ],
   "source": [
    "evaluate_model(lsi)"
   ]
  },
  {
   "cell_type": "code",
   "execution_count": 6,
   "id": "latin-container",
   "metadata": {},
   "outputs": [],
   "source": [
    "train_data_ = get_config('data_') #pandas.DataFrame containing text after all processing\n",
    "train_tokenized_words = get_config('text') #Tokenized words as a list with length = # documents\n",
    "train_corpus = get_config('corpus') #List containing tuples of id to word mapping\n",
    "train_id2word = get_config('id2word')\n",
    "\n",
    "train_data_dir = path + \"train_data_.sav\"\n",
    "train_tokenized_words_dir = path + \"train_tokenized_words.sav\"\n",
    "train_corpus_dir = path + \"train_corpus.sav\"\n",
    "train_id2word_dir = path + \"train_id2word.sav\"\n",
    "\n",
    "pickle.dump(train_data_, open(train_data_dir, 'wb'))\n",
    "pickle.dump(train_tokenized_words, open(train_tokenized_words_dir, 'wb'))\n",
    "pickle.dump(train_corpus, open(train_corpus_dir, 'wb'))\n",
    "pickle.dump(train_id2word, open(train_id2word_dir, 'wb'))\n",
    "\n",
    "\n",
    "num_topics = len(lsi.get_topics())\n",
    "num_words = 25\n",
    "\n",
    "topics = lsi.show_topics(formatted=True, num_topics=num_topics, num_words=num_words)\n",
    "\n",
    "import pandas as pd\n",
    "\n",
    "topics_train = [lsi[train_corpus[i]] for i in range(len(train_data_))]\n",
    "\n",
    "def topics_document_to_dataframe(topics_document, num_topics):\n",
    "    res = pd.DataFrame(columns=range(num_topics))\n",
    "    for topic_weight in topics_document:\n",
    "        res.loc[0, topic_weight[0]] = topic_weight[1]\n",
    "    return res\n",
    "\n",
    "document_topic_matrix = \\\n",
    "pd.concat([topics_document_to_dataframe(topics_document, num_topics=num_topics) for topics_document in topics_train]) \\\n",
    "  .reset_index(drop=True).fillna(0)\n",
    "\n",
    "document_topic_matrix_dir = path + \"document_topic_matrix.sav\"\n",
    "pickle.dump(document_topic_matrix, open(document_topic_matrix_dir, 'wb'))\n",
    "\n",
    "\n",
    "topic_word_matrix = pd.DataFrame(lsi.get_topics(), columns=lsi.id2word.values(), index=[i for i in range(num_topics)])\n",
    "topic_word_matrix_dir = path + \"topic_word_matrix.sav\"\n",
    "pickle.dump(topic_word_matrix, open(topic_word_matrix_dir, 'wb'))\n",
    "\n",
    "\n",
    "lsi_train_results = assign_model(lsi)\n",
    "lsi_train_results = lsi_train_results.drop(columns=['text'])\n",
    "lsi_train_results_dir = path + \"lsi_train_results.df\"\n",
    "pickle.dump(lsi_train_results, open(lsi_train_results_dir, 'wb'))"
   ]
  },
  {
   "cell_type": "code",
   "execution_count": 7,
   "id": "viral-ambassador",
   "metadata": {},
   "outputs": [
    {
     "data": {
      "text/html": [
       "        <script type=\"text/javascript\">\n",
       "        window.PlotlyConfig = {MathJaxConfig: 'local'};\n",
       "        if (window.MathJax) {MathJax.Hub.Config({SVG: {font: \"STIX-Web\"}});}\n",
       "        if (typeof require !== 'undefined') {\n",
       "        require.undef(\"plotly\");\n",
       "        requirejs.config({\n",
       "            paths: {\n",
       "                'plotly': ['https://cdn.plot.ly/plotly-latest.min']\n",
       "            }\n",
       "        });\n",
       "        require(['plotly'], function(Plotly) {\n",
       "            window._Plotly = Plotly;\n",
       "        });\n",
       "        }\n",
       "        </script>\n",
       "        "
      ]
     },
     "metadata": {},
     "output_type": "display_data"
    },
    {
     "data": {
      "application/vnd.plotly.v1+json": {
       "config": {
        "plotlyServerURL": "https://plot.ly"
       },
       "data": [
        {
         "alignmentgroup": "True",
         "customdata": [
          [
           "forest, region, specie, user, different, development, tree, provide, restoration, regional"
          ],
          [
           "user, forest, adaptive, specie, application, book, region, describe, restoration, navigational"
          ],
          [
           "region, forest, regional, development, higher_education_institution, specie, restoration, tree, programme, national"
          ]
         ],
         "hovertemplate": "Topic=%{x}<br>Documents=%{y}<br>Keyword=%{customdata[0]}<extra></extra>",
         "legendgroup": "",
         "marker": {
          "color": "#636efa"
         },
         "name": "",
         "offsetgroup": "",
         "orientation": "v",
         "showlegend": false,
         "textposition": "auto",
         "type": "bar",
         "x": [
          "Topic 0",
          "Topic 1",
          "Topic 2"
         ],
         "xaxis": "x",
         "y": [
          964,
          4,
          1
         ],
         "yaxis": "y"
        }
       ],
       "layout": {
        "barmode": "relative",
        "legend": {
         "tracegroupgap": 0
        },
        "template": {
         "data": {
          "bar": [
           {
            "error_x": {
             "color": "#2a3f5f"
            },
            "error_y": {
             "color": "#2a3f5f"
            },
            "marker": {
             "line": {
              "color": "#E5ECF6",
              "width": 0.5
             }
            },
            "type": "bar"
           }
          ],
          "barpolar": [
           {
            "marker": {
             "line": {
              "color": "#E5ECF6",
              "width": 0.5
             }
            },
            "type": "barpolar"
           }
          ],
          "carpet": [
           {
            "aaxis": {
             "endlinecolor": "#2a3f5f",
             "gridcolor": "white",
             "linecolor": "white",
             "minorgridcolor": "white",
             "startlinecolor": "#2a3f5f"
            },
            "baxis": {
             "endlinecolor": "#2a3f5f",
             "gridcolor": "white",
             "linecolor": "white",
             "minorgridcolor": "white",
             "startlinecolor": "#2a3f5f"
            },
            "type": "carpet"
           }
          ],
          "choropleth": [
           {
            "colorbar": {
             "outlinewidth": 0,
             "ticks": ""
            },
            "type": "choropleth"
           }
          ],
          "contour": [
           {
            "colorbar": {
             "outlinewidth": 0,
             "ticks": ""
            },
            "colorscale": [
             [
              0,
              "#0d0887"
             ],
             [
              0.1111111111111111,
              "#46039f"
             ],
             [
              0.2222222222222222,
              "#7201a8"
             ],
             [
              0.3333333333333333,
              "#9c179e"
             ],
             [
              0.4444444444444444,
              "#bd3786"
             ],
             [
              0.5555555555555556,
              "#d8576b"
             ],
             [
              0.6666666666666666,
              "#ed7953"
             ],
             [
              0.7777777777777778,
              "#fb9f3a"
             ],
             [
              0.8888888888888888,
              "#fdca26"
             ],
             [
              1,
              "#f0f921"
             ]
            ],
            "type": "contour"
           }
          ],
          "contourcarpet": [
           {
            "colorbar": {
             "outlinewidth": 0,
             "ticks": ""
            },
            "type": "contourcarpet"
           }
          ],
          "heatmap": [
           {
            "colorbar": {
             "outlinewidth": 0,
             "ticks": ""
            },
            "colorscale": [
             [
              0,
              "#0d0887"
             ],
             [
              0.1111111111111111,
              "#46039f"
             ],
             [
              0.2222222222222222,
              "#7201a8"
             ],
             [
              0.3333333333333333,
              "#9c179e"
             ],
             [
              0.4444444444444444,
              "#bd3786"
             ],
             [
              0.5555555555555556,
              "#d8576b"
             ],
             [
              0.6666666666666666,
              "#ed7953"
             ],
             [
              0.7777777777777778,
              "#fb9f3a"
             ],
             [
              0.8888888888888888,
              "#fdca26"
             ],
             [
              1,
              "#f0f921"
             ]
            ],
            "type": "heatmap"
           }
          ],
          "heatmapgl": [
           {
            "colorbar": {
             "outlinewidth": 0,
             "ticks": ""
            },
            "colorscale": [
             [
              0,
              "#0d0887"
             ],
             [
              0.1111111111111111,
              "#46039f"
             ],
             [
              0.2222222222222222,
              "#7201a8"
             ],
             [
              0.3333333333333333,
              "#9c179e"
             ],
             [
              0.4444444444444444,
              "#bd3786"
             ],
             [
              0.5555555555555556,
              "#d8576b"
             ],
             [
              0.6666666666666666,
              "#ed7953"
             ],
             [
              0.7777777777777778,
              "#fb9f3a"
             ],
             [
              0.8888888888888888,
              "#fdca26"
             ],
             [
              1,
              "#f0f921"
             ]
            ],
            "type": "heatmapgl"
           }
          ],
          "histogram": [
           {
            "marker": {
             "colorbar": {
              "outlinewidth": 0,
              "ticks": ""
             }
            },
            "type": "histogram"
           }
          ],
          "histogram2d": [
           {
            "colorbar": {
             "outlinewidth": 0,
             "ticks": ""
            },
            "colorscale": [
             [
              0,
              "#0d0887"
             ],
             [
              0.1111111111111111,
              "#46039f"
             ],
             [
              0.2222222222222222,
              "#7201a8"
             ],
             [
              0.3333333333333333,
              "#9c179e"
             ],
             [
              0.4444444444444444,
              "#bd3786"
             ],
             [
              0.5555555555555556,
              "#d8576b"
             ],
             [
              0.6666666666666666,
              "#ed7953"
             ],
             [
              0.7777777777777778,
              "#fb9f3a"
             ],
             [
              0.8888888888888888,
              "#fdca26"
             ],
             [
              1,
              "#f0f921"
             ]
            ],
            "type": "histogram2d"
           }
          ],
          "histogram2dcontour": [
           {
            "colorbar": {
             "outlinewidth": 0,
             "ticks": ""
            },
            "colorscale": [
             [
              0,
              "#0d0887"
             ],
             [
              0.1111111111111111,
              "#46039f"
             ],
             [
              0.2222222222222222,
              "#7201a8"
             ],
             [
              0.3333333333333333,
              "#9c179e"
             ],
             [
              0.4444444444444444,
              "#bd3786"
             ],
             [
              0.5555555555555556,
              "#d8576b"
             ],
             [
              0.6666666666666666,
              "#ed7953"
             ],
             [
              0.7777777777777778,
              "#fb9f3a"
             ],
             [
              0.8888888888888888,
              "#fdca26"
             ],
             [
              1,
              "#f0f921"
             ]
            ],
            "type": "histogram2dcontour"
           }
          ],
          "mesh3d": [
           {
            "colorbar": {
             "outlinewidth": 0,
             "ticks": ""
            },
            "type": "mesh3d"
           }
          ],
          "parcoords": [
           {
            "line": {
             "colorbar": {
              "outlinewidth": 0,
              "ticks": ""
             }
            },
            "type": "parcoords"
           }
          ],
          "pie": [
           {
            "automargin": true,
            "type": "pie"
           }
          ],
          "scatter": [
           {
            "marker": {
             "colorbar": {
              "outlinewidth": 0,
              "ticks": ""
             }
            },
            "type": "scatter"
           }
          ],
          "scatter3d": [
           {
            "line": {
             "colorbar": {
              "outlinewidth": 0,
              "ticks": ""
             }
            },
            "marker": {
             "colorbar": {
              "outlinewidth": 0,
              "ticks": ""
             }
            },
            "type": "scatter3d"
           }
          ],
          "scattercarpet": [
           {
            "marker": {
             "colorbar": {
              "outlinewidth": 0,
              "ticks": ""
             }
            },
            "type": "scattercarpet"
           }
          ],
          "scattergeo": [
           {
            "marker": {
             "colorbar": {
              "outlinewidth": 0,
              "ticks": ""
             }
            },
            "type": "scattergeo"
           }
          ],
          "scattergl": [
           {
            "marker": {
             "colorbar": {
              "outlinewidth": 0,
              "ticks": ""
             }
            },
            "type": "scattergl"
           }
          ],
          "scattermapbox": [
           {
            "marker": {
             "colorbar": {
              "outlinewidth": 0,
              "ticks": ""
             }
            },
            "type": "scattermapbox"
           }
          ],
          "scatterpolar": [
           {
            "marker": {
             "colorbar": {
              "outlinewidth": 0,
              "ticks": ""
             }
            },
            "type": "scatterpolar"
           }
          ],
          "scatterpolargl": [
           {
            "marker": {
             "colorbar": {
              "outlinewidth": 0,
              "ticks": ""
             }
            },
            "type": "scatterpolargl"
           }
          ],
          "scatterternary": [
           {
            "marker": {
             "colorbar": {
              "outlinewidth": 0,
              "ticks": ""
             }
            },
            "type": "scatterternary"
           }
          ],
          "surface": [
           {
            "colorbar": {
             "outlinewidth": 0,
             "ticks": ""
            },
            "colorscale": [
             [
              0,
              "#0d0887"
             ],
             [
              0.1111111111111111,
              "#46039f"
             ],
             [
              0.2222222222222222,
              "#7201a8"
             ],
             [
              0.3333333333333333,
              "#9c179e"
             ],
             [
              0.4444444444444444,
              "#bd3786"
             ],
             [
              0.5555555555555556,
              "#d8576b"
             ],
             [
              0.6666666666666666,
              "#ed7953"
             ],
             [
              0.7777777777777778,
              "#fb9f3a"
             ],
             [
              0.8888888888888888,
              "#fdca26"
             ],
             [
              1,
              "#f0f921"
             ]
            ],
            "type": "surface"
           }
          ],
          "table": [
           {
            "cells": {
             "fill": {
              "color": "#EBF0F8"
             },
             "line": {
              "color": "white"
             }
            },
            "header": {
             "fill": {
              "color": "#C8D4E3"
             },
             "line": {
              "color": "white"
             }
            },
            "type": "table"
           }
          ]
         },
         "layout": {
          "annotationdefaults": {
           "arrowcolor": "#2a3f5f",
           "arrowhead": 0,
           "arrowwidth": 1
          },
          "autotypenumbers": "strict",
          "coloraxis": {
           "colorbar": {
            "outlinewidth": 0,
            "ticks": ""
           }
          },
          "colorscale": {
           "diverging": [
            [
             0,
             "#8e0152"
            ],
            [
             0.1,
             "#c51b7d"
            ],
            [
             0.2,
             "#de77ae"
            ],
            [
             0.3,
             "#f1b6da"
            ],
            [
             0.4,
             "#fde0ef"
            ],
            [
             0.5,
             "#f7f7f7"
            ],
            [
             0.6,
             "#e6f5d0"
            ],
            [
             0.7,
             "#b8e186"
            ],
            [
             0.8,
             "#7fbc41"
            ],
            [
             0.9,
             "#4d9221"
            ],
            [
             1,
             "#276419"
            ]
           ],
           "sequential": [
            [
             0,
             "#0d0887"
            ],
            [
             0.1111111111111111,
             "#46039f"
            ],
            [
             0.2222222222222222,
             "#7201a8"
            ],
            [
             0.3333333333333333,
             "#9c179e"
            ],
            [
             0.4444444444444444,
             "#bd3786"
            ],
            [
             0.5555555555555556,
             "#d8576b"
            ],
            [
             0.6666666666666666,
             "#ed7953"
            ],
            [
             0.7777777777777778,
             "#fb9f3a"
            ],
            [
             0.8888888888888888,
             "#fdca26"
            ],
            [
             1,
             "#f0f921"
            ]
           ],
           "sequentialminus": [
            [
             0,
             "#0d0887"
            ],
            [
             0.1111111111111111,
             "#46039f"
            ],
            [
             0.2222222222222222,
             "#7201a8"
            ],
            [
             0.3333333333333333,
             "#9c179e"
            ],
            [
             0.4444444444444444,
             "#bd3786"
            ],
            [
             0.5555555555555556,
             "#d8576b"
            ],
            [
             0.6666666666666666,
             "#ed7953"
            ],
            [
             0.7777777777777778,
             "#fb9f3a"
            ],
            [
             0.8888888888888888,
             "#fdca26"
            ],
            [
             1,
             "#f0f921"
            ]
           ]
          },
          "colorway": [
           "#636efa",
           "#EF553B",
           "#00cc96",
           "#ab63fa",
           "#FFA15A",
           "#19d3f3",
           "#FF6692",
           "#B6E880",
           "#FF97FF",
           "#FECB52"
          ],
          "font": {
           "color": "#2a3f5f"
          },
          "geo": {
           "bgcolor": "white",
           "lakecolor": "white",
           "landcolor": "#E5ECF6",
           "showlakes": true,
           "showland": true,
           "subunitcolor": "white"
          },
          "hoverlabel": {
           "align": "left"
          },
          "hovermode": "closest",
          "mapbox": {
           "style": "light"
          },
          "paper_bgcolor": "white",
          "plot_bgcolor": "#E5ECF6",
          "polar": {
           "angularaxis": {
            "gridcolor": "white",
            "linecolor": "white",
            "ticks": ""
           },
           "bgcolor": "#E5ECF6",
           "radialaxis": {
            "gridcolor": "white",
            "linecolor": "white",
            "ticks": ""
           }
          },
          "scene": {
           "xaxis": {
            "backgroundcolor": "#E5ECF6",
            "gridcolor": "white",
            "gridwidth": 2,
            "linecolor": "white",
            "showbackground": true,
            "ticks": "",
            "zerolinecolor": "white"
           },
           "yaxis": {
            "backgroundcolor": "#E5ECF6",
            "gridcolor": "white",
            "gridwidth": 2,
            "linecolor": "white",
            "showbackground": true,
            "ticks": "",
            "zerolinecolor": "white"
           },
           "zaxis": {
            "backgroundcolor": "#E5ECF6",
            "gridcolor": "white",
            "gridwidth": 2,
            "linecolor": "white",
            "showbackground": true,
            "ticks": "",
            "zerolinecolor": "white"
           }
          },
          "shapedefaults": {
           "line": {
            "color": "#2a3f5f"
           }
          },
          "ternary": {
           "aaxis": {
            "gridcolor": "white",
            "linecolor": "white",
            "ticks": ""
           },
           "baxis": {
            "gridcolor": "white",
            "linecolor": "white",
            "ticks": ""
           },
           "bgcolor": "#E5ECF6",
           "caxis": {
            "gridcolor": "white",
            "linecolor": "white",
            "ticks": ""
           }
          },
          "title": {
           "x": 0.05
          },
          "xaxis": {
           "automargin": true,
           "gridcolor": "white",
           "linecolor": "white",
           "ticks": "",
           "title": {
            "standoff": 15
           },
           "zerolinecolor": "white",
           "zerolinewidth": 2
          },
          "yaxis": {
           "automargin": true,
           "gridcolor": "white",
           "linecolor": "white",
           "ticks": "",
           "title": {
            "standoff": 15
           },
           "zerolinecolor": "white",
           "zerolinewidth": 2
          }
         }
        },
        "title": {
         "text": "Document Distribution by Topics"
        },
        "xaxis": {
         "anchor": "y",
         "domain": [
          0,
          1
         ],
         "title": {
          "text": "Topic"
         }
        },
        "yaxis": {
         "anchor": "x",
         "domain": [
          0,
          1
         ],
         "title": {
          "text": "Documents"
         }
        }
       }
      },
      "text/html": [
       "<div>                            <div id=\"2bf096e1-f567-4ffe-95f8-58f78642b904\" class=\"plotly-graph-div\" style=\"height:525px; width:100%;\"></div>            <script type=\"text/javascript\">                require([\"plotly\"], function(Plotly) {                    window.PLOTLYENV=window.PLOTLYENV || {};                                    if (document.getElementById(\"2bf096e1-f567-4ffe-95f8-58f78642b904\")) {                    Plotly.newPlot(                        \"2bf096e1-f567-4ffe-95f8-58f78642b904\",                        [{\"alignmentgroup\": \"True\", \"customdata\": [[\"forest, region, specie, user, different, development, tree, provide, restoration, regional\"], [\"user, forest, adaptive, specie, application, book, region, describe, restoration, navigational\"], [\"region, forest, regional, development, higher_education_institution, specie, restoration, tree, programme, national\"]], \"hovertemplate\": \"Topic=%{x}<br>Documents=%{y}<br>Keyword=%{customdata[0]}<extra></extra>\", \"legendgroup\": \"\", \"marker\": {\"color\": \"#636efa\"}, \"name\": \"\", \"offsetgroup\": \"\", \"orientation\": \"v\", \"showlegend\": false, \"textposition\": \"auto\", \"type\": \"bar\", \"x\": [\"Topic 0\", \"Topic 1\", \"Topic 2\"], \"xaxis\": \"x\", \"y\": [964, 4, 1], \"yaxis\": \"y\"}],                        {\"barmode\": \"relative\", \"legend\": {\"tracegroupgap\": 0}, \"template\": {\"data\": {\"bar\": [{\"error_x\": {\"color\": \"#2a3f5f\"}, \"error_y\": {\"color\": \"#2a3f5f\"}, \"marker\": {\"line\": {\"color\": \"#E5ECF6\", \"width\": 0.5}}, \"type\": \"bar\"}], \"barpolar\": [{\"marker\": {\"line\": {\"color\": \"#E5ECF6\", \"width\": 0.5}}, \"type\": \"barpolar\"}], \"carpet\": [{\"aaxis\": {\"endlinecolor\": \"#2a3f5f\", \"gridcolor\": \"white\", \"linecolor\": \"white\", \"minorgridcolor\": \"white\", \"startlinecolor\": \"#2a3f5f\"}, \"baxis\": {\"endlinecolor\": \"#2a3f5f\", \"gridcolor\": \"white\", \"linecolor\": \"white\", \"minorgridcolor\": \"white\", \"startlinecolor\": \"#2a3f5f\"}, \"type\": \"carpet\"}], \"choropleth\": [{\"colorbar\": {\"outlinewidth\": 0, \"ticks\": \"\"}, \"type\": \"choropleth\"}], \"contour\": [{\"colorbar\": {\"outlinewidth\": 0, \"ticks\": \"\"}, \"colorscale\": [[0.0, \"#0d0887\"], [0.1111111111111111, \"#46039f\"], [0.2222222222222222, \"#7201a8\"], [0.3333333333333333, \"#9c179e\"], [0.4444444444444444, \"#bd3786\"], [0.5555555555555556, \"#d8576b\"], [0.6666666666666666, \"#ed7953\"], [0.7777777777777778, \"#fb9f3a\"], [0.8888888888888888, \"#fdca26\"], [1.0, \"#f0f921\"]], \"type\": \"contour\"}], \"contourcarpet\": [{\"colorbar\": {\"outlinewidth\": 0, \"ticks\": \"\"}, \"type\": \"contourcarpet\"}], \"heatmap\": [{\"colorbar\": {\"outlinewidth\": 0, \"ticks\": \"\"}, \"colorscale\": [[0.0, \"#0d0887\"], [0.1111111111111111, \"#46039f\"], [0.2222222222222222, \"#7201a8\"], [0.3333333333333333, \"#9c179e\"], [0.4444444444444444, \"#bd3786\"], [0.5555555555555556, \"#d8576b\"], [0.6666666666666666, \"#ed7953\"], [0.7777777777777778, \"#fb9f3a\"], [0.8888888888888888, \"#fdca26\"], [1.0, \"#f0f921\"]], \"type\": \"heatmap\"}], \"heatmapgl\": [{\"colorbar\": {\"outlinewidth\": 0, \"ticks\": \"\"}, \"colorscale\": [[0.0, \"#0d0887\"], [0.1111111111111111, \"#46039f\"], [0.2222222222222222, \"#7201a8\"], [0.3333333333333333, \"#9c179e\"], [0.4444444444444444, \"#bd3786\"], [0.5555555555555556, \"#d8576b\"], [0.6666666666666666, \"#ed7953\"], [0.7777777777777778, \"#fb9f3a\"], [0.8888888888888888, \"#fdca26\"], [1.0, \"#f0f921\"]], \"type\": \"heatmapgl\"}], \"histogram\": [{\"marker\": {\"colorbar\": {\"outlinewidth\": 0, \"ticks\": \"\"}}, \"type\": \"histogram\"}], \"histogram2d\": [{\"colorbar\": {\"outlinewidth\": 0, \"ticks\": \"\"}, \"colorscale\": [[0.0, \"#0d0887\"], [0.1111111111111111, \"#46039f\"], [0.2222222222222222, \"#7201a8\"], [0.3333333333333333, \"#9c179e\"], [0.4444444444444444, \"#bd3786\"], [0.5555555555555556, \"#d8576b\"], [0.6666666666666666, \"#ed7953\"], [0.7777777777777778, \"#fb9f3a\"], [0.8888888888888888, \"#fdca26\"], [1.0, \"#f0f921\"]], \"type\": \"histogram2d\"}], \"histogram2dcontour\": [{\"colorbar\": {\"outlinewidth\": 0, \"ticks\": \"\"}, \"colorscale\": [[0.0, \"#0d0887\"], [0.1111111111111111, \"#46039f\"], [0.2222222222222222, \"#7201a8\"], [0.3333333333333333, \"#9c179e\"], [0.4444444444444444, \"#bd3786\"], [0.5555555555555556, \"#d8576b\"], [0.6666666666666666, \"#ed7953\"], [0.7777777777777778, \"#fb9f3a\"], [0.8888888888888888, \"#fdca26\"], [1.0, \"#f0f921\"]], \"type\": \"histogram2dcontour\"}], \"mesh3d\": [{\"colorbar\": {\"outlinewidth\": 0, \"ticks\": \"\"}, \"type\": \"mesh3d\"}], \"parcoords\": [{\"line\": {\"colorbar\": {\"outlinewidth\": 0, \"ticks\": \"\"}}, \"type\": \"parcoords\"}], \"pie\": [{\"automargin\": true, \"type\": \"pie\"}], \"scatter\": [{\"marker\": {\"colorbar\": {\"outlinewidth\": 0, \"ticks\": \"\"}}, \"type\": \"scatter\"}], \"scatter3d\": [{\"line\": {\"colorbar\": {\"outlinewidth\": 0, \"ticks\": \"\"}}, \"marker\": {\"colorbar\": {\"outlinewidth\": 0, \"ticks\": \"\"}}, \"type\": \"scatter3d\"}], \"scattercarpet\": [{\"marker\": {\"colorbar\": {\"outlinewidth\": 0, \"ticks\": \"\"}}, \"type\": \"scattercarpet\"}], \"scattergeo\": [{\"marker\": {\"colorbar\": {\"outlinewidth\": 0, \"ticks\": \"\"}}, \"type\": \"scattergeo\"}], \"scattergl\": [{\"marker\": {\"colorbar\": {\"outlinewidth\": 0, \"ticks\": \"\"}}, \"type\": \"scattergl\"}], \"scattermapbox\": [{\"marker\": {\"colorbar\": {\"outlinewidth\": 0, \"ticks\": \"\"}}, \"type\": \"scattermapbox\"}], \"scatterpolar\": [{\"marker\": {\"colorbar\": {\"outlinewidth\": 0, \"ticks\": \"\"}}, \"type\": \"scatterpolar\"}], \"scatterpolargl\": [{\"marker\": {\"colorbar\": {\"outlinewidth\": 0, \"ticks\": \"\"}}, \"type\": \"scatterpolargl\"}], \"scatterternary\": [{\"marker\": {\"colorbar\": {\"outlinewidth\": 0, \"ticks\": \"\"}}, \"type\": \"scatterternary\"}], \"surface\": [{\"colorbar\": {\"outlinewidth\": 0, \"ticks\": \"\"}, \"colorscale\": [[0.0, \"#0d0887\"], [0.1111111111111111, \"#46039f\"], [0.2222222222222222, \"#7201a8\"], [0.3333333333333333, \"#9c179e\"], [0.4444444444444444, \"#bd3786\"], [0.5555555555555556, \"#d8576b\"], [0.6666666666666666, \"#ed7953\"], [0.7777777777777778, \"#fb9f3a\"], [0.8888888888888888, \"#fdca26\"], [1.0, \"#f0f921\"]], \"type\": \"surface\"}], \"table\": [{\"cells\": {\"fill\": {\"color\": \"#EBF0F8\"}, \"line\": {\"color\": \"white\"}}, \"header\": {\"fill\": {\"color\": \"#C8D4E3\"}, \"line\": {\"color\": \"white\"}}, \"type\": \"table\"}]}, \"layout\": {\"annotationdefaults\": {\"arrowcolor\": \"#2a3f5f\", \"arrowhead\": 0, \"arrowwidth\": 1}, \"autotypenumbers\": \"strict\", \"coloraxis\": {\"colorbar\": {\"outlinewidth\": 0, \"ticks\": \"\"}}, \"colorscale\": {\"diverging\": [[0, \"#8e0152\"], [0.1, \"#c51b7d\"], [0.2, \"#de77ae\"], [0.3, \"#f1b6da\"], [0.4, \"#fde0ef\"], [0.5, \"#f7f7f7\"], [0.6, \"#e6f5d0\"], [0.7, \"#b8e186\"], [0.8, \"#7fbc41\"], [0.9, \"#4d9221\"], [1, \"#276419\"]], \"sequential\": [[0.0, \"#0d0887\"], [0.1111111111111111, \"#46039f\"], [0.2222222222222222, \"#7201a8\"], [0.3333333333333333, \"#9c179e\"], [0.4444444444444444, \"#bd3786\"], [0.5555555555555556, \"#d8576b\"], [0.6666666666666666, \"#ed7953\"], [0.7777777777777778, \"#fb9f3a\"], [0.8888888888888888, \"#fdca26\"], [1.0, \"#f0f921\"]], \"sequentialminus\": [[0.0, \"#0d0887\"], [0.1111111111111111, \"#46039f\"], [0.2222222222222222, \"#7201a8\"], [0.3333333333333333, \"#9c179e\"], [0.4444444444444444, \"#bd3786\"], [0.5555555555555556, \"#d8576b\"], [0.6666666666666666, \"#ed7953\"], [0.7777777777777778, \"#fb9f3a\"], [0.8888888888888888, \"#fdca26\"], [1.0, \"#f0f921\"]]}, \"colorway\": [\"#636efa\", \"#EF553B\", \"#00cc96\", \"#ab63fa\", \"#FFA15A\", \"#19d3f3\", \"#FF6692\", \"#B6E880\", \"#FF97FF\", \"#FECB52\"], \"font\": {\"color\": \"#2a3f5f\"}, \"geo\": {\"bgcolor\": \"white\", \"lakecolor\": \"white\", \"landcolor\": \"#E5ECF6\", \"showlakes\": true, \"showland\": true, \"subunitcolor\": \"white\"}, \"hoverlabel\": {\"align\": \"left\"}, \"hovermode\": \"closest\", \"mapbox\": {\"style\": \"light\"}, \"paper_bgcolor\": \"white\", \"plot_bgcolor\": \"#E5ECF6\", \"polar\": {\"angularaxis\": {\"gridcolor\": \"white\", \"linecolor\": \"white\", \"ticks\": \"\"}, \"bgcolor\": \"#E5ECF6\", \"radialaxis\": {\"gridcolor\": \"white\", \"linecolor\": \"white\", \"ticks\": \"\"}}, \"scene\": {\"xaxis\": {\"backgroundcolor\": \"#E5ECF6\", \"gridcolor\": \"white\", \"gridwidth\": 2, \"linecolor\": \"white\", \"showbackground\": true, \"ticks\": \"\", \"zerolinecolor\": \"white\"}, \"yaxis\": {\"backgroundcolor\": \"#E5ECF6\", \"gridcolor\": \"white\", \"gridwidth\": 2, \"linecolor\": \"white\", \"showbackground\": true, \"ticks\": \"\", \"zerolinecolor\": \"white\"}, \"zaxis\": {\"backgroundcolor\": \"#E5ECF6\", \"gridcolor\": \"white\", \"gridwidth\": 2, \"linecolor\": \"white\", \"showbackground\": true, \"ticks\": \"\", \"zerolinecolor\": \"white\"}}, \"shapedefaults\": {\"line\": {\"color\": \"#2a3f5f\"}}, \"ternary\": {\"aaxis\": {\"gridcolor\": \"white\", \"linecolor\": \"white\", \"ticks\": \"\"}, \"baxis\": {\"gridcolor\": \"white\", \"linecolor\": \"white\", \"ticks\": \"\"}, \"bgcolor\": \"#E5ECF6\", \"caxis\": {\"gridcolor\": \"white\", \"linecolor\": \"white\", \"ticks\": \"\"}}, \"title\": {\"x\": 0.05}, \"xaxis\": {\"automargin\": true, \"gridcolor\": \"white\", \"linecolor\": \"white\", \"ticks\": \"\", \"title\": {\"standoff\": 15}, \"zerolinecolor\": \"white\", \"zerolinewidth\": 2}, \"yaxis\": {\"automargin\": true, \"gridcolor\": \"white\", \"linecolor\": \"white\", \"ticks\": \"\", \"title\": {\"standoff\": 15}, \"zerolinecolor\": \"white\", \"zerolinewidth\": 2}}}, \"title\": {\"text\": \"Document Distribution by Topics\"}, \"xaxis\": {\"anchor\": \"y\", \"domain\": [0.0, 1.0], \"title\": {\"text\": \"Topic\"}}, \"yaxis\": {\"anchor\": \"x\", \"domain\": [0.0, 1.0], \"title\": {\"text\": \"Documents\"}}},                        {\"responsive\": true}                    ).then(function(){\n",
       "                            \n",
       "var gd = document.getElementById('2bf096e1-f567-4ffe-95f8-58f78642b904');\n",
       "var x = new MutationObserver(function (mutations, observer) {{\n",
       "        var display = window.getComputedStyle(gd).display;\n",
       "        if (!display || display === 'none') {{\n",
       "            console.log([gd, 'removed!']);\n",
       "            Plotly.purge(gd);\n",
       "            observer.disconnect();\n",
       "        }}\n",
       "}});\n",
       "\n",
       "// Listen for the removal of the full notebook cells\n",
       "var notebookContainer = gd.closest('#notebook-container');\n",
       "if (notebookContainer) {{\n",
       "    x.observe(notebookContainer, {childList: true});\n",
       "}}\n",
       "\n",
       "// Listen for the clearing of the current output cell\n",
       "var outputEl = gd.closest('.output');\n",
       "if (outputEl) {{\n",
       "    x.observe(outputEl, {childList: true});\n",
       "}}\n",
       "\n",
       "                        })                };                });            </script>        </div>"
      ]
     },
     "metadata": {},
     "output_type": "display_data"
    }
   ],
   "source": [
    "plot_model(lsi, plot = 'topic_distribution')\n",
    "#plot_model(lsi, plot = 'wordcloud', topic_num = topic_num)\n",
    "#plot_model(lsi, plot = 'frequency', topic_num = topic_num)\n",
    "#plot_model(lsi, plot = 'distribution', topic_num = topic_num)\n",
    "#plot_model(lsi, plot = 'sentiment', topic_num = topic_num)\n",
    "#plot_model(lsi, plot = 'pos', topic_num = topic_num)\n",
    "#plot_model(lsi, plot = 'bigram', topic_num = topic_num)\n",
    "#plot_model(lsi, plot = 'trigram', topic_num = topic_num)"
   ]
  },
  {
   "cell_type": "code",
   "execution_count": 8,
   "id": "bulgarian-shepherd",
   "metadata": {},
   "outputs": [
    {
     "data": {
      "text/html": [
       "        <script type=\"text/javascript\">\n",
       "        window.PlotlyConfig = {MathJaxConfig: 'local'};\n",
       "        if (window.MathJax) {MathJax.Hub.Config({SVG: {font: \"STIX-Web\"}});}\n",
       "        if (typeof require !== 'undefined') {\n",
       "        require.undef(\"plotly\");\n",
       "        requirejs.config({\n",
       "            paths: {\n",
       "                'plotly': ['https://cdn.plot.ly/plotly-latest.min']\n",
       "            }\n",
       "        });\n",
       "        require(['plotly'], function(Plotly) {\n",
       "            window._Plotly = Plotly;\n",
       "        });\n",
       "        }\n",
       "        </script>\n",
       "        "
      ]
     },
     "metadata": {},
     "output_type": "display_data"
    },
    {
     "data": {
      "application/vnd.plotly.v1+json": {
       "config": {
        "plotlyServerURL": "https://plot.ly"
       },
       "data": [
        {
         "hovertemplate": "Dominant_Topic=Topic 0<br>0=%{x}<br>1=%{y}<br>2=%{z}<extra></extra>",
         "legendgroup": "Topic 0",
         "marker": {
          "color": "#636efa",
          "opacity": 0.7,
          "symbol": "circle"
         },
         "mode": "markers",
         "name": "Topic 0",
         "scene": "scene",
         "showlegend": true,
         "type": "scatter3d",
         "x": [
          -4.214396953582764,
          -5.433199405670166,
          -6.970212459564209,
          9.126164436340332,
          5.468621253967285,
          -5.956943988800049,
          -5.715420246124268,
          -0.5950208902359009,
          -7.913727760314941,
          4.540279388427734,
          8.315855026245117,
          -5.677496433258057,
          7.28655481338501,
          -3.29862904548645,
          6.389331340789795,
          -5.1207194328308105,
          -5.879772663116455,
          1.5620726346969604,
          -9.679706573486328,
          -1.979317545890808,
          8.498342514038086,
          7.18327522277832,
          1.4116698503494263,
          -3.5846972465515137,
          -7.81968879699707,
          -6.500141143798828,
          -3.5751309394836426,
          7.8034138679504395,
          -5.773021697998047,
          6.532659530639648,
          6.167225360870361,
          -3.516150712966919,
          -1.7598685026168823,
          -9.281401634216309,
          -2.7822985649108887,
          -1.812570333480835,
          0.7764884233474731,
          3.751986026763916,
          6.630225658416748,
          -1.0270293951034546,
          0.33585938811302185,
          6.054259300231934,
          -5.90296745300293,
          -11.07822036743164,
          6.081242084503174,
          4.081524848937988,
          1.8699069023132324,
          -0.704988956451416,
          0.3968293368816376,
          5.070089817047119,
          4.4043169021606445,
          -3.98006534576416,
          1.0111708641052246,
          -4.1465864181518555,
          -0.27273550629615784,
          -6.119807243347168,
          6.069854736328125,
          -3.7388439178466797,
          6.209822177886963,
          -2.260040521621704,
          1.6408716440200806,
          9.600168228149414,
          -3.387683153152466,
          3.657094955444336,
          -1.1216367483139038,
          4.528226852416992,
          -0.35669124126434326,
          -4.020239353179932,
          -2.2405993938446045,
          6.880896091461182,
          -3.076007843017578,
          6.873871803283691,
          -6.707086086273193,
          -5.89164400100708,
          -3.2014076709747314,
          2.6154685020446777,
          6.653225421905518,
          1.050949215888977,
          8.125659942626953,
          -7.03444242477417,
          -0.7424864172935486,
          -1.1788386106491089,
          7.116778373718262,
          2.3956964015960693,
          6.547155857086182,
          -3.082512855529785,
          -1.664491057395935,
          7.510709762573242,
          6.776331901550293,
          -5.161648750305176,
          6.037790775299072,
          4.930448055267334,
          -2.197971820831299,
          -3.8591244220733643,
          -0.9256766438484192,
          -6.918129920959473,
          -3.1902778148651123,
          -2.590398073196411,
          -2.9798572063446045,
          1.7535523176193237,
          6.6439433097839355,
          6.840682029724121,
          1.4485673904418945,
          3.615546703338623,
          -2.480834484100342,
          0.2743494510650635,
          -4.038045406341553,
          0.6288131475448608,
          -1.646569848060608,
          1.3384425640106201,
          5.369279384613037,
          -6.974444389343262,
          -2.7656562328338623,
          6.036656856536865,
          -1.9034547805786133,
          -2.8778059482574463,
          -2.5855612754821777,
          -3.719184637069702,
          0.0021203202195465565,
          -8.58171558380127,
          -9.482964515686035,
          5.557506561279297,
          -3.650114059448242,
          4.929891586303711,
          -4.378292083740234,
          -1.1442830562591553,
          0.6844907402992249,
          -3.4486441612243652,
          -8.536528587341309,
          -3.8893094062805176,
          -6.619629859924316,
          -7.352356910705566,
          -0.8274559378623962,
          6.253978252410889,
          2.3231990337371826,
          -7.336984157562256,
          7.940420150756836,
          -0.051389288157224655,
          4.9941911697387695,
          -0.9874434471130371,
          -2.9373393058776855,
          -0.9108583331108093,
          7.6700758934021,
          3.155153751373291,
          -7.695005416870117,
          -0.9360306262969971,
          -3.8893821239471436,
          -2.1097817420959473,
          -8.164326667785645,
          -1.1583677530288696,
          2.218379020690918,
          -0.7130467295646667,
          -9.268702507019043,
          6.597720623016357,
          5.301614761352539,
          -7.152069091796875,
          4.597038269042969,
          7.861326694488525,
          -2.721738576889038,
          -1.4965896606445312,
          4.662075519561768,
          -1.6056793928146362,
          7.295396327972412,
          -2.6120829582214355,
          1.2818537950515747,
          6.274508476257324,
          9.42113208770752,
          -2.2029693126678467,
          5.7189860343933105,
          7.466702461242676,
          -3.7655696868896484,
          -2.958516836166382,
          -2.3253378868103027,
          -8.20492172241211,
          -7.790313720703125,
          -0.5869986414909363,
          -8.125646591186523,
          -0.7666874527931213,
          -0.3004738986492157,
          9.075387954711914,
          -1.8245819807052612,
          -3.557711601257324,
          -7.896726131439209,
          -5.925853729248047,
          -2.1894588470458984,
          -5.4341721534729,
          -7.724783897399902,
          2.1793227195739746,
          5.054486274719238,
          6.366943359375,
          6.5929670333862305,
          -3.892211437225342,
          -6.9511284828186035,
          7.0310378074646,
          -4.076253890991211,
          5.327174663543701,
          -6.373318195343018,
          -0.16484662890434265,
          -2.0506019592285156,
          -2.3214478492736816,
          -6.722063064575195,
          -6.222626686096191,
          1.5834112167358398,
          1.8854862451553345,
          4.050558090209961,
          -5.010351657867432,
          -5.262243747711182,
          -6.432069778442383,
          7.519389629364014,
          5.604938507080078,
          -0.2652730941772461,
          -9.634805679321289,
          -8.227097511291504,
          -3.960986614227295,
          -2.9155020713806152,
          -1.656014084815979,
          -1.6715418100357056,
          -4.178059101104736,
          -1.6521626710891724,
          -3.9267780780792236,
          5.593419075012207,
          -8.251077651977539,
          -5.405675888061523,
          -10.088798522949219,
          8.856346130371094,
          7.389181613922119,
          7.280978679656982,
          1.9848475456237793,
          7.402895450592041,
          2.5263123512268066,
          5.017411231994629,
          -0.5579783916473389,
          -6.790623664855957,
          -7.93820858001709,
          -6.825922012329102,
          -2.524111270904541,
          -6.29466438293457,
          -8.633614540100098,
          -6.180456161499023,
          -8.544074058532715,
          3.5960726737976074,
          3.0109641551971436,
          -2.5858616828918457,
          7.684908866882324,
          -5.8188982009887695,
          -9.603012084960938,
          6.224721431732178,
          5.64473295211792,
          -7.848066806793213,
          -5.093501567840576,
          -0.3476790189743042,
          4.902462005615234,
          4.3580522537231445,
          -9.926321983337402,
          -5.17179012298584,
          -7.5551323890686035,
          9.580924034118652,
          7.399506568908691,
          -6.970242500305176,
          5.211427688598633,
          -7.30747127532959,
          9.532095909118652,
          -3.4534542560577393,
          -1.7912050485610962,
          -1.6246416568756104,
          3.2090342044830322,
          -6.666281223297119,
          -0.6247466206550598,
          6.749707221984863,
          3.6639959812164307,
          -1.429532766342163,
          6.706186294555664,
          7.114595890045166,
          -2.6982877254486084,
          0.10882046818733215,
          -8.827744483947754,
          -2.7002482414245605,
          -0.5574918389320374,
          -9.7315673828125,
          -6.191487789154053,
          4.135133743286133,
          6.2571635246276855,
          6.6372246742248535,
          -4.29315710067749,
          -2.3157119750976562,
          5.389434337615967,
          0.858395516872406,
          7.268162727355957,
          3.586251974105835,
          0.861019492149353,
          7.643685340881348,
          4.0603928565979,
          5.98326301574707,
          -6.649068355560303,
          4.866959571838379,
          -7.470489501953125,
          -4.558717727661133,
          -0.36748889088630676,
          5.183510780334473,
          -5.092409610748291,
          6.891077995300293,
          6.672957420349121,
          0.006575228180736303,
          1.8277335166931152,
          -2.8635504245758057,
          3.849900722503662,
          4.073097229003906,
          0.24040037393569946,
          7.005531311035156,
          4.001761436462402,
          -5.170226097106934,
          -4.570882797241211,
          7.904850006103516,
          7.865271091461182,
          -0.06889747083187103,
          9.726435661315918,
          -0.5060719847679138,
          -6.617029666900635,
          0.28658327460289,
          -8.382473945617676,
          7.3461594581604,
          -4.005640506744385,
          -0.4485470950603485,
          2.4983325004577637,
          -6.750391960144043,
          -4.649855613708496,
          -6.689737796783447,
          5.244349479675293,
          0.2799462378025055,
          7.923493385314941,
          4.4463677406311035,
          5.767059803009033,
          -1.1034077405929565,
          -2.6176319122314453,
          -0.634776771068573,
          8.628707885742188,
          5.5584821701049805,
          4.755420684814453,
          -4.682657241821289,
          0.9491083025932312,
          2.470959186553955,
          -4.649231433868408,
          5.994474411010742,
          7.656020641326904,
          5.131120204925537,
          9.129623413085938,
          -6.144674301147461,
          5.649056434631348,
          -4.140019416809082,
          -0.9286447763442993,
          -8.181204795837402,
          7.207617282867432,
          6.005981922149658,
          -10.027532577514648,
          -0.835228443145752,
          8.451277732849121,
          4.496824741363525,
          7.533603668212891,
          -1.319694995880127,
          0.5626558661460876,
          7.090957164764404,
          9.253737449645996,
          2.4071459770202637,
          -7.4501800537109375,
          -5.238447666168213,
          7.220371723175049,
          -10.678668022155762,
          -6.568857669830322,
          9.643996238708496,
          0.24327118694782257,
          -2.8274073600769043,
          -5.8125810623168945,
          3.5259203910827637,
          5.013484954833984,
          -9.456110954284668,
          -3.0274715423583984,
          -10.476344108581543,
          2.907137393951416,
          6.53964900970459,
          4.615198135375977,
          0.6967295408248901,
          -3.0012998580932617,
          6.010871410369873,
          7.431698322296143,
          -7.000308513641357,
          -2.609668731689453,
          4.717647552490234,
          2.1080567836761475,
          6.645310401916504,
          4.956967353820801,
          -8.326850891113281,
          5.578494071960449,
          5.307027339935303,
          -4.0269880294799805,
          -3.640126943588257,
          9.080056190490723,
          -3.126122236251831,
          7.282995700836182,
          7.917426586151123,
          7.520089626312256,
          0.4144308269023895,
          6.6294403076171875,
          -7.723363399505615,
          2.8263509273529053,
          8.010427474975586,
          3.552328109741211,
          0.09091734141111374,
          6.206044673919678,
          -2.00807785987854,
          7.720713138580322,
          -5.8865532875061035,
          3.773869514465332,
          6.150806903839111,
          1.8636384010314941,
          4.321950912475586,
          -9.664191246032715,
          3.9266457557678223,
          1.463202953338623,
          -3.0245859622955322,
          -1.865015983581543,
          1.3161289691925049,
          -6.730588436126709,
          6.781087875366211,
          -5.42705774307251,
          7.500244617462158,
          -0.8098468780517578,
          6.16201114654541,
          -6.078124523162842,
          -2.866501569747925,
          -4.378455638885498,
          -1.9302634000778198,
          5.411430835723877,
          4.024632930755615,
          5.386083602905273,
          -4.402368068695068,
          4.799992561340332,
          -5.558104515075684,
          -4.492969989776611,
          6.655637741088867,
          -4.199669361114502,
          7.611210346221924,
          6.266058921813965,
          -2.5348198413848877,
          5.031194686889648,
          6.267254829406738,
          -4.1817474365234375,
          -2.8312315940856934,
          -9.015810012817383,
          1.9640803337097168,
          3.5240089893341064,
          -2.1301491260528564,
          7.150725841522217,
          -4.180088996887207,
          -7.0285515785217285,
          1.3412054777145386,
          0.13408315181732178,
          -7.594146728515625,
          -2.2337894439697266,
          -3.619154691696167,
          0.712141215801239,
          -0.4786575436592102,
          -5.102348804473877,
          -0.6616156697273254,
          -2.2032644748687744,
          6.582908630371094,
          -5.144366264343262,
          -7.113905906677246,
          -2.495957851409912,
          -5.58059549331665,
          -4.321929454803467,
          -1.621743083000183,
          -3.230039596557617,
          -4.151845932006836,
          7.343508720397949,
          2.692228317260742,
          5.786399841308594,
          3.571845293045044,
          2.1720335483551025,
          -1.415196418762207,
          -3.7016401290893555,
          -1.0856465101242065,
          4.69993782043457,
          3.853555202484131,
          3.1283109188079834,
          8.465803146362305,
          4.762874126434326,
          3.6482155323028564,
          -5.50168514251709,
          -1.555340051651001,
          0.14304913580417633,
          -9.733257293701172,
          0.16846530139446259,
          0.4445420503616333,
          -2.0205891132354736,
          -2.127661943435669,
          -2.889293670654297,
          9.169236183166504,
          -2.5090854167938232,
          -1.5118166208267212,
          1.5349881649017334,
          2.9337401390075684,
          4.219738483428955,
          7.15712308883667,
          5.245519161224365,
          8.07575511932373,
          4.163680553436279,
          6.289165019989014,
          -2.5153119564056396,
          1.355733036994934,
          -4.797563552856445,
          -3.2985939979553223,
          -4.168188571929932,
          6.087144374847412,
          2.9007768630981445,
          2.8932995796203613,
          -5.813906192779541,
          3.558642625808716,
          -2.360191822052002,
          0.17947903275489807,
          0.4390818476676941,
          -4.388845443725586,
          -0.3510410487651825,
          6.003603935241699,
          -7.273179054260254,
          3.6309478282928467,
          2.9096591472625732,
          2.382542848587036,
          -1.2652851343154907,
          -8.326850891113281,
          5.358251094818115,
          9.0606689453125,
          0.311344712972641,
          6.572764873504639,
          6.440154075622559,
          3.177797555923462,
          0.808770477771759,
          -5.046982288360596,
          1.1588175296783447,
          4.745945453643799,
          1.134850263595581,
          -0.7456474900245667,
          1.6934645175933838,
          -7.808923721313477,
          -6.5311689376831055,
          6.276357173919678,
          7.318150997161865,
          3.7061686515808105,
          -3.1651034355163574,
          0.3597944676876068,
          -2.878052234649658,
          -0.015369336120784283,
          -6.539966106414795,
          7.116755962371826,
          1.613277792930603,
          -2.9577927589416504,
          0.5611305832862854,
          0.37314674258232117,
          -0.4249650239944458,
          8.370226860046387,
          -1.0338622331619263,
          5.890687465667725,
          -2.7406861782073975,
          3.312437057495117,
          1.4657478332519531,
          -3.1338605880737305,
          -2.508535861968994,
          5.367921352386475,
          0.8478741645812988,
          0.8899741172790527,
          7.8185882568359375,
          -4.3716511726379395,
          -7.827921390533447,
          -7.677106857299805,
          4.497251510620117,
          -5.152111530303955,
          8.259930610656738,
          0.1827434003353119,
          -2.3497142791748047,
          -5.493507385253906,
          -7.8872389793396,
          4.188083648681641,
          -6.881216526031494,
          -10.828252792358398,
          -3.665550947189331,
          6.61787223815918,
          4.74607515335083,
          0.5766105055809021,
          -6.829959869384766,
          7.562335014343262,
          -2.94842267036438,
          -5.085810661315918,
          -2.281940460205078,
          6.124972343444824,
          9.585772514343262,
          -6.354758262634277,
          -1.910106897354126,
          -0.7008653283119202,
          -4.70546293258667,
          8.413111686706543,
          -6.27810001373291,
          1.0019068717956543,
          0.4408441185951233,
          -3.5271456241607666,
          -0.8255178928375244,
          0.7342081665992737,
          -0.6054216623306274,
          -10.062984466552734,
          -8.42047119140625,
          -9.813949584960938,
          1.8823858499526978,
          -3.3105993270874023,
          6.111307144165039,
          3.5806217193603516,
          0.8178451061248779,
          6.89058256149292,
          -9.812517166137695,
          9.14617919921875,
          9.578873634338379,
          -5.521210670471191,
          -3.8052704334259033,
          4.4704813957214355,
          -2.9508726596832275,
          -6.779609680175781,
          0.99224853515625,
          5.463629722595215,
          5.262568950653076,
          -3.552476644515991,
          -2.8189897537231445,
          9.517952919006348,
          4.893669128417969,
          -3.507265329360962,
          0.2828018069267273,
          7.278319358825684,
          5.520604133605957,
          1.8309773206710815,
          0.6538254618644714,
          4.8710503578186035,
          5.1873650550842285,
          0.32051944732666016,
          -1.6511214971542358,
          -1.772060513496399,
          6.620588779449463,
          -0.6668359637260437,
          -4.311379909515381,
          6.253540515899658,
          -7.163405418395996,
          0.005814984906464815,
          5.480175495147705,
          -2.5729002952575684,
          -2.8008906841278076,
          -4.314603805541992,
          -2.3186655044555664,
          -1.4275765419006348,
          0.6485734581947327,
          6.262024402618408,
          2.130206823348999,
          1.4606233835220337,
          5.800592422485352,
          6.627278804779053,
          -8.874300003051758,
          -5.089402198791504,
          -4.908325672149658,
          5.849689960479736,
          5.002184867858887,
          6.93426513671875,
          0.7049884796142578,
          -6.64396858215332,
          2.715428590774536,
          -0.40660974383354187,
          3.208411931991577,
          -4.432254791259766,
          -4.342761039733887,
          -1.3982431888580322,
          -1.7535674571990967,
          7.090987205505371,
          -7.4762701988220215,
          -4.387265682220459,
          -1.1031516790390015,
          0.5607927441596985,
          -1.9119795560836792,
          6.934067249298096,
          -1.249626874923706,
          -0.6390057802200317,
          -0.6201237440109253,
          -3.3329763412475586,
          -1.0905444622039795,
          6.5134453773498535,
          7.063652038574219,
          -2.9557642936706543,
          6.433212757110596,
          4.697500228881836,
          -5.155986785888672,
          -5.033492565155029,
          -7.303337574005127,
          5.35554838180542,
          4.6025238037109375,
          6.05892276763916,
          3.9856014251708984,
          -6.279125690460205,
          -0.45553410053253174,
          -7.249070644378662,
          8.445069313049316,
          5.365522861480713,
          2.2305104732513428,
          -7.61769962310791,
          4.2467474937438965,
          0.08183888345956802,
          3.56184720993042,
          -5.795905590057373,
          0.14387920498847961,
          1.488186001777649,
          7.3055620193481445,
          6.60963249206543,
          5.110869407653809,
          4.031010627746582,
          0.6517914533615112,
          -3.472203493118286,
          -7.453505992889404,
          0.2087296098470688,
          7.8869757652282715,
          -3.8916964530944824,
          3.4366726875305176,
          -3.518388032913208,
          3.296365737915039,
          3.5022847652435303,
          0.6156834959983826,
          -0.4687436819076538,
          -6.3403449058532715,
          -2.346778631210327,
          -4.416321754455566,
          -2.2139716148376465,
          -6.419186115264893,
          4.563363552093506,
          4.249622344970703,
          -5.167324542999268,
          -4.322854518890381,
          -3.2310950756073,
          -5.552312850952148,
          1.2847241163253784,
          -6.639167308807373,
          7.29353666305542,
          0.12141337990760803,
          4.407400131225586,
          8.18030834197998,
          -1.85465669631958,
          -9.534822463989258,
          3.543937921524048,
          2.644716739654541,
          7.343076229095459,
          -10.876572608947754,
          -6.838444232940674,
          -1.786643385887146,
          8.16565227508545,
          4.527865409851074,
          -0.22497476637363434,
          -6.92643928527832,
          5.073681831359863,
          3.912264108657837,
          6.683389186859131,
          -1.3179686069488525,
          -0.6989877223968506,
          -2.6865029335021973,
          -8.462971687316895,
          -2.605276584625244,
          -0.7059630155563354,
          -0.1937270164489746,
          -5.532651424407959,
          -0.19535979628562927,
          6.4237871170043945,
          -3.0353472232818604,
          8.28162956237793,
          -2.0397543907165527,
          7.91139554977417,
          9.039050102233887,
          5.631820201873779,
          -3.4265658855438232,
          0.5137985348701477,
          -3.430098533630371,
          5.75778865814209,
          -1.5574986934661865,
          -0.02662927284836769,
          8.913345336914062,
          -6.1487321853637695,
          -3.3520829677581787,
          -4.808135509490967,
          -7.079071044921875,
          -1.7058866024017334,
          7.567903518676758,
          -1.9460792541503906,
          -5.208785057067871,
          -0.7347328066825867,
          -10.360050201416016,
          -3.75703501701355,
          -7.457208633422852,
          -3.526883840560913,
          -2.429307699203491,
          -8.0370512008667,
          -4.542806625366211,
          -3.4996955394744873,
          -1.5571519136428833,
          -8.947646141052246,
          -2.603148937225342,
          0.09045290946960449,
          -9.686352729797363,
          -0.8027758002281189,
          -5.967329025268555,
          0.3195127248764038,
          -0.7000181078910828,
          -2.477375030517578,
          7.724842071533203,
          4.1235761642456055,
          -9.416521072387695,
          -8.346802711486816,
          -5.611360549926758,
          -3.3992443084716797,
          -4.519606113433838,
          0.6753106117248535,
          6.807465076446533,
          5.213462829589844,
          2.765458583831787,
          -6.9045844078063965,
          -5.1556172370910645,
          4.252141952514648,
          9.595426559448242,
          1.632149577140808,
          -0.9994878768920898,
          6.014498710632324,
          4.695687294006348,
          -5.84541130065918,
          5.764312267303467,
          -5.694554805755615,
          8.055624961853027,
          3.3932385444641113,
          -3.714533567428589,
          1.8277336359024048,
          4.545266628265381,
          3.5783467292785645,
          -7.884085178375244,
          -1.384596824645996,
          -5.088906288146973,
          9.60687255859375,
          -2.942250967025757,
          -5.593996524810791,
          -2.6302478313446045,
          7.106895446777344,
          0.3706394135951996,
          6.741106986999512,
          3.3363568782806396,
          0.4239560663700104,
          -1.0387089252471924,
          0.9231775999069214,
          -8.523102760314941,
          -9.757516860961914,
          4.6181511878967285,
          5.040307521820068,
          -0.24265186488628387,
          -5.141946792602539,
          -2.379507541656494,
          -5.317596435546875,
          -3.4089083671569824,
          -8.22840404510498,
          7.678430557250977,
          0.0806422010064125,
          1.5208985805511475,
          -1.0394203662872314,
          3.940981149673462,
          -8.257711410522461,
          3.4424195289611816,
          -5.743356227874756,
          -2.9785919189453125,
          -8.3449125289917,
          2.719393491744995,
          -1.5826184749603271,
          4.313601016998291,
          0.3697110116481781,
          -2.074319362640381,
          5.166776657104492,
          -5.996689796447754,
          0.2979234457015991,
          0.6014164090156555,
          6.446966648101807,
          8.43723201751709,
          -9.291287422180176,
          -3.4761812686920166,
          0.4557254910469055,
          -9.94662857055664,
          8.155852317810059,
          -2.045487880706787,
          7.163511753082275,
          1.8369481563568115,
          7.279242515563965,
          7.360198020935059,
          -3.488433361053467,
          7.050270080566406,
          -2.2284021377563477,
          0.45274192094802856,
          -6.371973037719727,
          -6.934454917907715,
          -6.641313552856445,
          -5.81803035736084,
          7.558623790740967,
          9.010616302490234,
          4.507200717926025,
          7.374565124511719,
          -3.829820394515991,
          1.4650907516479492,
          -3.806029796600342,
          -0.4353393316268921,
          1.057786464691162,
          -4.987545013427734,
          3.324657678604126,
          1.6557751893997192,
          6.134434223175049,
          -1.7510954141616821,
          -5.142811298370361,
          9.13120174407959,
          1.6737060546875,
          -9.427022933959961,
          8.626161575317383,
          -4.898110866546631,
          -11.216033935546875,
          -1.6456882953643799,
          2.305011510848999,
          -9.317079544067383,
          -3.573277711868286,
          0.5659586787223816,
          -5.272491931915283,
          -2.201000928878784,
          3.123990297317505,
          7.832376956939697,
          -0.9108524918556213,
          1.1780399084091187,
          -2.8237366676330566,
          1.7096666097640991,
          5.561577320098877,
          -8.768654823303223,
          8.531989097595215,
          -4.247110843658447,
          0.9394123554229736,
          -2.3924014568328857,
          -8.531706809997559,
          2.0445563793182373,
          -4.222667694091797,
          -6.9336066246032715,
          7.987891674041748,
          0.9053636193275452,
          9.015289306640625,
          -5.467278957366943,
          -2.066786050796509,
          -5.1384596824646,
          -6.433955192565918,
          7.630130290985107,
          9.508451461791992,
          6.675258636474609,
          2.0853376388549805,
          -5.828732967376709,
          -4.439706325531006,
          -4.7428107261657715,
          6.252501010894775,
          6.2237467765808105,
          1.031008243560791,
          -5.870864391326904,
          6.621523380279541,
          -7.9316534996032715
         ],
         "y": [
          1.152419090270996,
          -4.353965759277344,
          -9.389320373535156,
          17.859657287597656,
          5.560696601867676,
          -6.659781455993652,
          -1.7247401475906372,
          -0.8400747179985046,
          -1.6621979475021362,
          6.396534442901611,
          17.689067840576172,
          -4.262146949768066,
          5.81365966796875,
          0.8358288407325745,
          12.320033073425293,
          -8.531261444091797,
          -3.1797702312469482,
          -1.2008042335510254,
          -8.333767890930176,
          -4.382834434509277,
          14.043045043945312,
          5.9994072914123535,
          2.761148452758789,
          -1.1596816778182983,
          -7.257138252258301,
          -9.520341873168945,
          -6.943175315856934,
          10.940505981445312,
          -9.417227745056152,
          9.44157886505127,
          11.942170143127441,
          1.4841190576553345,
          -1.0590999126434326,
          -4.508666515350342,
          -10.43403148651123,
          -9.908426284790039,
          -1.719071388244629,
          -0.31502723693847656,
          15.117632865905762,
          -10.499448776245117,
          1.0566296577453613,
          12.001481056213379,
          -4.902214050292969,
          -5.994317054748535,
          2.739375114440918,
          6.727637767791748,
          4.371719837188721,
          -0.3664531409740448,
          -1.9661048650741577,
          6.314636707305908,
          6.507458686828613,
          -4.096779823303223,
          2.0471251010894775,
          -4.000053882598877,
          -1.2228449583053589,
          -7.4101409912109375,
          2.532114267349243,
          0.6155834794044495,
          7.81894588470459,
          0.8499168753623962,
          3.595236301422119,
          15.533615112304688,
          -0.5176225900650024,
          1.3777203559875488,
          2.001091957092285,
          5.744913101196289,
          1.0104358196258545,
          1.3878799676895142,
          -0.790267288684845,
          7.340803146362305,
          -5.587389945983887,
          3.4338200092315674,
          -9.742785453796387,
          -7.418137073516846,
          -1.8485045433044434,
          -3.131416082382202,
          0.00031154899625107646,
          -0.7112910151481628,
          14.675395965576172,
          -2.5866634845733643,
          2.6264939308166504,
          3.405524969100952,
          6.007366180419922,
          3.5919201374053955,
          3.138415575027466,
          -6.274378776550293,
          1.6058588027954102,
          0.9004438519477844,
          0.06361254304647446,
          -1.1706535816192627,
          2.940023899078369,
          10.393792152404785,
          -4.737794876098633,
          -7.907625675201416,
          -5.9379963874816895,
          -8.551637649536133,
          -4.60154390335083,
          -6.221493244171143,
          1.0729974508285522,
          6.287594795227051,
          0.27576178312301636,
          12.16013240814209,
          4.315104961395264,
          0.515166699886322,
          -2.4212098121643066,
          -1.1457891464233398,
          -6.272811412811279,
          -1.4348373413085938,
          -2.0878655910491943,
          7.723496437072754,
          9.847457885742188,
          -8.374921798706055,
          -11.588517189025879,
          11.876941680908203,
          3.2086782455444336,
          -10.717842102050781,
          -6.290343284606934,
          -0.5062900185585022,
          -5.012063503265381,
          -5.399905681610107,
          -4.789862155914307,
          6.798099994659424,
          -10.844122886657715,
          6.245045185089111,
          -0.7095566987991333,
          -0.6902544498443604,
          -1.6655995845794678,
          -5.5906081199646,
          -5.525628566741943,
          -0.38605251908302307,
          -1.314424753189087,
          -2.411071538925171,
          -6.538485050201416,
          9.409483909606934,
          -0.5073628425598145,
          -1.9894533157348633,
          11.069097518920898,
          -6.618963718414307,
          9.971776962280273,
          -0.1006089374423027,
          1.0153226852416992,
          -10.541833877563477,
          13.064692497253418,
          0.3256261646747589,
          -4.414620876312256,
          -6.06764030456543,
          -0.4434727728366852,
          -6.828182220458984,
          -3.753878355026245,
          -8.813146591186523,
          3.808286428451538,
          -9.792915344238281,
          -4.545581817626953,
          5.112236976623535,
          5.994064807891846,
          -0.5794059038162231,
          4.926209449768066,
          15.248695373535156,
          -2.552867889404297,
          -2.0794544219970703,
          4.365872383117676,
          -2.913602352142334,
          12.564900398254395,
          -11.22523307800293,
          -0.4867005944252014,
          5.048341274261475,
          18.260128021240234,
          -10.459513664245605,
          3.3713321685791016,
          7.938521862030029,
          -9.324012756347656,
          -11.680643081665039,
          -1.6900992393493652,
          -8.874330520629883,
          -3.7020957469940186,
          -10.665122985839844,
          -3.5887279510498047,
          -6.852882385253906,
          -5.633592128753662,
          7.587672710418701,
          -5.724092960357666,
          -0.12859100103378296,
          -5.129643440246582,
          -2.6404974460601807,
          2.4620025157928467,
          -4.703444004058838,
          -10.24869441986084,
          3.644688844680786,
          8.316381454467773,
          5.483030796051025,
          9.117798805236816,
          -0.8257567882537842,
          -5.840126037597656,
          9.871432304382324,
          -4.652654647827148,
          3.663799524307251,
          -0.20266924798488617,
          -1.3517192602157593,
          -0.33412519097328186,
          -0.7423275709152222,
          -3.9080522060394287,
          -2.5366969108581543,
          6.12992525100708,
          4.0403666496276855,
          7.244214057922363,
          -8.713774681091309,
          -9.814323425292969,
          -2.025519371032715,
          12.450407028198242,
          0.7224303483963013,
          -4.004650592803955,
          -7.956787586212158,
          -8.858787536621094,
          0.45795974135398865,
          -2.8056752681732178,
          -1.6760215759277344,
          -0.0963006541132927,
          -2.5405330657958984,
          -2.1342384815216064,
          -0.2961426377296448,
          10.181178092956543,
          -6.377473831176758,
          -0.10233376920223236,
          -8.44807243347168,
          16.960325241088867,
          12.925973892211914,
          6.502669811248779,
          -0.6926968097686768,
          15.491364479064941,
          -3.0487241744995117,
          11.296712875366211,
          -5.3330206871032715,
          -8.30910873413086,
          -4.778882026672363,
          -1.8432106971740723,
          -10.447365760803223,
          -6.572094440460205,
          -7.999116897583008,
          -2.952176809310913,
          -4.782277584075928,
          6.3349223136901855,
          3.837937355041504,
          -0.7728060483932495,
          13.27177619934082,
          -7.11262321472168,
          -5.370805263519287,
          5.633875846862793,
          0.4593905508518219,
          -7.852931499481201,
          -9.784308433532715,
          -2.3587253093719482,
          8.736469268798828,
          8.513795852661133,
          -5.1645331382751465,
          -2.865692138671875,
          -7.349542617797852,
          18.513511657714844,
          0.010224848985671997,
          -9.389177322387695,
          5.489754676818848,
          -3.517329454421997,
          17.050189971923828,
          -2.0688083171844482,
          -4.910794258117676,
          -2.297498941421509,
          -2.0817718505859375,
          -3.1975221633911133,
          0.19671189785003662,
          13.380059242248535,
          0.5978296399116516,
          -6.769286632537842,
          16.14128303527832,
          1.5033613443374634,
          -7.589418411254883,
          -0.89194256067276,
          -5.681222915649414,
          -0.7339277267456055,
          -5.8004374504089355,
          -5.987746238708496,
          -0.3264937102794647,
          10.920686721801758,
          3.7896320819854736,
          15.72734546661377,
          -0.35731393098831177,
          -1.2157835960388184,
          4.252077579498291,
          7.823380947113037,
          16.062095642089844,
          6.348225116729736,
          5.53458833694458,
          7.068211078643799,
          7.528128623962402,
          2.997178316116333,
          -1.2120157480239868,
          4.227148532867432,
          -7.824853420257568,
          -0.6732495427131653,
          -8.221382141113281,
          8.501357078552246,
          -2.540308952331543,
          14.735549926757812,
          2.960165500640869,
          -1.461920976638794,
          3.4203829765319824,
          -6.384335994720459,
          3.3110876083374023,
          7.563189506530762,
          -5.153875350952148,
          7.032143592834473,
          6.501955986022949,
          -0.10989020764827728,
          -0.17802229523658752,
          1.0748863220214844,
          14.508988380432129,
          0.1337268054485321,
          16.467164993286133,
          -0.6356354355812073,
          -1.2649447917938232,
          -3.1910109519958496,
          -5.1620659828186035,
          -0.17878000438213348,
          -0.41026952862739563,
          0.8452132344245911,
          -0.45341217517852783,
          -0.48915380239486694,
          -7.484665393829346,
          -2.315382957458496,
          11.815068244934082,
          -5.141850471496582,
          14.588637351989746,
          3.4307756423950195,
          5.800517559051514,
          3.043480396270752,
          2.5996627807617188,
          1.3881878852844238,
          16.207189559936523,
          7.115159034729004,
          5.740472316741943,
          -7.032171726226807,
          -6.196200370788574,
          -3.398294687271118,
          -1.0023581981658936,
          11.13369369506836,
          7.352077960968018,
          7.93043851852417,
          17.541685104370117,
          -1.6602541208267212,
          11.516640663146973,
          1.28415048122406,
          -5.725348949432373,
          -3.777212142944336,
          12.959415435791016,
          10.536983489990234,
          -8.466880798339844,
          2.128272294998169,
          17.21761131286621,
          9.644439697265625,
          5.879717826843262,
          -1.7166321277618408,
          2.958090305328369,
          12.365492820739746,
          17.684234619140625,
          -0.8233640193939209,
          -9.578736305236816,
          -0.25296884775161743,
          7.997210502624512,
          -8.043992042541504,
          -8.340067863464355,
          17.724855422973633,
          1.4987900257110596,
          -10.573246002197266,
          -3.4407103061676025,
          1.8131799697875977,
          5.938685894012451,
          -4.144441604614258,
          -3.1436209678649902,
          -8.027178764343262,
          -0.5939347147941589,
          6.921640396118164,
          6.715959072113037,
          -2.5228378772735596,
          -6.429891109466553,
          0.17946186661720276,
          15.25793170928955,
          -2.5006775856018066,
          -2.8567235469818115,
          5.062750339508057,
          2.6621246337890625,
          2.339489221572876,
          4.1249237060546875,
          -4.225250720977783,
          5.177135467529297,
          4.9438323974609375,
          -4.919365882873535,
          -7.015498161315918,
          17.270830154418945,
          0.22030140459537506,
          10.1220064163208,
          13.907036781311035,
          6.967853546142578,
          -0.05398529767990112,
          2.406921863555908,
          -3.9071319103240967,
          3.0847039222717285,
          11.979595184326172,
          1.9406954050064087,
          -0.785054087638855,
          3.564279556274414,
          -10.466989517211914,
          14.061017036437988,
          -4.007573127746582,
          1.8739994764328003,
          1.5527164936065674,
          1.5675101280212402,
          7.866589069366455,
          -7.938063144683838,
          9.906702995300293,
          4.08265495300293,
          -11.206689834594727,
          2.1444802284240723,
          4.336398601531982,
          -1.8419991731643677,
          12.647866249084473,
          -8.252143859863281,
          6.015256881713867,
          -4.90317964553833,
          12.533441543579102,
          -9.647269248962402,
          2.614182233810425,
          -4.359820365905762,
          -3.329041004180908,
          11.967646598815918,
          4.531069755554199,
          11.984275817871094,
          -2.355649948120117,
          9.273432731628418,
          -4.581005096435547,
          -5.145517826080322,
          12.512579917907715,
          -8.245539665222168,
          5.000790119171143,
          6.820199489593506,
          -2.5479323863983154,
          1.4002394676208496,
          4.74946928024292,
          1.583251714706421,
          -6.314178943634033,
          -5.620999336242676,
          3.6682209968566895,
          3.6992106437683105,
          -3.9286623001098633,
          6.946071624755859,
          -1.8670088052749634,
          -1.2565784454345703,
          6.30374002456665,
          1.3847508430480957,
          -3.7972822189331055,
          -11.039695739746094,
          -5.997679233551025,
          -3.3437001705169678,
          -5.317300319671631,
          -6.888021945953369,
          0.5125305652618408,
          -1.9510443210601807,
          2.9556491374969482,
          -3.8466765880584717,
          -2.3189620971679688,
          -5.51855993270874,
          -4.829224109649658,
          -0.6505363583564758,
          -7.85267448425293,
          -1.700689673423767,
          -7.902105331420898,
          15.317906379699707,
          0.6190249919891357,
          11.741199493408203,
          -2.471283197402954,
          -1.611562728881836,
          -0.29275187849998474,
          1.1580137014389038,
          -6.075066566467285,
          9.024076461791992,
          6.6928300857543945,
          3.9520692825317383,
          15.940225601196289,
          9.615909576416016,
          0.5907060503959656,
          -2.1477484703063965,
          -1.5046275854110718,
          -6.241298198699951,
          -3.771854877471924,
          -2.9464046955108643,
          -2.9699900150299072,
          -2.7369704246520996,
          -0.47828409075737,
          -6.147495269775391,
          13.856630325317383,
          -11.683294296264648,
          -5.312557697296143,
          4.029673099517822,
          -1.0449488162994385,
          10.155354499816895,
          12.494173049926758,
          7.244426727294922,
          16.809316635131836,
          -1.3677791357040405,
          15.216285705566406,
          -1.733821988105774,
          6.492128372192383,
          -5.408814907073975,
          -7.008723258972168,
          -7.884486675262451,
          10.534149169921875,
          0.6243668794631958,
          -2.8871212005615234,
          -4.304586887359619,
          -1.1519174575805664,
          -4.54407262802124,
          2.8566031455993652,
          6.520931243896484,
          -3.193772554397583,
          -8.587390899658203,
          2.983438014984131,
          -7.188845634460449,
          5.00682258605957,
          6.430202960968018,
          -3.1003692150115967,
          -10.389681816101074,
          -4.225251197814941,
          6.301629543304443,
          7.642989158630371,
          -2.225595235824585,
          2.451810836791992,
          6.028842926025391,
          0.28471583127975464,
          -2.1968133449554443,
          -8.15346622467041,
          -2.1555540561676025,
          6.0376057624816895,
          2.7589142322540283,
          -1.2872440814971924,
          0.36395469307899475,
          -10.334626197814941,
          -4.30528450012207,
          4.240381240844727,
          8.460638046264648,
          3.7501564025878906,
          -7.230987071990967,
          -5.461667537689209,
          -7.46638822555542,
          -5.250824451446533,
          -2.5444509983062744,
          6.007363319396973,
          4.644080638885498,
          -0.582574725151062,
          -5.7842183113098145,
          -1.5030449628829956,
          -5.6823530197143555,
          16.881723403930664,
          -10.489425659179688,
          1.0745372772216797,
          -1.1770896911621094,
          1.0472612380981445,
          4.783814907073975,
          1.1713999509811401,
          -0.5251621603965759,
          11.895604133605957,
          4.106175422668457,
          -1.691859483718872,
          10.993361473083496,
          -10.88378620147705,
          -5.928892135620117,
          -7.397939682006836,
          9.6591157913208,
          -1.1410470008850098,
          12.488482475280762,
          -6.376029968261719,
          -7.768139839172363,
          -9.917055130004883,
          -1.2215995788574219,
          3.345547676086426,
          -1.461799144744873,
          -5.140382289886475,
          -9.2722806930542,
          2.5338919162750244,
          8.689935684204102,
          -2.6857004165649414,
          -0.901002049446106,
          15.612585067749023,
          -10.397961616516113,
          -8.630105018615723,
          1.5325217247009277,
          10.797298431396484,
          18.501537322998047,
          -0.17338168621063232,
          -0.3687233626842499,
          -5.460391521453857,
          -6.4074273109436035,
          1.1898179054260254,
          -2.0645384788513184,
          0.8846284747123718,
          3.1290271282196045,
          0.06517153978347778,
          -8.94873046875,
          -5.244962692260742,
          -6.645843982696533,
          -5.202080249786377,
          -3.2492542266845703,
          -3.8203134536743164,
          2.430481433868408,
          -9.4423246383667,
          4.218755722045898,
          -2.3098256587982178,
          -2.0252914428710938,
          4.077980995178223,
          -4.967894077301025,
          17.226892471313477,
          18.51381492614746,
          -2.9288148880004883,
          -2.1921517848968506,
          2.964599847793579,
          -10.591238021850586,
          -1.5812954902648926,
          -1.6323699951171875,
          4.964366912841797,
          11.610708236694336,
          -3.551088571548462,
          -2.468546152114868,
          16.477590560913086,
          6.971431255340576,
          -5.07301664352417,
          -7.093457221984863,
          -0.2493235468864441,
          7.489405155181885,
          6.293848991394043,
          -6.062559604644775,
          2.7796947956085205,
          3.644165515899658,
          -7.5994343757629395,
          -1.1242965459823608,
          -4.287197589874268,
          0.2030308097600937,
          -8.56364631652832,
          -7.833724021911621,
          0.9321997761726379,
          -9.965211868286133,
          -7.22574520111084,
          5.644988059997559,
          -0.7943174839019775,
          2.4606761932373047,
          -6.36407470703125,
          -0.021295133978128433,
          -5.893006324768066,
          -2.0774118900299072,
          3.612696409225464,
          -1.6698395013809204,
          4.0901970863342285,
          10.917770385742188,
          2.325925350189209,
          -2.311807632446289,
          -9.432336807250977,
          -2.336620569229126,
          3.5562021732330322,
          10.011876106262207,
          7.400778293609619,
          -3.552233934402466,
          -1.149183750152588,
          1.2213298082351685,
          -8.442995071411133,
          5.803049087524414,
          -3.937197208404541,
          -3.5087950229644775,
          -10.406776428222656,
          3.291005849838257,
          5.70148229598999,
          -2.235593795776367,
          -5.7987565994262695,
          -7.539144515991211,
          -2.436335802078247,
          -4.909954071044922,
          11.754730224609375,
          -6.039453029632568,
          1.0632878541946411,
          -0.4773799180984497,
          -2.1888065338134766,
          -6.090799808502197,
          3.8655381202697754,
          11.691925048828125,
          -6.977931499481201,
          0.25008222460746765,
          6.165787220001221,
          -1.8851200342178345,
          -1.4775428771972656,
          -7.746652603149414,
          11.617486000061035,
          10.759345054626465,
          3.1100211143493652,
          -2.3852334022521973,
          -7.102001190185547,
          3.380202531814575,
          -7.4311747550964355,
          15.399144172668457,
          3.1578140258789062,
          2.991983652114868,
          -4.9124603271484375,
          2.5827105045318604,
          -1.476181983947754,
          3.985158681869507,
          -2.2284557819366455,
          -6.211257457733154,
          4.542494773864746,
          6.746517658233643,
          3.0071377754211426,
          2.789382219314575,
          4.13449764251709,
          -6.160495281219482,
          -6.91151762008667,
          -7.337889671325684,
          -7.473653793334961,
          11.223223686218262,
          -3.8501625061035156,
          2.2041149139404297,
          -7.900685787200928,
          3.572129011154175,
          -3.0270910263061523,
          1.3669747114181519,
          -1.5107057094573975,
          -6.758427619934082,
          -0.4512121081352234,
          -4.838600158691406,
          2.605224132537842,
          -0.584899365901947,
          3.043189764022827,
          9.618840217590332,
          -2.4569289684295654,
          -1.238674283027649,
          -4.4652018547058105,
          -3.917255163192749,
          6.369052410125732,
          -7.124464988708496,
          12.58654499053955,
          -8.330877304077148,
          7.251142501831055,
          15.449064254760742,
          -9.586735725402832,
          -4.7830119132995605,
          -1.0891714096069336,
          -1.2629306316375732,
          16.102245330810547,
          -5.273238658905029,
          -3.1179986000061035,
          -7.419925689697266,
          14.866251945495605,
          6.434621810913086,
          3.6273696422576904,
          -1.6148244142532349,
          3.6301825046539307,
          0.2005590796470642,
          1.214158296585083,
          -0.2019766867160797,
          -6.47783899307251,
          -1.2094526290893555,
          -8.179757118225098,
          -7.754208564758301,
          2.9219179153442383,
          -6.293976306915283,
          -3.5617964267730713,
          -6.626312255859375,
          0.7938932180404663,
          -1.2913466691970825,
          15.546307563781738,
          -10.027738571166992,
          11.008504867553711,
          7.578938961029053,
          8.573620796203613,
          -3.645144462585449,
          6.674193382263184,
          -1.1960368156433105,
          5.763030052185059,
          -2.0866198539733887,
          -6.037479877471924,
          7.724521160125732,
          -1.4704910516738892,
          -4.862389087677002,
          -10.286017417907715,
          -2.919431447982788,
          -4.917655944824219,
          13.08497142791748,
          2.7372498512268066,
          -9.03113079071045,
          3.4256041049957275,
          -8.199066162109375,
          -1.6496772766113281,
          -10.26370906829834,
          -4.769790172576904,
          -1.0814290046691895,
          -1.8233489990234375,
          0.44837746024131775,
          -2.9086813926696777,
          1.894266963005066,
          -2.3533098697662354,
          -0.5214827656745911,
          0.7202746868133545,
          -2.97173810005188,
          2.229696035385132,
          -3.881981611251831,
          0.363662987947464,
          0.7053340673446655,
          -5.123096942901611,
          10.837900161743164,
          0.12870153784751892,
          -4.136281967163086,
          -7.292984485626221,
          -7.649665355682373,
          -0.7585740685462952,
          -5.436579704284668,
          -2.240612268447876,
          5.783057689666748,
          10.903528213500977,
          3.0305657386779785,
          -9.3974609375,
          -6.909729480743408,
          2.1304752826690674,
          18.509395599365234,
          -0.3744513988494873,
          -3.6928160190582275,
          3.6989517211914062,
          8.843781471252441,
          -5.122554779052734,
          12.622955322265625,
          -2.6208226680755615,
          14.571962356567383,
          -1.7327911853790283,
          -0.15995244681835175,
          3.4203860759735107,
          9.582537651062012,
          7.4158034324646,
          -4.101153373718262,
          -1.958716630935669,
          -0.9438413977622986,
          18.517162322998047,
          0.7753976583480835,
          -7.2206244468688965,
          -10.316333770751953,
          1.033445954322815,
          -1.211116075515747,
          11.01027774810791,
          -1.9304571151733398,
          -3.0350072383880615,
          -1.414312481880188,
          -0.47392064332962036,
          -3.8378467559814453,
          -8.332666397094727,
          2.7490322589874268,
          2.2505862712860107,
          -3.5165414810180664,
          -1.5854538679122925,
          -0.2139229029417038,
          -5.192508220672607,
          -1.3920525312423706,
          -8.85798454284668,
          15.59518814086914,
          1.18453848361969,
          4.112766742706299,
          -5.623234272003174,
          -2.620347499847412,
          -3.367825746536255,
          -1.1012288331985474,
          -7.250588893890381,
          -2.06949520111084,
          -3.97411847114563,
          -0.7356922030448914,
          3.339663505554199,
          -1.5602154731750488,
          -7.4435133934021,
          -4.1236572265625,
          4.236331462860107,
          -1.5449225902557373,
          -2.9867329597473145,
          -5.3843183517456055,
          15.934542655944824,
          16.706308364868164,
          -5.33188533782959,
          -6.650597095489502,
          6.700265884399414,
          -8.422688484191895,
          13.270858764648438,
          -2.6045680046081543,
          12.878571510314941,
          5.378398418426514,
          15.291936874389648,
          7.827383041381836,
          1.3964015245437622,
          1.285557508468628,
          -2.430752992630005,
          6.672630786895752,
          -1.789432168006897,
          -8.991129875183105,
          -6.934009552001953,
          -4.714927673339844,
          12.983898162841797,
          16.395418167114258,
          2.206467628479004,
          7.142602443695068,
          -6.91688871383667,
          -5.57100772857666,
          -5.981296062469482,
          -6.203625679016113,
          -1.3082633018493652,
          -1.8423656225204468,
          7.102461338043213,
          6.449284553527832,
          4.674140930175781,
          -0.39871323108673096,
          -6.5487823486328125,
          17.156082153320312,
          6.363094329833984,
          -8.126848220825195,
          14.458483695983887,
          -3.2712061405181885,
          -6.234951972961426,
          -7.585022926330566,
          1.3210554122924805,
          -5.744287014007568,
          -10.615930557250977,
          1.017975091934204,
          -5.278324127197266,
          2.612293243408203,
          -2.1200146675109863,
          7.300548553466797,
          -6.949697017669678,
          -1.9661707878112793,
          -4.141279697418213,
          -4.15505313873291,
          3.872464656829834,
          -5.61379337310791,
          16.016748428344727,
          -4.799861907958984,
          -2.66611909866333,
          1.5951976776123047,
          -3.737847089767456,
          6.682130336761475,
          -3.4841701984405518,
          -2.5996315479278564,
          14.667116165161133,
          -5.269486427307129,
          17.39209747314453,
          -9.864168167114258,
          -4.779415607452393,
          -2.4708588123321533,
          -7.239687919616699,
          8.70008373260498,
          18.038990020751953,
          6.9938483238220215,
          2.8476436138153076,
          -8.872758865356445,
          -5.2438201904296875,
          -4.0899553298950195,
          0.9342376589775085,
          1.9485563039779663,
          5.829994201660156,
          -6.829061508178711,
          2.5348103046417236,
          -8.17626953125
         ],
         "z": [
          2.5270378589630127,
          4.258508205413818,
          4.432133197784424,
          -4.470693588256836,
          0.7729712724685669,
          -0.1166435107588768,
          9.75897216796875,
          -3.7689461708068848,
          11.125199317932129,
          -4.1213812828063965,
          -3.4437623023986816,
          6.209765911102295,
          -3.1242964267730713,
          6.792750835418701,
          -4.209902763366699,
          1.0704535245895386,
          2.576197385787964,
          -2.5977118015289307,
          5.482800483703613,
          -1.5883060693740845,
          -3.948249101638794,
          -1.1373209953308105,
          0.338523268699646,
          -3.8644912242889404,
          6.75679874420166,
          3.470202684402466,
          3.5600922107696533,
          -3.4660143852233887,
          3.1134073734283447,
          -5.183290958404541,
          -5.864287376403809,
          6.388522148132324,
          -3.7429683208465576,
          3.8746695518493652,
          2.117527961730957,
          -0.6028868556022644,
          3.2196168899536133,
          -5.003284931182861,
          -2.2632129192352295,
          -1.2518160343170166,
          0.6266691088676453,
          -5.100620269775391,
          6.220458984375,
          7.84357213973999,
          -7.828771591186523,
          -2.3537087440490723,
          -1.7533966302871704,
          -1.2149604558944702,
          1.0249770879745483,
          -2.049572706222534,
          -5.549878120422363,
          6.499830722808838,
          0.7571277022361755,
          -1.6415460109710693,
          -3.9434802532196045,
          -0.25966277718544006,
          -7.7494354248046875,
          8.234940528869629,
          -4.1330108642578125,
          6.897409439086914,
          -1.4422733783721924,
          -3.6793713569641113,
          -2.909771680831909,
          -4.139045715332031,
          3.437882900238037,
          -1.801458477973938,
          4.023286819458008,
          2.302685022354126,
          3.286952018737793,
          -2.8877007961273193,
          -0.24355633556842804,
          -1.3160812854766846,
          3.9985251426696777,
          -0.4771271347999573,
          4.5753173828125,
          -2.6318788528442383,
          -5.170106410980225,
          -1.3409936428070068,
          -4.798825263977051,
          6.464082717895508,
          3.023113489151001,
          1.8720709085464478,
          -1.0791410207748413,
          -2.2018091678619385,
          -2.1518971920013428,
          -0.36726751923561096,
          0.7647681832313538,
          -4.415440082550049,
          -2.1204915046691895,
          9.100703239440918,
          -7.79923677444458,
          -4.312241077423096,
          1.5570076704025269,
          3.9908370971679688,
          1.0600266456604004,
          6.387841701507568,
          -1.9202741384506226,
          -2.463653802871704,
          6.156779766082764,
          0.14555123448371887,
          -5.490256309509277,
          -6.480302333831787,
          0.7879167795181274,
          -4.404932975769043,
          3.6993069648742676,
          3.0856356620788574,
          3.0347447395324707,
          -3.591209650039673,
          -5.822993278503418,
          0.7396520376205444,
          -5.318648338317871,
          1.1858388185501099,
          0.5705577731132507,
          -5.067012310028076,
          3.5050439834594727,
          0.6812254190444946,
          4.672619342803955,
          -2.8306643962860107,
          -1.3604871034622192,
          4.478682518005371,
          7.215015411376953,
          -6.053468227386475,
          1.4044052362442017,
          -4.645923614501953,
          1.730921745300293,
          2.160824775695801,
          3.2858872413635254,
          2.521427631378174,
          4.607884407043457,
          1.415575385093689,
          7.312178134918213,
          10.700601577758789,
          -2.782238721847534,
          -1.8437696695327759,
          -2.478778839111328,
          2.377987861633301,
          -3.301431179046631,
          1.0646947622299194,
          -4.407111167907715,
          4.594901084899902,
          6.9155755043029785,
          -1.3625315427780151,
          -4.685256481170654,
          -3.8038899898529053,
          1.7485907077789307,
          -0.08279326558113098,
          6.7935872077941895,
          2.3207855224609375,
          4.1295013427734375,
          -1.274563193321228,
          0.5140383839607239,
          -1.5811376571655273,
          4.019556045532227,
          0.37908849120140076,
          -5.771543025970459,
          11.08241081237793,
          -1.1432310342788696,
          -5.222768783569336,
          4.168348789215088,
          -5.966579914093018,
          -0.5092492699623108,
          1.9546746015548706,
          -7.468667030334473,
          0.4055389165878296,
          -0.6377593278884888,
          -8.429008483886719,
          -4.309096813201904,
          0.4884500503540039,
          -2.564335346221924,
          -2.9440524578094482,
          0.3313976526260376,
          0.7626236081123352,
          4.249953746795654,
          2.868403911590576,
          5.839718818664551,
          -1.7690913677215576,
          3.174147605895996,
          -3.0805299282073975,
          0.9363372921943665,
          -4.823755264282227,
          -3.4133336544036865,
          6.854012966156006,
          4.523269176483154,
          9.559809684753418,
          5.990438938140869,
          4.270620822906494,
          4.594013690948486,
          -2.8808233737945557,
          -6.188138961791992,
          -3.3041915893554688,
          -1.872162938117981,
          -2.6445672512054443,
          4.606695652008057,
          -1.884034514427185,
          -0.7328453660011292,
          -2.6749818325042725,
          10.633180618286133,
          -3.8051652908325195,
          -1.7637302875518799,
          -2.1603856086730957,
          7.214892387390137,
          2.7738125324249268,
          0.26626503467559814,
          0.15486687421798706,
          -3.4952876567840576,
          1.0507038831710815,
          1.8132505416870117,
          10.350826263427734,
          -5.4637651443481445,
          -1.9267021417617798,
          1.0949310064315796,
          3.6136786937713623,
          2.8436734676361084,
          6.391753196716309,
          4.871392250061035,
          -0.16559267044067383,
          2.0008246898651123,
          5.0687761306762695,
          -2.7103867530822754,
          6.2235565185546875,
          -4.7140679359436035,
          7.364421367645264,
          9.436269760131836,
          4.538237571716309,
          -3.534571409225464,
          -6.948853492736816,
          -1.6523329019546509,
          -1.4881123304367065,
          -3.254687786102295,
          -3.090552806854248,
          -4.164605140686035,
          8.81653118133545,
          5.084556579589844,
          4.1452412605285645,
          10.794471740722656,
          1.6485202312469482,
          0.20311881601810455,
          5.775417327880859,
          9.643930435180664,
          8.739569664001465,
          -3.5264790058135986,
          -3.919665813446045,
          3.4951555728912354,
          -4.7448201179504395,
          -2.5105555057525635,
          7.01340913772583,
          -7.159539222717285,
          -1.8154046535491943,
          6.225618362426758,
          2.0821523666381836,
          -2.669337749481201,
          -3.844697952270508,
          -5.784839630126953,
          6.518428802490234,
          7.37343692779541,
          6.8564043045043945,
          -4.389721870422363,
          -3.082458972930908,
          4.432100772857666,
          -5.774190425872803,
          5.937175750732422,
          -3.928781270980835,
          4.745358467102051,
          1.1593170166015625,
          -3.624467611312866,
          -4.561886310577393,
          2.1977474689483643,
          3.1358089447021484,
          -5.083028793334961,
          -4.4859299659729,
          4.909633636474609,
          -2.2982451915740967,
          -3.022747278213501,
          4.168651580810547,
          3.319612741470337,
          5.471999645233154,
          -4.817252159118652,
          -1.9317559003829956,
          8.17387580871582,
          10.468828201293945,
          -3.6546530723571777,
          -7.916538715362549,
          -2.3499953746795654,
          -3.2499921321868896,
          -4.098793029785156,
          -2.3367209434509277,
          1.450091004371643,
          -2.6566522121429443,
          -3.7590794563293457,
          1.2838166952133179,
          -3.7333083152770996,
          -2.4111998081207275,
          -8.529607772827148,
          7.47024393081665,
          0.2670353651046753,
          6.713316440582275,
          6.678197860717773,
          -2.8239169120788574,
          -6.57235860824585,
          4.118568420410156,
          -2.2357075214385986,
          -1.6140285730361938,
          1.8355419635772705,
          -3.4854109287261963,
          -1.3791025876998901,
          -4.070471286773682,
          -3.2274699211120605,
          8.664741516113281,
          -4.080498695373535,
          -3.798064708709717,
          8.76229190826416,
          6.350406646728516,
          -4.177257537841797,
          -5.8528571128845215,
          2.088364601135254,
          -3.9984734058380127,
          -3.7662274837493896,
          10.746623039245605,
          -2.5281264781951904,
          8.284811019897461,
          -2.781825304031372,
          1.5916861295700073,
          0.6666104793548584,
          -2.766927480697632,
          10.882253646850586,
          4.205299377441406,
          2.6617069244384766,
          -3.978041410446167,
          8.649019241333008,
          -5.09161376953125,
          -4.64597749710083,
          -0.8132069110870361,
          2.7012271881103516,
          6.558438777923584,
          2.0610158443450928,
          -5.603989601135254,
          -4.358501434326172,
          -5.2208075523376465,
          3.3593199253082275,
          -0.15426120162010193,
          -2.612298011779785,
          8.823238372802734,
          -5.299443244934082,
          -2.325061082839966,
          -6.002384185791016,
          -4.513637542724609,
          10.115424156188965,
          -5.412922382354736,
          2.5402724742889404,
          1.622320294380188,
          3.634420871734619,
          -4.4561614990234375,
          -1.4415342807769775,
          4.120595932006836,
          3.202090263366699,
          -3.724282741546631,
          -3.148648500442505,
          -0.4676177501678467,
          -2.5493690967559814,
          1.6198805570602417,
          -6.57989501953125,
          -4.28877067565918,
          -2.56935453414917,
          4.706296443939209,
          9.224149703979492,
          -4.719351291656494,
          7.3290581703186035,
          0.7866341471672058,
          -4.291606426239014,
          2.5643062591552734,
          0.5836357474327087,
          3.6805739402770996,
          -3.9237804412841797,
          -1.9882210493087769,
          3.913543224334717,
          2.0143985748291016,
          7.238165855407715,
          -4.316686630249023,
          -4.229787349700928,
          -4.2561869621276855,
          0.9040752053260803,
          3.340786933898926,
          -1.961336374282837,
          -3.8720526695251465,
          6.395447731018066,
          2.1790406703948975,
          0.3619810938835144,
          -2.40708065032959,
          -2.3040387630462646,
          0.34622901678085327,
          8.957425117492676,
          -6.449154376983643,
          -2.599097490310669,
          1.5841494798660278,
          4.879149436950684,
          -4.021700859069824,
          6.718851566314697,
          -4.455477237701416,
          -4.674435138702393,
          -3.898264169692993,
          0.25533777475357056,
          -1.4709476232528687,
          1.992455005645752,
          -1.7218679189682007,
          -5.639172554016113,
          -2.9507462978363037,
          2.5004262924194336,
          -7.921983242034912,
          0.3697819113731384,
          -4.4726338386535645,
          6.515746116638184,
          -3.2220711708068848,
          -7.046205043792725,
          -1.541722059249878,
          -5.57208251953125,
          3.66268253326416,
          -3.9050891399383545,
          0.9204661846160889,
          1.004032015800476,
          5.466058731079102,
          0.961007297039032,
          10.752289772033691,
          -3.934143304824829,
          3.3173298835754395,
          -3.481137752532959,
          -1.8878589868545532,
          -4.376121997833252,
          3.4239673614501953,
          6.408289909362793,
          1.1247230768203735,
          1.3872464895248413,
          -2.3937158584594727,
          -5.8068766593933105,
          -3.454357862472534,
          7.6702117919921875,
          -5.446864128112793,
          5.571597099304199,
          1.2440603971481323,
          -4.360292434692383,
          3.8318865299224854,
          -0.510445773601532,
          -4.312903881072998,
          2.880423069000244,
          -2.8199751377105713,
          -8.289265632629395,
          5.4391608238220215,
          -2.8603007793426514,
          7.909927845001221,
          -1.7579841613769531,
          -4.20231819152832,
          0.8651496171951294,
          -2.59011173248291,
          7.994119167327881,
          11.069944381713867,
          0.6158713102340698,
          3.1661019325256348,
          2.106884479522705,
          -0.09290310740470886,
          2.2771615982055664,
          -2.028674602508545,
          8.806777954101562,
          -2.497203826904297,
          0.3558586537837982,
          -2.6730434894561768,
          0.10073413699865341,
          4.899441242218018,
          10.634921073913574,
          -0.04939617961645126,
          2.9717018604278564,
          -3.286607265472412,
          2.8818118572235107,
          5.244160175323486,
          3.3448421955108643,
          -3.978412628173828,
          -2.143266201019287,
          -4.7506489753723145,
          -2.400489568710327,
          -3.023812770843506,
          -3.214277982711792,
          7.839642524719238,
          4.174403190612793,
          -5.81494140625,
          -3.6729800701141357,
          0.10246462374925613,
          -5.091497421264648,
          -2.285257577896118,
          -4.435848236083984,
          3.73746919631958,
          -0.7094756364822388,
          0.6041558384895325,
          3.995997667312622,
          1.445311427116394,
          -3.21094012260437,
          4.484747409820557,
          -2.259842872619629,
          3.283536434173584,
          -3.221785306930542,
          0.2553499937057495,
          -3.6582062244415283,
          -1.2798157930374146,
          -3.1573405265808105,
          -4.044900417327881,
          -6.576534271240234,
          -3.0252044200897217,
          -3.375607490539551,
          -2.8737587928771973,
          -2.818537712097168,
          5.111581325531006,
          0.5950185060501099,
          5.35517692565918,
          0.3572838604450226,
          2.5273501873016357,
          -4.9276838302612305,
          -2.6325926780700684,
          -2.6846113204956055,
          6.317282199859619,
          -5.013397216796875,
          1.490981101989746,
          2.211564302444458,
          1.922410011291504,
          1.7308982610702515,
          -2.5908169746398926,
          -8.445466041564941,
          5.77883243560791,
          -4.969305515289307,
          -4.621547222137451,
          -2.4723410606384277,
          -0.685627818107605,
          8.95742416381836,
          -6.227506637573242,
          -4.844976902008057,
          -3.150054931640625,
          -2.059835433959961,
          -6.882290363311768,
          -4.632596969604492,
          0.8007449507713318,
          0.5587974190711975,
          -4.106189250946045,
          -4.140665531158447,
          -2.0336811542510986,
          -1.728301763534546,
          -1.2143412828445435,
          4.694406509399414,
          6.766548156738281,
          -8.250056266784668,
          -2.7997682094573975,
          -3.1013426780700684,
          0.21814116835594177,
          -0.1734941601753235,
          4.204997539520264,
          -1.087507724761963,
          5.360999584197998,
          -1.0791432857513428,
          -2.9236674308776855,
          -2.8303418159484863,
          0.6017993092536926,
          -0.07239873707294464,
          1.0415716171264648,
          -3.8660199642181396,
          -1.244642972946167,
          -2.50339412689209,
          -4.6744890213012695,
          -2.4000837802886963,
          -2.861123561859131,
          6.586910724639893,
          5.668571472167969,
          -2.297534227371216,
          0.8771608471870422,
          0.4130719006061554,
          -4.013919353485107,
          2.045567274093628,
          7.583245754241943,
          6.034290790557861,
          -2.8622941970825195,
          1.6328226327896118,
          -3.5344502925872803,
          2.064898729324341,
          3.6015336513519287,
          2.817718982696533,
          11.234586715698242,
          -2.1692628860473633,
          10.89405345916748,
          7.509235858917236,
          0.21518440544605255,
          -2.093290090560913,
          -3.6510608196258545,
          -3.4364330768585205,
          10.933341026306152,
          -3.098196506500244,
          0.6301732659339905,
          2.774493455886841,
          6.801111221313477,
          -2.0872366428375244,
          -4.429720401763916,
          10.582417488098145,
          5.361602783203125,
          1.3956987857818604,
          3.2169995307922363,
          -3.785829544067383,
          10.45699691772461,
          -0.0015749328304082155,
          2.6770379543304443,
          1.502862572669983,
          -1.9874393939971924,
          0.35322779417037964,
          -2.4574835300445557,
          8.08137321472168,
          5.8616461753845215,
          4.019758224487305,
          -1.270866870880127,
          0.22435232996940613,
          -8.022811889648438,
          -2.587144374847412,
          0.21247915923595428,
          -7.950279235839844,
          6.846822738647461,
          -4.349032402038574,
          -4.401608943939209,
          3.6636853218078613,
          5.091534614562988,
          -3.1654722690582275,
          1.1897222995758057,
          10.948235511779785,
          -3.1784744262695312,
          -6.118833541870117,
          -3.8081469535827637,
          5.900770664215088,
          3.89812970161438,
          -3.967381715774536,
          -3.283090829849243,
          0.0076690721325576305,
          -0.3706909120082855,
          -2.513669013977051,
          -3.2576169967651367,
          -2.8662729263305664,
          -0.23486998677253723,
          -4.0501885414123535,
          -2.6948156356811523,
          -1.5793784856796265,
          -1.902858853340149,
          -1.9255661964416504,
          -5.457276821136475,
          -1.0955557823181152,
          4.301229953765869,
          -6.314797878265381,
          3.838038921356201,
          -1.3283920288085938,
          -6.1429243087768555,
          2.990222454071045,
          6.288459300994873,
          2.8899757862091064,
          6.474091053009033,
          0.6627470850944519,
          -1.257513403892517,
          0.25765594840049744,
          -3.1471033096313477,
          0.9188493490219116,
          -5.60634183883667,
          -0.722510814666748,
          10.923361778259277,
          2.1615188121795654,
          2.5996241569519043,
          -2.667633056640625,
          -4.380767822265625,
          -2.392143487930298,
          -1.2801964282989502,
          7.364684581756592,
          -2.1180570125579834,
          -1.1598325967788696,
          -3.345386505126953,
          1.1888442039489746,
          1.882804274559021,
          -0.6894487142562866,
          2.0113682746887207,
          -0.5681228041648865,
          10.826956748962402,
          5.198453426361084,
          2.5471577644348145,
          -3.0983078479766846,
          -2.0364913940429688,
          -5.368480205535889,
          4.445700168609619,
          1.249327301979065,
          1.5699940919876099,
          4.054376602172852,
          3.898277759552002,
          0.7046092748641968,
          -3.5409395694732666,
          4.35155725479126,
          -1.9111379384994507,
          -2.2281343936920166,
          8.520280838012695,
          8.62476921081543,
          6.6982526779174805,
          -2.60141658782959,
          -4.755304336547852,
          -7.8987016677856445,
          -2.639657735824585,
          -0.10173779726028442,
          2.288179397583008,
          5.971784591674805,
          -4.614315509796143,
          -3.0656821727752686,
          -1.2036949396133423,
          7.2342529296875,
          -2.493467092514038,
          2.668177843093872,
          0.29102808237075806,
          5.558319568634033,
          0.4565415680408478,
          -2.7791812419891357,
          -5.903573989868164,
          -2.111419439315796,
          -2.7501633167266846,
          -2.0275912284851074,
          -0.0865095928311348,
          3.250373363494873,
          5.972203254699707,
          -1.2523826360702515,
          -3.3668296337127686,
          6.45781135559082,
          -2.069671630859375,
          4.030229568481445,
          -3.9197773933410645,
          -3.6070728302001953,
          2.1565961837768555,
          2.3060035705566406,
          0.23360417783260345,
          5.519375324249268,
          0.6099432110786438,
          6.253261566162109,
          10.648991584777832,
          -4.093018531799316,
          -2.888951301574707,
          4.994388103485107,
          -3.0140671730041504,
          0.7484501004219055,
          4.871777057647705,
          0.6530588269233704,
          5.700282096862793,
          -7.416408538818359,
          -2.1375234127044678,
          -5.752772808074951,
          -5.011170864105225,
          1.3918617963790894,
          7.020642280578613,
          -4.9090399742126465,
          -3.1555566787719727,
          -2.6951637268066406,
          7.580351829528809,
          6.413511276245117,
          2.66605544090271,
          -6.41550350189209,
          -4.280919551849365,
          2.025672435760498,
          6.997969150543213,
          -2.1467151641845703,
          -5.011831760406494,
          -5.930357456207275,
          4.497203350067139,
          -2.350339889526367,
          -4.272536754608154,
          5.691859722137451,
          3.8459534645080566,
          2.7997171878814697,
          -0.6757481098175049,
          2.6792681217193604,
          -0.2196199744939804,
          -5.981861591339111,
          -4.308263778686523,
          -4.892273426055908,
          -0.3453468382358551,
          -3.0219388008117676,
          -4.798418045043945,
          -2.1565511226654053,
          5.748255252838135,
          1.826439619064331,
          -4.0610880851745605,
          -6.738175392150879,
          -5.845113277435303,
          -0.8102537989616394,
          -4.8650054931640625,
          10.261710166931152,
          1.0814406871795654,
          2.344383716583252,
          2.8563759326934814,
          -0.1170048788189888,
          -4.691915035247803,
          6.017201900482178,
          1.2493568658828735,
          2.0156917572021484,
          6.931456089019775,
          -3.7881088256835938,
          4.692161560058594,
          -0.45983079075813293,
          5.593297004699707,
          11.152519226074219,
          8.429096221923828,
          4.108178615570068,
          1.2398205995559692,
          10.90726375579834,
          5.15834903717041,
          0.04925553500652313,
          10.660531997680664,
          3.7930662631988525,
          4.362269878387451,
          1.307064175605774,
          0.8234918117523193,
          0.8076586127281189,
          -4.162724018096924,
          -5.5172271728515625,
          7.6032562255859375,
          6.285763263702393,
          -0.021751344203948975,
          -3.2091376781463623,
          1.595443606376648,
          -0.761062502861023,
          0.021679742261767387,
          -4.780405521392822,
          -1.4071170091629028,
          3.883608341217041,
          -2.47411847114563,
          -3.8657097816467285,
          -4.410399913787842,
          -1.4715675115585327,
          -2.6729843616485596,
          0.2661677598953247,
          -5.85220193862915,
          5.80509614944458,
          -3.570016384124756,
          5.776985168457031,
          -3.9561586380004883,
          -3.636559009552002,
          1.642067790031433,
          -3.485410690307617,
          -4.489321231842041,
          -3.7611706256866455,
          2.204711437225342,
          -3.761343479156494,
          8.846534729003906,
          -4.397391319274902,
          6.24569845199585,
          5.425745964050293,
          0.20503449440002441,
          -5.060135364532471,
          2.99839448928833,
          -5.025399208068848,
          -2.1266093254089355,
          -2.9793174266815186,
          0.7439066171646118,
          -3.275040864944458,
          3.199477195739746,
          5.830415725708008,
          -4.014159679412842,
          -3.139005661010742,
          1.3872339725494385,
          1.920637607574463,
          -3.276557207107544,
          5.059112548828125,
          7.3431782722473145,
          2.843294382095337,
          -3.2623865604400635,
          3.5036580562591553,
          0.9035351276397705,
          3.6153571605682373,
          -3.5096733570098877,
          9.841018676757812,
          -4.613256931304932,
          5.516658306121826,
          7.446377754211426,
          9.082906723022461,
          -2.381500244140625,
          2.087700128555298,
          -2.7086122035980225,
          -1.0453472137451172,
          1.2798740863800049,
          -3.8939287662506104,
          10.11370849609375,
          -4.1493353843688965,
          -0.6798983812332153,
          -2.178328037261963,
          -3.5878701210021973,
          7.489168167114258,
          3.223630428314209,
          1.9096558094024658,
          6.19857931137085,
          -3.6577579975128174,
          3.08480167388916,
          -4.711660861968994,
          -2.9847636222839355,
          -2.8833959102630615,
          -2.6240055561065674,
          6.192030906677246,
          -5.403160572052002,
          3.8669686317443848,
          1.9112389087677002,
          10.452187538146973,
          4.588616847991943,
          -0.5110955834388733,
          6.447197437286377,
          -4.394054889678955,
          -4.217859745025635,
          -4.400911331176758,
          -2.6425621509552,
          3.1252455711364746,
          0.4411346912384033,
          4.633651256561279,
          -0.6051855087280273,
          -3.472010612487793,
          2.3407719135284424,
          -3.969778060913086,
          0.29144957661628723,
          -7.928668022155762,
          3.5970027446746826,
          -0.14102737605571747,
          -4.704698085784912,
          0.2570163905620575,
          5.878392219543457,
          -3.8873791694641113,
          3.9891228675842285,
          7.841063976287842,
          2.7842559814453125,
          -1.8765790462493896,
          6.896100997924805,
          1.5238056182861328,
          0.7586862444877625,
          2.9286248683929443,
          6.229604244232178,
          -3.7584168910980225,
          -2.690629243850708,
          2.3741557598114014,
          -2.6269888877868652,
          1.340048909187317,
          -1.6747205257415771,
          0.03868745267391205,
          5.4301323890686035,
          -4.658334732055664,
          0.3522104322910309,
          -1.0101325511932373,
          6.224724769592285,
          3.170072317123413,
          -0.14721709489822388,
          -0.4061150550842285,
          6.839179992675781,
          -6.209601879119873,
          -0.5637614130973816,
          -4.328361988067627,
          2.8718018531799316,
          -1.6099086999893188,
          3.001068115234375,
          5.678454399108887,
          -5.491689682006836,
          -4.524514675140381,
          -4.580571174621582,
          -4.069877624511719,
          4.427482604980469,
          0.8849790692329407,
          1.3694206476211548,
          -6.31784725189209,
          -7.100688457489014,
          1.0707151889801025,
          0.027876920998096466,
          -0.16209697723388672,
          5.809289932250977
         ]
        },
        {
         "hovertemplate": "Dominant_Topic=Topic 1<br>0=%{x}<br>1=%{y}<br>2=%{z}<extra></extra>",
         "legendgroup": "Topic 1",
         "marker": {
          "color": "#EF553B",
          "opacity": 0.7,
          "symbol": "circle"
         },
         "mode": "markers",
         "name": "Topic 1",
         "scene": "scene",
         "showlegend": true,
         "type": "scatter3d",
         "x": [
          -6.210740566253662,
          -5.550610542297363,
          -10.663928985595703,
          -10.477875709533691
         ],
         "y": [
          -7.248566150665283,
          -7.033126354217529,
          -8.810088157653809,
          -8.702436447143555
         ],
         "z": [
          -2.3534979820251465,
          -2.59856915473938,
          3.5353543758392334,
          3.594438314437866
         ]
        },
        {
         "hovertemplate": "Dominant_Topic=Topic 2<br>0=%{x}<br>1=%{y}<br>2=%{z}<extra></extra>",
         "legendgroup": "Topic 2",
         "marker": {
          "color": "#00cc96",
          "opacity": 0.7,
          "symbol": "circle"
         },
         "mode": "markers",
         "name": "Topic 2",
         "scene": "scene",
         "showlegend": true,
         "type": "scatter3d",
         "x": [
          -11.426368713378906
         ],
         "y": [
          -6.2632155418396
         ],
         "z": [
          7.887411117553711
         ]
        }
       ],
       "layout": {
        "height": 800,
        "legend": {
         "title": {
          "text": "Dominant_Topic"
         },
         "tracegroupgap": 0
        },
        "scene": {
         "domain": {
          "x": [
           0,
           1
          ],
          "y": [
           0,
           1
          ]
         },
         "xaxis": {
          "title": {
           "text": "0"
          }
         },
         "yaxis": {
          "title": {
           "text": "1"
          }
         },
         "zaxis": {
          "title": {
           "text": "2"
          }
         }
        },
        "template": {
         "data": {
          "bar": [
           {
            "error_x": {
             "color": "#2a3f5f"
            },
            "error_y": {
             "color": "#2a3f5f"
            },
            "marker": {
             "line": {
              "color": "#E5ECF6",
              "width": 0.5
             }
            },
            "type": "bar"
           }
          ],
          "barpolar": [
           {
            "marker": {
             "line": {
              "color": "#E5ECF6",
              "width": 0.5
             }
            },
            "type": "barpolar"
           }
          ],
          "carpet": [
           {
            "aaxis": {
             "endlinecolor": "#2a3f5f",
             "gridcolor": "white",
             "linecolor": "white",
             "minorgridcolor": "white",
             "startlinecolor": "#2a3f5f"
            },
            "baxis": {
             "endlinecolor": "#2a3f5f",
             "gridcolor": "white",
             "linecolor": "white",
             "minorgridcolor": "white",
             "startlinecolor": "#2a3f5f"
            },
            "type": "carpet"
           }
          ],
          "choropleth": [
           {
            "colorbar": {
             "outlinewidth": 0,
             "ticks": ""
            },
            "type": "choropleth"
           }
          ],
          "contour": [
           {
            "colorbar": {
             "outlinewidth": 0,
             "ticks": ""
            },
            "colorscale": [
             [
              0,
              "#0d0887"
             ],
             [
              0.1111111111111111,
              "#46039f"
             ],
             [
              0.2222222222222222,
              "#7201a8"
             ],
             [
              0.3333333333333333,
              "#9c179e"
             ],
             [
              0.4444444444444444,
              "#bd3786"
             ],
             [
              0.5555555555555556,
              "#d8576b"
             ],
             [
              0.6666666666666666,
              "#ed7953"
             ],
             [
              0.7777777777777778,
              "#fb9f3a"
             ],
             [
              0.8888888888888888,
              "#fdca26"
             ],
             [
              1,
              "#f0f921"
             ]
            ],
            "type": "contour"
           }
          ],
          "contourcarpet": [
           {
            "colorbar": {
             "outlinewidth": 0,
             "ticks": ""
            },
            "type": "contourcarpet"
           }
          ],
          "heatmap": [
           {
            "colorbar": {
             "outlinewidth": 0,
             "ticks": ""
            },
            "colorscale": [
             [
              0,
              "#0d0887"
             ],
             [
              0.1111111111111111,
              "#46039f"
             ],
             [
              0.2222222222222222,
              "#7201a8"
             ],
             [
              0.3333333333333333,
              "#9c179e"
             ],
             [
              0.4444444444444444,
              "#bd3786"
             ],
             [
              0.5555555555555556,
              "#d8576b"
             ],
             [
              0.6666666666666666,
              "#ed7953"
             ],
             [
              0.7777777777777778,
              "#fb9f3a"
             ],
             [
              0.8888888888888888,
              "#fdca26"
             ],
             [
              1,
              "#f0f921"
             ]
            ],
            "type": "heatmap"
           }
          ],
          "heatmapgl": [
           {
            "colorbar": {
             "outlinewidth": 0,
             "ticks": ""
            },
            "colorscale": [
             [
              0,
              "#0d0887"
             ],
             [
              0.1111111111111111,
              "#46039f"
             ],
             [
              0.2222222222222222,
              "#7201a8"
             ],
             [
              0.3333333333333333,
              "#9c179e"
             ],
             [
              0.4444444444444444,
              "#bd3786"
             ],
             [
              0.5555555555555556,
              "#d8576b"
             ],
             [
              0.6666666666666666,
              "#ed7953"
             ],
             [
              0.7777777777777778,
              "#fb9f3a"
             ],
             [
              0.8888888888888888,
              "#fdca26"
             ],
             [
              1,
              "#f0f921"
             ]
            ],
            "type": "heatmapgl"
           }
          ],
          "histogram": [
           {
            "marker": {
             "colorbar": {
              "outlinewidth": 0,
              "ticks": ""
             }
            },
            "type": "histogram"
           }
          ],
          "histogram2d": [
           {
            "colorbar": {
             "outlinewidth": 0,
             "ticks": ""
            },
            "colorscale": [
             [
              0,
              "#0d0887"
             ],
             [
              0.1111111111111111,
              "#46039f"
             ],
             [
              0.2222222222222222,
              "#7201a8"
             ],
             [
              0.3333333333333333,
              "#9c179e"
             ],
             [
              0.4444444444444444,
              "#bd3786"
             ],
             [
              0.5555555555555556,
              "#d8576b"
             ],
             [
              0.6666666666666666,
              "#ed7953"
             ],
             [
              0.7777777777777778,
              "#fb9f3a"
             ],
             [
              0.8888888888888888,
              "#fdca26"
             ],
             [
              1,
              "#f0f921"
             ]
            ],
            "type": "histogram2d"
           }
          ],
          "histogram2dcontour": [
           {
            "colorbar": {
             "outlinewidth": 0,
             "ticks": ""
            },
            "colorscale": [
             [
              0,
              "#0d0887"
             ],
             [
              0.1111111111111111,
              "#46039f"
             ],
             [
              0.2222222222222222,
              "#7201a8"
             ],
             [
              0.3333333333333333,
              "#9c179e"
             ],
             [
              0.4444444444444444,
              "#bd3786"
             ],
             [
              0.5555555555555556,
              "#d8576b"
             ],
             [
              0.6666666666666666,
              "#ed7953"
             ],
             [
              0.7777777777777778,
              "#fb9f3a"
             ],
             [
              0.8888888888888888,
              "#fdca26"
             ],
             [
              1,
              "#f0f921"
             ]
            ],
            "type": "histogram2dcontour"
           }
          ],
          "mesh3d": [
           {
            "colorbar": {
             "outlinewidth": 0,
             "ticks": ""
            },
            "type": "mesh3d"
           }
          ],
          "parcoords": [
           {
            "line": {
             "colorbar": {
              "outlinewidth": 0,
              "ticks": ""
             }
            },
            "type": "parcoords"
           }
          ],
          "pie": [
           {
            "automargin": true,
            "type": "pie"
           }
          ],
          "scatter": [
           {
            "marker": {
             "colorbar": {
              "outlinewidth": 0,
              "ticks": ""
             }
            },
            "type": "scatter"
           }
          ],
          "scatter3d": [
           {
            "line": {
             "colorbar": {
              "outlinewidth": 0,
              "ticks": ""
             }
            },
            "marker": {
             "colorbar": {
              "outlinewidth": 0,
              "ticks": ""
             }
            },
            "type": "scatter3d"
           }
          ],
          "scattercarpet": [
           {
            "marker": {
             "colorbar": {
              "outlinewidth": 0,
              "ticks": ""
             }
            },
            "type": "scattercarpet"
           }
          ],
          "scattergeo": [
           {
            "marker": {
             "colorbar": {
              "outlinewidth": 0,
              "ticks": ""
             }
            },
            "type": "scattergeo"
           }
          ],
          "scattergl": [
           {
            "marker": {
             "colorbar": {
              "outlinewidth": 0,
              "ticks": ""
             }
            },
            "type": "scattergl"
           }
          ],
          "scattermapbox": [
           {
            "marker": {
             "colorbar": {
              "outlinewidth": 0,
              "ticks": ""
             }
            },
            "type": "scattermapbox"
           }
          ],
          "scatterpolar": [
           {
            "marker": {
             "colorbar": {
              "outlinewidth": 0,
              "ticks": ""
             }
            },
            "type": "scatterpolar"
           }
          ],
          "scatterpolargl": [
           {
            "marker": {
             "colorbar": {
              "outlinewidth": 0,
              "ticks": ""
             }
            },
            "type": "scatterpolargl"
           }
          ],
          "scatterternary": [
           {
            "marker": {
             "colorbar": {
              "outlinewidth": 0,
              "ticks": ""
             }
            },
            "type": "scatterternary"
           }
          ],
          "surface": [
           {
            "colorbar": {
             "outlinewidth": 0,
             "ticks": ""
            },
            "colorscale": [
             [
              0,
              "#0d0887"
             ],
             [
              0.1111111111111111,
              "#46039f"
             ],
             [
              0.2222222222222222,
              "#7201a8"
             ],
             [
              0.3333333333333333,
              "#9c179e"
             ],
             [
              0.4444444444444444,
              "#bd3786"
             ],
             [
              0.5555555555555556,
              "#d8576b"
             ],
             [
              0.6666666666666666,
              "#ed7953"
             ],
             [
              0.7777777777777778,
              "#fb9f3a"
             ],
             [
              0.8888888888888888,
              "#fdca26"
             ],
             [
              1,
              "#f0f921"
             ]
            ],
            "type": "surface"
           }
          ],
          "table": [
           {
            "cells": {
             "fill": {
              "color": "#EBF0F8"
             },
             "line": {
              "color": "white"
             }
            },
            "header": {
             "fill": {
              "color": "#C8D4E3"
             },
             "line": {
              "color": "white"
             }
            },
            "type": "table"
           }
          ]
         },
         "layout": {
          "annotationdefaults": {
           "arrowcolor": "#2a3f5f",
           "arrowhead": 0,
           "arrowwidth": 1
          },
          "autotypenumbers": "strict",
          "coloraxis": {
           "colorbar": {
            "outlinewidth": 0,
            "ticks": ""
           }
          },
          "colorscale": {
           "diverging": [
            [
             0,
             "#8e0152"
            ],
            [
             0.1,
             "#c51b7d"
            ],
            [
             0.2,
             "#de77ae"
            ],
            [
             0.3,
             "#f1b6da"
            ],
            [
             0.4,
             "#fde0ef"
            ],
            [
             0.5,
             "#f7f7f7"
            ],
            [
             0.6,
             "#e6f5d0"
            ],
            [
             0.7,
             "#b8e186"
            ],
            [
             0.8,
             "#7fbc41"
            ],
            [
             0.9,
             "#4d9221"
            ],
            [
             1,
             "#276419"
            ]
           ],
           "sequential": [
            [
             0,
             "#0d0887"
            ],
            [
             0.1111111111111111,
             "#46039f"
            ],
            [
             0.2222222222222222,
             "#7201a8"
            ],
            [
             0.3333333333333333,
             "#9c179e"
            ],
            [
             0.4444444444444444,
             "#bd3786"
            ],
            [
             0.5555555555555556,
             "#d8576b"
            ],
            [
             0.6666666666666666,
             "#ed7953"
            ],
            [
             0.7777777777777778,
             "#fb9f3a"
            ],
            [
             0.8888888888888888,
             "#fdca26"
            ],
            [
             1,
             "#f0f921"
            ]
           ],
           "sequentialminus": [
            [
             0,
             "#0d0887"
            ],
            [
             0.1111111111111111,
             "#46039f"
            ],
            [
             0.2222222222222222,
             "#7201a8"
            ],
            [
             0.3333333333333333,
             "#9c179e"
            ],
            [
             0.4444444444444444,
             "#bd3786"
            ],
            [
             0.5555555555555556,
             "#d8576b"
            ],
            [
             0.6666666666666666,
             "#ed7953"
            ],
            [
             0.7777777777777778,
             "#fb9f3a"
            ],
            [
             0.8888888888888888,
             "#fdca26"
            ],
            [
             1,
             "#f0f921"
            ]
           ]
          },
          "colorway": [
           "#636efa",
           "#EF553B",
           "#00cc96",
           "#ab63fa",
           "#FFA15A",
           "#19d3f3",
           "#FF6692",
           "#B6E880",
           "#FF97FF",
           "#FECB52"
          ],
          "font": {
           "color": "#2a3f5f"
          },
          "geo": {
           "bgcolor": "white",
           "lakecolor": "white",
           "landcolor": "#E5ECF6",
           "showlakes": true,
           "showland": true,
           "subunitcolor": "white"
          },
          "hoverlabel": {
           "align": "left"
          },
          "hovermode": "closest",
          "mapbox": {
           "style": "light"
          },
          "paper_bgcolor": "white",
          "plot_bgcolor": "#E5ECF6",
          "polar": {
           "angularaxis": {
            "gridcolor": "white",
            "linecolor": "white",
            "ticks": ""
           },
           "bgcolor": "#E5ECF6",
           "radialaxis": {
            "gridcolor": "white",
            "linecolor": "white",
            "ticks": ""
           }
          },
          "scene": {
           "xaxis": {
            "backgroundcolor": "#E5ECF6",
            "gridcolor": "white",
            "gridwidth": 2,
            "linecolor": "white",
            "showbackground": true,
            "ticks": "",
            "zerolinecolor": "white"
           },
           "yaxis": {
            "backgroundcolor": "#E5ECF6",
            "gridcolor": "white",
            "gridwidth": 2,
            "linecolor": "white",
            "showbackground": true,
            "ticks": "",
            "zerolinecolor": "white"
           },
           "zaxis": {
            "backgroundcolor": "#E5ECF6",
            "gridcolor": "white",
            "gridwidth": 2,
            "linecolor": "white",
            "showbackground": true,
            "ticks": "",
            "zerolinecolor": "white"
           }
          },
          "shapedefaults": {
           "line": {
            "color": "#2a3f5f"
           }
          },
          "ternary": {
           "aaxis": {
            "gridcolor": "white",
            "linecolor": "white",
            "ticks": ""
           },
           "baxis": {
            "gridcolor": "white",
            "linecolor": "white",
            "ticks": ""
           },
           "bgcolor": "#E5ECF6",
           "caxis": {
            "gridcolor": "white",
            "linecolor": "white",
            "ticks": ""
           }
          },
          "title": {
           "x": 0.05
          },
          "xaxis": {
           "automargin": true,
           "gridcolor": "white",
           "linecolor": "white",
           "ticks": "",
           "title": {
            "standoff": 15
           },
           "zerolinecolor": "white",
           "zerolinewidth": 2
          },
          "yaxis": {
           "automargin": true,
           "gridcolor": "white",
           "linecolor": "white",
           "ticks": "",
           "title": {
            "standoff": 15
           },
           "zerolinecolor": "white",
           "zerolinewidth": 2
          }
         }
        },
        "title": {
         "text": "3d TSNE Plot for Topic Model"
        },
        "width": 900
       }
      },
      "text/html": [
       "<div>                            <div id=\"bc9dac3c-e685-4994-98b6-13a084b7b793\" class=\"plotly-graph-div\" style=\"height:800px; width:900px;\"></div>            <script type=\"text/javascript\">                require([\"plotly\"], function(Plotly) {                    window.PLOTLYENV=window.PLOTLYENV || {};                                    if (document.getElementById(\"bc9dac3c-e685-4994-98b6-13a084b7b793\")) {                    Plotly.newPlot(                        \"bc9dac3c-e685-4994-98b6-13a084b7b793\",                        [{\"hovertemplate\": \"Dominant_Topic=Topic 0<br>0=%{x}<br>1=%{y}<br>2=%{z}<extra></extra>\", \"legendgroup\": \"Topic 0\", \"marker\": {\"color\": \"#636efa\", \"opacity\": 0.7, \"symbol\": \"circle\"}, \"mode\": \"markers\", \"name\": \"Topic 0\", \"scene\": \"scene\", \"showlegend\": true, \"type\": \"scatter3d\", \"x\": [-4.214396953582764, -5.433199405670166, -6.970212459564209, 9.126164436340332, 5.468621253967285, -5.956943988800049, -5.715420246124268, -0.5950208902359009, -7.913727760314941, 4.540279388427734, 8.315855026245117, -5.677496433258057, 7.28655481338501, -3.29862904548645, 6.389331340789795, -5.1207194328308105, -5.879772663116455, 1.5620726346969604, -9.679706573486328, -1.979317545890808, 8.498342514038086, 7.18327522277832, 1.4116698503494263, -3.5846972465515137, -7.81968879699707, -6.500141143798828, -3.5751309394836426, 7.8034138679504395, -5.773021697998047, 6.532659530639648, 6.167225360870361, -3.516150712966919, -1.7598685026168823, -9.281401634216309, -2.7822985649108887, -1.812570333480835, 0.7764884233474731, 3.751986026763916, 6.630225658416748, -1.0270293951034546, 0.33585938811302185, 6.054259300231934, -5.90296745300293, -11.07822036743164, 6.081242084503174, 4.081524848937988, 1.8699069023132324, -0.704988956451416, 0.3968293368816376, 5.070089817047119, 4.4043169021606445, -3.98006534576416, 1.0111708641052246, -4.1465864181518555, -0.27273550629615784, -6.119807243347168, 6.069854736328125, -3.7388439178466797, 6.209822177886963, -2.260040521621704, 1.6408716440200806, 9.600168228149414, -3.387683153152466, 3.657094955444336, -1.1216367483139038, 4.528226852416992, -0.35669124126434326, -4.020239353179932, -2.2405993938446045, 6.880896091461182, -3.076007843017578, 6.873871803283691, -6.707086086273193, -5.89164400100708, -3.2014076709747314, 2.6154685020446777, 6.653225421905518, 1.050949215888977, 8.125659942626953, -7.03444242477417, -0.7424864172935486, -1.1788386106491089, 7.116778373718262, 2.3956964015960693, 6.547155857086182, -3.082512855529785, -1.664491057395935, 7.510709762573242, 6.776331901550293, -5.161648750305176, 6.037790775299072, 4.930448055267334, -2.197971820831299, -3.8591244220733643, -0.9256766438484192, -6.918129920959473, -3.1902778148651123, -2.590398073196411, -2.9798572063446045, 1.7535523176193237, 6.6439433097839355, 6.840682029724121, 1.4485673904418945, 3.615546703338623, -2.480834484100342, 0.2743494510650635, -4.038045406341553, 0.6288131475448608, -1.646569848060608, 1.3384425640106201, 5.369279384613037, -6.974444389343262, -2.7656562328338623, 6.036656856536865, -1.9034547805786133, -2.8778059482574463, -2.5855612754821777, -3.719184637069702, 0.0021203202195465565, -8.58171558380127, -9.482964515686035, 5.557506561279297, -3.650114059448242, 4.929891586303711, -4.378292083740234, -1.1442830562591553, 0.6844907402992249, -3.4486441612243652, -8.536528587341309, -3.8893094062805176, -6.619629859924316, -7.352356910705566, -0.8274559378623962, 6.253978252410889, 2.3231990337371826, -7.336984157562256, 7.940420150756836, -0.051389288157224655, 4.9941911697387695, -0.9874434471130371, -2.9373393058776855, -0.9108583331108093, 7.6700758934021, 3.155153751373291, -7.695005416870117, -0.9360306262969971, -3.8893821239471436, -2.1097817420959473, -8.164326667785645, -1.1583677530288696, 2.218379020690918, -0.7130467295646667, -9.268702507019043, 6.597720623016357, 5.301614761352539, -7.152069091796875, 4.597038269042969, 7.861326694488525, -2.721738576889038, -1.4965896606445312, 4.662075519561768, -1.6056793928146362, 7.295396327972412, -2.6120829582214355, 1.2818537950515747, 6.274508476257324, 9.42113208770752, -2.2029693126678467, 5.7189860343933105, 7.466702461242676, -3.7655696868896484, -2.958516836166382, -2.3253378868103027, -8.20492172241211, -7.790313720703125, -0.5869986414909363, -8.125646591186523, -0.7666874527931213, -0.3004738986492157, 9.075387954711914, -1.8245819807052612, -3.557711601257324, -7.896726131439209, -5.925853729248047, -2.1894588470458984, -5.4341721534729, -7.724783897399902, 2.1793227195739746, 5.054486274719238, 6.366943359375, 6.5929670333862305, -3.892211437225342, -6.9511284828186035, 7.0310378074646, -4.076253890991211, 5.327174663543701, -6.373318195343018, -0.16484662890434265, -2.0506019592285156, -2.3214478492736816, -6.722063064575195, -6.222626686096191, 1.5834112167358398, 1.8854862451553345, 4.050558090209961, -5.010351657867432, -5.262243747711182, -6.432069778442383, 7.519389629364014, 5.604938507080078, -0.2652730941772461, -9.634805679321289, -8.227097511291504, -3.960986614227295, -2.9155020713806152, -1.656014084815979, -1.6715418100357056, -4.178059101104736, -1.6521626710891724, -3.9267780780792236, 5.593419075012207, -8.251077651977539, -5.405675888061523, -10.088798522949219, 8.856346130371094, 7.389181613922119, 7.280978679656982, 1.9848475456237793, 7.402895450592041, 2.5263123512268066, 5.017411231994629, -0.5579783916473389, -6.790623664855957, -7.93820858001709, -6.825922012329102, -2.524111270904541, -6.29466438293457, -8.633614540100098, -6.180456161499023, -8.544074058532715, 3.5960726737976074, 3.0109641551971436, -2.5858616828918457, 7.684908866882324, -5.8188982009887695, -9.603012084960938, 6.224721431732178, 5.64473295211792, -7.848066806793213, -5.093501567840576, -0.3476790189743042, 4.902462005615234, 4.3580522537231445, -9.926321983337402, -5.17179012298584, -7.5551323890686035, 9.580924034118652, 7.399506568908691, -6.970242500305176, 5.211427688598633, -7.30747127532959, 9.532095909118652, -3.4534542560577393, -1.7912050485610962, -1.6246416568756104, 3.2090342044830322, -6.666281223297119, -0.6247466206550598, 6.749707221984863, 3.6639959812164307, -1.429532766342163, 6.706186294555664, 7.114595890045166, -2.6982877254486084, 0.10882046818733215, -8.827744483947754, -2.7002482414245605, -0.5574918389320374, -9.7315673828125, -6.191487789154053, 4.135133743286133, 6.2571635246276855, 6.6372246742248535, -4.29315710067749, -2.3157119750976562, 5.389434337615967, 0.858395516872406, 7.268162727355957, 3.586251974105835, 0.861019492149353, 7.643685340881348, 4.0603928565979, 5.98326301574707, -6.649068355560303, 4.866959571838379, -7.470489501953125, -4.558717727661133, -0.36748889088630676, 5.183510780334473, -5.092409610748291, 6.891077995300293, 6.672957420349121, 0.006575228180736303, 1.8277335166931152, -2.8635504245758057, 3.849900722503662, 4.073097229003906, 0.24040037393569946, 7.005531311035156, 4.001761436462402, -5.170226097106934, -4.570882797241211, 7.904850006103516, 7.865271091461182, -0.06889747083187103, 9.726435661315918, -0.5060719847679138, -6.617029666900635, 0.28658327460289, -8.382473945617676, 7.3461594581604, -4.005640506744385, -0.4485470950603485, 2.4983325004577637, -6.750391960144043, -4.649855613708496, -6.689737796783447, 5.244349479675293, 0.2799462378025055, 7.923493385314941, 4.4463677406311035, 5.767059803009033, -1.1034077405929565, -2.6176319122314453, -0.634776771068573, 8.628707885742188, 5.5584821701049805, 4.755420684814453, -4.682657241821289, 0.9491083025932312, 2.470959186553955, -4.649231433868408, 5.994474411010742, 7.656020641326904, 5.131120204925537, 9.129623413085938, -6.144674301147461, 5.649056434631348, -4.140019416809082, -0.9286447763442993, -8.181204795837402, 7.207617282867432, 6.005981922149658, -10.027532577514648, -0.835228443145752, 8.451277732849121, 4.496824741363525, 7.533603668212891, -1.319694995880127, 0.5626558661460876, 7.090957164764404, 9.253737449645996, 2.4071459770202637, -7.4501800537109375, -5.238447666168213, 7.220371723175049, -10.678668022155762, -6.568857669830322, 9.643996238708496, 0.24327118694782257, -2.8274073600769043, -5.8125810623168945, 3.5259203910827637, 5.013484954833984, -9.456110954284668, -3.0274715423583984, -10.476344108581543, 2.907137393951416, 6.53964900970459, 4.615198135375977, 0.6967295408248901, -3.0012998580932617, 6.010871410369873, 7.431698322296143, -7.000308513641357, -2.609668731689453, 4.717647552490234, 2.1080567836761475, 6.645310401916504, 4.956967353820801, -8.326850891113281, 5.578494071960449, 5.307027339935303, -4.0269880294799805, -3.640126943588257, 9.080056190490723, -3.126122236251831, 7.282995700836182, 7.917426586151123, 7.520089626312256, 0.4144308269023895, 6.6294403076171875, -7.723363399505615, 2.8263509273529053, 8.010427474975586, 3.552328109741211, 0.09091734141111374, 6.206044673919678, -2.00807785987854, 7.720713138580322, -5.8865532875061035, 3.773869514465332, 6.150806903839111, 1.8636384010314941, 4.321950912475586, -9.664191246032715, 3.9266457557678223, 1.463202953338623, -3.0245859622955322, -1.865015983581543, 1.3161289691925049, -6.730588436126709, 6.781087875366211, -5.42705774307251, 7.500244617462158, -0.8098468780517578, 6.16201114654541, -6.078124523162842, -2.866501569747925, -4.378455638885498, -1.9302634000778198, 5.411430835723877, 4.024632930755615, 5.386083602905273, -4.402368068695068, 4.799992561340332, -5.558104515075684, -4.492969989776611, 6.655637741088867, -4.199669361114502, 7.611210346221924, 6.266058921813965, -2.5348198413848877, 5.031194686889648, 6.267254829406738, -4.1817474365234375, -2.8312315940856934, -9.015810012817383, 1.9640803337097168, 3.5240089893341064, -2.1301491260528564, 7.150725841522217, -4.180088996887207, -7.0285515785217285, 1.3412054777145386, 0.13408315181732178, -7.594146728515625, -2.2337894439697266, -3.619154691696167, 0.712141215801239, -0.4786575436592102, -5.102348804473877, -0.6616156697273254, -2.2032644748687744, 6.582908630371094, -5.144366264343262, -7.113905906677246, -2.495957851409912, -5.58059549331665, -4.321929454803467, -1.621743083000183, -3.230039596557617, -4.151845932006836, 7.343508720397949, 2.692228317260742, 5.786399841308594, 3.571845293045044, 2.1720335483551025, -1.415196418762207, -3.7016401290893555, -1.0856465101242065, 4.69993782043457, 3.853555202484131, 3.1283109188079834, 8.465803146362305, 4.762874126434326, 3.6482155323028564, -5.50168514251709, -1.555340051651001, 0.14304913580417633, -9.733257293701172, 0.16846530139446259, 0.4445420503616333, -2.0205891132354736, -2.127661943435669, -2.889293670654297, 9.169236183166504, -2.5090854167938232, -1.5118166208267212, 1.5349881649017334, 2.9337401390075684, 4.219738483428955, 7.15712308883667, 5.245519161224365, 8.07575511932373, 4.163680553436279, 6.289165019989014, -2.5153119564056396, 1.355733036994934, -4.797563552856445, -3.2985939979553223, -4.168188571929932, 6.087144374847412, 2.9007768630981445, 2.8932995796203613, -5.813906192779541, 3.558642625808716, -2.360191822052002, 0.17947903275489807, 0.4390818476676941, -4.388845443725586, -0.3510410487651825, 6.003603935241699, -7.273179054260254, 3.6309478282928467, 2.9096591472625732, 2.382542848587036, -1.2652851343154907, -8.326850891113281, 5.358251094818115, 9.0606689453125, 0.311344712972641, 6.572764873504639, 6.440154075622559, 3.177797555923462, 0.808770477771759, -5.046982288360596, 1.1588175296783447, 4.745945453643799, 1.134850263595581, -0.7456474900245667, 1.6934645175933838, -7.808923721313477, -6.5311689376831055, 6.276357173919678, 7.318150997161865, 3.7061686515808105, -3.1651034355163574, 0.3597944676876068, -2.878052234649658, -0.015369336120784283, -6.539966106414795, 7.116755962371826, 1.613277792930603, -2.9577927589416504, 0.5611305832862854, 0.37314674258232117, -0.4249650239944458, 8.370226860046387, -1.0338622331619263, 5.890687465667725, -2.7406861782073975, 3.312437057495117, 1.4657478332519531, -3.1338605880737305, -2.508535861968994, 5.367921352386475, 0.8478741645812988, 0.8899741172790527, 7.8185882568359375, -4.3716511726379395, -7.827921390533447, -7.677106857299805, 4.497251510620117, -5.152111530303955, 8.259930610656738, 0.1827434003353119, -2.3497142791748047, -5.493507385253906, -7.8872389793396, 4.188083648681641, -6.881216526031494, -10.828252792358398, -3.665550947189331, 6.61787223815918, 4.74607515335083, 0.5766105055809021, -6.829959869384766, 7.562335014343262, -2.94842267036438, -5.085810661315918, -2.281940460205078, 6.124972343444824, 9.585772514343262, -6.354758262634277, -1.910106897354126, -0.7008653283119202, -4.70546293258667, 8.413111686706543, -6.27810001373291, 1.0019068717956543, 0.4408441185951233, -3.5271456241607666, -0.8255178928375244, 0.7342081665992737, -0.6054216623306274, -10.062984466552734, -8.42047119140625, -9.813949584960938, 1.8823858499526978, -3.3105993270874023, 6.111307144165039, 3.5806217193603516, 0.8178451061248779, 6.89058256149292, -9.812517166137695, 9.14617919921875, 9.578873634338379, -5.521210670471191, -3.8052704334259033, 4.4704813957214355, -2.9508726596832275, -6.779609680175781, 0.99224853515625, 5.463629722595215, 5.262568950653076, -3.552476644515991, -2.8189897537231445, 9.517952919006348, 4.893669128417969, -3.507265329360962, 0.2828018069267273, 7.278319358825684, 5.520604133605957, 1.8309773206710815, 0.6538254618644714, 4.8710503578186035, 5.1873650550842285, 0.32051944732666016, -1.6511214971542358, -1.772060513496399, 6.620588779449463, -0.6668359637260437, -4.311379909515381, 6.253540515899658, -7.163405418395996, 0.005814984906464815, 5.480175495147705, -2.5729002952575684, -2.8008906841278076, -4.314603805541992, -2.3186655044555664, -1.4275765419006348, 0.6485734581947327, 6.262024402618408, 2.130206823348999, 1.4606233835220337, 5.800592422485352, 6.627278804779053, -8.874300003051758, -5.089402198791504, -4.908325672149658, 5.849689960479736, 5.002184867858887, 6.93426513671875, 0.7049884796142578, -6.64396858215332, 2.715428590774536, -0.40660974383354187, 3.208411931991577, -4.432254791259766, -4.342761039733887, -1.3982431888580322, -1.7535674571990967, 7.090987205505371, -7.4762701988220215, -4.387265682220459, -1.1031516790390015, 0.5607927441596985, -1.9119795560836792, 6.934067249298096, -1.249626874923706, -0.6390057802200317, -0.6201237440109253, -3.3329763412475586, -1.0905444622039795, 6.5134453773498535, 7.063652038574219, -2.9557642936706543, 6.433212757110596, 4.697500228881836, -5.155986785888672, -5.033492565155029, -7.303337574005127, 5.35554838180542, 4.6025238037109375, 6.05892276763916, 3.9856014251708984, -6.279125690460205, -0.45553410053253174, -7.249070644378662, 8.445069313049316, 5.365522861480713, 2.2305104732513428, -7.61769962310791, 4.2467474937438965, 0.08183888345956802, 3.56184720993042, -5.795905590057373, 0.14387920498847961, 1.488186001777649, 7.3055620193481445, 6.60963249206543, 5.110869407653809, 4.031010627746582, 0.6517914533615112, -3.472203493118286, -7.453505992889404, 0.2087296098470688, 7.8869757652282715, -3.8916964530944824, 3.4366726875305176, -3.518388032913208, 3.296365737915039, 3.5022847652435303, 0.6156834959983826, -0.4687436819076538, -6.3403449058532715, -2.346778631210327, -4.416321754455566, -2.2139716148376465, -6.419186115264893, 4.563363552093506, 4.249622344970703, -5.167324542999268, -4.322854518890381, -3.2310950756073, -5.552312850952148, 1.2847241163253784, -6.639167308807373, 7.29353666305542, 0.12141337990760803, 4.407400131225586, 8.18030834197998, -1.85465669631958, -9.534822463989258, 3.543937921524048, 2.644716739654541, 7.343076229095459, -10.876572608947754, -6.838444232940674, -1.786643385887146, 8.16565227508545, 4.527865409851074, -0.22497476637363434, -6.92643928527832, 5.073681831359863, 3.912264108657837, 6.683389186859131, -1.3179686069488525, -0.6989877223968506, -2.6865029335021973, -8.462971687316895, -2.605276584625244, -0.7059630155563354, -0.1937270164489746, -5.532651424407959, -0.19535979628562927, 6.4237871170043945, -3.0353472232818604, 8.28162956237793, -2.0397543907165527, 7.91139554977417, 9.039050102233887, 5.631820201873779, -3.4265658855438232, 0.5137985348701477, -3.430098533630371, 5.75778865814209, -1.5574986934661865, -0.02662927284836769, 8.913345336914062, -6.1487321853637695, -3.3520829677581787, -4.808135509490967, -7.079071044921875, -1.7058866024017334, 7.567903518676758, -1.9460792541503906, -5.208785057067871, -0.7347328066825867, -10.360050201416016, -3.75703501701355, -7.457208633422852, -3.526883840560913, -2.429307699203491, -8.0370512008667, -4.542806625366211, -3.4996955394744873, -1.5571519136428833, -8.947646141052246, -2.603148937225342, 0.09045290946960449, -9.686352729797363, -0.8027758002281189, -5.967329025268555, 0.3195127248764038, -0.7000181078910828, -2.477375030517578, 7.724842071533203, 4.1235761642456055, -9.416521072387695, -8.346802711486816, -5.611360549926758, -3.3992443084716797, -4.519606113433838, 0.6753106117248535, 6.807465076446533, 5.213462829589844, 2.765458583831787, -6.9045844078063965, -5.1556172370910645, 4.252141952514648, 9.595426559448242, 1.632149577140808, -0.9994878768920898, 6.014498710632324, 4.695687294006348, -5.84541130065918, 5.764312267303467, -5.694554805755615, 8.055624961853027, 3.3932385444641113, -3.714533567428589, 1.8277336359024048, 4.545266628265381, 3.5783467292785645, -7.884085178375244, -1.384596824645996, -5.088906288146973, 9.60687255859375, -2.942250967025757, -5.593996524810791, -2.6302478313446045, 7.106895446777344, 0.3706394135951996, 6.741106986999512, 3.3363568782806396, 0.4239560663700104, -1.0387089252471924, 0.9231775999069214, -8.523102760314941, -9.757516860961914, 4.6181511878967285, 5.040307521820068, -0.24265186488628387, -5.141946792602539, -2.379507541656494, -5.317596435546875, -3.4089083671569824, -8.22840404510498, 7.678430557250977, 0.0806422010064125, 1.5208985805511475, -1.0394203662872314, 3.940981149673462, -8.257711410522461, 3.4424195289611816, -5.743356227874756, -2.9785919189453125, -8.3449125289917, 2.719393491744995, -1.5826184749603271, 4.313601016998291, 0.3697110116481781, -2.074319362640381, 5.166776657104492, -5.996689796447754, 0.2979234457015991, 0.6014164090156555, 6.446966648101807, 8.43723201751709, -9.291287422180176, -3.4761812686920166, 0.4557254910469055, -9.94662857055664, 8.155852317810059, -2.045487880706787, 7.163511753082275, 1.8369481563568115, 7.279242515563965, 7.360198020935059, -3.488433361053467, 7.050270080566406, -2.2284021377563477, 0.45274192094802856, -6.371973037719727, -6.934454917907715, -6.641313552856445, -5.81803035736084, 7.558623790740967, 9.010616302490234, 4.507200717926025, 7.374565124511719, -3.829820394515991, 1.4650907516479492, -3.806029796600342, -0.4353393316268921, 1.057786464691162, -4.987545013427734, 3.324657678604126, 1.6557751893997192, 6.134434223175049, -1.7510954141616821, -5.142811298370361, 9.13120174407959, 1.6737060546875, -9.427022933959961, 8.626161575317383, -4.898110866546631, -11.216033935546875, -1.6456882953643799, 2.305011510848999, -9.317079544067383, -3.573277711868286, 0.5659586787223816, -5.272491931915283, -2.201000928878784, 3.123990297317505, 7.832376956939697, -0.9108524918556213, 1.1780399084091187, -2.8237366676330566, 1.7096666097640991, 5.561577320098877, -8.768654823303223, 8.531989097595215, -4.247110843658447, 0.9394123554229736, -2.3924014568328857, -8.531706809997559, 2.0445563793182373, -4.222667694091797, -6.9336066246032715, 7.987891674041748, 0.9053636193275452, 9.015289306640625, -5.467278957366943, -2.066786050796509, -5.1384596824646, -6.433955192565918, 7.630130290985107, 9.508451461791992, 6.675258636474609, 2.0853376388549805, -5.828732967376709, -4.439706325531006, -4.7428107261657715, 6.252501010894775, 6.2237467765808105, 1.031008243560791, -5.870864391326904, 6.621523380279541, -7.9316534996032715], \"y\": [1.152419090270996, -4.353965759277344, -9.389320373535156, 17.859657287597656, 5.560696601867676, -6.659781455993652, -1.7247401475906372, -0.8400747179985046, -1.6621979475021362, 6.396534442901611, 17.689067840576172, -4.262146949768066, 5.81365966796875, 0.8358288407325745, 12.320033073425293, -8.531261444091797, -3.1797702312469482, -1.2008042335510254, -8.333767890930176, -4.382834434509277, 14.043045043945312, 5.9994072914123535, 2.761148452758789, -1.1596816778182983, -7.257138252258301, -9.520341873168945, -6.943175315856934, 10.940505981445312, -9.417227745056152, 9.44157886505127, 11.942170143127441, 1.4841190576553345, -1.0590999126434326, -4.508666515350342, -10.43403148651123, -9.908426284790039, -1.719071388244629, -0.31502723693847656, 15.117632865905762, -10.499448776245117, 1.0566296577453613, 12.001481056213379, -4.902214050292969, -5.994317054748535, 2.739375114440918, 6.727637767791748, 4.371719837188721, -0.3664531409740448, -1.9661048650741577, 6.314636707305908, 6.507458686828613, -4.096779823303223, 2.0471251010894775, -4.000053882598877, -1.2228449583053589, -7.4101409912109375, 2.532114267349243, 0.6155834794044495, 7.81894588470459, 0.8499168753623962, 3.595236301422119, 15.533615112304688, -0.5176225900650024, 1.3777203559875488, 2.001091957092285, 5.744913101196289, 1.0104358196258545, 1.3878799676895142, -0.790267288684845, 7.340803146362305, -5.587389945983887, 3.4338200092315674, -9.742785453796387, -7.418137073516846, -1.8485045433044434, -3.131416082382202, 0.00031154899625107646, -0.7112910151481628, 14.675395965576172, -2.5866634845733643, 2.6264939308166504, 3.405524969100952, 6.007366180419922, 3.5919201374053955, 3.138415575027466, -6.274378776550293, 1.6058588027954102, 0.9004438519477844, 0.06361254304647446, -1.1706535816192627, 2.940023899078369, 10.393792152404785, -4.737794876098633, -7.907625675201416, -5.9379963874816895, -8.551637649536133, -4.60154390335083, -6.221493244171143, 1.0729974508285522, 6.287594795227051, 0.27576178312301636, 12.16013240814209, 4.315104961395264, 0.515166699886322, -2.4212098121643066, -1.1457891464233398, -6.272811412811279, -1.4348373413085938, -2.0878655910491943, 7.723496437072754, 9.847457885742188, -8.374921798706055, -11.588517189025879, 11.876941680908203, 3.2086782455444336, -10.717842102050781, -6.290343284606934, -0.5062900185585022, -5.012063503265381, -5.399905681610107, -4.789862155914307, 6.798099994659424, -10.844122886657715, 6.245045185089111, -0.7095566987991333, -0.6902544498443604, -1.6655995845794678, -5.5906081199646, -5.525628566741943, -0.38605251908302307, -1.314424753189087, -2.411071538925171, -6.538485050201416, 9.409483909606934, -0.5073628425598145, -1.9894533157348633, 11.069097518920898, -6.618963718414307, 9.971776962280273, -0.1006089374423027, 1.0153226852416992, -10.541833877563477, 13.064692497253418, 0.3256261646747589, -4.414620876312256, -6.06764030456543, -0.4434727728366852, -6.828182220458984, -3.753878355026245, -8.813146591186523, 3.808286428451538, -9.792915344238281, -4.545581817626953, 5.112236976623535, 5.994064807891846, -0.5794059038162231, 4.926209449768066, 15.248695373535156, -2.552867889404297, -2.0794544219970703, 4.365872383117676, -2.913602352142334, 12.564900398254395, -11.22523307800293, -0.4867005944252014, 5.048341274261475, 18.260128021240234, -10.459513664245605, 3.3713321685791016, 7.938521862030029, -9.324012756347656, -11.680643081665039, -1.6900992393493652, -8.874330520629883, -3.7020957469940186, -10.665122985839844, -3.5887279510498047, -6.852882385253906, -5.633592128753662, 7.587672710418701, -5.724092960357666, -0.12859100103378296, -5.129643440246582, -2.6404974460601807, 2.4620025157928467, -4.703444004058838, -10.24869441986084, 3.644688844680786, 8.316381454467773, 5.483030796051025, 9.117798805236816, -0.8257567882537842, -5.840126037597656, 9.871432304382324, -4.652654647827148, 3.663799524307251, -0.20266924798488617, -1.3517192602157593, -0.33412519097328186, -0.7423275709152222, -3.9080522060394287, -2.5366969108581543, 6.12992525100708, 4.0403666496276855, 7.244214057922363, -8.713774681091309, -9.814323425292969, -2.025519371032715, 12.450407028198242, 0.7224303483963013, -4.004650592803955, -7.956787586212158, -8.858787536621094, 0.45795974135398865, -2.8056752681732178, -1.6760215759277344, -0.0963006541132927, -2.5405330657958984, -2.1342384815216064, -0.2961426377296448, 10.181178092956543, -6.377473831176758, -0.10233376920223236, -8.44807243347168, 16.960325241088867, 12.925973892211914, 6.502669811248779, -0.6926968097686768, 15.491364479064941, -3.0487241744995117, 11.296712875366211, -5.3330206871032715, -8.30910873413086, -4.778882026672363, -1.8432106971740723, -10.447365760803223, -6.572094440460205, -7.999116897583008, -2.952176809310913, -4.782277584075928, 6.3349223136901855, 3.837937355041504, -0.7728060483932495, 13.27177619934082, -7.11262321472168, -5.370805263519287, 5.633875846862793, 0.4593905508518219, -7.852931499481201, -9.784308433532715, -2.3587253093719482, 8.736469268798828, 8.513795852661133, -5.1645331382751465, -2.865692138671875, -7.349542617797852, 18.513511657714844, 0.010224848985671997, -9.389177322387695, 5.489754676818848, -3.517329454421997, 17.050189971923828, -2.0688083171844482, -4.910794258117676, -2.297498941421509, -2.0817718505859375, -3.1975221633911133, 0.19671189785003662, 13.380059242248535, 0.5978296399116516, -6.769286632537842, 16.14128303527832, 1.5033613443374634, -7.589418411254883, -0.89194256067276, -5.681222915649414, -0.7339277267456055, -5.8004374504089355, -5.987746238708496, -0.3264937102794647, 10.920686721801758, 3.7896320819854736, 15.72734546661377, -0.35731393098831177, -1.2157835960388184, 4.252077579498291, 7.823380947113037, 16.062095642089844, 6.348225116729736, 5.53458833694458, 7.068211078643799, 7.528128623962402, 2.997178316116333, -1.2120157480239868, 4.227148532867432, -7.824853420257568, -0.6732495427131653, -8.221382141113281, 8.501357078552246, -2.540308952331543, 14.735549926757812, 2.960165500640869, -1.461920976638794, 3.4203829765319824, -6.384335994720459, 3.3110876083374023, 7.563189506530762, -5.153875350952148, 7.032143592834473, 6.501955986022949, -0.10989020764827728, -0.17802229523658752, 1.0748863220214844, 14.508988380432129, 0.1337268054485321, 16.467164993286133, -0.6356354355812073, -1.2649447917938232, -3.1910109519958496, -5.1620659828186035, -0.17878000438213348, -0.41026952862739563, 0.8452132344245911, -0.45341217517852783, -0.48915380239486694, -7.484665393829346, -2.315382957458496, 11.815068244934082, -5.141850471496582, 14.588637351989746, 3.4307756423950195, 5.800517559051514, 3.043480396270752, 2.5996627807617188, 1.3881878852844238, 16.207189559936523, 7.115159034729004, 5.740472316741943, -7.032171726226807, -6.196200370788574, -3.398294687271118, -1.0023581981658936, 11.13369369506836, 7.352077960968018, 7.93043851852417, 17.541685104370117, -1.6602541208267212, 11.516640663146973, 1.28415048122406, -5.725348949432373, -3.777212142944336, 12.959415435791016, 10.536983489990234, -8.466880798339844, 2.128272294998169, 17.21761131286621, 9.644439697265625, 5.879717826843262, -1.7166321277618408, 2.958090305328369, 12.365492820739746, 17.684234619140625, -0.8233640193939209, -9.578736305236816, -0.25296884775161743, 7.997210502624512, -8.043992042541504, -8.340067863464355, 17.724855422973633, 1.4987900257110596, -10.573246002197266, -3.4407103061676025, 1.8131799697875977, 5.938685894012451, -4.144441604614258, -3.1436209678649902, -8.027178764343262, -0.5939347147941589, 6.921640396118164, 6.715959072113037, -2.5228378772735596, -6.429891109466553, 0.17946186661720276, 15.25793170928955, -2.5006775856018066, -2.8567235469818115, 5.062750339508057, 2.6621246337890625, 2.339489221572876, 4.1249237060546875, -4.225250720977783, 5.177135467529297, 4.9438323974609375, -4.919365882873535, -7.015498161315918, 17.270830154418945, 0.22030140459537506, 10.1220064163208, 13.907036781311035, 6.967853546142578, -0.05398529767990112, 2.406921863555908, -3.9071319103240967, 3.0847039222717285, 11.979595184326172, 1.9406954050064087, -0.785054087638855, 3.564279556274414, -10.466989517211914, 14.061017036437988, -4.007573127746582, 1.8739994764328003, 1.5527164936065674, 1.5675101280212402, 7.866589069366455, -7.938063144683838, 9.906702995300293, 4.08265495300293, -11.206689834594727, 2.1444802284240723, 4.336398601531982, -1.8419991731643677, 12.647866249084473, -8.252143859863281, 6.015256881713867, -4.90317964553833, 12.533441543579102, -9.647269248962402, 2.614182233810425, -4.359820365905762, -3.329041004180908, 11.967646598815918, 4.531069755554199, 11.984275817871094, -2.355649948120117, 9.273432731628418, -4.581005096435547, -5.145517826080322, 12.512579917907715, -8.245539665222168, 5.000790119171143, 6.820199489593506, -2.5479323863983154, 1.4002394676208496, 4.74946928024292, 1.583251714706421, -6.314178943634033, -5.620999336242676, 3.6682209968566895, 3.6992106437683105, -3.9286623001098633, 6.946071624755859, -1.8670088052749634, -1.2565784454345703, 6.30374002456665, 1.3847508430480957, -3.7972822189331055, -11.039695739746094, -5.997679233551025, -3.3437001705169678, -5.317300319671631, -6.888021945953369, 0.5125305652618408, -1.9510443210601807, 2.9556491374969482, -3.8466765880584717, -2.3189620971679688, -5.51855993270874, -4.829224109649658, -0.6505363583564758, -7.85267448425293, -1.700689673423767, -7.902105331420898, 15.317906379699707, 0.6190249919891357, 11.741199493408203, -2.471283197402954, -1.611562728881836, -0.29275187849998474, 1.1580137014389038, -6.075066566467285, 9.024076461791992, 6.6928300857543945, 3.9520692825317383, 15.940225601196289, 9.615909576416016, 0.5907060503959656, -2.1477484703063965, -1.5046275854110718, -6.241298198699951, -3.771854877471924, -2.9464046955108643, -2.9699900150299072, -2.7369704246520996, -0.47828409075737, -6.147495269775391, 13.856630325317383, -11.683294296264648, -5.312557697296143, 4.029673099517822, -1.0449488162994385, 10.155354499816895, 12.494173049926758, 7.244426727294922, 16.809316635131836, -1.3677791357040405, 15.216285705566406, -1.733821988105774, 6.492128372192383, -5.408814907073975, -7.008723258972168, -7.884486675262451, 10.534149169921875, 0.6243668794631958, -2.8871212005615234, -4.304586887359619, -1.1519174575805664, -4.54407262802124, 2.8566031455993652, 6.520931243896484, -3.193772554397583, -8.587390899658203, 2.983438014984131, -7.188845634460449, 5.00682258605957, 6.430202960968018, -3.1003692150115967, -10.389681816101074, -4.225251197814941, 6.301629543304443, 7.642989158630371, -2.225595235824585, 2.451810836791992, 6.028842926025391, 0.28471583127975464, -2.1968133449554443, -8.15346622467041, -2.1555540561676025, 6.0376057624816895, 2.7589142322540283, -1.2872440814971924, 0.36395469307899475, -10.334626197814941, -4.30528450012207, 4.240381240844727, 8.460638046264648, 3.7501564025878906, -7.230987071990967, -5.461667537689209, -7.46638822555542, -5.250824451446533, -2.5444509983062744, 6.007363319396973, 4.644080638885498, -0.582574725151062, -5.7842183113098145, -1.5030449628829956, -5.6823530197143555, 16.881723403930664, -10.489425659179688, 1.0745372772216797, -1.1770896911621094, 1.0472612380981445, 4.783814907073975, 1.1713999509811401, -0.5251621603965759, 11.895604133605957, 4.106175422668457, -1.691859483718872, 10.993361473083496, -10.88378620147705, -5.928892135620117, -7.397939682006836, 9.6591157913208, -1.1410470008850098, 12.488482475280762, -6.376029968261719, -7.768139839172363, -9.917055130004883, -1.2215995788574219, 3.345547676086426, -1.461799144744873, -5.140382289886475, -9.2722806930542, 2.5338919162750244, 8.689935684204102, -2.6857004165649414, -0.901002049446106, 15.612585067749023, -10.397961616516113, -8.630105018615723, 1.5325217247009277, 10.797298431396484, 18.501537322998047, -0.17338168621063232, -0.3687233626842499, -5.460391521453857, -6.4074273109436035, 1.1898179054260254, -2.0645384788513184, 0.8846284747123718, 3.1290271282196045, 0.06517153978347778, -8.94873046875, -5.244962692260742, -6.645843982696533, -5.202080249786377, -3.2492542266845703, -3.8203134536743164, 2.430481433868408, -9.4423246383667, 4.218755722045898, -2.3098256587982178, -2.0252914428710938, 4.077980995178223, -4.967894077301025, 17.226892471313477, 18.51381492614746, -2.9288148880004883, -2.1921517848968506, 2.964599847793579, -10.591238021850586, -1.5812954902648926, -1.6323699951171875, 4.964366912841797, 11.610708236694336, -3.551088571548462, -2.468546152114868, 16.477590560913086, 6.971431255340576, -5.07301664352417, -7.093457221984863, -0.2493235468864441, 7.489405155181885, 6.293848991394043, -6.062559604644775, 2.7796947956085205, 3.644165515899658, -7.5994343757629395, -1.1242965459823608, -4.287197589874268, 0.2030308097600937, -8.56364631652832, -7.833724021911621, 0.9321997761726379, -9.965211868286133, -7.22574520111084, 5.644988059997559, -0.7943174839019775, 2.4606761932373047, -6.36407470703125, -0.021295133978128433, -5.893006324768066, -2.0774118900299072, 3.612696409225464, -1.6698395013809204, 4.0901970863342285, 10.917770385742188, 2.325925350189209, -2.311807632446289, -9.432336807250977, -2.336620569229126, 3.5562021732330322, 10.011876106262207, 7.400778293609619, -3.552233934402466, -1.149183750152588, 1.2213298082351685, -8.442995071411133, 5.803049087524414, -3.937197208404541, -3.5087950229644775, -10.406776428222656, 3.291005849838257, 5.70148229598999, -2.235593795776367, -5.7987565994262695, -7.539144515991211, -2.436335802078247, -4.909954071044922, 11.754730224609375, -6.039453029632568, 1.0632878541946411, -0.4773799180984497, -2.1888065338134766, -6.090799808502197, 3.8655381202697754, 11.691925048828125, -6.977931499481201, 0.25008222460746765, 6.165787220001221, -1.8851200342178345, -1.4775428771972656, -7.746652603149414, 11.617486000061035, 10.759345054626465, 3.1100211143493652, -2.3852334022521973, -7.102001190185547, 3.380202531814575, -7.4311747550964355, 15.399144172668457, 3.1578140258789062, 2.991983652114868, -4.9124603271484375, 2.5827105045318604, -1.476181983947754, 3.985158681869507, -2.2284557819366455, -6.211257457733154, 4.542494773864746, 6.746517658233643, 3.0071377754211426, 2.789382219314575, 4.13449764251709, -6.160495281219482, -6.91151762008667, -7.337889671325684, -7.473653793334961, 11.223223686218262, -3.8501625061035156, 2.2041149139404297, -7.900685787200928, 3.572129011154175, -3.0270910263061523, 1.3669747114181519, -1.5107057094573975, -6.758427619934082, -0.4512121081352234, -4.838600158691406, 2.605224132537842, -0.584899365901947, 3.043189764022827, 9.618840217590332, -2.4569289684295654, -1.238674283027649, -4.4652018547058105, -3.917255163192749, 6.369052410125732, -7.124464988708496, 12.58654499053955, -8.330877304077148, 7.251142501831055, 15.449064254760742, -9.586735725402832, -4.7830119132995605, -1.0891714096069336, -1.2629306316375732, 16.102245330810547, -5.273238658905029, -3.1179986000061035, -7.419925689697266, 14.866251945495605, 6.434621810913086, 3.6273696422576904, -1.6148244142532349, 3.6301825046539307, 0.2005590796470642, 1.214158296585083, -0.2019766867160797, -6.47783899307251, -1.2094526290893555, -8.179757118225098, -7.754208564758301, 2.9219179153442383, -6.293976306915283, -3.5617964267730713, -6.626312255859375, 0.7938932180404663, -1.2913466691970825, 15.546307563781738, -10.027738571166992, 11.008504867553711, 7.578938961029053, 8.573620796203613, -3.645144462585449, 6.674193382263184, -1.1960368156433105, 5.763030052185059, -2.0866198539733887, -6.037479877471924, 7.724521160125732, -1.4704910516738892, -4.862389087677002, -10.286017417907715, -2.919431447982788, -4.917655944824219, 13.08497142791748, 2.7372498512268066, -9.03113079071045, 3.4256041049957275, -8.199066162109375, -1.6496772766113281, -10.26370906829834, -4.769790172576904, -1.0814290046691895, -1.8233489990234375, 0.44837746024131775, -2.9086813926696777, 1.894266963005066, -2.3533098697662354, -0.5214827656745911, 0.7202746868133545, -2.97173810005188, 2.229696035385132, -3.881981611251831, 0.363662987947464, 0.7053340673446655, -5.123096942901611, 10.837900161743164, 0.12870153784751892, -4.136281967163086, -7.292984485626221, -7.649665355682373, -0.7585740685462952, -5.436579704284668, -2.240612268447876, 5.783057689666748, 10.903528213500977, 3.0305657386779785, -9.3974609375, -6.909729480743408, 2.1304752826690674, 18.509395599365234, -0.3744513988494873, -3.6928160190582275, 3.6989517211914062, 8.843781471252441, -5.122554779052734, 12.622955322265625, -2.6208226680755615, 14.571962356567383, -1.7327911853790283, -0.15995244681835175, 3.4203860759735107, 9.582537651062012, 7.4158034324646, -4.101153373718262, -1.958716630935669, -0.9438413977622986, 18.517162322998047, 0.7753976583480835, -7.2206244468688965, -10.316333770751953, 1.033445954322815, -1.211116075515747, 11.01027774810791, -1.9304571151733398, -3.0350072383880615, -1.414312481880188, -0.47392064332962036, -3.8378467559814453, -8.332666397094727, 2.7490322589874268, 2.2505862712860107, -3.5165414810180664, -1.5854538679122925, -0.2139229029417038, -5.192508220672607, -1.3920525312423706, -8.85798454284668, 15.59518814086914, 1.18453848361969, 4.112766742706299, -5.623234272003174, -2.620347499847412, -3.367825746536255, -1.1012288331985474, -7.250588893890381, -2.06949520111084, -3.97411847114563, -0.7356922030448914, 3.339663505554199, -1.5602154731750488, -7.4435133934021, -4.1236572265625, 4.236331462860107, -1.5449225902557373, -2.9867329597473145, -5.3843183517456055, 15.934542655944824, 16.706308364868164, -5.33188533782959, -6.650597095489502, 6.700265884399414, -8.422688484191895, 13.270858764648438, -2.6045680046081543, 12.878571510314941, 5.378398418426514, 15.291936874389648, 7.827383041381836, 1.3964015245437622, 1.285557508468628, -2.430752992630005, 6.672630786895752, -1.789432168006897, -8.991129875183105, -6.934009552001953, -4.714927673339844, 12.983898162841797, 16.395418167114258, 2.206467628479004, 7.142602443695068, -6.91688871383667, -5.57100772857666, -5.981296062469482, -6.203625679016113, -1.3082633018493652, -1.8423656225204468, 7.102461338043213, 6.449284553527832, 4.674140930175781, -0.39871323108673096, -6.5487823486328125, 17.156082153320312, 6.363094329833984, -8.126848220825195, 14.458483695983887, -3.2712061405181885, -6.234951972961426, -7.585022926330566, 1.3210554122924805, -5.744287014007568, -10.615930557250977, 1.017975091934204, -5.278324127197266, 2.612293243408203, -2.1200146675109863, 7.300548553466797, -6.949697017669678, -1.9661707878112793, -4.141279697418213, -4.15505313873291, 3.872464656829834, -5.61379337310791, 16.016748428344727, -4.799861907958984, -2.66611909866333, 1.5951976776123047, -3.737847089767456, 6.682130336761475, -3.4841701984405518, -2.5996315479278564, 14.667116165161133, -5.269486427307129, 17.39209747314453, -9.864168167114258, -4.779415607452393, -2.4708588123321533, -7.239687919616699, 8.70008373260498, 18.038990020751953, 6.9938483238220215, 2.8476436138153076, -8.872758865356445, -5.2438201904296875, -4.0899553298950195, 0.9342376589775085, 1.9485563039779663, 5.829994201660156, -6.829061508178711, 2.5348103046417236, -8.17626953125], \"z\": [2.5270378589630127, 4.258508205413818, 4.432133197784424, -4.470693588256836, 0.7729712724685669, -0.1166435107588768, 9.75897216796875, -3.7689461708068848, 11.125199317932129, -4.1213812828063965, -3.4437623023986816, 6.209765911102295, -3.1242964267730713, 6.792750835418701, -4.209902763366699, 1.0704535245895386, 2.576197385787964, -2.5977118015289307, 5.482800483703613, -1.5883060693740845, -3.948249101638794, -1.1373209953308105, 0.338523268699646, -3.8644912242889404, 6.75679874420166, 3.470202684402466, 3.5600922107696533, -3.4660143852233887, 3.1134073734283447, -5.183290958404541, -5.864287376403809, 6.388522148132324, -3.7429683208465576, 3.8746695518493652, 2.117527961730957, -0.6028868556022644, 3.2196168899536133, -5.003284931182861, -2.2632129192352295, -1.2518160343170166, 0.6266691088676453, -5.100620269775391, 6.220458984375, 7.84357213973999, -7.828771591186523, -2.3537087440490723, -1.7533966302871704, -1.2149604558944702, 1.0249770879745483, -2.049572706222534, -5.549878120422363, 6.499830722808838, 0.7571277022361755, -1.6415460109710693, -3.9434802532196045, -0.25966277718544006, -7.7494354248046875, 8.234940528869629, -4.1330108642578125, 6.897409439086914, -1.4422733783721924, -3.6793713569641113, -2.909771680831909, -4.139045715332031, 3.437882900238037, -1.801458477973938, 4.023286819458008, 2.302685022354126, 3.286952018737793, -2.8877007961273193, -0.24355633556842804, -1.3160812854766846, 3.9985251426696777, -0.4771271347999573, 4.5753173828125, -2.6318788528442383, -5.170106410980225, -1.3409936428070068, -4.798825263977051, 6.464082717895508, 3.023113489151001, 1.8720709085464478, -1.0791410207748413, -2.2018091678619385, -2.1518971920013428, -0.36726751923561096, 0.7647681832313538, -4.415440082550049, -2.1204915046691895, 9.100703239440918, -7.79923677444458, -4.312241077423096, 1.5570076704025269, 3.9908370971679688, 1.0600266456604004, 6.387841701507568, -1.9202741384506226, -2.463653802871704, 6.156779766082764, 0.14555123448371887, -5.490256309509277, -6.480302333831787, 0.7879167795181274, -4.404932975769043, 3.6993069648742676, 3.0856356620788574, 3.0347447395324707, -3.591209650039673, -5.822993278503418, 0.7396520376205444, -5.318648338317871, 1.1858388185501099, 0.5705577731132507, -5.067012310028076, 3.5050439834594727, 0.6812254190444946, 4.672619342803955, -2.8306643962860107, -1.3604871034622192, 4.478682518005371, 7.215015411376953, -6.053468227386475, 1.4044052362442017, -4.645923614501953, 1.730921745300293, 2.160824775695801, 3.2858872413635254, 2.521427631378174, 4.607884407043457, 1.415575385093689, 7.312178134918213, 10.700601577758789, -2.782238721847534, -1.8437696695327759, -2.478778839111328, 2.377987861633301, -3.301431179046631, 1.0646947622299194, -4.407111167907715, 4.594901084899902, 6.9155755043029785, -1.3625315427780151, -4.685256481170654, -3.8038899898529053, 1.7485907077789307, -0.08279326558113098, 6.7935872077941895, 2.3207855224609375, 4.1295013427734375, -1.274563193321228, 0.5140383839607239, -1.5811376571655273, 4.019556045532227, 0.37908849120140076, -5.771543025970459, 11.08241081237793, -1.1432310342788696, -5.222768783569336, 4.168348789215088, -5.966579914093018, -0.5092492699623108, 1.9546746015548706, -7.468667030334473, 0.4055389165878296, -0.6377593278884888, -8.429008483886719, -4.309096813201904, 0.4884500503540039, -2.564335346221924, -2.9440524578094482, 0.3313976526260376, 0.7626236081123352, 4.249953746795654, 2.868403911590576, 5.839718818664551, -1.7690913677215576, 3.174147605895996, -3.0805299282073975, 0.9363372921943665, -4.823755264282227, -3.4133336544036865, 6.854012966156006, 4.523269176483154, 9.559809684753418, 5.990438938140869, 4.270620822906494, 4.594013690948486, -2.8808233737945557, -6.188138961791992, -3.3041915893554688, -1.872162938117981, -2.6445672512054443, 4.606695652008057, -1.884034514427185, -0.7328453660011292, -2.6749818325042725, 10.633180618286133, -3.8051652908325195, -1.7637302875518799, -2.1603856086730957, 7.214892387390137, 2.7738125324249268, 0.26626503467559814, 0.15486687421798706, -3.4952876567840576, 1.0507038831710815, 1.8132505416870117, 10.350826263427734, -5.4637651443481445, -1.9267021417617798, 1.0949310064315796, 3.6136786937713623, 2.8436734676361084, 6.391753196716309, 4.871392250061035, -0.16559267044067383, 2.0008246898651123, 5.0687761306762695, -2.7103867530822754, 6.2235565185546875, -4.7140679359436035, 7.364421367645264, 9.436269760131836, 4.538237571716309, -3.534571409225464, -6.948853492736816, -1.6523329019546509, -1.4881123304367065, -3.254687786102295, -3.090552806854248, -4.164605140686035, 8.81653118133545, 5.084556579589844, 4.1452412605285645, 10.794471740722656, 1.6485202312469482, 0.20311881601810455, 5.775417327880859, 9.643930435180664, 8.739569664001465, -3.5264790058135986, -3.919665813446045, 3.4951555728912354, -4.7448201179504395, -2.5105555057525635, 7.01340913772583, -7.159539222717285, -1.8154046535491943, 6.225618362426758, 2.0821523666381836, -2.669337749481201, -3.844697952270508, -5.784839630126953, 6.518428802490234, 7.37343692779541, 6.8564043045043945, -4.389721870422363, -3.082458972930908, 4.432100772857666, -5.774190425872803, 5.937175750732422, -3.928781270980835, 4.745358467102051, 1.1593170166015625, -3.624467611312866, -4.561886310577393, 2.1977474689483643, 3.1358089447021484, -5.083028793334961, -4.4859299659729, 4.909633636474609, -2.2982451915740967, -3.022747278213501, 4.168651580810547, 3.319612741470337, 5.471999645233154, -4.817252159118652, -1.9317559003829956, 8.17387580871582, 10.468828201293945, -3.6546530723571777, -7.916538715362549, -2.3499953746795654, -3.2499921321868896, -4.098793029785156, -2.3367209434509277, 1.450091004371643, -2.6566522121429443, -3.7590794563293457, 1.2838166952133179, -3.7333083152770996, -2.4111998081207275, -8.529607772827148, 7.47024393081665, 0.2670353651046753, 6.713316440582275, 6.678197860717773, -2.8239169120788574, -6.57235860824585, 4.118568420410156, -2.2357075214385986, -1.6140285730361938, 1.8355419635772705, -3.4854109287261963, -1.3791025876998901, -4.070471286773682, -3.2274699211120605, 8.664741516113281, -4.080498695373535, -3.798064708709717, 8.76229190826416, 6.350406646728516, -4.177257537841797, -5.8528571128845215, 2.088364601135254, -3.9984734058380127, -3.7662274837493896, 10.746623039245605, -2.5281264781951904, 8.284811019897461, -2.781825304031372, 1.5916861295700073, 0.6666104793548584, -2.766927480697632, 10.882253646850586, 4.205299377441406, 2.6617069244384766, -3.978041410446167, 8.649019241333008, -5.09161376953125, -4.64597749710083, -0.8132069110870361, 2.7012271881103516, 6.558438777923584, 2.0610158443450928, -5.603989601135254, -4.358501434326172, -5.2208075523376465, 3.3593199253082275, -0.15426120162010193, -2.612298011779785, 8.823238372802734, -5.299443244934082, -2.325061082839966, -6.002384185791016, -4.513637542724609, 10.115424156188965, -5.412922382354736, 2.5402724742889404, 1.622320294380188, 3.634420871734619, -4.4561614990234375, -1.4415342807769775, 4.120595932006836, 3.202090263366699, -3.724282741546631, -3.148648500442505, -0.4676177501678467, -2.5493690967559814, 1.6198805570602417, -6.57989501953125, -4.28877067565918, -2.56935453414917, 4.706296443939209, 9.224149703979492, -4.719351291656494, 7.3290581703186035, 0.7866341471672058, -4.291606426239014, 2.5643062591552734, 0.5836357474327087, 3.6805739402770996, -3.9237804412841797, -1.9882210493087769, 3.913543224334717, 2.0143985748291016, 7.238165855407715, -4.316686630249023, -4.229787349700928, -4.2561869621276855, 0.9040752053260803, 3.340786933898926, -1.961336374282837, -3.8720526695251465, 6.395447731018066, 2.1790406703948975, 0.3619810938835144, -2.40708065032959, -2.3040387630462646, 0.34622901678085327, 8.957425117492676, -6.449154376983643, -2.599097490310669, 1.5841494798660278, 4.879149436950684, -4.021700859069824, 6.718851566314697, -4.455477237701416, -4.674435138702393, -3.898264169692993, 0.25533777475357056, -1.4709476232528687, 1.992455005645752, -1.7218679189682007, -5.639172554016113, -2.9507462978363037, 2.5004262924194336, -7.921983242034912, 0.3697819113731384, -4.4726338386535645, 6.515746116638184, -3.2220711708068848, -7.046205043792725, -1.541722059249878, -5.57208251953125, 3.66268253326416, -3.9050891399383545, 0.9204661846160889, 1.004032015800476, 5.466058731079102, 0.961007297039032, 10.752289772033691, -3.934143304824829, 3.3173298835754395, -3.481137752532959, -1.8878589868545532, -4.376121997833252, 3.4239673614501953, 6.408289909362793, 1.1247230768203735, 1.3872464895248413, -2.3937158584594727, -5.8068766593933105, -3.454357862472534, 7.6702117919921875, -5.446864128112793, 5.571597099304199, 1.2440603971481323, -4.360292434692383, 3.8318865299224854, -0.510445773601532, -4.312903881072998, 2.880423069000244, -2.8199751377105713, -8.289265632629395, 5.4391608238220215, -2.8603007793426514, 7.909927845001221, -1.7579841613769531, -4.20231819152832, 0.8651496171951294, -2.59011173248291, 7.994119167327881, 11.069944381713867, 0.6158713102340698, 3.1661019325256348, 2.106884479522705, -0.09290310740470886, 2.2771615982055664, -2.028674602508545, 8.806777954101562, -2.497203826904297, 0.3558586537837982, -2.6730434894561768, 0.10073413699865341, 4.899441242218018, 10.634921073913574, -0.04939617961645126, 2.9717018604278564, -3.286607265472412, 2.8818118572235107, 5.244160175323486, 3.3448421955108643, -3.978412628173828, -2.143266201019287, -4.7506489753723145, -2.400489568710327, -3.023812770843506, -3.214277982711792, 7.839642524719238, 4.174403190612793, -5.81494140625, -3.6729800701141357, 0.10246462374925613, -5.091497421264648, -2.285257577896118, -4.435848236083984, 3.73746919631958, -0.7094756364822388, 0.6041558384895325, 3.995997667312622, 1.445311427116394, -3.21094012260437, 4.484747409820557, -2.259842872619629, 3.283536434173584, -3.221785306930542, 0.2553499937057495, -3.6582062244415283, -1.2798157930374146, -3.1573405265808105, -4.044900417327881, -6.576534271240234, -3.0252044200897217, -3.375607490539551, -2.8737587928771973, -2.818537712097168, 5.111581325531006, 0.5950185060501099, 5.35517692565918, 0.3572838604450226, 2.5273501873016357, -4.9276838302612305, -2.6325926780700684, -2.6846113204956055, 6.317282199859619, -5.013397216796875, 1.490981101989746, 2.211564302444458, 1.922410011291504, 1.7308982610702515, -2.5908169746398926, -8.445466041564941, 5.77883243560791, -4.969305515289307, -4.621547222137451, -2.4723410606384277, -0.685627818107605, 8.95742416381836, -6.227506637573242, -4.844976902008057, -3.150054931640625, -2.059835433959961, -6.882290363311768, -4.632596969604492, 0.8007449507713318, 0.5587974190711975, -4.106189250946045, -4.140665531158447, -2.0336811542510986, -1.728301763534546, -1.2143412828445435, 4.694406509399414, 6.766548156738281, -8.250056266784668, -2.7997682094573975, -3.1013426780700684, 0.21814116835594177, -0.1734941601753235, 4.204997539520264, -1.087507724761963, 5.360999584197998, -1.0791432857513428, -2.9236674308776855, -2.8303418159484863, 0.6017993092536926, -0.07239873707294464, 1.0415716171264648, -3.8660199642181396, -1.244642972946167, -2.50339412689209, -4.6744890213012695, -2.4000837802886963, -2.861123561859131, 6.586910724639893, 5.668571472167969, -2.297534227371216, 0.8771608471870422, 0.4130719006061554, -4.013919353485107, 2.045567274093628, 7.583245754241943, 6.034290790557861, -2.8622941970825195, 1.6328226327896118, -3.5344502925872803, 2.064898729324341, 3.6015336513519287, 2.817718982696533, 11.234586715698242, -2.1692628860473633, 10.89405345916748, 7.509235858917236, 0.21518440544605255, -2.093290090560913, -3.6510608196258545, -3.4364330768585205, 10.933341026306152, -3.098196506500244, 0.6301732659339905, 2.774493455886841, 6.801111221313477, -2.0872366428375244, -4.429720401763916, 10.582417488098145, 5.361602783203125, 1.3956987857818604, 3.2169995307922363, -3.785829544067383, 10.45699691772461, -0.0015749328304082155, 2.6770379543304443, 1.502862572669983, -1.9874393939971924, 0.35322779417037964, -2.4574835300445557, 8.08137321472168, 5.8616461753845215, 4.019758224487305, -1.270866870880127, 0.22435232996940613, -8.022811889648438, -2.587144374847412, 0.21247915923595428, -7.950279235839844, 6.846822738647461, -4.349032402038574, -4.401608943939209, 3.6636853218078613, 5.091534614562988, -3.1654722690582275, 1.1897222995758057, 10.948235511779785, -3.1784744262695312, -6.118833541870117, -3.8081469535827637, 5.900770664215088, 3.89812970161438, -3.967381715774536, -3.283090829849243, 0.0076690721325576305, -0.3706909120082855, -2.513669013977051, -3.2576169967651367, -2.8662729263305664, -0.23486998677253723, -4.0501885414123535, -2.6948156356811523, -1.5793784856796265, -1.902858853340149, -1.9255661964416504, -5.457276821136475, -1.0955557823181152, 4.301229953765869, -6.314797878265381, 3.838038921356201, -1.3283920288085938, -6.1429243087768555, 2.990222454071045, 6.288459300994873, 2.8899757862091064, 6.474091053009033, 0.6627470850944519, -1.257513403892517, 0.25765594840049744, -3.1471033096313477, 0.9188493490219116, -5.60634183883667, -0.722510814666748, 10.923361778259277, 2.1615188121795654, 2.5996241569519043, -2.667633056640625, -4.380767822265625, -2.392143487930298, -1.2801964282989502, 7.364684581756592, -2.1180570125579834, -1.1598325967788696, -3.345386505126953, 1.1888442039489746, 1.882804274559021, -0.6894487142562866, 2.0113682746887207, -0.5681228041648865, 10.826956748962402, 5.198453426361084, 2.5471577644348145, -3.0983078479766846, -2.0364913940429688, -5.368480205535889, 4.445700168609619, 1.249327301979065, 1.5699940919876099, 4.054376602172852, 3.898277759552002, 0.7046092748641968, -3.5409395694732666, 4.35155725479126, -1.9111379384994507, -2.2281343936920166, 8.520280838012695, 8.62476921081543, 6.6982526779174805, -2.60141658782959, -4.755304336547852, -7.8987016677856445, -2.639657735824585, -0.10173779726028442, 2.288179397583008, 5.971784591674805, -4.614315509796143, -3.0656821727752686, -1.2036949396133423, 7.2342529296875, -2.493467092514038, 2.668177843093872, 0.29102808237075806, 5.558319568634033, 0.4565415680408478, -2.7791812419891357, -5.903573989868164, -2.111419439315796, -2.7501633167266846, -2.0275912284851074, -0.0865095928311348, 3.250373363494873, 5.972203254699707, -1.2523826360702515, -3.3668296337127686, 6.45781135559082, -2.069671630859375, 4.030229568481445, -3.9197773933410645, -3.6070728302001953, 2.1565961837768555, 2.3060035705566406, 0.23360417783260345, 5.519375324249268, 0.6099432110786438, 6.253261566162109, 10.648991584777832, -4.093018531799316, -2.888951301574707, 4.994388103485107, -3.0140671730041504, 0.7484501004219055, 4.871777057647705, 0.6530588269233704, 5.700282096862793, -7.416408538818359, -2.1375234127044678, -5.752772808074951, -5.011170864105225, 1.3918617963790894, 7.020642280578613, -4.9090399742126465, -3.1555566787719727, -2.6951637268066406, 7.580351829528809, 6.413511276245117, 2.66605544090271, -6.41550350189209, -4.280919551849365, 2.025672435760498, 6.997969150543213, -2.1467151641845703, -5.011831760406494, -5.930357456207275, 4.497203350067139, -2.350339889526367, -4.272536754608154, 5.691859722137451, 3.8459534645080566, 2.7997171878814697, -0.6757481098175049, 2.6792681217193604, -0.2196199744939804, -5.981861591339111, -4.308263778686523, -4.892273426055908, -0.3453468382358551, -3.0219388008117676, -4.798418045043945, -2.1565511226654053, 5.748255252838135, 1.826439619064331, -4.0610880851745605, -6.738175392150879, -5.845113277435303, -0.8102537989616394, -4.8650054931640625, 10.261710166931152, 1.0814406871795654, 2.344383716583252, 2.8563759326934814, -0.1170048788189888, -4.691915035247803, 6.017201900482178, 1.2493568658828735, 2.0156917572021484, 6.931456089019775, -3.7881088256835938, 4.692161560058594, -0.45983079075813293, 5.593297004699707, 11.152519226074219, 8.429096221923828, 4.108178615570068, 1.2398205995559692, 10.90726375579834, 5.15834903717041, 0.04925553500652313, 10.660531997680664, 3.7930662631988525, 4.362269878387451, 1.307064175605774, 0.8234918117523193, 0.8076586127281189, -4.162724018096924, -5.5172271728515625, 7.6032562255859375, 6.285763263702393, -0.021751344203948975, -3.2091376781463623, 1.595443606376648, -0.761062502861023, 0.021679742261767387, -4.780405521392822, -1.4071170091629028, 3.883608341217041, -2.47411847114563, -3.8657097816467285, -4.410399913787842, -1.4715675115585327, -2.6729843616485596, 0.2661677598953247, -5.85220193862915, 5.80509614944458, -3.570016384124756, 5.776985168457031, -3.9561586380004883, -3.636559009552002, 1.642067790031433, -3.485410690307617, -4.489321231842041, -3.7611706256866455, 2.204711437225342, -3.761343479156494, 8.846534729003906, -4.397391319274902, 6.24569845199585, 5.425745964050293, 0.20503449440002441, -5.060135364532471, 2.99839448928833, -5.025399208068848, -2.1266093254089355, -2.9793174266815186, 0.7439066171646118, -3.275040864944458, 3.199477195739746, 5.830415725708008, -4.014159679412842, -3.139005661010742, 1.3872339725494385, 1.920637607574463, -3.276557207107544, 5.059112548828125, 7.3431782722473145, 2.843294382095337, -3.2623865604400635, 3.5036580562591553, 0.9035351276397705, 3.6153571605682373, -3.5096733570098877, 9.841018676757812, -4.613256931304932, 5.516658306121826, 7.446377754211426, 9.082906723022461, -2.381500244140625, 2.087700128555298, -2.7086122035980225, -1.0453472137451172, 1.2798740863800049, -3.8939287662506104, 10.11370849609375, -4.1493353843688965, -0.6798983812332153, -2.178328037261963, -3.5878701210021973, 7.489168167114258, 3.223630428314209, 1.9096558094024658, 6.19857931137085, -3.6577579975128174, 3.08480167388916, -4.711660861968994, -2.9847636222839355, -2.8833959102630615, -2.6240055561065674, 6.192030906677246, -5.403160572052002, 3.8669686317443848, 1.9112389087677002, 10.452187538146973, 4.588616847991943, -0.5110955834388733, 6.447197437286377, -4.394054889678955, -4.217859745025635, -4.400911331176758, -2.6425621509552, 3.1252455711364746, 0.4411346912384033, 4.633651256561279, -0.6051855087280273, -3.472010612487793, 2.3407719135284424, -3.969778060913086, 0.29144957661628723, -7.928668022155762, 3.5970027446746826, -0.14102737605571747, -4.704698085784912, 0.2570163905620575, 5.878392219543457, -3.8873791694641113, 3.9891228675842285, 7.841063976287842, 2.7842559814453125, -1.8765790462493896, 6.896100997924805, 1.5238056182861328, 0.7586862444877625, 2.9286248683929443, 6.229604244232178, -3.7584168910980225, -2.690629243850708, 2.3741557598114014, -2.6269888877868652, 1.340048909187317, -1.6747205257415771, 0.03868745267391205, 5.4301323890686035, -4.658334732055664, 0.3522104322910309, -1.0101325511932373, 6.224724769592285, 3.170072317123413, -0.14721709489822388, -0.4061150550842285, 6.839179992675781, -6.209601879119873, -0.5637614130973816, -4.328361988067627, 2.8718018531799316, -1.6099086999893188, 3.001068115234375, 5.678454399108887, -5.491689682006836, -4.524514675140381, -4.580571174621582, -4.069877624511719, 4.427482604980469, 0.8849790692329407, 1.3694206476211548, -6.31784725189209, -7.100688457489014, 1.0707151889801025, 0.027876920998096466, -0.16209697723388672, 5.809289932250977]}, {\"hovertemplate\": \"Dominant_Topic=Topic 1<br>0=%{x}<br>1=%{y}<br>2=%{z}<extra></extra>\", \"legendgroup\": \"Topic 1\", \"marker\": {\"color\": \"#EF553B\", \"opacity\": 0.7, \"symbol\": \"circle\"}, \"mode\": \"markers\", \"name\": \"Topic 1\", \"scene\": \"scene\", \"showlegend\": true, \"type\": \"scatter3d\", \"x\": [-6.210740566253662, -5.550610542297363, -10.663928985595703, -10.477875709533691], \"y\": [-7.248566150665283, -7.033126354217529, -8.810088157653809, -8.702436447143555], \"z\": [-2.3534979820251465, -2.59856915473938, 3.5353543758392334, 3.594438314437866]}, {\"hovertemplate\": \"Dominant_Topic=Topic 2<br>0=%{x}<br>1=%{y}<br>2=%{z}<extra></extra>\", \"legendgroup\": \"Topic 2\", \"marker\": {\"color\": \"#00cc96\", \"opacity\": 0.7, \"symbol\": \"circle\"}, \"mode\": \"markers\", \"name\": \"Topic 2\", \"scene\": \"scene\", \"showlegend\": true, \"type\": \"scatter3d\", \"x\": [-11.426368713378906], \"y\": [-6.2632155418396], \"z\": [7.887411117553711]}],                        {\"height\": 800, \"legend\": {\"title\": {\"text\": \"Dominant_Topic\"}, \"tracegroupgap\": 0}, \"scene\": {\"domain\": {\"x\": [0.0, 1.0], \"y\": [0.0, 1.0]}, \"xaxis\": {\"title\": {\"text\": \"0\"}}, \"yaxis\": {\"title\": {\"text\": \"1\"}}, \"zaxis\": {\"title\": {\"text\": \"2\"}}}, \"template\": {\"data\": {\"bar\": [{\"error_x\": {\"color\": \"#2a3f5f\"}, \"error_y\": {\"color\": \"#2a3f5f\"}, \"marker\": {\"line\": {\"color\": \"#E5ECF6\", \"width\": 0.5}}, \"type\": \"bar\"}], \"barpolar\": [{\"marker\": {\"line\": {\"color\": \"#E5ECF6\", \"width\": 0.5}}, \"type\": \"barpolar\"}], \"carpet\": [{\"aaxis\": {\"endlinecolor\": \"#2a3f5f\", \"gridcolor\": \"white\", \"linecolor\": \"white\", \"minorgridcolor\": \"white\", \"startlinecolor\": \"#2a3f5f\"}, \"baxis\": {\"endlinecolor\": \"#2a3f5f\", \"gridcolor\": \"white\", \"linecolor\": \"white\", \"minorgridcolor\": \"white\", \"startlinecolor\": \"#2a3f5f\"}, \"type\": \"carpet\"}], \"choropleth\": [{\"colorbar\": {\"outlinewidth\": 0, \"ticks\": \"\"}, \"type\": \"choropleth\"}], \"contour\": [{\"colorbar\": {\"outlinewidth\": 0, \"ticks\": \"\"}, \"colorscale\": [[0.0, \"#0d0887\"], [0.1111111111111111, \"#46039f\"], [0.2222222222222222, \"#7201a8\"], [0.3333333333333333, \"#9c179e\"], [0.4444444444444444, \"#bd3786\"], [0.5555555555555556, \"#d8576b\"], [0.6666666666666666, \"#ed7953\"], [0.7777777777777778, \"#fb9f3a\"], [0.8888888888888888, \"#fdca26\"], [1.0, \"#f0f921\"]], \"type\": \"contour\"}], \"contourcarpet\": [{\"colorbar\": {\"outlinewidth\": 0, \"ticks\": \"\"}, \"type\": \"contourcarpet\"}], \"heatmap\": [{\"colorbar\": {\"outlinewidth\": 0, \"ticks\": \"\"}, \"colorscale\": [[0.0, \"#0d0887\"], [0.1111111111111111, \"#46039f\"], [0.2222222222222222, \"#7201a8\"], [0.3333333333333333, \"#9c179e\"], [0.4444444444444444, \"#bd3786\"], [0.5555555555555556, \"#d8576b\"], [0.6666666666666666, \"#ed7953\"], [0.7777777777777778, \"#fb9f3a\"], [0.8888888888888888, \"#fdca26\"], [1.0, \"#f0f921\"]], \"type\": \"heatmap\"}], \"heatmapgl\": [{\"colorbar\": {\"outlinewidth\": 0, \"ticks\": \"\"}, \"colorscale\": [[0.0, \"#0d0887\"], [0.1111111111111111, \"#46039f\"], [0.2222222222222222, \"#7201a8\"], [0.3333333333333333, \"#9c179e\"], [0.4444444444444444, \"#bd3786\"], [0.5555555555555556, \"#d8576b\"], [0.6666666666666666, \"#ed7953\"], [0.7777777777777778, \"#fb9f3a\"], [0.8888888888888888, \"#fdca26\"], [1.0, \"#f0f921\"]], \"type\": \"heatmapgl\"}], \"histogram\": [{\"marker\": {\"colorbar\": {\"outlinewidth\": 0, \"ticks\": \"\"}}, \"type\": \"histogram\"}], \"histogram2d\": [{\"colorbar\": {\"outlinewidth\": 0, \"ticks\": \"\"}, \"colorscale\": [[0.0, \"#0d0887\"], [0.1111111111111111, \"#46039f\"], [0.2222222222222222, \"#7201a8\"], [0.3333333333333333, \"#9c179e\"], [0.4444444444444444, \"#bd3786\"], [0.5555555555555556, \"#d8576b\"], [0.6666666666666666, \"#ed7953\"], [0.7777777777777778, \"#fb9f3a\"], [0.8888888888888888, \"#fdca26\"], [1.0, \"#f0f921\"]], \"type\": \"histogram2d\"}], \"histogram2dcontour\": [{\"colorbar\": {\"outlinewidth\": 0, \"ticks\": \"\"}, \"colorscale\": [[0.0, \"#0d0887\"], [0.1111111111111111, \"#46039f\"], [0.2222222222222222, \"#7201a8\"], [0.3333333333333333, \"#9c179e\"], [0.4444444444444444, \"#bd3786\"], [0.5555555555555556, \"#d8576b\"], [0.6666666666666666, \"#ed7953\"], [0.7777777777777778, \"#fb9f3a\"], [0.8888888888888888, \"#fdca26\"], [1.0, \"#f0f921\"]], \"type\": \"histogram2dcontour\"}], \"mesh3d\": [{\"colorbar\": {\"outlinewidth\": 0, \"ticks\": \"\"}, \"type\": \"mesh3d\"}], \"parcoords\": [{\"line\": {\"colorbar\": {\"outlinewidth\": 0, \"ticks\": \"\"}}, \"type\": \"parcoords\"}], \"pie\": [{\"automargin\": true, \"type\": \"pie\"}], \"scatter\": [{\"marker\": {\"colorbar\": {\"outlinewidth\": 0, \"ticks\": \"\"}}, \"type\": \"scatter\"}], \"scatter3d\": [{\"line\": {\"colorbar\": {\"outlinewidth\": 0, \"ticks\": \"\"}}, \"marker\": {\"colorbar\": {\"outlinewidth\": 0, \"ticks\": \"\"}}, \"type\": \"scatter3d\"}], \"scattercarpet\": [{\"marker\": {\"colorbar\": {\"outlinewidth\": 0, \"ticks\": \"\"}}, \"type\": \"scattercarpet\"}], \"scattergeo\": [{\"marker\": {\"colorbar\": {\"outlinewidth\": 0, \"ticks\": \"\"}}, \"type\": \"scattergeo\"}], \"scattergl\": [{\"marker\": {\"colorbar\": {\"outlinewidth\": 0, \"ticks\": \"\"}}, \"type\": \"scattergl\"}], \"scattermapbox\": [{\"marker\": {\"colorbar\": {\"outlinewidth\": 0, \"ticks\": \"\"}}, \"type\": \"scattermapbox\"}], \"scatterpolar\": [{\"marker\": {\"colorbar\": {\"outlinewidth\": 0, \"ticks\": \"\"}}, \"type\": \"scatterpolar\"}], \"scatterpolargl\": [{\"marker\": {\"colorbar\": {\"outlinewidth\": 0, \"ticks\": \"\"}}, \"type\": \"scatterpolargl\"}], \"scatterternary\": [{\"marker\": {\"colorbar\": {\"outlinewidth\": 0, \"ticks\": \"\"}}, \"type\": \"scatterternary\"}], \"surface\": [{\"colorbar\": {\"outlinewidth\": 0, \"ticks\": \"\"}, \"colorscale\": [[0.0, \"#0d0887\"], [0.1111111111111111, \"#46039f\"], [0.2222222222222222, \"#7201a8\"], [0.3333333333333333, \"#9c179e\"], [0.4444444444444444, \"#bd3786\"], [0.5555555555555556, \"#d8576b\"], [0.6666666666666666, \"#ed7953\"], [0.7777777777777778, \"#fb9f3a\"], [0.8888888888888888, \"#fdca26\"], [1.0, \"#f0f921\"]], \"type\": \"surface\"}], \"table\": [{\"cells\": {\"fill\": {\"color\": \"#EBF0F8\"}, \"line\": {\"color\": \"white\"}}, \"header\": {\"fill\": {\"color\": \"#C8D4E3\"}, \"line\": {\"color\": \"white\"}}, \"type\": \"table\"}]}, \"layout\": {\"annotationdefaults\": {\"arrowcolor\": \"#2a3f5f\", \"arrowhead\": 0, \"arrowwidth\": 1}, \"autotypenumbers\": \"strict\", \"coloraxis\": {\"colorbar\": {\"outlinewidth\": 0, \"ticks\": \"\"}}, \"colorscale\": {\"diverging\": [[0, \"#8e0152\"], [0.1, \"#c51b7d\"], [0.2, \"#de77ae\"], [0.3, \"#f1b6da\"], [0.4, \"#fde0ef\"], [0.5, \"#f7f7f7\"], [0.6, \"#e6f5d0\"], [0.7, \"#b8e186\"], [0.8, \"#7fbc41\"], [0.9, \"#4d9221\"], [1, \"#276419\"]], \"sequential\": [[0.0, \"#0d0887\"], [0.1111111111111111, \"#46039f\"], [0.2222222222222222, \"#7201a8\"], [0.3333333333333333, \"#9c179e\"], [0.4444444444444444, \"#bd3786\"], [0.5555555555555556, \"#d8576b\"], [0.6666666666666666, \"#ed7953\"], [0.7777777777777778, \"#fb9f3a\"], [0.8888888888888888, \"#fdca26\"], [1.0, \"#f0f921\"]], \"sequentialminus\": [[0.0, \"#0d0887\"], [0.1111111111111111, \"#46039f\"], [0.2222222222222222, \"#7201a8\"], [0.3333333333333333, \"#9c179e\"], [0.4444444444444444, \"#bd3786\"], [0.5555555555555556, \"#d8576b\"], [0.6666666666666666, \"#ed7953\"], [0.7777777777777778, \"#fb9f3a\"], [0.8888888888888888, \"#fdca26\"], [1.0, \"#f0f921\"]]}, \"colorway\": [\"#636efa\", \"#EF553B\", \"#00cc96\", \"#ab63fa\", \"#FFA15A\", \"#19d3f3\", \"#FF6692\", \"#B6E880\", \"#FF97FF\", \"#FECB52\"], \"font\": {\"color\": \"#2a3f5f\"}, \"geo\": {\"bgcolor\": \"white\", \"lakecolor\": \"white\", \"landcolor\": \"#E5ECF6\", \"showlakes\": true, \"showland\": true, \"subunitcolor\": \"white\"}, \"hoverlabel\": {\"align\": \"left\"}, \"hovermode\": \"closest\", \"mapbox\": {\"style\": \"light\"}, \"paper_bgcolor\": \"white\", \"plot_bgcolor\": \"#E5ECF6\", \"polar\": {\"angularaxis\": {\"gridcolor\": \"white\", \"linecolor\": \"white\", \"ticks\": \"\"}, \"bgcolor\": \"#E5ECF6\", \"radialaxis\": {\"gridcolor\": \"white\", \"linecolor\": \"white\", \"ticks\": \"\"}}, \"scene\": {\"xaxis\": {\"backgroundcolor\": \"#E5ECF6\", \"gridcolor\": \"white\", \"gridwidth\": 2, \"linecolor\": \"white\", \"showbackground\": true, \"ticks\": \"\", \"zerolinecolor\": \"white\"}, \"yaxis\": {\"backgroundcolor\": \"#E5ECF6\", \"gridcolor\": \"white\", \"gridwidth\": 2, \"linecolor\": \"white\", \"showbackground\": true, \"ticks\": \"\", \"zerolinecolor\": \"white\"}, \"zaxis\": {\"backgroundcolor\": \"#E5ECF6\", \"gridcolor\": \"white\", \"gridwidth\": 2, \"linecolor\": \"white\", \"showbackground\": true, \"ticks\": \"\", \"zerolinecolor\": \"white\"}}, \"shapedefaults\": {\"line\": {\"color\": \"#2a3f5f\"}}, \"ternary\": {\"aaxis\": {\"gridcolor\": \"white\", \"linecolor\": \"white\", \"ticks\": \"\"}, \"baxis\": {\"gridcolor\": \"white\", \"linecolor\": \"white\", \"ticks\": \"\"}, \"bgcolor\": \"#E5ECF6\", \"caxis\": {\"gridcolor\": \"white\", \"linecolor\": \"white\", \"ticks\": \"\"}}, \"title\": {\"x\": 0.05}, \"xaxis\": {\"automargin\": true, \"gridcolor\": \"white\", \"linecolor\": \"white\", \"ticks\": \"\", \"title\": {\"standoff\": 15}, \"zerolinecolor\": \"white\", \"zerolinewidth\": 2}, \"yaxis\": {\"automargin\": true, \"gridcolor\": \"white\", \"linecolor\": \"white\", \"ticks\": \"\", \"title\": {\"standoff\": 15}, \"zerolinecolor\": \"white\", \"zerolinewidth\": 2}}}, \"title\": {\"text\": \"3d TSNE Plot for Topic Model\"}, \"width\": 900},                        {\"responsive\": true}                    ).then(function(){\n",
       "                            \n",
       "var gd = document.getElementById('bc9dac3c-e685-4994-98b6-13a084b7b793');\n",
       "var x = new MutationObserver(function (mutations, observer) {{\n",
       "        var display = window.getComputedStyle(gd).display;\n",
       "        if (!display || display === 'none') {{\n",
       "            console.log([gd, 'removed!']);\n",
       "            Plotly.purge(gd);\n",
       "            observer.disconnect();\n",
       "        }}\n",
       "}});\n",
       "\n",
       "// Listen for the removal of the full notebook cells\n",
       "var notebookContainer = gd.closest('#notebook-container');\n",
       "if (notebookContainer) {{\n",
       "    x.observe(notebookContainer, {childList: true});\n",
       "}}\n",
       "\n",
       "// Listen for the clearing of the current output cell\n",
       "var outputEl = gd.closest('.output');\n",
       "if (outputEl) {{\n",
       "    x.observe(outputEl, {childList: true});\n",
       "}}\n",
       "\n",
       "                        })                };                });            </script>        </div>"
      ]
     },
     "metadata": {},
     "output_type": "display_data"
    },
    {
     "data": {
      "text/html": [
       "        <script type=\"text/javascript\">\n",
       "        window.PlotlyConfig = {MathJaxConfig: 'local'};\n",
       "        if (window.MathJax) {MathJax.Hub.Config({SVG: {font: \"STIX-Web\"}});}\n",
       "        if (typeof require !== 'undefined') {\n",
       "        require.undef(\"plotly\");\n",
       "        requirejs.config({\n",
       "            paths: {\n",
       "                'plotly': ['https://cdn.plot.ly/plotly-latest.min']\n",
       "            }\n",
       "        });\n",
       "        require(['plotly'], function(Plotly) {\n",
       "            window._Plotly = Plotly;\n",
       "        });\n",
       "        }\n",
       "        </script>\n",
       "        "
      ]
     },
     "metadata": {},
     "output_type": "display_data"
    },
    {
     "data": {
      "image/png": "[encoded data removed]",
      "text/plain": [
       "<Figure size 720x432 with 1 Axes>"
      ]
     },
     "metadata": {},
     "output_type": "display_data"
    }
   ],
   "source": [
    "plot_model(lsi, plot = 'tsne')\n",
    "\n",
    "plot_model(lsi, plot = 'umap')"
   ]
  },
  {
   "cell_type": "code",
   "execution_count": 9,
   "id": "elementary-chemistry",
   "metadata": {},
   "outputs": [
    {
     "data": {
      "text/plain": [
       "<AxesSubplot:>"
      ]
     },
     "execution_count": 9,
     "metadata": {},
     "output_type": "execute_result"
    },
    {
     "data": {
      "image/png": "[encoded data removed]",
      "text/plain": [
       "<Figure size 720x1440 with 2 Axes>"
      ]
     },
     "metadata": {},
     "output_type": "display_data"
    }
   ],
   "source": [
    "%matplotlib inline\n",
    "import seaborn as sns; sns.set(rc={'figure.figsize':(10,20)})\n",
    "sns.heatmap(document_topic_matrix.loc[document_topic_matrix.idxmax(axis=1).sort_values().index])"
   ]
  },
  {
   "cell_type": "code",
   "execution_count": 10,
   "id": "applied-consultancy",
   "metadata": {},
   "outputs": [
    {
     "data": {
      "text/plain": [
       "<AxesSubplot:>"
      ]
     },
     "execution_count": 10,
     "metadata": {},
     "output_type": "execute_result"
    },
    {
     "data": {
      "image/png": "[encoded data removed]",
      "text/plain": [
       "<Figure size 720x360 with 1 Axes>"
      ]
     },
     "metadata": {},
     "output_type": "display_data"
    }
   ],
   "source": [
    "sns.set(rc={'figure.figsize':(10,5)})\n",
    "document_topic_matrix.idxmax(axis=1).value_counts().plot.bar(color='lightblue')"
   ]
  },
  {
   "cell_type": "code",
   "execution_count": null,
   "id": "reliable-lightning",
   "metadata": {},
   "outputs": [],
   "source": []
  }
 ],
 "metadata": {
  "kernelspec": {
   "display_name": "Python 3",
   "language": "python",
   "name": "python3"
  },
  "language_info": {
   "codemirror_mode": {
    "name": "ipython",
    "version": 3
   },
   "file_extension": ".py",
   "mimetype": "text/x-python",
   "name": "python",
   "nbconvert_exporter": "python",
   "pygments_lexer": "ipython3",
   "version": "3.7.10"
  }
 },
 "nbformat": 4,
 "nbformat_minor": 5
}
