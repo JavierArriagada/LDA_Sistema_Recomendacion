{
 "cells": [
  {
   "cell_type": "code",
   "execution_count": 1,
   "id": "convinced-hello",
   "metadata": {},
   "outputs": [],
   "source": [
    "path = \"../Modelo/Final\"\n",
    "   \n",
    "ruta_modelo = path + \"/LDA-Model\""
   ]
  },
  {
   "cell_type": "code",
   "execution_count": 2,
   "id": "refined-antibody",
   "metadata": {
    "scrolled": true
   },
   "outputs": [
    {
     "name": "stdout",
     "output_type": "stream",
     "text": [
      "Model Sucessfully Loaded\n"
     ]
    }
   ],
   "source": [
    "from pycaret.nlp import *\n",
    "\n",
    "lda_final = load_model(ruta_modelo)\n",
    "num_topics = len(lda_final.get_topics())\n",
    "\n",
    "import pandas as pd\n",
    "import pickle\n",
    "\n",
    "\n",
    "train_data_dir = path + \"/train_data_.sav\"\n",
    "train_tokenized_words_dir = path + \"/train_tokenized_words.sav\"\n",
    "train_corpus_dir = path + \"/train_corpus.sav\"\n",
    "train_id2word_dir = path + \"/train_id2word.sav\"\n",
    "\n",
    "\n",
    "test_data_dir = path + \"/test/test_data_.sav\"\n",
    "test_tokenized_words_dir = path + \"/test/test_tokenized_words.sav\"\n",
    "test_corpus_dir = path + \"/test/test_corpus.sav\"\n",
    "test_id2word_dir = path + \"/test/test_id2word.sav\"\n",
    "\n",
    "\n",
    "lda_train_results_dir = path + \"/lda_train_results.df\"\n",
    "lda_test_results_dir = path + \"/test/lda_test_results.df\"\n",
    "\n",
    "\n",
    "train_data_ = pickle.load(open(train_data_dir, 'rb'))\n",
    "train_tokenized_words = pickle.load(open(train_tokenized_words_dir, 'rb'))                                \n",
    "train_corpus = pickle.load(open(train_corpus_dir, 'rb'))\n",
    "train_id2word = pickle.load(open(train_id2word_dir, 'rb')) #Diccionario gensin\n",
    "\n",
    "test_data_ = pickle.load(open(test_data_dir, 'rb'))\n",
    "test_tokenized_words = pickle.load(open(test_tokenized_words_dir, 'rb'))                                \n",
    "test_corpus = pickle.load(open(test_corpus_dir, 'rb'))\n",
    "test_id2word = pickle.load(open(test_id2word_dir, 'rb')) #Diccionario gensin\n",
    "\n",
    "lda_train_results = pickle.load(open(lda_train_results_dir, 'rb'))\n",
    "lda_test_results = pickle.load(open(lda_test_results_dir, 'rb'))\n",
    "\n",
    "\n",
    "\n",
    "document_topic_matrix_dir = path + \"/document_topic_matrix.sav\"\n",
    "topic_word_matrix_dir = path + \"/topic_word_matrix.sav\"\n",
    "\n",
    "document_topic_matrix = pickle.load(open(document_topic_matrix_dir, 'rb'))\n",
    "topic_word_matrix = pickle.load(open(topic_word_matrix_dir, 'rb'))"
   ]
  },
  {
   "cell_type": "code",
   "execution_count": null,
   "id": "welcome-convert",
   "metadata": {},
   "outputs": [],
   "source": [
    "#lda_train_results"
   ]
  },
  {
   "cell_type": "code",
   "execution_count": null,
   "id": "level-exception",
   "metadata": {},
   "outputs": [],
   "source": [
    "#lda_test_results"
   ]
  },
  {
   "cell_type": "code",
   "execution_count": null,
   "id": "regulation-transmission",
   "metadata": {},
   "outputs": [],
   "source": [
    "#top_palabras = lda_final.get_topic_terms(13, topn=10)\n",
    "#top_palabras"
   ]
  },
  {
   "cell_type": "code",
   "execution_count": null,
   "id": "controlled-korean",
   "metadata": {},
   "outputs": [],
   "source": [
    "#test_tokenized_words[0]"
   ]
  },
  {
   "cell_type": "code",
   "execution_count": null,
   "id": "taken-freight",
   "metadata": {
    "scrolled": true
   },
   "outputs": [],
   "source": [
    "#train_corpus[0]"
   ]
  },
  {
   "cell_type": "code",
   "execution_count": null,
   "id": "angry-native",
   "metadata": {},
   "outputs": [],
   "source": [
    "#train_id2word[55561]"
   ]
  },
  {
   "cell_type": "markdown",
   "id": "sensitive-handy",
   "metadata": {},
   "source": [
    "## Top documentos pertenecientes a topico x"
   ]
  },
  {
   "cell_type": "code",
   "execution_count": 3,
   "id": "tough-permission",
   "metadata": {},
   "outputs": [
    {
     "data": {
      "text/plain": [
       "557    0.999646\n",
       "67     0.999634\n",
       "556    0.999599\n",
       "185    0.999417\n",
       "428    0.998322\n",
       "817    0.997559\n",
       "473    0.996693\n",
       "708    0.991841\n",
       "487    0.991627\n",
       "679    0.991303\n",
       "360    0.990945\n",
       "355    0.974932\n",
       "531    0.974122\n",
       "876    0.970319\n",
       "401    0.969247\n",
       "404    0.968323\n",
       "160    0.964798\n",
       "864    0.962650\n",
       "380    0.961545\n",
       "517    0.960226\n",
       "Name: Topic_3, dtype: float64"
      ]
     },
     "execution_count": 3,
     "metadata": {},
     "output_type": "execute_result"
    }
   ],
   "source": [
    "lda_train_results.sort_values('Topic_3', ascending=False)['Topic_3'].head(20)"
   ]
  },
  {
   "cell_type": "code",
   "execution_count": 4,
   "id": "atlantic-saudi",
   "metadata": {},
   "outputs": [
    {
     "name": "stdout",
     "output_type": "stream",
     "text": [
      "document_title         Proposal of an integrated system for forecasti...\n",
      "Topic_0                                                         0.000021\n",
      "Topic_1                                                         0.061048\n",
      "Topic_2                                                         0.000021\n",
      "Topic_3                                                         0.002593\n",
      "Topic_4                                                         0.000021\n",
      "Topic_5                                                         0.004793\n",
      "Topic_6                                                         0.000021\n",
      "Topic_7                                                         0.007581\n",
      "Topic_8                                                         0.000021\n",
      "Topic_9                                                         0.637633\n",
      "Topic_10                                                        0.000021\n",
      "Topic_11                                                        0.286228\n",
      "Dominant_Topic                                                   Topic 9\n",
      "Perc_Dominant_Topic                                                 0.64\n",
      "Name: 214, dtype: object\n"
     ]
    }
   ],
   "source": [
    "print(lda_train_results.iloc[214])"
   ]
  },
  {
   "cell_type": "code",
   "execution_count": 5,
   "id": "informational-welding",
   "metadata": {},
   "outputs": [
    {
     "name": "stdout",
     "output_type": "stream",
     "text": [
      "0.0025933675933629274\n"
     ]
    }
   ],
   "source": [
    "print(lda_train_results.loc[214]['Topic_3'])"
   ]
  },
  {
   "cell_type": "code",
   "execution_count": 6,
   "id": "special-float",
   "metadata": {},
   "outputs": [
    {
     "name": "stdout",
     "output_type": "stream",
     "text": [
      "Proposal of an integrated system for forecasting Harmful Algal Blooms (HAB) in Chile.pdf\n"
     ]
    }
   ],
   "source": [
    "print(train_data_.document_title.iloc[214])"
   ]
  },
  {
   "cell_type": "markdown",
   "id": "timely-potential",
   "metadata": {},
   "source": [
    "## ouput lda model Topics"
   ]
  },
  {
   "cell_type": "code",
   "execution_count": 7,
   "id": "narrow-dylan",
   "metadata": {},
   "outputs": [],
   "source": [
    "topics = lda_final.show_topics(formatted=True, num_topics=num_topics, num_words=15)"
   ]
  },
  {
   "cell_type": "code",
   "execution_count": 8,
   "id": "orange-ceiling",
   "metadata": {},
   "outputs": [
    {
     "data": {
      "text/plain": [
       "'0.017*\"water\" + 0.006*\"flow\" + 0.005*\"cost\" + 0.005*\"surface\" + 0.005*\"period\" + 0.005*\"production\" + 0.004*\"temperature\" + 0.004*\"parameter\" + 0.004*\"difference\" + 0.004*\"biofilm\" + 0.004*\"different\" + 0.003*\"measure\" + 0.003*\"simulation\" + 0.003*\"change\" + 0.003*\"ball\"'"
      ]
     },
     "execution_count": 8,
     "metadata": {},
     "output_type": "execute_result"
    }
   ],
   "source": [
    "topics[0][1]"
   ]
  },
  {
   "cell_type": "markdown",
   "id": "changing-guidance",
   "metadata": {},
   "source": [
    "# Top 3 topicos para nuevo documento"
   ]
  },
  {
   "cell_type": "code",
   "execution_count": 9,
   "id": "legitimate-restaurant",
   "metadata": {},
   "outputs": [],
   "source": [
    "#input_text = 'topic model lda lsa'\n",
    "\n",
    "input_text = test_data_.text.iloc[0]"
   ]
  },
  {
   "cell_type": "code",
   "execution_count": 10,
   "id": "logical-maine",
   "metadata": {},
   "outputs": [],
   "source": [
    "from nltk.tokenize import word_tokenize\n",
    "\n",
    "tokens = word_tokenize(input_text)\n",
    "\n",
    "topics = lda_final.show_topics(formatted=True, num_topics=num_topics, num_words=15)\n",
    "\n",
    "predict_result = pd.DataFrame([(el[0], round(el[1],3), topics[el[0]][1]) for el in lda_final[train_id2word.doc2bow(tokens)]], columns=['topic #', 'weight', 'words in topic'])"
   ]
  },
  {
   "cell_type": "code",
   "execution_count": 11,
   "id": "initial-sullivan",
   "metadata": {},
   "outputs": [
    {
     "data": {
      "text/html": [
       "<div>\n",
       "<style scoped>\n",
       "    .dataframe tbody tr th:only-of-type {\n",
       "        vertical-align: middle;\n",
       "    }\n",
       "\n",
       "    .dataframe tbody tr th {\n",
       "        vertical-align: top;\n",
       "    }\n",
       "\n",
       "    .dataframe thead th {\n",
       "        text-align: right;\n",
       "    }\n",
       "</style>\n",
       "<table border=\"1\" class=\"dataframe\">\n",
       "  <thead>\n",
       "    <tr style=\"text-align: right;\">\n",
       "      <th></th>\n",
       "      <th>topic #</th>\n",
       "      <th>weight</th>\n",
       "      <th>words in topic</th>\n",
       "    </tr>\n",
       "  </thead>\n",
       "  <tbody>\n",
       "    <tr>\n",
       "      <th>8</th>\n",
       "      <td>8</td>\n",
       "      <td>0.612</td>\n",
       "      <td>0.009*\"wood\" + 0.007*\"pulp\" + 0.006*\"plant\" + ...</td>\n",
       "    </tr>\n",
       "    <tr>\n",
       "      <th>6</th>\n",
       "      <td>6</td>\n",
       "      <td>0.322</td>\n",
       "      <td>0.009*\"strain\" + 0.008*\"gene\" + 0.008*\"plant\" ...</td>\n",
       "    </tr>\n",
       "    <tr>\n",
       "      <th>1</th>\n",
       "      <td>1</td>\n",
       "      <td>0.027</td>\n",
       "      <td>0.010*\"region\" + 0.008*\"urban\" + 0.007*\"develo...</td>\n",
       "    </tr>\n",
       "  </tbody>\n",
       "</table>\n",
       "</div>"
      ],
      "text/plain": [
       "   topic #  weight                                     words in topic\n",
       "8        8   0.612  0.009*\"wood\" + 0.007*\"pulp\" + 0.006*\"plant\" + ...\n",
       "6        6   0.322  0.009*\"strain\" + 0.008*\"gene\" + 0.008*\"plant\" ...\n",
       "1        1   0.027  0.010*\"region\" + 0.008*\"urban\" + 0.007*\"develo..."
      ]
     },
     "execution_count": 11,
     "metadata": {},
     "output_type": "execute_result"
    }
   ],
   "source": [
    "#top 3 topicos relacionados al input\n",
    "predict_result.nlargest(3,['weight'])"
   ]
  },
  {
   "cell_type": "code",
   "execution_count": null,
   "id": "historic-hello",
   "metadata": {
    "scrolled": true
   },
   "outputs": [],
   "source": [
    "#list of (int, float) – Topic distribution for the whole document. Each element in the list is a pair of a topic’s id, and the probability that was assigned to it.\n",
    "#list of (int, list of (int, float), optional – Most probable topics per word. Each element in the list is a pair of a word’s id, and a list of topics sorted by their relevance to this word. Only returned if per_word_topics was set to True.\n",
    "#list of (int, list of float), optional – Phi relevance values, multiplied by the feature length, for each word-topic combination. Each element in the list is a pair of a word’s id and a list of the phi values between this word and each topic. Only returned if per_word_topics was set to True.\n",
    "#document_relevant_topics = lda_final.get_document_topics(train_corpus, minimum_probability=0.15, minimum_phi_value=None, per_word_topics=False)"
   ]
  },
  {
   "cell_type": "code",
   "execution_count": null,
   "id": "polish-buddy",
   "metadata": {},
   "outputs": [],
   "source": [
    "#list of (int, float) – Topic distribution for the whole document\n",
    "#document_relevant_topics[0]"
   ]
  },
  {
   "cell_type": "markdown",
   "id": "metropolitan-collectible",
   "metadata": {},
   "source": [
    "## Topicos relevates de una palabra clave"
   ]
  },
  {
   "cell_type": "code",
   "execution_count": 12,
   "id": "continental-consistency",
   "metadata": {},
   "outputs": [],
   "source": [
    "key_word = 'protein'"
   ]
  },
  {
   "cell_type": "code",
   "execution_count": 13,
   "id": "entitled-hepatitis",
   "metadata": {},
   "outputs": [],
   "source": [
    "word_relevant_topics = lda_final.get_term_topics(key_word)"
   ]
  },
  {
   "cell_type": "code",
   "execution_count": 14,
   "id": "warming-title",
   "metadata": {},
   "outputs": [
    {
     "data": {
      "text/plain": [
       "[(0, 6.779747e-05),\n",
       " (1, 7.0995493e-06),\n",
       " (2, 7.4333348e-06),\n",
       " (3, 5.481983e-05),\n",
       " (4, 2.4380732e-05),\n",
       " (5, 0.009082628),\n",
       " (6, 0.0026071137),\n",
       " (7, 0.0039106426),\n",
       " (8, 0.000111893896),\n",
       " (9, 2.5106892e-05),\n",
       " (10, 0.00185006),\n",
       " (11, 0.0004978161)]"
      ]
     },
     "execution_count": 14,
     "metadata": {},
     "output_type": "execute_result"
    }
   ],
   "source": [
    "word_relevant_topics"
   ]
  },
  {
   "cell_type": "markdown",
   "id": "boring-craft",
   "metadata": {},
   "source": [
    "### train"
   ]
  },
  {
   "cell_type": "code",
   "execution_count": 15,
   "id": "sorted-judges",
   "metadata": {
    "scrolled": false
   },
   "outputs": [
    {
     "data": {
      "text/plain": [
       "557    0.999646\n",
       "67     0.999606\n",
       "556    0.999599\n",
       "185    0.999417\n",
       "428    0.998467\n",
       "817    0.997559\n",
       "473    0.996670\n",
       "708    0.991841\n",
       "487    0.991748\n",
       "679    0.991134\n",
       "360    0.991112\n",
       "355    0.974538\n",
       "531    0.974232\n",
       "876    0.970290\n",
       "401    0.969248\n",
       "404    0.968289\n",
       "160    0.964802\n",
       "864    0.962660\n",
       "380    0.961489\n",
       "517    0.960219\n",
       "Name: 3, dtype: float64"
      ]
     },
     "execution_count": 15,
     "metadata": {},
     "output_type": "execute_result"
    }
   ],
   "source": [
    "# Which document are about topic 3 corpus entrenado\n",
    "document_topic_matrix.sort_values(3, ascending=False)[3].head(20)\n",
    "#print(document_topic.sort_values.__doc__)"
   ]
  },
  {
   "cell_type": "code",
   "execution_count": 16,
   "id": "future-czech",
   "metadata": {},
   "outputs": [
    {
     "name": "stdout",
     "output_type": "stream",
     "text": [
      "Dynamics of Simultaneous and Imitative Bodily Coordination in Trust and Distrust.pdf\n"
     ]
    }
   ],
   "source": [
    "print(train_data_.document_title.loc[428])"
   ]
  },
  {
   "cell_type": "markdown",
   "id": "technical-distance",
   "metadata": {},
   "source": [
    "### test"
   ]
  },
  {
   "cell_type": "code",
   "execution_count": 17,
   "id": "fresh-banks",
   "metadata": {},
   "outputs": [
    {
     "data": {
      "text/plain": [
       "557    0.999646\n",
       "67     0.999606\n",
       "556    0.999599\n",
       "185    0.999417\n",
       "428    0.998467\n",
       "817    0.997559\n",
       "473    0.996670\n",
       "708    0.991841\n",
       "487    0.991748\n",
       "679    0.991134\n",
       "360    0.991112\n",
       "355    0.974538\n",
       "531    0.974232\n",
       "876    0.970290\n",
       "401    0.969248\n",
       "404    0.968289\n",
       "160    0.964802\n",
       "864    0.962660\n",
       "380    0.961489\n",
       "517    0.960219\n",
       "Name: 3, dtype: float64"
      ]
     },
     "execution_count": 17,
     "metadata": {},
     "output_type": "execute_result"
    }
   ],
   "source": [
    "document_topic_matrix.sort_values(3, ascending=False)[3].head(20)"
   ]
  },
  {
   "cell_type": "code",
   "execution_count": 18,
   "id": "grateful-bones",
   "metadata": {},
   "outputs": [
    {
     "name": "stdout",
     "output_type": "stream",
     "text": [
      "Stability to localized viscoelastic transmission problem.pdf\n"
     ]
    }
   ],
   "source": [
    "print(test_data_.document_title.loc[80])"
   ]
  },
  {
   "cell_type": "code",
   "execution_count": null,
   "id": "copyrighted-inclusion",
   "metadata": {},
   "outputs": [],
   "source": []
  }
 ],
 "metadata": {
  "kernelspec": {
   "display_name": "Python 3",
   "language": "python",
   "name": "python3"
  },
  "language_info": {
   "codemirror_mode": {
    "name": "ipython",
    "version": 3
   },
   "file_extension": ".py",
   "mimetype": "text/x-python",
   "name": "python",
   "nbconvert_exporter": "python",
   "pygments_lexer": "ipython3",
   "version": "3.7.10"
  }
 },
 "nbformat": 4,
 "nbformat_minor": 5
}
