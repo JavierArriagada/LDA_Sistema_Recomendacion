{
 "cells": [
  {
   "cell_type": "code",
   "execution_count": null,
   "id": "favorite-recovery",
   "metadata": {},
   "outputs": [],
   "source": [
    "path = \"../Modelo/Final\"\n",
    "   \n",
    "ruta_modelo = path + \"/LDA-Model\""
   ]
  },
  {
   "cell_type": "code",
   "execution_count": null,
   "id": "refined-antibody",
   "metadata": {
    "scrolled": true
   },
   "outputs": [],
   "source": [
    "from pycaret.nlp import *\n",
    "\n",
    "lda_final = load_model(ruta_modelo)\n",
    "num_topics = len(lda_final.get_topics())\n",
    "\n",
    "import pandas as pd\n",
    "import pickle\n",
    "\n",
    "\n",
    "train_data_dir = path + \"/train_data_.sav\"\n",
    "train_tokenized_words_dir = path + \"/train_tokenized_words.sav\"\n",
    "train_corpus_dir = path + \"/train_corpus.sav\"\n",
    "train_id2word_dir = path + \"/train_id2word.sav\"\n",
    "\n",
    "\n",
    "test_data_dir = path + \"/test/test_data_.sav\"\n",
    "test_tokenized_words_dir = path + \"/test/test_tokenized_words.sav\"\n",
    "test_corpus_dir = path + \"/test/test_corpus.sav\"\n",
    "test_id2word_dir = path + \"/test/test_id2word.sav\"\n",
    "\n",
    "\n",
    "lda_train_results_dir = path + \"/lda_train_results.df\"\n",
    "lda_test_results_dir = path + \"/test/lda_test_results.df\"\n",
    "\n",
    "\n",
    "train_data_ = pickle.load(open(train_data_dir, 'rb'))\n",
    "train_tokenized_words = pickle.load(open(train_tokenized_words_dir, 'rb'))                                \n",
    "train_corpus = pickle.load(open(train_corpus_dir, 'rb'))\n",
    "train_id2word = pickle.load(open(train_id2word_dir, 'rb')) #Diccionario gensin\n",
    "\n",
    "test_data_ = pickle.load(open(test_data_dir, 'rb'))\n",
    "test_tokenized_words = pickle.load(open(test_tokenized_words_dir, 'rb'))                                \n",
    "test_corpus = pickle.load(open(test_corpus_dir, 'rb'))\n",
    "test_id2word = pickle.load(open(test_id2word_dir, 'rb')) #Diccionario gensin\n",
    "\n",
    "lda_train_results = pickle.load(open(lda_train_results_dir, 'rb'))\n",
    "lda_test_results = pickle.load(open(lda_test_results_dir, 'rb'))\n",
    "\n",
    "\n",
    "\n",
    "document_topic_matrix_dir = path + \"/document_topic_matrix.sav\"\n",
    "topic_word_matrix_dir = path + \"/topic_word_matrix.sav\"\n",
    "\n",
    "document_topic_matrix = pickle.load(open(document_topic_matrix_dir, 'rb'))\n",
    "topic_word_matrix = pickle.load(open(topic_word_matrix_dir, 'rb'))"
   ]
  },
  {
   "cell_type": "code",
   "execution_count": null,
   "id": "welcome-convert",
   "metadata": {},
   "outputs": [],
   "source": [
    "#lda_train_results"
   ]
  },
  {
   "cell_type": "code",
   "execution_count": null,
   "id": "level-exception",
   "metadata": {},
   "outputs": [],
   "source": [
    "#lda_test_results"
   ]
  },
  {
   "cell_type": "code",
   "execution_count": null,
   "id": "regulation-transmission",
   "metadata": {},
   "outputs": [],
   "source": [
    "#top_palabras = lda_final.get_topic_terms(13, topn=10)\n",
    "#top_palabras"
   ]
  },
  {
   "cell_type": "code",
   "execution_count": null,
   "id": "controlled-korean",
   "metadata": {},
   "outputs": [],
   "source": [
    "#test_tokenized_words[0]"
   ]
  },
  {
   "cell_type": "code",
   "execution_count": null,
   "id": "taken-freight",
   "metadata": {
    "scrolled": true
   },
   "outputs": [],
   "source": [
    "#train_corpus[0]"
   ]
  },
  {
   "cell_type": "code",
   "execution_count": null,
   "id": "angry-native",
   "metadata": {},
   "outputs": [],
   "source": [
    "#train_id2word[55561]"
   ]
  },
  {
   "cell_type": "markdown",
   "id": "sensitive-handy",
   "metadata": {},
   "source": [
    "## Top documentos pertenecientes a topico x"
   ]
  },
  {
   "cell_type": "code",
   "execution_count": null,
   "id": "tough-permission",
   "metadata": {},
   "outputs": [],
   "source": [
    "lda_train_results.sort_values('Topic_3', ascending=False)['Topic_3'].head(20)"
   ]
  },
  {
   "cell_type": "code",
   "execution_count": null,
   "id": "atlantic-saudi",
   "metadata": {},
   "outputs": [],
   "source": [
    "print(lda_train_results.iloc[214])"
   ]
  },
  {
   "cell_type": "code",
   "execution_count": null,
   "id": "informational-welding",
   "metadata": {},
   "outputs": [],
   "source": [
    "print(lda_train_results.loc[214]['Topic_3'])"
   ]
  },
  {
   "cell_type": "code",
   "execution_count": null,
   "id": "special-float",
   "metadata": {},
   "outputs": [],
   "source": [
    "print(train_data_.document_title.iloc[214])"
   ]
  },
  {
   "cell_type": "markdown",
   "id": "timely-potential",
   "metadata": {},
   "source": [
    "## ouput lda model Topics"
   ]
  },
  {
   "cell_type": "code",
   "execution_count": null,
   "id": "narrow-dylan",
   "metadata": {},
   "outputs": [],
   "source": [
    "topics = lda_final.show_topics(formatted=True, num_topics=num_topics, num_words=15)"
   ]
  },
  {
   "cell_type": "code",
   "execution_count": null,
   "id": "orange-ceiling",
   "metadata": {},
   "outputs": [],
   "source": [
    "topics[0][1]"
   ]
  },
  {
   "cell_type": "markdown",
   "id": "changing-guidance",
   "metadata": {},
   "source": [
    "# Top 3 topicos para nuevo documento"
   ]
  },
  {
   "cell_type": "code",
   "execution_count": null,
   "id": "legitimate-restaurant",
   "metadata": {},
   "outputs": [],
   "source": [
    "#input_text = 'topic model lda lsa'\n",
    "\n",
    "input_text = test_data_.text.iloc[0]"
   ]
  },
  {
   "cell_type": "code",
   "execution_count": null,
   "id": "logical-maine",
   "metadata": {},
   "outputs": [],
   "source": [
    "from nltk.tokenize import word_tokenize\n",
    "\n",
    "tokens = word_tokenize(input_text)\n",
    "\n",
    "topics = lda_final.show_topics(formatted=True, num_topics=num_topics, num_words=15)\n",
    "\n",
    "predict_result = pd.DataFrame([(el[0], round(el[1],3), topics[el[0]][1]) for el in lda_final[train_id2word.doc2bow(tokens)]], columns=['topic #', 'weight', 'words in topic'])"
   ]
  },
  {
   "cell_type": "code",
   "execution_count": null,
   "id": "initial-sullivan",
   "metadata": {},
   "outputs": [],
   "source": [
    "#top 3 topicos relacionados al input\n",
    "predict_result.nlargest(3,['weight'])"
   ]
  },
  {
   "cell_type": "code",
   "execution_count": null,
   "id": "historic-hello",
   "metadata": {
    "scrolled": true
   },
   "outputs": [],
   "source": [
    "#list of (int, float) – Topic distribution for the whole document. Each element in the list is a pair of a topic’s id, and the probability that was assigned to it.\n",
    "#list of (int, list of (int, float), optional – Most probable topics per word. Each element in the list is a pair of a word’s id, and a list of topics sorted by their relevance to this word. Only returned if per_word_topics was set to True.\n",
    "#list of (int, list of float), optional – Phi relevance values, multiplied by the feature length, for each word-topic combination. Each element in the list is a pair of a word’s id and a list of the phi values between this word and each topic. Only returned if per_word_topics was set to True.\n",
    "#document_relevant_topics = lda_final.get_document_topics(train_corpus, minimum_probability=0.15, minimum_phi_value=None, per_word_topics=False)"
   ]
  },
  {
   "cell_type": "code",
   "execution_count": null,
   "id": "polish-buddy",
   "metadata": {},
   "outputs": [],
   "source": [
    "#list of (int, float) – Topic distribution for the whole document\n",
    "#document_relevant_topics[0]"
   ]
  },
  {
   "cell_type": "markdown",
   "id": "metropolitan-collectible",
   "metadata": {},
   "source": [
    "## Topicos relevates de una palabra clave"
   ]
  },
  {
   "cell_type": "code",
   "execution_count": null,
   "id": "continental-consistency",
   "metadata": {},
   "outputs": [],
   "source": [
    "key_word = 'protein'"
   ]
  },
  {
   "cell_type": "code",
   "execution_count": null,
   "id": "entitled-hepatitis",
   "metadata": {},
   "outputs": [],
   "source": [
    "word_relevant_topics = lda_final.get_term_topics(key_word)"
   ]
  },
  {
   "cell_type": "code",
   "execution_count": null,
   "id": "warming-title",
   "metadata": {},
   "outputs": [],
   "source": [
    "word_relevant_topics"
   ]
  },
  {
   "cell_type": "markdown",
   "id": "boring-craft",
   "metadata": {},
   "source": [
    "### train"
   ]
  },
  {
   "cell_type": "code",
   "execution_count": null,
   "id": "sorted-judges",
   "metadata": {
    "scrolled": false
   },
   "outputs": [],
   "source": [
    "# Which document are about topic 3 corpus entrenado\n",
    "document_topic_matrix.sort_values(3, ascending=False)[3].head(20)\n",
    "#print(document_topic.sort_values.__doc__)"
   ]
  },
  {
   "cell_type": "code",
   "execution_count": null,
   "id": "future-czech",
   "metadata": {},
   "outputs": [],
   "source": [
    "print(train_data_.document_title.loc[428])"
   ]
  },
  {
   "cell_type": "markdown",
   "id": "technical-distance",
   "metadata": {},
   "source": [
    "### test"
   ]
  },
  {
   "cell_type": "code",
   "execution_count": null,
   "id": "fresh-banks",
   "metadata": {},
   "outputs": [],
   "source": [
    "document_topic_matrix.sort_values(3, ascending=False)[3].head(20)"
   ]
  },
  {
   "cell_type": "code",
   "execution_count": null,
   "id": "grateful-bones",
   "metadata": {},
   "outputs": [],
   "source": [
    "print(test_data_.document_title.loc[80])"
   ]
  },
  {
   "cell_type": "code",
   "execution_count": null,
   "id": "relevant-climb",
   "metadata": {},
   "outputs": [],
   "source": []
  }
 ],
 "metadata": {
  "kernelspec": {
   "display_name": "Python 3",
   "language": "python",
   "name": "python3"
  },
  "language_info": {
   "codemirror_mode": {
    "name": "ipython",
    "version": 3
   },
   "file_extension": ".py",
   "mimetype": "text/x-python",
   "name": "python",
   "nbconvert_exporter": "python",
   "pygments_lexer": "ipython3",
   "version": "3.7.10"
  }
 },
 "nbformat": 4,
 "nbformat_minor": 5
}
