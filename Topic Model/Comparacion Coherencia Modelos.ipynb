{
 "cells": [
  {
   "cell_type": "code",
   "execution_count": 2,
   "metadata": {},
   "outputs": [
    {
     "name": "stdout",
     "output_type": "stream",
     "text": [
      "Model Sucessfully Loaded\n",
      "Model Sucessfully Loaded\n",
      "Model Sucessfully Loaded\n",
      "Model Sucessfully Loaded\n"
     ]
    }
   ],
   "source": [
    "from pycaret.nlp import *\n",
    "import cargar_corpus\n",
    "import pickle\n",
    "import pandas as pd\n",
    "from pprint import pprint\n",
    "\n",
    "\n",
    "id = 70521\n",
    "\n",
    "import os\n",
    "# define the name of the directory to be created\n",
    "path_LDA = \"../Experimentos Modelos/LDA/exp-\"+ str(id) + \"/\"\n",
    "path_HDP = \"../Experimentos Modelos/HDP/exp-\"+ str(id) + \"/\"\n",
    "path_LSI = \"../Experimentos Modelos/LSI/exp-\"+ str(id) + \"/\"\n",
    "path_NMF = \"../Experimentos Modelos/NMF/exp-\"+ str(id) + \"/\"\n",
    "\n",
    "ruta_modelo_LDA = path_LDA + \"LDA-Model\"\n",
    "ruta_modelo_HDP = path_HDP + \"HDP-Model\"\n",
    "ruta_modelo_LSI = path_LSI + \"LSI-Model\"\n",
    "ruta_modelo_NMF = path_NMF + \"NMF-Model\"\n",
    "\n",
    "train_data_dir = path_LDA + \"/train_data_.sav\"\n",
    "train_tokenized_words_dir = path_LDA + \"/train_tokenized_words.sav\"\n",
    "train_corpus_dir = path_LDA + \"/train_corpus.sav\"\n",
    "train_id2word_dir = path_LDA + \"/train_id2word.sav\"\n",
    "\n",
    "data_ = pickle.load(open(train_data_dir, 'rb'))\n",
    "tokenized_words = pickle.load(open(train_tokenized_words_dir, 'rb'))                                \n",
    "corpus = pickle.load(open(train_corpus_dir, 'rb'))\n",
    "id2word = pickle.load(open(train_id2word_dir, 'rb')) #Diccionario gensin\n",
    "\n",
    "\n",
    "lda = load_model(ruta_modelo_LDA)\n",
    "hdp = load_model(ruta_modelo_HDP)\n",
    "lsi = load_model(ruta_modelo_LSI)\n",
    "nmf = load_model(ruta_modelo_NMF)\n",
    "\n",
    "\n",
    "document_topic_matrix_dir = path_LDA + \"/document_topic_matrix.sav\"\n",
    "topic_word_matrix_dir = path_LDA + \"/topic_word_matrix.sav\"\n",
    "\n",
    "document_topic_matrix = pickle.load(open(document_topic_matrix_dir, 'rb'))\n",
    "topic_word_matrix = pickle.load(open(topic_word_matrix_dir, 'rb'))\n",
    "\n",
    "#Cargar DF de pdf's\n",
    "\n",
    "path_exp = \"../Modelo Final/dataset/\"\n",
    "data_train_dir = path_exp + \"data_train.df\"\n",
    "data_test_dir = path_exp + \"data_test.df\"\n",
    "\n",
    "data = pickle.load(open(data_train_dir, 'rb'))\n",
    "data_unseen = pickle.load(open(data_test_dir, 'rb'))"
   ]
  },
  {
   "cell_type": "code",
   "execution_count": 3,
   "metadata": {},
   "outputs": [],
   "source": [
    "ldatopics = lda.show_topics(formatted=False)\n",
    "hdptopics = hdp.show_topics(formatted=False)\n",
    "lsitopics = lsi.show_topics(formatted=False)\n",
    "#nmftopics = nmf.show_topics(formatted=False)"
   ]
  },
  {
   "cell_type": "code",
   "execution_count": 4,
   "metadata": {},
   "outputs": [],
   "source": [
    "def evaluate_graph(dictionary, corpus, texts, limit):\n",
    "    \"\"\"\n",
    "    Function to display num_topics - LDA graph using c_v coherence\n",
    "    \n",
    "    Parameters:\n",
    "    ----------\n",
    "    dictionary : Gensim dictionary\n",
    "    corpus : Gensim corpus\n",
    "    limit : topic limit\n",
    "    \n",
    "    Returns:\n",
    "    -------\n",
    "    lm_list : List of LDA topic models\n",
    "    c_v : Coherence values corresponding to the LDA model with respective number of topics\n",
    "    \"\"\"\n",
    "    c_v = []\n",
    "    lm_list = []\n",
    "    for num_topics in range(2, limit, 2):\n",
    "        lm = LdaModel(corpus=corpus, num_topics=num_topics, id2word=dictionary)\n",
    "        lm_list.append(lm)\n",
    "        cm = CoherenceModel(model=lm, texts=texts, dictionary=dictionary, coherence='c_v', multi_core = True)\n",
    "        c_v.append(cm.get_coherence())\n",
    "        \n",
    "    # Show graph\n",
    "    x = range(2, limit, 2)\n",
    "    plt.plot(x, c_v)\n",
    "    plt.xlabel(\"num_topics\")\n",
    "    plt.ylabel(\"Coherence score\")\n",
    "    plt.legend((\"c_v\"), loc='best')\n",
    "    plt.show()\n",
    "    \n",
    "    return lm_list, c_v"
   ]
  },
  {
   "cell_type": "markdown",
   "metadata": {},
   "source": [
    "# Evaluating all the topic models\n",
    "Any topic model which can come up with topic terms can be plugged into the coherence pipeline. You can even plug in an NMF topic model created with scikit-learn."
   ]
  },
  {
   "cell_type": "code",
   "execution_count": 5,
   "metadata": {},
   "outputs": [],
   "source": [
    "lsitopics = [[word for word, prob in topic] for topicid, topic in lsitopics]\n",
    "\n",
    "hdptopics = [[word for word, prob in topic] for topicid, topic in hdptopics]\n",
    "\n",
    "ldatopics = [[word for word, prob in topic] for topicid, topic in ldatopics]"
   ]
  },
  {
   "cell_type": "code",
   "execution_count": 6,
   "metadata": {},
   "outputs": [],
   "source": [
    "from gensim.models import CoherenceModel, LdaModel, LsiModel, HdpModel\n",
    "from gensim.models.wrappers import LdaMallet\n",
    "from gensim.corpora import Dictionary\n",
    "from pprint import pprint\n",
    "\n",
    "lsi_coherence = CoherenceModel(topics=lsitopics[:10], texts=tokenized_words, dictionary=id2word, window_size=10).get_coherence()\n",
    "\n",
    "hdp_coherence = CoherenceModel(topics=hdptopics[:10], texts=tokenized_words, dictionary=id2word, window_size=10).get_coherence()\n",
    "\n",
    "lda_coherence = CoherenceModel(topics=ldatopics, texts=tokenized_words, dictionary=id2word, window_size=10).get_coherence()"
   ]
  },
  {
   "cell_type": "code",
   "execution_count": 7,
   "metadata": {},
   "outputs": [],
   "source": [
    "def evaluate_bar_graph(coherences, indices):\n",
    "    \"\"\"\n",
    "    Function to plot bar graph.\n",
    "    \n",
    "    coherences: list of coherence values\n",
    "    indices: Indices to be used to mark bars. Length of this and coherences should be equal.\n",
    "    \"\"\"\n",
    "    assert len(coherences) == len(indices)\n",
    "    n = len(coherences)\n",
    "    x = np.arange(n)\n",
    "    plt.bar(x, coherences, width=0.2, tick_label=indices, align='center')\n",
    "    plt.xlabel('Models')\n",
    "    plt.ylabel('Coherence Value')"
   ]
  },
  {
   "cell_type": "code",
   "execution_count": 8,
   "metadata": {},
   "outputs": [
    {
     "data": {
      "image/png": "[encoded data removed]",
      "text/plain": [
       "<Figure size 432x288 with 1 Axes>"
      ]
     },
     "metadata": {
      "needs_background": "light"
     },
     "output_type": "display_data"
    }
   ],
   "source": [
    "import matplotlib.pyplot as plt\n",
    "import numpy as np\n",
    "evaluate_bar_graph([lsi_coherence, hdp_coherence, lda_coherence],\n",
    "                   ['LSI', 'HDP', 'LDA'])"
   ]
  },
  {
   "cell_type": "markdown",
   "metadata": {},
   "source": [
    "LDA"
   ]
  },
  {
   "cell_type": "code",
   "execution_count": 9,
   "metadata": {},
   "outputs": [],
   "source": [
    "topn = 20\n",
    "u_mass_coherence = lda.top_topics(corpus=corpus, texts=tokenized_words, dictionary=id2word, window_size=None, coherence='u_mass', topn=topn, processes=- 1)\n",
    "\n",
    "c_v_coherence = lda.top_topics(corpus=corpus, texts=tokenized_words, dictionary=id2word, window_size=None, coherence='c_v', topn=topn, processes=- 1)\n",
    "\n",
    "c_uci_coherence = lda.top_topics(corpus=corpus, texts=tokenized_words, dictionary=id2word, window_size=None, coherence='c_uci', topn=topn, processes=- 1)\n",
    "\n",
    "c_npmi_coherence = lda.top_topics(corpus=corpus, texts=tokenized_words, dictionary=id2word, window_size=None, coherence='c_npmi', topn=topn, processes=- 1)"
   ]
  },
  {
   "cell_type": "code",
   "execution_count": 35,
   "metadata": {},
   "outputs": [],
   "source": [
    "#u_mass_coherence"
   ]
  },
  {
   "cell_type": "code",
   "execution_count": 28,
   "metadata": {},
   "outputs": [],
   "source": [
    "#u_mass_coherence[0][0]"
   ]
  },
  {
   "cell_type": "markdown",
   "metadata": {},
   "source": [
    "# u_mass_coherence"
   ]
  },
  {
   "cell_type": "code",
   "execution_count": 33,
   "metadata": {},
   "outputs": [],
   "source": [
    "u_mass_c = 0\n",
    "\n",
    "for u_mass in u_mass_coherence:\n",
    "    u_mass_c = u_mass_c + u_mass[1]\n",
    "\n",
    "u_mass_c = u_mass_c/14"
   ]
  },
  {
   "cell_type": "code",
   "execution_count": 34,
   "metadata": {},
   "outputs": [
    {
     "data": {
      "text/plain": [
       "-0.7890940276619045"
      ]
     },
     "execution_count": 34,
     "metadata": {},
     "output_type": "execute_result"
    }
   ],
   "source": [
    "u_mass_c"
   ]
  },
  {
   "cell_type": "markdown",
   "metadata": {},
   "source": [
    "# c_v_coherence"
   ]
  },
  {
   "cell_type": "code",
   "execution_count": 36,
   "metadata": {},
   "outputs": [],
   "source": [
    "c_v_c = 0\n",
    "\n",
    "for c_v in c_v_coherence:\n",
    "    c_v_c = c_v_c + c_v[1]\n",
    "\n",
    "c_v_c = c_v_c/14"
   ]
  },
  {
   "cell_type": "code",
   "execution_count": 37,
   "metadata": {},
   "outputs": [
    {
     "data": {
      "text/plain": [
       "0.4955622127265316"
      ]
     },
     "execution_count": 37,
     "metadata": {},
     "output_type": "execute_result"
    }
   ],
   "source": [
    "c_v_c"
   ]
  },
  {
   "cell_type": "markdown",
   "metadata": {},
   "source": [
    "# c_uci_coherence"
   ]
  },
  {
   "cell_type": "code",
   "execution_count": 40,
   "metadata": {},
   "outputs": [],
   "source": [
    "c_uci_c = 0\n",
    "\n",
    "for c_uci in c_uci_coherence:\n",
    "    c_uci_c = c_uci_c + c_uci[1]\n",
    "\n",
    "c_uci_c = c_uci_c/14"
   ]
  },
  {
   "cell_type": "code",
   "execution_count": 41,
   "metadata": {},
   "outputs": [
    {
     "data": {
      "text/plain": [
       "0.2918043575116362"
      ]
     },
     "execution_count": 41,
     "metadata": {},
     "output_type": "execute_result"
    }
   ],
   "source": [
    "c_uci_c"
   ]
  },
  {
   "cell_type": "markdown",
   "metadata": {},
   "source": [
    "# c_npmi_coherence"
   ]
  },
  {
   "cell_type": "code",
   "execution_count": 44,
   "metadata": {},
   "outputs": [],
   "source": [
    "c_npmi_c = 0\n",
    "\n",
    "for c_npmi in c_npmi_coherence:\n",
    "    c_npmi_c = c_npmi_c + c_npmi[1]\n",
    "\n",
    "c_npmi_c = c_npmi_c/14"
   ]
  },
  {
   "cell_type": "code",
   "execution_count": 45,
   "metadata": {},
   "outputs": [
    {
     "data": {
      "text/plain": [
       "0.045235672186085554"
      ]
     },
     "execution_count": 45,
     "metadata": {},
     "output_type": "execute_result"
    }
   ],
   "source": [
    "c_npmi_c"
   ]
  },
  {
   "cell_type": "code",
   "execution_count": 38,
   "metadata": {},
   "outputs": [],
   "source": [
    "#c_uci_coherence"
   ]
  },
  {
   "cell_type": "code",
   "execution_count": 39,
   "metadata": {},
   "outputs": [],
   "source": [
    "#c_npmi_coherence"
   ]
  },
  {
   "cell_type": "code",
   "execution_count": null,
   "metadata": {},
   "outputs": [],
   "source": []
  }
 ],
 "metadata": {
  "kernelspec": {
   "display_name": "Python 3",
   "language": "python",
   "name": "python3"
  },
  "language_info": {
   "codemirror_mode": {
    "name": "ipython",
    "version": 3
   },
   "file_extension": ".py",
   "mimetype": "text/x-python",
   "name": "python",
   "nbconvert_exporter": "python",
   "pygments_lexer": "ipython3",
   "version": "3.7.10"
  }
 },
 "nbformat": 4,
 "nbformat_minor": 2
}
