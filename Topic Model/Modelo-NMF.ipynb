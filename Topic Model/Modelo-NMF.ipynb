{
 "cells": [
  {
   "cell_type": "markdown",
   "id": "treated-offset",
   "metadata": {},
   "source": [
    "# Evaluacion Modelo NMF"
   ]
  },
  {
   "cell_type": "code",
   "execution_count": 1,
   "id": "illegal-stuff",
   "metadata": {},
   "outputs": [
    {
     "name": "stdout",
     "output_type": "stream",
     "text": [
      "Successfully created the directory ../Experimentos Modelos/NMF/exp-70521/ \n"
     ]
    }
   ],
   "source": [
    "from pycaret.nlp import *\n",
    "import cargar_corpus\n",
    "import pickle\n",
    "import pandas as pd\n",
    "\n",
    "session_id = 70521\n",
    "random_state = session_id\n",
    "\n",
    "import os\n",
    "# define the name of the directory to be created\n",
    "path = \"../Experimentos Modelos/NMF/\" + \"exp-\" + str(session_id) +\"/\"\n",
    "\n",
    "try:\n",
    "    os.mkdir(path)\n",
    "except OSError:\n",
    "    print (\"Creation of the directory %s failed\" % path)\n",
    "else:\n",
    "    print (\"Successfully created the directory %s \" % path)\n",
    "    \n",
    "\n",
    "#ruta_dataset = \"../Dataset/PDF\"\n",
    "#ruta_dataset = \"F:/Memoria/Dataset/PDF\"\n",
    "\n",
    "ruta_modelo = path + \"NMF-Model\"\n",
    "\n",
    "#dataframe = cargar_corpus.getDataframe_pdf(ruta_dataset)\n",
    "#data = dataframe\n",
    "#sample = int(dataframe.shape[0]*.8)\n",
    "#data = dataframe.sample(sample, random_state=random_state).reset_index(drop=True)\n",
    "#data_unseen = dataframe.drop(data.index).reset_index(drop=True)\n",
    "\n",
    "#Cargar DF de pdf's\n",
    "\n",
    "path_exp = \"../Modelo Final/dataset/\"\n",
    "data_train_dir = path_exp + \"data_train.df\"\n",
    "data_test_dir = path_exp + \"data_test.df\"\n",
    "\n",
    "data = pickle.load(open(data_train_dir, 'rb'))\n",
    "data_unseen = pickle.load(open(data_test_dir, 'rb'))"
   ]
  },
  {
   "cell_type": "code",
   "execution_count": 2,
   "id": "imperial-excitement",
   "metadata": {},
   "outputs": [],
   "source": [
    "custom_stopwords = ['use', 'fig', 'figure' , 'value', 'www', 'org', 'also', 'model', 'ch', 'er_al', 'research', 'researchgate_net', 'year', \n",
    "                    'upwelle','however', 'ca','slr','area','sir','reference','page','may','table','show','study',\n",
    "                    'therefore','thus','may','term','low','sample','result','test','author','prepare','report','que','set',\n",
    "                    'column','moreover','find','read','total','author_funder_granted_biorxiv','holder_preprint_peer_reviewe',\n",
    "                    'licence_display_preprint_perpetuity','rights_reserved_reuse_allowe','biorxiv_preprint_first_poste',\n",
    "                    'content_courtesy_springer_nature','terms_apply_rights_reserve','university_chicago_press','conditions_http_journal',\n",
    "                    'content_downloaded_march_subject','reviews_aquaculture_author','reviews_aquaculture_published_john','publication',\n",
    "                    'time','funder_granted_biorxiv_license','display_preprint_perpetuity_right','authors_publication_working_relate',\n",
    "                    'reserved_reuse_allowed_without',\n",
    "                    'user_requested_enhancement_downloaded','view_project_content_followe','upload','international_license_permit',\n",
    "                    'sharing_adaptation_distribution_reproduction','claims_published_maps_institutional',\n",
    "                    'creative_commons_license','intended_permitted_statutory_regulation','exceeds_permitted_need','open_acces_article_license',\n",
    "                    'creative_commons_attribution','international_license_permit','copyright_holder_view','preprints_preprints_peer_reviewe',\n",
    "                    'preprint','posted_june_doi','university_concepcion_publications_citation','deem',\n",
    "                    'publications_citations_publications_citation','authors_working_related_projects','synthesis','introduction','owe',\n",
    "                    'scientific','average','september_user_requeste','source','type','old','field','single','day',\n",
    "                    'https_researchgate_net','victor_roberto_parra_sanchez','university_concepcion','universidad','related_project',\n",
    "                    'view_project','january_user_requested','profile','student', 'manuel', 'professor_department','dynamic', 'calculation',\n",
    "                    'general', 'context', 'valid', 'experimental','eq','email','citations_reads_authors_include',         \n",
    "                    \n",
    "                    \n",
    "                    'article', 'technology', 'citations_reads_authors_include', 'university_concepcion_publications_citation', \n",
    "                    'katia_saez_university_concepcion','katia_saez_university_publication',\n",
    "                    'authors_working_related_project', 'view_project_content_following', 'puerto', 'file', 'registered_office_mortimer_house',\n",
    "                    'wt', 'environmental', 'detail', 'include', 'instruction', 'authors_subscription', 'information', 'doi_citations_read',\n",
    "                    'authors_include',\n",
    "                    'faculty', 'department','whatsoever_howsoever_cause', 'arising_directly_indirectly','access', 'found_http_tandfonline',\n",
    "                    'com', 'condition','received_august_accepte','concepcion','box', 'plot',\n",
    "                    \n",
    "                    'able', 'others','above-mentioned otherwise','accordingly', 'overall','across', 'rather','along', 'remarkably','already',\n",
    "                    'significantly', 'alternatively simply','always sometimes','among specifically','and','or', 'straight', 'forward','anything',\n",
    "                    'substantially', 'anywhere', 'thereafter','better', 'therebetween','disclosure', 'therefor','due','therefrom', 'easily', 'therein', 'easy',\n",
    "                    'thereinto+','eg', 'thereon', 'either', 'therethrough','university','whatsoever','distribution_form_anyone',\n",
    "                    'expressly_forbidden','follow', 'additionally', 'analysis','distribution',\n",
    "                    'elsewhere', 'therewith','enough','together','especially', 'toward',  'essentially', 'towards','et al','typical', 'etc', 'typically',\n",
    "                    'eventually', 'upon', 'excellent', 'via', 'finally', 'vice versa',\n",
    "                    'furthermore', 'whatever','good', 'whereas','hence', 'whereat','he','she', 'wherever','him','her', 'whether','his','her',\n",
    "                    'whose','ie', 'within', 'ii', 'without', 'iii', 'yet', 'instead', 'later', 'like', 'little', 'many', 'may', 'meanwhile',\n",
    "                    'might','moreover','much','must','never','often','line','phase','cycle',\n",
    "                    \n",
    "                    'increase', 'effect', 'induce', 'activity', 'estimate', 'high', 'unit', 'download', 'material', 'follow', 'example', 'level', \n",
    "                    'variable', 'see', 'present', 'citation', 'distribution', 'equation', 'document', 'paper', 'citation_recomendation', 'pag',\n",
    "                    'stre', 'non', 'enchufetv', 'solution', 'problem', 'method', 'function', 'case', 'consider', 'order', 'give', 'obtain', 'theorem',\n",
    "                    'define','process','system', 'section', 'numerical', 'first', 'second', 'error', 'base', 'element',\n",
    "                    'item', 'measurement','could', 'need', 'datum', 'image', 'let', 'assume', 'proof', 'denote', 'constant', 'unknown',\n",
    "\n",
    "                    'review', 'publish', 'copyright', 'abstract', 'factor', \n",
    "\n",
    "                    \n",
    "                    \n",
    "]"
   ]
  },
  {
   "cell_type": "code",
   "execution_count": 3,
   "id": "swiss-medline",
   "metadata": {},
   "outputs": [
    {
     "name": "stdout",
     "output_type": "stream",
     "text": [
      "Model Succesfully Saved\n"
     ]
    },
    {
     "data": {
      "text/plain": [
       "(NMF(alpha=0.0, beta_loss='frobenius', init='nndsvd', l1_ratio=0.0, max_iter=200,\n",
       "     n_components=14, random_state=70521, shuffle=False, solver='cd', tol=0.0001,\n",
       "     verbose=0),\n",
       " '../Experimentos Modelos/NMF/exp-70521/NMF-Model.pkl')"
      ]
     },
     "execution_count": 3,
     "metadata": {},
     "output_type": "execute_result"
    }
   ],
   "source": [
    "nmf_exp = setup(data = data, target = 'text', session_id = session_id, custom_stopwords = custom_stopwords)\n",
    "#custom_grid = [2,4,6,8,10,12,14,16,18,20,22,24,26,28]\n",
    "\n",
    "num_topics = 14\n",
    "\n",
    "nmf = create_model('nmf', num_topics = num_topics, multi_core = True)\n",
    "\n",
    "save_model(nmf, ruta_modelo)"
   ]
  },
  {
   "cell_type": "code",
   "execution_count": 4,
   "id": "charged-siemens",
   "metadata": {},
   "outputs": [],
   "source": [
    "train_data_ = get_config('data_') #pandas.DataFrame containing text after all processing\n",
    "train_tokenized_words = get_config('text') #Tokenized words as a list with length = # documents\n",
    "train_corpus = get_config('corpus') #List containing tuples of id to word mapping\n",
    "train_id2word = get_config('id2word')\n",
    "\n",
    "train_data_dir = path + \"train_data_.sav\"\n",
    "train_tokenized_words_dir = path + \"train_tokenized_words.sav\"\n",
    "train_corpus_dir = path + \"train_corpus.sav\"\n",
    "train_id2word_dir = path + \"train_id2word.sav\"\n",
    "\n",
    "pickle.dump(train_data_, open(train_data_dir, 'wb'))\n",
    "pickle.dump(train_tokenized_words, open(train_tokenized_words_dir, 'wb'))\n",
    "pickle.dump(train_corpus, open(train_corpus_dir, 'wb'))\n",
    "pickle.dump(train_id2word, open(train_id2word_dir, 'wb'))"
   ]
  },
  {
   "cell_type": "code",
   "execution_count": 5,
   "id": "skilled-syria",
   "metadata": {},
   "outputs": [],
   "source": [
    "from sklearn.feature_extraction.text import CountVectorizer, TfidfVectorizer\n",
    "\n",
    "\n",
    "vectorizer = TfidfVectorizer(analyzer='word',       \n",
    "                                min_df=10,                        # minimum read occurences of a word \n",
    "                                stop_words='english',             # remove stop words\n",
    "                               lowercase=True,                   # convert all words to lowercase\n",
    "                                token_pattern='[a-zA-Z0-9]{3,}',  # num chars > 3\n",
    "                                # max_features=50000,             # max number of uniq words\n",
    "                                )\n",
    "\n",
    "data_vectorized = vectorizer.fit_transform(train_data_.text)"
   ]
  },
  {
   "cell_type": "code",
   "execution_count": 6,
   "id": "different-sally",
   "metadata": {},
   "outputs": [],
   "source": [
    "X = nmf.fit_transform(data_vectorized)\n",
    "Y = nmf.components_"
   ]
  },
  {
   "cell_type": "code",
   "execution_count": 7,
   "id": "informative-structure",
   "metadata": {},
   "outputs": [],
   "source": [
    "document_topic_matrix = pd.DataFrame(X)\n",
    "topic_word_matrix = pd.DataFrame(Y)"
   ]
  },
  {
   "cell_type": "code",
   "execution_count": 8,
   "id": "exempt-geneva",
   "metadata": {},
   "outputs": [],
   "source": [
    "document_topic_matrix_dir = path + \"document_topic_matrix.sav\"\n",
    "pickle.dump(document_topic_matrix, open(document_topic_matrix_dir, 'wb'))\n",
    "\n",
    "topic_word_matrix_dir = path + \"topic_word_matrix.sav\"\n",
    "pickle.dump(topic_word_matrix, open(topic_word_matrix_dir, 'wb'))\n",
    "\n",
    "\n",
    "nmf_train_results = assign_model(nmf)\n",
    "nmf_train_results = nmf_train_results.drop(columns=['text'])\n",
    "nmf_train_results_dir = path + \"nmf_train_results.df\"\n",
    "pickle.dump(nmf_train_results, open(nmf_train_results_dir, 'wb'))"
   ]
  },
  {
   "cell_type": "code",
   "execution_count": 9,
   "id": "vanilla-harvard",
   "metadata": {},
   "outputs": [
    {
     "data": {
      "text/html": [
       "        <script type=\"text/javascript\">\n",
       "        window.PlotlyConfig = {MathJaxConfig: 'local'};\n",
       "        if (window.MathJax) {MathJax.Hub.Config({SVG: {font: \"STIX-Web\"}});}\n",
       "        if (typeof require !== 'undefined') {\n",
       "        require.undef(\"plotly\");\n",
       "        requirejs.config({\n",
       "            paths: {\n",
       "                'plotly': ['https://cdn.plot.ly/plotly-latest.min']\n",
       "            }\n",
       "        });\n",
       "        require(['plotly'], function(Plotly) {\n",
       "            window._Plotly = Plotly;\n",
       "        });\n",
       "        }\n",
       "        </script>\n",
       "        "
      ]
     },
     "metadata": {},
     "output_type": "display_data"
    },
    {
     "data": {
      "application/vnd.plotly.v1+json": {
       "config": {
        "plotlyServerURL": "https://plot.ly"
       },
       "data": [
        {
         "alignmentgroup": "True",
         "customdata": [
          [
           "N, A"
          ],
          [
           "N, A"
          ],
          [
           "N, A"
          ],
          [
           "N, A"
          ],
          [
           "N, A"
          ],
          [
           "N, A"
          ],
          [
           "N, A"
          ],
          [
           "N, A"
          ],
          [
           "N, A"
          ],
          [
           "N, A"
          ],
          [
           "N, A"
          ],
          [
           "N, A"
          ],
          [
           "N, A"
          ],
          [
           "N, A"
          ]
         ],
         "hovertemplate": "Topic=%{x}<br>Documents=%{y}<br>Keyword=%{customdata[0]}<extra></extra>",
         "legendgroup": "",
         "marker": {
          "color": "#636efa"
         },
         "name": "",
         "offsetgroup": "",
         "orientation": "v",
         "showlegend": false,
         "textposition": "auto",
         "type": "bar",
         "x": [
          "Topic 0",
          "Topic 1",
          "Topic 2",
          "Topic 3",
          "Topic 4",
          "Topic 5",
          "Topic 6",
          "Topic 7",
          "Topic 8",
          "Topic 9",
          "Topic 10",
          "Topic 11",
          "Topic 12",
          "Topic 13"
         ],
         "xaxis": "x",
         "y": [
          232,
          140,
          110,
          124,
          96,
          27,
          6,
          20,
          2,
          2,
          25,
          175,
          4,
          6
         ],
         "yaxis": "y"
        }
       ],
       "layout": {
        "barmode": "relative",
        "legend": {
         "tracegroupgap": 0
        },
        "template": {
         "data": {
          "bar": [
           {
            "error_x": {
             "color": "#2a3f5f"
            },
            "error_y": {
             "color": "#2a3f5f"
            },
            "marker": {
             "line": {
              "color": "#E5ECF6",
              "width": 0.5
             }
            },
            "type": "bar"
           }
          ],
          "barpolar": [
           {
            "marker": {
             "line": {
              "color": "#E5ECF6",
              "width": 0.5
             }
            },
            "type": "barpolar"
           }
          ],
          "carpet": [
           {
            "aaxis": {
             "endlinecolor": "#2a3f5f",
             "gridcolor": "white",
             "linecolor": "white",
             "minorgridcolor": "white",
             "startlinecolor": "#2a3f5f"
            },
            "baxis": {
             "endlinecolor": "#2a3f5f",
             "gridcolor": "white",
             "linecolor": "white",
             "minorgridcolor": "white",
             "startlinecolor": "#2a3f5f"
            },
            "type": "carpet"
           }
          ],
          "choropleth": [
           {
            "colorbar": {
             "outlinewidth": 0,
             "ticks": ""
            },
            "type": "choropleth"
           }
          ],
          "contour": [
           {
            "colorbar": {
             "outlinewidth": 0,
             "ticks": ""
            },
            "colorscale": [
             [
              0,
              "#0d0887"
             ],
             [
              0.1111111111111111,
              "#46039f"
             ],
             [
              0.2222222222222222,
              "#7201a8"
             ],
             [
              0.3333333333333333,
              "#9c179e"
             ],
             [
              0.4444444444444444,
              "#bd3786"
             ],
             [
              0.5555555555555556,
              "#d8576b"
             ],
             [
              0.6666666666666666,
              "#ed7953"
             ],
             [
              0.7777777777777778,
              "#fb9f3a"
             ],
             [
              0.8888888888888888,
              "#fdca26"
             ],
             [
              1,
              "#f0f921"
             ]
            ],
            "type": "contour"
           }
          ],
          "contourcarpet": [
           {
            "colorbar": {
             "outlinewidth": 0,
             "ticks": ""
            },
            "type": "contourcarpet"
           }
          ],
          "heatmap": [
           {
            "colorbar": {
             "outlinewidth": 0,
             "ticks": ""
            },
            "colorscale": [
             [
              0,
              "#0d0887"
             ],
             [
              0.1111111111111111,
              "#46039f"
             ],
             [
              0.2222222222222222,
              "#7201a8"
             ],
             [
              0.3333333333333333,
              "#9c179e"
             ],
             [
              0.4444444444444444,
              "#bd3786"
             ],
             [
              0.5555555555555556,
              "#d8576b"
             ],
             [
              0.6666666666666666,
              "#ed7953"
             ],
             [
              0.7777777777777778,
              "#fb9f3a"
             ],
             [
              0.8888888888888888,
              "#fdca26"
             ],
             [
              1,
              "#f0f921"
             ]
            ],
            "type": "heatmap"
           }
          ],
          "heatmapgl": [
           {
            "colorbar": {
             "outlinewidth": 0,
             "ticks": ""
            },
            "colorscale": [
             [
              0,
              "#0d0887"
             ],
             [
              0.1111111111111111,
              "#46039f"
             ],
             [
              0.2222222222222222,
              "#7201a8"
             ],
             [
              0.3333333333333333,
              "#9c179e"
             ],
             [
              0.4444444444444444,
              "#bd3786"
             ],
             [
              0.5555555555555556,
              "#d8576b"
             ],
             [
              0.6666666666666666,
              "#ed7953"
             ],
             [
              0.7777777777777778,
              "#fb9f3a"
             ],
             [
              0.8888888888888888,
              "#fdca26"
             ],
             [
              1,
              "#f0f921"
             ]
            ],
            "type": "heatmapgl"
           }
          ],
          "histogram": [
           {
            "marker": {
             "colorbar": {
              "outlinewidth": 0,
              "ticks": ""
             }
            },
            "type": "histogram"
           }
          ],
          "histogram2d": [
           {
            "colorbar": {
             "outlinewidth": 0,
             "ticks": ""
            },
            "colorscale": [
             [
              0,
              "#0d0887"
             ],
             [
              0.1111111111111111,
              "#46039f"
             ],
             [
              0.2222222222222222,
              "#7201a8"
             ],
             [
              0.3333333333333333,
              "#9c179e"
             ],
             [
              0.4444444444444444,
              "#bd3786"
             ],
             [
              0.5555555555555556,
              "#d8576b"
             ],
             [
              0.6666666666666666,
              "#ed7953"
             ],
             [
              0.7777777777777778,
              "#fb9f3a"
             ],
             [
              0.8888888888888888,
              "#fdca26"
             ],
             [
              1,
              "#f0f921"
             ]
            ],
            "type": "histogram2d"
           }
          ],
          "histogram2dcontour": [
           {
            "colorbar": {
             "outlinewidth": 0,
             "ticks": ""
            },
            "colorscale": [
             [
              0,
              "#0d0887"
             ],
             [
              0.1111111111111111,
              "#46039f"
             ],
             [
              0.2222222222222222,
              "#7201a8"
             ],
             [
              0.3333333333333333,
              "#9c179e"
             ],
             [
              0.4444444444444444,
              "#bd3786"
             ],
             [
              0.5555555555555556,
              "#d8576b"
             ],
             [
              0.6666666666666666,
              "#ed7953"
             ],
             [
              0.7777777777777778,
              "#fb9f3a"
             ],
             [
              0.8888888888888888,
              "#fdca26"
             ],
             [
              1,
              "#f0f921"
             ]
            ],
            "type": "histogram2dcontour"
           }
          ],
          "mesh3d": [
           {
            "colorbar": {
             "outlinewidth": 0,
             "ticks": ""
            },
            "type": "mesh3d"
           }
          ],
          "parcoords": [
           {
            "line": {
             "colorbar": {
              "outlinewidth": 0,
              "ticks": ""
             }
            },
            "type": "parcoords"
           }
          ],
          "pie": [
           {
            "automargin": true,
            "type": "pie"
           }
          ],
          "scatter": [
           {
            "marker": {
             "colorbar": {
              "outlinewidth": 0,
              "ticks": ""
             }
            },
            "type": "scatter"
           }
          ],
          "scatter3d": [
           {
            "line": {
             "colorbar": {
              "outlinewidth": 0,
              "ticks": ""
             }
            },
            "marker": {
             "colorbar": {
              "outlinewidth": 0,
              "ticks": ""
             }
            },
            "type": "scatter3d"
           }
          ],
          "scattercarpet": [
           {
            "marker": {
             "colorbar": {
              "outlinewidth": 0,
              "ticks": ""
             }
            },
            "type": "scattercarpet"
           }
          ],
          "scattergeo": [
           {
            "marker": {
             "colorbar": {
              "outlinewidth": 0,
              "ticks": ""
             }
            },
            "type": "scattergeo"
           }
          ],
          "scattergl": [
           {
            "marker": {
             "colorbar": {
              "outlinewidth": 0,
              "ticks": ""
             }
            },
            "type": "scattergl"
           }
          ],
          "scattermapbox": [
           {
            "marker": {
             "colorbar": {
              "outlinewidth": 0,
              "ticks": ""
             }
            },
            "type": "scattermapbox"
           }
          ],
          "scatterpolar": [
           {
            "marker": {
             "colorbar": {
              "outlinewidth": 0,
              "ticks": ""
             }
            },
            "type": "scatterpolar"
           }
          ],
          "scatterpolargl": [
           {
            "marker": {
             "colorbar": {
              "outlinewidth": 0,
              "ticks": ""
             }
            },
            "type": "scatterpolargl"
           }
          ],
          "scatterternary": [
           {
            "marker": {
             "colorbar": {
              "outlinewidth": 0,
              "ticks": ""
             }
            },
            "type": "scatterternary"
           }
          ],
          "surface": [
           {
            "colorbar": {
             "outlinewidth": 0,
             "ticks": ""
            },
            "colorscale": [
             [
              0,
              "#0d0887"
             ],
             [
              0.1111111111111111,
              "#46039f"
             ],
             [
              0.2222222222222222,
              "#7201a8"
             ],
             [
              0.3333333333333333,
              "#9c179e"
             ],
             [
              0.4444444444444444,
              "#bd3786"
             ],
             [
              0.5555555555555556,
              "#d8576b"
             ],
             [
              0.6666666666666666,
              "#ed7953"
             ],
             [
              0.7777777777777778,
              "#fb9f3a"
             ],
             [
              0.8888888888888888,
              "#fdca26"
             ],
             [
              1,
              "#f0f921"
             ]
            ],
            "type": "surface"
           }
          ],
          "table": [
           {
            "cells": {
             "fill": {
              "color": "#EBF0F8"
             },
             "line": {
              "color": "white"
             }
            },
            "header": {
             "fill": {
              "color": "#C8D4E3"
             },
             "line": {
              "color": "white"
             }
            },
            "type": "table"
           }
          ]
         },
         "layout": {
          "annotationdefaults": {
           "arrowcolor": "#2a3f5f",
           "arrowhead": 0,
           "arrowwidth": 1
          },
          "autotypenumbers": "strict",
          "coloraxis": {
           "colorbar": {
            "outlinewidth": 0,
            "ticks": ""
           }
          },
          "colorscale": {
           "diverging": [
            [
             0,
             "#8e0152"
            ],
            [
             0.1,
             "#c51b7d"
            ],
            [
             0.2,
             "#de77ae"
            ],
            [
             0.3,
             "#f1b6da"
            ],
            [
             0.4,
             "#fde0ef"
            ],
            [
             0.5,
             "#f7f7f7"
            ],
            [
             0.6,
             "#e6f5d0"
            ],
            [
             0.7,
             "#b8e186"
            ],
            [
             0.8,
             "#7fbc41"
            ],
            [
             0.9,
             "#4d9221"
            ],
            [
             1,
             "#276419"
            ]
           ],
           "sequential": [
            [
             0,
             "#0d0887"
            ],
            [
             0.1111111111111111,
             "#46039f"
            ],
            [
             0.2222222222222222,
             "#7201a8"
            ],
            [
             0.3333333333333333,
             "#9c179e"
            ],
            [
             0.4444444444444444,
             "#bd3786"
            ],
            [
             0.5555555555555556,
             "#d8576b"
            ],
            [
             0.6666666666666666,
             "#ed7953"
            ],
            [
             0.7777777777777778,
             "#fb9f3a"
            ],
            [
             0.8888888888888888,
             "#fdca26"
            ],
            [
             1,
             "#f0f921"
            ]
           ],
           "sequentialminus": [
            [
             0,
             "#0d0887"
            ],
            [
             0.1111111111111111,
             "#46039f"
            ],
            [
             0.2222222222222222,
             "#7201a8"
            ],
            [
             0.3333333333333333,
             "#9c179e"
            ],
            [
             0.4444444444444444,
             "#bd3786"
            ],
            [
             0.5555555555555556,
             "#d8576b"
            ],
            [
             0.6666666666666666,
             "#ed7953"
            ],
            [
             0.7777777777777778,
             "#fb9f3a"
            ],
            [
             0.8888888888888888,
             "#fdca26"
            ],
            [
             1,
             "#f0f921"
            ]
           ]
          },
          "colorway": [
           "#636efa",
           "#EF553B",
           "#00cc96",
           "#ab63fa",
           "#FFA15A",
           "#19d3f3",
           "#FF6692",
           "#B6E880",
           "#FF97FF",
           "#FECB52"
          ],
          "font": {
           "color": "#2a3f5f"
          },
          "geo": {
           "bgcolor": "white",
           "lakecolor": "white",
           "landcolor": "#E5ECF6",
           "showlakes": true,
           "showland": true,
           "subunitcolor": "white"
          },
          "hoverlabel": {
           "align": "left"
          },
          "hovermode": "closest",
          "mapbox": {
           "style": "light"
          },
          "paper_bgcolor": "white",
          "plot_bgcolor": "#E5ECF6",
          "polar": {
           "angularaxis": {
            "gridcolor": "white",
            "linecolor": "white",
            "ticks": ""
           },
           "bgcolor": "#E5ECF6",
           "radialaxis": {
            "gridcolor": "white",
            "linecolor": "white",
            "ticks": ""
           }
          },
          "scene": {
           "xaxis": {
            "backgroundcolor": "#E5ECF6",
            "gridcolor": "white",
            "gridwidth": 2,
            "linecolor": "white",
            "showbackground": true,
            "ticks": "",
            "zerolinecolor": "white"
           },
           "yaxis": {
            "backgroundcolor": "#E5ECF6",
            "gridcolor": "white",
            "gridwidth": 2,
            "linecolor": "white",
            "showbackground": true,
            "ticks": "",
            "zerolinecolor": "white"
           },
           "zaxis": {
            "backgroundcolor": "#E5ECF6",
            "gridcolor": "white",
            "gridwidth": 2,
            "linecolor": "white",
            "showbackground": true,
            "ticks": "",
            "zerolinecolor": "white"
           }
          },
          "shapedefaults": {
           "line": {
            "color": "#2a3f5f"
           }
          },
          "ternary": {
           "aaxis": {
            "gridcolor": "white",
            "linecolor": "white",
            "ticks": ""
           },
           "baxis": {
            "gridcolor": "white",
            "linecolor": "white",
            "ticks": ""
           },
           "bgcolor": "#E5ECF6",
           "caxis": {
            "gridcolor": "white",
            "linecolor": "white",
            "ticks": ""
           }
          },
          "title": {
           "x": 0.05
          },
          "xaxis": {
           "automargin": true,
           "gridcolor": "white",
           "linecolor": "white",
           "ticks": "",
           "title": {
            "standoff": 15
           },
           "zerolinecolor": "white",
           "zerolinewidth": 2
          },
          "yaxis": {
           "automargin": true,
           "gridcolor": "white",
           "linecolor": "white",
           "ticks": "",
           "title": {
            "standoff": 15
           },
           "zerolinecolor": "white",
           "zerolinewidth": 2
          }
         }
        },
        "title": {
         "text": "Document Distribution by Topics"
        },
        "xaxis": {
         "anchor": "y",
         "domain": [
          0,
          1
         ],
         "title": {
          "text": "Topic"
         }
        },
        "yaxis": {
         "anchor": "x",
         "domain": [
          0,
          1
         ],
         "title": {
          "text": "Documents"
         }
        }
       }
      },
      "text/html": [
       "<div>                            <div id=\"3cf20b31-92a2-4e66-ab8c-495a9d453aa8\" class=\"plotly-graph-div\" style=\"height:525px; width:100%;\"></div>            <script type=\"text/javascript\">                require([\"plotly\"], function(Plotly) {                    window.PLOTLYENV=window.PLOTLYENV || {};                                    if (document.getElementById(\"3cf20b31-92a2-4e66-ab8c-495a9d453aa8\")) {                    Plotly.newPlot(                        \"3cf20b31-92a2-4e66-ab8c-495a9d453aa8\",                        [{\"alignmentgroup\": \"True\", \"customdata\": [[\"N, A\"], [\"N, A\"], [\"N, A\"], [\"N, A\"], [\"N, A\"], [\"N, A\"], [\"N, A\"], [\"N, A\"], [\"N, A\"], [\"N, A\"], [\"N, A\"], [\"N, A\"], [\"N, A\"], [\"N, A\"]], \"hovertemplate\": \"Topic=%{x}<br>Documents=%{y}<br>Keyword=%{customdata[0]}<extra></extra>\", \"legendgroup\": \"\", \"marker\": {\"color\": \"#636efa\"}, \"name\": \"\", \"offsetgroup\": \"\", \"orientation\": \"v\", \"showlegend\": false, \"textposition\": \"auto\", \"type\": \"bar\", \"x\": [\"Topic 0\", \"Topic 1\", \"Topic 2\", \"Topic 3\", \"Topic 4\", \"Topic 5\", \"Topic 6\", \"Topic 7\", \"Topic 8\", \"Topic 9\", \"Topic 10\", \"Topic 11\", \"Topic 12\", \"Topic 13\"], \"xaxis\": \"x\", \"y\": [232, 140, 110, 124, 96, 27, 6, 20, 2, 2, 25, 175, 4, 6], \"yaxis\": \"y\"}],                        {\"barmode\": \"relative\", \"legend\": {\"tracegroupgap\": 0}, \"template\": {\"data\": {\"bar\": [{\"error_x\": {\"color\": \"#2a3f5f\"}, \"error_y\": {\"color\": \"#2a3f5f\"}, \"marker\": {\"line\": {\"color\": \"#E5ECF6\", \"width\": 0.5}}, \"type\": \"bar\"}], \"barpolar\": [{\"marker\": {\"line\": {\"color\": \"#E5ECF6\", \"width\": 0.5}}, \"type\": \"barpolar\"}], \"carpet\": [{\"aaxis\": {\"endlinecolor\": \"#2a3f5f\", \"gridcolor\": \"white\", \"linecolor\": \"white\", \"minorgridcolor\": \"white\", \"startlinecolor\": \"#2a3f5f\"}, \"baxis\": {\"endlinecolor\": \"#2a3f5f\", \"gridcolor\": \"white\", \"linecolor\": \"white\", \"minorgridcolor\": \"white\", \"startlinecolor\": \"#2a3f5f\"}, \"type\": \"carpet\"}], \"choropleth\": [{\"colorbar\": {\"outlinewidth\": 0, \"ticks\": \"\"}, \"type\": \"choropleth\"}], \"contour\": [{\"colorbar\": {\"outlinewidth\": 0, \"ticks\": \"\"}, \"colorscale\": [[0.0, \"#0d0887\"], [0.1111111111111111, \"#46039f\"], [0.2222222222222222, \"#7201a8\"], [0.3333333333333333, \"#9c179e\"], [0.4444444444444444, \"#bd3786\"], [0.5555555555555556, \"#d8576b\"], [0.6666666666666666, \"#ed7953\"], [0.7777777777777778, \"#fb9f3a\"], [0.8888888888888888, \"#fdca26\"], [1.0, \"#f0f921\"]], \"type\": \"contour\"}], \"contourcarpet\": [{\"colorbar\": {\"outlinewidth\": 0, \"ticks\": \"\"}, \"type\": \"contourcarpet\"}], \"heatmap\": [{\"colorbar\": {\"outlinewidth\": 0, \"ticks\": \"\"}, \"colorscale\": [[0.0, \"#0d0887\"], [0.1111111111111111, \"#46039f\"], [0.2222222222222222, \"#7201a8\"], [0.3333333333333333, \"#9c179e\"], [0.4444444444444444, \"#bd3786\"], [0.5555555555555556, \"#d8576b\"], [0.6666666666666666, \"#ed7953\"], [0.7777777777777778, \"#fb9f3a\"], [0.8888888888888888, \"#fdca26\"], [1.0, \"#f0f921\"]], \"type\": \"heatmap\"}], \"heatmapgl\": [{\"colorbar\": {\"outlinewidth\": 0, \"ticks\": \"\"}, \"colorscale\": [[0.0, \"#0d0887\"], [0.1111111111111111, \"#46039f\"], [0.2222222222222222, \"#7201a8\"], [0.3333333333333333, \"#9c179e\"], [0.4444444444444444, \"#bd3786\"], [0.5555555555555556, \"#d8576b\"], [0.6666666666666666, \"#ed7953\"], [0.7777777777777778, \"#fb9f3a\"], [0.8888888888888888, \"#fdca26\"], [1.0, \"#f0f921\"]], \"type\": \"heatmapgl\"}], \"histogram\": [{\"marker\": {\"colorbar\": {\"outlinewidth\": 0, \"ticks\": \"\"}}, \"type\": \"histogram\"}], \"histogram2d\": [{\"colorbar\": {\"outlinewidth\": 0, \"ticks\": \"\"}, \"colorscale\": [[0.0, \"#0d0887\"], [0.1111111111111111, \"#46039f\"], [0.2222222222222222, \"#7201a8\"], [0.3333333333333333, \"#9c179e\"], [0.4444444444444444, \"#bd3786\"], [0.5555555555555556, \"#d8576b\"], [0.6666666666666666, \"#ed7953\"], [0.7777777777777778, \"#fb9f3a\"], [0.8888888888888888, \"#fdca26\"], [1.0, \"#f0f921\"]], \"type\": \"histogram2d\"}], \"histogram2dcontour\": [{\"colorbar\": {\"outlinewidth\": 0, \"ticks\": \"\"}, \"colorscale\": [[0.0, \"#0d0887\"], [0.1111111111111111, \"#46039f\"], [0.2222222222222222, \"#7201a8\"], [0.3333333333333333, \"#9c179e\"], [0.4444444444444444, \"#bd3786\"], [0.5555555555555556, \"#d8576b\"], [0.6666666666666666, \"#ed7953\"], [0.7777777777777778, \"#fb9f3a\"], [0.8888888888888888, \"#fdca26\"], [1.0, \"#f0f921\"]], \"type\": \"histogram2dcontour\"}], \"mesh3d\": [{\"colorbar\": {\"outlinewidth\": 0, \"ticks\": \"\"}, \"type\": \"mesh3d\"}], \"parcoords\": [{\"line\": {\"colorbar\": {\"outlinewidth\": 0, \"ticks\": \"\"}}, \"type\": \"parcoords\"}], \"pie\": [{\"automargin\": true, \"type\": \"pie\"}], \"scatter\": [{\"marker\": {\"colorbar\": {\"outlinewidth\": 0, \"ticks\": \"\"}}, \"type\": \"scatter\"}], \"scatter3d\": [{\"line\": {\"colorbar\": {\"outlinewidth\": 0, \"ticks\": \"\"}}, \"marker\": {\"colorbar\": {\"outlinewidth\": 0, \"ticks\": \"\"}}, \"type\": \"scatter3d\"}], \"scattercarpet\": [{\"marker\": {\"colorbar\": {\"outlinewidth\": 0, \"ticks\": \"\"}}, \"type\": \"scattercarpet\"}], \"scattergeo\": [{\"marker\": {\"colorbar\": {\"outlinewidth\": 0, \"ticks\": \"\"}}, \"type\": \"scattergeo\"}], \"scattergl\": [{\"marker\": {\"colorbar\": {\"outlinewidth\": 0, \"ticks\": \"\"}}, \"type\": \"scattergl\"}], \"scattermapbox\": [{\"marker\": {\"colorbar\": {\"outlinewidth\": 0, \"ticks\": \"\"}}, \"type\": \"scattermapbox\"}], \"scatterpolar\": [{\"marker\": {\"colorbar\": {\"outlinewidth\": 0, \"ticks\": \"\"}}, \"type\": \"scatterpolar\"}], \"scatterpolargl\": [{\"marker\": {\"colorbar\": {\"outlinewidth\": 0, \"ticks\": \"\"}}, \"type\": \"scatterpolargl\"}], \"scatterternary\": [{\"marker\": {\"colorbar\": {\"outlinewidth\": 0, \"ticks\": \"\"}}, \"type\": \"scatterternary\"}], \"surface\": [{\"colorbar\": {\"outlinewidth\": 0, \"ticks\": \"\"}, \"colorscale\": [[0.0, \"#0d0887\"], [0.1111111111111111, \"#46039f\"], [0.2222222222222222, \"#7201a8\"], [0.3333333333333333, \"#9c179e\"], [0.4444444444444444, \"#bd3786\"], [0.5555555555555556, \"#d8576b\"], [0.6666666666666666, \"#ed7953\"], [0.7777777777777778, \"#fb9f3a\"], [0.8888888888888888, \"#fdca26\"], [1.0, \"#f0f921\"]], \"type\": \"surface\"}], \"table\": [{\"cells\": {\"fill\": {\"color\": \"#EBF0F8\"}, \"line\": {\"color\": \"white\"}}, \"header\": {\"fill\": {\"color\": \"#C8D4E3\"}, \"line\": {\"color\": \"white\"}}, \"type\": \"table\"}]}, \"layout\": {\"annotationdefaults\": {\"arrowcolor\": \"#2a3f5f\", \"arrowhead\": 0, \"arrowwidth\": 1}, \"autotypenumbers\": \"strict\", \"coloraxis\": {\"colorbar\": {\"outlinewidth\": 0, \"ticks\": \"\"}}, \"colorscale\": {\"diverging\": [[0, \"#8e0152\"], [0.1, \"#c51b7d\"], [0.2, \"#de77ae\"], [0.3, \"#f1b6da\"], [0.4, \"#fde0ef\"], [0.5, \"#f7f7f7\"], [0.6, \"#e6f5d0\"], [0.7, \"#b8e186\"], [0.8, \"#7fbc41\"], [0.9, \"#4d9221\"], [1, \"#276419\"]], \"sequential\": [[0.0, \"#0d0887\"], [0.1111111111111111, \"#46039f\"], [0.2222222222222222, \"#7201a8\"], [0.3333333333333333, \"#9c179e\"], [0.4444444444444444, \"#bd3786\"], [0.5555555555555556, \"#d8576b\"], [0.6666666666666666, \"#ed7953\"], [0.7777777777777778, \"#fb9f3a\"], [0.8888888888888888, \"#fdca26\"], [1.0, \"#f0f921\"]], \"sequentialminus\": [[0.0, \"#0d0887\"], [0.1111111111111111, \"#46039f\"], [0.2222222222222222, \"#7201a8\"], [0.3333333333333333, \"#9c179e\"], [0.4444444444444444, \"#bd3786\"], [0.5555555555555556, \"#d8576b\"], [0.6666666666666666, \"#ed7953\"], [0.7777777777777778, \"#fb9f3a\"], [0.8888888888888888, \"#fdca26\"], [1.0, \"#f0f921\"]]}, \"colorway\": [\"#636efa\", \"#EF553B\", \"#00cc96\", \"#ab63fa\", \"#FFA15A\", \"#19d3f3\", \"#FF6692\", \"#B6E880\", \"#FF97FF\", \"#FECB52\"], \"font\": {\"color\": \"#2a3f5f\"}, \"geo\": {\"bgcolor\": \"white\", \"lakecolor\": \"white\", \"landcolor\": \"#E5ECF6\", \"showlakes\": true, \"showland\": true, \"subunitcolor\": \"white\"}, \"hoverlabel\": {\"align\": \"left\"}, \"hovermode\": \"closest\", \"mapbox\": {\"style\": \"light\"}, \"paper_bgcolor\": \"white\", \"plot_bgcolor\": \"#E5ECF6\", \"polar\": {\"angularaxis\": {\"gridcolor\": \"white\", \"linecolor\": \"white\", \"ticks\": \"\"}, \"bgcolor\": \"#E5ECF6\", \"radialaxis\": {\"gridcolor\": \"white\", \"linecolor\": \"white\", \"ticks\": \"\"}}, \"scene\": {\"xaxis\": {\"backgroundcolor\": \"#E5ECF6\", \"gridcolor\": \"white\", \"gridwidth\": 2, \"linecolor\": \"white\", \"showbackground\": true, \"ticks\": \"\", \"zerolinecolor\": \"white\"}, \"yaxis\": {\"backgroundcolor\": \"#E5ECF6\", \"gridcolor\": \"white\", \"gridwidth\": 2, \"linecolor\": \"white\", \"showbackground\": true, \"ticks\": \"\", \"zerolinecolor\": \"white\"}, \"zaxis\": {\"backgroundcolor\": \"#E5ECF6\", \"gridcolor\": \"white\", \"gridwidth\": 2, \"linecolor\": \"white\", \"showbackground\": true, \"ticks\": \"\", \"zerolinecolor\": \"white\"}}, \"shapedefaults\": {\"line\": {\"color\": \"#2a3f5f\"}}, \"ternary\": {\"aaxis\": {\"gridcolor\": \"white\", \"linecolor\": \"white\", \"ticks\": \"\"}, \"baxis\": {\"gridcolor\": \"white\", \"linecolor\": \"white\", \"ticks\": \"\"}, \"bgcolor\": \"#E5ECF6\", \"caxis\": {\"gridcolor\": \"white\", \"linecolor\": \"white\", \"ticks\": \"\"}}, \"title\": {\"x\": 0.05}, \"xaxis\": {\"automargin\": true, \"gridcolor\": \"white\", \"linecolor\": \"white\", \"ticks\": \"\", \"title\": {\"standoff\": 15}, \"zerolinecolor\": \"white\", \"zerolinewidth\": 2}, \"yaxis\": {\"automargin\": true, \"gridcolor\": \"white\", \"linecolor\": \"white\", \"ticks\": \"\", \"title\": {\"standoff\": 15}, \"zerolinecolor\": \"white\", \"zerolinewidth\": 2}}}, \"title\": {\"text\": \"Document Distribution by Topics\"}, \"xaxis\": {\"anchor\": \"y\", \"domain\": [0.0, 1.0], \"title\": {\"text\": \"Topic\"}}, \"yaxis\": {\"anchor\": \"x\", \"domain\": [0.0, 1.0], \"title\": {\"text\": \"Documents\"}}},                        {\"responsive\": true}                    ).then(function(){\n",
       "                            \n",
       "var gd = document.getElementById('3cf20b31-92a2-4e66-ab8c-495a9d453aa8');\n",
       "var x = new MutationObserver(function (mutations, observer) {{\n",
       "        var display = window.getComputedStyle(gd).display;\n",
       "        if (!display || display === 'none') {{\n",
       "            console.log([gd, 'removed!']);\n",
       "            Plotly.purge(gd);\n",
       "            observer.disconnect();\n",
       "        }}\n",
       "}});\n",
       "\n",
       "// Listen for the removal of the full notebook cells\n",
       "var notebookContainer = gd.closest('#notebook-container');\n",
       "if (notebookContainer) {{\n",
       "    x.observe(notebookContainer, {childList: true});\n",
       "}}\n",
       "\n",
       "// Listen for the clearing of the current output cell\n",
       "var outputEl = gd.closest('.output');\n",
       "if (outputEl) {{\n",
       "    x.observe(outputEl, {childList: true});\n",
       "}}\n",
       "\n",
       "                        })                };                });            </script>        </div>"
      ]
     },
     "metadata": {},
     "output_type": "display_data"
    }
   ],
   "source": [
    "plot_model(nmf, plot = 'topic_distribution')\n",
    "#plot_model(tuned_unsupervised, plot = 'wordcloud', topic_num = topic_num)\n",
    "#plot_model(tuned_unsupervised, plot = 'frequency', topic_num = topic_num)\n",
    "#plot_model(tuned_unsupervised, plot = 'distribution', topic_num = topic_num)\n",
    "#plot_model(tuned_unsupervised, plot = 'sentiment', topic_num = topic_num)\n",
    "#plot_model(tuned_unsupervised, plot = 'pos', topic_num = topic_num)\n",
    "#plot_model(tuned_unsupervised, plot = 'bigram', topic_num = topic_num)\n",
    "#plot_model(tuned_unsupervised, plot = 'trigram', topic_num = topic_num)"
   ]
  },
  {
   "cell_type": "code",
   "execution_count": 10,
   "id": "black-composer",
   "metadata": {},
   "outputs": [
    {
     "data": {
      "application/vnd.jupyter.widget-view+json": {
       "model_id": "fea1dd062ad8465192a53384249cfbc5",
       "version_major": 2,
       "version_minor": 0
      },
      "text/plain": [
       "interactive(children=(ToggleButtons(description='Plot Type:', icons=('',), options=(('Frequency Plot', 'freque…"
      ]
     },
     "metadata": {},
     "output_type": "display_data"
    }
   ],
   "source": [
    "evaluate_model(nmf)"
   ]
  },
  {
   "cell_type": "code",
   "execution_count": 11,
   "id": "virtual-differential",
   "metadata": {},
   "outputs": [
    {
     "data": {
      "text/html": [
       "        <script type=\"text/javascript\">\n",
       "        window.PlotlyConfig = {MathJaxConfig: 'local'};\n",
       "        if (window.MathJax) {MathJax.Hub.Config({SVG: {font: \"STIX-Web\"}});}\n",
       "        if (typeof require !== 'undefined') {\n",
       "        require.undef(\"plotly\");\n",
       "        requirejs.config({\n",
       "            paths: {\n",
       "                'plotly': ['https://cdn.plot.ly/plotly-latest.min']\n",
       "            }\n",
       "        });\n",
       "        require(['plotly'], function(Plotly) {\n",
       "            window._Plotly = Plotly;\n",
       "        });\n",
       "        }\n",
       "        </script>\n",
       "        "
      ]
     },
     "metadata": {},
     "output_type": "display_data"
    },
    {
     "data": {
      "application/vnd.plotly.v1+json": {
       "config": {
        "plotlyServerURL": "https://plot.ly"
       },
       "data": [
        {
         "hovertemplate": "Dominant_Topic=Topic 0<br>0=%{x}<br>1=%{y}<br>2=%{z}<extra></extra>",
         "legendgroup": "Topic 0",
         "marker": {
          "color": "#636efa",
          "opacity": 0.7,
          "symbol": "circle"
         },
         "mode": "markers",
         "name": "Topic 0",
         "scene": "scene",
         "showlegend": true,
         "type": "scatter3d",
         "x": [
          -13.415030479431152,
          -9.263350486755371,
          -13.972281455993652,
          -15.343217849731445,
          -14.854886054992676,
          -8.613325119018555,
          -8.09769344329834,
          -11.93558120727539,
          -5.534071445465088,
          -13.169941902160645,
          -10.539783477783203,
          -13.714682579040527,
          -7.266690254211426,
          -3.8411402702331543,
          -5.63594388961792,
          -6.304568767547607,
          -4.149039268493652,
          -10.543915748596191,
          -3.1338894367218018,
          -7.540835857391357,
          -15.231765747070312,
          -15.27570629119873,
          -5.438457012176514,
          -8.391931533813477,
          -10.277381896972656,
          -7.367453098297119,
          -12.874975204467773,
          -12.182073593139648,
          -13.148606300354004,
          -3.524700403213501,
          -7.865997791290283,
          -10.556167602539062,
          -10.826374053955078,
          -10.07764720916748,
          -12.808846473693848,
          -11.123418807983398,
          -6.5299482345581055,
          -12.935144424438477,
          -12.78110408782959,
          -5.471771717071533,
          -13.351211547851562,
          -7.259653568267822,
          -5.44525671005249,
          -7.073855876922607,
          -6.637545585632324,
          -14.334756851196289,
          -7.045097827911377,
          -12.602620124816895,
          -13.467751502990723,
          -13.641348838806152,
          -15.466914176940918,
          -3.9284729957580566,
          -1.898876428604126,
          -11.338913917541504,
          -4.91871452331543,
          -7.849256992340088,
          -1.272097110748291,
          -7.296189308166504,
          -2.954366683959961,
          -6.559550762176514,
          -9.32282829284668,
          -14.086196899414062,
          -6.935599327087402,
          -7.515066623687744,
          -14.211466789245605,
          -0.8785799741744995,
          -2.6699202060699463,
          -7.6207146644592285,
          -8.8463134765625,
          -7.460567474365234,
          -7.073328018188477,
          -5.143652439117432,
          -6.7347412109375,
          -10.857190132141113,
          -3.784125804901123,
          -5.329858779907227,
          -4.0166521072387695,
          -11.963101387023926,
          -5.1990885734558105,
          -10.793634414672852,
          -14.705766677856445,
          -8.693171501159668,
          -15.177062034606934,
          -12.086416244506836,
          -13.266789436340332,
          -10.622549057006836,
          -5.101242542266846,
          -9.86840534210205,
          -6.059387683868408,
          -10.925902366638184,
          -12.377144813537598,
          -11.171799659729004,
          -10.535930633544922,
          -6.873592853546143,
          -4.451298236846924,
          -10.403755187988281,
          -7.593453407287598,
          -12.5043363571167,
          -6.33294677734375,
          -3.3377151489257812,
          -7.230471611022949,
          -7.178590297698975,
          -9.44747543334961,
          -4.426396369934082,
          -7.311764240264893,
          -10.055057525634766,
          -9.674057960510254,
          -13.857385635375977,
          -9.870687484741211,
          -9.002729415893555,
          -9.109086036682129,
          -4.972746849060059,
          -8.048894882202148,
          -8.721535682678223,
          -3.676610231399536,
          -13.474837303161621,
          -9.214128494262695,
          -7.8801493644714355,
          -14.832788467407227,
          -9.76232624053955,
          -11.014201164245605,
          -12.45137882232666,
          -14.422724723815918,
          -7.927712440490723,
          -4.837693691253662,
          -13.231607437133789,
          -9.996317863464355,
          -4.284077167510986,
          -12.368834495544434,
          -12.460565567016602,
          -3.398782730102539,
          -7.505851745605469,
          -5.188405513763428,
          -13.70805549621582,
          -14.258416175842285,
          -8.387685775756836,
          -2.978518009185791,
          -5.113100528717041,
          -12.861523628234863,
          -7.551660060882568,
          -3.1428322792053223,
          -5.962372779846191,
          -8.124350547790527,
          -5.353520393371582,
          -4.01511812210083,
          -7.593625545501709,
          -8.764062881469727,
          -7.282269477844238,
          -10.655622482299805,
          -5.5594940185546875,
          -7.4621806144714355,
          -10.45226001739502,
          -5.113427639007568,
          -13.501523971557617,
          -14.387001991271973,
          -9.66612434387207,
          -11.08078384399414,
          -11.757210731506348,
          -12.40868091583252,
          -11.999224662780762,
          -9.22761058807373,
          -3.628938913345337,
          -5.867222309112549,
          -2.585219144821167,
          -8.34063720703125,
          -9.699076652526855,
          -13.474173545837402,
          -13.864514350891113,
          -12.343679428100586,
          -7.907351970672607,
          -4.10491418838501,
          -9.471713066101074,
          -13.728262901306152,
          -10.56843090057373,
          -12.863654136657715,
          -5.332376956939697,
          -4.814337253570557,
          -10.45225715637207,
          -13.816555976867676,
          -4.9621195793151855,
          -12.589336395263672,
          -11.589167594909668,
          -5.2780585289001465,
          -7.32312536239624,
          -7.477668285369873,
          -13.324992179870605,
          -7.3755717277526855,
          -3.941209554672241,
          -13.941781997680664,
          -9.856322288513184,
          -8.551252365112305,
          -14.656834602355957,
          -7.61336612701416,
          -5.029509544372559,
          -15.220841407775879,
          -4.213632106781006,
          -15.420394897460938,
          -8.715165138244629,
          -7.3459696769714355,
          -7.810959339141846,
          -4.060760974884033,
          -7.282955646514893,
          -5.72260046005249,
          -8.352028846740723,
          -5.8030877113342285,
          -7.413901329040527,
          -9.082399368286133,
          -6.814955711364746,
          -8.918282508850098,
          -7.136428356170654,
          -9.22971248626709,
          -5.638862133026123,
          -12.332645416259766,
          -10.06098747253418,
          -15.2264986038208,
          -11.293159484863281,
          -4.128021717071533,
          -12.120245933532715,
          -3.9273009300231934,
          -4.676103591918945,
          -13.226082801818848,
          -3.941178560256958,
          -8.0842924118042,
          -10.436300277709961,
          -12.553054809570312,
          -6.739729881286621,
          -5.608707904815674,
          -11.493252754211426,
          -13.186695098876953,
          -4.87457799911499,
          -8.421627044677734,
          -12.02802562713623
         ],
         "y": [
          -0.11425600200891495,
          -1.5488026142120361,
          -0.38009724020957947,
          -1.9050016403198242,
          -2.6755940914154053,
          -4.401402950286865,
          -4.0571608543396,
          -2.144761323928833,
          0.8032205104827881,
          -3.073132276535034,
          -1.869152307510376,
          0.05592877417802811,
          -5.688071250915527,
          2.617060661315918,
          2.392038345336914,
          0.15055295825004578,
          2.868293523788452,
          -1.0745757818222046,
          0.7543544769287109,
          -6.468869209289551,
          -2.0637049674987793,
          -2.016483783721924,
          -1.8969849348068237,
          -1.0787131786346436,
          -0.4994889199733734,
          -2.3640496730804443,
          -2.2945377826690674,
          1.4220036268234253,
          -2.239166021347046,
          1.2641545534133911,
          -4.774429798126221,
          2.0374596118927,
          -3.426198720932007,
          -1.5906529426574707,
          -0.41332003474235535,
          -1.8670034408569336,
          -6.006717681884766,
          -0.29987505078315735,
          -2.5077438354492188,
          -2.1612517833709717,
          0.7731505632400513,
          1.3265329599380493,
          -1.9032636880874634,
          1.8944607973098755,
          0.2465890347957611,
          -2.0200648307800293,
          0.7633283138275146,
          -2.5384652614593506,
          -1.4629501104354858,
          -2.3368966579437256,
          -1.8885414600372314,
          0.4923291802406311,
          -1.8464720249176025,
          1.0802794694900513,
          0.32607629895210266,
          -0.46196258068084717,
          -1.3670731782913208,
          1.583255648612976,
          1.0930534601211548,
          -5.617478370666504,
          -0.41364192962646484,
          0.011694032698869705,
          -6.292609691619873,
          -5.427227973937988,
          -2.5291717052459717,
          -1.8054219484329224,
          0.15875642001628876,
          -1.2083356380462646,
          -0.07956195622682571,
          -5.808586597442627,
          2.8728809356689453,
          0.31856629252433777,
          1.153513789176941,
          -2.0673327445983887,
          2.64406418800354,
          1.6624523401260376,
          0.2337905615568161,
          -1.5539727210998535,
          1.229828119277954,
          -2.298640012741089,
          -0.20601604878902435,
          -5.788437843322754,
          -2.0057504177093506,
          1.1942129135131836,
          -2.3017706871032715,
          -3.4769201278686523,
          0.6556196212768555,
          -2.2432701587677,
          -0.04539904370903969,
          -0.7077977061271667,
          -2.246112585067749,
          -1.8551090955734253,
          -1.242457389831543,
          -3.566959857940674,
          2.0123119354248047,
          -0.2880626320838928,
          -4.244379997253418,
          -2.942202091217041,
          1.0177242755889893,
          1.8682842254638672,
          1.5353604555130005,
          0.9187518358230591,
          -5.018477916717529,
          1.343989610671997,
          -6.601414680480957,
          -2.5121867656707764,
          -4.796861171722412,
          -3.1355957984924316,
          -5.052585124969482,
          0.3696182072162628,
          0.2643052935600281,
          -0.02675756998360157,
          -0.6909681558609009,
          0.3739289343357086,
          1.2993477582931519,
          0.5677922964096069,
          -1.6765588521957397,
          1.040327548980713,
          -2.6383614540100098,
          -0.33682188391685486,
          -1.0196176767349243,
          1.1467492580413818,
          -2.401890516281128,
          -6.660747051239014,
          0.2949815094470978,
          0.5131306648254395,
          -2.1172397136688232,
          2.7770726680755615,
          1.1374995708465576,
          -4.145452976226807,
          0.4248347282409668,
          -3.7633962631225586,
          -0.33939945697784424,
          -0.5484739542007446,
          -2.3976540565490723,
          -4.652136325836182,
          2.113440990447998,
          1.2157628536224365,
          1.2738996744155884,
          -4.76180362701416,
          0.9802860617637634,
          1.4701592922210693,
          -0.8805071115493774,
          -1.7618647813796997,
          2.2386956214904785,
          -4.244110107421875,
          2.524162769317627,
          -6.643834590911865,
          0.36829903721809387,
          -0.33363330364227295,
          1.5161908864974976,
          2.2374565601348877,
          -0.39798101782798767,
          0.2728120684623718,
          -2.7196903228759766,
          3.484619379043579,
          -0.6407622694969177,
          -1.3970110416412354,
          1.3175270557403564,
          0.6488146781921387,
          -4.645397186279297,
          1.8636354207992554,
          1.0778865814208984,
          -7.675899982452393,
          -4.5361809730529785,
          -4.969814300537109,
          0.5652677416801453,
          -2.423220157623291,
          1.0468356609344482,
          -4.212454795837402,
          2.846853256225586,
          -0.19726963341236115,
          -2.347285509109497,
          -1.2963820695877075,
          -2.5009100437164307,
          0.14754869043827057,
          1.2050725221633911,
          2.237457752227783,
          -2.5064189434051514,
          0.48936229944229126,
          -2.9365994930267334,
          -0.5829251408576965,
          1.8206201791763306,
          -3.2041537761688232,
          -6.457093238830566,
          -3.3826217651367188,
          0.7949924468994141,
          2.7699508666992188,
          -0.036749791353940964,
          -0.5263354778289795,
          1.6292736530303955,
          -0.96077561378479,
          -3.600480794906616,
          0.10010077059268951,
          -2.071199655532837,
          1.3878841400146484,
          -1.9499342441558838,
          -4.893438816070557,
          -2.4381110668182373,
          -0.763542890548706,
          2.6050593852996826,
          -5.840033531188965,
          0.8490859866142273,
          -0.1600191444158554,
          0.5479228496551514,
          1.3973466157913208,
          -5.184785842895508,
          0.5895839929580688,
          -4.805765151977539,
          -1.7272188663482666,
          2.897371292114258,
          1.3686574697494507,
          -2.784484624862671,
          -2.4077212810516357,
          -2.0678651332855225,
          -0.47801509499549866,
          2.9195120334625244,
          -2.164613962173462,
          2.9966278076171875,
          1.4258707761764526,
          -2.2955992221832275,
          1.8825035095214844,
          -1.2076035737991333,
          -4.392082691192627,
          -2.2161104679107666,
          1.2150013446807861,
          0.6119539737701416,
          1.0970382690429688,
          0.36940887570381165,
          2.00193190574646,
          -0.5579975247383118,
          -1.1407361030578613
         ],
         "z": [
          2.0598556995391846,
          -0.1416330188512802,
          0.5403777360916138,
          3.0681846141815186,
          2.29980206489563,
          0.758068859577179,
          2.6650991439819336,
          0.08842341601848602,
          -0.5843398571014404,
          0.7881878614425659,
          3.1236679553985596,
          3.1664485931396484,
          2.101815700531006,
          -1.5391085147857666,
          2.208024501800537,
          -0.9542257189750671,
          2.780038356781006,
          -0.8578375577926636,
          -2.904890537261963,
          0.06476365029811859,
          2.725267171859741,
          2.8428335189819336,
          -0.11960769444704056,
          -0.08564158529043198,
          1.2149332761764526,
          2.6613972187042236,
          0.515193521976471,
          4.5579304695129395,
          0.4013819098472595,
          -0.888833224773407,
          1.0125689506530762,
          0.3754569888114929,
          0.37720194458961487,
          2.8181798458099365,
          1.307449221611023,
          -0.22340184450149536,
          -0.5460468530654907,
          1.6166807413101196,
          -1.4871731996536255,
          -0.054010581225156784,
          2.0284814834594727,
          1.824946403503418,
          -0.11677180230617523,
          2.2864882946014404,
          1.1205281019210815,
          1.5654531717300415,
          -1.9239591360092163,
          1.122683048248291,
          0.7728362679481506,
          0.8346031308174133,
          3.5788023471832275,
          -2.4928066730499268,
          -4.270755767822266,
          3.462891101837158,
          -2.0352132320404053,
          -0.5028902888298035,
          -2.938352584838867,
          1.9930737018585205,
          -1.6184120178222656,
          1.1510332822799683,
          1.0392460823059082,
          0.34242749214172363,
          -0.31864404678344727,
          0.5903482437133789,
          1.535773515701294,
          -3.3681678771972656,
          -2.9894144535064697,
          0.3152472972869873,
          0.481466144323349,
          0.6742584705352783,
          1.518295168876648,
          1.0064661502838135,
          -0.023227302357554436,
          3.309506893157959,
          1.4627457857131958,
          1.8749152421951294,
          -2.5089011192321777,
          -0.434131383895874,
          1.080899715423584,
          -0.6984851360321045,
          1.3202308416366577,
          0.5111455321311951,
          2.704585552215576,
          4.061863422393799,
          0.5483033061027527,
          0.446029394865036,
          -2.5787317752838135,
          -0.6224281787872314,
          -0.5225136876106262,
          -0.7944667935371399,
          0.3545118272304535,
          -0.25173506140708923,
          -0.6200106143951416,
          0.3623846471309662,
          1.4327563047409058,
          1.3723341226577759,
          0.9381445050239563,
          1.7985789775848389,
          -0.26205724477767944,
          0.6363725662231445,
          -0.017326921224594116,
          -2.096173048019409,
          1.444359302520752,
          -3.579413414001465,
          -0.16154877841472626,
          1.4384433031082153,
          0.7979934215545654,
          1.965025544166565,
          0.7184863686561584,
          -0.7332839369773865,
          -1.994022250175476,
          1.3965075016021729,
          -1.0449206829071045,
          -2.1364924907684326,
          -0.5654088258743286,
          2.2539467811584473,
          -0.22121328115463257,
          -3.2925901412963867,
          2.2786049842834473,
          1.1290831565856934,
          0.4871031939983368,
          4.202693462371826,
          0.6885787844657898,
          0.1311223804950714,
          -0.9769414067268372,
          3.708223342895508,
          1.4528369903564453,
          0.6319763660430908,
          4.1407470703125,
          0.6107815504074097,
          -0.3648957908153534,
          1.2076060771942139,
          -2.2802700996398926,
          1.6933789253234863,
          1.4655427932739258,
          0.9760305285453796,
          -2.345613479614258,
          1.0054740905761719,
          1.713043451309204,
          1.0129297971725464,
          -2.981343984603882,
          1.4169268608093262,
          0.47707614302635193,
          -0.1709279865026474,
          1.7316943407058716,
          0.9381727576255798,
          -0.569524884223938,
          -0.20121631026268005,
          2.2482054233551025,
          -1.9242899417877197,
          1.9568053483963013,
          0.22576364874839783,
          -2.8550355434417725,
          3.4575963020324707,
          1.8831197023391724,
          -0.5942283272743225,
          0.698213517665863,
          -0.5612130761146545,
          4.377368450164795,
          2.839841842651367,
          0.6623262166976929,
          -1.7549149990081787,
          1.7317613363265991,
          -1.2684073448181152,
          0.9653648734092712,
          0.755776047706604,
          2.256389617919922,
          0.6651939153671265,
          3.9899303913116455,
          0.8878987431526184,
          2.4928829669952393,
          -0.1478787511587143,
          0.90453040599823,
          -0.39007002115249634,
          -0.79751056432724,
          -0.5334934592247009,
          -3.3177130222320557,
          0.22575192153453827,
          1.1750918626785278,
          -1.9483503103256226,
          0.3980381488800049,
          1.1377558708190918,
          2.2258968353271484,
          0.5995816588401794,
          0.03566736727952957,
          0.7189610004425049,
          -2.1224100589752197,
          -1.372509241104126,
          0.6731557250022888,
          -0.47443893551826477,
          -0.27427640557289124,
          3.298143148422241,
          1.204482913017273,
          -3.2479474544525146,
          2.700098991394043,
          -3.619812488555908,
          3.4416470527648926,
          1.714810848236084,
          2.6114933490753174,
          0.4390932023525238,
          1.950372576713562,
          1.8265525102615356,
          -0.08915060758590698,
          -0.12556378543376923,
          -0.8924448490142822,
          -0.01296282559633255,
          0.7096185088157654,
          -1.6542545557022095,
          0.7786616683006287,
          0.11336788535118103,
          -0.5409247279167175,
          -2.4492037296295166,
          0.28508415818214417,
          -0.5308874845504761,
          2.713609218597412,
          1.2948936223983765,
          2.2898993492126465,
          0.13889531791210175,
          1.70949387550354,
          -3.65276837348938,
          0.5227536559104919,
          1.476811170578003,
          0.09850281476974487,
          2.044614553451538,
          0.30636659264564514,
          -0.00708618201315403,
          -1.8622567653656006,
          3.563264846801758,
          3.0219357013702393,
          2.080162286758423,
          -0.3940376043319702,
          -0.8504307270050049
         ]
        },
        {
         "hovertemplate": "Dominant_Topic=Topic 1<br>0=%{x}<br>1=%{y}<br>2=%{z}<extra></extra>",
         "legendgroup": "Topic 1",
         "marker": {
          "color": "#EF553B",
          "opacity": 0.7,
          "symbol": "circle"
         },
         "mode": "markers",
         "name": "Topic 1",
         "scene": "scene",
         "showlegend": true,
         "type": "scatter3d",
         "x": [
          5.3223772048950195,
          4.901848793029785,
          3.0349459648132324,
          2.3766748905181885,
          4.38129997253418,
          4.935275554656982,
          5.6988959312438965,
          4.835132598876953,
          3.8441202640533447,
          5.5402045249938965,
          5.373533725738525,
          5.541440486907959,
          2.923340320587158,
          4.548208236694336,
          4.66027307510376,
          3.018515110015869,
          4.682760238647461,
          4.895133018493652,
          1.8515857458114624,
          7.163347244262695,
          4.346458911895752,
          2.851611614227295,
          5.077415466308594,
          3.9004762172698975,
          4.741907596588135,
          3.544382333755493,
          2.6981449127197266,
          3.1832833290100098,
          1.4253829717636108,
          3.731914758682251,
          4.708464622497559,
          4.332031726837158,
          5.112096786499023,
          4.738270282745361,
          4.196479320526123,
          4.607631683349609,
          4.288387775421143,
          5.383932590484619,
          4.957284450531006,
          5.007824897766113,
          4.117799758911133,
          3.009601593017578,
          3.802992343902588,
          5.038806915283203,
          4.9850029945373535,
          5.752772331237793,
          3.381462574005127,
          4.8451247215271,
          2.5405750274658203,
          4.896120071411133,
          1.3886842727661133,
          3.2485742568969727,
          3.9988744258880615,
          4.939996242523193,
          3.1461992263793945,
          4.918508529663086,
          5.417603969573975,
          2.2165372371673584,
          4.79680871963501,
          3.7732598781585693,
          5.315891742706299,
          3.9510233402252197,
          3.3949484825134277,
          1.433851718902588,
          3.1017284393310547,
          3.436220407485962,
          4.834101676940918,
          4.948876857757568,
          3.9939260482788086,
          3.8258895874023438,
          5.306060314178467,
          6.494973659515381,
          3.2658801078796387,
          5.330347537994385,
          4.745884418487549,
          4.525627136230469,
          3.1345531940460205,
          4.938389301300049,
          6.447747707366943,
          1.7377289533615112,
          4.024585247039795,
          6.438810348510742,
          5.57142972946167,
          3.86299204826355,
          4.5451555252075195,
          3.7773501873016357,
          2.358546257019043,
          4.791110992431641,
          2.77497935295105,
          5.083408355712891,
          2.415714740753174,
          4.370964527130127,
          4.839383602142334,
          4.472695827484131,
          5.160962104797363,
          6.467763423919678,
          5.092599391937256,
          4.0869574546813965,
          3.591947555541992,
          4.728413105010986,
          3.788804769515991,
          5.204970836639404,
          4.833152770996094,
          5.6660332679748535,
          4.750974178314209,
          3.4756791591644287,
          3.561353921890259,
          1.909895896911621,
          5.448065757751465,
          5.348572731018066,
          3.4434099197387695,
          3.717036724090576,
          4.964481830596924,
          4.918302536010742,
          5.065968990325928,
          6.145230293273926,
          2.576956033706665,
          4.308736324310303,
          4.387496471405029,
          1.4036800861358643,
          5.94635534286499,
          2.9515862464904785,
          4.81978178024292,
          4.881112098693848,
          4.525886535644531,
          3.539806604385376,
          4.076027870178223,
          4.375250816345215,
          1.6064786911010742,
          1.8170634508132935,
          5.6924147605896,
          3.453242063522339,
          5.851017951965332,
          5.602095603942871,
          4.595445156097412,
          1.6130969524383545,
          4.810714244842529,
          3.18780255317688,
          5.623092174530029,
          1.439818024635315
         ],
         "y": [
          0.40468037128448486,
          0.26517096161842346,
          -2.012934684753418,
          -1.9676048755645752,
          -2.8780102729797363,
          0.2067612260580063,
          -3.677267551422119,
          0.41981855034828186,
          -1.9622440338134766,
          0.2333819568157196,
          -2.5673680305480957,
          -2.4555516242980957,
          1.40164315700531,
          -3.0819544792175293,
          -2.3553059101104736,
          -1.2554919719696045,
          0.7123149633407593,
          0.3406735062599182,
          0.25537505745887756,
          -1.8210781812667847,
          -1.4773963689804077,
          -0.5689204335212708,
          -2.444326400756836,
          -1.5677194595336914,
          0.6211512684822083,
          -0.48104387521743774,
          -2.2855939865112305,
          -1.7408812046051025,
          -2.612520217895508,
          -1.380088210105896,
          -0.4914831817150116,
          -2.768220901489258,
          -2.245476484298706,
          -3.0067532062530518,
          -3.8750884532928467,
          -2.9059319496154785,
          1.016593337059021,
          -1.1351066827774048,
          0.27185356616973877,
          -2.5454161167144775,
          -2.0395143032073975,
          -0.26352035999298096,
          -2.1068801879882812,
          -2.6523497104644775,
          0.14895203709602356,
          -2.2757933139801025,
          -1.4316463470458984,
          -2.9198949337005615,
          -0.4663090407848358,
          0.3284136950969696,
          -2.718249797821045,
          -1.7056312561035156,
          -2.502389430999756,
          0.27836737036705017,
          -2.1948060989379883,
          0.4426693916320801,
          -1.4141148328781128,
          -2.387350559234619,
          -0.15866605937480927,
          -1.94144606590271,
          -0.7904025316238403,
          0.5085753798484802,
          0.6290432810783386,
          -3.2916369438171387,
          -0.06579312682151794,
          2.0996501445770264,
          0.3666107952594757,
          0.31695735454559326,
          -1.522830605506897,
          -1.7478094100952148,
          -1.3559592962265015,
          -4.245122909545898,
          -1.1462141275405884,
          -1.5398224592208862,
          0.060784414410591125,
          -2.5621955394744873,
          1.2159289121627808,
          -2.6571030616760254,
          -1.9001599550247192,
          -0.40289196372032166,
          -1.1457438468933105,
          -1.971138596534729,
          -0.6374348402023315,
          -1.0332958698272705,
          -0.43005406856536865,
          -1.4561152458190918,
          -2.3697826862335205,
          0.17679651081562042,
          -0.18610930442810059,
          -0.13399064540863037,
          -0.403743714094162,
          -2.002991199493408,
          -2.0879549980163574,
          -2.490550994873047,
          -2.320363759994507,
          -1.5877459049224854,
          -2.7447216510772705,
          -3.990541458129883,
          -1.280954122543335,
          -3.1177444458007812,
          1.4946399927139282,
          -2.6293270587921143,
          -0.12985241413116455,
          -2.144700765609741,
          0.09834606945514679,
          0.7865915894508362,
          -2.1437671184539795,
          -0.6951932311058044,
          -0.20384247601032257,
          -0.9275418519973755,
          1.0265182256698608,
          -2.048267364501953,
          0.17304059863090515,
          0.6965196132659912,
          -2.106135845184326,
          -1.4491040706634521,
          -0.5709866881370544,
          -1.7249541282653809,
          -2.2555699348449707,
          -1.4369480609893799,
          -3.827171802520752,
          -2.1399550437927246,
          0.3711267113685608,
          0.6978058815002441,
          -2.957585096359253,
          -0.1508256196975708,
          1.3825761079788208,
          0.8025966882705688,
          -2.678471326828003,
          -2.7282001972198486,
          -2.0336978435516357,
          1.655970811843872,
          -2.3268277645111084,
          -1.4556307792663574,
          0.2042486071586609,
          -3.143655300140381,
          0.501096785068512,
          0.48041245341300964,
          -2.9285635948181152,
          -1.7288466691970825
         ],
         "z": [
          15.80616283416748,
          13.379234313964844,
          11.823908805847168,
          12.879847526550293,
          7.602565288543701,
          11.94853401184082,
          4.998912811279297,
          16.179283142089844,
          5.394768714904785,
          15.048627853393555,
          9.445427894592285,
          8.3460054397583,
          7.598160743713379,
          7.712001323699951,
          8.222271919250488,
          4.885600566864014,
          15.188077926635742,
          15.663196563720703,
          6.731266498565674,
          9.093201637268066,
          10.187190055847168,
          5.371356964111328,
          8.853294372558594,
          6.422774791717529,
          15.422496795654297,
          4.840992450714111,
          10.846752166748047,
          5.114037036895752,
          6.0017991065979,
          10.437865257263184,
          10.953232765197754,
          4.3542561531066895,
          9.622902870178223,
          4.90234375,
          9.849136352539062,
          7.680500030517578,
          10.434309959411621,
          12.402976989746094,
          15.18990707397461,
          8.93641471862793,
          7.290538787841797,
          6.610457897186279,
          5.9872307777404785,
          7.65123176574707,
          14.659162521362305,
          9.138583183288574,
          13.242512702941895,
          9.750946998596191,
          6.881556987762451,
          12.071595191955566,
          5.772356986999512,
          4.9630656242370605,
          5.536769866943359,
          15.173067092895508,
          11.022889137268066,
          13.826498985290527,
          11.845375061035156,
          10.36184024810791,
          13.741264343261719,
          6.337882041931152,
          12.86039924621582,
          5.725625514984131,
          7.632866859436035,
          6.106278896331787,
          6.644821643829346,
          5.036317825317383,
          16.41689682006836,
          13.084795951843262,
          11.6890287399292,
          11.893383026123047,
          11.721414566040039,
          5.136889457702637,
          14.229174613952637,
          11.758906364440918,
          16.967544555664062,
          7.461669445037842,
          7.692349433898926,
          8.280854225158691,
          9.69704818725586,
          5.997048854827881,
          13.157476425170898,
          9.478211402893066,
          13.204371452331543,
          13.603086471557617,
          13.763751029968262,
          12.459691047668457,
          10.52701187133789,
          14.594117164611816,
          6.990745544433594,
          13.948588371276855,
          6.887604236602783,
          8.07876205444336,
          10.385092735290527,
          7.18098783493042,
          9.251733779907227,
          11.590252876281738,
          9.76089096069336,
          9.970706939697266,
          13.354398727416992,
          8.553728103637695,
          9.159863471984863,
          10.515456199645996,
          14.283883094787598,
          9.470085144042969,
          16.899654388427734,
          7.88685941696167,
          5.283327102661133,
          6.4573798179626465,
          13.732339859008789,
          12.51469612121582,
          8.022732734680176,
          5.820709705352783,
          14.773194313049316,
          13.946845054626465,
          10.722366333007812,
          11.831767082214355,
          6.1061906814575195,
          8.051539421081543,
          9.932540893554688,
          6.135288715362549,
          5.126242160797119,
          11.283348083496094,
          16.302461624145508,
          11.821219444274902,
          4.485126972198486,
          4.06090784072876,
          9.840049743652344,
          10.69791316986084,
          5.746903419494629,
          6.281435489654541,
          12.481417655944824,
          8.435445785522461,
          8.270153045654297,
          11.843374252319336,
          16.20566749572754,
          6.106289863586426,
          16.034364700317383,
          7.38863468170166,
          10.055496215820312,
          6.005386829376221
         ]
        },
        {
         "hovertemplate": "Dominant_Topic=Topic 10<br>0=%{x}<br>1=%{y}<br>2=%{z}<extra></extra>",
         "legendgroup": "Topic 10",
         "marker": {
          "color": "#00cc96",
          "opacity": 0.7,
          "symbol": "circle"
         },
         "mode": "markers",
         "name": "Topic 10",
         "scene": "scene",
         "showlegend": true,
         "type": "scatter3d",
         "x": [
          -1.5642292499542236,
          0.8671858906745911,
          -0.6224652528762817,
          -1.6777263879776,
          -0.6207617521286011,
          -0.9564847946166992,
          -1.9757386445999146,
          -1.850239872932434,
          0.2578790783882141,
          0.8479959964752197,
          -2.49627947807312,
          -1.6079984903335571,
          -0.31318575143814087,
          -2.62996768951416,
          -0.8667940497398376,
          -0.4264373779296875,
          -1.757999062538147,
          -1.034623622894287,
          0.7402167916297913,
          -1.9710572957992554,
          -0.3017224073410034,
          -2.2220449447631836,
          -0.14043840765953064,
          0.8900609612464905,
          -2.4271271228790283
         ],
         "y": [
          -4.112236976623535,
          -2.589320659637451,
          -3.5544703006744385,
          -4.188203811645508,
          -3.58620023727417,
          -3.775308847427368,
          -4.3298420906066895,
          -4.270095348358154,
          -3.0755817890167236,
          -2.6165287494659424,
          -4.579746246337891,
          -4.162282466888428,
          -3.2627928256988525,
          1.9609252214431763,
          -3.7169690132141113,
          -3.447371244430542,
          -4.218013286590576,
          -3.8275249004364014,
          -2.8896186351776123,
          -4.3303351402282715,
          -3.124267101287842,
          -4.449275016784668,
          -3.21783185005188,
          -2.845027446746826,
          -4.546648979187012
         ],
         "z": [
          11.0677490234375,
          8.351523399353027,
          10.41741943359375,
          11.178613662719727,
          10.525883674621582,
          10.71256160736084,
          11.300119400024414,
          11.24301528930664,
          9.900551795959473,
          8.734391212463379,
          11.527288436889648,
          11.168367385864258,
          9.899750709533691,
          -0.34980809688568115,
          10.639163970947266,
          10.310086250305176,
          11.18471908569336,
          10.786417007446289,
          9.837292671203613,
          11.302664756774902,
          9.541913986206055,
          11.407776832580566,
          9.93148136138916,
          9.890536308288574,
          11.495683670043945
         ]
        },
        {
         "hovertemplate": "Dominant_Topic=Topic 11<br>0=%{x}<br>1=%{y}<br>2=%{z}<extra></extra>",
         "legendgroup": "Topic 11",
         "marker": {
          "color": "#ab63fa",
          "opacity": 0.7,
          "symbol": "circle"
         },
         "mode": "markers",
         "name": "Topic 11",
         "scene": "scene",
         "showlegend": true,
         "type": "scatter3d",
         "x": [
          2.2669742107391357,
          1.6603248119354248,
          1.7936464548110962,
          -2.258068561553955,
          0.4782712459564209,
          2.846872091293335,
          0.03601099178195,
          1.7712984085083008,
          2.338784694671631,
          -0.5819320678710938,
          -3.2309608459472656,
          1.402436375617981,
          3.3399624824523926,
          1.4784059524536133,
          -1.0668425559997559,
          -1.6175296306610107,
          3.096135377883911,
          1.8679746389389038,
          1.7438292503356934,
          3.2314224243164062,
          -0.904998242855072,
          -0.602595329284668,
          1.3116261959075928,
          2.1887171268463135,
          1.6662646532058716,
          1.7571206092834473,
          0.6546182632446289,
          -1.2713379859924316,
          2.9748313426971436,
          -1.720057487487793,
          -3.288785696029663,
          -3.2999682426452637,
          -1.0393198728561401,
          1.2544102668762207,
          1.709281086921692,
          0.7116858959197998,
          0.6349884867668152,
          0.6734062433242798,
          1.372659683227539,
          2.005643606185913,
          1.4795119762420654,
          1.2597988843917847,
          1.0889976024627686,
          0.9389482736587524,
          1.208234429359436,
          1.9665340185165405,
          3.0183162689208984,
          -3.2857394218444824,
          1.2019107341766357,
          2.6836483478546143,
          -0.12557026743888855,
          1.8013097047805786,
          1.6555171012878418,
          1.0920355319976807,
          -1.2677067518234253,
          2.1640732288360596,
          1.69593346118927,
          -1.6525819301605225,
          0.8633257150650024,
          0.5361348390579224,
          0.8199982643127441,
          0.3129828870296478,
          -2.8883843421936035,
          -1.6579313278198242,
          2.001028537750244,
          -1.7820231914520264,
          3.261322259902954,
          3.065545082092285,
          1.3717522621154785,
          1.63004469871521,
          0.9502178430557251,
          -1.4382470846176147,
          0.8879663348197937,
          0.9635488986968994,
          2.3525593280792236,
          2.9427406787872314,
          2.4956889152526855,
          -1.5214332342147827,
          1.0352970361709595,
          -2.2381432056427,
          1.9768363237380981,
          -0.8052244186401367,
          2.3768885135650635,
          2.068521738052368,
          -1.000817060470581,
          -2.5231244564056396,
          -0.8079239726066589,
          2.1794824600219727,
          0.19450661540031433,
          3.6645989418029785,
          1.5637145042419434,
          0.7592697739601135,
          1.5408073663711548,
          2.7210075855255127,
          1.9622999429702759,
          1.338032603263855,
          1.4743049144744873,
          -0.11142992973327637,
          -2.8552675247192383,
          0.9220491051673889,
          -3.199033498764038,
          1.8287409543991089,
          0.6508136987686157,
          -0.1743372231721878,
          1.272804856300354,
          -0.6078846454620361,
          1.6336849927902222,
          -2.86643123626709,
          2.6247825622558594,
          0.5549103021621704,
          -0.38873377442359924,
          -2.8285887241363525,
          2.1875722408294678,
          -1.5868303775787354,
          1.5191470384597778,
          2.2683045864105225,
          2.250051259994507,
          -1.8423371315002441,
          2.2111165523529053,
          -3.14587664604187,
          1.9065239429473877,
          -1.340959072113037,
          -1.2056974172592163,
          -1.1615829467773438,
          1.9539251327514648,
          -2.4104270935058594,
          1.7610583305358887,
          -0.5240168571472168,
          -0.896006166934967,
          -0.9093295931816101,
          1.918541431427002,
          1.586385726928711,
          -2.6540005207061768,
          2.5303053855895996,
          3.352267026901245,
          -1.2775583267211914,
          2.4679346084594727,
          2.5704405307769775,
          2.802978277206421,
          -1.297447919845581,
          -3.6905577182769775,
          -2.383333444595337,
          -3.303384304046631,
          0.5060762166976929,
          1.7716675996780396,
          -1.451777696609497,
          1.8667656183242798,
          2.073725461959839,
          1.098850965499878,
          -0.6668848991394043,
          2.361732244491577,
          1.8571522235870361,
          2.699998378753662,
          -1.6020928621292114,
          3.05645489692688,
          1.9383169412612915,
          2.8187429904937744,
          -1.3474156856536865,
          0.8199912905693054,
          -0.3694576919078827,
          0.20741286873817444,
          2.6783876419067383,
          -0.2763918340206146,
          -3.242447853088379,
          -0.8433316946029663,
          2.392364025115967,
          -3.540431499481201,
          -3.235412120819092,
          1.8298933506011963,
          3.105771780014038,
          -3.2551686763763428,
          -1.9123834371566772,
          1.4199702739715576,
          0.3557506203651428,
          1.9266135692596436
         ],
         "y": [
          4.843332290649414,
          3.1516103744506836,
          4.088858604431152,
          3.1438825130462646,
          2.8557558059692383,
          3.2193896770477295,
          1.2233562469482422,
          0.24196498095989227,
          5.344967842102051,
          2.8290634155273438,
          5.439630031585693,
          4.155287742614746,
          2.1490683555603027,
          -0.6958221793174744,
          2.48530912399292,
          -0.38268521428108215,
          6.138767719268799,
          4.743448257446289,
          4.342817306518555,
          4.205474376678467,
          1.3157321214675903,
          2.646047830581665,
          -0.08554775267839432,
          5.234986782073975,
          1.0656026601791382,
          1.9048446416854858,
          3.2527947425842285,
          0.3705316483974457,
          6.048288822174072,
          0.500001072883606,
          5.030983924865723,
          5.691450119018555,
          2.0855355262756348,
          3.3557145595550537,
          -0.5311163067817688,
          4.687256336212158,
          3.8983864784240723,
          3.5535483360290527,
          1.564958930015564,
          5.167177677154541,
          0.4570375382900238,
          3.492485284805298,
          2.699209213256836,
          3.2218809127807617,
          0.3305383622646332,
          4.930248260498047,
          6.697842121124268,
          4.544703483581543,
          -2.9732346534729004,
          5.8528971672058105,
          -0.8146380186080933,
          -1.167453408241272,
          2.214386463165283,
          3.919900417327881,
          -0.3239445090293884,
          1.2007139921188354,
          1.9384231567382812,
          1.961756944656372,
          0.8932532072067261,
          3.997309923171997,
          5.404682159423828,
          1.113663911819458,
          4.154382228851318,
          -2.0552303791046143,
          0.5575851202011108,
          -0.27358436584472656,
          2.1198933124542236,
          6.466115951538086,
          3.1171512603759766,
          -0.4038688838481903,
          2.9278135299682617,
          2.3347058296203613,
          1.283951759338379,
          3.8959202766418457,
          3.6038601398468018,
          6.0258941650390625,
          4.070641994476318,
          2.080514907836914,
          4.3028740882873535,
          1.5622310638427734,
          5.96854305267334,
          2.579491138458252,
          5.324103355407715,
          1.0285578966140747,
          -1.6263943910598755,
          3.3336217403411865,
          0.0646558627486229,
          4.304135322570801,
          3.4406328201293945,
          4.902544021606445,
          1.4877203702926636,
          1.1565678119659424,
          1.7997790575027466,
          5.667701244354248,
          5.314972400665283,
          3.726881980895996,
          -0.40517887473106384,
          2.0155084133148193,
          1.2865873575210571,
          3.6333181858062744,
          4.614830017089844,
          4.73524284362793,
          3.4527015686035156,
          2.9514589309692383,
          3.066002607345581,
          0.712894082069397,
          -1.1092956066131592,
          1.6975882053375244,
          0.3174264132976532,
          4.595668315887451,
          -0.42246922850608826,
          1.22010338306427,
          5.282010555267334,
          -0.8422123193740845,
          1.4424912929534912,
          1.6203012466430664,
          1.5712404251098633,
          1.953691840171814,
          1.2251474857330322,
          4.350404739379883,
          4.191291332244873,
          -1.9626071453094482,
          0.41941413283348083,
          1.8546910285949707,
          4.769283771514893,
          1.1956759691238403,
          4.384303092956543,
          -0.295491486787796,
          1.3221460580825806,
          0.29975730180740356,
          4.7618608474731445,
          2.3753762245178223,
          1.311785340309143,
          5.589266777038574,
          7.212802886962891,
          -2.1276376247406006,
          5.142571926116943,
          3.8413283824920654,
          2.108226776123047,
          0.5101088285446167,
          4.592875003814697,
          0.13457955420017242,
          5.077384948730469,
          3.57071852684021,
          -0.69621342420578,
          1.743385672569275,
          4.798731327056885,
          4.638789176940918,
          4.356807231903076,
          2.9438230991363525,
          5.491209030151367,
          4.542660236358643,
          4.463227272033691,
          2.284836530685425,
          6.780057430267334,
          4.972066402435303,
          5.80048131942749,
          1.906448245048523,
          5.404681205749512,
          -1.7156333923339844,
          1.8455973863601685,
          5.846446514129639,
          -1.104331374168396,
          5.046720504760742,
          -1.512510895729065,
          5.512975215911865,
          0.3880341649055481,
          4.834701061248779,
          2.934194564819336,
          5.397042274475098,
          4.7373762130737305,
          2.6567437648773193,
          -0.8741217255592346,
          3.1293723583221436,
          4.198567867279053
         ],
         "z": [
          -5.804663181304932,
          -10.531965255737305,
          -11.150513648986816,
          -5.9192047119140625,
          2.3219287395477295,
          -5.785067081451416,
          -6.758971691131592,
          -5.845957279205322,
          -9.56462287902832,
          -3.5994842052459717,
          -8.109823226928711,
          -11.018343925476074,
          -7.896610260009766,
          -6.849745750427246,
          -3.793868064880371,
          -3.810032844543457,
          -12.563284873962402,
          -7.598211765289307,
          -11.292469024658203,
          -3.9806058406829834,
          -9.966421127319336,
          -7.67869234085083,
          -9.781067848205566,
          -11.9131441116333,
          -9.584117889404297,
          -10.166625022888184,
          -5.895251274108887,
          -4.63552188873291,
          -12.49941349029541,
          -7.4156270027160645,
          -7.618360996246338,
          -7.9409589767456055,
          -6.381505489349365,
          -10.353669166564941,
          -7.104625701904297,
          -5.637206554412842,
          -4.414473056793213,
          -9.32841682434082,
          -8.892961502075195,
          -11.860702514648438,
          -7.017441749572754,
          -4.224308490753174,
          -9.686400413513184,
          -5.355144023895264,
          -7.487879753112793,
          -8.559836387634277,
          -5.575098991394043,
          -6.924585342407227,
          6.296667098999023,
          -12.353893280029297,
          -5.109932899475098,
          -6.890202045440674,
          -10.06539249420166,
          -8.707985877990723,
          -4.074860572814941,
          -10.001977920532227,
          -10.463153839111328,
          -5.023586273193359,
          -7.3148322105407715,
          -4.276945114135742,
          -6.390381813049316,
          -7.323616027832031,
          -6.662954330444336,
          -4.610212802886963,
          -9.110002517700195,
          -3.6197874546051025,
          -8.067747116088867,
          -5.013810157775879,
          -10.317490577697754,
          -8.301835060119629,
          -9.561344146728516,
          -5.364570617675781,
          -7.7702813148498535,
          -10.459898948669434,
          -3.405609369277954,
          -12.482345581054688,
          -10.313289642333984,
          -5.5788254737854,
          -10.369528770446777,
          -3.641723394393921,
          -6.435936450958252,
          -7.6817307472229,
          -9.924378395080566,
          -9.912080764770508,
          -3.8658509254455566,
          -6.0929155349731445,
          -5.295438766479492,
          -10.919873237609863,
          -9.443371772766113,
          -5.748799800872803,
          -8.90141773223877,
          -7.690967082977295,
          -9.427775382995605,
          -5.358267784118652,
          -8.548443794250488,
          -3.778820037841797,
          -8.278053283691406,
          -7.422784328460693,
          -2.641387462615967,
          -6.344694137573242,
          -7.112248420715332,
          -7.811091899871826,
          -9.644689559936523,
          -5.527146816253662,
          -4.945581912994385,
          -6.742267608642578,
          -6.301547527313232,
          -3.913780927658081,
          -9.821895599365234,
          -11.012149810791016,
          -6.874314785003662,
          -2.814551830291748,
          -7.648724555969238,
          -3.659050703048706,
          -9.217759132385254,
          -9.319863319396973,
          -9.419696807861328,
          -4.874480724334717,
          -10.097151756286621,
          -6.7521586418151855,
          -11.26723575592041,
          -4.811577320098877,
          -4.851116180419922,
          -5.669943809509277,
          -6.908157825469971,
          -2.4614477157592773,
          -11.344308853149414,
          -6.834956169128418,
          -9.949117660522461,
          -5.931210994720459,
          -11.59969711303711,
          -10.643729209899902,
          -2.856396436691284,
          -5.586537837982178,
          -5.14912748336792,
          -4.657802104949951,
          -5.467071056365967,
          -3.51491379737854,
          -10.096811294555664,
          -6.949792861938477,
          -7.363819122314453,
          -3.2730424404144287,
          -7.504082202911377,
          -9.773904800415039,
          -7.512722492218018,
          -5.786650657653809,
          -8.78256607055664,
          -11.587852478027344,
          -10.944428443908691,
          -5.964595794677734,
          -12.100281715393066,
          -11.42483901977539,
          -4.987890720367432,
          -3.354590654373169,
          -5.8863606452941895,
          -4.827661991119385,
          -4.849350929260254,
          -6.1523895263671875,
          -6.390389442443848,
          -4.787374973297119,
          -7.392165660858154,
          -12.351789474487305,
          -5.509964942932129,
          -7.8149213790893555,
          -4.062149524688721,
          -12.116094589233398,
          -3.793640613555908,
          -7.405485153198242,
          -10.53114128112793,
          -5.724469184875488,
          -7.17861270904541,
          -5.790757656097412,
          -6.856350898742676,
          -5.871358871459961,
          -12.35331916809082
         ]
        },
        {
         "hovertemplate": "Dominant_Topic=Topic 12<br>0=%{x}<br>1=%{y}<br>2=%{z}<extra></extra>",
         "legendgroup": "Topic 12",
         "marker": {
          "color": "#FFA15A",
          "opacity": 0.7,
          "symbol": "circle"
         },
         "mode": "markers",
         "name": "Topic 12",
         "scene": "scene",
         "showlegend": true,
         "type": "scatter3d",
         "x": [
          2.5937798023223877,
          -7.857518672943115,
          -3.421851634979248,
          -3.3752553462982178
         ],
         "y": [
          10.408915519714355,
          1.0837374925613403,
          6.027418613433838,
          5.963958740234375
         ],
         "z": [
          -0.01736503839492798,
          -3.399245023727417,
          -7.535130023956299,
          -7.704779624938965
         ]
        },
        {
         "hovertemplate": "Dominant_Topic=Topic 13<br>0=%{x}<br>1=%{y}<br>2=%{z}<extra></extra>",
         "legendgroup": "Topic 13",
         "marker": {
          "color": "#19d3f3",
          "opacity": 0.7,
          "symbol": "circle"
         },
         "mode": "markers",
         "name": "Topic 13",
         "scene": "scene",
         "showlegend": true,
         "type": "scatter3d",
         "x": [
          0.8783989548683167,
          -0.32024505734443665,
          0.5070126056671143,
          -0.5601772665977478,
          0.4684129059314728,
          0.5423887968063354
         ],
         "y": [
          -5.019204139709473,
          -4.688743591308594,
          -4.4026384353637695,
          -4.760714054107666,
          -4.224382400512695,
          -4.268386363983154
         ],
         "z": [
          0.6592110395431519,
          1.7075719833374023,
          1.1671210527420044,
          1.8627772331237793,
          1.248516321182251,
          1.1831082105636597
         ]
        },
        {
         "hovertemplate": "Dominant_Topic=Topic 2<br>0=%{x}<br>1=%{y}<br>2=%{z}<extra></extra>",
         "legendgroup": "Topic 2",
         "marker": {
          "color": "#FF6692",
          "opacity": 0.7,
          "symbol": "circle"
         },
         "mode": "markers",
         "name": "Topic 2",
         "scene": "scene",
         "showlegend": true,
         "type": "scatter3d",
         "x": [
          4.608183860778809,
          3.898066759109497,
          7.374911785125732,
          7.330746650695801,
          5.289719581604004,
          4.1690993309021,
          7.29976224899292,
          2.856619119644165,
          7.3271918296813965,
          3.2576351165771484,
          4.822379112243652,
          3.629054546356201,
          3.398880958557129,
          6.9505181312561035,
          6.693698406219482,
          5.8573384284973145,
          3.751479387283325,
          4.82670783996582,
          -9.720727920532227,
          6.82297945022583,
          -9.537485122680664,
          5.255198001861572,
          3.7267487049102783,
          2.432454824447632,
          6.25024938583374,
          3.978893280029297,
          6.152831077575684,
          2.518256664276123,
          5.495760917663574,
          7.0824408531188965,
          3.1144638061523438,
          7.156542778015137,
          3.6037981510162354,
          5.3030686378479,
          5.944495677947998,
          3.6345605850219727,
          7.198807716369629,
          2.0973191261291504,
          5.917603969573975,
          5.6038384437561035,
          2.997454881668091,
          3.587348222732544,
          6.080780506134033,
          3.620778799057007,
          7.284035682678223,
          5.511503219604492,
          3.116117000579834,
          7.399616241455078,
          3.075648546218872,
          6.116113185882568,
          4.249934196472168,
          4.207180023193359,
          5.589580535888672,
          3.7211527824401855,
          2.911543607711792,
          2.6704142093658447,
          7.491960525512695,
          3.3274106979370117,
          4.813957691192627,
          6.806049346923828,
          6.679143905639648,
          2.765193462371826,
          6.676276683807373,
          3.709859609603882,
          2.238051414489746,
          5.785947799682617,
          6.350582122802734,
          5.014811992645264,
          5.1111345291137695,
          6.988999366760254,
          2.8284428119659424,
          5.010926723480225,
          3.0625476837158203,
          7.153584003448486,
          5.995799541473389,
          2.50860595703125,
          4.691287994384766,
          5.388050079345703,
          3.3077805042266846,
          3.6940197944641113,
          5.429742813110352,
          6.43186092376709,
          3.71854829788208,
          5.178247928619385,
          2.9245104789733887,
          2.9975318908691406,
          4.094324111938477,
          7.480981349945068,
          3.8889076709747314,
          1.945905089378357,
          4.8469038009643555,
          5.698566913604736,
          4.960450172424316,
          7.0838518142700195,
          4.34588623046875,
          7.405335903167725,
          7.08573579788208,
          6.92604923248291,
          2.895629644393921,
          4.766974449157715,
          7.339440822601318,
          6.001257419586182,
          5.885865211486816,
          4.015487194061279,
          4.713741779327393,
          6.216928958892822,
          3.194532632827759,
          6.226454734802246,
          3.1331729888916016,
          6.343281269073486
         ],
         "y": [
          6.549428939819336,
          7.5412445068359375,
          10.574182510375977,
          12.645669937133789,
          4.931558132171631,
          7.112608909606934,
          11.714491844177246,
          4.91519021987915,
          12.619271278381348,
          10.046025276184082,
          7.809390068054199,
          6.330772399902344,
          6.915519714355469,
          9.259623527526855,
          10.408788681030273,
          9.354357719421387,
          7.375962734222412,
          7.905897617340088,
          3.557846784591675,
          10.855741500854492,
          3.468892812728882,
          10.465357780456543,
          6.629443645477295,
          5.303194046020508,
          8.48222541809082,
          5.8893914222717285,
          11.542555809020996,
          5.819709300994873,
          10.722085952758789,
          11.176907539367676,
          0.9159981608390808,
          11.73929214477539,
          6.533185958862305,
          4.759921550750732,
          8.497716903686523,
          0.17205342650413513,
          11.573966026306152,
          5.5760650634765625,
          9.430294036865234,
          9.258785247802734,
          6.592364311218262,
          7.016315460205078,
          8.397849082946777,
          7.547988414764404,
          12.07903003692627,
          8.593761444091797,
          6.326460361480713,
          12.271166801452637,
          5.995141506195068,
          9.620781898498535,
          7.334393501281738,
          7.623281002044678,
          8.776006698608398,
          7.060985565185547,
          5.982226371765137,
          5.566285133361816,
          11.887667655944824,
          8.38084602355957,
          8.144062042236328,
          10.463364601135254,
          12.45248031616211,
          5.850863933563232,
          9.879000663757324,
          7.422553539276123,
          5.009733200073242,
          6.592199802398682,
          9.011246681213379,
          7.891585826873779,
          7.922103404998779,
          9.951367378234863,
          5.977682113647461,
          8.27060317993164,
          6.011866569519043,
          9.435468673706055,
          8.049688339233398,
          5.39325475692749,
          8.123409271240234,
          7.238527774810791,
          3.7367637157440186,
          5.555993556976318,
          7.655675411224365,
          10.51062297821045,
          9.369160652160645,
          4.276140213012695,
          5.911296844482422,
          5.001034259796143,
          6.693345546722412,
          12.634605407714844,
          4.320035934448242,
          4.849361896514893,
          7.3749847412109375,
          9.336185455322266,
          8.621421813964844,
          11.003510475158691,
          7.573760509490967,
          12.262662887573242,
          12.392539024353027,
          11.05427360534668,
          5.970619201660156,
          7.813425064086914,
          12.659265518188477,
          11.297847747802734,
          6.661810874938965,
          7.678340435028076,
          6.672262191772461,
          9.669473648071289,
          6.836703777313232,
          9.232251167297363,
          10.123712539672852,
          9.07203197479248
         ],
         "z": [
          -0.20354704558849335,
          -3.4635751247406006,
          -0.2213781625032425,
          -0.11820617318153381,
          -1.3168693780899048,
          -1.2696372270584106,
          -0.2949502766132355,
          -3.6925694942474365,
          0.035959042608737946,
          0.08979357779026031,
          0.7663028240203857,
          -0.735092282295227,
          1.4180569648742676,
          -0.37978625297546387,
          -0.7460401058197021,
          -1.8627208471298218,
          -3.4138693809509277,
          0.7391130924224854,
          -0.6029277443885803,
          -0.49410006403923035,
          -0.6271963119506836,
          1.4646613597869873,
          -0.9959642291069031,
          -2.9980108737945557,
          -0.4321642220020294,
          -3.3766982555389404,
          0.962830662727356,
          0.9273220896720886,
          1.3065845966339111,
          -0.4905410408973694,
          3.655717134475708,
          -0.34520137310028076,
          -0.7996370196342468,
          -1.3287463188171387,
          -0.0648205503821373,
          4.04785680770874,
          -0.36598944664001465,
          0.7504844665527344,
          -1.6779987812042236,
          -2.3425912857055664,
          1.9658970832824707,
          -3.243889093399048,
          -0.044274259358644485,
          -4.683481693267822,
          -0.16429084539413452,
          -1.2662694454193115,
          0.99123215675354,
          0.02003839984536171,
          0.8678483963012695,
          -1.1902854442596436,
          0.9669902324676514,
          -3.107423782348633,
          -1.4030719995498657,
          -2.8366966247558594,
          0.2566986680030823,
          -2.0468366146087646,
          -0.7544320821762085,
          -2.5575318336486816,
          -2.172579050064087,
          -0.5040575265884399,
          -0.20440609753131866,
          1.1145280599594116,
          -0.5658292770385742,
          -4.00724458694458,
          -3.089581251144409,
          -0.7167342901229858,
          -0.4081844985485077,
          -1.127484679222107,
          -2.5860936641693115,
          -0.5236693024635315,
          0.4329465925693512,
          -1.7876580953598022,
          0.8043808341026306,
          -1.232878565788269,
          -0.48167920112609863,
          -3.248558282852173,
          -2.492988348007202,
          -1.4085776805877686,
          -2.697110652923584,
          -4.032271862030029,
          -0.2158116102218628,
          -2.0271739959716797,
          0.6670807003974915,
          -1.461426019668579,
          -2.9418301582336426,
          1.9977140426635742,
          -0.45032694935798645,
          0.27396416664123535,
          -2.2212085723876953,
          -2.9533371925354004,
          -0.5753161907196045,
          -1.483608603477478,
          -2.795016050338745,
          -1.3173695802688599,
          0.6201464533805847,
          -0.010106719098985195,
          -0.6236371994018555,
          -1.0963003635406494,
          -3.371367931365967,
          -1.467185139656067,
          0.027756202965974808,
          1.025145411491394,
          -0.7293790578842163,
          -3.5903360843658447,
          -2.432943820953369,
          -1.1697591543197632,
          -5.003770351409912,
          -0.4146672785282135,
          0.043659940361976624,
          -0.3982580006122589
         ]
        },
        {
         "hovertemplate": "Dominant_Topic=Topic 3<br>0=%{x}<br>1=%{y}<br>2=%{z}<extra></extra>",
         "legendgroup": "Topic 3",
         "marker": {
          "color": "#B6E880",
          "opacity": 0.7,
          "symbol": "circle"
         },
         "mode": "markers",
         "name": "Topic 3",
         "scene": "scene",
         "showlegend": true,
         "type": "scatter3d",
         "x": [
          3.6644809246063232,
          2.390064001083374,
          1.3794766664505005,
          5.443916320800781,
          4.580281734466553,
          4.614539623260498,
          3.65641188621521,
          4.064328670501709,
          2.117769241333008,
          1.346351981163025,
          5.566380023956299,
          5.630643844604492,
          0.9708924889564514,
          1.8818882703781128,
          5.304166793823242,
          5.049746036529541,
          0.9320899844169617,
          -0.21298298239707947,
          -1.9505573511123657,
          1.2465068101882935,
          1.6434073448181152,
          3.4772894382476807,
          5.607507705688477,
          3.503204345703125,
          4.459234237670898,
          -0.2695365250110626,
          3.182744026184082,
          6.226065158843994,
          5.314377784729004,
          3.565566301345825,
          1.948930263519287,
          5.339017868041992,
          2.872849941253662,
          1.2849112749099731,
          5.223964214324951,
          2.467653274536133,
          0.6720955967903137,
          4.420467853546143,
          4.747641086578369,
          3.2143924236297607,
          5.512285232543945,
          2.105592727661133,
          0.0257275253534317,
          2.1558125019073486,
          4.7825026512146,
          3.6506378650665283,
          2.6196048259735107,
          4.980040073394775,
          4.775245666503906,
          1.9659072160720825,
          1.7479146718978882,
          3.678159475326538,
          3.764495849609375,
          -0.6319695115089417,
          5.3785014152526855,
          4.751397609710693,
          1.445469617843628,
          2.907500743865967,
          2.040531873703003,
          3.032421827316284,
          1.179521918296814,
          6.51951789855957,
          5.169356346130371,
          5.692429542541504,
          5.4144487380981445,
          4.144287109375,
          6.502886772155762,
          0.5559330582618713,
          5.436511993408203,
          5.427396774291992,
          5.144311428070068,
          2.113234519958496,
          3.347315788269043,
          4.60336971282959,
          3.541607618331909,
          5.007795333862305,
          5.175611972808838,
          3.8352301120758057,
          1.8881019353866577,
          5.220889568328857,
          0.4122007191181183,
          5.12181282043457,
          4.789755344390869,
          6.548955917358398,
          5.332190036773682,
          1.7768771648406982,
          3.477677345275879,
          5.015061378479004,
          -2.0208210945129395,
          2.0830490589141846,
          3.6266677379608154,
          3.8283915519714355,
          3.196976661682129,
          1.3918428421020508,
          5.5498948097229,
          3.6422131061553955,
          3.5407803058624268,
          5.614944934844971,
          5.432253837585449,
          2.111288070678711,
          1.6911381483078003,
          4.959752559661865,
          3.410896062850952,
          4.372936248779297,
          5.648187160491943,
          4.404568672180176,
          4.5899338722229,
          5.679160118103027,
          5.383524417877197,
          3.215388536453247,
          5.001575469970703,
          3.4652786254882812,
          1.2937934398651123,
          3.057375192642212,
          4.216609001159668,
          2.353350877761841,
          4.933539867401123,
          1.24191415309906,
          2.87986421585083,
          0.7382289171218872,
          1.329622507095337,
          5.475361347198486,
          5.458033084869385,
          5.552654266357422
         ],
         "y": [
          -5.825860977172852,
          -2.7319693565368652,
          -4.763073444366455,
          -8.556254386901855,
          -10.607293128967285,
          -1.814314603805542,
          -5.992712497711182,
          -4.232780456542969,
          -4.806966304779053,
          -4.319780349731445,
          -4.042816162109375,
          -11.26545524597168,
          -1.3346282243728638,
          -5.697041988372803,
          -9.072418212890625,
          -4.429487228393555,
          -6.485417366027832,
          -1.7924638986587524,
          -3.2033753395080566,
          -7.0059380531311035,
          -3.8382816314697266,
          -4.949597358703613,
          -3.494851589202881,
          -9.925886154174805,
          -8.533263206481934,
          -2.0872015953063965,
          -3.3519556522369385,
          -10.203713417053223,
          -4.096763610839844,
          -5.085546493530273,
          -9.555180549621582,
          -4.048497200012207,
          -5.996657371520996,
          -2.1959726810455322,
          -4.104494094848633,
          -5.7787556648254395,
          -1.7560852766036987,
          -6.795249938964844,
          -9.652413368225098,
          -3.707698345184326,
          -10.767224311828613,
          -5.869599342346191,
          -2.542851686477661,
          -9.504717826843262,
          -7.819777965545654,
          -5.00830078125,
          -4.289166450500488,
          -8.685873031616211,
          -9.675092697143555,
          -1.8497257232666016,
          -6.775035381317139,
          -5.07964563369751,
          -6.284043788909912,
          -1.8693541288375854,
          -11.467598915100098,
          -7.989661693572998,
          -9.50778865814209,
          -5.206012725830078,
          -1.4516903162002563,
          -3.1941518783569336,
          -2.166105031967163,
          -8.375984191894531,
          -9.211073875427246,
          -3.177783250808716,
          -10.51832389831543,
          -5.8459391593933105,
          -8.51919174194336,
          -1.5507019758224487,
          -11.518542289733887,
          -4.081791400909424,
          -6.771125793457031,
          -1.9238595962524414,
          -6.072545051574707,
          -10.622235298156738,
          -5.877378463745117,
          -8.804028511047363,
          -9.224255561828613,
          -6.3246588706970215,
          -5.5029096603393555,
          -9.722887992858887,
          -1.552711009979248,
          -8.159393310546875,
          -10.684854507446289,
          -8.377494812011719,
          -8.682360649108887,
          -5.739136695861816,
          -4.336318492889404,
          -10.741844177246094,
          -3.28234601020813,
          2.4754514694213867,
          -9.957642555236816,
          -6.253040313720703,
          -5.475831508636475,
          -7.192915916442871,
          -9.685800552368164,
          -5.2201247215271,
          -0.7671680450439453,
          -5.5145745277404785,
          -8.540305137634277,
          -4.0987067222595215,
          -5.9044270515441895,
          -9.727950096130371,
          -4.419264793395996,
          -4.4164204597473145,
          -11.613834381103516,
          -6.286205291748047,
          -7.0877604484558105,
          -3.3395073413848877,
          -8.620640754699707,
          -3.3841392993927,
          -10.620214462280273,
          -5.249154567718506,
          -7.156766414642334,
          -5.281898498535156,
          -3.110363721847534,
          -2.714293956756592,
          -8.881126403808594,
          -7.370478630065918,
          -3.8092424869537354,
          -3.4194300174713135,
          -9.30134391784668,
          -8.92054557800293,
          -8.54100513458252,
          -10.838029861450195
         ],
         "z": [
          -2.195199728012085,
          -0.4647606313228607,
          -2.5761406421661377,
          -4.932199478149414,
          -2.23164701461792,
          0.30796828866004944,
          -2.7274768352508545,
          0.03837614506483078,
          -0.1850709319114685,
          -2.7412281036376953,
          -1.714705228805542,
          -2.0818910598754883,
          -4.13397216796875,
          -0.03136950731277466,
          -2.623631715774536,
          -1.8707669973373413,
          0.5714927315711975,
          -3.8768088817596436,
          -3.2807137966156006,
          -0.6517552137374878,
          -2.5325934886932373,
          -1.4389568567276,
          -1.8671762943267822,
          -2.188460111618042,
          -2.5555152893066406,
          -4.614277362823486,
          -1.7502762079238892,
          -1.2748122215270996,
          -2.514986753463745,
          -1.7032270431518555,
          -1.923654317855835,
          -0.6407618522644043,
          -2.8199241161346436,
          -5.493653774261475,
          -2.319674015045166,
          -1.078872799873352,
          -1.5381439924240112,
          -2.1052756309509277,
          -2.5008935928344727,
          -1.6329461336135864,
          -2.3782753944396973,
          -0.7318981289863586,
          -3.275738477706909,
          -1.9469412565231323,
          -2.243997573852539,
          -1.4872139692306519,
          -0.5204151272773743,
          -2.6445767879486084,
          -2.426210403442383,
          -6.257627487182617,
          -1.5554343461990356,
          -1.4822300672531128,
          -2.157443046569824,
          -3.602043628692627,
          -2.0785434246063232,
          -2.468538522720337,
          -1.84408438205719,
          -2.5479235649108887,
          4.342710971832275,
          -2.034489154815674,
          -1.3698163032531738,
          -0.6135208010673523,
          -2.5711829662323,
          -2.3306710720062256,
          -2.3723504543304443,
          -1.353143572807312,
          -0.6561585664749146,
          -4.4616618156433105,
          -2.112922430038452,
          -1.9132442474365234,
          -2.023710012435913,
          -6.417787075042725,
          -1.7196553945541382,
          -2.2168684005737305,
          -2.400416851043701,
          -2.4874956607818604,
          -2.5167336463928223,
          -2.001498222351074,
          -0.2204330712556839,
          -2.659255027770996,
          -4.674534320831299,
          -2.450453281402588,
          -2.2411904335021973,
          -0.5599755644798279,
          -4.132094860076904,
          0.3144119679927826,
          -0.6402932405471802,
          -2.290672779083252,
          -3.2603352069854736,
          3.9512858390808105,
          -2.223515748977661,
          -2.6872029304504395,
          -2.6608264446258545,
          -1.3051483631134033,
          -1.9949969053268433,
          -2.805637836456299,
          3.165278434753418,
          -1.6176902055740356,
          -4.878108978271484,
          -2.4366796016693115,
          0.3457386791706085,
          -2.463684320449829,
          -1.22395920753479,
          0.3691660165786743,
          -2.0934784412384033,
          -1.6365913152694702,
          -2.2357306480407715,
          -2.106990098953247,
          -4.430685997009277,
          -1.7368170022964478,
          -2.1212878227233887,
          -1.2379652261734009,
          -1.0631816387176514,
          -1.349525809288025,
          4.0838398933410645,
          -0.4768475592136383,
          -2.4572019577026367,
          -1.4657403230667114,
          -1.8198357820510864,
          -2.942483425140381,
          -1.8155425786972046,
          -1.9080445766448975,
          -5.06413459777832,
          -2.530902147293091
         ]
        },
        {
         "hovertemplate": "Dominant_Topic=Topic 4<br>0=%{x}<br>1=%{y}<br>2=%{z}<extra></extra>",
         "legendgroup": "Topic 4",
         "marker": {
          "color": "#FF97FF",
          "opacity": 0.7,
          "symbol": "circle"
         },
         "mode": "markers",
         "name": "Topic 4",
         "scene": "scene",
         "showlegend": true,
         "type": "scatter3d",
         "x": [
          1.5974584817886353,
          -2.7588951587677,
          2.004430055618286,
          0.47352373600006104,
          2.0843894481658936,
          2.018991470336914,
          1.7106499671936035,
          1.5794265270233154,
          1.2227046489715576,
          2.213884115219116,
          0.6694682240486145,
          0.588053822517395,
          2.429938316345215,
          0.4006311595439911,
          2.963670253753662,
          -0.5370845794677734,
          2.0282528400421143,
          -2.5924248695373535,
          1.839151382446289,
          0.7315167784690857,
          3.202343702316284,
          0.4982220530509949,
          0.608294665813446,
          1.2485694885253906,
          0.6593735218048096,
          3.0173730850219727,
          2.484483480453491,
          0.7089354991912842,
          0.3086843192577362,
          -0.4046572148799896,
          1.5360519886016846,
          0.7688073515892029,
          2.4746203422546387,
          2.27316951751709,
          0.03734267130494118,
          -2.526102066040039,
          1.2319552898406982,
          2.8875975608825684,
          1.2090502977371216,
          1.5140780210494995,
          0.5757179260253906,
          0.91713947057724,
          0.7740418910980225,
          0.6365957856178284,
          0.2760927081108093,
          0.5724433660507202,
          -3.295118570327759,
          0.8020151853561401,
          -0.5337955951690674,
          1.8680144548416138,
          1.8264930248260498,
          1.7549086809158325,
          -2.8806142807006836,
          0.6039614677429199,
          -3.0148794651031494,
          -1.2374166250228882,
          0.7010434865951538,
          0.16942091286182404,
          3.2780725955963135,
          0.89447021484375,
          2.9469454288482666,
          2.9965016841888428,
          -0.6910464763641357,
          1.7308911085128784,
          1.0959213972091675,
          3.115917921066284,
          0.7064186930656433,
          0.364694744348526,
          -0.5370166897773743,
          -0.4137026071548462,
          0.5350247025489807,
          1.0295532941818237,
          0.8858873248100281,
          2.713085651397705,
          0.6462897062301636,
          2.527634382247925,
          0.7734761238098145,
          -0.9910796880722046,
          -2.9131696224212646,
          0.42235276103019714,
          -0.0983399972319603,
          1.5502580404281616,
          0.5568472743034363,
          0.9390655755996704,
          3.357003688812256,
          1.0719236135482788,
          1.2495472431182861,
          -0.41012388467788696,
          0.8176352381706238,
          0.6519930362701416,
          -1.6442155838012695,
          0.7720842361450195,
          -0.09964931011199951,
          -2.726055860519409,
          -3.5756611824035645,
          0.8384081721305847
         ],
         "y": [
          1.1855006217956543,
          4.139423847198486,
          5.560274600982666,
          4.09316873550415,
          1.5902913808822632,
          2.4536333084106445,
          5.912556171417236,
          1.4910515546798706,
          6.5734100341796875,
          4.714851379394531,
          7.570642948150635,
          6.072388172149658,
          3.368196964263916,
          3.9897491931915283,
          4.601327419281006,
          5.377260208129883,
          5.5463762283325195,
          3.9316561222076416,
          4.853623390197754,
          6.910995006561279,
          4.005214691162109,
          6.852192401885986,
          8.322151184082031,
          5.289139747619629,
          8.762297630310059,
          2.1362268924713135,
          6.182786464691162,
          7.181087493896484,
          4.030298233032227,
          5.648996353149414,
          4.189916610717773,
          7.165799140930176,
          5.457705497741699,
          5.014503002166748,
          8.291803359985352,
          4.425774574279785,
          6.16343355178833,
          2.5943565368652344,
          6.248327732086182,
          3.1370036602020264,
          1.9312011003494263,
          3.9899709224700928,
          6.266088008880615,
          8.97214412689209,
          8.679240226745605,
          1.9312297105789185,
          3.499643564224243,
          5.081040382385254,
          4.701012134552002,
          4.110044002532959,
          5.153416156768799,
          4.932442665100098,
          3.9554781913757324,
          8.115452766418457,
          3.519412040710449,
          4.100069999694824,
          7.968795299530029,
          5.3686442375183105,
          2.3045425415039062,
          8.666877746582031,
          4.847287178039551,
          4.988037109375,
          4.459445953369141,
          4.222246170043945,
          2.7853713035583496,
          3.598510503768921,
          8.375792503356934,
          6.859501838684082,
          5.377255439758301,
          4.42552375793457,
          6.665609836578369,
          3.641150951385498,
          8.908202171325684,
          3.4764316082000732,
          7.694308757781982,
          4.47440767288208,
          8.22402572631836,
          4.409767150878906,
          3.9025869369506836,
          2.111203908920288,
          8.37336540222168,
          3.292067766189575,
          1.9197090864181519,
          8.756064414978027,
          4.013629913330078,
          6.7037811279296875,
          2.5750203132629395,
          4.37819766998291,
          9.007696151733398,
          7.116945743560791,
          4.555384635925293,
          9.2064790725708,
          4.450844764709473,
          4.091060161590576,
          3.1628079414367676,
          8.259538650512695
         ],
         "z": [
          6.578946113586426,
          3.8139002323150635,
          7.4694318771362305,
          3.4751429557800293,
          6.950872898101807,
          3.7997031211853027,
          7.36564826965332,
          6.528866767883301,
          5.625247955322266,
          4.693658351898193,
          7.546565532684326,
          6.061894416809082,
          5.200631618499756,
          3.5861008167266846,
          2.4833338260650635,
          4.7368059158325195,
          7.503385066986084,
          3.1105875968933105,
          5.942090034484863,
          6.401947975158691,
          5.125918865203857,
          6.824894905090332,
          8.56440544128418,
          3.304227828979492,
          8.934345245361328,
          7.574774742126465,
          2.854353427886963,
          6.827953815460205,
          3.1812686920166016,
          5.206575393676758,
          4.885842323303223,
          7.27433443069458,
          3.6988680362701416,
          7.422772407531738,
          8.024526596069336,
          4.282613754272461,
          6.428470134735107,
          4.81197452545166,
          7.029728412628174,
          4.611215114593506,
          8.089411735534668,
          3.925891160964966,
          6.57961893081665,
          8.540080070495605,
          8.363358497619629,
          8.089990615844727,
          3.1610076427459717,
          1.034705400466919,
          3.2639739513397217,
          5.326659202575684,
          6.350362300872803,
          5.960676193237305,
          3.520981788635254,
          7.865147113800049,
          1.9403190612792969,
          2.1168720722198486,
          8.11002254486084,
          5.908990859985352,
          8.032687187194824,
          8.284805297851562,
          5.874388694763184,
          2.3230793476104736,
          2.735285758972168,
          5.214231491088867,
          4.898554801940918,
          5.463882923126221,
          8.665665626525879,
          6.845967769622803,
          4.736758708953857,
          2.4534709453582764,
          6.424488544464111,
          4.931948661804199,
          8.472757339477539,
          5.305541515350342,
          7.702702045440674,
          6.068414688110352,
          7.612006187438965,
          2.836852788925171,
          3.2801365852355957,
          8.077850341796875,
          7.863411903381348,
          4.8159708976745605,
          8.066287994384766,
          8.814618110656738,
          5.1521897315979,
          7.276631832122803,
          4.728193759918213,
          2.642557144165039,
          8.966848373413086,
          7.076669692993164,
          3.1081111431121826,
          9.13589859008789,
          2.941333055496216,
          3.6370630264282227,
          2.5223705768585205,
          8.183358192443848
         ]
        },
        {
         "hovertemplate": "Dominant_Topic=Topic 5<br>0=%{x}<br>1=%{y}<br>2=%{z}<extra></extra>",
         "legendgroup": "Topic 5",
         "marker": {
          "color": "#FECB52",
          "opacity": 0.7,
          "symbol": "circle"
         },
         "mode": "markers",
         "name": "Topic 5",
         "scene": "scene",
         "showlegend": true,
         "type": "scatter3d",
         "x": [
          9.90937328338623,
          9.119213104248047,
          9.18401050567627,
          9.776932716369629,
          4.565108776092529,
          9.841343879699707,
          11.062891960144043,
          4.2517805099487305,
          9.60021686553955,
          9.563246726989746,
          10.015978813171387,
          10.708815574645996,
          9.68313980102539,
          8.908271789550781,
          10.600666046142578,
          10.367773056030273,
          10.002120971679688,
          9.073171615600586,
          3.9300801753997803,
          2.3040425777435303,
          4.317690372467041,
          10.181452751159668,
          9.594172477722168,
          10.413738250732422,
          4.003961563110352,
          10.463672637939453,
          9.700878143310547
         ],
         "y": [
          0.32036641240119934,
          -0.3141810894012451,
          0.0717344805598259,
          -0.2712898254394531,
          -1.7573232650756836,
          -0.19237564504146576,
          -0.09671515226364136,
          -0.8235747814178467,
          -0.1618364155292511,
          -0.23146899044513702,
          0.2249300330877304,
          -0.021121272817254066,
          0.04483148828148842,
          -0.0546523742377758,
          -0.022374223917722702,
          0.22627802193164825,
          0.45395511388778687,
          -0.19238099455833435,
          -0.5331153273582458,
          2.89660906791687,
          0.031785909086465836,
          -0.3520267605781555,
          0.3587267994880676,
          0.00022462406195700169,
          3.926213502883911,
          -0.14130519330501556,
          -0.16791580617427826
         ],
         "z": [
          0.27987387776374817,
          0.6857675313949585,
          0.6435065865516663,
          0.604133665561676,
          0.3598092496395111,
          0.09214481711387634,
          -0.31395411491394043,
          1.0399936437606812,
          0.7603538036346436,
          0.4624501168727875,
          0.017313580960035324,
          -0.08310230821371078,
          0.8311222791671753,
          0.7803521156311035,
          -0.07995739579200745,
          0.27292007207870483,
          0.9140565991401672,
          0.7436379194259644,
          2.718132734298706,
          -3.1074111461639404,
          2.1964714527130127,
          0.41079217195510864,
          0.3418571352958679,
          0.44761279225349426,
          -4.022701740264893,
          0.3601210117340088,
          0.19519050419330597
         ]
        },
        {
         "hovertemplate": "Dominant_Topic=Topic 6<br>0=%{x}<br>1=%{y}<br>2=%{z}<extra></extra>",
         "legendgroup": "Topic 6",
         "marker": {
          "color": "#636efa",
          "opacity": 0.7,
          "symbol": "circle"
         },
         "mode": "markers",
         "name": "Topic 6",
         "scene": "scene",
         "showlegend": true,
         "type": "scatter3d",
         "x": [
          -4.596466064453125,
          -4.595780372619629,
          -4.59696626663208,
          -4.597172260284424,
          -4.595686912536621,
          -4.59595251083374
         ],
         "y": [
          1.5525556802749634,
          1.552758812904358,
          1.5531091690063477,
          1.5541597604751587,
          1.5520471334457397,
          1.5525681972503662
         ],
         "z": [
          6.184377670288086,
          6.184229373931885,
          6.182572364807129,
          6.178677558898926,
          6.185446739196777,
          6.185281276702881
         ]
        },
        {
         "hovertemplate": "Dominant_Topic=Topic 7<br>0=%{x}<br>1=%{y}<br>2=%{z}<extra></extra>",
         "legendgroup": "Topic 7",
         "marker": {
          "color": "#EF553B",
          "opacity": 0.7,
          "symbol": "circle"
         },
         "mode": "markers",
         "name": "Topic 7",
         "scene": "scene",
         "showlegend": true,
         "type": "scatter3d",
         "x": [
          -0.9975663423538208,
          0.3371065855026245,
          -0.5530540943145752,
          -0.4101039171218872,
          0.3298984467983246,
          0.24016883969306946,
          -1.0929056406021118,
          -0.7773139476776123,
          -0.6545052528381348,
          -0.5243328809738159,
          -1.6685421466827393,
          -1.0350762605667114,
          -1.0340055227279663,
          -0.4205845296382904,
          -0.9563595056533813,
          -0.9512895345687866,
          -1.047323226928711,
          -1.0774849653244019,
          0.06301096826791763,
          -1.4498088359832764
         ],
         "y": [
          -8.130867004394531,
          -8.150598526000977,
          -9.203431129455566,
          -9.987900733947754,
          -8.223487854003906,
          -8.079044342041016,
          -11.21297836303711,
          -8.582938194274902,
          -10.378585815429688,
          -10.116609573364258,
          -7.4857659339904785,
          -11.10099983215332,
          -11.099019050598145,
          -9.944775581359863,
          -8.205591201782227,
          -10.941091537475586,
          -11.124246597290039,
          -8.180474281311035,
          -7.984002113342285,
          -8.00460147857666
         ],
         "z": [
          -1.7086879014968872,
          -1.5940947532653809,
          -1.611760139465332,
          -1.5231298208236694,
          -1.6040551662445068,
          -1.592890739440918,
          -1.1346935033798218,
          -1.65556800365448,
          -1.4180893898010254,
          -1.4826124906539917,
          -2.1758482456207275,
          -1.1728681325912476,
          -1.173522710800171,
          -1.5288093090057373,
          -1.6880974769592285,
          -1.2257969379425049,
          -1.1647844314575195,
          -1.6904584169387817,
          -1.6000934839248657,
          -1.6663525104522705
         ]
        },
        {
         "hovertemplate": "Dominant_Topic=Topic 8<br>0=%{x}<br>1=%{y}<br>2=%{z}<extra></extra>",
         "legendgroup": "Topic 8",
         "marker": {
          "color": "#00cc96",
          "opacity": 0.7,
          "symbol": "circle"
         },
         "mode": "markers",
         "name": "Topic 8",
         "scene": "scene",
         "showlegend": true,
         "type": "scatter3d",
         "x": [
          -9.847177505493164,
          -9.847269058227539
         ],
         "y": [
          3.3157386779785156,
          3.3153767585754395
         ],
         "z": [
          4.114509582519531,
          4.114711761474609
         ]
        },
        {
         "hovertemplate": "Dominant_Topic=Topic 9<br>0=%{x}<br>1=%{y}<br>2=%{z}<extra></extra>",
         "legendgroup": "Topic 9",
         "marker": {
          "color": "#ab63fa",
          "opacity": 0.7,
          "symbol": "circle"
         },
         "mode": "markers",
         "name": "Topic 9",
         "scene": "scene",
         "showlegend": true,
         "type": "scatter3d",
         "x": [
          -2.0445094108581543,
          -1.23634934425354
         ],
         "y": [
          -6.906517028808594,
          -2.7977023124694824
         ],
         "z": [
          -2.657747745513916,
          -4.428445816040039
         ]
        }
       ],
       "layout": {
        "height": 800,
        "legend": {
         "title": {
          "text": "Dominant_Topic"
         },
         "tracegroupgap": 0
        },
        "scene": {
         "domain": {
          "x": [
           0,
           1
          ],
          "y": [
           0,
           1
          ]
         },
         "xaxis": {
          "title": {
           "text": "0"
          }
         },
         "yaxis": {
          "title": {
           "text": "1"
          }
         },
         "zaxis": {
          "title": {
           "text": "2"
          }
         }
        },
        "template": {
         "data": {
          "bar": [
           {
            "error_x": {
             "color": "#2a3f5f"
            },
            "error_y": {
             "color": "#2a3f5f"
            },
            "marker": {
             "line": {
              "color": "#E5ECF6",
              "width": 0.5
             }
            },
            "type": "bar"
           }
          ],
          "barpolar": [
           {
            "marker": {
             "line": {
              "color": "#E5ECF6",
              "width": 0.5
             }
            },
            "type": "barpolar"
           }
          ],
          "carpet": [
           {
            "aaxis": {
             "endlinecolor": "#2a3f5f",
             "gridcolor": "white",
             "linecolor": "white",
             "minorgridcolor": "white",
             "startlinecolor": "#2a3f5f"
            },
            "baxis": {
             "endlinecolor": "#2a3f5f",
             "gridcolor": "white",
             "linecolor": "white",
             "minorgridcolor": "white",
             "startlinecolor": "#2a3f5f"
            },
            "type": "carpet"
           }
          ],
          "choropleth": [
           {
            "colorbar": {
             "outlinewidth": 0,
             "ticks": ""
            },
            "type": "choropleth"
           }
          ],
          "contour": [
           {
            "colorbar": {
             "outlinewidth": 0,
             "ticks": ""
            },
            "colorscale": [
             [
              0,
              "#0d0887"
             ],
             [
              0.1111111111111111,
              "#46039f"
             ],
             [
              0.2222222222222222,
              "#7201a8"
             ],
             [
              0.3333333333333333,
              "#9c179e"
             ],
             [
              0.4444444444444444,
              "#bd3786"
             ],
             [
              0.5555555555555556,
              "#d8576b"
             ],
             [
              0.6666666666666666,
              "#ed7953"
             ],
             [
              0.7777777777777778,
              "#fb9f3a"
             ],
             [
              0.8888888888888888,
              "#fdca26"
             ],
             [
              1,
              "#f0f921"
             ]
            ],
            "type": "contour"
           }
          ],
          "contourcarpet": [
           {
            "colorbar": {
             "outlinewidth": 0,
             "ticks": ""
            },
            "type": "contourcarpet"
           }
          ],
          "heatmap": [
           {
            "colorbar": {
             "outlinewidth": 0,
             "ticks": ""
            },
            "colorscale": [
             [
              0,
              "#0d0887"
             ],
             [
              0.1111111111111111,
              "#46039f"
             ],
             [
              0.2222222222222222,
              "#7201a8"
             ],
             [
              0.3333333333333333,
              "#9c179e"
             ],
             [
              0.4444444444444444,
              "#bd3786"
             ],
             [
              0.5555555555555556,
              "#d8576b"
             ],
             [
              0.6666666666666666,
              "#ed7953"
             ],
             [
              0.7777777777777778,
              "#fb9f3a"
             ],
             [
              0.8888888888888888,
              "#fdca26"
             ],
             [
              1,
              "#f0f921"
             ]
            ],
            "type": "heatmap"
           }
          ],
          "heatmapgl": [
           {
            "colorbar": {
             "outlinewidth": 0,
             "ticks": ""
            },
            "colorscale": [
             [
              0,
              "#0d0887"
             ],
             [
              0.1111111111111111,
              "#46039f"
             ],
             [
              0.2222222222222222,
              "#7201a8"
             ],
             [
              0.3333333333333333,
              "#9c179e"
             ],
             [
              0.4444444444444444,
              "#bd3786"
             ],
             [
              0.5555555555555556,
              "#d8576b"
             ],
             [
              0.6666666666666666,
              "#ed7953"
             ],
             [
              0.7777777777777778,
              "#fb9f3a"
             ],
             [
              0.8888888888888888,
              "#fdca26"
             ],
             [
              1,
              "#f0f921"
             ]
            ],
            "type": "heatmapgl"
           }
          ],
          "histogram": [
           {
            "marker": {
             "colorbar": {
              "outlinewidth": 0,
              "ticks": ""
             }
            },
            "type": "histogram"
           }
          ],
          "histogram2d": [
           {
            "colorbar": {
             "outlinewidth": 0,
             "ticks": ""
            },
            "colorscale": [
             [
              0,
              "#0d0887"
             ],
             [
              0.1111111111111111,
              "#46039f"
             ],
             [
              0.2222222222222222,
              "#7201a8"
             ],
             [
              0.3333333333333333,
              "#9c179e"
             ],
             [
              0.4444444444444444,
              "#bd3786"
             ],
             [
              0.5555555555555556,
              "#d8576b"
             ],
             [
              0.6666666666666666,
              "#ed7953"
             ],
             [
              0.7777777777777778,
              "#fb9f3a"
             ],
             [
              0.8888888888888888,
              "#fdca26"
             ],
             [
              1,
              "#f0f921"
             ]
            ],
            "type": "histogram2d"
           }
          ],
          "histogram2dcontour": [
           {
            "colorbar": {
             "outlinewidth": 0,
             "ticks": ""
            },
            "colorscale": [
             [
              0,
              "#0d0887"
             ],
             [
              0.1111111111111111,
              "#46039f"
             ],
             [
              0.2222222222222222,
              "#7201a8"
             ],
             [
              0.3333333333333333,
              "#9c179e"
             ],
             [
              0.4444444444444444,
              "#bd3786"
             ],
             [
              0.5555555555555556,
              "#d8576b"
             ],
             [
              0.6666666666666666,
              "#ed7953"
             ],
             [
              0.7777777777777778,
              "#fb9f3a"
             ],
             [
              0.8888888888888888,
              "#fdca26"
             ],
             [
              1,
              "#f0f921"
             ]
            ],
            "type": "histogram2dcontour"
           }
          ],
          "mesh3d": [
           {
            "colorbar": {
             "outlinewidth": 0,
             "ticks": ""
            },
            "type": "mesh3d"
           }
          ],
          "parcoords": [
           {
            "line": {
             "colorbar": {
              "outlinewidth": 0,
              "ticks": ""
             }
            },
            "type": "parcoords"
           }
          ],
          "pie": [
           {
            "automargin": true,
            "type": "pie"
           }
          ],
          "scatter": [
           {
            "marker": {
             "colorbar": {
              "outlinewidth": 0,
              "ticks": ""
             }
            },
            "type": "scatter"
           }
          ],
          "scatter3d": [
           {
            "line": {
             "colorbar": {
              "outlinewidth": 0,
              "ticks": ""
             }
            },
            "marker": {
             "colorbar": {
              "outlinewidth": 0,
              "ticks": ""
             }
            },
            "type": "scatter3d"
           }
          ],
          "scattercarpet": [
           {
            "marker": {
             "colorbar": {
              "outlinewidth": 0,
              "ticks": ""
             }
            },
            "type": "scattercarpet"
           }
          ],
          "scattergeo": [
           {
            "marker": {
             "colorbar": {
              "outlinewidth": 0,
              "ticks": ""
             }
            },
            "type": "scattergeo"
           }
          ],
          "scattergl": [
           {
            "marker": {
             "colorbar": {
              "outlinewidth": 0,
              "ticks": ""
             }
            },
            "type": "scattergl"
           }
          ],
          "scattermapbox": [
           {
            "marker": {
             "colorbar": {
              "outlinewidth": 0,
              "ticks": ""
             }
            },
            "type": "scattermapbox"
           }
          ],
          "scatterpolar": [
           {
            "marker": {
             "colorbar": {
              "outlinewidth": 0,
              "ticks": ""
             }
            },
            "type": "scatterpolar"
           }
          ],
          "scatterpolargl": [
           {
            "marker": {
             "colorbar": {
              "outlinewidth": 0,
              "ticks": ""
             }
            },
            "type": "scatterpolargl"
           }
          ],
          "scatterternary": [
           {
            "marker": {
             "colorbar": {
              "outlinewidth": 0,
              "ticks": ""
             }
            },
            "type": "scatterternary"
           }
          ],
          "surface": [
           {
            "colorbar": {
             "outlinewidth": 0,
             "ticks": ""
            },
            "colorscale": [
             [
              0,
              "#0d0887"
             ],
             [
              0.1111111111111111,
              "#46039f"
             ],
             [
              0.2222222222222222,
              "#7201a8"
             ],
             [
              0.3333333333333333,
              "#9c179e"
             ],
             [
              0.4444444444444444,
              "#bd3786"
             ],
             [
              0.5555555555555556,
              "#d8576b"
             ],
             [
              0.6666666666666666,
              "#ed7953"
             ],
             [
              0.7777777777777778,
              "#fb9f3a"
             ],
             [
              0.8888888888888888,
              "#fdca26"
             ],
             [
              1,
              "#f0f921"
             ]
            ],
            "type": "surface"
           }
          ],
          "table": [
           {
            "cells": {
             "fill": {
              "color": "#EBF0F8"
             },
             "line": {
              "color": "white"
             }
            },
            "header": {
             "fill": {
              "color": "#C8D4E3"
             },
             "line": {
              "color": "white"
             }
            },
            "type": "table"
           }
          ]
         },
         "layout": {
          "annotationdefaults": {
           "arrowcolor": "#2a3f5f",
           "arrowhead": 0,
           "arrowwidth": 1
          },
          "autotypenumbers": "strict",
          "coloraxis": {
           "colorbar": {
            "outlinewidth": 0,
            "ticks": ""
           }
          },
          "colorscale": {
           "diverging": [
            [
             0,
             "#8e0152"
            ],
            [
             0.1,
             "#c51b7d"
            ],
            [
             0.2,
             "#de77ae"
            ],
            [
             0.3,
             "#f1b6da"
            ],
            [
             0.4,
             "#fde0ef"
            ],
            [
             0.5,
             "#f7f7f7"
            ],
            [
             0.6,
             "#e6f5d0"
            ],
            [
             0.7,
             "#b8e186"
            ],
            [
             0.8,
             "#7fbc41"
            ],
            [
             0.9,
             "#4d9221"
            ],
            [
             1,
             "#276419"
            ]
           ],
           "sequential": [
            [
             0,
             "#0d0887"
            ],
            [
             0.1111111111111111,
             "#46039f"
            ],
            [
             0.2222222222222222,
             "#7201a8"
            ],
            [
             0.3333333333333333,
             "#9c179e"
            ],
            [
             0.4444444444444444,
             "#bd3786"
            ],
            [
             0.5555555555555556,
             "#d8576b"
            ],
            [
             0.6666666666666666,
             "#ed7953"
            ],
            [
             0.7777777777777778,
             "#fb9f3a"
            ],
            [
             0.8888888888888888,
             "#fdca26"
            ],
            [
             1,
             "#f0f921"
            ]
           ],
           "sequentialminus": [
            [
             0,
             "#0d0887"
            ],
            [
             0.1111111111111111,
             "#46039f"
            ],
            [
             0.2222222222222222,
             "#7201a8"
            ],
            [
             0.3333333333333333,
             "#9c179e"
            ],
            [
             0.4444444444444444,
             "#bd3786"
            ],
            [
             0.5555555555555556,
             "#d8576b"
            ],
            [
             0.6666666666666666,
             "#ed7953"
            ],
            [
             0.7777777777777778,
             "#fb9f3a"
            ],
            [
             0.8888888888888888,
             "#fdca26"
            ],
            [
             1,
             "#f0f921"
            ]
           ]
          },
          "colorway": [
           "#636efa",
           "#EF553B",
           "#00cc96",
           "#ab63fa",
           "#FFA15A",
           "#19d3f3",
           "#FF6692",
           "#B6E880",
           "#FF97FF",
           "#FECB52"
          ],
          "font": {
           "color": "#2a3f5f"
          },
          "geo": {
           "bgcolor": "white",
           "lakecolor": "white",
           "landcolor": "#E5ECF6",
           "showlakes": true,
           "showland": true,
           "subunitcolor": "white"
          },
          "hoverlabel": {
           "align": "left"
          },
          "hovermode": "closest",
          "mapbox": {
           "style": "light"
          },
          "paper_bgcolor": "white",
          "plot_bgcolor": "#E5ECF6",
          "polar": {
           "angularaxis": {
            "gridcolor": "white",
            "linecolor": "white",
            "ticks": ""
           },
           "bgcolor": "#E5ECF6",
           "radialaxis": {
            "gridcolor": "white",
            "linecolor": "white",
            "ticks": ""
           }
          },
          "scene": {
           "xaxis": {
            "backgroundcolor": "#E5ECF6",
            "gridcolor": "white",
            "gridwidth": 2,
            "linecolor": "white",
            "showbackground": true,
            "ticks": "",
            "zerolinecolor": "white"
           },
           "yaxis": {
            "backgroundcolor": "#E5ECF6",
            "gridcolor": "white",
            "gridwidth": 2,
            "linecolor": "white",
            "showbackground": true,
            "ticks": "",
            "zerolinecolor": "white"
           },
           "zaxis": {
            "backgroundcolor": "#E5ECF6",
            "gridcolor": "white",
            "gridwidth": 2,
            "linecolor": "white",
            "showbackground": true,
            "ticks": "",
            "zerolinecolor": "white"
           }
          },
          "shapedefaults": {
           "line": {
            "color": "#2a3f5f"
           }
          },
          "ternary": {
           "aaxis": {
            "gridcolor": "white",
            "linecolor": "white",
            "ticks": ""
           },
           "baxis": {
            "gridcolor": "white",
            "linecolor": "white",
            "ticks": ""
           },
           "bgcolor": "#E5ECF6",
           "caxis": {
            "gridcolor": "white",
            "linecolor": "white",
            "ticks": ""
           }
          },
          "title": {
           "x": 0.05
          },
          "xaxis": {
           "automargin": true,
           "gridcolor": "white",
           "linecolor": "white",
           "ticks": "",
           "title": {
            "standoff": 15
           },
           "zerolinecolor": "white",
           "zerolinewidth": 2
          },
          "yaxis": {
           "automargin": true,
           "gridcolor": "white",
           "linecolor": "white",
           "ticks": "",
           "title": {
            "standoff": 15
           },
           "zerolinecolor": "white",
           "zerolinewidth": 2
          }
         }
        },
        "title": {
         "text": "3d TSNE Plot for Topic Model"
        },
        "width": 900
       }
      },
      "text/html": [
       "<div>                            <div id=\"726ecbd5-5ffd-4f1b-8aed-19cc2ff02e8a\" class=\"plotly-graph-div\" style=\"height:800px; width:900px;\"></div>            <script type=\"text/javascript\">                require([\"plotly\"], function(Plotly) {                    window.PLOTLYENV=window.PLOTLYENV || {};                                    if (document.getElementById(\"726ecbd5-5ffd-4f1b-8aed-19cc2ff02e8a\")) {                    Plotly.newPlot(                        \"726ecbd5-5ffd-4f1b-8aed-19cc2ff02e8a\",                        [{\"hovertemplate\": \"Dominant_Topic=Topic 0<br>0=%{x}<br>1=%{y}<br>2=%{z}<extra></extra>\", \"legendgroup\": \"Topic 0\", \"marker\": {\"color\": \"#636efa\", \"opacity\": 0.7, \"symbol\": \"circle\"}, \"mode\": \"markers\", \"name\": \"Topic 0\", \"scene\": \"scene\", \"showlegend\": true, \"type\": \"scatter3d\", \"x\": [-13.415030479431152, -9.263350486755371, -13.972281455993652, -15.343217849731445, -14.854886054992676, -8.613325119018555, -8.09769344329834, -11.93558120727539, -5.534071445465088, -13.169941902160645, -10.539783477783203, -13.714682579040527, -7.266690254211426, -3.8411402702331543, -5.63594388961792, -6.304568767547607, -4.149039268493652, -10.543915748596191, -3.1338894367218018, -7.540835857391357, -15.231765747070312, -15.27570629119873, -5.438457012176514, -8.391931533813477, -10.277381896972656, -7.367453098297119, -12.874975204467773, -12.182073593139648, -13.148606300354004, -3.524700403213501, -7.865997791290283, -10.556167602539062, -10.826374053955078, -10.07764720916748, -12.808846473693848, -11.123418807983398, -6.5299482345581055, -12.935144424438477, -12.78110408782959, -5.471771717071533, -13.351211547851562, -7.259653568267822, -5.44525671005249, -7.073855876922607, -6.637545585632324, -14.334756851196289, -7.045097827911377, -12.602620124816895, -13.467751502990723, -13.641348838806152, -15.466914176940918, -3.9284729957580566, -1.898876428604126, -11.338913917541504, -4.91871452331543, -7.849256992340088, -1.272097110748291, -7.296189308166504, -2.954366683959961, -6.559550762176514, -9.32282829284668, -14.086196899414062, -6.935599327087402, -7.515066623687744, -14.211466789245605, -0.8785799741744995, -2.6699202060699463, -7.6207146644592285, -8.8463134765625, -7.460567474365234, -7.073328018188477, -5.143652439117432, -6.7347412109375, -10.857190132141113, -3.784125804901123, -5.329858779907227, -4.0166521072387695, -11.963101387023926, -5.1990885734558105, -10.793634414672852, -14.705766677856445, -8.693171501159668, -15.177062034606934, -12.086416244506836, -13.266789436340332, -10.622549057006836, -5.101242542266846, -9.86840534210205, -6.059387683868408, -10.925902366638184, -12.377144813537598, -11.171799659729004, -10.535930633544922, -6.873592853546143, -4.451298236846924, -10.403755187988281, -7.593453407287598, -12.5043363571167, -6.33294677734375, -3.3377151489257812, -7.230471611022949, -7.178590297698975, -9.44747543334961, -4.426396369934082, -7.311764240264893, -10.055057525634766, -9.674057960510254, -13.857385635375977, -9.870687484741211, -9.002729415893555, -9.109086036682129, -4.972746849060059, -8.048894882202148, -8.721535682678223, -3.676610231399536, -13.474837303161621, -9.214128494262695, -7.8801493644714355, -14.832788467407227, -9.76232624053955, -11.014201164245605, -12.45137882232666, -14.422724723815918, -7.927712440490723, -4.837693691253662, -13.231607437133789, -9.996317863464355, -4.284077167510986, -12.368834495544434, -12.460565567016602, -3.398782730102539, -7.505851745605469, -5.188405513763428, -13.70805549621582, -14.258416175842285, -8.387685775756836, -2.978518009185791, -5.113100528717041, -12.861523628234863, -7.551660060882568, -3.1428322792053223, -5.962372779846191, -8.124350547790527, -5.353520393371582, -4.01511812210083, -7.593625545501709, -8.764062881469727, -7.282269477844238, -10.655622482299805, -5.5594940185546875, -7.4621806144714355, -10.45226001739502, -5.113427639007568, -13.501523971557617, -14.387001991271973, -9.66612434387207, -11.08078384399414, -11.757210731506348, -12.40868091583252, -11.999224662780762, -9.22761058807373, -3.628938913345337, -5.867222309112549, -2.585219144821167, -8.34063720703125, -9.699076652526855, -13.474173545837402, -13.864514350891113, -12.343679428100586, -7.907351970672607, -4.10491418838501, -9.471713066101074, -13.728262901306152, -10.56843090057373, -12.863654136657715, -5.332376956939697, -4.814337253570557, -10.45225715637207, -13.816555976867676, -4.9621195793151855, -12.589336395263672, -11.589167594909668, -5.2780585289001465, -7.32312536239624, -7.477668285369873, -13.324992179870605, -7.3755717277526855, -3.941209554672241, -13.941781997680664, -9.856322288513184, -8.551252365112305, -14.656834602355957, -7.61336612701416, -5.029509544372559, -15.220841407775879, -4.213632106781006, -15.420394897460938, -8.715165138244629, -7.3459696769714355, -7.810959339141846, -4.060760974884033, -7.282955646514893, -5.72260046005249, -8.352028846740723, -5.8030877113342285, -7.413901329040527, -9.082399368286133, -6.814955711364746, -8.918282508850098, -7.136428356170654, -9.22971248626709, -5.638862133026123, -12.332645416259766, -10.06098747253418, -15.2264986038208, -11.293159484863281, -4.128021717071533, -12.120245933532715, -3.9273009300231934, -4.676103591918945, -13.226082801818848, -3.941178560256958, -8.0842924118042, -10.436300277709961, -12.553054809570312, -6.739729881286621, -5.608707904815674, -11.493252754211426, -13.186695098876953, -4.87457799911499, -8.421627044677734, -12.02802562713623], \"y\": [-0.11425600200891495, -1.5488026142120361, -0.38009724020957947, -1.9050016403198242, -2.6755940914154053, -4.401402950286865, -4.0571608543396, -2.144761323928833, 0.8032205104827881, -3.073132276535034, -1.869152307510376, 0.05592877417802811, -5.688071250915527, 2.617060661315918, 2.392038345336914, 0.15055295825004578, 2.868293523788452, -1.0745757818222046, 0.7543544769287109, -6.468869209289551, -2.0637049674987793, -2.016483783721924, -1.8969849348068237, -1.0787131786346436, -0.4994889199733734, -2.3640496730804443, -2.2945377826690674, 1.4220036268234253, -2.239166021347046, 1.2641545534133911, -4.774429798126221, 2.0374596118927, -3.426198720932007, -1.5906529426574707, -0.41332003474235535, -1.8670034408569336, -6.006717681884766, -0.29987505078315735, -2.5077438354492188, -2.1612517833709717, 0.7731505632400513, 1.3265329599380493, -1.9032636880874634, 1.8944607973098755, 0.2465890347957611, -2.0200648307800293, 0.7633283138275146, -2.5384652614593506, -1.4629501104354858, -2.3368966579437256, -1.8885414600372314, 0.4923291802406311, -1.8464720249176025, 1.0802794694900513, 0.32607629895210266, -0.46196258068084717, -1.3670731782913208, 1.583255648612976, 1.0930534601211548, -5.617478370666504, -0.41364192962646484, 0.011694032698869705, -6.292609691619873, -5.427227973937988, -2.5291717052459717, -1.8054219484329224, 0.15875642001628876, -1.2083356380462646, -0.07956195622682571, -5.808586597442627, 2.8728809356689453, 0.31856629252433777, 1.153513789176941, -2.0673327445983887, 2.64406418800354, 1.6624523401260376, 0.2337905615568161, -1.5539727210998535, 1.229828119277954, -2.298640012741089, -0.20601604878902435, -5.788437843322754, -2.0057504177093506, 1.1942129135131836, -2.3017706871032715, -3.4769201278686523, 0.6556196212768555, -2.2432701587677, -0.04539904370903969, -0.7077977061271667, -2.246112585067749, -1.8551090955734253, -1.242457389831543, -3.566959857940674, 2.0123119354248047, -0.2880626320838928, -4.244379997253418, -2.942202091217041, 1.0177242755889893, 1.8682842254638672, 1.5353604555130005, 0.9187518358230591, -5.018477916717529, 1.343989610671997, -6.601414680480957, -2.5121867656707764, -4.796861171722412, -3.1355957984924316, -5.052585124969482, 0.3696182072162628, 0.2643052935600281, -0.02675756998360157, -0.6909681558609009, 0.3739289343357086, 1.2993477582931519, 0.5677922964096069, -1.6765588521957397, 1.040327548980713, -2.6383614540100098, -0.33682188391685486, -1.0196176767349243, 1.1467492580413818, -2.401890516281128, -6.660747051239014, 0.2949815094470978, 0.5131306648254395, -2.1172397136688232, 2.7770726680755615, 1.1374995708465576, -4.145452976226807, 0.4248347282409668, -3.7633962631225586, -0.33939945697784424, -0.5484739542007446, -2.3976540565490723, -4.652136325836182, 2.113440990447998, 1.2157628536224365, 1.2738996744155884, -4.76180362701416, 0.9802860617637634, 1.4701592922210693, -0.8805071115493774, -1.7618647813796997, 2.2386956214904785, -4.244110107421875, 2.524162769317627, -6.643834590911865, 0.36829903721809387, -0.33363330364227295, 1.5161908864974976, 2.2374565601348877, -0.39798101782798767, 0.2728120684623718, -2.7196903228759766, 3.484619379043579, -0.6407622694969177, -1.3970110416412354, 1.3175270557403564, 0.6488146781921387, -4.645397186279297, 1.8636354207992554, 1.0778865814208984, -7.675899982452393, -4.5361809730529785, -4.969814300537109, 0.5652677416801453, -2.423220157623291, 1.0468356609344482, -4.212454795837402, 2.846853256225586, -0.19726963341236115, -2.347285509109497, -1.2963820695877075, -2.5009100437164307, 0.14754869043827057, 1.2050725221633911, 2.237457752227783, -2.5064189434051514, 0.48936229944229126, -2.9365994930267334, -0.5829251408576965, 1.8206201791763306, -3.2041537761688232, -6.457093238830566, -3.3826217651367188, 0.7949924468994141, 2.7699508666992188, -0.036749791353940964, -0.5263354778289795, 1.6292736530303955, -0.96077561378479, -3.600480794906616, 0.10010077059268951, -2.071199655532837, 1.3878841400146484, -1.9499342441558838, -4.893438816070557, -2.4381110668182373, -0.763542890548706, 2.6050593852996826, -5.840033531188965, 0.8490859866142273, -0.1600191444158554, 0.5479228496551514, 1.3973466157913208, -5.184785842895508, 0.5895839929580688, -4.805765151977539, -1.7272188663482666, 2.897371292114258, 1.3686574697494507, -2.784484624862671, -2.4077212810516357, -2.0678651332855225, -0.47801509499549866, 2.9195120334625244, -2.164613962173462, 2.9966278076171875, 1.4258707761764526, -2.2955992221832275, 1.8825035095214844, -1.2076035737991333, -4.392082691192627, -2.2161104679107666, 1.2150013446807861, 0.6119539737701416, 1.0970382690429688, 0.36940887570381165, 2.00193190574646, -0.5579975247383118, -1.1407361030578613], \"z\": [2.0598556995391846, -0.1416330188512802, 0.5403777360916138, 3.0681846141815186, 2.29980206489563, 0.758068859577179, 2.6650991439819336, 0.08842341601848602, -0.5843398571014404, 0.7881878614425659, 3.1236679553985596, 3.1664485931396484, 2.101815700531006, -1.5391085147857666, 2.208024501800537, -0.9542257189750671, 2.780038356781006, -0.8578375577926636, -2.904890537261963, 0.06476365029811859, 2.725267171859741, 2.8428335189819336, -0.11960769444704056, -0.08564158529043198, 1.2149332761764526, 2.6613972187042236, 0.515193521976471, 4.5579304695129395, 0.4013819098472595, -0.888833224773407, 1.0125689506530762, 0.3754569888114929, 0.37720194458961487, 2.8181798458099365, 1.307449221611023, -0.22340184450149536, -0.5460468530654907, 1.6166807413101196, -1.4871731996536255, -0.054010581225156784, 2.0284814834594727, 1.824946403503418, -0.11677180230617523, 2.2864882946014404, 1.1205281019210815, 1.5654531717300415, -1.9239591360092163, 1.122683048248291, 0.7728362679481506, 0.8346031308174133, 3.5788023471832275, -2.4928066730499268, -4.270755767822266, 3.462891101837158, -2.0352132320404053, -0.5028902888298035, -2.938352584838867, 1.9930737018585205, -1.6184120178222656, 1.1510332822799683, 1.0392460823059082, 0.34242749214172363, -0.31864404678344727, 0.5903482437133789, 1.535773515701294, -3.3681678771972656, -2.9894144535064697, 0.3152472972869873, 0.481466144323349, 0.6742584705352783, 1.518295168876648, 1.0064661502838135, -0.023227302357554436, 3.309506893157959, 1.4627457857131958, 1.8749152421951294, -2.5089011192321777, -0.434131383895874, 1.080899715423584, -0.6984851360321045, 1.3202308416366577, 0.5111455321311951, 2.704585552215576, 4.061863422393799, 0.5483033061027527, 0.446029394865036, -2.5787317752838135, -0.6224281787872314, -0.5225136876106262, -0.7944667935371399, 0.3545118272304535, -0.25173506140708923, -0.6200106143951416, 0.3623846471309662, 1.4327563047409058, 1.3723341226577759, 0.9381445050239563, 1.7985789775848389, -0.26205724477767944, 0.6363725662231445, -0.017326921224594116, -2.096173048019409, 1.444359302520752, -3.579413414001465, -0.16154877841472626, 1.4384433031082153, 0.7979934215545654, 1.965025544166565, 0.7184863686561584, -0.7332839369773865, -1.994022250175476, 1.3965075016021729, -1.0449206829071045, -2.1364924907684326, -0.5654088258743286, 2.2539467811584473, -0.22121328115463257, -3.2925901412963867, 2.2786049842834473, 1.1290831565856934, 0.4871031939983368, 4.202693462371826, 0.6885787844657898, 0.1311223804950714, -0.9769414067268372, 3.708223342895508, 1.4528369903564453, 0.6319763660430908, 4.1407470703125, 0.6107815504074097, -0.3648957908153534, 1.2076060771942139, -2.2802700996398926, 1.6933789253234863, 1.4655427932739258, 0.9760305285453796, -2.345613479614258, 1.0054740905761719, 1.713043451309204, 1.0129297971725464, -2.981343984603882, 1.4169268608093262, 0.47707614302635193, -0.1709279865026474, 1.7316943407058716, 0.9381727576255798, -0.569524884223938, -0.20121631026268005, 2.2482054233551025, -1.9242899417877197, 1.9568053483963013, 0.22576364874839783, -2.8550355434417725, 3.4575963020324707, 1.8831197023391724, -0.5942283272743225, 0.698213517665863, -0.5612130761146545, 4.377368450164795, 2.839841842651367, 0.6623262166976929, -1.7549149990081787, 1.7317613363265991, -1.2684073448181152, 0.9653648734092712, 0.755776047706604, 2.256389617919922, 0.6651939153671265, 3.9899303913116455, 0.8878987431526184, 2.4928829669952393, -0.1478787511587143, 0.90453040599823, -0.39007002115249634, -0.79751056432724, -0.5334934592247009, -3.3177130222320557, 0.22575192153453827, 1.1750918626785278, -1.9483503103256226, 0.3980381488800049, 1.1377558708190918, 2.2258968353271484, 0.5995816588401794, 0.03566736727952957, 0.7189610004425049, -2.1224100589752197, -1.372509241104126, 0.6731557250022888, -0.47443893551826477, -0.27427640557289124, 3.298143148422241, 1.204482913017273, -3.2479474544525146, 2.700098991394043, -3.619812488555908, 3.4416470527648926, 1.714810848236084, 2.6114933490753174, 0.4390932023525238, 1.950372576713562, 1.8265525102615356, -0.08915060758590698, -0.12556378543376923, -0.8924448490142822, -0.01296282559633255, 0.7096185088157654, -1.6542545557022095, 0.7786616683006287, 0.11336788535118103, -0.5409247279167175, -2.4492037296295166, 0.28508415818214417, -0.5308874845504761, 2.713609218597412, 1.2948936223983765, 2.2898993492126465, 0.13889531791210175, 1.70949387550354, -3.65276837348938, 0.5227536559104919, 1.476811170578003, 0.09850281476974487, 2.044614553451538, 0.30636659264564514, -0.00708618201315403, -1.8622567653656006, 3.563264846801758, 3.0219357013702393, 2.080162286758423, -0.3940376043319702, -0.8504307270050049]}, {\"hovertemplate\": \"Dominant_Topic=Topic 1<br>0=%{x}<br>1=%{y}<br>2=%{z}<extra></extra>\", \"legendgroup\": \"Topic 1\", \"marker\": {\"color\": \"#EF553B\", \"opacity\": 0.7, \"symbol\": \"circle\"}, \"mode\": \"markers\", \"name\": \"Topic 1\", \"scene\": \"scene\", \"showlegend\": true, \"type\": \"scatter3d\", \"x\": [5.3223772048950195, 4.901848793029785, 3.0349459648132324, 2.3766748905181885, 4.38129997253418, 4.935275554656982, 5.6988959312438965, 4.835132598876953, 3.8441202640533447, 5.5402045249938965, 5.373533725738525, 5.541440486907959, 2.923340320587158, 4.548208236694336, 4.66027307510376, 3.018515110015869, 4.682760238647461, 4.895133018493652, 1.8515857458114624, 7.163347244262695, 4.346458911895752, 2.851611614227295, 5.077415466308594, 3.9004762172698975, 4.741907596588135, 3.544382333755493, 2.6981449127197266, 3.1832833290100098, 1.4253829717636108, 3.731914758682251, 4.708464622497559, 4.332031726837158, 5.112096786499023, 4.738270282745361, 4.196479320526123, 4.607631683349609, 4.288387775421143, 5.383932590484619, 4.957284450531006, 5.007824897766113, 4.117799758911133, 3.009601593017578, 3.802992343902588, 5.038806915283203, 4.9850029945373535, 5.752772331237793, 3.381462574005127, 4.8451247215271, 2.5405750274658203, 4.896120071411133, 1.3886842727661133, 3.2485742568969727, 3.9988744258880615, 4.939996242523193, 3.1461992263793945, 4.918508529663086, 5.417603969573975, 2.2165372371673584, 4.79680871963501, 3.7732598781585693, 5.315891742706299, 3.9510233402252197, 3.3949484825134277, 1.433851718902588, 3.1017284393310547, 3.436220407485962, 4.834101676940918, 4.948876857757568, 3.9939260482788086, 3.8258895874023438, 5.306060314178467, 6.494973659515381, 3.2658801078796387, 5.330347537994385, 4.745884418487549, 4.525627136230469, 3.1345531940460205, 4.938389301300049, 6.447747707366943, 1.7377289533615112, 4.024585247039795, 6.438810348510742, 5.57142972946167, 3.86299204826355, 4.5451555252075195, 3.7773501873016357, 2.358546257019043, 4.791110992431641, 2.77497935295105, 5.083408355712891, 2.415714740753174, 4.370964527130127, 4.839383602142334, 4.472695827484131, 5.160962104797363, 6.467763423919678, 5.092599391937256, 4.0869574546813965, 3.591947555541992, 4.728413105010986, 3.788804769515991, 5.204970836639404, 4.833152770996094, 5.6660332679748535, 4.750974178314209, 3.4756791591644287, 3.561353921890259, 1.909895896911621, 5.448065757751465, 5.348572731018066, 3.4434099197387695, 3.717036724090576, 4.964481830596924, 4.918302536010742, 5.065968990325928, 6.145230293273926, 2.576956033706665, 4.308736324310303, 4.387496471405029, 1.4036800861358643, 5.94635534286499, 2.9515862464904785, 4.81978178024292, 4.881112098693848, 4.525886535644531, 3.539806604385376, 4.076027870178223, 4.375250816345215, 1.6064786911010742, 1.8170634508132935, 5.6924147605896, 3.453242063522339, 5.851017951965332, 5.602095603942871, 4.595445156097412, 1.6130969524383545, 4.810714244842529, 3.18780255317688, 5.623092174530029, 1.439818024635315], \"y\": [0.40468037128448486, 0.26517096161842346, -2.012934684753418, -1.9676048755645752, -2.8780102729797363, 0.2067612260580063, -3.677267551422119, 0.41981855034828186, -1.9622440338134766, 0.2333819568157196, -2.5673680305480957, -2.4555516242980957, 1.40164315700531, -3.0819544792175293, -2.3553059101104736, -1.2554919719696045, 0.7123149633407593, 0.3406735062599182, 0.25537505745887756, -1.8210781812667847, -1.4773963689804077, -0.5689204335212708, -2.444326400756836, -1.5677194595336914, 0.6211512684822083, -0.48104387521743774, -2.2855939865112305, -1.7408812046051025, -2.612520217895508, -1.380088210105896, -0.4914831817150116, -2.768220901489258, -2.245476484298706, -3.0067532062530518, -3.8750884532928467, -2.9059319496154785, 1.016593337059021, -1.1351066827774048, 0.27185356616973877, -2.5454161167144775, -2.0395143032073975, -0.26352035999298096, -2.1068801879882812, -2.6523497104644775, 0.14895203709602356, -2.2757933139801025, -1.4316463470458984, -2.9198949337005615, -0.4663090407848358, 0.3284136950969696, -2.718249797821045, -1.7056312561035156, -2.502389430999756, 0.27836737036705017, -2.1948060989379883, 0.4426693916320801, -1.4141148328781128, -2.387350559234619, -0.15866605937480927, -1.94144606590271, -0.7904025316238403, 0.5085753798484802, 0.6290432810783386, -3.2916369438171387, -0.06579312682151794, 2.0996501445770264, 0.3666107952594757, 0.31695735454559326, -1.522830605506897, -1.7478094100952148, -1.3559592962265015, -4.245122909545898, -1.1462141275405884, -1.5398224592208862, 0.060784414410591125, -2.5621955394744873, 1.2159289121627808, -2.6571030616760254, -1.9001599550247192, -0.40289196372032166, -1.1457438468933105, -1.971138596534729, -0.6374348402023315, -1.0332958698272705, -0.43005406856536865, -1.4561152458190918, -2.3697826862335205, 0.17679651081562042, -0.18610930442810059, -0.13399064540863037, -0.403743714094162, -2.002991199493408, -2.0879549980163574, -2.490550994873047, -2.320363759994507, -1.5877459049224854, -2.7447216510772705, -3.990541458129883, -1.280954122543335, -3.1177444458007812, 1.4946399927139282, -2.6293270587921143, -0.12985241413116455, -2.144700765609741, 0.09834606945514679, 0.7865915894508362, -2.1437671184539795, -0.6951932311058044, -0.20384247601032257, -0.9275418519973755, 1.0265182256698608, -2.048267364501953, 0.17304059863090515, 0.6965196132659912, -2.106135845184326, -1.4491040706634521, -0.5709866881370544, -1.7249541282653809, -2.2555699348449707, -1.4369480609893799, -3.827171802520752, -2.1399550437927246, 0.3711267113685608, 0.6978058815002441, -2.957585096359253, -0.1508256196975708, 1.3825761079788208, 0.8025966882705688, -2.678471326828003, -2.7282001972198486, -2.0336978435516357, 1.655970811843872, -2.3268277645111084, -1.4556307792663574, 0.2042486071586609, -3.143655300140381, 0.501096785068512, 0.48041245341300964, -2.9285635948181152, -1.7288466691970825], \"z\": [15.80616283416748, 13.379234313964844, 11.823908805847168, 12.879847526550293, 7.602565288543701, 11.94853401184082, 4.998912811279297, 16.179283142089844, 5.394768714904785, 15.048627853393555, 9.445427894592285, 8.3460054397583, 7.598160743713379, 7.712001323699951, 8.222271919250488, 4.885600566864014, 15.188077926635742, 15.663196563720703, 6.731266498565674, 9.093201637268066, 10.187190055847168, 5.371356964111328, 8.853294372558594, 6.422774791717529, 15.422496795654297, 4.840992450714111, 10.846752166748047, 5.114037036895752, 6.0017991065979, 10.437865257263184, 10.953232765197754, 4.3542561531066895, 9.622902870178223, 4.90234375, 9.849136352539062, 7.680500030517578, 10.434309959411621, 12.402976989746094, 15.18990707397461, 8.93641471862793, 7.290538787841797, 6.610457897186279, 5.9872307777404785, 7.65123176574707, 14.659162521362305, 9.138583183288574, 13.242512702941895, 9.750946998596191, 6.881556987762451, 12.071595191955566, 5.772356986999512, 4.9630656242370605, 5.536769866943359, 15.173067092895508, 11.022889137268066, 13.826498985290527, 11.845375061035156, 10.36184024810791, 13.741264343261719, 6.337882041931152, 12.86039924621582, 5.725625514984131, 7.632866859436035, 6.106278896331787, 6.644821643829346, 5.036317825317383, 16.41689682006836, 13.084795951843262, 11.6890287399292, 11.893383026123047, 11.721414566040039, 5.136889457702637, 14.229174613952637, 11.758906364440918, 16.967544555664062, 7.461669445037842, 7.692349433898926, 8.280854225158691, 9.69704818725586, 5.997048854827881, 13.157476425170898, 9.478211402893066, 13.204371452331543, 13.603086471557617, 13.763751029968262, 12.459691047668457, 10.52701187133789, 14.594117164611816, 6.990745544433594, 13.948588371276855, 6.887604236602783, 8.07876205444336, 10.385092735290527, 7.18098783493042, 9.251733779907227, 11.590252876281738, 9.76089096069336, 9.970706939697266, 13.354398727416992, 8.553728103637695, 9.159863471984863, 10.515456199645996, 14.283883094787598, 9.470085144042969, 16.899654388427734, 7.88685941696167, 5.283327102661133, 6.4573798179626465, 13.732339859008789, 12.51469612121582, 8.022732734680176, 5.820709705352783, 14.773194313049316, 13.946845054626465, 10.722366333007812, 11.831767082214355, 6.1061906814575195, 8.051539421081543, 9.932540893554688, 6.135288715362549, 5.126242160797119, 11.283348083496094, 16.302461624145508, 11.821219444274902, 4.485126972198486, 4.06090784072876, 9.840049743652344, 10.69791316986084, 5.746903419494629, 6.281435489654541, 12.481417655944824, 8.435445785522461, 8.270153045654297, 11.843374252319336, 16.20566749572754, 6.106289863586426, 16.034364700317383, 7.38863468170166, 10.055496215820312, 6.005386829376221]}, {\"hovertemplate\": \"Dominant_Topic=Topic 10<br>0=%{x}<br>1=%{y}<br>2=%{z}<extra></extra>\", \"legendgroup\": \"Topic 10\", \"marker\": {\"color\": \"#00cc96\", \"opacity\": 0.7, \"symbol\": \"circle\"}, \"mode\": \"markers\", \"name\": \"Topic 10\", \"scene\": \"scene\", \"showlegend\": true, \"type\": \"scatter3d\", \"x\": [-1.5642292499542236, 0.8671858906745911, -0.6224652528762817, -1.6777263879776, -0.6207617521286011, -0.9564847946166992, -1.9757386445999146, -1.850239872932434, 0.2578790783882141, 0.8479959964752197, -2.49627947807312, -1.6079984903335571, -0.31318575143814087, -2.62996768951416, -0.8667940497398376, -0.4264373779296875, -1.757999062538147, -1.034623622894287, 0.7402167916297913, -1.9710572957992554, -0.3017224073410034, -2.2220449447631836, -0.14043840765953064, 0.8900609612464905, -2.4271271228790283], \"y\": [-4.112236976623535, -2.589320659637451, -3.5544703006744385, -4.188203811645508, -3.58620023727417, -3.775308847427368, -4.3298420906066895, -4.270095348358154, -3.0755817890167236, -2.6165287494659424, -4.579746246337891, -4.162282466888428, -3.2627928256988525, 1.9609252214431763, -3.7169690132141113, -3.447371244430542, -4.218013286590576, -3.8275249004364014, -2.8896186351776123, -4.3303351402282715, -3.124267101287842, -4.449275016784668, -3.21783185005188, -2.845027446746826, -4.546648979187012], \"z\": [11.0677490234375, 8.351523399353027, 10.41741943359375, 11.178613662719727, 10.525883674621582, 10.71256160736084, 11.300119400024414, 11.24301528930664, 9.900551795959473, 8.734391212463379, 11.527288436889648, 11.168367385864258, 9.899750709533691, -0.34980809688568115, 10.639163970947266, 10.310086250305176, 11.18471908569336, 10.786417007446289, 9.837292671203613, 11.302664756774902, 9.541913986206055, 11.407776832580566, 9.93148136138916, 9.890536308288574, 11.495683670043945]}, {\"hovertemplate\": \"Dominant_Topic=Topic 11<br>0=%{x}<br>1=%{y}<br>2=%{z}<extra></extra>\", \"legendgroup\": \"Topic 11\", \"marker\": {\"color\": \"#ab63fa\", \"opacity\": 0.7, \"symbol\": \"circle\"}, \"mode\": \"markers\", \"name\": \"Topic 11\", \"scene\": \"scene\", \"showlegend\": true, \"type\": \"scatter3d\", \"x\": [2.2669742107391357, 1.6603248119354248, 1.7936464548110962, -2.258068561553955, 0.4782712459564209, 2.846872091293335, 0.03601099178195, 1.7712984085083008, 2.338784694671631, -0.5819320678710938, -3.2309608459472656, 1.402436375617981, 3.3399624824523926, 1.4784059524536133, -1.0668425559997559, -1.6175296306610107, 3.096135377883911, 1.8679746389389038, 1.7438292503356934, 3.2314224243164062, -0.904998242855072, -0.602595329284668, 1.3116261959075928, 2.1887171268463135, 1.6662646532058716, 1.7571206092834473, 0.6546182632446289, -1.2713379859924316, 2.9748313426971436, -1.720057487487793, -3.288785696029663, -3.2999682426452637, -1.0393198728561401, 1.2544102668762207, 1.709281086921692, 0.7116858959197998, 0.6349884867668152, 0.6734062433242798, 1.372659683227539, 2.005643606185913, 1.4795119762420654, 1.2597988843917847, 1.0889976024627686, 0.9389482736587524, 1.208234429359436, 1.9665340185165405, 3.0183162689208984, -3.2857394218444824, 1.2019107341766357, 2.6836483478546143, -0.12557026743888855, 1.8013097047805786, 1.6555171012878418, 1.0920355319976807, -1.2677067518234253, 2.1640732288360596, 1.69593346118927, -1.6525819301605225, 0.8633257150650024, 0.5361348390579224, 0.8199982643127441, 0.3129828870296478, -2.8883843421936035, -1.6579313278198242, 2.001028537750244, -1.7820231914520264, 3.261322259902954, 3.065545082092285, 1.3717522621154785, 1.63004469871521, 0.9502178430557251, -1.4382470846176147, 0.8879663348197937, 0.9635488986968994, 2.3525593280792236, 2.9427406787872314, 2.4956889152526855, -1.5214332342147827, 1.0352970361709595, -2.2381432056427, 1.9768363237380981, -0.8052244186401367, 2.3768885135650635, 2.068521738052368, -1.000817060470581, -2.5231244564056396, -0.8079239726066589, 2.1794824600219727, 0.19450661540031433, 3.6645989418029785, 1.5637145042419434, 0.7592697739601135, 1.5408073663711548, 2.7210075855255127, 1.9622999429702759, 1.338032603263855, 1.4743049144744873, -0.11142992973327637, -2.8552675247192383, 0.9220491051673889, -3.199033498764038, 1.8287409543991089, 0.6508136987686157, -0.1743372231721878, 1.272804856300354, -0.6078846454620361, 1.6336849927902222, -2.86643123626709, 2.6247825622558594, 0.5549103021621704, -0.38873377442359924, -2.8285887241363525, 2.1875722408294678, -1.5868303775787354, 1.5191470384597778, 2.2683045864105225, 2.250051259994507, -1.8423371315002441, 2.2111165523529053, -3.14587664604187, 1.9065239429473877, -1.340959072113037, -1.2056974172592163, -1.1615829467773438, 1.9539251327514648, -2.4104270935058594, 1.7610583305358887, -0.5240168571472168, -0.896006166934967, -0.9093295931816101, 1.918541431427002, 1.586385726928711, -2.6540005207061768, 2.5303053855895996, 3.352267026901245, -1.2775583267211914, 2.4679346084594727, 2.5704405307769775, 2.802978277206421, -1.297447919845581, -3.6905577182769775, -2.383333444595337, -3.303384304046631, 0.5060762166976929, 1.7716675996780396, -1.451777696609497, 1.8667656183242798, 2.073725461959839, 1.098850965499878, -0.6668848991394043, 2.361732244491577, 1.8571522235870361, 2.699998378753662, -1.6020928621292114, 3.05645489692688, 1.9383169412612915, 2.8187429904937744, -1.3474156856536865, 0.8199912905693054, -0.3694576919078827, 0.20741286873817444, 2.6783876419067383, -0.2763918340206146, -3.242447853088379, -0.8433316946029663, 2.392364025115967, -3.540431499481201, -3.235412120819092, 1.8298933506011963, 3.105771780014038, -3.2551686763763428, -1.9123834371566772, 1.4199702739715576, 0.3557506203651428, 1.9266135692596436], \"y\": [4.843332290649414, 3.1516103744506836, 4.088858604431152, 3.1438825130462646, 2.8557558059692383, 3.2193896770477295, 1.2233562469482422, 0.24196498095989227, 5.344967842102051, 2.8290634155273438, 5.439630031585693, 4.155287742614746, 2.1490683555603027, -0.6958221793174744, 2.48530912399292, -0.38268521428108215, 6.138767719268799, 4.743448257446289, 4.342817306518555, 4.205474376678467, 1.3157321214675903, 2.646047830581665, -0.08554775267839432, 5.234986782073975, 1.0656026601791382, 1.9048446416854858, 3.2527947425842285, 0.3705316483974457, 6.048288822174072, 0.500001072883606, 5.030983924865723, 5.691450119018555, 2.0855355262756348, 3.3557145595550537, -0.5311163067817688, 4.687256336212158, 3.8983864784240723, 3.5535483360290527, 1.564958930015564, 5.167177677154541, 0.4570375382900238, 3.492485284805298, 2.699209213256836, 3.2218809127807617, 0.3305383622646332, 4.930248260498047, 6.697842121124268, 4.544703483581543, -2.9732346534729004, 5.8528971672058105, -0.8146380186080933, -1.167453408241272, 2.214386463165283, 3.919900417327881, -0.3239445090293884, 1.2007139921188354, 1.9384231567382812, 1.961756944656372, 0.8932532072067261, 3.997309923171997, 5.404682159423828, 1.113663911819458, 4.154382228851318, -2.0552303791046143, 0.5575851202011108, -0.27358436584472656, 2.1198933124542236, 6.466115951538086, 3.1171512603759766, -0.4038688838481903, 2.9278135299682617, 2.3347058296203613, 1.283951759338379, 3.8959202766418457, 3.6038601398468018, 6.0258941650390625, 4.070641994476318, 2.080514907836914, 4.3028740882873535, 1.5622310638427734, 5.96854305267334, 2.579491138458252, 5.324103355407715, 1.0285578966140747, -1.6263943910598755, 3.3336217403411865, 0.0646558627486229, 4.304135322570801, 3.4406328201293945, 4.902544021606445, 1.4877203702926636, 1.1565678119659424, 1.7997790575027466, 5.667701244354248, 5.314972400665283, 3.726881980895996, -0.40517887473106384, 2.0155084133148193, 1.2865873575210571, 3.6333181858062744, 4.614830017089844, 4.73524284362793, 3.4527015686035156, 2.9514589309692383, 3.066002607345581, 0.712894082069397, -1.1092956066131592, 1.6975882053375244, 0.3174264132976532, 4.595668315887451, -0.42246922850608826, 1.22010338306427, 5.282010555267334, -0.8422123193740845, 1.4424912929534912, 1.6203012466430664, 1.5712404251098633, 1.953691840171814, 1.2251474857330322, 4.350404739379883, 4.191291332244873, -1.9626071453094482, 0.41941413283348083, 1.8546910285949707, 4.769283771514893, 1.1956759691238403, 4.384303092956543, -0.295491486787796, 1.3221460580825806, 0.29975730180740356, 4.7618608474731445, 2.3753762245178223, 1.311785340309143, 5.589266777038574, 7.212802886962891, -2.1276376247406006, 5.142571926116943, 3.8413283824920654, 2.108226776123047, 0.5101088285446167, 4.592875003814697, 0.13457955420017242, 5.077384948730469, 3.57071852684021, -0.69621342420578, 1.743385672569275, 4.798731327056885, 4.638789176940918, 4.356807231903076, 2.9438230991363525, 5.491209030151367, 4.542660236358643, 4.463227272033691, 2.284836530685425, 6.780057430267334, 4.972066402435303, 5.80048131942749, 1.906448245048523, 5.404681205749512, -1.7156333923339844, 1.8455973863601685, 5.846446514129639, -1.104331374168396, 5.046720504760742, -1.512510895729065, 5.512975215911865, 0.3880341649055481, 4.834701061248779, 2.934194564819336, 5.397042274475098, 4.7373762130737305, 2.6567437648773193, -0.8741217255592346, 3.1293723583221436, 4.198567867279053], \"z\": [-5.804663181304932, -10.531965255737305, -11.150513648986816, -5.9192047119140625, 2.3219287395477295, -5.785067081451416, -6.758971691131592, -5.845957279205322, -9.56462287902832, -3.5994842052459717, -8.109823226928711, -11.018343925476074, -7.896610260009766, -6.849745750427246, -3.793868064880371, -3.810032844543457, -12.563284873962402, -7.598211765289307, -11.292469024658203, -3.9806058406829834, -9.966421127319336, -7.67869234085083, -9.781067848205566, -11.9131441116333, -9.584117889404297, -10.166625022888184, -5.895251274108887, -4.63552188873291, -12.49941349029541, -7.4156270027160645, -7.618360996246338, -7.9409589767456055, -6.381505489349365, -10.353669166564941, -7.104625701904297, -5.637206554412842, -4.414473056793213, -9.32841682434082, -8.892961502075195, -11.860702514648438, -7.017441749572754, -4.224308490753174, -9.686400413513184, -5.355144023895264, -7.487879753112793, -8.559836387634277, -5.575098991394043, -6.924585342407227, 6.296667098999023, -12.353893280029297, -5.109932899475098, -6.890202045440674, -10.06539249420166, -8.707985877990723, -4.074860572814941, -10.001977920532227, -10.463153839111328, -5.023586273193359, -7.3148322105407715, -4.276945114135742, -6.390381813049316, -7.323616027832031, -6.662954330444336, -4.610212802886963, -9.110002517700195, -3.6197874546051025, -8.067747116088867, -5.013810157775879, -10.317490577697754, -8.301835060119629, -9.561344146728516, -5.364570617675781, -7.7702813148498535, -10.459898948669434, -3.405609369277954, -12.482345581054688, -10.313289642333984, -5.5788254737854, -10.369528770446777, -3.641723394393921, -6.435936450958252, -7.6817307472229, -9.924378395080566, -9.912080764770508, -3.8658509254455566, -6.0929155349731445, -5.295438766479492, -10.919873237609863, -9.443371772766113, -5.748799800872803, -8.90141773223877, -7.690967082977295, -9.427775382995605, -5.358267784118652, -8.548443794250488, -3.778820037841797, -8.278053283691406, -7.422784328460693, -2.641387462615967, -6.344694137573242, -7.112248420715332, -7.811091899871826, -9.644689559936523, -5.527146816253662, -4.945581912994385, -6.742267608642578, -6.301547527313232, -3.913780927658081, -9.821895599365234, -11.012149810791016, -6.874314785003662, -2.814551830291748, -7.648724555969238, -3.659050703048706, -9.217759132385254, -9.319863319396973, -9.419696807861328, -4.874480724334717, -10.097151756286621, -6.7521586418151855, -11.26723575592041, -4.811577320098877, -4.851116180419922, -5.669943809509277, -6.908157825469971, -2.4614477157592773, -11.344308853149414, -6.834956169128418, -9.949117660522461, -5.931210994720459, -11.59969711303711, -10.643729209899902, -2.856396436691284, -5.586537837982178, -5.14912748336792, -4.657802104949951, -5.467071056365967, -3.51491379737854, -10.096811294555664, -6.949792861938477, -7.363819122314453, -3.2730424404144287, -7.504082202911377, -9.773904800415039, -7.512722492218018, -5.786650657653809, -8.78256607055664, -11.587852478027344, -10.944428443908691, -5.964595794677734, -12.100281715393066, -11.42483901977539, -4.987890720367432, -3.354590654373169, -5.8863606452941895, -4.827661991119385, -4.849350929260254, -6.1523895263671875, -6.390389442443848, -4.787374973297119, -7.392165660858154, -12.351789474487305, -5.509964942932129, -7.8149213790893555, -4.062149524688721, -12.116094589233398, -3.793640613555908, -7.405485153198242, -10.53114128112793, -5.724469184875488, -7.17861270904541, -5.790757656097412, -6.856350898742676, -5.871358871459961, -12.35331916809082]}, {\"hovertemplate\": \"Dominant_Topic=Topic 12<br>0=%{x}<br>1=%{y}<br>2=%{z}<extra></extra>\", \"legendgroup\": \"Topic 12\", \"marker\": {\"color\": \"#FFA15A\", \"opacity\": 0.7, \"symbol\": \"circle\"}, \"mode\": \"markers\", \"name\": \"Topic 12\", \"scene\": \"scene\", \"showlegend\": true, \"type\": \"scatter3d\", \"x\": [2.5937798023223877, -7.857518672943115, -3.421851634979248, -3.3752553462982178], \"y\": [10.408915519714355, 1.0837374925613403, 6.027418613433838, 5.963958740234375], \"z\": [-0.01736503839492798, -3.399245023727417, -7.535130023956299, -7.704779624938965]}, {\"hovertemplate\": \"Dominant_Topic=Topic 13<br>0=%{x}<br>1=%{y}<br>2=%{z}<extra></extra>\", \"legendgroup\": \"Topic 13\", \"marker\": {\"color\": \"#19d3f3\", \"opacity\": 0.7, \"symbol\": \"circle\"}, \"mode\": \"markers\", \"name\": \"Topic 13\", \"scene\": \"scene\", \"showlegend\": true, \"type\": \"scatter3d\", \"x\": [0.8783989548683167, -0.32024505734443665, 0.5070126056671143, -0.5601772665977478, 0.4684129059314728, 0.5423887968063354], \"y\": [-5.019204139709473, -4.688743591308594, -4.4026384353637695, -4.760714054107666, -4.224382400512695, -4.268386363983154], \"z\": [0.6592110395431519, 1.7075719833374023, 1.1671210527420044, 1.8627772331237793, 1.248516321182251, 1.1831082105636597]}, {\"hovertemplate\": \"Dominant_Topic=Topic 2<br>0=%{x}<br>1=%{y}<br>2=%{z}<extra></extra>\", \"legendgroup\": \"Topic 2\", \"marker\": {\"color\": \"#FF6692\", \"opacity\": 0.7, \"symbol\": \"circle\"}, \"mode\": \"markers\", \"name\": \"Topic 2\", \"scene\": \"scene\", \"showlegend\": true, \"type\": \"scatter3d\", \"x\": [4.608183860778809, 3.898066759109497, 7.374911785125732, 7.330746650695801, 5.289719581604004, 4.1690993309021, 7.29976224899292, 2.856619119644165, 7.3271918296813965, 3.2576351165771484, 4.822379112243652, 3.629054546356201, 3.398880958557129, 6.9505181312561035, 6.693698406219482, 5.8573384284973145, 3.751479387283325, 4.82670783996582, -9.720727920532227, 6.82297945022583, -9.537485122680664, 5.255198001861572, 3.7267487049102783, 2.432454824447632, 6.25024938583374, 3.978893280029297, 6.152831077575684, 2.518256664276123, 5.495760917663574, 7.0824408531188965, 3.1144638061523438, 7.156542778015137, 3.6037981510162354, 5.3030686378479, 5.944495677947998, 3.6345605850219727, 7.198807716369629, 2.0973191261291504, 5.917603969573975, 5.6038384437561035, 2.997454881668091, 3.587348222732544, 6.080780506134033, 3.620778799057007, 7.284035682678223, 5.511503219604492, 3.116117000579834, 7.399616241455078, 3.075648546218872, 6.116113185882568, 4.249934196472168, 4.207180023193359, 5.589580535888672, 3.7211527824401855, 2.911543607711792, 2.6704142093658447, 7.491960525512695, 3.3274106979370117, 4.813957691192627, 6.806049346923828, 6.679143905639648, 2.765193462371826, 6.676276683807373, 3.709859609603882, 2.238051414489746, 5.785947799682617, 6.350582122802734, 5.014811992645264, 5.1111345291137695, 6.988999366760254, 2.8284428119659424, 5.010926723480225, 3.0625476837158203, 7.153584003448486, 5.995799541473389, 2.50860595703125, 4.691287994384766, 5.388050079345703, 3.3077805042266846, 3.6940197944641113, 5.429742813110352, 6.43186092376709, 3.71854829788208, 5.178247928619385, 2.9245104789733887, 2.9975318908691406, 4.094324111938477, 7.480981349945068, 3.8889076709747314, 1.945905089378357, 4.8469038009643555, 5.698566913604736, 4.960450172424316, 7.0838518142700195, 4.34588623046875, 7.405335903167725, 7.08573579788208, 6.92604923248291, 2.895629644393921, 4.766974449157715, 7.339440822601318, 6.001257419586182, 5.885865211486816, 4.015487194061279, 4.713741779327393, 6.216928958892822, 3.194532632827759, 6.226454734802246, 3.1331729888916016, 6.343281269073486], \"y\": [6.549428939819336, 7.5412445068359375, 10.574182510375977, 12.645669937133789, 4.931558132171631, 7.112608909606934, 11.714491844177246, 4.91519021987915, 12.619271278381348, 10.046025276184082, 7.809390068054199, 6.330772399902344, 6.915519714355469, 9.259623527526855, 10.408788681030273, 9.354357719421387, 7.375962734222412, 7.905897617340088, 3.557846784591675, 10.855741500854492, 3.468892812728882, 10.465357780456543, 6.629443645477295, 5.303194046020508, 8.48222541809082, 5.8893914222717285, 11.542555809020996, 5.819709300994873, 10.722085952758789, 11.176907539367676, 0.9159981608390808, 11.73929214477539, 6.533185958862305, 4.759921550750732, 8.497716903686523, 0.17205342650413513, 11.573966026306152, 5.5760650634765625, 9.430294036865234, 9.258785247802734, 6.592364311218262, 7.016315460205078, 8.397849082946777, 7.547988414764404, 12.07903003692627, 8.593761444091797, 6.326460361480713, 12.271166801452637, 5.995141506195068, 9.620781898498535, 7.334393501281738, 7.623281002044678, 8.776006698608398, 7.060985565185547, 5.982226371765137, 5.566285133361816, 11.887667655944824, 8.38084602355957, 8.144062042236328, 10.463364601135254, 12.45248031616211, 5.850863933563232, 9.879000663757324, 7.422553539276123, 5.009733200073242, 6.592199802398682, 9.011246681213379, 7.891585826873779, 7.922103404998779, 9.951367378234863, 5.977682113647461, 8.27060317993164, 6.011866569519043, 9.435468673706055, 8.049688339233398, 5.39325475692749, 8.123409271240234, 7.238527774810791, 3.7367637157440186, 5.555993556976318, 7.655675411224365, 10.51062297821045, 9.369160652160645, 4.276140213012695, 5.911296844482422, 5.001034259796143, 6.693345546722412, 12.634605407714844, 4.320035934448242, 4.849361896514893, 7.3749847412109375, 9.336185455322266, 8.621421813964844, 11.003510475158691, 7.573760509490967, 12.262662887573242, 12.392539024353027, 11.05427360534668, 5.970619201660156, 7.813425064086914, 12.659265518188477, 11.297847747802734, 6.661810874938965, 7.678340435028076, 6.672262191772461, 9.669473648071289, 6.836703777313232, 9.232251167297363, 10.123712539672852, 9.07203197479248], \"z\": [-0.20354704558849335, -3.4635751247406006, -0.2213781625032425, -0.11820617318153381, -1.3168693780899048, -1.2696372270584106, -0.2949502766132355, -3.6925694942474365, 0.035959042608737946, 0.08979357779026031, 0.7663028240203857, -0.735092282295227, 1.4180569648742676, -0.37978625297546387, -0.7460401058197021, -1.8627208471298218, -3.4138693809509277, 0.7391130924224854, -0.6029277443885803, -0.49410006403923035, -0.6271963119506836, 1.4646613597869873, -0.9959642291069031, -2.9980108737945557, -0.4321642220020294, -3.3766982555389404, 0.962830662727356, 0.9273220896720886, 1.3065845966339111, -0.4905410408973694, 3.655717134475708, -0.34520137310028076, -0.7996370196342468, -1.3287463188171387, -0.0648205503821373, 4.04785680770874, -0.36598944664001465, 0.7504844665527344, -1.6779987812042236, -2.3425912857055664, 1.9658970832824707, -3.243889093399048, -0.044274259358644485, -4.683481693267822, -0.16429084539413452, -1.2662694454193115, 0.99123215675354, 0.02003839984536171, 0.8678483963012695, -1.1902854442596436, 0.9669902324676514, -3.107423782348633, -1.4030719995498657, -2.8366966247558594, 0.2566986680030823, -2.0468366146087646, -0.7544320821762085, -2.5575318336486816, -2.172579050064087, -0.5040575265884399, -0.20440609753131866, 1.1145280599594116, -0.5658292770385742, -4.00724458694458, -3.089581251144409, -0.7167342901229858, -0.4081844985485077, -1.127484679222107, -2.5860936641693115, -0.5236693024635315, 0.4329465925693512, -1.7876580953598022, 0.8043808341026306, -1.232878565788269, -0.48167920112609863, -3.248558282852173, -2.492988348007202, -1.4085776805877686, -2.697110652923584, -4.032271862030029, -0.2158116102218628, -2.0271739959716797, 0.6670807003974915, -1.461426019668579, -2.9418301582336426, 1.9977140426635742, -0.45032694935798645, 0.27396416664123535, -2.2212085723876953, -2.9533371925354004, -0.5753161907196045, -1.483608603477478, -2.795016050338745, -1.3173695802688599, 0.6201464533805847, -0.010106719098985195, -0.6236371994018555, -1.0963003635406494, -3.371367931365967, -1.467185139656067, 0.027756202965974808, 1.025145411491394, -0.7293790578842163, -3.5903360843658447, -2.432943820953369, -1.1697591543197632, -5.003770351409912, -0.4146672785282135, 0.043659940361976624, -0.3982580006122589]}, {\"hovertemplate\": \"Dominant_Topic=Topic 3<br>0=%{x}<br>1=%{y}<br>2=%{z}<extra></extra>\", \"legendgroup\": \"Topic 3\", \"marker\": {\"color\": \"#B6E880\", \"opacity\": 0.7, \"symbol\": \"circle\"}, \"mode\": \"markers\", \"name\": \"Topic 3\", \"scene\": \"scene\", \"showlegend\": true, \"type\": \"scatter3d\", \"x\": [3.6644809246063232, 2.390064001083374, 1.3794766664505005, 5.443916320800781, 4.580281734466553, 4.614539623260498, 3.65641188621521, 4.064328670501709, 2.117769241333008, 1.346351981163025, 5.566380023956299, 5.630643844604492, 0.9708924889564514, 1.8818882703781128, 5.304166793823242, 5.049746036529541, 0.9320899844169617, -0.21298298239707947, -1.9505573511123657, 1.2465068101882935, 1.6434073448181152, 3.4772894382476807, 5.607507705688477, 3.503204345703125, 4.459234237670898, -0.2695365250110626, 3.182744026184082, 6.226065158843994, 5.314377784729004, 3.565566301345825, 1.948930263519287, 5.339017868041992, 2.872849941253662, 1.2849112749099731, 5.223964214324951, 2.467653274536133, 0.6720955967903137, 4.420467853546143, 4.747641086578369, 3.2143924236297607, 5.512285232543945, 2.105592727661133, 0.0257275253534317, 2.1558125019073486, 4.7825026512146, 3.6506378650665283, 2.6196048259735107, 4.980040073394775, 4.775245666503906, 1.9659072160720825, 1.7479146718978882, 3.678159475326538, 3.764495849609375, -0.6319695115089417, 5.3785014152526855, 4.751397609710693, 1.445469617843628, 2.907500743865967, 2.040531873703003, 3.032421827316284, 1.179521918296814, 6.51951789855957, 5.169356346130371, 5.692429542541504, 5.4144487380981445, 4.144287109375, 6.502886772155762, 0.5559330582618713, 5.436511993408203, 5.427396774291992, 5.144311428070068, 2.113234519958496, 3.347315788269043, 4.60336971282959, 3.541607618331909, 5.007795333862305, 5.175611972808838, 3.8352301120758057, 1.8881019353866577, 5.220889568328857, 0.4122007191181183, 5.12181282043457, 4.789755344390869, 6.548955917358398, 5.332190036773682, 1.7768771648406982, 3.477677345275879, 5.015061378479004, -2.0208210945129395, 2.0830490589141846, 3.6266677379608154, 3.8283915519714355, 3.196976661682129, 1.3918428421020508, 5.5498948097229, 3.6422131061553955, 3.5407803058624268, 5.614944934844971, 5.432253837585449, 2.111288070678711, 1.6911381483078003, 4.959752559661865, 3.410896062850952, 4.372936248779297, 5.648187160491943, 4.404568672180176, 4.5899338722229, 5.679160118103027, 5.383524417877197, 3.215388536453247, 5.001575469970703, 3.4652786254882812, 1.2937934398651123, 3.057375192642212, 4.216609001159668, 2.353350877761841, 4.933539867401123, 1.24191415309906, 2.87986421585083, 0.7382289171218872, 1.329622507095337, 5.475361347198486, 5.458033084869385, 5.552654266357422], \"y\": [-5.825860977172852, -2.7319693565368652, -4.763073444366455, -8.556254386901855, -10.607293128967285, -1.814314603805542, -5.992712497711182, -4.232780456542969, -4.806966304779053, -4.319780349731445, -4.042816162109375, -11.26545524597168, -1.3346282243728638, -5.697041988372803, -9.072418212890625, -4.429487228393555, -6.485417366027832, -1.7924638986587524, -3.2033753395080566, -7.0059380531311035, -3.8382816314697266, -4.949597358703613, -3.494851589202881, -9.925886154174805, -8.533263206481934, -2.0872015953063965, -3.3519556522369385, -10.203713417053223, -4.096763610839844, -5.085546493530273, -9.555180549621582, -4.048497200012207, -5.996657371520996, -2.1959726810455322, -4.104494094848633, -5.7787556648254395, -1.7560852766036987, -6.795249938964844, -9.652413368225098, -3.707698345184326, -10.767224311828613, -5.869599342346191, -2.542851686477661, -9.504717826843262, -7.819777965545654, -5.00830078125, -4.289166450500488, -8.685873031616211, -9.675092697143555, -1.8497257232666016, -6.775035381317139, -5.07964563369751, -6.284043788909912, -1.8693541288375854, -11.467598915100098, -7.989661693572998, -9.50778865814209, -5.206012725830078, -1.4516903162002563, -3.1941518783569336, -2.166105031967163, -8.375984191894531, -9.211073875427246, -3.177783250808716, -10.51832389831543, -5.8459391593933105, -8.51919174194336, -1.5507019758224487, -11.518542289733887, -4.081791400909424, -6.771125793457031, -1.9238595962524414, -6.072545051574707, -10.622235298156738, -5.877378463745117, -8.804028511047363, -9.224255561828613, -6.3246588706970215, -5.5029096603393555, -9.722887992858887, -1.552711009979248, -8.159393310546875, -10.684854507446289, -8.377494812011719, -8.682360649108887, -5.739136695861816, -4.336318492889404, -10.741844177246094, -3.28234601020813, 2.4754514694213867, -9.957642555236816, -6.253040313720703, -5.475831508636475, -7.192915916442871, -9.685800552368164, -5.2201247215271, -0.7671680450439453, -5.5145745277404785, -8.540305137634277, -4.0987067222595215, -5.9044270515441895, -9.727950096130371, -4.419264793395996, -4.4164204597473145, -11.613834381103516, -6.286205291748047, -7.0877604484558105, -3.3395073413848877, -8.620640754699707, -3.3841392993927, -10.620214462280273, -5.249154567718506, -7.156766414642334, -5.281898498535156, -3.110363721847534, -2.714293956756592, -8.881126403808594, -7.370478630065918, -3.8092424869537354, -3.4194300174713135, -9.30134391784668, -8.92054557800293, -8.54100513458252, -10.838029861450195], \"z\": [-2.195199728012085, -0.4647606313228607, -2.5761406421661377, -4.932199478149414, -2.23164701461792, 0.30796828866004944, -2.7274768352508545, 0.03837614506483078, -0.1850709319114685, -2.7412281036376953, -1.714705228805542, -2.0818910598754883, -4.13397216796875, -0.03136950731277466, -2.623631715774536, -1.8707669973373413, 0.5714927315711975, -3.8768088817596436, -3.2807137966156006, -0.6517552137374878, -2.5325934886932373, -1.4389568567276, -1.8671762943267822, -2.188460111618042, -2.5555152893066406, -4.614277362823486, -1.7502762079238892, -1.2748122215270996, -2.514986753463745, -1.7032270431518555, -1.923654317855835, -0.6407618522644043, -2.8199241161346436, -5.493653774261475, -2.319674015045166, -1.078872799873352, -1.5381439924240112, -2.1052756309509277, -2.5008935928344727, -1.6329461336135864, -2.3782753944396973, -0.7318981289863586, -3.275738477706909, -1.9469412565231323, -2.243997573852539, -1.4872139692306519, -0.5204151272773743, -2.6445767879486084, -2.426210403442383, -6.257627487182617, -1.5554343461990356, -1.4822300672531128, -2.157443046569824, -3.602043628692627, -2.0785434246063232, -2.468538522720337, -1.84408438205719, -2.5479235649108887, 4.342710971832275, -2.034489154815674, -1.3698163032531738, -0.6135208010673523, -2.5711829662323, -2.3306710720062256, -2.3723504543304443, -1.353143572807312, -0.6561585664749146, -4.4616618156433105, -2.112922430038452, -1.9132442474365234, -2.023710012435913, -6.417787075042725, -1.7196553945541382, -2.2168684005737305, -2.400416851043701, -2.4874956607818604, -2.5167336463928223, -2.001498222351074, -0.2204330712556839, -2.659255027770996, -4.674534320831299, -2.450453281402588, -2.2411904335021973, -0.5599755644798279, -4.132094860076904, 0.3144119679927826, -0.6402932405471802, -2.290672779083252, -3.2603352069854736, 3.9512858390808105, -2.223515748977661, -2.6872029304504395, -2.6608264446258545, -1.3051483631134033, -1.9949969053268433, -2.805637836456299, 3.165278434753418, -1.6176902055740356, -4.878108978271484, -2.4366796016693115, 0.3457386791706085, -2.463684320449829, -1.22395920753479, 0.3691660165786743, -2.0934784412384033, -1.6365913152694702, -2.2357306480407715, -2.106990098953247, -4.430685997009277, -1.7368170022964478, -2.1212878227233887, -1.2379652261734009, -1.0631816387176514, -1.349525809288025, 4.0838398933410645, -0.4768475592136383, -2.4572019577026367, -1.4657403230667114, -1.8198357820510864, -2.942483425140381, -1.8155425786972046, -1.9080445766448975, -5.06413459777832, -2.530902147293091]}, {\"hovertemplate\": \"Dominant_Topic=Topic 4<br>0=%{x}<br>1=%{y}<br>2=%{z}<extra></extra>\", \"legendgroup\": \"Topic 4\", \"marker\": {\"color\": \"#FF97FF\", \"opacity\": 0.7, \"symbol\": \"circle\"}, \"mode\": \"markers\", \"name\": \"Topic 4\", \"scene\": \"scene\", \"showlegend\": true, \"type\": \"scatter3d\", \"x\": [1.5974584817886353, -2.7588951587677, 2.004430055618286, 0.47352373600006104, 2.0843894481658936, 2.018991470336914, 1.7106499671936035, 1.5794265270233154, 1.2227046489715576, 2.213884115219116, 0.6694682240486145, 0.588053822517395, 2.429938316345215, 0.4006311595439911, 2.963670253753662, -0.5370845794677734, 2.0282528400421143, -2.5924248695373535, 1.839151382446289, 0.7315167784690857, 3.202343702316284, 0.4982220530509949, 0.608294665813446, 1.2485694885253906, 0.6593735218048096, 3.0173730850219727, 2.484483480453491, 0.7089354991912842, 0.3086843192577362, -0.4046572148799896, 1.5360519886016846, 0.7688073515892029, 2.4746203422546387, 2.27316951751709, 0.03734267130494118, -2.526102066040039, 1.2319552898406982, 2.8875975608825684, 1.2090502977371216, 1.5140780210494995, 0.5757179260253906, 0.91713947057724, 0.7740418910980225, 0.6365957856178284, 0.2760927081108093, 0.5724433660507202, -3.295118570327759, 0.8020151853561401, -0.5337955951690674, 1.8680144548416138, 1.8264930248260498, 1.7549086809158325, -2.8806142807006836, 0.6039614677429199, -3.0148794651031494, -1.2374166250228882, 0.7010434865951538, 0.16942091286182404, 3.2780725955963135, 0.89447021484375, 2.9469454288482666, 2.9965016841888428, -0.6910464763641357, 1.7308911085128784, 1.0959213972091675, 3.115917921066284, 0.7064186930656433, 0.364694744348526, -0.5370166897773743, -0.4137026071548462, 0.5350247025489807, 1.0295532941818237, 0.8858873248100281, 2.713085651397705, 0.6462897062301636, 2.527634382247925, 0.7734761238098145, -0.9910796880722046, -2.9131696224212646, 0.42235276103019714, -0.0983399972319603, 1.5502580404281616, 0.5568472743034363, 0.9390655755996704, 3.357003688812256, 1.0719236135482788, 1.2495472431182861, -0.41012388467788696, 0.8176352381706238, 0.6519930362701416, -1.6442155838012695, 0.7720842361450195, -0.09964931011199951, -2.726055860519409, -3.5756611824035645, 0.8384081721305847], \"y\": [1.1855006217956543, 4.139423847198486, 5.560274600982666, 4.09316873550415, 1.5902913808822632, 2.4536333084106445, 5.912556171417236, 1.4910515546798706, 6.5734100341796875, 4.714851379394531, 7.570642948150635, 6.072388172149658, 3.368196964263916, 3.9897491931915283, 4.601327419281006, 5.377260208129883, 5.5463762283325195, 3.9316561222076416, 4.853623390197754, 6.910995006561279, 4.005214691162109, 6.852192401885986, 8.322151184082031, 5.289139747619629, 8.762297630310059, 2.1362268924713135, 6.182786464691162, 7.181087493896484, 4.030298233032227, 5.648996353149414, 4.189916610717773, 7.165799140930176, 5.457705497741699, 5.014503002166748, 8.291803359985352, 4.425774574279785, 6.16343355178833, 2.5943565368652344, 6.248327732086182, 3.1370036602020264, 1.9312011003494263, 3.9899709224700928, 6.266088008880615, 8.97214412689209, 8.679240226745605, 1.9312297105789185, 3.499643564224243, 5.081040382385254, 4.701012134552002, 4.110044002532959, 5.153416156768799, 4.932442665100098, 3.9554781913757324, 8.115452766418457, 3.519412040710449, 4.100069999694824, 7.968795299530029, 5.3686442375183105, 2.3045425415039062, 8.666877746582031, 4.847287178039551, 4.988037109375, 4.459445953369141, 4.222246170043945, 2.7853713035583496, 3.598510503768921, 8.375792503356934, 6.859501838684082, 5.377255439758301, 4.42552375793457, 6.665609836578369, 3.641150951385498, 8.908202171325684, 3.4764316082000732, 7.694308757781982, 4.47440767288208, 8.22402572631836, 4.409767150878906, 3.9025869369506836, 2.111203908920288, 8.37336540222168, 3.292067766189575, 1.9197090864181519, 8.756064414978027, 4.013629913330078, 6.7037811279296875, 2.5750203132629395, 4.37819766998291, 9.007696151733398, 7.116945743560791, 4.555384635925293, 9.2064790725708, 4.450844764709473, 4.091060161590576, 3.1628079414367676, 8.259538650512695], \"z\": [6.578946113586426, 3.8139002323150635, 7.4694318771362305, 3.4751429557800293, 6.950872898101807, 3.7997031211853027, 7.36564826965332, 6.528866767883301, 5.625247955322266, 4.693658351898193, 7.546565532684326, 6.061894416809082, 5.200631618499756, 3.5861008167266846, 2.4833338260650635, 4.7368059158325195, 7.503385066986084, 3.1105875968933105, 5.942090034484863, 6.401947975158691, 5.125918865203857, 6.824894905090332, 8.56440544128418, 3.304227828979492, 8.934345245361328, 7.574774742126465, 2.854353427886963, 6.827953815460205, 3.1812686920166016, 5.206575393676758, 4.885842323303223, 7.27433443069458, 3.6988680362701416, 7.422772407531738, 8.024526596069336, 4.282613754272461, 6.428470134735107, 4.81197452545166, 7.029728412628174, 4.611215114593506, 8.089411735534668, 3.925891160964966, 6.57961893081665, 8.540080070495605, 8.363358497619629, 8.089990615844727, 3.1610076427459717, 1.034705400466919, 3.2639739513397217, 5.326659202575684, 6.350362300872803, 5.960676193237305, 3.520981788635254, 7.865147113800049, 1.9403190612792969, 2.1168720722198486, 8.11002254486084, 5.908990859985352, 8.032687187194824, 8.284805297851562, 5.874388694763184, 2.3230793476104736, 2.735285758972168, 5.214231491088867, 4.898554801940918, 5.463882923126221, 8.665665626525879, 6.845967769622803, 4.736758708953857, 2.4534709453582764, 6.424488544464111, 4.931948661804199, 8.472757339477539, 5.305541515350342, 7.702702045440674, 6.068414688110352, 7.612006187438965, 2.836852788925171, 3.2801365852355957, 8.077850341796875, 7.863411903381348, 4.8159708976745605, 8.066287994384766, 8.814618110656738, 5.1521897315979, 7.276631832122803, 4.728193759918213, 2.642557144165039, 8.966848373413086, 7.076669692993164, 3.1081111431121826, 9.13589859008789, 2.941333055496216, 3.6370630264282227, 2.5223705768585205, 8.183358192443848]}, {\"hovertemplate\": \"Dominant_Topic=Topic 5<br>0=%{x}<br>1=%{y}<br>2=%{z}<extra></extra>\", \"legendgroup\": \"Topic 5\", \"marker\": {\"color\": \"#FECB52\", \"opacity\": 0.7, \"symbol\": \"circle\"}, \"mode\": \"markers\", \"name\": \"Topic 5\", \"scene\": \"scene\", \"showlegend\": true, \"type\": \"scatter3d\", \"x\": [9.90937328338623, 9.119213104248047, 9.18401050567627, 9.776932716369629, 4.565108776092529, 9.841343879699707, 11.062891960144043, 4.2517805099487305, 9.60021686553955, 9.563246726989746, 10.015978813171387, 10.708815574645996, 9.68313980102539, 8.908271789550781, 10.600666046142578, 10.367773056030273, 10.002120971679688, 9.073171615600586, 3.9300801753997803, 2.3040425777435303, 4.317690372467041, 10.181452751159668, 9.594172477722168, 10.413738250732422, 4.003961563110352, 10.463672637939453, 9.700878143310547], \"y\": [0.32036641240119934, -0.3141810894012451, 0.0717344805598259, -0.2712898254394531, -1.7573232650756836, -0.19237564504146576, -0.09671515226364136, -0.8235747814178467, -0.1618364155292511, -0.23146899044513702, 0.2249300330877304, -0.021121272817254066, 0.04483148828148842, -0.0546523742377758, -0.022374223917722702, 0.22627802193164825, 0.45395511388778687, -0.19238099455833435, -0.5331153273582458, 2.89660906791687, 0.031785909086465836, -0.3520267605781555, 0.3587267994880676, 0.00022462406195700169, 3.926213502883911, -0.14130519330501556, -0.16791580617427826], \"z\": [0.27987387776374817, 0.6857675313949585, 0.6435065865516663, 0.604133665561676, 0.3598092496395111, 0.09214481711387634, -0.31395411491394043, 1.0399936437606812, 0.7603538036346436, 0.4624501168727875, 0.017313580960035324, -0.08310230821371078, 0.8311222791671753, 0.7803521156311035, -0.07995739579200745, 0.27292007207870483, 0.9140565991401672, 0.7436379194259644, 2.718132734298706, -3.1074111461639404, 2.1964714527130127, 0.41079217195510864, 0.3418571352958679, 0.44761279225349426, -4.022701740264893, 0.3601210117340088, 0.19519050419330597]}, {\"hovertemplate\": \"Dominant_Topic=Topic 6<br>0=%{x}<br>1=%{y}<br>2=%{z}<extra></extra>\", \"legendgroup\": \"Topic 6\", \"marker\": {\"color\": \"#636efa\", \"opacity\": 0.7, \"symbol\": \"circle\"}, \"mode\": \"markers\", \"name\": \"Topic 6\", \"scene\": \"scene\", \"showlegend\": true, \"type\": \"scatter3d\", \"x\": [-4.596466064453125, -4.595780372619629, -4.59696626663208, -4.597172260284424, -4.595686912536621, -4.59595251083374], \"y\": [1.5525556802749634, 1.552758812904358, 1.5531091690063477, 1.5541597604751587, 1.5520471334457397, 1.5525681972503662], \"z\": [6.184377670288086, 6.184229373931885, 6.182572364807129, 6.178677558898926, 6.185446739196777, 6.185281276702881]}, {\"hovertemplate\": \"Dominant_Topic=Topic 7<br>0=%{x}<br>1=%{y}<br>2=%{z}<extra></extra>\", \"legendgroup\": \"Topic 7\", \"marker\": {\"color\": \"#EF553B\", \"opacity\": 0.7, \"symbol\": \"circle\"}, \"mode\": \"markers\", \"name\": \"Topic 7\", \"scene\": \"scene\", \"showlegend\": true, \"type\": \"scatter3d\", \"x\": [-0.9975663423538208, 0.3371065855026245, -0.5530540943145752, -0.4101039171218872, 0.3298984467983246, 0.24016883969306946, -1.0929056406021118, -0.7773139476776123, -0.6545052528381348, -0.5243328809738159, -1.6685421466827393, -1.0350762605667114, -1.0340055227279663, -0.4205845296382904, -0.9563595056533813, -0.9512895345687866, -1.047323226928711, -1.0774849653244019, 0.06301096826791763, -1.4498088359832764], \"y\": [-8.130867004394531, -8.150598526000977, -9.203431129455566, -9.987900733947754, -8.223487854003906, -8.079044342041016, -11.21297836303711, -8.582938194274902, -10.378585815429688, -10.116609573364258, -7.4857659339904785, -11.10099983215332, -11.099019050598145, -9.944775581359863, -8.205591201782227, -10.941091537475586, -11.124246597290039, -8.180474281311035, -7.984002113342285, -8.00460147857666], \"z\": [-1.7086879014968872, -1.5940947532653809, -1.611760139465332, -1.5231298208236694, -1.6040551662445068, -1.592890739440918, -1.1346935033798218, -1.65556800365448, -1.4180893898010254, -1.4826124906539917, -2.1758482456207275, -1.1728681325912476, -1.173522710800171, -1.5288093090057373, -1.6880974769592285, -1.2257969379425049, -1.1647844314575195, -1.6904584169387817, -1.6000934839248657, -1.6663525104522705]}, {\"hovertemplate\": \"Dominant_Topic=Topic 8<br>0=%{x}<br>1=%{y}<br>2=%{z}<extra></extra>\", \"legendgroup\": \"Topic 8\", \"marker\": {\"color\": \"#00cc96\", \"opacity\": 0.7, \"symbol\": \"circle\"}, \"mode\": \"markers\", \"name\": \"Topic 8\", \"scene\": \"scene\", \"showlegend\": true, \"type\": \"scatter3d\", \"x\": [-9.847177505493164, -9.847269058227539], \"y\": [3.3157386779785156, 3.3153767585754395], \"z\": [4.114509582519531, 4.114711761474609]}, {\"hovertemplate\": \"Dominant_Topic=Topic 9<br>0=%{x}<br>1=%{y}<br>2=%{z}<extra></extra>\", \"legendgroup\": \"Topic 9\", \"marker\": {\"color\": \"#ab63fa\", \"opacity\": 0.7, \"symbol\": \"circle\"}, \"mode\": \"markers\", \"name\": \"Topic 9\", \"scene\": \"scene\", \"showlegend\": true, \"type\": \"scatter3d\", \"x\": [-2.0445094108581543, -1.23634934425354], \"y\": [-6.906517028808594, -2.7977023124694824], \"z\": [-2.657747745513916, -4.428445816040039]}],                        {\"height\": 800, \"legend\": {\"title\": {\"text\": \"Dominant_Topic\"}, \"tracegroupgap\": 0}, \"scene\": {\"domain\": {\"x\": [0.0, 1.0], \"y\": [0.0, 1.0]}, \"xaxis\": {\"title\": {\"text\": \"0\"}}, \"yaxis\": {\"title\": {\"text\": \"1\"}}, \"zaxis\": {\"title\": {\"text\": \"2\"}}}, \"template\": {\"data\": {\"bar\": [{\"error_x\": {\"color\": \"#2a3f5f\"}, \"error_y\": {\"color\": \"#2a3f5f\"}, \"marker\": {\"line\": {\"color\": \"#E5ECF6\", \"width\": 0.5}}, \"type\": \"bar\"}], \"barpolar\": [{\"marker\": {\"line\": {\"color\": \"#E5ECF6\", \"width\": 0.5}}, \"type\": \"barpolar\"}], \"carpet\": [{\"aaxis\": {\"endlinecolor\": \"#2a3f5f\", \"gridcolor\": \"white\", \"linecolor\": \"white\", \"minorgridcolor\": \"white\", \"startlinecolor\": \"#2a3f5f\"}, \"baxis\": {\"endlinecolor\": \"#2a3f5f\", \"gridcolor\": \"white\", \"linecolor\": \"white\", \"minorgridcolor\": \"white\", \"startlinecolor\": \"#2a3f5f\"}, \"type\": \"carpet\"}], \"choropleth\": [{\"colorbar\": {\"outlinewidth\": 0, \"ticks\": \"\"}, \"type\": \"choropleth\"}], \"contour\": [{\"colorbar\": {\"outlinewidth\": 0, \"ticks\": \"\"}, \"colorscale\": [[0.0, \"#0d0887\"], [0.1111111111111111, \"#46039f\"], [0.2222222222222222, \"#7201a8\"], [0.3333333333333333, \"#9c179e\"], [0.4444444444444444, \"#bd3786\"], [0.5555555555555556, \"#d8576b\"], [0.6666666666666666, \"#ed7953\"], [0.7777777777777778, \"#fb9f3a\"], [0.8888888888888888, \"#fdca26\"], [1.0, \"#f0f921\"]], \"type\": \"contour\"}], \"contourcarpet\": [{\"colorbar\": {\"outlinewidth\": 0, \"ticks\": \"\"}, \"type\": \"contourcarpet\"}], \"heatmap\": [{\"colorbar\": {\"outlinewidth\": 0, \"ticks\": \"\"}, \"colorscale\": [[0.0, \"#0d0887\"], [0.1111111111111111, \"#46039f\"], [0.2222222222222222, \"#7201a8\"], [0.3333333333333333, \"#9c179e\"], [0.4444444444444444, \"#bd3786\"], [0.5555555555555556, \"#d8576b\"], [0.6666666666666666, \"#ed7953\"], [0.7777777777777778, \"#fb9f3a\"], [0.8888888888888888, \"#fdca26\"], [1.0, \"#f0f921\"]], \"type\": \"heatmap\"}], \"heatmapgl\": [{\"colorbar\": {\"outlinewidth\": 0, \"ticks\": \"\"}, \"colorscale\": [[0.0, \"#0d0887\"], [0.1111111111111111, \"#46039f\"], [0.2222222222222222, \"#7201a8\"], [0.3333333333333333, \"#9c179e\"], [0.4444444444444444, \"#bd3786\"], [0.5555555555555556, \"#d8576b\"], [0.6666666666666666, \"#ed7953\"], [0.7777777777777778, \"#fb9f3a\"], [0.8888888888888888, \"#fdca26\"], [1.0, \"#f0f921\"]], \"type\": \"heatmapgl\"}], \"histogram\": [{\"marker\": {\"colorbar\": {\"outlinewidth\": 0, \"ticks\": \"\"}}, \"type\": \"histogram\"}], \"histogram2d\": [{\"colorbar\": {\"outlinewidth\": 0, \"ticks\": \"\"}, \"colorscale\": [[0.0, \"#0d0887\"], [0.1111111111111111, \"#46039f\"], [0.2222222222222222, \"#7201a8\"], [0.3333333333333333, \"#9c179e\"], [0.4444444444444444, \"#bd3786\"], [0.5555555555555556, \"#d8576b\"], [0.6666666666666666, \"#ed7953\"], [0.7777777777777778, \"#fb9f3a\"], [0.8888888888888888, \"#fdca26\"], [1.0, \"#f0f921\"]], \"type\": \"histogram2d\"}], \"histogram2dcontour\": [{\"colorbar\": {\"outlinewidth\": 0, \"ticks\": \"\"}, \"colorscale\": [[0.0, \"#0d0887\"], [0.1111111111111111, \"#46039f\"], [0.2222222222222222, \"#7201a8\"], [0.3333333333333333, \"#9c179e\"], [0.4444444444444444, \"#bd3786\"], [0.5555555555555556, \"#d8576b\"], [0.6666666666666666, \"#ed7953\"], [0.7777777777777778, \"#fb9f3a\"], [0.8888888888888888, \"#fdca26\"], [1.0, \"#f0f921\"]], \"type\": \"histogram2dcontour\"}], \"mesh3d\": [{\"colorbar\": {\"outlinewidth\": 0, \"ticks\": \"\"}, \"type\": \"mesh3d\"}], \"parcoords\": [{\"line\": {\"colorbar\": {\"outlinewidth\": 0, \"ticks\": \"\"}}, \"type\": \"parcoords\"}], \"pie\": [{\"automargin\": true, \"type\": \"pie\"}], \"scatter\": [{\"marker\": {\"colorbar\": {\"outlinewidth\": 0, \"ticks\": \"\"}}, \"type\": \"scatter\"}], \"scatter3d\": [{\"line\": {\"colorbar\": {\"outlinewidth\": 0, \"ticks\": \"\"}}, \"marker\": {\"colorbar\": {\"outlinewidth\": 0, \"ticks\": \"\"}}, \"type\": \"scatter3d\"}], \"scattercarpet\": [{\"marker\": {\"colorbar\": {\"outlinewidth\": 0, \"ticks\": \"\"}}, \"type\": \"scattercarpet\"}], \"scattergeo\": [{\"marker\": {\"colorbar\": {\"outlinewidth\": 0, \"ticks\": \"\"}}, \"type\": \"scattergeo\"}], \"scattergl\": [{\"marker\": {\"colorbar\": {\"outlinewidth\": 0, \"ticks\": \"\"}}, \"type\": \"scattergl\"}], \"scattermapbox\": [{\"marker\": {\"colorbar\": {\"outlinewidth\": 0, \"ticks\": \"\"}}, \"type\": \"scattermapbox\"}], \"scatterpolar\": [{\"marker\": {\"colorbar\": {\"outlinewidth\": 0, \"ticks\": \"\"}}, \"type\": \"scatterpolar\"}], \"scatterpolargl\": [{\"marker\": {\"colorbar\": {\"outlinewidth\": 0, \"ticks\": \"\"}}, \"type\": \"scatterpolargl\"}], \"scatterternary\": [{\"marker\": {\"colorbar\": {\"outlinewidth\": 0, \"ticks\": \"\"}}, \"type\": \"scatterternary\"}], \"surface\": [{\"colorbar\": {\"outlinewidth\": 0, \"ticks\": \"\"}, \"colorscale\": [[0.0, \"#0d0887\"], [0.1111111111111111, \"#46039f\"], [0.2222222222222222, \"#7201a8\"], [0.3333333333333333, \"#9c179e\"], [0.4444444444444444, \"#bd3786\"], [0.5555555555555556, \"#d8576b\"], [0.6666666666666666, \"#ed7953\"], [0.7777777777777778, \"#fb9f3a\"], [0.8888888888888888, \"#fdca26\"], [1.0, \"#f0f921\"]], \"type\": \"surface\"}], \"table\": [{\"cells\": {\"fill\": {\"color\": \"#EBF0F8\"}, \"line\": {\"color\": \"white\"}}, \"header\": {\"fill\": {\"color\": \"#C8D4E3\"}, \"line\": {\"color\": \"white\"}}, \"type\": \"table\"}]}, \"layout\": {\"annotationdefaults\": {\"arrowcolor\": \"#2a3f5f\", \"arrowhead\": 0, \"arrowwidth\": 1}, \"autotypenumbers\": \"strict\", \"coloraxis\": {\"colorbar\": {\"outlinewidth\": 0, \"ticks\": \"\"}}, \"colorscale\": {\"diverging\": [[0, \"#8e0152\"], [0.1, \"#c51b7d\"], [0.2, \"#de77ae\"], [0.3, \"#f1b6da\"], [0.4, \"#fde0ef\"], [0.5, \"#f7f7f7\"], [0.6, \"#e6f5d0\"], [0.7, \"#b8e186\"], [0.8, \"#7fbc41\"], [0.9, \"#4d9221\"], [1, \"#276419\"]], \"sequential\": [[0.0, \"#0d0887\"], [0.1111111111111111, \"#46039f\"], [0.2222222222222222, \"#7201a8\"], [0.3333333333333333, \"#9c179e\"], [0.4444444444444444, \"#bd3786\"], [0.5555555555555556, \"#d8576b\"], [0.6666666666666666, \"#ed7953\"], [0.7777777777777778, \"#fb9f3a\"], [0.8888888888888888, \"#fdca26\"], [1.0, \"#f0f921\"]], \"sequentialminus\": [[0.0, \"#0d0887\"], [0.1111111111111111, \"#46039f\"], [0.2222222222222222, \"#7201a8\"], [0.3333333333333333, \"#9c179e\"], [0.4444444444444444, \"#bd3786\"], [0.5555555555555556, \"#d8576b\"], [0.6666666666666666, \"#ed7953\"], [0.7777777777777778, \"#fb9f3a\"], [0.8888888888888888, \"#fdca26\"], [1.0, \"#f0f921\"]]}, \"colorway\": [\"#636efa\", \"#EF553B\", \"#00cc96\", \"#ab63fa\", \"#FFA15A\", \"#19d3f3\", \"#FF6692\", \"#B6E880\", \"#FF97FF\", \"#FECB52\"], \"font\": {\"color\": \"#2a3f5f\"}, \"geo\": {\"bgcolor\": \"white\", \"lakecolor\": \"white\", \"landcolor\": \"#E5ECF6\", \"showlakes\": true, \"showland\": true, \"subunitcolor\": \"white\"}, \"hoverlabel\": {\"align\": \"left\"}, \"hovermode\": \"closest\", \"mapbox\": {\"style\": \"light\"}, \"paper_bgcolor\": \"white\", \"plot_bgcolor\": \"#E5ECF6\", \"polar\": {\"angularaxis\": {\"gridcolor\": \"white\", \"linecolor\": \"white\", \"ticks\": \"\"}, \"bgcolor\": \"#E5ECF6\", \"radialaxis\": {\"gridcolor\": \"white\", \"linecolor\": \"white\", \"ticks\": \"\"}}, \"scene\": {\"xaxis\": {\"backgroundcolor\": \"#E5ECF6\", \"gridcolor\": \"white\", \"gridwidth\": 2, \"linecolor\": \"white\", \"showbackground\": true, \"ticks\": \"\", \"zerolinecolor\": \"white\"}, \"yaxis\": {\"backgroundcolor\": \"#E5ECF6\", \"gridcolor\": \"white\", \"gridwidth\": 2, \"linecolor\": \"white\", \"showbackground\": true, \"ticks\": \"\", \"zerolinecolor\": \"white\"}, \"zaxis\": {\"backgroundcolor\": \"#E5ECF6\", \"gridcolor\": \"white\", \"gridwidth\": 2, \"linecolor\": \"white\", \"showbackground\": true, \"ticks\": \"\", \"zerolinecolor\": \"white\"}}, \"shapedefaults\": {\"line\": {\"color\": \"#2a3f5f\"}}, \"ternary\": {\"aaxis\": {\"gridcolor\": \"white\", \"linecolor\": \"white\", \"ticks\": \"\"}, \"baxis\": {\"gridcolor\": \"white\", \"linecolor\": \"white\", \"ticks\": \"\"}, \"bgcolor\": \"#E5ECF6\", \"caxis\": {\"gridcolor\": \"white\", \"linecolor\": \"white\", \"ticks\": \"\"}}, \"title\": {\"x\": 0.05}, \"xaxis\": {\"automargin\": true, \"gridcolor\": \"white\", \"linecolor\": \"white\", \"ticks\": \"\", \"title\": {\"standoff\": 15}, \"zerolinecolor\": \"white\", \"zerolinewidth\": 2}, \"yaxis\": {\"automargin\": true, \"gridcolor\": \"white\", \"linecolor\": \"white\", \"ticks\": \"\", \"title\": {\"standoff\": 15}, \"zerolinecolor\": \"white\", \"zerolinewidth\": 2}}}, \"title\": {\"text\": \"3d TSNE Plot for Topic Model\"}, \"width\": 900},                        {\"responsive\": true}                    ).then(function(){\n",
       "                            \n",
       "var gd = document.getElementById('726ecbd5-5ffd-4f1b-8aed-19cc2ff02e8a');\n",
       "var x = new MutationObserver(function (mutations, observer) {{\n",
       "        var display = window.getComputedStyle(gd).display;\n",
       "        if (!display || display === 'none') {{\n",
       "            console.log([gd, 'removed!']);\n",
       "            Plotly.purge(gd);\n",
       "            observer.disconnect();\n",
       "        }}\n",
       "}});\n",
       "\n",
       "// Listen for the removal of the full notebook cells\n",
       "var notebookContainer = gd.closest('#notebook-container');\n",
       "if (notebookContainer) {{\n",
       "    x.observe(notebookContainer, {childList: true});\n",
       "}}\n",
       "\n",
       "// Listen for the clearing of the current output cell\n",
       "var outputEl = gd.closest('.output');\n",
       "if (outputEl) {{\n",
       "    x.observe(outputEl, {childList: true});\n",
       "}}\n",
       "\n",
       "                        })                };                });            </script>        </div>"
      ]
     },
     "metadata": {},
     "output_type": "display_data"
    },
    {
     "data": {
      "text/html": [
       "        <script type=\"text/javascript\">\n",
       "        window.PlotlyConfig = {MathJaxConfig: 'local'};\n",
       "        if (window.MathJax) {MathJax.Hub.Config({SVG: {font: \"STIX-Web\"}});}\n",
       "        if (typeof require !== 'undefined') {\n",
       "        require.undef(\"plotly\");\n",
       "        requirejs.config({\n",
       "            paths: {\n",
       "                'plotly': ['https://cdn.plot.ly/plotly-latest.min']\n",
       "            }\n",
       "        });\n",
       "        require(['plotly'], function(Plotly) {\n",
       "            window._Plotly = Plotly;\n",
       "        });\n",
       "        }\n",
       "        </script>\n",
       "        "
      ]
     },
     "metadata": {},
     "output_type": "display_data"
    },
    {
     "data": {
      "image/png": "[encoded data removed]",
      "text/plain": [
       "<Figure size 720x432 with 1 Axes>"
      ]
     },
     "metadata": {},
     "output_type": "display_data"
    }
   ],
   "source": [
    "plot_model(nmf, plot = 'tsne')\n",
    "\n",
    "plot_model(nmf, plot = 'umap')\n",
    "\n",
    "#plot_model(model, plot = 'topic_model')"
   ]
  },
  {
   "cell_type": "code",
   "execution_count": 12,
   "id": "stock-panel",
   "metadata": {},
   "outputs": [
    {
     "data": {
      "text/plain": [
       "<AxesSubplot:>"
      ]
     },
     "execution_count": 12,
     "metadata": {},
     "output_type": "execute_result"
    },
    {
     "data": {
      "image/png": "[encoded data removed]",
      "text/plain": [
       "<Figure size 720x1440 with 2 Axes>"
      ]
     },
     "metadata": {},
     "output_type": "display_data"
    }
   ],
   "source": [
    "%matplotlib inline\n",
    "import seaborn as sns; sns.set(rc={'figure.figsize':(10,20)})\n",
    "sns.heatmap(document_topic_matrix.loc[document_topic_matrix.idxmax(axis=1).sort_values().index])"
   ]
  },
  {
   "cell_type": "code",
   "execution_count": 13,
   "id": "generous-dryer",
   "metadata": {},
   "outputs": [
    {
     "data": {
      "text/plain": [
       "<AxesSubplot:>"
      ]
     },
     "execution_count": 13,
     "metadata": {},
     "output_type": "execute_result"
    },
    {
     "data": {
      "image/png": "[encoded data removed]",
      "text/plain": [
       "<Figure size 720x360 with 1 Axes>"
      ]
     },
     "metadata": {},
     "output_type": "display_data"
    }
   ],
   "source": [
    "sns.set(rc={'figure.figsize':(10,5)})\n",
    "document_topic_matrix.idxmax(axis=1).value_counts().plot.bar(color='lightblue')"
   ]
  },
  {
   "cell_type": "code",
   "execution_count": 14,
   "id": "collective-highway",
   "metadata": {},
   "outputs": [
    {
     "data": {
      "text/plain": [
       "array([[0.        , 0.        , 0.        , ..., 0.36095934, 0.        ,\n",
       "        0.        ],\n",
       "       [0.00192512, 0.22261559, 0.        , ..., 0.        , 0.        ,\n",
       "        0.        ],\n",
       "       [0.00142372, 0.        , 0.        , ..., 0.        , 0.07461229,\n",
       "        0.07994665],\n",
       "       ...,\n",
       "       [0.        , 0.        , 0.02434191, ..., 0.        , 0.25071284,\n",
       "        0.        ],\n",
       "       [0.        , 0.        , 0.        , ..., 0.        , 0.        ,\n",
       "        0.        ],\n",
       "       [0.        , 0.        , 0.        , ..., 0.        , 0.0037335 ,\n",
       "        0.19756795]])"
      ]
     },
     "execution_count": 14,
     "metadata": {},
     "output_type": "execute_result"
    }
   ],
   "source": [
    "X"
   ]
  },
  {
   "cell_type": "code",
   "execution_count": 15,
   "id": "divine-mailman",
   "metadata": {},
   "outputs": [
    {
     "data": {
      "text/plain": [
       "array([[0.00328901, 0.00928386, 0.00909397, ..., 0.        , 0.        ,\n",
       "        0.00283657],\n",
       "       [0.        , 0.00352659, 0.00563329, ..., 0.00074877, 0.00488248,\n",
       "        0.00065031],\n",
       "       [0.00206298, 0.0044185 , 0.        , ..., 0.00950531, 0.        ,\n",
       "        0.        ],\n",
       "       ...,\n",
       "       [0.00308648, 0.        , 0.        , ..., 0.02713376, 0.        ,\n",
       "        0.        ],\n",
       "       [0.00224527, 0.01174531, 0.00158541, ..., 0.03313712, 0.        ,\n",
       "        0.00042585],\n",
       "       [0.        , 0.00061924, 0.        , ..., 0.07623342, 0.00087953,\n",
       "        0.        ]])"
      ]
     },
     "execution_count": 15,
     "metadata": {},
     "output_type": "execute_result"
    }
   ],
   "source": [
    "Y"
   ]
  },
  {
   "cell_type": "code",
   "execution_count": null,
   "id": "bigger-removal",
   "metadata": {},
   "outputs": [],
   "source": []
  }
 ],
 "metadata": {
  "kernelspec": {
   "display_name": "Python 3",
   "language": "python",
   "name": "python3"
  },
  "language_info": {
   "codemirror_mode": {
    "name": "ipython",
    "version": 3
   },
   "file_extension": ".py",
   "mimetype": "text/x-python",
   "name": "python",
   "nbconvert_exporter": "python",
   "pygments_lexer": "ipython3",
   "version": "3.7.10"
  }
 },
 "nbformat": 4,
 "nbformat_minor": 5
}
