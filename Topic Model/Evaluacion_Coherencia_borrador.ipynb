{
 "cells": [
  {
   "cell_type": "code",
   "execution_count": null,
   "id": "immediate-pressure",
   "metadata": {},
   "outputs": [],
   "source": [
    "from pycaret.nlp import *\n",
    "ruta_modelo = \"../Modelo/LDA-Final\"\n",
    "\n",
    "lda_final = load_model(ruta_modelo)\n",
    "num_topics = len(lda_final.get_topics())\n",
    "\n",
    "import pandas as pd\n",
    "import pickle\n",
    "\n",
    "\n",
    "train_data_dir = \"../Modelo/train/train_data_.sav\"\n",
    "train_tokenized_words_dir = \"../Modelo/train/train_tokenized_words.sav\"\n",
    "train_corpus_dir = \"../Modelo/train/train_corpus.sav\"\n",
    "train_id2word_dir = \"../Modelo/train/train_id2word.sav\"\n",
    "\n",
    "lda_train_results_dir = \"../Modelo/train/lda_train_results.df\"\n",
    "\n",
    "train_data_ = pickle.load(open(train_data_dir, 'rb'))\n",
    "train_tokenized_words = pickle.load(open(train_tokenized_words_dir, 'rb'))                                \n",
    "train_corpus = pickle.load(open(train_corpus_dir, 'rb'))\n",
    "train_id2word = pickle.load(open(train_id2word_dir, 'rb')) #Diccionario gensin\n",
    "\n",
    "lda_train_results = pickle.load(open(lda_train_results_dir, 'rb'))"
   ]
  },
  {
   "cell_type": "code",
   "execution_count": null,
   "id": "indoor-understanding",
   "metadata": {},
   "outputs": [],
   "source": [
    "#Get the topics with the highest coherence score the coherence for each topic.\n",
    "#Each element in the list is a pair of a topic representation and its coherence score. Topic representations are distributions of words, represented as a list of pairs of word IDs and their probabilities.\n",
    "\n",
    "topn = 20\n",
    "u_mass_coherence = lda_final.top_topics(corpus=train_corpus, texts=train_tokenized_words, dictionary=train_id2word, window_size=None, coherence='u_mass', topn=topn, processes=- 1)\n",
    "\n",
    "c_v_coherence = lda_final.top_topics(corpus=train_corpus, texts=train_tokenized_words, dictionary=train_id2word, window_size=None, coherence='c_v', topn=topn, processes=- 1)\n",
    "\n",
    "c_uci_coherence = lda_final.top_topics(corpus=train_corpus, texts=train_tokenized_words, dictionary=train_id2word, window_size=None, coherence='c_uci', topn=topn, processes=- 1)\n",
    "\n",
    "c_npmi_coherence = lda_final.top_topics(corpus=train_corpus, texts=train_tokenized_words, dictionary=train_id2word, window_size=None, coherence='c_npmi', topn=topn, processes=- 1)"
   ]
  },
  {
   "cell_type": "code",
   "execution_count": null,
   "id": "indian-spring",
   "metadata": {},
   "outputs": [],
   "source": [
    "u_mass_coherence[1][1] #[num_topic][]"
   ]
  },
  {
   "cell_type": "code",
   "execution_count": null,
   "id": "statistical-stocks",
   "metadata": {},
   "outputs": [],
   "source": [
    "u_mass_c = 0\n",
    "\n",
    "for u_mass in u_mass_coherence:\n",
    "    u_mass_c = u_mass_c + u_mass[1]"
   ]
  },
  {
   "cell_type": "code",
   "execution_count": null,
   "id": "judicial-russian",
   "metadata": {},
   "outputs": [],
   "source": [
    "u_mass_c/num_topics"
   ]
  },
  {
   "cell_type": "code",
   "execution_count": null,
   "id": "wanted-switzerland",
   "metadata": {},
   "outputs": [],
   "source": [
    "c_v_coherence[13][1]"
   ]
  },
  {
   "cell_type": "code",
   "execution_count": null,
   "id": "spatial-nitrogen",
   "metadata": {},
   "outputs": [],
   "source": [
    "c_v_c = 0\n",
    "\n",
    "for c_v in c_v_coherence:\n",
    "    c_v_c = c_v_c + c_v[1]"
   ]
  },
  {
   "cell_type": "code",
   "execution_count": null,
   "id": "stuck-parish",
   "metadata": {},
   "outputs": [],
   "source": [
    "c_v_c/num_topics"
   ]
  },
  {
   "cell_type": "code",
   "execution_count": null,
   "id": "prime-meaning",
   "metadata": {},
   "outputs": [],
   "source": [
    "c_uci_coherence[0][1]"
   ]
  },
  {
   "cell_type": "code",
   "execution_count": null,
   "id": "surface-partner",
   "metadata": {},
   "outputs": [],
   "source": [
    "c_npmi_coherence[0][1]"
   ]
  },
  {
   "cell_type": "code",
   "execution_count": null,
   "id": "incomplete-aaron",
   "metadata": {},
   "outputs": [],
   "source": []
  }
 ],
 "metadata": {
  "kernelspec": {
   "display_name": "Python 3",
   "language": "python",
   "name": "python3"
  },
  "language_info": {
   "codemirror_mode": {
    "name": "ipython",
    "version": 3
   },
   "file_extension": ".py",
   "mimetype": "text/x-python",
   "name": "python",
   "nbconvert_exporter": "python",
   "pygments_lexer": "ipython3",
   "version": "3.7.10"
  }
 },
 "nbformat": 4,
 "nbformat_minor": 5
}
